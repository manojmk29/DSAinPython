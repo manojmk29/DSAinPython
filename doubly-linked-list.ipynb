{
 "cells": [
  {
   "cell_type": "code",
   "execution_count": null,
   "metadata": {},
   "outputs": [],
   "source": []
  },
  {
   "cell_type": "code",
   "execution_count": 1,
   "metadata": {},
   "outputs": [],
   "source": [
    "class node():\n",
    "    def __init__(self,val,prev=None,next=None) -> None:\n",
    "        if(prev==None):\n",
    "            self.prev=prev\n",
    "        else:\n",
    "            self.prev=prev\n",
    "            prev.next=self\n",
    "        self.data=val\n",
    "        if(next==None):\n",
    "            self.next=next\n",
    "        else:\n",
    "            self.next=next\n",
    "            next.prev=self\n",
    "class dll:\n",
    "    def __init__(self):\n",
    "        self.head=None\n",
    "        self.tail=None\n",
    "        self.length=0\n",
    "    def append_right(self,node):\n",
    "        if(self.head is None):\n",
    "            self.head=node\n",
    "            self.tail=node\n",
    "        else:\n",
    "            node.prev=self.tail\n",
    "            self.tail.next=node\n",
    "            self.tail=node\n",
    "        self.length+=1\n",
    "    def append_left(self,node):\n",
    "        if(self.head is None):\n",
    "            self.head=node\n",
    "            self.tail=node\n",
    "        else:\n",
    "            node.next=self.head\n",
    "            self.head.prev=node\n",
    "            self.head=node\n",
    "        self.length+=1\n",
    "    def insert_right(self,node1,node2):\n",
    "        temp=node1.next\n",
    "        node1.next=node2\n",
    "        node2.prev=node1\n",
    "        if(temp!=None):\n",
    "            node2.next=temp\n",
    "            temp.prev=node2\n",
    "        else:\n",
    "            self.tail=node2\n",
    "        self.length+=1\n",
    "    def insert_left(self,node1,node2):\n",
    "        temp=node1.prev\n",
    "        node1.prev=node2\n",
    "        node2.next=node1\n",
    "        if(temp!=None):\n",
    "            node2.prev=temp\n",
    "            temp.next=node2\n",
    "        else:\n",
    "            self.head=node2\n",
    "        self.length+=1\n",
    "    def print_ddl(self):\n",
    "        temp=self.head\n",
    "        i=1\n",
    "        while(temp!=None):\n",
    "            print(i,\"---\",temp.data)\n",
    "            i+=1\n",
    "            temp=temp.next\n"
   ]
  },
  {
   "cell_type": "code",
   "execution_count": 13,
   "metadata": {},
   "outputs": [
    {
     "name": "stdout",
     "output_type": "stream",
     "text": [
      "1 --- 6\n",
      "2 --- 5\n",
      "3 --- 7\n",
      "4 --- 1\n",
      "5 --- 2\n",
      "6 --- 3\n",
      "7 --- 4\n",
      "True\n",
      "--------------------------\n"
     ]
    }
   ],
   "source": [
    "n1=node(1)\n",
    "n2=node(2)\n",
    "n3=node(3)\n",
    "n4=node(4)\n",
    "n5=node(5)\n",
    "n6=node(6)\n",
    "obj=dll()\n",
    "obj.append_right(n1)\n",
    "# obj.print_ddl()\n",
    "# print(\"--------------------------\")\n",
    "obj.append_right(n2)\n",
    "# obj.print_ddl()\n",
    "# print(\"--------------------------\")\n",
    "obj.append_right(n3)\n",
    "# obj.print_ddl()\n",
    "# print(\"--------------------------\")\n",
    "obj.append_right(n4)\n",
    "# obj.print_ddl()\n",
    "# print(\"--------------------------\")\n",
    "obj.append_left(n5)\n",
    "# obj.print_ddl()\n",
    "# print(\"--------------------------\")\n",
    "n7=node(7)\n",
    "n8=node(8)\n",
    "n9=node(9)\n",
    "obj.insert_left(n5,n6)\n",
    "# obj.print_ddl()\n",
    "# print(\"--------------------------\")\n",
    "obj.insert_right(n5,n7)\n",
    "obj.print_ddl()\n",
    "print(obj.head==n6)\n",
    "print(\"--------------------------\")"
   ]
  },
  {
   "cell_type": "code",
   "execution_count": 3,
   "metadata": {},
   "outputs": [],
   "source": [
    "class aa:\n",
    "    def __init__(self,val):\n",
    "        val.next=self"
   ]
  },
  {
   "cell_type": "code",
   "execution_count": 12,
   "metadata": {},
   "outputs": [
    {
     "ename": "NameError",
     "evalue": "name 'c' is not defined",
     "output_type": "error",
     "traceback": [
      "\u001b[1;31m---------------------------------------------------------------------------\u001b[0m",
      "\u001b[1;31mNameError\u001b[0m                                 Traceback (most recent call last)",
      "\u001b[1;32m~\\AppData\\Local\\Temp/ipykernel_30232/1453895245.py\u001b[0m in \u001b[0;36m<module>\u001b[1;34m\u001b[0m\n\u001b[1;32m----> 1\u001b[1;33m \u001b[0mc\u001b[0m \u001b[1;32mis\u001b[0m \u001b[1;32mNone\u001b[0m\u001b[1;33m\u001b[0m\u001b[1;33m\u001b[0m\u001b[0m\n\u001b[0m",
      "\u001b[1;31mNameError\u001b[0m: name 'c' is not defined"
     ]
    }
   ],
   "source": [
    "c is None"
   ]
  },
  {
   "cell_type": "code",
   "execution_count": 18,
   "metadata": {},
   "outputs": [
    {
     "name": "stdout",
     "output_type": "stream",
     "text": [
      "8\n",
      "9\n"
     ]
    }
   ],
   "source": [
    "n1=node(8)\n",
    "val=n1.data\n",
    "n1.data=9\n",
    "print(val)\n",
    "val=n1.data\n",
    "print(val)"
   ]
  },
  {
   "cell_type": "code",
   "execution_count": 22,
   "metadata": {},
   "outputs": [],
   "source": [
    "a=node(1)\n",
    "b=node(1)\n",
    "a.next=b"
   ]
  },
  {
   "cell_type": "code",
   "execution_count": 25,
   "metadata": {},
   "outputs": [],
   "source": [
    "a=0\n",
    "def g():\n",
    "    a=5\n",
    "g()"
   ]
  },
  {
   "cell_type": "code",
   "execution_count": 1,
   "metadata": {},
   "outputs": [
    {
     "data": {
      "text/plain": [
       "True"
      ]
     },
     "execution_count": 1,
     "metadata": {},
     "output_type": "execute_result"
    }
   ],
   "source": [
    "import math\n",
    "p=pow(10,100)\n",
    "v=math.inf\n",
    "p<v"
   ]
  },
  {
   "cell_type": "code",
   "execution_count": 7,
   "metadata": {},
   "outputs": [
    {
     "data": {
      "text/plain": [
       "8"
      ]
     },
     "execution_count": 7,
     "metadata": {},
     "output_type": "execute_result"
    }
   ],
   "source": [
    "p"
   ]
  },
  {
   "cell_type": "code",
   "execution_count": 1,
   "metadata": {},
   "outputs": [
    {
     "data": {
      "text/plain": [
       "True"
      ]
     },
     "execution_count": 1,
     "metadata": {},
     "output_type": "execute_result"
    }
   ],
   "source": [
    "s=\"aba\"\n",
    "s==s[::-1]"
   ]
  },
  {
   "cell_type": "code",
   "execution_count": 2,
   "metadata": {},
   "outputs": [],
   "source": [
    "def f():\n",
    "    return(1,2)\n",
    "a,b=f()"
   ]
  },
  {
   "cell_type": "code",
   "execution_count": 3,
   "metadata": {},
   "outputs": [
    {
     "data": {
      "text/plain": [
       "1"
      ]
     },
     "execution_count": 3,
     "metadata": {},
     "output_type": "execute_result"
    }
   ],
   "source": [
    "a"
   ]
  },
  {
   "cell_type": "code",
   "execution_count": 4,
   "metadata": {},
   "outputs": [
    {
     "data": {
      "text/plain": [
       "2"
      ]
     },
     "execution_count": 4,
     "metadata": {},
     "output_type": "execute_result"
    }
   ],
   "source": [
    "b"
   ]
  },
  {
   "cell_type": "code",
   "execution_count": null,
   "metadata": {},
   "outputs": [],
   "source": []
  }
 ],
 "metadata": {
  "interpreter": {
   "hash": "11ad92808b9e536a1bda76e6f18576c204b1bdc67c9013f7331a2b858d211f20"
  },
  "kernelspec": {
   "display_name": "Python 3.9.6 64-bit",
   "language": "python",
   "name": "python3"
  },
  "language_info": {
   "codemirror_mode": {
    "name": "ipython",
    "version": 3
   },
   "file_extension": ".py",
   "mimetype": "text/x-python",
   "name": "python",
   "nbconvert_exporter": "python",
   "pygments_lexer": "ipython3",
   "version": "3.9.6"
  },
  "orig_nbformat": 4
 },
 "nbformat": 4,
 "nbformat_minor": 2
}
