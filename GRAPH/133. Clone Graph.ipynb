{
 "cells": [
  {
   "cell_type": "code",
   "execution_count": 1,
   "metadata": {},
   "outputs": [],
   "source": [
    "class Node:\n",
    "    def __init__(self, val = 0, neighbors = None):\n",
    "        self.val = val\n",
    "        self.neighbors = neighbors if neighbors is not None else []\n",
    "from collections import defaultdict"
   ]
  },
  {
   "cell_type": "code",
   "execution_count": 2,
   "metadata": {},
   "outputs": [],
   "source": [
    "class Solution:\n",
    "    def cloneGraph(self, node: 'Node') -> 'Node':\n",
    "        hmap=defaultdict(set)\n",
    "        temp=[node]\n",
    "        hset={node}\n",
    "        while(temp):\n",
    "            nxt=[]\n",
    "            for i in temp:\n",
    "                for j in i.neighbors:\n",
    "                        hmap[j.val].add(i.val)\n",
    "                        hmap[i.val].add(j.val)\n",
    "                        if j not in hset:\n",
    "                            nxt.append(j)\n",
    "                            hset.add(j)\n",
    "            temp=nxt\n",
    "        hset=set()\n",
    "        nmap={}\n",
    "        def dfs(cur):\n",
    "            if cur not in hset:\n",
    "                if cur in nmap:\n",
    "                    nd=nmap[cur]\n",
    "                else:\n",
    "                    nd=Node(cur)\n",
    "                    nmap[cur]=nd\n",
    "                hset.add(cur)\n",
    "                for j in hmap[cur]:\n",
    "                    if j in nmap:\n",
    "                        td=nmap[j]\n",
    "                    else:\n",
    "                        td=Node(j)\n",
    "                        nmap[j]=td\n",
    "                    cur.neighbors.append(td)\n",
    "                    dfs(td)\n",
    "        ret=Node(1)\n",
    "        dfs(ret)\n",
    "        return(ret)"
   ]
  },
  {
   "cell_type": "code",
   "execution_count": null,
   "metadata": {},
   "outputs": [
    {
     "ename": "",
     "evalue": "",
     "output_type": "error",
     "traceback": [
      "\u001b[1;31mFailed to start the Kernel. \n",
      "No debugger available, can not send 'disconnect'. \n",
      "View Jupyter <a href='command:jupyter.viewOutput'>log</a> for further details."
     ]
    }
   ],
   "source": [
    "o=Node(1)\n",
    "t=Node(2)\n",
    "th=Node(3)\n",
    "f=Node(4)\n",
    "o.neighbors=[t,f]\n",
    "t.neighbors=[o,th]\n",
    "th.neighbors=[t,f]\n",
    "f.neighbors=[o,th]\n",
    "Solution().cloneGraph(o)"
   ]
  },
  {
   "cell_type": "code",
   "execution_count": null,
   "metadata": {},
   "outputs": [],
   "source": [
    "hmap={}\n",
    "hmap[1]=5"
   ]
  },
  {
   "cell_type": "code",
   "execution_count": null,
   "metadata": {},
   "outputs": [],
   "source": []
  },
  {
   "cell_type": "code",
   "execution_count": null,
   "metadata": {},
   "outputs": [],
   "source": []
  }
 ],
 "metadata": {
  "kernelspec": {
   "display_name": "Python 3.9.6 64-bit",
   "language": "python",
   "name": "python3"
  },
  "language_info": {
   "codemirror_mode": {
    "name": "ipython",
    "version": 3
   },
   "file_extension": ".py",
   "mimetype": "text/x-python",
   "name": "python",
   "nbconvert_exporter": "python",
   "pygments_lexer": "ipython3",
   "version": "3.9.6"
  },
  "orig_nbformat": 4,
  "vscode": {
   "interpreter": {
    "hash": "e26b106e6146fa3417b08aa501d422914abd065c08ced2fc57ef114abeab93c7"
   }
  }
 },
 "nbformat": 4,
 "nbformat_minor": 2
}
