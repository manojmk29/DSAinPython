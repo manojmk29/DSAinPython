{
 "cells": [
  {
   "cell_type": "code",
   "execution_count": 2,
   "metadata": {},
   "outputs": [],
   "source": [
    "def topo_kahn(arr,n):\n",
    "    from collections import deque,defaultdict \n",
    "    hmap=defaultdict(list)\n",
    "    indegree=[0 for i in range(n)]\n",
    "    for i in arr:\n",
    "        hmap[i[0]].append(i[1])\n",
    "        indegree[i[1]]+=1\n",
    "    que=deque([])\n",
    "    ret=[]\n",
    "    for i in range(n):\n",
    "        if(indegree[i]==0):\n",
    "            que.append(i)\n",
    "    while(que):\n",
    "        popped=que.popleft()\n",
    "        ret.append(popped)\n",
    "        for i in hmap[popped]:\n",
    "            indegree[i]-=1\n",
    "            if(indegree[i]==0):\n",
    "                que.append(i)\n",
    "    return(ret)\n"
   ]
  },
  {
   "cell_type": "code",
   "execution_count": 3,
   "metadata": {},
   "outputs": [
    {
     "data": {
      "text/plain": [
       "[4, 5, 2, 0, 3, 1]"
      ]
     },
     "execution_count": 3,
     "metadata": {},
     "output_type": "execute_result"
    }
   ],
   "source": [
    "arr=[[5,2],[5,0],[2,3],[3,1],[4,0],[4,1]]\n",
    "topo_kahn(arr,6)"
   ]
  },
  {
   "cell_type": "code",
   "execution_count": null,
   "metadata": {},
   "outputs": [],
   "source": []
  }
 ],
 "metadata": {
  "interpreter": {
   "hash": "e26b106e6146fa3417b08aa501d422914abd065c08ced2fc57ef114abeab93c7"
  },
  "kernelspec": {
   "display_name": "Python 3.9.6 64-bit",
   "language": "python",
   "name": "python3"
  },
  "language_info": {
   "codemirror_mode": {
    "name": "ipython",
    "version": 3
   },
   "file_extension": ".py",
   "mimetype": "text/x-python",
   "name": "python",
   "nbconvert_exporter": "python",
   "pygments_lexer": "ipython3",
   "version": "3.9.6"
  },
  "orig_nbformat": 4
 },
 "nbformat": 4,
 "nbformat_minor": 2
}
