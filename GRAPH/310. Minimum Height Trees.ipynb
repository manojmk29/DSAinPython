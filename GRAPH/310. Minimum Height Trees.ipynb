{
 "cells": [
  {
   "cell_type": "code",
   "execution_count": 14,
   "metadata": {},
   "outputs": [],
   "source": [
    "from collections import defaultdict\n",
    "\n",
    "class Solution:\n",
    "    def findMinHeightTrees(self, n: int, edges):\n",
    "        emap=defaultdict(set)\n",
    "        for i in edges:\n",
    "            emap[i[0]].add(i[1])\n",
    "            emap[i[1]].add(i[0])\n",
    "        cmap=defaultdict(list)\n",
    "        mint=float(\"inf\")\n",
    "        for i in range(n):\n",
    "            temp=[i]\n",
    "            flag=[1 for i in range(n)]\n",
    "            flag[i]=0\n",
    "            cnt=-1\n",
    "            while(temp):\n",
    "                cnt+=1\n",
    "                p=[]\n",
    "                for ii in temp:\n",
    "                    for j in emap[ii]:\n",
    "                        if(flag[j]):\n",
    "                            p.append(j)\n",
    "                            flag[j]=0\n",
    "                temp=p\n",
    "            cmap[cnt].append(i)\n",
    "            mint=min(mint,cnt)\n",
    "        return(cmap[mint])"
   ]
  },
  {
   "cell_type": "code",
   "execution_count": 15,
   "metadata": {},
   "outputs": [
    {
     "data": {
      "text/plain": [
       "[1]"
      ]
     },
     "execution_count": 15,
     "metadata": {},
     "output_type": "execute_result"
    }
   ],
   "source": [
    "Solution().findMinHeightTrees(4,[[1,0],[1,2],[1,3]])"
   ]
  },
  {
   "cell_type": "code",
   "execution_count": null,
   "metadata": {},
   "outputs": [],
   "source": []
  }
 ],
 "metadata": {
  "kernelspec": {
   "display_name": "Python 3.9.6 64-bit",
   "language": "python",
   "name": "python3"
  },
  "language_info": {
   "codemirror_mode": {
    "name": "ipython",
    "version": 3
   },
   "file_extension": ".py",
   "mimetype": "text/x-python",
   "name": "python",
   "nbconvert_exporter": "python",
   "pygments_lexer": "ipython3",
   "version": "3.9.6"
  },
  "orig_nbformat": 4,
  "vscode": {
   "interpreter": {
    "hash": "e26b106e6146fa3417b08aa501d422914abd065c08ced2fc57ef114abeab93c7"
   }
  }
 },
 "nbformat": 4,
 "nbformat_minor": 2
}
