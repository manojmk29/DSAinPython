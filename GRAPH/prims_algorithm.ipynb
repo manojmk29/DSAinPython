{
 "cells": [
  {
   "cell_type": "code",
   "execution_count": 35,
   "metadata": {},
   "outputs": [],
   "source": [
    "# BRUTE FORCE\n",
    "# TL - O(N^2)\n",
    "\n",
    "class Solution:\n",
    "    #Function to find sum of weights of edges of the Minimum Spanning Tree.\n",
    "    def spanningTree(self, v, adj):\n",
    "        #code here\n",
    "        import heapq\n",
    "        key=[float(\"inf\") for i in range(v)]\n",
    "        pres=[False for i in range(v)]\n",
    "        key[0]=0\n",
    "        cnt=0\n",
    "        while(cnt<v):\n",
    "            cnt+=1\n",
    "            val=float(\"inf\")\n",
    "            ind=-1\n",
    "            for i in range(v):\n",
    "                if(key[i]<val and pres[i]==False):\n",
    "                    val=key[i]\n",
    "                    ind=i\n",
    "            pres[ind]=True\n",
    "            for i in adj[ind]:\n",
    "                if(pres[i[0]]==False and i[1]<key[i[0]]):\n",
    "                    key[i[0]]=i[1]\n",
    "        return(sum(key))"
   ]
  },
  {
   "cell_type": "code",
   "execution_count": 55,
   "metadata": {},
   "outputs": [],
   "source": [
    "# USING HEAP\n",
    "# TL - O(N LOG E)\n",
    "class Solution:\n",
    "    #Function to find sum of weights of edges of the Minimum Spanning Tree.\n",
    "    def spanningTree(self, v, adj):\n",
    "        import heapq\n",
    "        key=[float(\"inf\")for i in range(v)]\n",
    "        pq=[[0,0]]\n",
    "        pres=[False for i in range(v)]\n",
    "        key[0]=0\n",
    "        tot=0\n",
    "        cnt=0\n",
    "        while(cnt<v):\n",
    "            cnt+=1\n",
    "            popped=heapq.heappop(pq)\n",
    "            ind=popped[1]\n",
    "            val=popped[0]\n",
    "            tot+=val\n",
    "            pres[ind]=True\n",
    "            for i in adj[ind]:\n",
    "                if(pres[i[0]]==False and i[1]<key[i[0]]):\n",
    "                    key[i[0]]=i[1]\n",
    "                    heapq.heappush(pq,[i[1],i[0]])\n",
    "        return(sum(key))"
   ]
  },
  {
   "cell_type": "code",
   "execution_count": 56,
   "metadata": {},
   "outputs": [
    {
     "data": {
      "text/plain": [
       "4"
      ]
     },
     "execution_count": 56,
     "metadata": {},
     "output_type": "execute_result"
    }
   ],
   "source": [
    "adj=[[[1,5],[2,1]],[[0,5],[2,3]],[[0,1],[1,3]]]\n",
    "v=3\n",
    "Solution().spanningTree(v,adj)"
   ]
  },
  {
   "cell_type": "code",
   "execution_count": 34,
   "metadata": {},
   "outputs": [
    {
     "data": {
      "text/plain": [
       "1"
      ]
     },
     "execution_count": 34,
     "metadata": {},
     "output_type": "execute_result"
    }
   ],
   "source": [
    "a=[[1,2]]\n",
    "import heapq\n",
    "v=heapq.heappop(a)\n",
    "v[0]"
   ]
  },
  {
   "cell_type": "code",
   "execution_count": 46,
   "metadata": {},
   "outputs": [],
   "source": [
    "import heapq\n",
    "pq=[]\n",
    "i=[1,2]\n",
    "heapq.heappush(pq,[i[1],i[0]])"
   ]
  },
  {
   "cell_type": "code",
   "execution_count": 47,
   "metadata": {},
   "outputs": [
    {
     "data": {
      "text/plain": [
       "[[2, 1]]"
      ]
     },
     "execution_count": 47,
     "metadata": {},
     "output_type": "execute_result"
    }
   ],
   "source": [
    "pq"
   ]
  },
  {
   "cell_type": "code",
   "execution_count": null,
   "metadata": {},
   "outputs": [],
   "source": [
    "\n",
    "\n",
    "\n",
    "\n",
    "[1,8,3]\n",
    "[2,5,8]\n",
    "[2,7,10]\n",
    "[3,4,3]\n",
    "[4,6,10]\n",
    "[5,7,8]"
   ]
  },
  {
   "cell_type": "code",
   "execution_count": null,
   "metadata": {},
   "outputs": [],
   "source": [
    "adj=[[[4,4],[1,7],[7,8],[9,3]],[[0,7],[7,7]],[],[],[[0,4]],[],[],[],[[0,8],],[],[[0,3]],[],[],[],[],[]]"
   ]
  }
 ],
 "metadata": {
  "interpreter": {
   "hash": "e26b106e6146fa3417b08aa501d422914abd065c08ced2fc57ef114abeab93c7"
  },
  "kernelspec": {
   "display_name": "Python 3.9.6 64-bit",
   "language": "python",
   "name": "python3"
  },
  "language_info": {
   "codemirror_mode": {
    "name": "ipython",
    "version": 3
   },
   "file_extension": ".py",
   "mimetype": "text/x-python",
   "name": "python",
   "nbconvert_exporter": "python",
   "pygments_lexer": "ipython3",
   "version": "3.9.6"
  },
  "orig_nbformat": 4
 },
 "nbformat": 4,
 "nbformat_minor": 2
}
