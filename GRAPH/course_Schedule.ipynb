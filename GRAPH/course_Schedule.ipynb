{
 "cells": [
  {
   "cell_type": "code",
   "execution_count": 18,
   "metadata": {},
   "outputs": [],
   "source": [
    "class Solution:\n",
    "    def canFinish(self, numc: int, preq) -> bool:\n",
    "        hmap={}\n",
    "        for i in range(numc):\n",
    "            hmap[i]=[]\n",
    "        for i in preq:\n",
    "            hmap[i[1]].append(i[0])\n",
    "        vis=[0 for i in range(numc)]\n",
    "        def dfs(cur):\n",
    "            for chi in hmap[cur]:\n",
    "                if dfsvis[chi]:\n",
    "                    return True\n",
    "                else:\n",
    "                    if vis[chi]:\n",
    "                        continue\n",
    "                    vis[chi]=1\n",
    "                    dfsvis[chi]=1\n",
    "                    if dfs(chi):\n",
    "                        return True\n",
    "                    dfsvis[chi]=0\n",
    "            return False\n",
    "        for i in range(numc):\n",
    "            if not vis[i]:\n",
    "                vis[i]=1\n",
    "                dfsvis=[0 for i in range(numc)]\n",
    "                dfsvis[i]=1\n",
    "                if dfs(i):\n",
    "                    return False\n",
    "        return True\n",
    "            \n",
    "        "
   ]
  },
  {
   "cell_type": "code",
   "execution_count": 19,
   "metadata": {},
   "outputs": [
    {
     "data": {
      "text/plain": [
       "False"
      ]
     },
     "execution_count": 19,
     "metadata": {},
     "output_type": "execute_result"
    }
   ],
   "source": [
    "Solution().canFinish(4,[[0,1],[3,1],[1,3],[3,2]])"
   ]
  },
  {
   "cell_type": "code",
   "execution_count": null,
   "metadata": {},
   "outputs": [],
   "source": []
  }
 ],
 "metadata": {
  "kernelspec": {
   "display_name": "Python 3.9.6 64-bit",
   "language": "python",
   "name": "python3"
  },
  "language_info": {
   "codemirror_mode": {
    "name": "ipython",
    "version": 3
   },
   "file_extension": ".py",
   "mimetype": "text/x-python",
   "name": "python",
   "nbconvert_exporter": "python",
   "pygments_lexer": "ipython3",
   "version": "3.9.6"
  },
  "orig_nbformat": 4,
  "vscode": {
   "interpreter": {
    "hash": "e26b106e6146fa3417b08aa501d422914abd065c08ced2fc57ef114abeab93c7"
   }
  }
 },
 "nbformat": 4,
 "nbformat_minor": 2
}
