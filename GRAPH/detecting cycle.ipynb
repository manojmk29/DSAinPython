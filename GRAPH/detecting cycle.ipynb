{
 "cells": [
  {
   "cell_type": "code",
   "execution_count": 1,
   "metadata": {},
   "outputs": [],
   "source": [
    "# UNDIRECTED GRAPH"
   ]
  },
  {
   "cell_type": "code",
   "execution_count": null,
   "metadata": {},
   "outputs": [],
   "source": [
    "# USING BFS\n",
    "from collections import defaultdict\n",
    "# graph=[[1,2],[3,4],[1,3],[2,4]]\n",
    "vb=[[1,2],[2,4],[3,5],[5,6],[6,7],[10,9],[9,8],[8,11]]\n",
    "def check_cycle(arr):\n",
    "    hmap=defaultdict(list)\n",
    "    for i in arr:\n",
    "        hmap[i[0]].append(i[1])\n",
    "        hmap[i[1]].append(i[0])\n",
    "    stk=[]\n",
    "    check={}\n",
    "    for i in arr:\n",
    "        check[i]=False\n",
    "    \n"
   ]
  },
  {
   "cell_type": "code",
   "execution_count": 17,
   "metadata": {},
   "outputs": [],
   "source": [
    "# USING BFS\n",
    "from collections import defaultdict\n",
    "# graph=[[1,2],[3,4],[1,3],[2,4]]\n",
    "\n",
    "def check_cycle(arr):\n",
    "    hmap=defaultdict(list)\n",
    "    for i in arr:\n",
    "        hmap[i[0]].append(i[1])\n",
    "        hmap[i[1]].append(i[0])\n",
    "    stk=[]\n",
    "    check={}\n",
    "    for i in hmap:\n",
    "        check[i]=False\n",
    "    def dfs(node,parent):\n",
    "        if(check[node]):\n",
    "            return(True)\n",
    "        check[node]=True\n",
    "        for i in hmap[node]:\n",
    "            if i !=parent:\n",
    "                if(dfs(i,node)):\n",
    "                    return(True)\n",
    "        return(False)\n",
    "    for i in hmap:\n",
    "        if check[i]==False:\n",
    "            if(dfs(i,None)):\n",
    "                return(True)\n",
    "    return(False)\n",
    "\n",
    "\n",
    "\n",
    "\n",
    "\n",
    "    \n"
   ]
  },
  {
   "cell_type": "code",
   "execution_count": 20,
   "metadata": {},
   "outputs": [
    {
     "data": {
      "text/plain": [
       "True"
      ]
     },
     "execution_count": 20,
     "metadata": {},
     "output_type": "execute_result"
    }
   ],
   "source": [
    "vb=[[1,2],[2,4],[3,5],[5,6],[6,7],[10,9],[9,8],[8,11],[10,5],[7,8]]\n",
    "# vb=[[1,2],[2,3],[3,4]]\n",
    "check_cycle(vb)"
   ]
  },
  {
   "cell_type": "code",
   "execution_count": null,
   "metadata": {},
   "outputs": [],
   "source": []
  }
 ],
 "metadata": {
  "interpreter": {
   "hash": "e26b106e6146fa3417b08aa501d422914abd065c08ced2fc57ef114abeab93c7"
  },
  "kernelspec": {
   "display_name": "Python 3.9.6 64-bit",
   "language": "python",
   "name": "python3"
  },
  "language_info": {
   "codemirror_mode": {
    "name": "ipython",
    "version": 3
   },
   "file_extension": ".py",
   "mimetype": "text/x-python",
   "name": "python",
   "nbconvert_exporter": "python",
   "pygments_lexer": "ipython3",
   "version": "3.9.6"
  },
  "orig_nbformat": 4
 },
 "nbformat": 4,
 "nbformat_minor": 2
}
