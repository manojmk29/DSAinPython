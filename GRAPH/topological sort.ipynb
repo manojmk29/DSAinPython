{
 "cells": [
  {
   "cell_type": "code",
   "execution_count": null,
   "metadata": {},
   "outputs": [],
   "source": [
    "\"\"\"\n",
    "\n",
    "topological sort using DFS\n",
    "\n",
    "1.first iterate every node.\n",
    "2.enter the node in the stack if its every child nodes are visited or it dont have any child nodes left.  \n",
    "\n",
    "\"\"\""
   ]
  },
  {
   "cell_type": "code",
   "execution_count": 7,
   "metadata": {},
   "outputs": [],
   "source": [
    "from collections import *\n",
    "def topological_sort(arr,n):\n",
    "    hmap=defaultdict(list)\n",
    "    for i in arr:\n",
    "        hmap[i[0]].append(i[1])\n",
    "    stk=[]\n",
    "    ret=[]\n",
    "    flag=[0]*(n+1)\n",
    "    def helper(ind):\n",
    "        if flag[ind]==-1:\n",
    "            return\n",
    "        flag[ind]=-1\n",
    "        for i in hmap[ind]:\n",
    "            helper(i)\n",
    "        stk.append(ind)\n",
    "    for i in range(n):\n",
    "        helper(i)\n",
    "    return(stk[::-1])"
   ]
  },
  {
   "cell_type": "code",
   "execution_count": 8,
   "metadata": {},
   "outputs": [
    {
     "data": {
      "text/plain": [
       "[5, 4, 2, 3, 1, 0]"
      ]
     },
     "execution_count": 8,
     "metadata": {},
     "output_type": "execute_result"
    }
   ],
   "source": [
    "arr=[[5,2],[5,0],[2,3],[3,1],[4,0],[4,1]]\n",
    "topological_sort(arr,6)"
   ]
  },
  {
   "cell_type": "code",
   "execution_count": 4,
   "metadata": {},
   "outputs": [],
   "source": [
    "n=4\n",
    "flag=[0]*(n+1)"
   ]
  },
  {
   "cell_type": "code",
   "execution_count": 5,
   "metadata": {},
   "outputs": [
    {
     "data": {
      "text/plain": [
       "[0, 0, 0, 0, 0]"
      ]
     },
     "execution_count": 5,
     "metadata": {},
     "output_type": "execute_result"
    }
   ],
   "source": [
    "flag"
   ]
  },
  {
   "cell_type": "code",
   "execution_count": 22,
   "metadata": {},
   "outputs": [
    {
     "data": {
      "text/plain": [
       "False"
      ]
     },
     "execution_count": 22,
     "metadata": {},
     "output_type": "execute_result"
    }
   ],
   "source": [
    "\"1a\".isnumeric()"
   ]
  },
  {
   "cell_type": "code",
   "execution_count": 17,
   "metadata": {},
   "outputs": [],
   "source": [
    "# B F S\n",
    "from collections import *\n",
    "def topo_sort(arr,n):\n",
    "    hmap=defaultdict(list)\n",
    "    indeg=[0]*n\n",
    "    for i in arr:\n",
    "        hmap[i[0]].append(i[1])\n",
    "    topo=[]\n",
    "    que=deque()\n",
    "    for i in hmap:\n",
    "        for j in hmap[i]:\n",
    "            indeg[j]+=1\n",
    "    for i,j in enumerate(indeg):\n",
    "        if(j==0):\n",
    "            que.append(i)\n",
    "    while(que):\n",
    "        val=que[0]\n",
    "        for i in hmap[val]:\n",
    "            indeg[i]-=1\n",
    "            if(indeg[i]<=0):\n",
    "                que.append(i)\n",
    "        topo.append(val)\n",
    "        que.popleft()\n",
    "    return(topo)"
   ]
  },
  {
   "cell_type": "code",
   "execution_count": 18,
   "metadata": {},
   "outputs": [
    {
     "data": {
      "text/plain": [
       "[4, 5, 2, 0, 3, 1]"
      ]
     },
     "execution_count": 18,
     "metadata": {},
     "output_type": "execute_result"
    }
   ],
   "source": [
    "arr=[[5,2],[5,0],[2,3],[3,1],[4,0],[4,1]]\n",
    "topo_sort(arr,6)"
   ]
  },
  {
   "cell_type": "code",
   "execution_count": 6,
   "metadata": {},
   "outputs": [],
   "source": [
    "from collections import *\n",
    "def topo_sort(arr,n):\n",
    "    hmap=defaultdict(list)\n",
    "    visit=[0 for i in range(n)]\n",
    "    for i in arr:\n",
    "        hmap[i[0]].append(i[1])\n",
    "    stk=[]\n",
    "    def dfs(node):\n",
    "        visit[node]=1\n",
    "        if node in hmap:\n",
    "            for i in hmap[node]:\n",
    "                if(not visit[i]):\n",
    "                    dfs(i)\n",
    "        stk.append(node)\n",
    "    for i in hmap:\n",
    "        if(not visit[i]):\n",
    "            dfs(i)\n",
    "    stk=stk[::-1]\n",
    "    return(stk)\n",
    "    "
   ]
  },
  {
   "cell_type": "code",
   "execution_count": 7,
   "metadata": {},
   "outputs": [
    {
     "data": {
      "text/plain": [
       "[4, 5, 0, 2, 3, 1]"
      ]
     },
     "execution_count": 7,
     "metadata": {},
     "output_type": "execute_result"
    }
   ],
   "source": [
    "arr=[[5,2],[5,0],[2,3],[3,1],[4,0],[4,1]]\n",
    "topo_sort(arr,6)"
   ]
  },
  {
   "cell_type": "code",
   "execution_count": 3,
   "metadata": {},
   "outputs": [
    {
     "data": {
      "text/plain": [
       "defaultdict(list, {9: [8]})"
      ]
     },
     "execution_count": 3,
     "metadata": {},
     "output_type": "execute_result"
    }
   ],
   "source": [
    "from collections import defaultdict\n",
    "a=defaultdict(list)\n",
    "a[9].append(8)\n",
    "a"
   ]
  },
  {
   "cell_type": "code",
   "execution_count": 4,
   "metadata": {},
   "outputs": [
    {
     "data": {
      "text/plain": [
       "False"
      ]
     },
     "execution_count": 4,
     "metadata": {},
     "output_type": "execute_result"
    }
   ],
   "source": [
    "7 in a"
   ]
  },
  {
   "cell_type": "code",
   "execution_count": 5,
   "metadata": {},
   "outputs": [
    {
     "data": {
      "text/plain": [
       "defaultdict(list, {9: [8]})"
      ]
     },
     "execution_count": 5,
     "metadata": {},
     "output_type": "execute_result"
    }
   ],
   "source": [
    "a"
   ]
  },
  {
   "cell_type": "code",
   "execution_count": null,
   "metadata": {},
   "outputs": [],
   "source": []
  }
 ],
 "metadata": {
  "interpreter": {
   "hash": "e26b106e6146fa3417b08aa501d422914abd065c08ced2fc57ef114abeab93c7"
  },
  "kernelspec": {
   "display_name": "Python 3.9.6 64-bit",
   "language": "python",
   "name": "python3"
  },
  "language_info": {
   "codemirror_mode": {
    "name": "ipython",
    "version": 3
   },
   "file_extension": ".py",
   "mimetype": "text/x-python",
   "name": "python",
   "nbconvert_exporter": "python",
   "pygments_lexer": "ipython3",
   "version": "3.9.6"
  },
  "orig_nbformat": 4
 },
 "nbformat": 4,
 "nbformat_minor": 2
}
