{
 "cells": [
  {
   "cell_type": "code",
   "execution_count": 1,
   "metadata": {},
   "outputs": [],
   "source": [
    "class Solution:\n",
    "    #Function to detect cycle in an undirected graph.\n",
    "\tdef isCycle(self, v, adj):\n",
    "\t\t#Code here\n",
    "\t\tfrom collections import deque\n",
    "\t\tvis=[0 for i in range(v)]\n",
    "\t\tfor i in range(v):\n",
    "\t\t    if not vis[i]:\n",
    "\t\t        q=deque([(i,-1)])\n",
    "\t\t        vis[i]=1\n",
    "\t\t        while(q):\n",
    "\t\t            pop=q.popleft()\n",
    "\t\t            cur=pop[0]\n",
    "\t\t            par=pop[1]\n",
    "\t\t            for ind in adj[cur]:\n",
    "\t\t                if(vis[ind]):\n",
    "\t\t                    if par!=ind:\n",
    "\t\t                        return True\n",
    "\t\t                else:\n",
    "\t\t                    vis[ind]=1\n",
    "\t\t                    q.append((ind,cur))\n",
    "\t\t                \n",
    "\t\treturn False"
   ]
  },
  {
   "cell_type": "code",
   "execution_count": 2,
   "metadata": {},
   "outputs": [
    {
     "ename": "TabError",
     "evalue": "inconsistent use of tabs and spaces in indentation (Temp/ipykernel_8768/2463412090.py, line 6)",
     "output_type": "error",
     "traceback": [
      "\u001b[1;36m  File \u001b[1;32m\"C:\\Users\\manoj\\AppData\\Local\\Temp/ipykernel_8768/2463412090.py\"\u001b[1;36m, line \u001b[1;32m6\u001b[0m\n\u001b[1;33m    return(True)\u001b[0m\n\u001b[1;37m                ^\u001b[0m\n\u001b[1;31mTabError\u001b[0m\u001b[1;31m:\u001b[0m inconsistent use of tabs and spaces in indentation\n"
     ]
    }
   ],
   "source": [
    "def isCycle(self, v, adj):\n",
    "    \t\t#Code here\n",
    "\t\tvis=[0 for i in range(v)]\n",
    "\t\tdef dfs(inp,par):\n",
    "\t\t    if vis[inp]:\n",
    "\t            return(True)\n",
    "\t\t    vis[inp]=1\n",
    "\t\t    for i in adj[inp]:\n",
    "\t\t        if i!=par:\n",
    "\t\t            val=dfs(i,inp)\n",
    "\t\t            if(val):\n",
    "\t\t                return(True)\n",
    "\t\t    return(False)\n",
    "\t\tfor i in range(v):\n",
    "\t\t    if not vis[i]:\n",
    "\t\t        if(dfs(i,-1)):\n",
    "\t\t            return True\n",
    "\t\treturn False"
   ]
  },
  {
   "cell_type": "code",
   "execution_count": null,
   "metadata": {},
   "outputs": [],
   "source": []
  },
  {
   "cell_type": "code",
   "execution_count": null,
   "metadata": {},
   "outputs": [],
   "source": []
  }
 ],
 "metadata": {
  "kernelspec": {
   "display_name": "Python 3.9.6 64-bit",
   "language": "python",
   "name": "python3"
  },
  "language_info": {
   "codemirror_mode": {
    "name": "ipython",
    "version": 3
   },
   "file_extension": ".py",
   "mimetype": "text/x-python",
   "name": "python",
   "nbconvert_exporter": "python",
   "pygments_lexer": "ipython3",
   "version": "3.9.6"
  },
  "orig_nbformat": 4,
  "vscode": {
   "interpreter": {
    "hash": "e26b106e6146fa3417b08aa501d422914abd065c08ced2fc57ef114abeab93c7"
   }
  }
 },
 "nbformat": 4,
 "nbformat_minor": 2
}
