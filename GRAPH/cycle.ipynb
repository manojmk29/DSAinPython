{
 "cells": [
  {
   "cell_type": "code",
   "execution_count": 5,
   "metadata": {},
   "outputs": [
    {
     "data": {
      "text/plain": [
       "False"
      ]
     },
     "execution_count": 5,
     "metadata": {},
     "output_type": "execute_result"
    }
   ],
   "source": [
    "class Solution:\n",
    "    #Function to detect cycle in an undirected graph.\n",
    "\tdef isCycle(self, v, adj):\n",
    "\t\t#Code here\n",
    "\t\tfrom collections import deque\n",
    "\t\tvis=[0 for i in range(v)]\n",
    "\t\tfor i in range(v):\n",
    "\t\t    if not vis[i]:\n",
    "\t\t        q=deque([(i,-1)])\n",
    "\t\t        vis[i]=1\n",
    "\t\t        while(q):\n",
    "\t\t            pop=q.popleft()\n",
    "\t\t            cur=pop[0]\n",
    "\t\t            par=pop[1]\n",
    "\t\t            for ind in adj[cur]:\n",
    "\t\t                if(vis[ind]):\n",
    "\t\t                    if par!=ind:\n",
    "\t\t                        return True\n",
    "\t\t                else:\n",
    "\t\t                    vis[ind]=1\n",
    "\t\t                    q.append((ind,cur))\n",
    "\t\t                \n",
    "\t\treturn False\n",
    "Solution().isCycle(2,[[1],[0]])"
   ]
  },
  {
   "cell_type": "code",
   "execution_count": 1,
   "metadata": {},
   "outputs": [
    {
     "ename": "TabError",
     "evalue": "inconsistent use of tabs and spaces in indentation (Temp/ipykernel_1688/810726583.py, line 10)",
     "output_type": "error",
     "traceback": [
      "\u001b[1;36m  File \u001b[1;32m\"C:\\Users\\manoj\\AppData\\Local\\Temp/ipykernel_1688/810726583.py\"\u001b[1;36m, line \u001b[1;32m10\u001b[0m\n\u001b[1;33m    vis[i]=1\u001b[0m\n\u001b[1;37m            ^\u001b[0m\n\u001b[1;31mTabError\u001b[0m\u001b[1;31m:\u001b[0m inconsistent use of tabs and spaces in indentation\n"
     ]
    }
   ],
   "source": [
    "class Solution:\n",
    "    #Function to detect cycle in an undirected graph.\n",
    "\tdef isCycle(self, v, adj):\n",
    "\t\t#Code here\n",
    "\t\tfrom collections import deque\n",
    "\t\tvis=[0 for i in range(v)]\n",
    "\t\tfor i in range(v):\n",
    "\t\t    if not vis[i]:\n",
    "\t\t        q=deque([(i,-1)])\n",
    "\t\t\t\tvis[i]=1\n",
    "\t\t        while(q):\n",
    "\t\t            pop=q.popleft()\n",
    "\t\t            cur=pop[0]\n",
    "\t\t            par=pop[1]\n",
    "\t\t            for ind in adj[cur]:\n",
    "\t\t                if(vis[ind]):\n",
    "\t\t                    if par!=ind:\n",
    "\t\t                        return True\n",
    "\t\t                else:\n",
    "\t\t                    vis[ind]=1\n",
    "\t\t                    q.append((ind,cur))\n",
    "\t\t                \n",
    "\t\treturn False\n",
    "S"
   ]
  },
  {
   "cell_type": "code",
   "execution_count": 2,
   "metadata": {},
   "outputs": [
    {
     "ename": "TabError",
     "evalue": "inconsistent use of tabs and spaces in indentation (Temp/ipykernel_8768/2463412090.py, line 6)",
     "output_type": "error",
     "traceback": [
      "\u001b[1;36m  File \u001b[1;32m\"C:\\Users\\manoj\\AppData\\Local\\Temp/ipykernel_8768/2463412090.py\"\u001b[1;36m, line \u001b[1;32m6\u001b[0m\n\u001b[1;33m    return(True)\u001b[0m\n\u001b[1;37m                ^\u001b[0m\n\u001b[1;31mTabError\u001b[0m\u001b[1;31m:\u001b[0m inconsistent use of tabs and spaces in indentation\n"
     ]
    }
   ],
   "source": [
    "def isCycle(self, v, adj):\n",
    "    \t\t#Code here\n",
    "\t\tvis=[0 for i in range(v)]\n",
    "\t\tdef dfs(inp,par):\n",
    "\t\t    if vis[inp]:\n",
    "\t            return(True)\n",
    "\t\t    vis[inp]=1\n",
    "\t\t    for i in adj[inp]:\n",
    "\t\t        if i!=par:\n",
    "\t\t            val=dfs(i,inp)\n",
    "\t\t            if(val):\n",
    "\t\t                return(True)\n",
    "\t\t    return(False)\n",
    "\t\tfor i in range(v):\n",
    "\t\t    if not vis[i]:\n",
    "\t\t        if(dfs(i,-1)):\n",
    "\t\t            return True\n",
    "\t\treturn False"
   ]
  },
  {
   "cell_type": "code",
   "execution_count": null,
   "metadata": {},
   "outputs": [],
   "source": []
  },
  {
   "cell_type": "code",
   "execution_count": 3,
   "metadata": {},
   "outputs": [
    {
     "name": "stdout",
     "output_type": "stream",
     "text": [
      "Yes\n"
     ]
    }
   ],
   "source": [
    "# Python3 program to detect cycle in\n",
    "# an undirected graph using BFS.\n",
    "from collections import deque\n",
    "\n",
    "def addEdge(adj: list, u, v):\n",
    "\tadj[u].append(v)\n",
    "\tadj[v].append(u)\n",
    "\n",
    "def isCyclicConnected(adj: list, s, V,\n",
    "\t\t\t\t\tvisited: list):\n",
    "\n",
    "\t# Set parent vertex for every vertex as -1.\n",
    "\tparent = [-1] * V\n",
    "\n",
    "\t# Create a queue for BFS\n",
    "\tq = deque()\n",
    "\n",
    "\t# Mark the current node as\n",
    "\t# visited and enqueue it\n",
    "\tvisited[s] = True\n",
    "\tq.append(s)\n",
    "\n",
    "\twhile q != []:\n",
    "\n",
    "\t\t# Dequeue a vertex from queue and print it\n",
    "\t\tu = q.pop()\n",
    "\n",
    "\t\t# Get all adjacent vertices of the dequeued\n",
    "\t\t# vertex u. If a adjacent has not been visited,\n",
    "\t\t# then mark it visited and enqueue it. We also\n",
    "\t\t# mark parent so that parent is not considered\n",
    "\t\t# for cycle.\n",
    "\t\tfor v in adj[u]:\n",
    "\t\t\tif not visited[v]:\n",
    "\t\t\t\tvisited[v] = True\n",
    "\t\t\t\tq.append(v)\n",
    "\t\t\t\tparent[v] = u\n",
    "\t\t\telif parent[u] != v:\n",
    "\t\t\t\treturn True\n",
    "\n",
    "\treturn False\n",
    "\n",
    "def isCyclicDisconnected(adj: list, V):\n",
    "\n",
    "\t# Mark all the vertices as not visited\n",
    "\tvisited = [False] * V\n",
    "\n",
    "\tfor i in range(V):\n",
    "\t\tif not visited[i] and \\\n",
    "\t\t\tisCyclicConnected(adj, i, V, visited):\n",
    "\t\t\treturn True\n",
    "\treturn False\n",
    "\n",
    "# Driver Code\n",
    "if __name__ == \"__main__\":\n",
    "\tV = 4\n",
    "\tadj = [[] for i in range(V)]\n",
    "\taddEdge(adj, 0, 1)\n",
    "\taddEdge(adj, 1, 0)\n",
    "\t# addEdge(adj, 2, 0)\n",
    "\t# addEdge(adj, 2, 3)\n",
    "\n",
    "\tif isCyclicDisconnected(adj, V):\n",
    "\t\tprint(\"Yes\")\n",
    "\telse:\n",
    "\t\tprint(\"No\")\n",
    "\n",
    "# This code is contributed by\n",
    "# sanjeev2552\n"
   ]
  },
  {
   "cell_type": "code",
   "execution_count": null,
   "metadata": {},
   "outputs": [],
   "source": []
  }
 ],
 "metadata": {
  "kernelspec": {
   "display_name": "Python 3.9.6 64-bit",
   "language": "python",
   "name": "python3"
  },
  "language_info": {
   "codemirror_mode": {
    "name": "ipython",
    "version": 3
   },
   "file_extension": ".py",
   "mimetype": "text/x-python",
   "name": "python",
   "nbconvert_exporter": "python",
   "pygments_lexer": "ipython3",
   "version": "3.9.6"
  },
  "orig_nbformat": 4,
  "vscode": {
   "interpreter": {
    "hash": "e26b106e6146fa3417b08aa501d422914abd065c08ced2fc57ef114abeab93c7"
   }
  }
 },
 "nbformat": 4,
 "nbformat_minor": 2
}
