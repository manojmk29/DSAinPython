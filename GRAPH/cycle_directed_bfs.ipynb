{
 "cells": [
  {
   "cell_type": "code",
   "execution_count": 1,
   "metadata": {},
   "outputs": [],
   "source": [
    "class Solution:\n",
    "    def isCyclic(self, V, adj):\n",
    "        from collections import deque\n",
    "        indegree=[0 for i in range(V)]\n",
    "        for i in adj:\n",
    "            for j in i:\n",
    "                indegree[j]+=1\n",
    "        que=deque([])\n",
    "        ret=[]\n",
    "        for i in range(V):\n",
    "            if(indegree[i]==0):\n",
    "                que.append(i)\n",
    "        cnt=0\n",
    "        while(que):\n",
    "            popped=que.popleft()\n",
    "            cnt+=1\n",
    "            for i in adj[popped]:\n",
    "                indegree[i]-=1\n",
    "                if(indegree[i]==0):\n",
    "                    que.append(i)\n",
    "        return(cnt!=V)       "
   ]
  },
  {
   "cell_type": "code",
   "execution_count": 2,
   "metadata": {},
   "outputs": [
    {
     "data": {
      "text/plain": [
       "False"
      ]
     },
     "execution_count": 2,
     "metadata": {},
     "output_type": "execute_result"
    }
   ],
   "source": [
    "Solution().isCyclic(4,[[1],[2],[3],[]])"
   ]
  },
  {
   "cell_type": "code",
   "execution_count": 2,
   "metadata": {},
   "outputs": [
    {
     "name": "stdout",
     "output_type": "stream",
     "text": [
      "1\n",
      "2\n",
      "Fizz\n",
      "4\n",
      "Buzz\n",
      "Fizz\n",
      "7\n",
      "8\n",
      "Fizz\n",
      "Buzz\n",
      "11\n",
      "Fizz\n",
      "13\n",
      "14\n",
      "FizzBuzz\n"
     ]
    }
   ],
   "source": [
    "n=15\n",
    "for i in range(1,n+1):\n",
    "    if(i%5==0 and i%3==0):\n",
    "        print(\"FizzBuzz\")\n",
    "    elif(i%3==0):\n",
    "        print(\"Fizz\")\n",
    "    elif(i%5==0):\n",
    "        print(\"Buzz\")\n",
    "    else:\n",
    "        print(i)"
   ]
  },
  {
   "cell_type": "code",
   "execution_count": null,
   "metadata": {},
   "outputs": [],
   "source": [
    "arr=[10,15,13,20,16]\n"
   ]
  },
  {
   "cell_type": "code",
   "execution_count": 13,
   "metadata": {},
   "outputs": [],
   "source": [
    "def frog_jump(arr,k):\n",
    "    def helper(ind):\n",
    "        if ind==0:\n",
    "            return 0\n",
    "        val=float(\"inf\")\n",
    "        for i in range(1,k+1):\n",
    "            if ind-i>=0:\n",
    "                val=min(val,abs(arr[ind]-arr[ind-i])+helper(ind-i))\n",
    "        return val\n",
    "    return helper(len(arr)-1)\n",
    "\n",
    "\n",
    "def frogjump(arr,k):\n",
    "    n=len(arr)\n",
    "    dp=[-1 for i in range(n)]\n",
    "    dp[0]=0\n",
    "    for ind in range(1,n):\n",
    "        val=float(\"inf\")\n",
    "        for i in range(1,k+1):\n",
    "            if ind-i>=0:\n",
    "                val=min(val,abs(arr[ind]-arr[ind-i])+dp[ind-i])\n",
    "        dp[ind]=val\n",
    "    return dp[-1]\n",
    "        "
   ]
  },
  {
   "cell_type": "code",
   "execution_count": 14,
   "metadata": {},
   "outputs": [
    {
     "data": {
      "text/plain": [
       "40"
      ]
     },
     "execution_count": 14,
     "metadata": {},
     "output_type": "execute_result"
    }
   ],
   "source": [
    "arr=[30,10,60 , 10 , 60 , 50]\n",
    "frogjump(arr,2)"
   ]
  },
  {
   "cell_type": "code",
   "execution_count": null,
   "metadata": {},
   "outputs": [],
   "source": [
    "# maximum number of sum\n",
    "def maxsum(arr):\n",
    "    def helper():"
   ]
  },
  {
   "cell_type": "code",
   "execution_count": 4,
   "metadata": {},
   "outputs": [
    {
     "name": "stdout",
     "output_type": "stream",
     "text": [
      "10.9828\n"
     ]
    }
   ],
   "source": [
    "print('%.4f'%10.98277)"
   ]
  },
  {
   "cell_type": "code",
   "execution_count": null,
   "metadata": {},
   "outputs": [],
   "source": []
  }
 ],
 "metadata": {
  "interpreter": {
   "hash": "e26b106e6146fa3417b08aa501d422914abd065c08ced2fc57ef114abeab93c7"
  },
  "kernelspec": {
   "display_name": "Python 3.9.6 64-bit",
   "language": "python",
   "name": "python3"
  },
  "language_info": {
   "codemirror_mode": {
    "name": "ipython",
    "version": 3
   },
   "file_extension": ".py",
   "mimetype": "text/x-python",
   "name": "python",
   "nbconvert_exporter": "python",
   "pygments_lexer": "ipython3",
   "version": "3.9.6"
  },
  "orig_nbformat": 4
 },
 "nbformat": 4,
 "nbformat_minor": 2
}
