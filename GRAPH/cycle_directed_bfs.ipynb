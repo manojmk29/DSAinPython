{
 "cells": [
  {
   "cell_type": "code",
   "execution_count": 1,
   "metadata": {},
   "outputs": [],
   "source": [
    "class Solution:\n",
    "    def isCyclic(self, V, adj):\n",
    "        from collections import deque\n",
    "        indegree=[0 for i in range(V)]\n",
    "        for i in adj:\n",
    "            for j in i:\n",
    "                indegree[j]+=1\n",
    "        que=deque([])\n",
    "        ret=[]\n",
    "        for i in range(V):\n",
    "            if(indegree[i]==0):\n",
    "                que.append(i)\n",
    "        cnt=0\n",
    "        while(que):\n",
    "            popped=que.popleft()\n",
    "            cnt+=1\n",
    "            for i in adj[popped]:\n",
    "                indegree[i]-=1\n",
    "                if(indegree[i]==0):\n",
    "                    que.append(i)\n",
    "        return(cnt!=V)       "
   ]
  },
  {
   "cell_type": "code",
   "execution_count": 2,
   "metadata": {},
   "outputs": [
    {
     "data": {
      "text/plain": [
       "False"
      ]
     },
     "execution_count": 2,
     "metadata": {},
     "output_type": "execute_result"
    }
   ],
   "source": [
    "Solution().isCyclic(4,[[1],[2],[3],[]])"
   ]
  },
  {
   "cell_type": "code",
   "execution_count": null,
   "metadata": {},
   "outputs": [],
   "source": []
  }
 ],
 "metadata": {
  "interpreter": {
   "hash": "e26b106e6146fa3417b08aa501d422914abd065c08ced2fc57ef114abeab93c7"
  },
  "kernelspec": {
   "display_name": "Python 3.9.6 64-bit",
   "language": "python",
   "name": "python3"
  },
  "language_info": {
   "codemirror_mode": {
    "name": "ipython",
    "version": 3
   },
   "file_extension": ".py",
   "mimetype": "text/x-python",
   "name": "python",
   "nbconvert_exporter": "python",
   "pygments_lexer": "ipython3",
   "version": "3.9.6"
  },
  "orig_nbformat": 4
 },
 "nbformat": 4,
 "nbformat_minor": 2
}
