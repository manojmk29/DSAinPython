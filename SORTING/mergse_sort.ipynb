{
 "cells": [
  {
   "cell_type": "code",
   "execution_count": null,
   "metadata": {},
   "outputs": [],
   "source": []
  },
  {
   "cell_type": "code",
   "execution_count": 1,
   "metadata": {},
   "outputs": [],
   "source": [
    "def merge_sort(arr):\n",
    "    n=len(arr)\n",
    "    def helper(nums):\n",
    "        if len(nums)==1:\n",
    "            return nums\n",
    "        l=len(nums)\n",
    "        m=l//2\n",
    "        le=helper(nums[:m])\n",
    "        ri=helper(nums[m:])\n",
    "        ln=len(le)\n",
    "        rn=len(ri)\n",
    "        ret=[]\n",
    "        i=j=0\n",
    "        while(i<ln and j<rn):\n",
    "            if le[i]<ri[j]:\n",
    "                ret.append(le[i])\n",
    "                i+=1\n",
    "            else:\n",
    "                ret.append(ri[j])\n",
    "                j+=1\n",
    "        while(i<ln):\n",
    "            ret.append(le[i])\n",
    "            i+=1\n",
    "        while(j<rn):\n",
    "            ret.append(ri[j])\n",
    "            j+=1\n",
    "        return ret\n",
    "    return helper(arr)"
   ]
  },
  {
   "cell_type": "code",
   "execution_count": 2,
   "metadata": {},
   "outputs": [
    {
     "data": {
      "text/plain": [
       "[0, 2, 2, 2, 4, 4, 4, 6, 7, 34, 87]"
      ]
     },
     "execution_count": 2,
     "metadata": {},
     "output_type": "execute_result"
    }
   ],
   "source": [
    "arr=[4,2,7,0,2,4,6,87,34,2,4]\n",
    "merge_sort(arr)"
   ]
  },
  {
   "cell_type": "code",
   "execution_count": 1,
   "metadata": {},
   "outputs": [],
   "source": [
    "def merge_sort(arr):\n",
    "    n=len(arr)\n",
    "    def helper(s,e):\n",
    "        if s==e:\n",
    "            return\n",
    "        l=e-s+1\n",
    "        m=(s+e)//2\n",
    "        helper(l,m)\n",
    "        helper(m+1,e)\n",
    "        ret=[]\n",
    "        i=s\n",
    "        j=m+1\n",
    "        while(i<=m and j<=e):\n",
    "            if arr[i]<arr[j]:\n",
    "                ret.append(arr[i])\n",
    "                i+=1\n",
    "            else:\n",
    "                ret.append(arr[j])\n",
    "                j+=1\n",
    "        while(i<=m):\n",
    "            ret.append(arr[i])\n",
    "            i+=1\n",
    "        while(j<=e):\n",
    "            ret.append(arr[j])\n",
    "            j+=1\n",
    "        for i in range(l):\n",
    "            arr[l+s]=ret[i]\n",
    "        return ret\n",
    "    helper(0,n-1)\n",
    "    return arr"
   ]
  },
  {
   "cell_type": "code",
   "execution_count": null,
   "metadata": {},
   "outputs": [
    {
     "ename": "",
     "evalue": "",
     "output_type": "error",
     "traceback": [
      "\u001b[1;31mCanceled future for execute_request message before replies were done"
     ]
    },
    {
     "ename": "",
     "evalue": "",
     "output_type": "error",
     "traceback": [
      "\u001b[1;31mThe Kernel crashed while executing code in the the current cell or a previous cell. Please review the code in the cell(s) to identify a possible cause of the failure. Click <a href='https://aka.ms/vscodeJupyterKernelCrash'>here</a> for more info. View Jupyter <a href='command:jupyter.viewOutput'>log</a> for further details."
     ]
    }
   ],
   "source": [
    "arr=[4,2,7,0,2,4,6,87,34,2,4]\n",
    "merge_sort(arr)"
   ]
  },
  {
   "cell_type": "code",
   "execution_count": 11,
   "metadata": {},
   "outputs": [
    {
     "data": {
      "text/plain": [
       "[1, 2, 3]"
      ]
     },
     "execution_count": 11,
     "metadata": {},
     "output_type": "execute_result"
    }
   ],
   "source": [
    "import copy\n",
    "def chg(arr):\n",
    "    arr=copy.copy(arr)\n",
    "    arr[0]=99\n",
    "f=[1,2,3]\n",
    "chg(f)\n",
    "f"
   ]
  },
  {
   "cell_type": "code",
   "execution_count": 12,
   "metadata": {},
   "outputs": [
    {
     "data": {
      "text/plain": [
       "[1, 2, 3]"
      ]
     },
     "execution_count": 12,
     "metadata": {},
     "output_type": "execute_result"
    }
   ],
   "source": [
    "f"
   ]
  },
  {
   "cell_type": "code",
   "execution_count": 25,
   "metadata": {},
   "outputs": [
    {
     "data": {
      "text/plain": [
       "[1, 2, 3, 7]"
      ]
     },
     "execution_count": 25,
     "metadata": {},
     "output_type": "execute_result"
    }
   ],
   "source": [
    "arr=[1,2,3]\n",
    "krr=arr\n",
    "krr.append(7)\n",
    "arr"
   ]
  },
  {
   "cell_type": "code",
   "execution_count": null,
   "metadata": {},
   "outputs": [],
   "source": []
  },
  {
   "cell_type": "code",
   "execution_count": null,
   "metadata": {},
   "outputs": [],
   "source": []
  }
 ],
 "metadata": {
  "kernelspec": {
   "display_name": "Python 3.9.6 64-bit",
   "language": "python",
   "name": "python3"
  },
  "language_info": {
   "codemirror_mode": {
    "name": "ipython",
    "version": 3
   },
   "file_extension": ".py",
   "mimetype": "text/x-python",
   "name": "python",
   "nbconvert_exporter": "python",
   "pygments_lexer": "ipython3",
   "version": "3.9.6"
  },
  "orig_nbformat": 4,
  "vscode": {
   "interpreter": {
    "hash": "e26b106e6146fa3417b08aa501d422914abd065c08ced2fc57ef114abeab93c7"
   }
  }
 },
 "nbformat": 4,
 "nbformat_minor": 2
}
