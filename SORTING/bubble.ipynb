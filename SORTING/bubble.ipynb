{
 "cells": [
  {
   "cell_type": "code",
   "execution_count": null,
   "metadata": {},
   "outputs": [],
   "source": [
    "def bubble_sort(arr):\n",
    "    for i in range(len(arr)-1):\n",
    "        swap= False\n",
    "        for j in range(len(arr)-i-1):\n",
    "            if(arr[j]>arr[j+1]):\n",
    "                arr[j],arr[j+1]=arr[j+1],arr[j]\n",
    "                swap= True\n",
    "            if(swap==True):\n",
    "                return\n",
    "\n",
    "arr=[5,4,3,2,1,1,7,17,2]\n",
    "bubble_sort(arr)\n",
    "print(arr)"
   ]
  }
 ],
 "metadata": {
  "language_info": {
   "name": "python"
  },
  "orig_nbformat": 4
 },
 "nbformat": 4,
 "nbformat_minor": 2
}
