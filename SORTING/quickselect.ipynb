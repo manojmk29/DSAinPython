{
 "cells": [
  {
   "cell_type": "code",
   "execution_count": 27,
   "metadata": {},
   "outputs": [],
   "source": [
    "def quickselect(arr,k):\n",
    "    def partition(l,r):\n",
    "        pivot=arr[r]\n",
    "        left=l\n",
    "        for j in range(l,r):\n",
    "            if(arr[j]<=pivot):\n",
    "                arr[left],arr[j]=arr[j],arr[left]\n",
    "                left+=1\n",
    "        arr[left],arr[r]=arr[r],arr[left]\n",
    "        return(left)\n",
    "    def helper(l,r):\n",
    "        if(l<r):\n",
    "            pos=partition(l,r)\n",
    "            if(pos==k-1):\n",
    "                return(arr[pos])\n",
    "            elif(pos>k-1):\n",
    "                return(helper(l,pos-1))\n",
    "            else:\n",
    "                return(helper(pos+1,r))\n",
    "        else:\n",
    "            return(arr[l])\n",
    "    return(helper(0,len(arr)-1))    \n"
   ]
  },
  {
   "cell_type": "code",
   "execution_count": 28,
   "metadata": {},
   "outputs": [
    {
     "data": {
      "text/plain": [
       "10"
      ]
     },
     "execution_count": 28,
     "metadata": {},
     "output_type": "execute_result"
    }
   ],
   "source": [
    "quickselect([10,80,30,90,50,40,30,50,70],1)"
   ]
  },
  {
   "cell_type": "code",
   "execution_count": 5,
   "metadata": {},
   "outputs": [],
   "source": [
    "def quicksort(arr):\n",
    "    def partition(l,r):\n",
    "        pivot=arr[r]\n",
    "        left=l\n",
    "        for j in range(l,r):\n",
    "            if(arr[j]<=pivot):\n",
    "                arr[left],arr[j]=arr[j],arr[left]\n",
    "                left+=1\n",
    "        arr[left],arr[r]=arr[r],arr[left]\n",
    "        return(left)\n",
    "    def helper(l,r):\n",
    "        if(l<r):\n",
    "            pos=partition(l,r)\n",
    "            helper(l,pos-1)\n",
    "            helper(pos+1,r)\n",
    "    l=0\n",
    "    r=len(arr)-1\n",
    "    helper(l,r)\n",
    "    return(arr)\n",
    "        "
   ]
  },
  {
   "cell_type": "code",
   "execution_count": 6,
   "metadata": {},
   "outputs": [
    {
     "data": {
      "text/plain": [
       "[10, 30, 30, 40, 50, 50, 70, 80, 90]"
      ]
     },
     "execution_count": 6,
     "metadata": {},
     "output_type": "execute_result"
    }
   ],
   "source": [
    "quicksort([10,80,30,90,50,40,30,50,70])"
   ]
  },
  {
   "cell_type": "code",
   "execution_count": 12,
   "metadata": {},
   "outputs": [
    {
     "name": "stdout",
     "output_type": "stream",
     "text": [
      "K-th smallest element is 4\n"
     ]
    }
   ],
   "source": [
    "\n",
    "# Python3 program of Quick Select\n",
    " \n",
    "# Standard partition process of QuickSort().\n",
    "# It considers the last element as pivot\n",
    "# and moves all smaller element to left of\n",
    "# it and greater elements to right\n",
    "def partition(arr, l, r):\n",
    "     \n",
    "    x = arr[r]\n",
    "    i = l\n",
    "    for j in range(l, r):\n",
    "         \n",
    "        if arr[j] <= x:\n",
    "            arr[i], arr[j] = arr[j], arr[i]\n",
    "            i += 1\n",
    "             \n",
    "    arr[i], arr[r] = arr[r], arr[i]\n",
    "    return i\n",
    " \n",
    "# finds the kth position (of the sorted array)\n",
    "# in a given unsorted array i.e this function\n",
    "# can be used to find both kth largest and\n",
    "# kth smallest element in the array.\n",
    "# ASSUMPTION: all elements in arr[] are distinct\n",
    "def kthSmallest(arr, l, r, k):\n",
    " \n",
    "    # if k is smaller than number of\n",
    "    # elements in array\n",
    "    if (k > 0 and k <= r - l + 1):\n",
    " \n",
    "        # Partition the array around last\n",
    "        # element and get position of pivot\n",
    "        # element in sorted array\n",
    "        index = partition(arr, l, r)\n",
    " \n",
    "        # if position is same as k\n",
    "        if (index - l == k - 1):\n",
    "            return arr[index]\n",
    " \n",
    "        # If position is more, recur\n",
    "        # for left subarray\n",
    "        if (index - l > k - 1):\n",
    "            return kthSmallest(arr, l, index - 1, k)\n",
    " \n",
    "        # Else recur for right subarray\n",
    "        return kthSmallest(arr, index + 1, r,\n",
    "                            k - index + l - 1)\n",
    "    print(\"Index out of bound\")\n",
    " \n",
    "# Driver Code\n",
    "arr = [ 10, 4, 5, 8, 6, 11, 26 ]\n",
    "n = len(arr)\n",
    "k = 1\n",
    "print(\"K-th smallest element is \", end = \"\")\n",
    "print(kthSmallest(arr, 0, n - 1, k))"
   ]
  },
  {
   "cell_type": "code",
   "execution_count": 30,
   "metadata": {},
   "outputs": [
    {
     "data": {
      "text/plain": [
       "2"
      ]
     },
     "execution_count": 30,
     "metadata": {},
     "output_type": "execute_result"
    }
   ],
   "source": [
    "a=[1,2,3]\n",
    "for i in range(len(a)):\n",
    "    h=2\n",
    "i"
   ]
  },
  {
   "cell_type": "code",
   "execution_count": null,
   "metadata": {},
   "outputs": [],
   "source": []
  }
 ],
 "metadata": {
  "interpreter": {
   "hash": "e26b106e6146fa3417b08aa501d422914abd065c08ced2fc57ef114abeab93c7"
  },
  "kernelspec": {
   "display_name": "Python 3.9.6 64-bit",
   "language": "python",
   "name": "python3"
  },
  "language_info": {
   "codemirror_mode": {
    "name": "ipython",
    "version": 3
   },
   "file_extension": ".py",
   "mimetype": "text/x-python",
   "name": "python",
   "nbconvert_exporter": "python",
   "pygments_lexer": "ipython3",
   "version": "3.9.6"
  },
  "orig_nbformat": 4
 },
 "nbformat": 4,
 "nbformat_minor": 2
}
