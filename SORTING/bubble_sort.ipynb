{
 "cells": [
  {
   "cell_type": "code",
   "execution_count": 5,
   "metadata": {},
   "outputs": [
    {
     "data": {
      "text/plain": [
       "[-1, 1, 2, 2, 3, 4, 6, 9, 24, 44]"
      ]
     },
     "execution_count": 5,
     "metadata": {},
     "output_type": "execute_result"
    }
   ],
   "source": [
    "arr=[1,44,24,2,3,9,6,-1,2,4]\n",
    "n=len(arr)\n",
    "for i in range(n-1):\n",
    "    for j in range(n-i-1):\n",
    "        if arr[j]>arr[j+1]:\n",
    "            arr[j],arr[j+1]=arr[j+1],arr[j]\n",
    "arr"
   ]
  },
  {
   "cell_type": "code",
   "execution_count": 17,
   "metadata": {},
   "outputs": [
    {
     "name": "stdout",
     "output_type": "stream",
     "text": [
      "16\n"
     ]
    }
   ],
   "source": [
    "from functools import lru_cache\n",
    "\n",
    "n=int(input())\n",
    "mat=[]\n",
    "for i in range(n):\n",
    "    inp=list(map(int,input().split(\" \")))\n",
    "    mat.append(inp)\n",
    "\n",
    "\n",
    "def func(mat):\n",
    "    n=len(mat)\n",
    "    @lru_cache()\n",
    "    def helper(i,j):\n",
    "        if i>=n or j>=n:\n",
    "            return float(\"inf\")\n",
    "        if i==n-1 and j==n-1:\n",
    "            return mat[i][j]\n",
    "        return mat[i][j]+min(helper(i+1,j),helper(i,j+1))\n",
    "    return helper(0,0)\n",
    "mat=[[7,3,6],[22,3,4],[9,2,1]]\n",
    "print(func(mat))"
   ]
  },
  {
   "cell_type": "code",
   "execution_count": null,
   "metadata": {},
   "outputs": [],
   "source": [
    "from functools import lru_cache\n",
    "\n",
    "n=int(input())\n",
    "mat=[]\n",
    "for i in range(n):\n",
    "    inp=list(map(int,input().split(\" \")))\n",
    "    mat.append(inp)\n",
    "\n",
    "\n",
    "def func(mat):\n",
    "    n=len(mat)\n",
    "    @lru_cache()\n",
    "    def helper(i,j):\n",
    "        if i>=n or j>=n:\n",
    "            return float(\"inf\")\n",
    "        if i==n-1 and j==n-1:\n",
    "            return mat[i][j]\n",
    "        return mat[i][j]+min(helper(i+1,j),helper(i,j+1))\n",
    "    return helper(0,0)\n",
    "mat=[[7,3,6],[22,3,4],[9,2,1]]\n",
    "print(func(mat))"
   ]
  },
  {
   "cell_type": "code",
   "execution_count": 20,
   "metadata": {},
   "outputs": [
    {
     "data": {
      "text/plain": [
       "[1, 2, 3]"
      ]
     },
     "execution_count": 20,
     "metadata": {},
     "output_type": "execute_result"
    }
   ],
   "source": [
    "z=\"1 2 3\"\n",
    "inp=z.split()\n",
    "for i in range(n):\n",
    "    inp[i]=int(inp[i])\n",
    "inp"
   ]
  },
  {
   "cell_type": "code",
   "execution_count": 16,
   "metadata": {},
   "outputs": [
    {
     "data": {
      "text/plain": [
       "2"
      ]
     },
     "execution_count": 16,
     "metadata": {},
     "output_type": "execute_result"
    }
   ],
   "source": [
    "inp[1]"
   ]
  },
  {
   "cell_type": "code",
   "execution_count": 24,
   "metadata": {},
   "outputs": [],
   "source": [
    "n,m=map(int,input().split(\" \"))"
   ]
  },
  {
   "cell_type": "code",
   "execution_count": 25,
   "metadata": {},
   "outputs": [
    {
     "data": {
      "text/plain": [
       "1"
      ]
     },
     "execution_count": 25,
     "metadata": {},
     "output_type": "execute_result"
    }
   ],
   "source": [
    "n"
   ]
  },
  {
   "cell_type": "code",
   "execution_count": 26,
   "metadata": {},
   "outputs": [],
   "source": []
  },
  {
   "cell_type": "code",
   "execution_count": 37,
   "metadata": {},
   "outputs": [
    {
     "name": "stdout",
     "output_type": "stream",
     "text": [
      "40\n",
      "6\n",
      "4\n",
      "0\n",
      "0\n",
      "24\n",
      "16\n",
      "0\n",
      "0\n"
     ]
    }
   ],
   "source": [
    "class node:\n",
    "    def __init__(self,val=0):\n",
    "        self.val=val\n",
    "        self.left=None\n",
    "        self.right=None\n",
    "        self.sum=0\n",
    "# n=int(input())\n",
    "# arr=list(map(int,input().split(\" \")))\n",
    "n=9\n",
    "arr=[5,6,4,8,2,7,3,9,1]\n",
    "r=node(arr[0])\n",
    "def insert(root, key):\n",
    "    if root is None:\n",
    "        return node(key)\n",
    "    else:\n",
    "        if root.val == key:\n",
    "            return root\n",
    "        elif root.val < key:\n",
    "            root.right = insert(root.right, key)\n",
    "        else:\n",
    "            root.left = insert(root.left, key)\n",
    "    return root\n",
    "for i in range(1,n):\n",
    "    v=arr[i]\n",
    "    insert(r,v)\n",
    "\n",
    "\n",
    "def dfs(rt):\n",
    "    l=r=0\n",
    "    if rt.left:\n",
    "        dfs(rt.left)\n",
    "        l=rt.left.sum\n",
    "        l+=rt.left.val\n",
    "    if rt.right:\n",
    "        dfs(rt.right)\n",
    "        r=rt.right.sum\n",
    "        r+=rt.right.val\n",
    "    rt.sum=l+r\n",
    "dfs(r)\n",
    "def f(root):\n",
    "    if root:\n",
    "        print(root.sum)\n",
    "        f(root.left)\n",
    "        f(root.right)\n",
    "f(r)"
   ]
  },
  {
   "cell_type": "code",
   "execution_count": 32,
   "metadata": {},
   "outputs": [
    {
     "data": {
      "text/plain": [
       "1"
      ]
     },
     "execution_count": 32,
     "metadata": {},
     "output_type": "execute_result"
    }
   ],
   "source": []
  },
  {
   "cell_type": "code",
   "execution_count": null,
   "metadata": {},
   "outputs": [],
   "source": []
  }
 ],
 "metadata": {
  "kernelspec": {
   "display_name": "Python 3.9.6 64-bit",
   "language": "python",
   "name": "python3"
  },
  "language_info": {
   "codemirror_mode": {
    "name": "ipython",
    "version": 3
   },
   "file_extension": ".py",
   "mimetype": "text/x-python",
   "name": "python",
   "nbconvert_exporter": "python",
   "pygments_lexer": "ipython3",
   "version": "3.9.6"
  },
  "orig_nbformat": 4,
  "vscode": {
   "interpreter": {
    "hash": "e26b106e6146fa3417b08aa501d422914abd065c08ced2fc57ef114abeab93c7"
   }
  }
 },
 "nbformat": 4,
 "nbformat_minor": 2
}
