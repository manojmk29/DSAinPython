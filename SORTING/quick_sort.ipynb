{
 "cells": [
  {
   "cell_type": "code",
   "execution_count": null,
   "metadata": {},
   "outputs": [],
   "source": [
    "def quicksort(arr):\n",
    "    arr.append(float(\"inf\"))\n",
    "    def helper(l,r):\n",
    "        if(l==r):\n",
    "            return\n",
    "        while(l<r):\n",
    "            while(arr[l]<=arr[pi]):\n",
    "                l+=1\n",
    "            while(arr[r]>arr[pi]):\n",
    "                r+=1\n",
    "            arr[l],arr[r]=arr[r],arr[l]\n",
    "        arr[l],arr[pi]=arr[pi],arr[l]\n",
    "        \n",
    "        pi=l\n",
    "        "
   ]
  },
  {
   "cell_type": "code",
   "execution_count": 2,
   "metadata": {},
   "outputs": [],
   "source": [
    "arr=[1,4,2,8,2,0,10,5]"
   ]
  },
  {
   "cell_type": "code",
   "execution_count": 20,
   "metadata": {},
   "outputs": [],
   "source": [
    "def quicksort(arr):\n",
    "    def partition(l,r):\n",
    "        pivot=arr[r]\n",
    "        left=l\n",
    "        for j in range(l,r):\n",
    "            if(arr[j]<=pivot):\n",
    "                arr[left],arr[j]=arr[j],arr[left]\n",
    "                left+=1\n",
    "        arr[left],arr[r]=arr[r],arr[left]\n",
    "        return(left)\n",
    "    def helper(l,r):\n",
    "        if(l<r):\n",
    "            pos=partition(l,r)\n",
    "            helper(l,pos-1)\n",
    "            helper(pos+1,r)\n",
    "    l=0\n",
    "    r=len(arr)-1\n",
    "    helper(l,r)\n",
    "    return(arr)\n",
    "        "
   ]
  },
  {
   "cell_type": "code",
   "execution_count": 24,
   "metadata": {},
   "outputs": [
    {
     "data": {
      "text/plain": [
       "[10, 30, 30, 40, 50, 50, 70, 80, 90]"
      ]
     },
     "execution_count": 24,
     "metadata": {},
     "output_type": "execute_result"
    }
   ],
   "source": [
    "quicksort([10,80,30,90,50,40,30,50,70])"
   ]
  },
  {
   "cell_type": "code",
   "execution_count": null,
   "metadata": {},
   "outputs": [],
   "source": [
    "\"\"\"\n",
    "\n",
    "10 80 30 90 40 50 70 \n",
    "0   1    3  4  5  6\n",
    "l=0 r=6\n",
    "pi\n",
    "\n",
    "\"\"\""
   ]
  }
 ],
 "metadata": {
  "interpreter": {
   "hash": "e26b106e6146fa3417b08aa501d422914abd065c08ced2fc57ef114abeab93c7"
  },
  "kernelspec": {
   "display_name": "Python 3.9.6 64-bit",
   "language": "python",
   "name": "python3"
  },
  "language_info": {
   "codemirror_mode": {
    "name": "ipython",
    "version": 3
   },
   "file_extension": ".py",
   "mimetype": "text/x-python",
   "name": "python",
   "nbconvert_exporter": "python",
   "pygments_lexer": "ipython3",
   "version": "3.9.6"
  },
  "orig_nbformat": 4
 },
 "nbformat": 4,
 "nbformat_minor": 2
}
