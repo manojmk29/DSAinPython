{
 "cells": [
  {
   "cell_type": "code",
   "execution_count": null,
   "metadata": {},
   "outputs": [],
   "source": [
    "def quicksort(arr):\n",
    "    arr.append(float(\"inf\"))\n",
    "    def helper(l,r):\n",
    "        if(l==r):\n",
    "            return\n",
    "        while(l<r):\n",
    "            while(arr[l]<=arr[pi]):\n",
    "                l+=1\n",
    "            while(arr[r]>arr[pi]):\n",
    "                r+=1\n",
    "            arr[l],arr[r]=arr[r],arr[l]\n",
    "        arr[l],arr[pi]=arr[pi],arr[l]\n",
    "        \n",
    "        pi=l\n",
    "        "
   ]
  },
  {
   "cell_type": "code",
   "execution_count": 2,
   "metadata": {},
   "outputs": [],
   "source": [
    "arr=[1,4,2,8,2,0,10,5]"
   ]
  },
  {
   "cell_type": "code",
   "execution_count": null,
   "metadata": {},
   "outputs": [],
   "source": []
  },
  {
   "cell_type": "code",
   "execution_count": null,
   "metadata": {},
   "outputs": [],
   "source": []
  }
 ],
 "metadata": {
  "interpreter": {
   "hash": "11ad92808b9e536a1bda76e6f18576c204b1bdc67c9013f7331a2b858d211f20"
  },
  "kernelspec": {
   "display_name": "Python 3.9.6 64-bit",
   "language": "python",
   "name": "python3"
  },
  "language_info": {
   "codemirror_mode": {
    "name": "ipython",
    "version": 3
   },
   "file_extension": ".py",
   "mimetype": "text/x-python",
   "name": "python",
   "nbconvert_exporter": "python",
   "pygments_lexer": "ipython3",
   "version": "3.9.6"
  },
  "orig_nbformat": 4
 },
 "nbformat": 4,
 "nbformat_minor": 2
}
