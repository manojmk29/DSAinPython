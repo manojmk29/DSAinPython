{
 "cells": [
  {
   "cell_type": "code",
   "execution_count": null,
   "metadata": {},
   "outputs": [],
   "source": [
    "def quicksort(arr):\n",
    "    arr.append(float(\"inf\"))\n",
    "    def helper(l,r):\n",
    "        if(l==r):\n",
    "            return\n",
    "        while(l<r):\n",
    "            while(arr[l]<=arr[pi]):\n",
    "                l+=1\n",
    "            while(arr[r]>arr[pi]):\n",
    "                r+=1\n",
    "            arr[l],arr[r]=arr[r],arr[l]\n",
    "        arr[l],arr[pi]=arr[pi],arr[l]\n",
    "        \n",
    "        pi=l\n",
    "        "
   ]
  },
  {
   "cell_type": "code",
   "execution_count": 2,
   "metadata": {},
   "outputs": [],
   "source": [
    "arr=[1,4,2,8,2,0,10,5]"
   ]
  },
  {
   "cell_type": "code",
   "execution_count": 1,
   "metadata": {},
   "outputs": [],
   "source": [
    "def quicksort(arr):\n",
    "    def partition(l,r):\n",
    "        pivot=arr[r]\n",
    "        left=l\n",
    "        for j in range(l,r):\n",
    "            if(arr[j]<=pivot):\n",
    "                arr[left],arr[j]=arr[j],arr[left]\n",
    "                left+=1\n",
    "        arr[left],arr[r]=arr[r],arr[left]\n",
    "        return(left)\n",
    "    def helper(l,r):\n",
    "        if(l<r):\n",
    "            pos=partition(l,r)\n",
    "            helper(l,pos-1)\n",
    "            helper(pos+1,r)\n",
    "    l=0\n",
    "    r=len(arr)-1\n",
    "    helper(l,r)\n",
    "    return(arr)\n",
    "        "
   ]
  },
  {
   "cell_type": "code",
   "execution_count": 2,
   "metadata": {},
   "outputs": [
    {
     "data": {
      "text/plain": [
       "[10, 30, 30, 40, 50, 50, 70, 80, 90]"
      ]
     },
     "execution_count": 2,
     "metadata": {},
     "output_type": "execute_result"
    }
   ],
   "source": [
    "quicksort([10,80,30,90,50,40,30,50,70])"
   ]
  },
  {
   "cell_type": "code",
   "execution_count": null,
   "metadata": {},
   "outputs": [],
   "source": [
    "\"\"\"\n",
    "\n",
    "10 80 30 90 40 50 70 \n",
    "0   1    3  4  5  6\n",
    "l=0 r=6\n",
    "pi\n",
    "\n",
    "\"\"\""
   ]
  },
  {
   "cell_type": "code",
   "execution_count": 1,
   "metadata": {},
   "outputs": [],
   "source": [
    "def quicksort(arr):\n",
    "    def selection(l,r):\n",
    "        val=arr[r]\n",
    "        e=r-1\n",
    "        i=0\n",
    "        while(i<=e):\n",
    "            if(arr[i]>val):\n",
    "                arr[i],arr[e]=arr[e],arr[i]\n",
    "                e-=1 \n",
    "            else:\n",
    "                i+=1\n",
    "        e+=1\n",
    "        arr[e],arr[r]=arr[r],arr[e]\n",
    "        return(e)\n",
    "    def helper(l,r):\n",
    "        if(l<r):\n",
    "            inp=selection(l,r)\n",
    "            helper(l,inp-1)\n",
    "            helper(inp+1,r)\n",
    "    helper(0,len(arr)-1)\n",
    "    print(arr)"
   ]
  },
  {
   "cell_type": "code",
   "execution_count": 3,
   "metadata": {},
   "outputs": [
    {
     "name": "stdout",
     "output_type": "stream",
     "text": [
      "[0, 1, 1, 2, 2, 2, 2, 2, 3, 3, 4, 4, 4, 5, 8, 99]\n"
     ]
    }
   ],
   "source": [
    "quicksort([3,1,4,8,4,2,4,2,2,2,2,1,99,3,5,0])"
   ]
  },
  {
   "cell_type": "code",
   "execution_count": 5,
   "metadata": {},
   "outputs": [
    {
     "data": {
      "text/plain": [
       "'al'"
      ]
     },
     "execution_count": 5,
     "metadata": {},
     "output_type": "execute_result"
    }
   ],
   "source": [
    "def func(s1,s2):\n",
    "    hset=set()\n",
    "    for i in s2:\n",
    "        hset.add(i)\n",
    "    ret=\"\"\n",
    "    for i in s1:\n",
    "        if i not in hset:\n",
    "            ret+=i\n",
    "    return ret\n",
    "\n",
    "\n",
    "func(\"apple\",\"pise\")"
   ]
  },
  {
   "cell_type": "code",
   "execution_count": 6,
   "metadata": {},
   "outputs": [
    {
     "ename": "ValueError",
     "evalue": "invalid literal for int() with base 10: ''",
     "output_type": "error",
     "traceback": [
      "\u001b[1;31m---------------------------------------------------------------------------\u001b[0m",
      "\u001b[1;31mValueError\u001b[0m                                Traceback (most recent call last)",
      "\u001b[1;32m~\\AppData\\Local\\Temp/ipykernel_2428/1304366277.py\u001b[0m in \u001b[0;36m<module>\u001b[1;34m\u001b[0m\n\u001b[1;32m----> 1\u001b[1;33m \u001b[0mopt\u001b[0m\u001b[1;33m=\u001b[0m\u001b[0mint\u001b[0m\u001b[1;33m(\u001b[0m\u001b[0minput\u001b[0m\u001b[1;33m(\u001b[0m\u001b[1;33m)\u001b[0m\u001b[1;33m)\u001b[0m\u001b[1;33m\u001b[0m\u001b[1;33m\u001b[0m\u001b[0m\n\u001b[0m\u001b[0;32m      2\u001b[0m \u001b[0mr\u001b[0m\u001b[1;33m,\u001b[0m\u001b[0mc\u001b[0m\u001b[1;33m=\u001b[0m\u001b[0mmap\u001b[0m\u001b[1;33m(\u001b[0m\u001b[0mint\u001b[0m\u001b[1;33m,\u001b[0m\u001b[0minput\u001b[0m\u001b[1;33m(\u001b[0m\u001b[1;33m)\u001b[0m\u001b[1;33m.\u001b[0m\u001b[0msplit\u001b[0m\u001b[1;33m(\u001b[0m\u001b[1;34m\" \"\u001b[0m\u001b[1;33m)\u001b[0m\u001b[1;33m)\u001b[0m\u001b[1;33m\u001b[0m\u001b[1;33m\u001b[0m\u001b[0m\n\u001b[0;32m      3\u001b[0m \u001b[0mmat\u001b[0m\u001b[1;33m=\u001b[0m\u001b[1;33m[\u001b[0m\u001b[1;33m[\u001b[0m\u001b[1;36m0\u001b[0m \u001b[1;32mfor\u001b[0m \u001b[0mi\u001b[0m \u001b[1;32min\u001b[0m \u001b[0mrange\u001b[0m\u001b[1;33m(\u001b[0m\u001b[0mc\u001b[0m\u001b[1;33m)\u001b[0m\u001b[1;33m]\u001b[0m\u001b[1;32mfor\u001b[0m \u001b[0mi\u001b[0m \u001b[1;32min\u001b[0m \u001b[0mrange\u001b[0m\u001b[1;33m(\u001b[0m\u001b[0mr\u001b[0m\u001b[1;33m)\u001b[0m\u001b[1;33m]\u001b[0m\u001b[1;33m\u001b[0m\u001b[1;33m\u001b[0m\u001b[0m\n\u001b[0;32m      4\u001b[0m \u001b[1;32mfor\u001b[0m \u001b[0mi\u001b[0m \u001b[1;32min\u001b[0m \u001b[0mrange\u001b[0m\u001b[1;33m(\u001b[0m\u001b[0mr\u001b[0m\u001b[1;33m)\u001b[0m\u001b[1;33m:\u001b[0m\u001b[1;33m\u001b[0m\u001b[1;33m\u001b[0m\u001b[0m\n\u001b[0;32m      5\u001b[0m     \u001b[1;32mfor\u001b[0m \u001b[0mj\u001b[0m \u001b[1;32min\u001b[0m \u001b[0mrange\u001b[0m\u001b[1;33m(\u001b[0m\u001b[0mc\u001b[0m\u001b[1;33m)\u001b[0m\u001b[1;33m:\u001b[0m\u001b[1;33m\u001b[0m\u001b[1;33m\u001b[0m\u001b[0m\n",
      "\u001b[1;31mValueError\u001b[0m: invalid literal for int() with base 10: ''"
     ]
    }
   ],
   "source": [
    "opt=int(input())\n",
    "r,c=map(int,input().split(\" \"))\n",
    "mat=[[0 for i in range(c)]for i in range(r)]\n",
    "for i in range(r):\n",
    "    for j in range(c):\n",
    "        mat[i][j]=int(input())\n",
    "flag=[[0 for i in range(c)]for i in range(r)]\n",
    "def hori():\n",
    "    cur=False\n",
    "    tot=0\n",
    "    for i in range(r):\n",
    "        for j in range(c):\n",
    "            val=mat[i][j]\n",
    "            if val:\n",
    "                cur=True\n",
    "            else:\n",
    "                if cur:\n",
    "                    tot+=1\n",
    "                    cur=False\n",
    "        if cur:\n",
    "            tot+=1\n",
    "        cur=False\n",
    "    return tot\n",
    "print(hori(mat))\n"
   ]
  },
  {
   "cell_type": "code",
   "execution_count": 11,
   "metadata": {},
   "outputs": [
    {
     "data": {
      "text/plain": [
       "7"
      ]
     },
     "execution_count": 11,
     "metadata": {},
     "output_type": "execute_result"
    }
   ],
   "source": [
    "r,c=5,5\n",
    "mat=[[1,0,0,0,1],[0,1,0,1,0],[0,1,1,1,0],[0,1,0,1,0],[1,0,0,0,1]]\n",
    "flag=[[0 for i in range(c)]for i in range(r)]\n",
    "def hori():\n",
    "    cur=False\n",
    "    tot=0\n",
    "    for i in range(r):\n",
    "        for j in range(c):\n",
    "            val=mat[i][j]\n",
    "            if val:\n",
    "                cur=True\n",
    "            else:\n",
    "                if cur:\n",
    "                    tot+=1\n",
    "                    cur=False\n",
    "        if cur:\n",
    "            tot+=1\n",
    "        cur=False\n",
    "    return tot\n",
    "def verti():\n",
    "    cur=False\n",
    "    tot=0\n",
    "    for i in range(c):\n",
    "        for j in range(r):\n",
    "            val=mat[j][i]\n",
    "            if val:\n",
    "                cur=True\n",
    "            else:\n",
    "                if cur:\n",
    "                    tot+=1\n",
    "                    cur=False\n",
    "        if cur:\n",
    "            tot+=1\n",
    "        cur=False\n",
    "    return tot\n",
    "              \n",
    "def verti():\n",
    "    cur=False\n",
    "    tot=0\n",
    "    for i in range(c):\n",
    "        for j in range(r):\n",
    "            val=mat[j][i]\n",
    "            if val:\n",
    "                cur=True\n",
    "            else:\n",
    "                if cur:\n",
    "                    tot+=1\n",
    "                    cur=False\n",
    "        if cur:\n",
    "            tot+=1\n",
    "        cur=False\n",
    "    return tot\n",
    "     \n",
    "verti()"
   ]
  },
  {
   "cell_type": "code",
   "execution_count": null,
   "metadata": {},
   "outputs": [],
   "source": []
  }
 ],
 "metadata": {
  "interpreter": {
   "hash": "e26b106e6146fa3417b08aa501d422914abd065c08ced2fc57ef114abeab93c7"
  },
  "kernelspec": {
   "display_name": "Python 3.9.6 64-bit",
   "language": "python",
   "name": "python3"
  },
  "language_info": {
   "codemirror_mode": {
    "name": "ipython",
    "version": 3
   },
   "file_extension": ".py",
   "mimetype": "text/x-python",
   "name": "python",
   "nbconvert_exporter": "python",
   "pygments_lexer": "ipython3",
   "version": "3.9.6"
  },
  "orig_nbformat": 4
 },
 "nbformat": 4,
 "nbformat_minor": 2
}
