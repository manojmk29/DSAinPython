{
 "cells": [
  {
   "cell_type": "code",
   "execution_count": null,
   "metadata": {},
   "outputs": [],
   "source": [
    "def sortColors(nums):\n",
    "        #method 2\n",
    "        left, mid, right = 0, 0, len(nums)-1\n",
    "        while mid <= right:\n",
    "            if nums[mid] == 0:\n",
    "                nums[left], nums[mid] = nums[mid], nums[left]\n",
    "                mid += 1\n",
    "                left += 1\n",
    "            elif nums[mid] == 1:\n",
    "                mid += 1\n",
    "            else:\n",
    "                nums[mid], nums[right] = nums[right], nums[mid]\n",
    "                right -= 1  \n",
    "        \n",
    "        #method 1 \n",
    "        \n",
    "        # dic={}\n",
    "        # dic[0]=0\n",
    "        # dic[1]=0\n",
    "        # dic[2]=0\n",
    "        # for i in nums:\n",
    "        #         dic[i]+=1\n",
    "        # j=0\n",
    "        # for i in range(dic[0]):\n",
    "        #     nums[j]=0\n",
    "        #     j+=1\n",
    "        # for i in range(dic[1]):\n",
    "        #     nums[j]=1\n",
    "        #     j+=1\n",
    "        # for i in range(dic[2]):\n",
    "        #     nums[j]=2\n",
    "        #     j+=1\n",
    "        "
   ]
  },
  {
   "cell_type": "code",
   "execution_count": null,
   "metadata": {},
   "outputs": [],
   "source": []
  }
 ],
 "metadata": {
  "language_info": {
   "name": "python"
  },
  "orig_nbformat": 4
 },
 "nbformat": 4,
 "nbformat_minor": 2
}
