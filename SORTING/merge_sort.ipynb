{
 "cells": [
  {
   "cell_type": "code",
   "execution_count": null,
   "metadata": {},
   "outputs": [],
   "source": [
    "def mergeSort(arr):\n",
    "    if len(arr) > 1:\n",
    "         # Finding the mid of the array\n",
    "        mid = len(arr)//2\n",
    "  \n",
    "        # Dividing the array elements\n",
    "        L = arr[:mid]\n",
    "  \n",
    "        # into 2 halves\n",
    "        R = arr[mid:]\n",
    "  \n",
    "        # Sorting the first half\n",
    "        mergeSort(L)\n",
    "  \n",
    "        # Sorting the second half\n",
    "        mergeSort(R)\n",
    "  \n",
    "        i = j = k = 0\n",
    "  \n",
    "        # Copy data to temp arrays L[] and R[]\n",
    "        while i < len(L) and j < len(R):\n",
    "            if L[i] < R[j]:\n",
    "                arr[k] = L[i]\n",
    "                i += 1\n",
    "            else:\n",
    "                arr[k] = R[j]\n",
    "                j += 1\n",
    "            k += 1\n",
    "  \n",
    "        # Checking if any element was left\n",
    "        while i < len(L):\n",
    "            arr[k] = L[i]\n",
    "            i += 1\n",
    "            k += 1\n",
    "  \n",
    "        while j < len(R):\n",
    "            arr[k] = R[j]\n",
    "            j += 1\n",
    "            k += 1\n",
    "  \n",
    "# Code to print the list\n",
    "  \n",
    "  \n",
    "def printList(arr):\n",
    "    for i in range(len(arr)):\n",
    "        print(arr[i], end=\" \")\n",
    "    print()\n",
    "  \n",
    "# Driver Code\n",
    "if __name__ == '__main__':\n",
    "    arr = [12, 11, 13, 5, 6, 7]\n",
    "    print(\"Given array is\", end=\"\\n\")\n",
    "    printList(arr)\n",
    "    mergeSort(arr)\n",
    "    print(\"Sorted array is: \", end=\"\\n\")\n",
    "    printList(arr)\n",
    "\n",
    "def mergesort(arr,l,r):\n",
    "    if(r>l):\n",
    "        mid=(l+r)//2\n",
    "        mergesort(arr,l,mid)\n",
    "        mergesort(arr,mid+1,r)\n",
    "        merge(arr,l,r,mid)\n",
    "def merge(arr,l,r,mid):\n",
    "    rr=mid+1\n",
    "    lt=l\n",
    "    rt=r\n",
    "    temp=[]\n",
    "    while(l<=mid and rr<=r):\n",
    "        if(arr[l]<arr[rr]):\n",
    "            temp+=[arr[l]]\n",
    "            l+=1\n",
    "        else:\n",
    "            temp+=[arr[rr]]\n",
    "            rr+=1\n",
    "    while(l<=mid):\n",
    "        temp+=[arr[l]]\n",
    "        l+=1\n",
    "    while(rr<=r):\n",
    "        temp+=[arr[rr]]\n",
    "        rr+=1\n",
    "    for i in range(lt,rt+1):\n",
    "        arr[i]=temp[i-lt]    \n",
    "arr=[3,2,5,7,1,2,10,-4]\n",
    "mergesort(arr,0,len(arr)-1)\n",
    "print(arr)"
   ]
  },
  {
   "cell_type": "markdown",
   "metadata": {},
   "source": [
    "COUNT INVERSION"
   ]
  },
  {
   "cell_type": "code",
   "execution_count": null,
   "metadata": {},
   "outputs": [],
   "source": [
    "def mergesort(arr,l,r):\n",
    "    if(r>l):\n",
    "        conv=0\n",
    "        mid=(l+r)//2\n",
    "        conv+=mergesort(arr,l,mid)\n",
    "        conv+=mergesort(arr,mid+1,r)\n",
    "        conv+=merge(arr,l,r,mid)\n",
    "        return conv\n",
    "    return(0)\n",
    "def merge(arr,l,r,mid):\n",
    "    conv=0\n",
    "    rr=mid+1\n",
    "    lt=l\n",
    "    rt=r\n",
    "    temp=[]\n",
    "    while(l<=mid and rr<=r):\n",
    "        if(arr[l]<arr[rr]):\n",
    "            temp+=[arr[l]]\n",
    "            l+=1\n",
    "        else:\n",
    "            temp+=[arr[rr]]\n",
    "            rr+=1\n",
    "            conv=conv+(mid+1-l)\n",
    "    while(l<=mid):\n",
    "        temp+=[arr[l]]\n",
    "        l+=1\n",
    "    while(rr<=r):\n",
    "        temp+=[arr[rr]]\n",
    "        rr+=1\n",
    "    for i in range(lt,rt+1):\n",
    "        arr[i]=temp[i-lt]    \n",
    "    return conv\n",
    "arr=[3,2,1]\n",
    "aa=mergesort(arr,0,len(arr)-1)\n",
    "print(aa)\n"
   ]
  },
  {
   "cell_type": "code",
   "execution_count": 2,
   "metadata": {},
   "outputs": [
    {
     "data": {
      "text/plain": [
       "9"
      ]
     },
     "execution_count": 2,
     "metadata": {},
     "output_type": "execute_result"
    }
   ],
   "source": [
    "9"
   ]
  },
  {
   "cell_type": "code",
   "execution_count": 6,
   "metadata": {},
   "outputs": [],
   "source": [
    "def mergesort(arr):\n",
    "    def merging(s,m,e):\n",
    "        l=[arr[i] for i in range(s,m+1)]\n",
    "        r=[arr[i] for i in range(m+1,e+1)]\n",
    "        temp=[]\n",
    "        nl=len(l)\n",
    "        nr=len(r)\n",
    "        i=j=0\n",
    "        while(i<nl and j<nr):\n",
    "            if(l[i]<r[j]):\n",
    "                temp.append(l[i])\n",
    "                i+=1\n",
    "            else:\n",
    "                temp.append(r[j])\n",
    "                j+=1\n",
    "        while(i<nl):\n",
    "            temp.append(l[i])\n",
    "            i+=1\n",
    "        while(j<nr):\n",
    "            temp.append(r[j])\n",
    "            j+=1\n",
    "        for i in range(len(temp)):\n",
    "            arr[i+s]=temp[i]\n",
    "    \n",
    "    def helper(l,r):\n",
    "        if(l<r):\n",
    "            m=(l+r)//2\n",
    "            helper(l,m)\n",
    "            helper(m+1,r)\n",
    "            merging(l,m,r)\n",
    "    n=len(arr)\n",
    "    helper(0,n-1)\n",
    "    return(arr)\n"
   ]
  },
  {
   "cell_type": "code",
   "execution_count": 7,
   "metadata": {},
   "outputs": [
    {
     "data": {
      "text/plain": [
       "[1, 1, 2, 3, 3, 5, 5, 6, 8, 99]"
      ]
     },
     "execution_count": 7,
     "metadata": {},
     "output_type": "execute_result"
    }
   ],
   "source": [
    "arr=[5,5,2,3,1,1,99,6,3,8]\n",
    "mergesort(arr)"
   ]
  },
  {
   "cell_type": "code",
   "execution_count": null,
   "metadata": {},
   "outputs": [],
   "source": [
    "def mergesort(arr):\n",
    "    def merging(s,m,e):\n",
    "        l=[arr[i] for i in range(s,m+1)]\n",
    "        r=[arr[i] for i in range(m+1,e+1)]\n",
    "        temp=[]\n",
    "        nl=len(l)\n",
    "        nr=len(r)\n",
    "        i=j=0\n",
    "        while(i<nl and j<nr):\n",
    "            if(l[i]<r[j]):\n",
    "                temp.append(l[i])\n",
    "                i+=1\n",
    "            else:\n",
    "                temp.append(r[j])\n",
    "                j+=1\n",
    "        while(i<nl):\n",
    "            temp.append(l[i])\n",
    "            i+=1\n",
    "        while(j<nr):\n",
    "            temp.append(r[j])\n",
    "            j+=1\n",
    "        for i in range(len(temp)):\n",
    "            arr[i+s]=temp[i]\n",
    "    \n",
    "    def helper(l,r):\n",
    "        if(l<r):\n",
    "            m=(l+r)//2\n",
    "            helper(l,m)\n",
    "            helper(m+1,r)\n",
    "            merging(l,m,r)\n",
    "    n=len(arr)\n",
    "    helper(0,n-1)\n",
    "    return(arr)\n"
   ]
  },
  {
   "cell_type": "code",
   "execution_count": null,
   "metadata": {},
   "outputs": [],
   "source": [
    "\"\"\"\n",
    "\n",
    "1 6 7 8\n",
    "2 3 8 9\n",
    "\n",
    "1 6 7 8 2 3 8 9\n",
    "l       r\n",
    "1 2 3 6 7 8 8 9\n",
    "\"\"\""
   ]
  }
 ],
 "metadata": {
  "interpreter": {
   "hash": "e26b106e6146fa3417b08aa501d422914abd065c08ced2fc57ef114abeab93c7"
  },
  "kernelspec": {
   "display_name": "Python 3.9.6 64-bit",
   "language": "python",
   "name": "python3"
  },
  "language_info": {
   "codemirror_mode": {
    "name": "ipython",
    "version": 3
   },
   "file_extension": ".py",
   "mimetype": "text/x-python",
   "name": "python",
   "nbconvert_exporter": "python",
   "pygments_lexer": "ipython3",
   "version": "3.9.6"
  },
  "orig_nbformat": 4
 },
 "nbformat": 4,
 "nbformat_minor": 2
}
