{
 "cells": [
  {
   "cell_type": "code",
   "execution_count": null,
   "metadata": {},
   "outputs": [],
   "source": [
    "class Solution(object):\n",
    "    def letterCombinations(self, digits):\n",
    "        \"\"\"\n",
    "        :type digits: str\n",
    "        :rtype: List[str]\n",
    "        \"\"\"\n",
    "        if(len(digits)==0):\n",
    "            return([])\n",
    "        ret=[]\n",
    "        hmap={}\n",
    "        hmap[\"2\"]=[\"a\",\"b\",\"c\"]\n",
    "        hmap[\"3\"]=[\"d\",\"e\",\"f\"]\n",
    "        hmap[\"4\"]=[\"g\",\"h\",\"i\"]\n",
    "        hmap[\"5\"]=[\"j\",\"k\",\"l\"]\n",
    "        hmap[\"6\"]=[\"m\",\"n\",\"o\"]\n",
    "        hmap[\"7\"]=[\"p\",\"q\",\"r\",\"s\"]\n",
    "        hmap[\"8\"]=[\"t\",\"u\",\"v\"]\n",
    "        hmap[\"9\"]=[\"w\",\"x\",\"y\",\"z\"]\n",
    "        n=len(digits)\n",
    "        def helper(digits,path=\"\"):\n",
    "            if(len(digits)==0):\n",
    "                ret.append(path)\n",
    "                return(\"\")\n",
    "            for i in hmap[digits[0]]:\n",
    "                helper(digits[1:],path+i)\n",
    "        helper(digits)\n",
    "        return(ret)\n",
    "o=Solution()\n",
    "aa=o.letterCombinations(\"\")\n",
    "print(aa)"
   ]
  }
 ],
 "metadata": {
  "language_info": {
   "name": "python"
  },
  "orig_nbformat": 4
 },
 "nbformat": 4,
 "nbformat_minor": 2
}
