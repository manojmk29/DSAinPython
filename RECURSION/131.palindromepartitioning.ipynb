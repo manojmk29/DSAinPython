{
 "cells": [
  {
   "cell_type": "code",
   "execution_count": 1,
   "metadata": {},
   "outputs": [],
   "source": [
    "class Solution:\n",
    "    def partition(self, s):\n",
    "        ret = []\n",
    "        n = len(s)\n",
    "        def checkPalindrome(word):\n",
    "            return word==word[::-1]\n",
    "        def helper(ind,cur,arr):\n",
    "            if ind == n:\n",
    "                if(cur == \"\"):\n",
    "                    ret.append(arr)\n",
    "                return\n",
    "            if(checkPalindrome(cur+s[ind])):\n",
    "                helper(ind+1,\"\",arr+[cur+s[ind]])\n",
    "            helper(ind+1,cur+s[ind],arr)\n",
    "        helper(0,\"\",[])\n",
    "        return ret"
   ]
  },
  {
   "cell_type": "code",
   "execution_count": 1,
   "metadata": {},
   "outputs": [
    {
     "ename": "NameError",
     "evalue": "name 'null' is not defined",
     "output_type": "error",
     "traceback": [
      "\u001b[0;31m---------------------------------------------------------------------------\u001b[0m",
      "\u001b[0;31mNameError\u001b[0m                                 Traceback (most recent call last)",
      "\u001b[1;32m/Users/apple/coding/DSAinPython/RECURSION/131.palindromepartitioning.ipynb Cell 2\u001b[0m line \u001b[0;36m1\n\u001b[0;32m----> <a href='vscode-notebook-cell:/Users/apple/coding/DSAinPython/RECURSION/131.palindromepartitioning.ipynb#W1sZmlsZQ%3D%3D?line=0'>1</a>\u001b[0m a \u001b[39m=\u001b[39mnull\n\u001b[1;32m      <a href='vscode-notebook-cell:/Users/apple/coding/DSAinPython/RECURSION/131.palindromepartitioning.ipynb#W1sZmlsZQ%3D%3D?line=1'>2</a>\u001b[0m a\n",
      "\u001b[0;31mNameError\u001b[0m: name 'null' is not defined"
     ]
    }
   ],
   "source": []
  },
  {
   "cell_type": "code",
   "execution_count": null,
   "metadata": {},
   "outputs": [],
   "source": []
  }
 ],
 "metadata": {
  "kernelspec": {
   "display_name": "Python 3",
   "language": "python",
   "name": "python3"
  },
  "language_info": {
   "codemirror_mode": {
    "name": "ipython",
    "version": 3
   },
   "file_extension": ".py",
   "mimetype": "text/x-python",
   "name": "python",
   "nbconvert_exporter": "python",
   "pygments_lexer": "ipython3",
   "version": "3.11.1"
  }
 },
 "nbformat": 4,
 "nbformat_minor": 2
}
