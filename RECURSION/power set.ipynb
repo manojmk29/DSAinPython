{
 "cells": [
  {
   "cell_type": "code",
   "execution_count": 10,
   "metadata": {},
   "outputs": [],
   "source": [
    "class Solution:\n",
    "\tdef AllPossibleStrings(self, s):\n",
    "\t\t# Code here\n",
    "\t\tn=len(s)\n",
    "\t\tret=[]\n",
    "\t\tfor i in range(1,pow(2,n)):\n",
    "\t\t    temp=\"\"\n",
    "\t\t    for j in range(n):\n",
    "\t\t        if(i&1<<j):\n",
    "\t\t            temp+=s[j]\n",
    "\t\t    ret.append(temp)\n",
    "\t\treturn(sorted(ret))"
   ]
  },
  {
   "cell_type": "code",
   "execution_count": 7,
   "metadata": {},
   "outputs": [
    {
     "name": "stdout",
     "output_type": "stream",
     "text": [
      "0\n",
      "1\n",
      "2\n",
      "3\n",
      "4\n",
      "5\n",
      "6\n",
      "7\n"
     ]
    }
   ],
   "source": [
    "n=3\n",
    "for i in range(pow(2,n)):\n",
    "    print(i)"
   ]
  },
  {
   "cell_type": "code",
   "execution_count": null,
   "metadata": {},
   "outputs": [],
   "source": [
    "#User function Template for python3\n",
    "\n",
    "class Solution:\n",
    "    def AllPossibleStrings(self, s):\n",
    "        # Code here\n",
    "        ret=[\"\"]\n",
    "        for i in s:\n",
    "            n=len(ret)\n",
    "            for j in range(n):\n",
    "                ret.append(ret[j]+i)\n",
    "        return(sorted(ret))\n",
    "#{ \n",
    "#  Driver Code Starts\n",
    "#Initial Template for Python 3\n",
    "\n",
    "if __name__ == '__main__':\n",
    "    T=int(input())\n",
    "    for i in range(T):\n",
    "        s = input()\n",
    "        ob = Solution();\n",
    "        ans = ob.AllPossibleStrings(s)\n",
    "        for i in ans:\n",
    "            print(i, end = \" \");\n",
    "        print()\n",
    "# } Driver Code Ends"
   ]
  },
  {
   "cell_type": "code",
   "execution_count": 3,
   "metadata": {},
   "outputs": [],
   "source": [
    "# INFINITE LOOP\n",
    "ret=[1]\n",
    "for i in range(5):\n",
    "    for j in ret:\n",
    "        ret.append(j+1)\n",
    "ret"
   ]
  },
  {
   "cell_type": "code",
   "execution_count": 1,
   "metadata": {},
   "outputs": [
    {
     "data": {
      "text/plain": [
       "['',\n",
       " 'm',\n",
       " 'a',\n",
       " 'ma',\n",
       " 'n',\n",
       " 'mn',\n",
       " 'an',\n",
       " 'man',\n",
       " 'o',\n",
       " 'mo',\n",
       " 'ao',\n",
       " 'mao',\n",
       " 'no',\n",
       " 'mno',\n",
       " 'ano',\n",
       " 'mano',\n",
       " 'j',\n",
       " 'mj',\n",
       " 'aj',\n",
       " 'maj',\n",
       " 'nj',\n",
       " 'mnj',\n",
       " 'anj',\n",
       " 'manj',\n",
       " 'oj',\n",
       " 'moj',\n",
       " 'aoj',\n",
       " 'maoj',\n",
       " 'noj',\n",
       " 'mnoj',\n",
       " 'anoj',\n",
       " 'manoj']"
      ]
     },
     "execution_count": 1,
     "metadata": {},
     "output_type": "execute_result"
    }
   ],
   "source": [
    "inp=\"manoj\"\n",
    "ret=[\"\"]\n",
    "for i in inp:\n",
    "    n=len(ret)\n",
    "    for j in range(n):\n",
    "        ret.append(ret[j]+i)\n",
    "ret"
   ]
  },
  {
   "cell_type": "code",
   "execution_count": null,
   "metadata": {},
   "outputs": [],
   "source": []
  }
 ],
 "metadata": {
  "interpreter": {
   "hash": "11ad92808b9e536a1bda76e6f18576c204b1bdc67c9013f7331a2b858d211f20"
  },
  "kernelspec": {
   "display_name": "Python 3.9.6 64-bit",
   "language": "python",
   "name": "python3"
  },
  "language_info": {
   "codemirror_mode": {
    "name": "ipython",
    "version": 3
   },
   "file_extension": ".py",
   "mimetype": "text/x-python",
   "name": "python",
   "nbconvert_exporter": "python",
   "pygments_lexer": "ipython3",
   "version": "3.9.6"
  },
  "orig_nbformat": 4
 },
 "nbformat": 4,
 "nbformat_minor": 2
}
