{
 "cells": [
  {
   "cell_type": "code",
   "execution_count": null,
   "metadata": {},
   "outputs": [],
   "source": [
    "\n",
    "\"\"\"\n",
    "\n",
    "{1,2,3,4}\n",
    "\n",
    "Subarray: contiguous sequence in an array i.e.\n",
    "\n",
    "{1,2},{1,2,3}\n",
    "\n",
    "Subsequence: Need not to be contiguous, but maintains order i.e.\n",
    "\n",
    "{1,2,4}\n",
    "\n",
    "Subset: Same as subsequence except it has empty set i.e.\n",
    "\n",
    " {1,3},{}\n",
    "\n",
    "Given an array/sequence of size n, possible\n",
    "\n",
    "Subarray = n*(n+1)/2\n",
    "\n",
    "Subseqeunce = (2^n) -1 (non-empty subsequences)\n",
    "\n",
    "Subset = 2^n\n",
    "\n",
    "\"\"\"\n"
   ]
  },
  {
   "cell_type": "code",
   "execution_count": 3,
   "metadata": {},
   "outputs": [
    {
     "data": {
      "text/plain": [
       "77"
      ]
     },
     "execution_count": 3,
     "metadata": {},
     "output_type": "execute_result"
    }
   ],
   "source": [
    "pow(2,9)%145"
   ]
  },
  {
   "cell_type": "code",
   "execution_count": null,
   "metadata": {},
   "outputs": [],
   "source": []
  }
 ],
 "metadata": {
  "interpreter": {
   "hash": "11ad92808b9e536a1bda76e6f18576c204b1bdc67c9013f7331a2b858d211f20"
  },
  "kernelspec": {
   "display_name": "Python 3.9.6 64-bit",
   "language": "python",
   "name": "python3"
  },
  "language_info": {
   "codemirror_mode": {
    "name": "ipython",
    "version": 3
   },
   "file_extension": ".py",
   "mimetype": "text/x-python",
   "name": "python",
   "nbconvert_exporter": "python",
   "pygments_lexer": "ipython3",
   "version": "3.9.6"
  },
  "orig_nbformat": 4
 },
 "nbformat": 4,
 "nbformat_minor": 2
}
