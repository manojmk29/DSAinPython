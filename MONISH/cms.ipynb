{
  "cells": [
    {
      "cell_type": "code",
      "execution_count": 130,
      "metadata": {
        "id": "tw3Hj_o4Sl6i"
      },
      "outputs": [],
      "source": [
        "class stud:\n",
        "  cnt=0\n",
        "  def __init__(self,t=1,e=2,m=3,s=4,ss=5):\n",
        "    stud.cnt+=1\n",
        "    self.tamil=t\n",
        "    self.english=e\n",
        "    self.maths=m\n",
        "    self.science=s\n",
        "    self.social=ss\n",
        "  def displa(self):\n",
        "    print(\"tamil=\",self.tamil)\n",
        "    print(\"english=\",self.english)\n",
        "    print(\"maths=\",self.maths)\n",
        "    print(\"science=\",self.science)\n",
        "    print(\"social=\",self.social)\n",
        "\n",
        "  def max_sub(self):\n",
        "    a=[[self.tamil,\"tamil\"],[self.english,\"english\"],[self.maths,\"mat\"],[self.science,\"sci\"],[self.social,\"social\"]]\n",
        "    b=max(a)\n",
        "    return(b)"
      ]
    },
    {
      "cell_type": "code",
      "execution_count": 131,
      "metadata": {},
      "outputs": [],
      "source": [
        "a=stud()\n",
        "b=stud()\n",
        "c=stud()"
      ]
    },
    {
      "cell_type": "code",
      "execution_count": 137,
      "metadata": {},
      "outputs": [],
      "source": [
        "stud.cnt+=1"
      ]
    },
    {
      "cell_type": "code",
      "execution_count": 144,
      "metadata": {},
      "outputs": [
        {
          "data": {
            "text/plain": [
              "5"
            ]
          },
          "execution_count": 144,
          "metadata": {},
          "output_type": "execute_result"
        }
      ],
      "source": [
        "stud.cnt"
      ]
    },
    {
      "cell_type": "code",
      "execution_count": 141,
      "metadata": {},
      "outputs": [],
      "source": [
        "a.cnt+=1"
      ]
    },
    {
      "cell_type": "code",
      "execution_count": 143,
      "metadata": {},
      "outputs": [
        {
          "data": {
            "text/plain": [
              "5"
            ]
          },
          "execution_count": 143,
          "metadata": {},
          "output_type": "execute_result"
        }
      ],
      "source": [
        "b.cnt"
      ]
    },
    {
      "cell_type": "code",
      "execution_count": 142,
      "metadata": {},
      "outputs": [
        {
          "data": {
            "text/plain": [
              "6"
            ]
          },
          "execution_count": 142,
          "metadata": {},
          "output_type": "execute_result"
        }
      ],
      "source": [
        "a.cnt"
      ]
    },
    {
      "cell_type": "code",
      "execution_count": 117,
      "metadata": {},
      "outputs": [
        {
          "data": {
            "text/plain": [
              "0"
            ]
          },
          "execution_count": 117,
          "metadata": {},
          "output_type": "execute_result"
        }
      ],
      "source": [
        "stud.cnt"
      ]
    },
    {
      "cell_type": "code",
      "execution_count": null,
      "metadata": {},
      "outputs": [],
      "source": []
    }
  ],
  "metadata": {
    "colab": {
      "provenance": []
    },
    "kernelspec": {
      "display_name": "Python 3.9.6 64-bit",
      "language": "python",
      "name": "python3"
    },
    "language_info": {
      "codemirror_mode": {
        "name": "ipython",
        "version": 3
      },
      "file_extension": ".py",
      "mimetype": "text/x-python",
      "name": "python",
      "nbconvert_exporter": "python",
      "pygments_lexer": "ipython3",
      "version": "3.9.6"
    },
    "vscode": {
      "interpreter": {
        "hash": "e26b106e6146fa3417b08aa501d422914abd065c08ced2fc57ef114abeab93c7"
      }
    }
  },
  "nbformat": 4,
  "nbformat_minor": 0
}
