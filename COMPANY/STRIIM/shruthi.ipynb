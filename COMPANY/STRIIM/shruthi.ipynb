{
 "cells": [
  {
   "cell_type": "code",
   "execution_count": 7,
   "metadata": {},
   "outputs": [],
   "source": [
    "# Given an array which contains the  prices of N items (may contain  repeated values), you can  \n",
    "# remember/store only ‘k’ distinct  elements. Find the total cost to  store other distinct elements(N-k)  after storing k distinct elements,  given the cost to store one extra  element is X. \n",
    "# Example: \n",
    "# N= 5 \n",
    "# Price= [3, 2,1, 7, 3] \n",
    "# k=3 \n",
    "# X=5 \n",
    "# Output: 5 \n",
    "# Distinct elements = [3, 2, 1, 7] After storing k values,  \n",
    "# Distinct elements = [7] (one  \n",
    "# element) \n",
    "# Therefore cost= 1*5 = 5"
   ]
  },
  {
   "cell_type": "code",
   "execution_count": 8,
   "metadata": {},
   "outputs": [
    {
     "data": {
      "text/plain": [
       "5"
      ]
     },
     "execution_count": 8,
     "metadata": {},
     "output_type": "execute_result"
    }
   ],
   "source": [
    "def func(arr,k,x):\n",
    "    hset=set()\n",
    "    temp=[]\n",
    "    for i in arr:\n",
    "        if i not in hset:\n",
    "            temp.append(i)\n",
    "            hset.add(i)\n",
    "    return(x*max(0,len(temp)-k))\n",
    "func([3,2,1,7,3],3,5)"
   ]
  },
  {
   "cell_type": "code",
   "execution_count": 9,
   "metadata": {},
   "outputs": [
    {
     "data": {
      "text/plain": [
       "5"
      ]
     },
     "execution_count": 9,
     "metadata": {},
     "output_type": "execute_result"
    }
   ],
   "source": [
    "def func(arr,k,x):\n",
    "    hset=set(arr)\n",
    "    return(x*max(0,len(hset)-k))\n",
    "func([3,2,1,7,3],3,5)"
   ]
  },
  {
   "cell_type": "code",
   "execution_count": 6,
   "metadata": {},
   "outputs": [],
   "source": [
    "# Given two strings, find the number of smallest common substring  pairs. \n",
    "# Example: \n",
    "# A= abdc \n",
    "# B= bd \n",
    "# Output: 2 \n",
    "# Pairs: (b,b), (d,d) – 2 pairs  \n",
    "# (bd,bd) will not be included as it is  not the smallest."
   ]
  },
  {
   "cell_type": "code",
   "execution_count": 15,
   "metadata": {},
   "outputs": [
    {
     "data": {
      "text/plain": [
       "7"
      ]
     },
     "execution_count": 15,
     "metadata": {},
     "output_type": "execute_result"
    }
   ],
   "source": [
    "def func(str1,str2):\n",
    "    hmap={}\n",
    "    for i in str1:\n",
    "        if i not in hmap:\n",
    "            hmap[i]=1\n",
    "        else:\n",
    "            hmap[i]+=1\n",
    "    ret=0\n",
    "    for j in str2:\n",
    "        if j in hmap:\n",
    "            ret+=(hmap[j])\n",
    "    return(ret)\n",
    "func(\"abbbdc\",\"bbd\")"
   ]
  },
  {
   "cell_type": "code",
   "execution_count": 16,
   "metadata": {},
   "outputs": [],
   "source": [
    "# Given an array of integers and a  target value, find the pair that has  the closest difference to the target  value and return its sum. If there  are multiple pairs with same  difference, then return the sum of  the pair such that the sum is  minimum. \n",
    "# Example: \n",
    "# Array = [ 11,4,2,6,23,15] \n",
    "# Target = 2 \n",
    "# Output: 6 \n",
    "# Solution: \n",
    "# Possible pairs: (2, 4), (4,6) \n",
    "# Sum of the pairs: 6, 10 (return  minimum sum)\n"
   ]
  },
  {
   "cell_type": "code",
   "execution_count": 18,
   "metadata": {},
   "outputs": [
    {
     "data": {
      "text/plain": [
       "6"
      ]
     },
     "execution_count": 18,
     "metadata": {},
     "output_type": "execute_result"
    }
   ],
   "source": [
    "def func(arr,tar):\n",
    "    min=float(\"inf\")\n",
    "    ret=0\n",
    "    for i in range(len(arr)-1):\n",
    "        for j in range(i+1,len(arr)):\n",
    "            temp=abs(arr[i]-arr[j])\n",
    "            if(min>temp):\n",
    "                min=temp\n",
    "                ret=arr[i]+arr[j]\n",
    "            elif(min==temp):\n",
    "                if(ret>arr[i]+arr[j]):\n",
    "                    ret=arr[i]+arr[j]\n",
    "    return(ret)\n",
    "func([11,4,2,6,23,15])"
   ]
  },
  {
   "cell_type": "code",
   "execution_count": null,
   "metadata": {},
   "outputs": [],
   "source": [
    "def func(arr,tar):\n",
    "    min=float(\"inf\")\n",
    "    ret=0\n",
    "    arr.sort()\n",
    "    l=0\n",
    "    r=len(arr)-1\n",
    "    while(l<r):\n",
    "        val=abs(arr[l]-arr[r])\n",
    "        if(val==tar):\n",
    "            ret=arr[l]+arr[r]\n",
    "        elif(val>tar)\n",
    "    return(ret)\n",
    "func([11,4,2,6,23,15])"
   ]
  },
  {
   "cell_type": "code",
   "execution_count": null,
   "metadata": {},
   "outputs": [],
   "source": []
  }
 ],
 "metadata": {
  "interpreter": {
   "hash": "11ad92808b9e536a1bda76e6f18576c204b1bdc67c9013f7331a2b858d211f20"
  },
  "kernelspec": {
   "display_name": "Python 3.9.6 64-bit",
   "language": "python",
   "name": "python3"
  },
  "language_info": {
   "codemirror_mode": {
    "name": "ipython",
    "version": 3
   },
   "file_extension": ".py",
   "mimetype": "text/x-python",
   "name": "python",
   "nbconvert_exporter": "python",
   "pygments_lexer": "ipython3",
   "version": "3.9.6"
  },
  "orig_nbformat": 4
 },
 "nbformat": 4,
 "nbformat_minor": 2
}
