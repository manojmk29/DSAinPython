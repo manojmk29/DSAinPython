{
 "cells": [
  {
   "cell_type": "code",
   "execution_count": 1,
   "metadata": {},
   "outputs": [],
   "source": [
    "# inifix to postfix\n",
    "class Solution:\n",
    "    \n",
    "    #Function to convert an infix expression to a postfix expression.\n",
    "    def InfixtoPostfix(self, inp):\n",
    "        ret=[]\n",
    "        val=[]\n",
    "        hset={\"+\":1,\"-\":1,\"/\":2,\"*\":2,\"^\":3}\n",
    "        for i in inp:\n",
    "            if i not in hset:\n",
    "                if i==\"(\":\n",
    "                    val.append(i)\n",
    "                elif i==\")\":\n",
    "                    while(val[-1]!=\"(\"):\n",
    "                        ret.append(val.pop())\n",
    "                    val.pop()\n",
    "                else:\n",
    "                    ret.append(i)\n",
    "            else:\n",
    "                while val and val[-1]!=\"(\" and hset[val[-1]]>=hset[i]:\n",
    "                    ret.append(val.pop())\n",
    "                val.append(i)\n",
    "        while val:\n",
    "            ret.append(val.pop())\n",
    "        return \"\".join(ret)"
   ]
  },
  {
   "cell_type": "code",
   "execution_count": 3,
   "metadata": {},
   "outputs": [
    {
     "data": {
      "text/plain": [
       "[2, 3, 4]"
      ]
     },
     "execution_count": 3,
     "metadata": {},
     "output_type": "execute_result"
    }
   ],
   "source": [
    "\"\"\"\n",
    "Find common elements in a list of\n",
    "integer lists having different sizes.\n",
    "\"\"\"\n",
    "def func(ar1,ar2):\n",
    "    hset=set()\n",
    "    ret=[]\n",
    "    for i in ar1:\n",
    "        hset.add(i)\n",
    "    for i in ar2:\n",
    "        if i in hset:\n",
    "            ret.append(i)\n",
    "    return ret\n",
    "\n",
    "func([1,2,3,4],[2,3,4,5,6])"
   ]
  },
  {
   "cell_type": "code",
   "execution_count": 7,
   "metadata": {},
   "outputs": [
    {
     "data": {
      "text/plain": [
       "False"
      ]
     },
     "execution_count": 7,
     "metadata": {},
     "output_type": "execute_result"
    }
   ],
   "source": [
    "\"\"\"\n",
    "Check if a string has balanced brackets\n",
    "\"\"\"\n",
    "def func(inp):\n",
    "    stk=[]\n",
    "    for i in inp:\n",
    "        if i==\"(\" or i==\"[\" or i==\"{\":\n",
    "            stk.append(i)\n",
    "        else:\n",
    "            if i==\")\":\n",
    "                if stk and stk[-1]==\"(\":\n",
    "                    stk.pop()\n",
    "                else:\n",
    "                    return False\n",
    "            elif i==\"]\":\n",
    "                if stk and stk[-1]==\"[\":\n",
    "                    stk.pop()\n",
    "                else:\n",
    "                    return False\n",
    "            else:\n",
    "                if stk and stk[-1]==\"{\":\n",
    "                    stk.pop()\n",
    "                else:\n",
    "                    return False\n",
    "    return len(stk)==0\n",
    "\n",
    "func(\"()[][{}](\")\n",
    "\n"
   ]
  },
  {
   "cell_type": "code",
   "execution_count": 10,
   "metadata": {},
   "outputs": [
    {
     "data": {
      "text/plain": [
       "97"
      ]
     },
     "execution_count": 10,
     "metadata": {},
     "output_type": "execute_result"
    }
   ],
   "source": [
    "ord(\"a\")"
   ]
  },
  {
   "cell_type": "code",
   "execution_count": null,
   "metadata": {},
   "outputs": [],
   "source": []
  }
 ],
 "metadata": {
  "kernelspec": {
   "display_name": "Python 3.9.6 64-bit",
   "language": "python",
   "name": "python3"
  },
  "language_info": {
   "codemirror_mode": {
    "name": "ipython",
    "version": 3
   },
   "file_extension": ".py",
   "mimetype": "text/x-python",
   "name": "python",
   "nbconvert_exporter": "python",
   "pygments_lexer": "ipython3",
   "version": "3.9.6"
  },
  "orig_nbformat": 4,
  "vscode": {
   "interpreter": {
    "hash": "e26b106e6146fa3417b08aa501d422914abd065c08ced2fc57ef114abeab93c7"
   }
  }
 },
 "nbformat": 4,
 "nbformat_minor": 2
}
