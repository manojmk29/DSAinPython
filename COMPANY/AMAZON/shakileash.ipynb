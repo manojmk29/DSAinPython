{
 "cells": [
  {
   "cell_type": "code",
   "execution_count": null,
   "metadata": {},
   "outputs": [],
   "source": [
    "\"\"\"\n",
    "Given a positive integer n, findsmallest integer which has exactly \n",
    "same digits existing in the integer nand is greater in value than n. \n",
    "\n",
    "\n",
    "https://leetcode.com/problems/next-greater-element-iii/\n",
    "\"\"\""
   ]
  }
 ],
 "metadata": {
  "language_info": {
   "name": "python"
  },
  "orig_nbformat": 4
 },
 "nbformat": 4,
 "nbformat_minor": 2
}
