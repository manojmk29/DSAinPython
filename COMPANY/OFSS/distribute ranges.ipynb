{
 "cells": [
  {
   "cell_type": "code",
   "execution_count": 37,
   "metadata": {},
   "outputs": [],
   "source": [
    "def fact(n):\n",
    "    if n==1:\n",
    "        return 1\n",
    "    return n*(fact(n-1))\n",
    "               \n",
    "               \n",
    "def distributeRanges(ranges):\n",
    "    cnt=1\n",
    "    n=len(ranges)\n",
    "    for i in range(1,n):\n",
    "        f=1\n",
    "        ii=ranges[i]\n",
    "        for j in range(i):\n",
    "            jj=ranges[j]\n",
    "            if (jj[0]>=ii[0] and jj[0]<=ii[1]) or (jj[1]>=ii[0] and jj[1]<=ii[1]) or (ii[0]>=jj[0] and ii[0]<=jj[1]) or (ii[1]>=jj[0] and ii[1]<=jj[1]):\n",
    "                f=0\n",
    "                break\n",
    "        if f:\n",
    "            cnt+=1\n",
    "    ret=0\n",
    "    hset=set()\n",
    "    for i in range(1,cnt):\n",
    "        if cnt-i not in hset:\n",
    "            hset.add(i)\n",
    "            ret+= fact(cnt) / (fact(i)*fact(cnt-i)) \n",
    "    return int((2*ret)%(1e9+7))"
   ]
  },
  {
   "cell_type": "code",
   "execution_count": 38,
   "metadata": {},
   "outputs": [
    {
     "data": {
      "text/plain": [
       "0"
      ]
     },
     "execution_count": 38,
     "metadata": {},
     "output_type": "execute_result"
    }
   ],
   "source": [
    "ranges=[[1,5],[3,8]]\n",
    "distributeRanges(ranges)"
   ]
  },
  {
   "cell_type": "code",
   "execution_count": 33,
   "metadata": {},
   "outputs": [
    {
     "data": {
      "text/plain": [
       "6"
      ]
     },
     "execution_count": 33,
     "metadata": {},
     "output_type": "execute_result"
    }
   ],
   "source": [
    "ranges=[[1,5],[3,8],[10,15],[13,14],[20,100]]\n",
    "distributeRanges(ranges)"
   ]
  },
  {
   "cell_type": "code",
   "execution_count": 39,
   "metadata": {},
   "outputs": [
    {
     "data": {
      "text/plain": [
       "1005.0"
      ]
     },
     "execution_count": 39,
     "metadata": {},
     "output_type": "execute_result"
    }
   ],
   "source": [
    "1e3+5"
   ]
  },
  {
   "cell_type": "code",
   "execution_count": null,
   "metadata": {},
   "outputs": [],
   "source": []
  },
  {
   "cell_type": "code",
   "execution_count": null,
   "metadata": {},
   "outputs": [],
   "source": []
  }
 ],
 "metadata": {
  "kernelspec": {
   "display_name": "Python 3.9.6 64-bit",
   "language": "python",
   "name": "python3"
  },
  "language_info": {
   "codemirror_mode": {
    "name": "ipython",
    "version": 3
   },
   "file_extension": ".py",
   "mimetype": "text/x-python",
   "name": "python",
   "nbconvert_exporter": "python",
   "pygments_lexer": "ipython3",
   "version": "3.9.6"
  },
  "orig_nbformat": 4,
  "vscode": {
   "interpreter": {
    "hash": "e26b106e6146fa3417b08aa501d422914abd065c08ced2fc57ef114abeab93c7"
   }
  }
 },
 "nbformat": 4,
 "nbformat_minor": 2
}
