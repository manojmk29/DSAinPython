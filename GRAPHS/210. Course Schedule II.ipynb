{
 "cells": [
  {
   "cell_type": "code",
   "execution_count": 9,
   "metadata": {},
   "outputs": [],
   "source": [
    "import collections\n",
    "class Solution(object):\n",
    "    def findOrder(self,numCourses,prerequisites):\n",
    "        hmap=collections.defaultdict(list) \n",
    "        for i in prerequisites: \n",
    "            hmap[i[1]].append(i[0]) \n",
    "        flag=[0 for i in range(numCourses)]\n",
    "        def check(ind):\n",
    "            if(flag[ind]==-1):\n",
    "                return(False)\n",
    "            flag[ind]=-1\n",
    "            for i in hmap[ind]:\n",
    "                if(not check(i)):\n",
    "                    return(False)\n",
    "            flag[ind]=0\n",
    "            return(True)\n",
    "        for i in range(numCourses):\n",
    "            if(not check(i)):\n",
    "                return([])\n",
    "        stk=[]\n",
    "        def helper(ind):\n",
    "            if(flag[ind]==0):\n",
    "                flag[ind]=-1\n",
    "                for i in hmap[ind]:\n",
    "                    helper(i)\n",
    "                stk.append(ind)\n",
    "        for i in range(numCourses):\n",
    "            helper(i)\n",
    "        return(stk[::-1])"
   ]
  },
  {
   "cell_type": "code",
   "execution_count": 10,
   "metadata": {},
   "outputs": [
    {
     "data": {
      "text/plain": [
       "[0, 2, 1, 3]"
      ]
     },
     "execution_count": 10,
     "metadata": {},
     "output_type": "execute_result"
    }
   ],
   "source": [
    "numCourses = 4\n",
    "prerequisites = [[1,0],[2,0],[3,1],[3,2]]\n",
    "a=Solution()\n",
    "a.findOrder(numCourses,prerequisites)"
   ]
  },
  {
   "cell_type": "code",
   "execution_count": null,
   "metadata": {},
   "outputs": [],
   "source": []
  }
 ],
 "metadata": {
  "interpreter": {
   "hash": "11ad92808b9e536a1bda76e6f18576c204b1bdc67c9013f7331a2b858d211f20"
  },
  "kernelspec": {
   "display_name": "Python 3.9.6 64-bit",
   "language": "python",
   "name": "python3"
  },
  "language_info": {
   "codemirror_mode": {
    "name": "ipython",
    "version": 3
   },
   "file_extension": ".py",
   "mimetype": "text/x-python",
   "name": "python",
   "nbconvert_exporter": "python",
   "pygments_lexer": "ipython3",
   "version": "3.9.6"
  },
  "orig_nbformat": 4
 },
 "nbformat": 4,
 "nbformat_minor": 2
}
