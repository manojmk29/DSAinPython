{
 "cells": [
  {
   "cell_type": "code",
   "execution_count": 8,
   "metadata": {},
   "outputs": [],
   "source": [
    "class Solution:\n",
    "    def smallestStringWithSwaps(self, s: str, pairs) -> str:\n",
    "        def dfs(inp):\n",
    "            if(flag[inp]==1):\n",
    "                return\n",
    "            flag[inp]=1\n",
    "            arr.append(inp)\n",
    "            for i in val[inp]:\n",
    "                dfs(i)\n",
    "        import collections\n",
    "        val=collections.defaultdict(list)\n",
    "        s=list(s)\n",
    "        for i in pairs:\n",
    "            val[i[0]].append(i[1])\n",
    "            val[i[1]].append(i[0])\n",
    "        flag=[0 for i in range(len(s))]\n",
    "        for i in val:\n",
    "            arr=[]\n",
    "            dfs(i)\n",
    "            if(arr):\n",
    "                arr=sorted(arr)\n",
    "                mod=[s[i] for i in arr]\n",
    "                mod.sort()\n",
    "                for i in range(len(arr)):\n",
    "                    s[arr[i]]=mod[i]\n",
    "        return(''.join(s))"
   ]
  },
  {
   "cell_type": "code",
   "execution_count": 9,
   "metadata": {},
   "outputs": [
    {
     "data": {
      "text/plain": [
       "'bacd'"
      ]
     },
     "execution_count": 9,
     "metadata": {},
     "output_type": "execute_result"
    }
   ],
   "source": [
    "a=\"dcab\"\n",
    "b=[[0,3],[1,2]]\n",
    "Solution().smallestStringWithSwaps(a,b)"
   ]
  },
  {
   "cell_type": "code",
   "execution_count": null,
   "metadata": {},
   "outputs": [],
   "source": []
  }
 ],
 "metadata": {
  "interpreter": {
   "hash": "11ad92808b9e536a1bda76e6f18576c204b1bdc67c9013f7331a2b858d211f20"
  },
  "kernelspec": {
   "display_name": "Python 3.9.6 64-bit",
   "language": "python",
   "name": "python3"
  },
  "language_info": {
   "codemirror_mode": {
    "name": "ipython",
    "version": 3
   },
   "file_extension": ".py",
   "mimetype": "text/x-python",
   "name": "python",
   "nbconvert_exporter": "python",
   "pygments_lexer": "ipython3",
   "version": "3.9.6"
  },
  "orig_nbformat": 4
 },
 "nbformat": 4,
 "nbformat_minor": 2
}
