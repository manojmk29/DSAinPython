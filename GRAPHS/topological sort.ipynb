{
 "cells": [
  {
   "cell_type": "code",
   "execution_count": 8,
   "metadata": {},
   "outputs": [],
   "source": [
    "from collections import *\n",
    "def topological_sort(arr,n):\n",
    "    hmap=defaultdict(list)\n",
    "    for i in arr:\n",
    "        hmap[i[0]].append(i[1])\n",
    "    stk=[]\n",
    "    ret=[]\n",
    "    flag=[0]*(n+1)\n",
    "    def helper(ind):\n",
    "        if flag[ind]==-1:\n",
    "            return\n",
    "        flag[ind]=-1\n",
    "        for i in hmap[ind]:\n",
    "            helper(i)\n",
    "        stk.append(ind)\n",
    "    for i in range(n+1):\n",
    "        helper(i)\n",
    "    return(stk[::-1])"
   ]
  },
  {
   "cell_type": "code",
   "execution_count": 9,
   "metadata": {},
   "outputs": [
    {
     "data": {
      "text/plain": [
       "[5, 4, 2, 3, 1, 0]"
      ]
     },
     "execution_count": 9,
     "metadata": {},
     "output_type": "execute_result"
    }
   ],
   "source": [
    "arr=[[5,2],[5,0],[2,3],[3,1],[4,0],[4,1]]\n",
    "topological_sort(arr,5)"
   ]
  },
  {
   "cell_type": "code",
   "execution_count": 4,
   "metadata": {},
   "outputs": [],
   "source": [
    "n=4\n",
    "flag=[0]*(n+1)"
   ]
  },
  {
   "cell_type": "code",
   "execution_count": 5,
   "metadata": {},
   "outputs": [
    {
     "data": {
      "text/plain": [
       "[0, 0, 0, 0, 0]"
      ]
     },
     "execution_count": 5,
     "metadata": {},
     "output_type": "execute_result"
    }
   ],
   "source": [
    "flag"
   ]
  },
  {
   "cell_type": "code",
   "execution_count": 22,
   "metadata": {},
   "outputs": [
    {
     "data": {
      "text/plain": [
       "False"
      ]
     },
     "execution_count": 22,
     "metadata": {},
     "output_type": "execute_result"
    }
   ],
   "source": [
    "\"1a\".isnumeric()"
   ]
  },
  {
   "cell_type": "code",
   "execution_count": 17,
   "metadata": {},
   "outputs": [],
   "source": [
    "# B F S\n",
    "from collections import *\n",
    "def topo_sort(arr,n):\n",
    "    hmap=defaultdict(list)\n",
    "    indeg=[0]*n\n",
    "    for i in arr:\n",
    "        hmap[i[0]].append(i[1])\n",
    "    topo=[]\n",
    "    que=deque()\n",
    "    for i in hmap:\n",
    "        for j in hmap[i]:\n",
    "            indeg[j]+=1\n",
    "    for i,j in enumerate(indeg):\n",
    "        if(j==0):\n",
    "            que.append(i)\n",
    "    while(que):\n",
    "        val=que[0]\n",
    "        for i in hmap[val]:\n",
    "            indeg[i]-=1\n",
    "            if(indeg[i]<=0):\n",
    "                que.append(i)\n",
    "        topo.append(val)\n",
    "        que.popleft()\n",
    "    return(topo)"
   ]
  },
  {
   "cell_type": "code",
   "execution_count": 18,
   "metadata": {},
   "outputs": [
    {
     "data": {
      "text/plain": [
       "[4, 5, 2, 0, 3, 1]"
      ]
     },
     "execution_count": 18,
     "metadata": {},
     "output_type": "execute_result"
    }
   ],
   "source": [
    "arr=[[5,2],[5,0],[2,3],[3,1],[4,0],[4,1]]\n",
    "topo_sort(arr,6)"
   ]
  },
  {
   "cell_type": "code",
   "execution_count": null,
   "metadata": {},
   "outputs": [],
   "source": []
  }
 ],
 "metadata": {
  "interpreter": {
   "hash": "11ad92808b9e536a1bda76e6f18576c204b1bdc67c9013f7331a2b858d211f20"
  },
  "kernelspec": {
   "display_name": "Python 3.9.6 64-bit",
   "language": "python",
   "name": "python3"
  },
  "language_info": {
   "codemirror_mode": {
    "name": "ipython",
    "version": 3
   },
   "file_extension": ".py",
   "mimetype": "text/x-python",
   "name": "python",
   "nbconvert_exporter": "python",
   "pygments_lexer": "ipython3",
   "version": "3.9.6"
  },
  "orig_nbformat": 4
 },
 "nbformat": 4,
 "nbformat_minor": 2
}
