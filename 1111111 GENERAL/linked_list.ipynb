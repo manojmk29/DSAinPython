{
 "cells": [
  {
   "cell_type": "code",
   "execution_count": 3,
   "metadata": {},
   "outputs": [
    {
     "name": "stdout",
     "output_type": "stream",
     "text": [
      "2\n",
      "3\n",
      "4\n"
     ]
    }
   ],
   "source": [
    "class node:\n",
    "    def __init__(self,data):\n",
    "        self.data=data\n",
    "        self.next=None\n",
    "\n",
    "a=node(1)\n",
    "b=node(2)\n",
    "c=node(3)\n",
    "d=node(4)\n",
    "\n",
    "a.next=b\n",
    "b.next=c\n",
    "c.next=d\n",
    "\n",
    "def pri(node):\n",
    "    head=node\n",
    "    while(head):\n",
    "        print(head.data)\n",
    "        head=head.next\n",
    "\n",
    "pri(b)\n",
    "# def append(head,num):\n",
    "#     root=a\n",
    "#     while(root.next):\n",
    "#         root=root.next\n",
    "    \n",
    "#     new = node(num)\n",
    "#     root.next = new\n",
    "\n"
   ]
  },
  {
   "cell_type": "code",
   "execution_count": 6,
   "metadata": {},
   "outputs": [
    {
     "name": "stdout",
     "output_type": "stream",
     "text": [
      "ss--- ss 60\n",
      "ds--- ds 120\n"
     ]
    }
   ],
   "source": [
    "class msc:\n",
    "    def __init__(self,course,no):\n",
    "        self.course=course\n",
    "        self.num_stud=no\n",
    "\n",
    "ss= msc(\"ss\",60)\n",
    "\n",
    "ds= msc(\"ds\",120)\n",
    "\n",
    "print(\"ss---\",ss.course,ss.num_stud)\n",
    "print(\"ds---\",ds.course,ds.num_stud)\n"
   ]
  },
  {
   "cell_type": "code",
   "execution_count": 12,
   "metadata": {},
   "outputs": [
    {
     "name": "stdout",
     "output_type": "stream",
     "text": [
      "sanga\n"
     ]
    }
   ],
   "source": [
    "class cricket:\n",
    "    def __init__(self,n,c):\n",
    "        self.captain=n\n",
    "        self.color=c\n",
    "\n",
    "    \n",
    "india = cricket(\"rohit sharma\",\"blue\")\n",
    "aus = cricket(\"warner\",\"yellow\")\n",
    "india.captain=\"kohli\"\n",
    "bharath=india\n",
    "bharath.captain=\"sanga\"\n",
    "print(india.captain)"
   ]
  },
  {
   "cell_type": "code",
   "execution_count": 7,
   "metadata": {},
   "outputs": [
    {
     "name": "stdout",
     "output_type": "stream",
     "text": [
      "4 5\n"
     ]
    }
   ],
   "source": [
    "def add(a,b):\n",
    "    x=a\n",
    "    y=b\n",
    "    print(x,y)\n",
    "\n",
    "add(4,5)"
   ]
  },
  {
   "cell_type": "code",
   "execution_count": 15,
   "metadata": {},
   "outputs": [],
   "source": [
    "def func(rupees):\n",
    "    arr=[2000,500,200,100]\n",
    "    ret=0\n",
    "    for i in arr:\n",
    "        n=rupees//i\n",
    "        ret+=n\n",
    "        rupees-=(i*n)\n",
    "    return ret\n",
    "\n"
   ]
  },
  {
   "cell_type": "code",
   "execution_count": 16,
   "metadata": {},
   "outputs": [
    {
     "data": {
      "text/plain": [
       "1"
      ]
     },
     "execution_count": 16,
     "metadata": {},
     "output_type": "execute_result"
    }
   ],
   "source": [
    "func(500)"
   ]
  },
  {
   "cell_type": "code",
   "execution_count": null,
   "metadata": {},
   "outputs": [],
   "source": []
  }
 ],
 "metadata": {
  "kernelspec": {
   "display_name": "Python 3.9.6 64-bit",
   "language": "python",
   "name": "python3"
  },
  "language_info": {
   "codemirror_mode": {
    "name": "ipython",
    "version": 3
   },
   "file_extension": ".py",
   "mimetype": "text/x-python",
   "name": "python",
   "nbconvert_exporter": "python",
   "pygments_lexer": "ipython3",
   "version": "3.9.6"
  },
  "orig_nbformat": 4,
  "vscode": {
   "interpreter": {
    "hash": "e26b106e6146fa3417b08aa501d422914abd065c08ced2fc57ef114abeab93c7"
   }
  }
 },
 "nbformat": 4,
 "nbformat_minor": 2
}
