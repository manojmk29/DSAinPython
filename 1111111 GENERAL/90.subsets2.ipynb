{
 "cells": [
  {
   "cell_type": "code",
   "execution_count": 1,
   "metadata": {},
   "outputs": [],
   "source": [
    "class Solution:\n",
    "    def subsetsWithDup(self, nums):\n",
    "        hset = set()\n",
    "        n=len(nums)\n",
    "        nums.sort()\n",
    "        def helper(ind,arr):\n",
    "            if(ind==n):\n",
    "                hset.add(tuple(arr))\n",
    "                return\n",
    "            helper(ind+1,arr)\n",
    "            helper(ind+1,arr+[nums[ind]])\n",
    "        helper(0,[])\n",
    "        return (list(hset))"
   ]
  },
  {
   "cell_type": "code",
   "execution_count": 4,
   "metadata": {},
   "outputs": [],
   "source": [
    "class Solution:\n",
    "    def subsetsWithDup(self, nums):\n",
    "        n=len(nums)\n",
    "        ret = []\n",
    "        nums.sort()\n",
    "        def helper(ind,arr):\n",
    "            if(ind==n):\n",
    "                ret.append(arr)\n",
    "                return\n",
    "            helper(ind+1,arr+[nums[ind]])\n",
    "            while(ind<n-1 and nums[ind+1]==nums[ind]):\n",
    "                ind+=1\n",
    "            helper(ind+1,arr)\n",
    "        helper(0,[])\n",
    "        return (ret)"
   ]
  },
  {
   "cell_type": "code",
   "execution_count": 6,
   "metadata": {},
   "outputs": [
    {
     "data": {
      "text/plain": [
       "[[1, 2, 2, 3],\n",
       " [1, 2, 2],\n",
       " [1, 2, 3],\n",
       " [1, 2],\n",
       " [1, 3],\n",
       " [1],\n",
       " [2, 2, 3],\n",
       " [2, 2],\n",
       " [2, 3],\n",
       " [2],\n",
       " [3],\n",
       " []]"
      ]
     },
     "execution_count": 6,
     "metadata": {},
     "output_type": "execute_result"
    }
   ],
   "source": [
    "Solution().subsetsWithDup([1,2,2,3])"
   ]
  },
  {
   "cell_type": "code",
   "execution_count": null,
   "metadata": {},
   "outputs": [],
   "source": []
  }
 ],
 "metadata": {
  "kernelspec": {
   "display_name": "Python 3",
   "language": "python",
   "name": "python3"
  },
  "language_info": {
   "codemirror_mode": {
    "name": "ipython",
    "version": 3
   },
   "file_extension": ".py",
   "mimetype": "text/x-python",
   "name": "python",
   "nbconvert_exporter": "python",
   "pygments_lexer": "ipython3",
   "version": "3.11.1"
  }
 },
 "nbformat": 4,
 "nbformat_minor": 2
}
