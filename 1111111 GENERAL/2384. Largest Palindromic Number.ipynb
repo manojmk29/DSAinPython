{
 "cells": [
  {
   "cell_type": "code",
   "execution_count": 13,
   "metadata": {},
   "outputs": [],
   "source": [
    "import collections\n",
    "class Solution:\n",
    "    def largestPalindromic(self, num):\n",
    "        hmap=collections.defaultdict(int)\n",
    "        for i in num:\n",
    "            hmap[i]+=1\n",
    "        cnt=0\n",
    "        val=\"\"\n",
    "        for k in hmap:\n",
    "            v=hmap[k]\n",
    "            if(v%2!=0 and k!=\"0\"):\n",
    "                if v>cnt:\n",
    "                    val=k\n",
    "                    cnt=v\n",
    "        val*=cnt\n",
    "        if \"0\" in hmap:\n",
    "            if len(hmap)==1:\n",
    "                return \"0\"\n",
    "            if len(hmap)==2:\n",
    "                return val\n",
    "            # if (hmap[\"0\"]%2!=0):\n",
    "            #     hmap[\"0\"]-=1\n",
    "            # v=hmap[\"0\"]\n",
    "            # val=\"0\"*(v//2)+val+\"0\"*(v//2)\n",
    "        arr=list(hmap.keys())\n",
    "        arr.sort()\n",
    "        for i in arr:\n",
    "            if hmap[i]%2!=0:\n",
    "                hmap[i]-=1\n",
    "            v=hmap[i]\n",
    "            val=i*(v//2)+val+i*(v//2)\n",
    "        return val\n",
    "        \n",
    "            \n",
    "        "
   ]
  },
  {
   "cell_type": "code",
   "execution_count": 14,
   "metadata": {},
   "outputs": [
    {
     "data": {
      "text/plain": [
       "'1005001'"
      ]
     },
     "execution_count": 14,
     "metadata": {},
     "output_type": "execute_result"
    }
   ],
   "source": [
    "Solution().largestPalindromic(\"00001105\")"
   ]
  },
  {
   "cell_type": "code",
   "execution_count": 28,
   "metadata": {},
   "outputs": [],
   "source": [
    "import collections\n",
    "class Solution:\n",
    "    def largestPalindromic(self, num):\n",
    "        hmap=collections.defaultdict(int)\n",
    "        for i in num:\n",
    "            hmap[i]+=1\n",
    "        cnt=0\n",
    "        val=\"\"\n",
    "        for k in hmap:\n",
    "            v=hmap[k]\n",
    "            if(v%2!=0 and k!=\"0\"):\n",
    "                if v>cnt:\n",
    "                    val=k\n",
    "                    cnt=v\n",
    "                elif v==cnt:\n",
    "                    if k>val:\n",
    "                        val=k\n",
    "        val*=cnt\n",
    "        if \"0\" in hmap:\n",
    "            if len(hmap)==1:\n",
    "                return \"0\"\n",
    "            elif len(hmap)==2:\n",
    "                for i in hmap:\n",
    "                    if i!=\"0\":\n",
    "                        if hmap[i]\n",
    "                        return i*hmap[i]\n",
    "            else:\n",
    "                if val==\"\":\n",
    "                    val=\"0\"*hmap[\"0\"]\n",
    "                else:\n",
    "                    if (hmap[\"0\"]%2!=0):\n",
    "                        hmap[\"0\"]-=1\n",
    "                    v=hmap[\"0\"]\n",
    "                    val=\"0\"*(v//2)+val+\"0\"*(v//2)\n",
    "        arr=list(hmap.keys())\n",
    "        arr.sort()\n",
    "        for i in arr:\n",
    "            if hmap[i]%2!=0:\n",
    "                hmap[i]-=1\n",
    "            if i!=\"0\" and i!=val:\n",
    "                v=hmap[i]\n",
    "                val=i*(v//2)+val+i*(v//2)\n",
    "        return val"
   ]
  },
  {
   "cell_type": "code",
   "execution_count": 27,
   "metadata": {},
   "outputs": [
    {
     "data": {
      "text/plain": [
       "'10001'"
      ]
     },
     "execution_count": 27,
     "metadata": {},
     "output_type": "execute_result"
    }
   ],
   "source": [
    "Solution().largestPalindromic(\"00011\")"
   ]
  },
  {
   "cell_type": "code",
   "execution_count": 32,
   "metadata": {},
   "outputs": [],
   "source": [
    "from collections import Counter\n",
    "class Solution:\n",
    "    def largestPalindromic(self, num: str) -> str:\n",
    "        c = Counter(num)\n",
    "\n",
    "        start = []\n",
    "        for d in map(str, reversed(range(10))):\n",
    "            if d == \"0\" and len(start) == 0:\n",
    "                break\n",
    "            start.extend([d] * (c[d] // 2))\n",
    "            c[d] = c[d] % 2\n",
    "\n",
    "        center = \"\"\n",
    "        for d in map(str, reversed(range(10))):\n",
    "            if c[d]:\n",
    "                center = d\n",
    "                break\n",
    "\n",
    "        return \"\".join(start) + center + \"\".join(start[::-1])"
   ]
  },
  {
   "cell_type": "code",
   "execution_count": 34,
   "metadata": {},
   "outputs": [
    {
     "data": {
      "text/plain": [
       "'10101'"
      ]
     },
     "execution_count": 34,
     "metadata": {},
     "output_type": "execute_result"
    }
   ],
   "source": [
    "Solution().largestPalindromic(\"000111\")"
   ]
  },
  {
   "cell_type": "code",
   "execution_count": null,
   "metadata": {},
   "outputs": [],
   "source": [
    "def largestPalindromic(self, num: str) -> str:\n",
    "            hashmap={}\n",
    "            for n in num:\n",
    "                if int(n) in hashmap:\n",
    "                    hashmap[int(n)]+=1\n",
    "                else:\n",
    "                    hashmap[int(n)]=1\n",
    "            # print(hashmap)\n",
    "            greater1 = []\n",
    "            for n in hashmap:\n",
    "                if hashmap[n]>1:\n",
    "                    greater1.append\n",
    "            # print(greater1)\n",
    "\n",
    "\n",
    "            # print(greater1)\n",
    "\n",
    "\n",
    "            res=[]\n",
    "            maxx=-1\n",
    "            for n in hashmap:\n",
    "                if hashmap[n]==1 and n>maxx:\n",
    "                    maxx=n\n",
    "\n",
    "            if len(greater1)==1 and greater1[0]==0:\n",
    "                res=[str(maxx)]\n",
    "            else:\n",
    "                greater1 = sorted(greater1)\n",
    "                if maxx!=-1:\n",
    "                    res.append(str(maxx))\n",
    "                # print(res)\n",
    "                for n in greater1:\n",
    "                    if hashmap[n]%2==0:\n",
    "                        while hashmap[n]>0:\n",
    "                            res.insert(0,str(n))\n",
    "                            res.append(str(n))\n",
    "                            hashmap[n]-=2\n",
    "                    else:\n",
    "                        while hashmap[n]>1:\n",
    "                            res.insert(0,str(n))\n",
    "                            res.append(str(n))\n",
    "                            hashmap[n]-=2\n",
    "                maxx=-1\n",
    "                for n in hashmap:\n",
    "                    if hashmap[n]>0 and n>maxx:\n",
    "                        maxx=n\n",
    "                if maxx!=-1:\n",
    "                    if len(res)%2==1 and int(res[(len(res)-1)//2])<maxx:\n",
    "                        res[(len(res) - 1) // 2]=str(maxx)\n",
    "                    elif len(res)%2==0:\n",
    "                        res.insert(len(res)//2,str(maxx))\n",
    "            res=''.join(res)\n",
    "            # print(res)\n",
    "            if int(res)==-1:\n",
    "                res=\"0\"\n",
    "\n",
    "            return res"
   ]
  }
 ],
 "metadata": {
  "kernelspec": {
   "display_name": "Python 3.9.6 64-bit",
   "language": "python",
   "name": "python3"
  },
  "language_info": {
   "codemirror_mode": {
    "name": "ipython",
    "version": 3
   },
   "file_extension": ".py",
   "mimetype": "text/x-python",
   "name": "python",
   "nbconvert_exporter": "python",
   "pygments_lexer": "ipython3",
   "version": "3.9.6"
  },
  "orig_nbformat": 4,
  "vscode": {
   "interpreter": {
    "hash": "e26b106e6146fa3417b08aa501d422914abd065c08ced2fc57ef114abeab93c7"
   }
  }
 },
 "nbformat": 4,
 "nbformat_minor": 2
}
