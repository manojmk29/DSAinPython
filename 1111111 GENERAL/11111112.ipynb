{
 "cells": [
  {
   "cell_type": "code",
   "execution_count": 5,
   "metadata": {},
   "outputs": [],
   "source": [
    "def func(lower,upper):\n",
    "    last=lower\n",
    "    hmap={}\n",
    "    maxt=0\n",
    "    retval=1\n",
    "    for i in range(lower+1,upper+1):\n",
    "        flag=1\n",
    "        for j in range(2,(i//2)+1):\n",
    "            if(i%j==0):\n",
    "                flag=0\n",
    "                break\n",
    "        if flag==1:\n",
    "            dif=i-last\n",
    "            if dif not in hmap:\n",
    "                hmap[dif]=1\n",
    "            else:\n",
    "                hmap[dif]+=1\n",
    "            if hmap[dif]>maxt:\n",
    "                maxt=hmap[dif]\n",
    "                retval=dif\n",
    "            last=i\n",
    "    if maxt>=2:\n",
    "        return retval\n",
    "    else:\n",
    "        return(\"No jumping champion\")"
   ]
  },
  {
   "cell_type": "code",
   "execution_count": 7,
   "metadata": {},
   "outputs": [
    {
     "data": {
      "text/plain": [
       "'No jumping champion'"
      ]
     },
     "execution_count": 7,
     "metadata": {},
     "output_type": "execute_result"
    }
   ],
   "source": [
    "func(2,5)"
   ]
  },
  {
   "cell_type": "code",
   "execution_count": 23,
   "metadata": {},
   "outputs": [
    {
     "name": "stdout",
     "output_type": "stream",
     "text": [
      "the champion is 2\n"
     ]
    }
   ],
   "source": [
    "inp=input()\n",
    "lower,upper=inp.split(\" \")\n",
    "lower=int(lower)\n",
    "upper=int(upper)\n",
    "last=lower\n",
    "hmap={}\n",
    "maxt=0\n",
    "retval=1\n",
    "for i in range(lower+1,upper+1):\n",
    "    flag=1\n",
    "    for j in range(2,(i//2)+1):\n",
    "        if(i%j==0):\n",
    "            flag=0\n",
    "            break\n",
    "    if flag==1:\n",
    "        dif=i-last;\n",
    "        if dif not in hmap:\n",
    "            hmap[dif]=1\n",
    "        else:\n",
    "            hmap[dif]+=1\n",
    "        if hmap[dif]>maxt:\n",
    "            maxt=hmap[dif]\n",
    "            retval=dif\n",
    "        last=i\n",
    "if maxt>=2:\n",
    "    print(\"the champion is\",retval)\n",
    "else:\n",
    "    print(\"No jumping champion\")"
   ]
  },
  {
   "cell_type": "code",
   "execution_count": 47,
   "metadata": {},
   "outputs": [
    {
     "name": "stdout",
     "output_type": "stream",
     "text": [
      "21 2:5 7 11 "
     ]
    }
   ],
   "source": [
    "# n,c=map(int,input(\"enter the value\").split(\" \"))\n",
    "n,c=21,2\n",
    "arr=[]\n",
    "for i in range(1,n+1):\n",
    "    flag=1\n",
    "    for j in range(2,(i//2)+1):\n",
    "        if(i%j==0):\n",
    "            flag=0\n",
    "            break\n",
    "    if flag==1:\n",
    "        arr.append(i)\n",
    "l=len(arr)\n",
    "print(str(n)+\" \"+str(c)+\":\",end=\"\")\n",
    "if c*2>=l:\n",
    "    print(arr)\n",
    "else:\n",
    "    if l%2!=0:\n",
    "        s=(l-(c*2)+1)//2\n",
    "        for i in range(s,(s+(c*2)-1)):\n",
    "            print(arr[i],end=\" \")\n",
    "    else:\n",
    "        s=(l-(c*2))//2\n",
    "        for i in range(s,(s+(c*2))):\n",
    "            print(arr[i],end=\" \")\n",
    "\n",
    "        "
   ]
  },
  {
   "cell_type": "code",
   "execution_count": 27,
   "metadata": {},
   "outputs": [
    {
     "data": {
      "text/plain": [
       "[1, 2, 3, 5, 7, 11, 13, 17]"
      ]
     },
     "execution_count": 27,
     "metadata": {},
     "output_type": "execute_result"
    }
   ],
   "source": [
    "n=18\n",
    "c=2\n",
    "arr=[]\n",
    "for i in range(1,n+1):\n",
    "    flag=1\n",
    "    for j in range(2,(i//2)+1):\n",
    "        if(i%j==0):\n",
    "            flag=0\n",
    "            break\n",
    "    if flag==1:\n",
    "        arr.append(i)\n",
    "arr"
   ]
  },
  {
   "cell_type": "code",
   "execution_count": 20,
   "metadata": {},
   "outputs": [
    {
     "data": {
      "text/plain": [
       "2"
      ]
     },
     "execution_count": 20,
     "metadata": {},
     "output_type": "execute_result"
    }
   ],
   "source": [
    "inp=input()\n",
    "lower,upper=map(int,inp.split(\" \"))\n",
    "lower\n",
    "# lower=int(lower)\n",
    "# upper=int(upper)"
   ]
  },
  {
   "cell_type": "code",
   "execution_count": 18,
   "metadata": {},
   "outputs": [
    {
     "data": {
      "text/plain": [
       "'2'"
      ]
     },
     "execution_count": 18,
     "metadata": {},
     "output_type": "execute_result"
    }
   ],
   "source": [
    "lower=int"
   ]
  },
  {
   "cell_type": "code",
   "execution_count": 19,
   "metadata": {},
   "outputs": [
    {
     "ename": "ValueError",
     "evalue": "invalid literal for int() with base 10: '2 5'",
     "output_type": "error",
     "traceback": [
      "\u001b[1;31m---------------------------------------------------------------------------\u001b[0m",
      "\u001b[1;31mValueError\u001b[0m                                Traceback (most recent call last)",
      "\u001b[1;32m~\\AppData\\Local\\Temp/ipykernel_15824/7831105.py\u001b[0m in \u001b[0;36m<module>\u001b[1;34m\u001b[0m\n\u001b[1;32m----> 1\u001b[1;33m \u001b[0mint\u001b[0m\u001b[1;33m(\u001b[0m\u001b[1;34m\"2 5\"\u001b[0m\u001b[1;33m)\u001b[0m\u001b[1;33m\u001b[0m\u001b[1;33m\u001b[0m\u001b[0m\n\u001b[0m",
      "\u001b[1;31mValueError\u001b[0m: invalid literal for int() with base 10: '2 5'"
     ]
    }
   ],
   "source": [
    "int(\"2 5\")"
   ]
  },
  {
   "cell_type": "code",
   "execution_count": 41,
   "metadata": {},
   "outputs": [
    {
     "name": "stdout",
     "output_type": "stream",
     "text": [
      "possible\n"
     ]
    }
   ],
   "source": [
    "# inp=input()\n",
    "inp=\"2 3 4 1 2 5 10 50 3 50\"\n",
    "nums=inp.split()\n",
    "n=len(nums)\n",
    "for i in range(n):\n",
    "    nums[i]=int(nums[i])\n",
    "if sum(nums)%2!=0:\n",
    "    print(\"not possible\")\n",
    "else:\n",
    "    tar=sum(arr)//2\n",
    "    dp=[[-1 for i in range(tar+1)]for i in range(n)]\n",
    "    for cur in range(tar+1):\n",
    "        if(cur==0 or cur-nums[0]==0):\n",
    "            dp[0][cur]=1+(nums[0]==0)\n",
    "        else:\n",
    "            dp[0][cur]=0\n",
    "    for ind in range(1,n):\n",
    "        for cur in range(tar+1):\n",
    "            notake=dp[ind-1][cur]\n",
    "            take=0\n",
    "            if(cur>=nums[ind]):\n",
    "                take=dp[ind-1][cur-nums[ind]]\n",
    "            dp[ind][cur]=notake+take\n",
    "    if dp[n-1][tar]==0:\n",
    "        print(\"not possible\")\n",
    "    else:\n",
    "        print(\"possible\")"
   ]
  },
  {
   "cell_type": "code",
   "execution_count": null,
   "metadata": {},
   "outputs": [],
   "source": [
    "n=int(input())\n",
    "arr="
   ]
  },
  {
   "cell_type": "code",
   "execution_count": 4,
   "metadata": {},
   "outputs": [
    {
     "data": {
      "text/plain": [
       "[2, 3]"
      ]
     },
     "execution_count": 4,
     "metadata": {},
     "output_type": "execute_result"
    }
   ],
   "source": [
    "arr=arr.split(\" \")\n",
    "n=int(arr[0])\n",
    "arr=arr[1:]\n",
    "for i in range(n):\n",
    "    arr[i]=int(arr[i])\n",
    "\n",
    "for i in "
   ]
  },
  {
   "cell_type": "code",
   "execution_count": null,
   "metadata": {},
   "outputs": [],
   "source": [
    "n=int(input())\n",
    "arr=[]\n",
    "for i in range(n):\n",
    "    arr.append(int(input()))"
   ]
  },
  {
   "cell_type": "code",
   "execution_count": null,
   "metadata": {},
   "outputs": [],
   "source": [
    "ret=[[]]\n",
    "n=len(nums)\n",
    "for i in range(n):\n",
    "    temp=[]\n",
    "    for j in ret:\n",
    "        temp.append(j+[nums[i]])\n",
    "    ret+=temp\n",
    "ret"
   ]
  },
  {
   "cell_type": "code",
   "execution_count": 20,
   "metadata": {},
   "outputs": [
    {
     "name": "stdout",
     "output_type": "stream",
     "text": [
      "7 21\n",
      "7 10 11\n"
     ]
    }
   ],
   "source": [
    "dp = [[]]\n",
    "\n",
    "def display(v):\n",
    "    v=sorted(v)\n",
    "    nn=len(v)\n",
    "    for i in range(nn-1):\n",
    "        print(v[i],end=\" \")\n",
    "    print(v[-1],end=\"\\n\")\n",
    "    \n",
    "\n",
    "def printSubsetsRec(arr, i, sum, p):\n",
    "\tif (i == 0 and sum != 0 and dp[0][sum]):\n",
    "\t\tp.append(arr[i])\n",
    "\t\tdisplay(p)\n",
    "\t\tp = []\n",
    "\t\treturn\n",
    "\n",
    "\tif (i == 0 and sum == 0):\n",
    "\t\tdisplay(p)\n",
    "\t\tp = []\n",
    "\t\treturn\n",
    "\n",
    "\tif (dp[i-1][sum]):\n",
    "\t\tb = []\n",
    "\t\tb.extend(p)\n",
    "\t\tprintSubsetsRec(arr, i-1, sum, b)\n",
    "\n",
    "\tif (sum >= arr[i] and dp[i-1][sum-arr[i]]):\n",
    "\t\tp.append(arr[i])\n",
    "\t\tprintSubsetsRec(arr, i-1, sum-arr[i], p)\n",
    "\n",
    "def printAllSubsets(arr, n, sum):\n",
    "\tif (n == 0 or sum < 0):\n",
    "\t\treturn\n",
    "\n",
    "\tglobal dp\n",
    "\tdp = [[False for i in range(sum+1)] for j in range(n)]\n",
    "\n",
    "\tfor i in range(n):\n",
    "\t\tdp[i][0] = True\n",
    "\n",
    "\tif (arr[0] <= sum):\n",
    "\t\tdp[0][arr[0]] = True\n",
    "\n",
    "\tfor i in range(1, n):\n",
    "\t\tfor j in range(0, sum + 1):\n",
    "\t\t\tif (arr[i] <= j):\n",
    "\t\t\t\tdp[i][j] = (dp[i-1][j] or dp[i-1][j-arr[i]])\n",
    "\t\t\telse:\n",
    "\t\t\t\tdp[i][j] = dp[i - 1][j]\n",
    "\n",
    "\tif (dp[n-1][sum] == False):\n",
    "\t\tprint(\"There are no subsets with sum \", sum)\n",
    "\t\treturn\n",
    "\n",
    "\tp = []\n",
    "\tprintSubsetsRec(arr, n-1, sum, p)\n",
    "\n",
    "s=int(input(\"enter the size of the array\"))\n",
    "print(\"enter the aray elements\")\n",
    "arr=[]\n",
    "for i in range(s):\n",
    "    arr.append(int(input()))\n",
    "tar=int(input(\"enter the target sum\"))\n",
    "arr=[7,21,11,3,10]\n",
    "s=5\n",
    "tar=28\n",
    "printAllSubsets(arr, s, tar)\n",
    "\n"
   ]
  },
  {
   "cell_type": "code",
   "execution_count": 21,
   "metadata": {},
   "outputs": [
    {
     "data": {
      "text/plain": [
       "[1, 2, 3, 4]"
      ]
     },
     "execution_count": 21,
     "metadata": {},
     "output_type": "execute_result"
    }
   ],
   "source": [
    "arr=\"1 2 3 4\"\n",
    "arr=list(map(int,arr.split()))\n",
    "arr"
   ]
  },
  {
   "cell_type": "code",
   "execution_count": null,
   "metadata": {},
   "outputs": [],
   "source": []
  }
 ],
 "metadata": {
  "kernelspec": {
   "display_name": "Python 3.9.6 64-bit",
   "language": "python",
   "name": "python3"
  },
  "language_info": {
   "codemirror_mode": {
    "name": "ipython",
    "version": 3
   },
   "file_extension": ".py",
   "mimetype": "text/x-python",
   "name": "python",
   "nbconvert_exporter": "python",
   "pygments_lexer": "ipython3",
   "version": "3.9.6"
  },
  "orig_nbformat": 4,
  "vscode": {
   "interpreter": {
    "hash": "e26b106e6146fa3417b08aa501d422914abd065c08ced2fc57ef114abeab93c7"
   }
  }
 },
 "nbformat": 4,
 "nbformat_minor": 2
}
