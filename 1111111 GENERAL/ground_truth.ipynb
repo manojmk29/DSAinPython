{
 "cells": [
  {
   "cell_type": "code",
   "execution_count": 5,
   "metadata": {},
   "outputs": [
    {
     "data": {
      "text/plain": [
       "['24-10-1945', '15-08-1947']"
      ]
     },
     "execution_count": 5,
     "metadata": {},
     "output_type": "execute_result"
    }
   ],
   "source": [
    "import re\n",
    "str=\"un was established on 24-10-1945.India got freedom on 15-08-1947\"\n",
    "a=re.findall(\"..-..-....\",str)\n",
    "a"
   ]
  },
  {
   "cell_type": "code",
   "execution_count": 9,
   "metadata": {},
   "outputs": [
    {
     "name": "stdout",
     "output_type": "stream",
     "text": [
      "2\n"
     ]
    }
   ],
   "source": [
    "import re\n",
    "str=\"un was established on 24-10-1945.India got freedom on 15-08-1947\"\n",
    "a=re.findall(\"..-..-....\",str)\n",
    "a\n",
    "hset=set()\n",
    "for i in a:\n",
    "    hset.add(i.split(\"-\")[2])\n",
    "print(len(hset))"
   ]
  },
  {
   "cell_type": "code",
   "execution_count": 13,
   "metadata": {},
   "outputs": [],
   "source": []
  },
  {
   "cell_type": "code",
   "execution_count": 28,
   "metadata": {},
   "outputs": [],
   "source": [
    "\n",
    "def func(inp1,inp2,inp3):\n",
    "    val=min(inp3,inp2)\n",
    "    arr=sorted(list(inp1))\n",
    "    cnt=0\n",
    "    cur=\"\"\n",
    "    for i in range(inp3):\n",
    "        if int(arr[i])>inp2:\n",
    "            cnt+=(cur!=\"\")\n",
    "            return cnt\n",
    "        if int(cur+arr[i])>inp2: \n",
    "                cnt+=1\n",
    "                cur=arr[i]\n",
    "        else:\n",
    "            cur=cur+arr[i]\n",
    "    cnt+=1\n",
    "    return cnt\n"
   ]
  },
  {
   "cell_type": "code",
   "execution_count": 30,
   "metadata": {},
   "outputs": [
    {
     "data": {
      "text/plain": [
       "3"
      ]
     },
     "execution_count": 30,
     "metadata": {},
     "output_type": "execute_result"
    }
   ],
   "source": [
    "inp1=\"1234\"\n",
    "inp2=30\n",
    "inp3=4\n",
    "func(inp1,inp2,inp3)\n"
   ]
  },
  {
   "cell_type": "code",
   "execution_count": 34,
   "metadata": {},
   "outputs": [
    {
     "data": {
      "text/plain": [
       "48"
      ]
     },
     "execution_count": 34,
     "metadata": {},
     "output_type": "execute_result"
    }
   ],
   "source": [
    "ord(\"0\")"
   ]
  },
  {
   "cell_type": "code",
   "execution_count": null,
   "metadata": {},
   "outputs": [],
   "source": [
    "input1=5\n",
    "input2=3\n",
    "input3=[]\n",
    "input3.sort()\n",
    "print(sum(input3[input2-1:]))"
   ]
  },
  {
   "cell_type": "code",
   "execution_count": 36,
   "metadata": {},
   "outputs": [
    {
     "name": "stdout",
     "output_type": "stream",
     "text": [
      "[0, 3, [6, 9]]\n",
      "[8, 3, [6, 9]]\n"
     ]
    }
   ],
   "source": [
    "l=[0,3,[6,9]]\n",
    "l2=l.copy()\n",
    "l2[0]=8\n",
    "print(l)\n",
    "print(l2)"
   ]
  },
  {
   "cell_type": "code",
   "execution_count": 39,
   "metadata": {},
   "outputs": [
    {
     "name": "stdout",
     "output_type": "stream",
     "text": [
      "[]\n"
     ]
    }
   ],
   "source": [
    "str=\"Lorem text\"\n",
    "print(str.split()[2:-2])"
   ]
  },
  {
   "cell_type": "code",
   "execution_count": 42,
   "metadata": {},
   "outputs": [
    {
     "ename": "TypeError",
     "evalue": "'str' object is not callable",
     "output_type": "error",
     "traceback": [
      "\u001b[1;31m---------------------------------------------------------------------------\u001b[0m",
      "\u001b[1;31mTypeError\u001b[0m                                 Traceback (most recent call last)",
      "\u001b[1;32m~\\AppData\\Local\\Temp/ipykernel_16704/3692508674.py\u001b[0m in \u001b[0;36m<module>\u001b[1;34m\u001b[0m\n\u001b[0;32m     24\u001b[0m \u001b[0md1\u001b[0m\u001b[1;33m=\u001b[0m\u001b[0mdif\u001b[0m\u001b[1;33m(\u001b[0m\u001b[1;36m5\u001b[0m\u001b[1;33m,\u001b[0m\u001b[1;36m3\u001b[0m\u001b[1;33m)\u001b[0m\u001b[1;33m\u001b[0m\u001b[1;33m\u001b[0m\u001b[0m\n\u001b[0;32m     25\u001b[0m \u001b[0md2\u001b[0m\u001b[1;33m=\u001b[0m\u001b[0mdif\u001b[0m\u001b[1;33m(\u001b[0m\u001b[1;36m2\u001b[0m\u001b[1;33m,\u001b[0m\u001b[1;36m4\u001b[0m\u001b[1;33m)\u001b[0m\u001b[1;33m\u001b[0m\u001b[1;33m\u001b[0m\u001b[0m\n\u001b[1;32m---> 26\u001b[1;33m \u001b[0mprint\u001b[0m\u001b[1;33m(\u001b[0m\u001b[0md1\u001b[0m\u001b[1;33m+\u001b[0m\u001b[0md2\u001b[0m\u001b[1;33m)\u001b[0m\u001b[1;33m\u001b[0m\u001b[1;33m\u001b[0m\u001b[0m\n\u001b[0m",
      "\u001b[1;32m~\\AppData\\Local\\Temp/ipykernel_16704/3692508674.py\u001b[0m in \u001b[0;36m__str__\u001b[1;34m(self)\u001b[0m\n\u001b[0;32m     20\u001b[0m \u001b[1;33m\u001b[0m\u001b[0m\n\u001b[0;32m     21\u001b[0m     \u001b[1;32mdef\u001b[0m \u001b[0m__str__\u001b[0m\u001b[1;33m(\u001b[0m\u001b[0mself\u001b[0m\u001b[1;33m)\u001b[0m\u001b[1;33m:\u001b[0m\u001b[1;33m\u001b[0m\u001b[1;33m\u001b[0m\u001b[0m\n\u001b[1;32m---> 22\u001b[1;33m         \u001b[1;32mreturn\u001b[0m \u001b[0mstr\u001b[0m\u001b[1;33m(\u001b[0m\u001b[0mself\u001b[0m\u001b[1;33m.\u001b[0m\u001b[0mx\u001b[0m\u001b[1;33m)\u001b[0m\u001b[1;33m+\u001b[0m\u001b[1;34m'+'\u001b[0m\u001b[1;33m+\u001b[0m\u001b[0mstr\u001b[0m\u001b[1;33m(\u001b[0m\u001b[0mself\u001b[0m\u001b[1;33m.\u001b[0m\u001b[0my\u001b[0m\u001b[1;33m)\u001b[0m\u001b[1;33m+\u001b[0m\u001b[1;34m\"i\"\u001b[0m\u001b[1;33m\u001b[0m\u001b[1;33m\u001b[0m\u001b[0m\n\u001b[0m\u001b[0;32m     23\u001b[0m \u001b[1;33m\u001b[0m\u001b[0m\n\u001b[0;32m     24\u001b[0m \u001b[0md1\u001b[0m\u001b[1;33m=\u001b[0m\u001b[0mdif\u001b[0m\u001b[1;33m(\u001b[0m\u001b[1;36m5\u001b[0m\u001b[1;33m,\u001b[0m\u001b[1;36m3\u001b[0m\u001b[1;33m)\u001b[0m\u001b[1;33m\u001b[0m\u001b[1;33m\u001b[0m\u001b[0m\n",
      "\u001b[1;31mTypeError\u001b[0m: 'str' object is not callable"
     ]
    }
   ],
   "source": [
    "class dif:\n",
    "    def __init__(self,x,y):\n",
    "        self.x=x\n",
    "        self.y=y\n",
    "    def __gt__(self,other):\n",
    "        if(self.x > other.x):\n",
    "            return True\n",
    "        elif self.x==other.x:\n",
    "            if self.y>other.x:\n",
    "                return True\n",
    "            else:\n",
    "                return False\n",
    "        else:\n",
    "            return False\n",
    "    \n",
    "    def __add__(self,other):\n",
    "        xvalue=self.x+other.x\n",
    "        yvalue=self.y+other.y\n",
    "        return dif(xvalue,yvalue)\n",
    "    \n",
    "    def __str__(self):\n",
    "        return str(self.x)+'+'+str(self.y)+\"i\"\n",
    "\n",
    "d1=dif(5,3)\n",
    "d2=dif(2,4)\n",
    "print(d1+d2)\n"
   ]
  },
  {
   "cell_type": "code",
   "execution_count": 47,
   "metadata": {},
   "outputs": [
    {
     "ename": "TypeError",
     "evalue": "'str' object is not callable",
     "output_type": "error",
     "traceback": [
      "\u001b[1;31m---------------------------------------------------------------------------\u001b[0m",
      "\u001b[1;31mTypeError\u001b[0m                                 Traceback (most recent call last)",
      "\u001b[1;32m~\\AppData\\Local\\Temp/ipykernel_16704/1179399929.py\u001b[0m in \u001b[0;36m<module>\u001b[1;34m\u001b[0m\n\u001b[1;32m----> 1\u001b[1;33m \u001b[0mprint\u001b[0m\u001b[1;33m(\u001b[0m\u001b[0mdif\u001b[0m\u001b[1;33m(\u001b[0m\u001b[1;36m4\u001b[0m\u001b[1;33m,\u001b[0m\u001b[1;36m5\u001b[0m\u001b[1;33m)\u001b[0m\u001b[1;33m)\u001b[0m\u001b[1;33m\u001b[0m\u001b[1;33m\u001b[0m\u001b[0m\n\u001b[0m",
      "\u001b[1;32m~\\AppData\\Local\\Temp/ipykernel_16704/3692508674.py\u001b[0m in \u001b[0;36m__str__\u001b[1;34m(self)\u001b[0m\n\u001b[0;32m     20\u001b[0m \u001b[1;33m\u001b[0m\u001b[0m\n\u001b[0;32m     21\u001b[0m     \u001b[1;32mdef\u001b[0m \u001b[0m__str__\u001b[0m\u001b[1;33m(\u001b[0m\u001b[0mself\u001b[0m\u001b[1;33m)\u001b[0m\u001b[1;33m:\u001b[0m\u001b[1;33m\u001b[0m\u001b[1;33m\u001b[0m\u001b[0m\n\u001b[1;32m---> 22\u001b[1;33m         \u001b[1;32mreturn\u001b[0m \u001b[0mstr\u001b[0m\u001b[1;33m(\u001b[0m\u001b[0mself\u001b[0m\u001b[1;33m.\u001b[0m\u001b[0mx\u001b[0m\u001b[1;33m)\u001b[0m\u001b[1;33m+\u001b[0m\u001b[1;34m'+'\u001b[0m\u001b[1;33m+\u001b[0m\u001b[0mstr\u001b[0m\u001b[1;33m(\u001b[0m\u001b[0mself\u001b[0m\u001b[1;33m.\u001b[0m\u001b[0my\u001b[0m\u001b[1;33m)\u001b[0m\u001b[1;33m+\u001b[0m\u001b[1;34m\"i\"\u001b[0m\u001b[1;33m\u001b[0m\u001b[1;33m\u001b[0m\u001b[0m\n\u001b[0m\u001b[0;32m     23\u001b[0m \u001b[1;33m\u001b[0m\u001b[0m\n\u001b[0;32m     24\u001b[0m \u001b[0md1\u001b[0m\u001b[1;33m=\u001b[0m\u001b[0mdif\u001b[0m\u001b[1;33m(\u001b[0m\u001b[1;36m5\u001b[0m\u001b[1;33m,\u001b[0m\u001b[1;36m3\u001b[0m\u001b[1;33m)\u001b[0m\u001b[1;33m\u001b[0m\u001b[1;33m\u001b[0m\u001b[0m\n",
      "\u001b[1;31mTypeError\u001b[0m: 'str' object is not callable"
     ]
    }
   ],
   "source": [
    "print(dif(4,5))"
   ]
  },
  {
   "cell_type": "code",
   "execution_count": 48,
   "metadata": {},
   "outputs": [
    {
     "name": "stdout",
     "output_type": "stream",
     "text": [
      "hello world\n",
      "hello python\n"
     ]
    }
   ],
   "source": [
    "def func1(func3):\n",
    "    def func2():\n",
    "        print(\"hello world\")\n",
    "        func3()\n",
    "    return func2\n",
    "\n",
    "def func4():\n",
    "    print(\"hello python\")\n",
    "\n",
    "func5=func1(func4)\n",
    "func5()"
   ]
  },
  {
   "cell_type": "code",
   "execution_count": 49,
   "metadata": {},
   "outputs": [
    {
     "data": {
      "text/plain": [
       "<function __main__.func1(func3)>"
      ]
     },
     "execution_count": 49,
     "metadata": {},
     "output_type": "execute_result"
    }
   ],
   "source": []
  },
  {
   "cell_type": "code",
   "execution_count": 52,
   "metadata": {},
   "outputs": [
    {
     "name": "stdout",
     "output_type": "stream",
     "text": [
      "abc*+de/f*-\n"
     ]
    }
   ],
   "source": [
    "# Python program to convert infix expression to postfix\n",
    "\n",
    "# Class to convert the expression\n",
    "\n",
    "\n",
    "class Conversion:\n",
    "\n",
    "\t# Constructor to initialize the class variables\n",
    "\tdef __init__(self, capacity):\n",
    "\t\tself.top = -1\n",
    "\t\tself.capacity = capacity\n",
    "\t\t# This array is used a stack\n",
    "\t\tself.array = []\n",
    "\t\t# Precedence setting\n",
    "\t\tself.output = []\n",
    "\t\tself.precedence = {'+': 1, '-': 1, '*': 2, '/': 2, '^': 3}\n",
    "\n",
    "\t# check if the stack is empty\n",
    "\tdef isEmpty(self):\n",
    "\t\treturn True if self.top == -1 else False\n",
    "\n",
    "\t# Return the value of the top of the stack\n",
    "\tdef peek(self):\n",
    "\t\treturn self.array[-1]\n",
    "\n",
    "\t# Pop the element from the stack\n",
    "\tdef pop(self):\n",
    "\t\tif not self.isEmpty():\n",
    "\t\t\tself.top -= 1\n",
    "\t\t\treturn self.array.pop()\n",
    "\t\telse:\n",
    "\t\t\treturn \"$\"\n",
    "\n",
    "\t# Push the element to the stack\n",
    "\tdef push(self, op):\n",
    "\t\tself.top += 1\n",
    "\t\tself.array.append(op)\n",
    "\n",
    "\t# A utility function to check is the given character\n",
    "\t# is operand\n",
    "\tdef isOperand(self, ch):\n",
    "\t\treturn ch.isalpha()\n",
    "\n",
    "\t# Check if the precedence of operator is strictly\n",
    "\t# less than top of stack or not\n",
    "\tdef notGreater(self, i):\n",
    "\t\ttry:\n",
    "\t\t\ta = self.precedence[i]\n",
    "\t\t\tb = self.precedence[self.peek()]\n",
    "\t\t\treturn True if a <= b else False\n",
    "\t\texcept KeyError:\n",
    "\t\t\treturn False\n",
    "\n",
    "\t# The main function that\n",
    "\t# converts given infix expression\n",
    "\t# to postfix expression\n",
    "\tdef infixToPostfix(self, exp):\n",
    "\n",
    "\t\t# Iterate over the expression for conversion\n",
    "\t\tfor i in exp:\n",
    "\t\t\t# If the character is an operand,\n",
    "\t\t\t# add it to output\n",
    "\t\t\tif self.isOperand(i):\n",
    "\t\t\t\tself.output.append(i)\n",
    "\n",
    "\t\t\t# If the character is an '(', push it to stack\n",
    "\t\t\telif i == '(':\n",
    "\t\t\t\tself.push(i)\n",
    "\n",
    "\t\t\t# If the scanned character is an ')', pop and\n",
    "\t\t\t# output from the stack until and '(' is found\n",
    "\t\t\telif i == ')':\n",
    "\t\t\t\twhile((not self.isEmpty()) and\n",
    "\t\t\t\t\tself.peek() != '('):\n",
    "\t\t\t\t\ta = self.pop()\n",
    "\t\t\t\t\tself.output.append(a)\n",
    "\t\t\t\tif (not self.isEmpty() and self.peek() != '('):\n",
    "\t\t\t\t\treturn -1\n",
    "\t\t\t\telse:\n",
    "\t\t\t\t\tself.pop()\n",
    "\n",
    "\t\t\t# An operator is encountered\n",
    "\t\t\telse:\n",
    "\t\t\t\twhile(not self.isEmpty() and self.notGreater(i)):\n",
    "\t\t\t\t\t\t# this is to pass cases like a^b^c\n",
    "\t\t\t\t\t# without if ab^c^\n",
    "\t\t\t\t\t# with if abc^^\n",
    "\t\t\t\t\tif i == \"^\" and self.array[-1] == i:\n",
    "\t\t\t\t\t\tbreak\n",
    "\t\t\t\t\tself.output.append(self.pop())\n",
    "\t\t\t\tself.push(i)\n",
    "\n",
    "\t\t# pop all the operator from the stack\n",
    "\t\twhile not self.isEmpty():\n",
    "\t\t\tself.output.append(self.pop())\n",
    "\n",
    "\t\tprint(\"\".join(self.output))\n",
    "\n",
    "\n",
    "# Driver program to test above function\n",
    "exp = \"a+b*c-d/e*f\"\n",
    "obj = Conversion(len(exp))\n",
    "obj.infixToPostfix(exp)\n",
    "\n",
    "# This code is contributed by Nikhil Kumar Singh(nickzuck_007)\n"
   ]
  },
  {
   "cell_type": "code",
   "execution_count": 1,
   "metadata": {},
   "outputs": [
    {
     "data": {
      "text/plain": [
       "'4.0000 -5 8.678'"
      ]
     },
     "execution_count": 1,
     "metadata": {},
     "output_type": "execute_result"
    }
   ],
   "source": [
    "a=4\n",
    "b=\"8.678\"\n",
    "c=-5\n",
    "str1=\"{0:.4f} {2} {1}\".format(a,b,c)\n",
    "str1"
   ]
  },
  {
   "cell_type": "code",
   "execution_count": 2,
   "metadata": {},
   "outputs": [
    {
     "ename": "TypeError",
     "evalue": "'set' object is not subscriptable",
     "output_type": "error",
     "traceback": [
      "\u001b[1;31m---------------------------------------------------------------------------\u001b[0m",
      "\u001b[1;31mTypeError\u001b[0m                                 Traceback (most recent call last)",
      "\u001b[1;32m~\\AppData\\Local\\Temp/ipykernel_10796/602063184.py\u001b[0m in \u001b[0;36m<module>\u001b[1;34m\u001b[0m\n\u001b[0;32m      2\u001b[0m     \u001b[0mdata\u001b[0m\u001b[1;33m=\u001b[0m\u001b[1;33m[\u001b[0m\u001b[1;36m5\u001b[0m\u001b[1;33m,\u001b[0m\u001b[1;36m4\u001b[0m\u001b[1;33m,\u001b[0m\u001b[1;36m3\u001b[0m\u001b[1;33m,\u001b[0m\u001b[1;36m2\u001b[0m\u001b[1;33m,\u001b[0m\u001b[1;36m1\u001b[0m\u001b[1;33m]\u001b[0m\u001b[1;33m\u001b[0m\u001b[1;33m\u001b[0m\u001b[0m\n\u001b[0;32m      3\u001b[0m     \u001b[0mdata\u001b[0m\u001b[1;33m=\u001b[0m\u001b[0mset\u001b[0m\u001b[1;33m(\u001b[0m\u001b[0mdata\u001b[0m\u001b[1;33m)\u001b[0m\u001b[1;33m\u001b[0m\u001b[1;33m\u001b[0m\u001b[0m\n\u001b[1;32m----> 4\u001b[1;33m     \u001b[0mprint\u001b[0m\u001b[1;33m(\u001b[0m\u001b[0mdata\u001b[0m\u001b[1;33m[\u001b[0m\u001b[1;36m1\u001b[0m\u001b[1;33m]\u001b[0m\u001b[1;33m)\u001b[0m\u001b[1;33m\u001b[0m\u001b[1;33m\u001b[0m\u001b[0m\n\u001b[0m\u001b[0;32m      5\u001b[0m \u001b[1;32mexcept\u001b[0m \u001b[0mKeyError\u001b[0m \u001b[1;32mas\u001b[0m \u001b[0merr\u001b[0m\u001b[1;33m:\u001b[0m\u001b[1;33m\u001b[0m\u001b[1;33m\u001b[0m\u001b[0m\n\u001b[0;32m      6\u001b[0m     \u001b[0mprint\u001b[0m\u001b[1;33m(\u001b[0m\u001b[0merr\u001b[0m\u001b[1;33m)\u001b[0m\u001b[1;33m\u001b[0m\u001b[1;33m\u001b[0m\u001b[0m\n",
      "\u001b[1;31mTypeError\u001b[0m: 'set' object is not subscriptable"
     ]
    }
   ],
   "source": [
    "try:\n",
    "    data=[5,4,3,2,1]\n",
    "    data=set(data)\n",
    "    print(data[1])\n",
    "except KeyError as err:\n",
    "    print(err)"
   ]
  },
  {
   "cell_type": "code",
   "execution_count": 4,
   "metadata": {},
   "outputs": [
    {
     "name": "stdout",
     "output_type": "stream",
     "text": [
      "Begin\n",
      "0\n"
     ]
    }
   ],
   "source": [
    "def get_text(header=\"Begin\"):\n",
    "    yield header\n",
    "    try:\n",
    "        a=[i for i in range(6)]\n",
    "        yield(a[0])\n",
    "        a.remove(a[1])\n",
    "        a.remove(a[0])\n",
    "        return [i+1 for i in a]\n",
    "    except Exception as err:\n",
    "        print(\"Error Occured\")\n",
    "\n",
    "if __name__==\"__main__\":\n",
    "    mg=get_text()\n",
    "    for i in mg:\n",
    "        print(i)\n",
    "\n"
   ]
  },
  {
   "cell_type": "code",
   "execution_count": 5,
   "metadata": {},
   "outputs": [
    {
     "name": "stdout",
     "output_type": "stream",
     "text": [
      "abcde\n"
     ]
    }
   ],
   "source": [
    "def g(ss):\n",
    "    for i in ss:\n",
    "        yield i\n",
    "def t(ss):\n",
    "    for i in ss:\n",
    "        yield i*2\n",
    "i=\"abcde\"\n",
    "print(\"\".join(g(i)))"
   ]
  },
  {
   "cell_type": "code",
   "execution_count": 6,
   "metadata": {},
   "outputs": [
    {
     "data": {
      "text/plain": [
       "[2, 6, 5, 4, 3, 2, 1]"
      ]
     },
     "execution_count": 6,
     "metadata": {},
     "output_type": "execute_result"
    }
   ],
   "source": [
    "a=[1,2,3,4,5]\n",
    "a.extend([6,2])\n",
    "a[::-1]"
   ]
  },
  {
   "cell_type": "code",
   "execution_count": 7,
   "metadata": {},
   "outputs": [
    {
     "data": {
      "text/plain": [
       "([0, 3, [6, 9]], [8, 3, [6, 9]])"
      ]
     },
     "execution_count": 7,
     "metadata": {},
     "output_type": "execute_result"
    }
   ],
   "source": [
    "a=[0,3,[6,9]]\n",
    "b=a.copy()\n",
    "b[0]=8\n",
    "a,b"
   ]
  },
  {
   "cell_type": "code",
   "execution_count": 8,
   "metadata": {},
   "outputs": [
    {
     "name": "stdout",
     "output_type": "stream",
     "text": [
      "n occured 2 times\n",
      "i occured 2 times\n",
      "_ occured 3 times\n",
      "y occured 2 times\n"
     ]
    }
   ],
   "source": [
    "from collections import Counter\n",
    "my_string=\"India_is_my_country\"\n",
    "counts=Counter(my_string)\n",
    "try:\n",
    "    for k,v in counts.items():\n",
    "        if v>=2:\n",
    "            print(\"{k} occured {v} times\".format(k=k,v=str(v)))\n",
    "except ValueError:\n",
    "    print(\"not enough values to unpack\")\n"
   ]
  },
  {
   "cell_type": "code",
   "execution_count": 11,
   "metadata": {},
   "outputs": [
    {
     "data": {
      "text/plain": [
       "{3, 4, 5, 6, 7}"
      ]
     },
     "execution_count": 11,
     "metadata": {},
     "output_type": "execute_result"
    }
   ],
   "source": [
    "a={5,6,7}\n",
    "a.update([3,4])\n",
    "a"
   ]
  },
  {
   "cell_type": "code",
   "execution_count": 14,
   "metadata": {},
   "outputs": [
    {
     "ename": "TypeError",
     "evalue": "'vc' object is not callable",
     "output_type": "error",
     "traceback": [
      "\u001b[1;31m---------------------------------------------------------------------------\u001b[0m",
      "\u001b[1;31mTypeError\u001b[0m                                 Traceback (most recent call last)",
      "\u001b[1;32m~\\AppData\\Local\\Temp/ipykernel_10796/2471498892.py\u001b[0m in \u001b[0;36m<module>\u001b[1;34m\u001b[0m\n\u001b[0;32m     21\u001b[0m     \u001b[1;32mreturn\u001b[0m \u001b[0mpn\u001b[0m\u001b[1;33m\u001b[0m\u001b[1;33m\u001b[0m\u001b[0m\n\u001b[0;32m     22\u001b[0m \u001b[1;33m\u001b[0m\u001b[0m\n\u001b[1;32m---> 23\u001b[1;33m \u001b[0mprint\u001b[0m\u001b[1;33m(\u001b[0m\u001b[0mpp\u001b[0m\u001b[1;33m(\u001b[0m\u001b[1;33m[\u001b[0m\u001b[1;36m1234234233\u001b[0m\u001b[1;33m,\u001b[0m\u001b[1;36m345465643\u001b[0m\u001b[1;33m,\u001b[0m\u001b[1;36m422354342\u001b[0m\u001b[1;33m]\u001b[0m\u001b[1;33m)\u001b[0m\u001b[1;33m)\u001b[0m\u001b[1;33m\u001b[0m\u001b[1;33m\u001b[0m\u001b[0m\n\u001b[0m",
      "\u001b[1;31mTypeError\u001b[0m: 'vc' object is not callable"
     ]
    }
   ],
   "source": [
    "class vc:\n",
    "    def __init__(self,func):\n",
    "        self.fn=func\n",
    "    def __cal__(self,*args):\n",
    "        for i in args:\n",
    "            if not isinstance(i,int):\n",
    "                print(\"input contains non-integers\")\n",
    "                break\n",
    "            else:\n",
    "                return self.fn(*args)\n",
    "    \n",
    "class ccc:\n",
    "    def __init__(self,func):\n",
    "        self.fn=func\n",
    "def __cal__(self,*args,**kwargs):\n",
    "    return [\"+91\"+str(x) for x in args[0]]\n",
    "\n",
    "@vc\n",
    "@ccc\n",
    "def pp(pn):\n",
    "    return pn\n",
    "\n",
    "print(pp([1234234233,345465643,422354342]))\n"
   ]
  },
  {
   "cell_type": "code",
   "execution_count": null,
   "metadata": {},
   "outputs": [],
   "source": []
  }
 ],
 "metadata": {
  "kernelspec": {
   "display_name": "Python 3.9.6 64-bit",
   "language": "python",
   "name": "python3"
  },
  "language_info": {
   "codemirror_mode": {
    "name": "ipython",
    "version": 3
   },
   "file_extension": ".py",
   "mimetype": "text/x-python",
   "name": "python",
   "nbconvert_exporter": "python",
   "pygments_lexer": "ipython3",
   "version": "3.9.6"
  },
  "orig_nbformat": 4,
  "vscode": {
   "interpreter": {
    "hash": "e26b106e6146fa3417b08aa501d422914abd065c08ced2fc57ef114abeab93c7"
   }
  }
 },
 "nbformat": 4,
 "nbformat_minor": 2
}
