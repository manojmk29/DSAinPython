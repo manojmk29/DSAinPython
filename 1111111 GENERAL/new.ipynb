{
 "cells": [
  {
   "cell_type": "code",
   "execution_count": 1,
   "metadata": {},
   "outputs": [
    {
     "data": {
      "text/plain": [
       "4"
      ]
     },
     "execution_count": 1,
     "metadata": {},
     "output_type": "execute_result"
    }
   ],
   "source": [
    "a=4\n",
    "a"
   ]
  },
  {
   "cell_type": "code",
   "execution_count": null,
   "metadata": {},
   "outputs": [],
   "source": []
  },
  {
   "cell_type": "code",
   "execution_count": 10,
   "metadata": {},
   "outputs": [
    {
     "data": {
      "text/plain": [
       "142"
      ]
     },
     "execution_count": 10,
     "metadata": {},
     "output_type": "execute_result"
    }
   ],
   "source": [
    "def func(arr):\n",
    "    n=len(arr)\n",
    "    tot=0\n",
    "    for i in range(n):\n",
    "        start=-1\n",
    "        end = -1\n",
    "        for j in range(len(arr[i])):\n",
    "            cr = arr[i][j]\n",
    "            if(ord(cr)>48 and ord(cr)<=57):\n",
    "                if start==-1:\n",
    "                    start=cr \n",
    "                end=cr \n",
    "        val =int(str(start)+str(end))\n",
    "        tot+=val \n",
    "    return tot \n",
    "\n",
    "nums = [\"1abc2\",\"pqr3stu8vwx\",\"a1b2c3d4e5f\",\"treb7uchet\"]\n",
    "func(nums)"
   ]
  },
  {
   "cell_type": "code",
   "execution_count": null,
   "metadata": {},
   "outputs": [],
   "source": []
  },
  {
   "cell_type": "code",
   "execution_count": null,
   "metadata": {},
   "outputs": [],
   "source": []
  }
 ],
 "metadata": {
  "kernelspec": {
   "display_name": "Python 3",
   "language": "python",
   "name": "python3"
  },
  "language_info": {
   "codemirror_mode": {
    "name": "ipython",
    "version": 3
   },
   "file_extension": ".py",
   "mimetype": "text/x-python",
   "name": "python",
   "nbconvert_exporter": "python",
   "pygments_lexer": "ipython3",
   "version": "3.11.1"
  }
 },
 "nbformat": 4,
 "nbformat_minor": 2
}
