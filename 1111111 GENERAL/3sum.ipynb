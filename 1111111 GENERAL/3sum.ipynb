{
 "cells": [
  {
   "cell_type": "code",
   "execution_count": 3,
   "metadata": {},
   "outputs": [],
   "source": [
    "class Solution:\n",
    "    def threeSum(self, nums):\n",
    "        n=len(nums)\n",
    "        nums.sort()\n",
    "        result=[]\n",
    "        i=0\n",
    "        while(i<n-2):\n",
    "            l=i+1\n",
    "            r=n-1\n",
    "            while (l<r):\n",
    "                total=nums[i]+nums[l]+nums[r]\n",
    "                if total>0:\n",
    "                    r=r-1\n",
    "                elif total<0:\n",
    "                    l=l+1\n",
    "                else:\n",
    "                    result.append([nums[i],nums[l],nums[r]])\n",
    "                    while(l+1<n and nums[l+1]==nums[l]):\n",
    "                        l+=1\n",
    "                    l+=1\n",
    "                    while(r-1>=0 and nums[r-1]==nums[r]):\n",
    "                        r-=1\n",
    "                    r-=1\n",
    "            while(i+1<n and nums[i]==nums[i+1]):\n",
    "                i+=1\n",
    "            i+=1\n",
    "        return(result)\n",
    "                        \n",
    "        "
   ]
  },
  {
   "cell_type": "code",
   "execution_count": 4,
   "metadata": {},
   "outputs": [
    {
     "data": {
      "text/plain": [
       "[[0, 0, 0]]"
      ]
     },
     "execution_count": 4,
     "metadata": {},
     "output_type": "execute_result"
    }
   ],
   "source": [
    "Solution().threeSum([0,0,0,0])"
   ]
  },
  {
   "cell_type": "code",
   "execution_count": 10,
   "metadata": {},
   "outputs": [],
   "source": [
    "class Solution:\n",
    "    def threeSumClosest(self, nums,target):\n",
    "        n=len(nums)\n",
    "        nums.sort()\n",
    "        closest=float(\"inf\")\n",
    "        i=0\n",
    "        while(i<n-2):\n",
    "            l=i+1\n",
    "            r=n-1\n",
    "            while (l<r):\n",
    "                total=nums[i]+nums[l]+nums[r]\n",
    "                if total>target:\n",
    "                    if (abs(target-total)<abs(target-closest)):\n",
    "                        closest=target\n",
    "                    r=r-1\n",
    "                elif total<target:\n",
    "                    if (abs(target-total)<abs(target-closest)):\n",
    "                        closest=target                    \n",
    "                    l=l+1\n",
    "                else: \n",
    "                    return total\n",
    "\n",
    "        return(closest)"
   ]
  },
  {
   "cell_type": "code",
   "execution_count": 11,
   "metadata": {},
   "outputs": [
    {
     "ename": "KeyboardInterrupt",
     "evalue": "",
     "output_type": "error",
     "traceback": [
      "\u001b[1;31m---------------------------------------------------------------------------\u001b[0m",
      "\u001b[1;31mKeyboardInterrupt\u001b[0m                         Traceback (most recent call last)",
      "\u001b[1;32m~\\AppData\\Local\\Temp/ipykernel_16844/3588452787.py\u001b[0m in \u001b[0;36m<module>\u001b[1;34m\u001b[0m\n\u001b[1;32m----> 1\u001b[1;33m \u001b[0mSolution\u001b[0m\u001b[1;33m(\u001b[0m\u001b[1;33m)\u001b[0m\u001b[1;33m.\u001b[0m\u001b[0mthreeSumClosest\u001b[0m\u001b[1;33m(\u001b[0m\u001b[1;33m[\u001b[0m\u001b[1;33m-\u001b[0m\u001b[1;36m1\u001b[0m\u001b[1;33m,\u001b[0m\u001b[1;36m2\u001b[0m\u001b[1;33m,\u001b[0m\u001b[1;36m1\u001b[0m\u001b[1;33m,\u001b[0m\u001b[1;33m-\u001b[0m\u001b[1;36m4\u001b[0m\u001b[1;33m]\u001b[0m\u001b[1;33m,\u001b[0m\u001b[1;36m1\u001b[0m\u001b[1;33m)\u001b[0m\u001b[1;33m\u001b[0m\u001b[1;33m\u001b[0m\u001b[0m\n\u001b[0m",
      "\u001b[1;32m~\\AppData\\Local\\Temp/ipykernel_16844/2605255860.py\u001b[0m in \u001b[0;36mthreeSumClosest\u001b[1;34m(self, nums, target)\u001b[0m\n\u001b[0;32m     15\u001b[0m                     \u001b[0mr\u001b[0m\u001b[1;33m=\u001b[0m\u001b[0mr\u001b[0m\u001b[1;33m-\u001b[0m\u001b[1;36m1\u001b[0m\u001b[1;33m\u001b[0m\u001b[1;33m\u001b[0m\u001b[0m\n\u001b[0;32m     16\u001b[0m                 \u001b[1;32melif\u001b[0m \u001b[0mtotal\u001b[0m\u001b[1;33m<\u001b[0m\u001b[0mtarget\u001b[0m\u001b[1;33m:\u001b[0m\u001b[1;33m\u001b[0m\u001b[1;33m\u001b[0m\u001b[0m\n\u001b[1;32m---> 17\u001b[1;33m                     \u001b[1;32mif\u001b[0m \u001b[1;33m(\u001b[0m\u001b[0mabs\u001b[0m\u001b[1;33m(\u001b[0m\u001b[0mtarget\u001b[0m\u001b[1;33m-\u001b[0m\u001b[0mtotal\u001b[0m\u001b[1;33m)\u001b[0m\u001b[1;33m<\u001b[0m\u001b[0mabs\u001b[0m\u001b[1;33m(\u001b[0m\u001b[0mtarget\u001b[0m\u001b[1;33m-\u001b[0m\u001b[0mclosest\u001b[0m\u001b[1;33m)\u001b[0m\u001b[1;33m)\u001b[0m\u001b[1;33m:\u001b[0m\u001b[1;33m\u001b[0m\u001b[1;33m\u001b[0m\u001b[0m\n\u001b[0m\u001b[0;32m     18\u001b[0m                         \u001b[0mclosest\u001b[0m\u001b[1;33m=\u001b[0m\u001b[0mtarget\u001b[0m\u001b[1;33m\u001b[0m\u001b[1;33m\u001b[0m\u001b[0m\n\u001b[0;32m     19\u001b[0m                     \u001b[0ml\u001b[0m\u001b[1;33m=\u001b[0m\u001b[0ml\u001b[0m\u001b[1;33m+\u001b[0m\u001b[1;36m1\u001b[0m\u001b[1;33m\u001b[0m\u001b[1;33m\u001b[0m\u001b[0m\n",
      "\u001b[1;31mKeyboardInterrupt\u001b[0m: "
     ]
    }
   ],
   "source": [
    "Solution().threeSumClosest([-1,2,1,-4],1)"
   ]
  },
  {
   "cell_type": "code",
   "execution_count": 24,
   "metadata": {},
   "outputs": [],
   "source": [
    "class Solution:\n",
    "    def threeSumClosest(self, nums,target):\n",
    "        n=len(nums)\n",
    "        nums.sort()\n",
    "        closest=None\n",
    "        i=0\n",
    "        while(i<n-2):\n",
    "            l=i+1\n",
    "            r=n-1\n",
    "            while (l<r):\n",
    "                total=nums[i]+nums[l]+nums[r]\n",
    "                if (closest is None) or ((abs(target-total)<abs(target-closest))):\n",
    "                        \n",
    "                        closest=total\n",
    "                if total>target:\n",
    "                    r=r-1\n",
    "                elif total<target:                 \n",
    "                    l=l+1\n",
    "                else: \n",
    "                    return total\n",
    "            i+=1\n",
    "        return(closest)"
   ]
  },
  {
   "cell_type": "code",
   "execution_count": 23,
   "metadata": {},
   "outputs": [
    {
     "name": "stdout",
     "output_type": "stream",
     "text": [
      "Closest\n"
     ]
    },
    {
     "data": {
      "text/plain": [
       "2"
      ]
     },
     "execution_count": 23,
     "metadata": {},
     "output_type": "execute_result"
    }
   ],
   "source": [
    "Solution().threeSumClosest([-1,2,1,-4],1)"
   ]
  },
  {
   "cell_type": "code",
   "execution_count": 1,
   "metadata": {},
   "outputs": [],
   "source": [
    "class Solution:\n",
    "    def find132pattern(self,nums):\n",
    "        n=len(nums)\n",
    "        stk=[]\n",
    "        mint=None\n",
    "        maxt=None\n",
    "        for i in nums:\n",
    "            for val in stk:\n",
    "                if(val[0]<i and val[1]>i):\n",
    "                    return(True)\n",
    "            if(mint is None):\n",
    "                mint=i\n",
    "            else:\n",
    "                if( maxt is None):\n",
    "                    if(i<=mint):\n",
    "                        mint=i\n",
    "                    else:\n",
    "                        maxt=i\n",
    "                        stk.append([mint,maxt])\n",
    "                else:\n",
    "                    if(i>maxt):\n",
    "                        stk[-1][1]=i\n",
    "            if(maxt is not None and i<mint):\n",
    "                mint=i\n",
    "                maxt=None\n",
    "        return(False)"
   ]
  },
  {
   "cell_type": "code",
   "execution_count": 7,
   "metadata": {},
   "outputs": [],
   "source": [
    "class Solution:\n",
    "    def find132pattern(self,nums):\n",
    "        n=len(nums)\n",
    "        stk=[]\n",
    "        hmap={}\n",
    "        mint=None\n",
    "        maxt=None\n",
    "        for i in nums:\n",
    "            for val in hmap:\n",
    "                if(val<i and hmap[val]>i):\n",
    "                    return(True)\n",
    "            if(mint is None):\n",
    "                mint=i\n",
    "            else:\n",
    "                if(maxt is None):\n",
    "                    if(i<=mint):\n",
    "                        mint=i\n",
    "                    else:\n",
    "                        maxt=i\n",
    "                        hmap[mint]=maxt\n",
    "                else:\n",
    "                    if(i>maxt):\n",
    "                        hmap[mint]=maxt\n",
    "            if(maxt is not None and i<mint):\n",
    "                mint=i\n",
    "                maxt=None\n",
    "        return(False)"
   ]
  },
  {
   "cell_type": "code",
   "execution_count": 8,
   "metadata": {},
   "outputs": [
    {
     "data": {
      "text/plain": [
       "False"
      ]
     },
     "execution_count": 8,
     "metadata": {},
     "output_type": "execute_result"
    }
   ],
   "source": [
    "Solution().find132pattern([1,0,1,2,1])"
   ]
  },
  {
   "cell_type": "code",
   "execution_count": null,
   "metadata": {},
   "outputs": [],
   "source": []
  },
  {
   "cell_type": "code",
   "execution_count": null,
   "metadata": {},
   "outputs": [],
   "source": []
  },
  {
   "cell_type": "code",
   "execution_count": 2,
   "metadata": {},
   "outputs": [
    {
     "name": "stdout",
     "output_type": "stream",
     "text": [
      "8\n"
     ]
    }
   ],
   "source": [
    "# Python3 program to print\n",
    "# distinct subsequences of\n",
    "# a given string\n",
    "import math\n",
    "\n",
    "# Create an empty set\n",
    "# to store the subsequences\n",
    "sn = []\n",
    "global m\n",
    "m = 0\n",
    "\n",
    "# Function for generating\n",
    "# the subsequences\n",
    "\n",
    "\n",
    "def subsequences(s, op, i, j):\n",
    "\n",
    "\t# Base Case\n",
    "\tif(i == m):\n",
    "\t\top[j] = None\n",
    "\t\ttemp = \"\".join([i for i in op if i])\n",
    "\n",
    "\t\t# Insert each generated\n",
    "\t\t# subsequence into the set\n",
    "\t\tsn.append(temp)\n",
    "\t\treturn\n",
    "\n",
    "\t# Recursive Case\n",
    "\telse:\n",
    "\n",
    "\t\t# When a particular\n",
    "\t\t# character is taken\n",
    "\t\top[j] = s[i]\n",
    "\n",
    "\t\tsubsequences(s, op,\n",
    "\t\t\t\t\ti + 1, j + 1)\n",
    "\n",
    "\t\t# When a particular\n",
    "\t\t# character isn't taken\n",
    "\t\tsubsequences(s, op,\n",
    "\t\t\t\t\ti + 1, j)\n",
    "\t\treturn\n",
    "\n",
    "\n",
    "# Driver Code\n",
    "str = \"abc\"\n",
    "m = len(str)\n",
    "n = int(math.pow(2, m) + 1)\n",
    "\n",
    "# Output array for storing\n",
    "# the generating subsequences\n",
    "# in each call\n",
    "op = [None for i in range(n)]\n",
    "\n",
    "# Function Call\n",
    "subsequences(str, op, 0, 0)\n",
    "\n",
    "# Output will be the number\n",
    "# of elements in the set\n",
    "print(len(set(sn)))\n",
    "\n",
    "# This code is contributed by avanitrachhadiya2155\n"
   ]
  },
  {
   "cell_type": "code",
   "execution_count": 5,
   "metadata": {},
   "outputs": [
    {
     "name": "stdout",
     "output_type": "stream",
     "text": [
      "10\n"
     ]
    }
   ],
   "source": [
    "# Python program for the above approach\n",
    "def square(n) :\n",
    "\treturn n * n\n",
    "\n",
    "def solveWordWrapUtil(words, n, length,\n",
    "\t\t\t\t\twordIndex, remLength, memo) :\n",
    "\n",
    "\t# base case for last word\n",
    "\tif (wordIndex == n - 1) :\n",
    "\t\tmemo[wordIndex][remLength] = 0 if (words[wordIndex] < remLength) else square(remLength)\n",
    "\t\treturn memo[wordIndex][remLength]\n",
    "\t\n",
    "\n",
    "\tcurrWord = words[wordIndex]\n",
    "\t# if word can fit in the remaining line\n",
    "\tif (currWord < remLength) :\n",
    "\t\treturn min(solveWordWrapUsingMemo(\n",
    "\t\t\t\t\twords, n, length, wordIndex + 1,\n",
    "\t\t\t\t\tremLength - currWord if (remLength == length) else remLength - currWord - 1,\n",
    "\t\t\t\t\tmemo),\n",
    "\n",
    "\t\t\t\tsquare(remLength)\n",
    "\t\t\t\t\t+ solveWordWrapUsingMemo(\n",
    "\t\t\t\t\t\twords, n, length, wordIndex + 1,\n",
    "\t\t\t\t\t\tlength - currWord, memo))\n",
    "\t\n",
    "\telse :\n",
    "\t\t# if word is kept on next line\n",
    "\t\treturn (square(remLength)\n",
    "\t\t\t+ solveWordWrapUsingMemo(\n",
    "\t\t\t\twords, n, length, wordIndex + 1,\n",
    "\t\t\t\tlength - currWord, memo))\n",
    "\t\n",
    "def solveWordWrapUsingMemo(words, n, length,\n",
    "\t\t\t\t\t\twordIndex, remLength, memo) :\n",
    "\t\t\t\t\t\t\t\t\n",
    "\tif (memo[wordIndex][remLength] != -1) :\n",
    "\t\treturn memo[wordIndex][remLength]\n",
    "\t\n",
    "\tmemo[wordIndex][remLength] = (solveWordWrapUtil(\n",
    "\t\twords, n, length, wordIndex, remLength, memo))\n",
    "\treturn memo[wordIndex][remLength]\n",
    "\n",
    "def solveWordWrap(words, n, k) :\n",
    "\tmemo = [[10]* (k + 1)]* n\n",
    "\treturn solveWordWrapUsingMemo(words, n, k, 0, k, memo)\n",
    "\n",
    "# Driver Code\n",
    "if __name__ == \"__main__\":\n",
    "\n",
    "\twords = [3,2,2,5]\n",
    "\tn = len(words)\n",
    "\tk = 6\n",
    "\n",
    "\tprint(solveWordWrap(words, n, k))\n",
    "\t\n",
    "# This code is contributed by sanjoy_62.\n"
   ]
  },
  {
   "cell_type": "code",
   "execution_count": 12,
   "metadata": {},
   "outputs": [
    {
     "name": "stdout",
     "output_type": "stream",
     "text": [
      "9\n",
      "4\n",
      "25\n"
     ]
    }
   ],
   "source": [
    "ak=[0]\n",
    "INF = 2147483647\n",
    "def printSolution(p, n):\n",
    "\tk = 0\n",
    "\tif p[n] == 1:\n",
    "\t\tk = 1\n",
    "\telse:\n",
    "\t\tk = printSolution(p, p[n] - 1) + 1\n",
    "\t\n",
    "\ta=0\n",
    "\tfor i in range(p[n]-1,n):\n",
    "    \t\ta+=l[i]\n",
    "\tprint((M-a)*(M-a),end=\"\\n\")\n",
    "\treturn k\n",
    "                                                                               \n",
    "def solveWordWrap (l, n, M):\n",
    "\textras = [[0 for i in range(n + 1)]\n",
    "\t\t\t\tfor i in range(n + 1)]\n",
    "\tlc = [[0 for i in range(n + 1)]\n",
    "\t\t\tfor i in range(n + 1)]\n",
    "\tc = [0 for i in range(n + 1)]\n",
    "\tp = [0 for i in range(n + 1)]\n",
    "\tfor i in range(n + 1):\n",
    "\t\textras[i][i] = M - l[i - 1]\n",
    "\t\tfor j in range(i + 1, n + 1):\n",
    "\t\t\textras[i][j] = (extras[i][j - 1] - l[j - 1] - 1)\n",
    "\tfor i in range(n + 1):\n",
    "\t\tfor j in range(i, n + 1):\n",
    "\t\t\tif extras[i][j] < 0:\n",
    "\t\t\t\tlc[i][j] = INF;\n",
    "\t\t\telif j == n and extras[i][j] >= 0:\n",
    "\t\t\t\tlc[i][j] = 0\n",
    "\t\t\telse:\n",
    "\t\t\t\tlc[i][j] = (extras[i][j] *\n",
    "\t\t\t\t\t\t\textras[i][j])\n",
    "\tc[0] = 0\n",
    "\tfor j in range(1, n + 1):\n",
    "\t\tc[j] = INF\n",
    "\t\tfor i in range(1, j + 1):\n",
    "\t\t\tif (c[i - 1] != INF and\n",
    "\t\t\t\tlc[i][j] != INF and\n",
    "\t\t\t\t((c[i - 1] + lc[i][j]) < c[j])):\n",
    "\t\t\t\tc[j] = c[i-1] + lc[i][j]\n",
    "\t\t\t\tp[j] = i\n",
    "\tprintSolution(p, n)\n",
    "l = [4,3,2,2]\n",
    "n = len(l)\n",
    "M = 7\n",
    "solveWordWrap(l, n, M)"
   ]
  },
  {
   "cell_type": "code",
   "execution_count": 13,
   "metadata": {},
   "outputs": [
    {
     "name": "stdout",
     "output_type": "stream",
     "text": [
      "10\n"
     ]
    }
   ],
   "source": [
    "# Python program for the above approach\n",
    "def square(n) :\n",
    "\treturn n * n\n",
    "\n",
    "def solveWordWrapUtil(words, n, length,\n",
    "\t\t\t\t\twordIndex, remLength, memo) :\n",
    "\n",
    "\t# base case for last word\n",
    "\tif (wordIndex == n - 1) :\n",
    "\t\tmemo[wordIndex][remLength] = 0 if (words[wordIndex] < remLength) else square(remLength)\n",
    "\t\treturn memo[wordIndex][remLength]\n",
    "\t\n",
    "\n",
    "\tcurrWord = words[wordIndex]\n",
    "\t# if word can fit in the remaining line\n",
    "\tif (currWord < remLength) :\n",
    "\t\treturn min(solveWordWrapUsingMemo(\n",
    "\t\t\t\t\twords, n, length, wordIndex + 1,\n",
    "\t\t\t\t\tremLength - currWord if (remLength == length) else remLength - currWord - 1,\n",
    "\t\t\t\t\tmemo),\n",
    "\n",
    "\t\t\t\tsquare(remLength)\n",
    "\t\t\t\t\t+ solveWordWrapUsingMemo(\n",
    "\t\t\t\t\t\twords, n, length, wordIndex + 1,\n",
    "\t\t\t\t\t\tlength - currWord, memo))\n",
    "\t\n",
    "\telse :\n",
    "\t\t# if word is kept on next line\n",
    "\t\treturn (square(remLength)\n",
    "\t\t\t+ solveWordWrapUsingMemo(\n",
    "\t\t\t\twords, n, length, wordIndex + 1,\n",
    "\t\t\t\tlength - currWord, memo))\n",
    "\t\n",
    "def solveWordWrapUsingMemo(words, n, length,\n",
    "\t\t\t\t\t\twordIndex, remLength, memo) :\n",
    "\t\t\t\t\t\t\t\t\n",
    "\tif (memo[wordIndex][remLength] != -1) :\n",
    "\t\treturn memo[wordIndex][remLength]\n",
    "\t\n",
    "\tmemo[wordIndex][remLength] = (solveWordWrapUtil(\n",
    "\t\twords, n, length, wordIndex, remLength, memo))\n",
    "\treturn memo[wordIndex][remLength]\n",
    "\n",
    "def solveWordWrap(words, n, k) :\n",
    "\tmemo = [[10]* (k + 1)]* n\n",
    "\treturn solveWordWrapUsingMemo(words, n, k, 0, k, memo)\n",
    "\n",
    "# Driver Code\n",
    "if __name__ == \"__main__\":\n",
    "\n",
    "\twords = [ 3, 2, 2, 5 ]\n",
    "\tn = len(words)\n",
    "\tk = 6\n",
    "\n",
    "\tprint(solveWordWrap(words, n, k))\n",
    "\t\n",
    "# This code is contributed by sanjoy_62.\n"
   ]
  },
  {
   "cell_type": "code",
   "execution_count": 45,
   "metadata": {},
   "outputs": [],
   "source": [
    "from functools import lru_cache\n",
    "def wrap(words,w):\n",
    "    for i in words:\n",
    "        if i>w:\n",
    "            return(-1)\n",
    "    n=len(words)\n",
    "    @lru_cache()\n",
    "    def helper(ind,rem):\n",
    "        if ind==n:\n",
    "            return ((rem%w)*(rem%w)) \n",
    "        t=float(\"inf\")\n",
    "        tot=(rem%w)*(rem%w)\n",
    "        nt=tot+helper(ind+1,w-words[ind])\n",
    "        if words[ind]==rem:\n",
    "            if rem==w:\n",
    "                t=0\n",
    "                t+=helper(ind+1,w)\n",
    "        else:\n",
    "            if rem==w:\n",
    "                if words[ind]<=rem:\n",
    "                    t=0\n",
    "                    t+=helper(ind+1,rem-words[ind])\n",
    "            else:\n",
    "                if 1+words[ind]<=rem:\n",
    "                    t=0\n",
    "                    t+=helper(ind+1,rem-words[ind]-1)\n",
    "        return min(t,nt)\n",
    "    return helper(0,w)"
   ]
  },
  {
   "cell_type": "code",
   "execution_count": 44,
   "metadata": {},
   "outputs": [
    {
     "data": {
      "text/plain": [
       "29"
      ]
     },
     "execution_count": 44,
     "metadata": {},
     "output_type": "execute_result"
    }
   ],
   "source": [
    "words=[4,3,2,2]\n",
    "w=7\n",
    "wrap(words,w)"
   ]
  },
  {
   "cell_type": "code",
   "execution_count": null,
   "metadata": {},
   "outputs": [],
   "source": []
  }
 ],
 "metadata": {
  "kernelspec": {
   "display_name": "Python 3.9.6 64-bit",
   "language": "python",
   "name": "python3"
  },
  "language_info": {
   "codemirror_mode": {
    "name": "ipython",
    "version": 3
   },
   "file_extension": ".py",
   "mimetype": "text/x-python",
   "name": "python",
   "nbconvert_exporter": "python",
   "pygments_lexer": "ipython3",
   "version": "3.9.6"
  },
  "orig_nbformat": 4,
  "vscode": {
   "interpreter": {
    "hash": "e26b106e6146fa3417b08aa501d422914abd065c08ced2fc57ef114abeab93c7"
   }
  }
 },
 "nbformat": 4,
 "nbformat_minor": 2
}
