{
 "cells": [
  {
   "cell_type": "code",
   "execution_count": 3,
   "metadata": {},
   "outputs": [],
   "source": [
    "class Solution:\n",
    "    def threeSum(self, nums):\n",
    "        n=len(nums)\n",
    "        nums.sort()\n",
    "        result=[]\n",
    "        i=0\n",
    "        while(i<n-2):\n",
    "            l=i+1\n",
    "            r=n-1\n",
    "            while (l<r):\n",
    "                total=nums[i]+nums[l]+nums[r]\n",
    "                if total>0:\n",
    "                    r=r-1\n",
    "                elif total<0:\n",
    "                    l=l+1\n",
    "                else:\n",
    "                    result.append([nums[i],nums[l],nums[r]])\n",
    "                    while(l+1<n and nums[l+1]==nums[l]):\n",
    "                        l+=1\n",
    "                    l+=1\n",
    "                    while(r-1>=0 and nums[r-1]==nums[r]):\n",
    "                        r-=1\n",
    "                    r-=1\n",
    "            while(i+1<n and nums[i]==nums[i+1]):\n",
    "                i+=1\n",
    "            i+=1\n",
    "        return(result)\n",
    "                        \n",
    "        "
   ]
  },
  {
   "cell_type": "code",
   "execution_count": 4,
   "metadata": {},
   "outputs": [
    {
     "data": {
      "text/plain": [
       "[[0, 0, 0]]"
      ]
     },
     "execution_count": 4,
     "metadata": {},
     "output_type": "execute_result"
    }
   ],
   "source": [
    "Solution().threeSum([0,0,0,0])"
   ]
  },
  {
   "cell_type": "code",
   "execution_count": 10,
   "metadata": {},
   "outputs": [],
   "source": [
    "class Solution:\n",
    "    def threeSumClosest(self, nums,target):\n",
    "        n=len(nums)\n",
    "        nums.sort()\n",
    "        closest=float(\"inf\")\n",
    "        i=0\n",
    "        while(i<n-2):\n",
    "            l=i+1\n",
    "            r=n-1\n",
    "            while (l<r):\n",
    "                total=nums[i]+nums[l]+nums[r]\n",
    "                if total>target:\n",
    "                    if (abs(target-total)<abs(target-closest)):\n",
    "                        closest=target\n",
    "                    r=r-1\n",
    "                elif total<target:\n",
    "                    if (abs(target-total)<abs(target-closest)):\n",
    "                        closest=target                    \n",
    "                    l=l+1\n",
    "                else: \n",
    "                    return total\n",
    "\n",
    "        return(closest)"
   ]
  },
  {
   "cell_type": "code",
   "execution_count": 11,
   "metadata": {},
   "outputs": [
    {
     "ename": "KeyboardInterrupt",
     "evalue": "",
     "output_type": "error",
     "traceback": [
      "\u001b[1;31m---------------------------------------------------------------------------\u001b[0m",
      "\u001b[1;31mKeyboardInterrupt\u001b[0m                         Traceback (most recent call last)",
      "\u001b[1;32m~\\AppData\\Local\\Temp/ipykernel_16844/3588452787.py\u001b[0m in \u001b[0;36m<module>\u001b[1;34m\u001b[0m\n\u001b[1;32m----> 1\u001b[1;33m \u001b[0mSolution\u001b[0m\u001b[1;33m(\u001b[0m\u001b[1;33m)\u001b[0m\u001b[1;33m.\u001b[0m\u001b[0mthreeSumClosest\u001b[0m\u001b[1;33m(\u001b[0m\u001b[1;33m[\u001b[0m\u001b[1;33m-\u001b[0m\u001b[1;36m1\u001b[0m\u001b[1;33m,\u001b[0m\u001b[1;36m2\u001b[0m\u001b[1;33m,\u001b[0m\u001b[1;36m1\u001b[0m\u001b[1;33m,\u001b[0m\u001b[1;33m-\u001b[0m\u001b[1;36m4\u001b[0m\u001b[1;33m]\u001b[0m\u001b[1;33m,\u001b[0m\u001b[1;36m1\u001b[0m\u001b[1;33m)\u001b[0m\u001b[1;33m\u001b[0m\u001b[1;33m\u001b[0m\u001b[0m\n\u001b[0m",
      "\u001b[1;32m~\\AppData\\Local\\Temp/ipykernel_16844/2605255860.py\u001b[0m in \u001b[0;36mthreeSumClosest\u001b[1;34m(self, nums, target)\u001b[0m\n\u001b[0;32m     15\u001b[0m                     \u001b[0mr\u001b[0m\u001b[1;33m=\u001b[0m\u001b[0mr\u001b[0m\u001b[1;33m-\u001b[0m\u001b[1;36m1\u001b[0m\u001b[1;33m\u001b[0m\u001b[1;33m\u001b[0m\u001b[0m\n\u001b[0;32m     16\u001b[0m                 \u001b[1;32melif\u001b[0m \u001b[0mtotal\u001b[0m\u001b[1;33m<\u001b[0m\u001b[0mtarget\u001b[0m\u001b[1;33m:\u001b[0m\u001b[1;33m\u001b[0m\u001b[1;33m\u001b[0m\u001b[0m\n\u001b[1;32m---> 17\u001b[1;33m                     \u001b[1;32mif\u001b[0m \u001b[1;33m(\u001b[0m\u001b[0mabs\u001b[0m\u001b[1;33m(\u001b[0m\u001b[0mtarget\u001b[0m\u001b[1;33m-\u001b[0m\u001b[0mtotal\u001b[0m\u001b[1;33m)\u001b[0m\u001b[1;33m<\u001b[0m\u001b[0mabs\u001b[0m\u001b[1;33m(\u001b[0m\u001b[0mtarget\u001b[0m\u001b[1;33m-\u001b[0m\u001b[0mclosest\u001b[0m\u001b[1;33m)\u001b[0m\u001b[1;33m)\u001b[0m\u001b[1;33m:\u001b[0m\u001b[1;33m\u001b[0m\u001b[1;33m\u001b[0m\u001b[0m\n\u001b[0m\u001b[0;32m     18\u001b[0m                         \u001b[0mclosest\u001b[0m\u001b[1;33m=\u001b[0m\u001b[0mtarget\u001b[0m\u001b[1;33m\u001b[0m\u001b[1;33m\u001b[0m\u001b[0m\n\u001b[0;32m     19\u001b[0m                     \u001b[0ml\u001b[0m\u001b[1;33m=\u001b[0m\u001b[0ml\u001b[0m\u001b[1;33m+\u001b[0m\u001b[1;36m1\u001b[0m\u001b[1;33m\u001b[0m\u001b[1;33m\u001b[0m\u001b[0m\n",
      "\u001b[1;31mKeyboardInterrupt\u001b[0m: "
     ]
    }
   ],
   "source": [
    "Solution().threeSumClosest([-1,2,1,-4],1)"
   ]
  },
  {
   "cell_type": "code",
   "execution_count": 24,
   "metadata": {},
   "outputs": [],
   "source": [
    "class Solution:\n",
    "    def threeSumClosest(self, nums,target):\n",
    "        n=len(nums)\n",
    "        nums.sort()\n",
    "        closest=None\n",
    "        i=0\n",
    "        while(i<n-2):\n",
    "            l=i+1\n",
    "            r=n-1\n",
    "            while (l<r):\n",
    "                total=nums[i]+nums[l]+nums[r]\n",
    "                if (closest is None) or ((abs(target-total)<abs(target-closest))):\n",
    "                        \n",
    "                        closest=total\n",
    "                if total>target:\n",
    "                    r=r-1\n",
    "                elif total<target:                 \n",
    "                    l=l+1\n",
    "                else: \n",
    "                    return total\n",
    "            i+=1\n",
    "        return(closest)"
   ]
  },
  {
   "cell_type": "code",
   "execution_count": 23,
   "metadata": {},
   "outputs": [
    {
     "name": "stdout",
     "output_type": "stream",
     "text": [
      "Closest\n"
     ]
    },
    {
     "data": {
      "text/plain": [
       "2"
      ]
     },
     "execution_count": 23,
     "metadata": {},
     "output_type": "execute_result"
    }
   ],
   "source": [
    "Solution().threeSumClosest([-1,2,1,-4],1)"
   ]
  },
  {
   "cell_type": "code",
   "execution_count": 1,
   "metadata": {},
   "outputs": [],
   "source": [
    "class Solution:\n",
    "    def find132pattern(self,nums):\n",
    "        n=len(nums)\n",
    "        stk=[]\n",
    "        mint=None\n",
    "        maxt=None\n",
    "        for i in nums:\n",
    "            for val in stk:\n",
    "                if(val[0]<i and val[1]>i):\n",
    "                    return(True)\n",
    "            if(mint is None):\n",
    "                mint=i\n",
    "            else:\n",
    "                if( maxt is None):\n",
    "                    if(i<=mint):\n",
    "                        mint=i\n",
    "                    else:\n",
    "                        maxt=i\n",
    "                        stk.append([mint,maxt])\n",
    "                else:\n",
    "                    if(i>maxt):\n",
    "                        stk[-1][1]=i\n",
    "            if(maxt is not None and i<mint):\n",
    "                mint=i\n",
    "                maxt=None\n",
    "        return(False)"
   ]
  },
  {
   "cell_type": "code",
   "execution_count": 7,
   "metadata": {},
   "outputs": [],
   "source": [
    "class Solution:\n",
    "    def find132pattern(self,nums):\n",
    "        n=len(nums)\n",
    "        stk=[]\n",
    "        hmap={}\n",
    "        mint=None\n",
    "        maxt=None\n",
    "        for i in nums:\n",
    "            for val in hmap:\n",
    "                if(val<i and hmap[val]>i):\n",
    "                    return(True)\n",
    "            if(mint is None):\n",
    "                mint=i\n",
    "            else:\n",
    "                if(maxt is None):\n",
    "                    if(i<=mint):\n",
    "                        mint=i\n",
    "                    else:\n",
    "                        maxt=i\n",
    "                        hmap[mint]=maxt\n",
    "                else:\n",
    "                    if(i>maxt):\n",
    "                        hmap[mint]=maxt\n",
    "            if(maxt is not None and i<mint):\n",
    "                mint=i\n",
    "                maxt=None\n",
    "        return(False)"
   ]
  },
  {
   "cell_type": "code",
   "execution_count": 8,
   "metadata": {},
   "outputs": [
    {
     "data": {
      "text/plain": [
       "False"
      ]
     },
     "execution_count": 8,
     "metadata": {},
     "output_type": "execute_result"
    }
   ],
   "source": [
    "Solution().find132pattern([1,0,1,2,1])"
   ]
  },
  {
   "cell_type": "code",
   "execution_count": null,
   "metadata": {},
   "outputs": [],
   "source": []
  }
 ],
 "metadata": {
  "interpreter": {
   "hash": "11ad92808b9e536a1bda76e6f18576c204b1bdc67c9013f7331a2b858d211f20"
  },
  "kernelspec": {
   "display_name": "Python 3.9.6 64-bit",
   "language": "python",
   "name": "python3"
  },
  "language_info": {
   "codemirror_mode": {
    "name": "ipython",
    "version": 3
   },
   "file_extension": ".py",
   "mimetype": "text/x-python",
   "name": "python",
   "nbconvert_exporter": "python",
   "pygments_lexer": "ipython3",
   "version": "3.9.6"
  },
  "orig_nbformat": 4
 },
 "nbformat": 4,
 "nbformat_minor": 2
}
