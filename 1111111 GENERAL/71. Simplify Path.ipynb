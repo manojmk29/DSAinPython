{
 "cells": [
  {
   "cell_type": "code",
   "execution_count": 6,
   "metadata": {},
   "outputs": [],
   "source": [
    "class Solution:\n",
    "    def simplifyPath(self, path: str) -> str:\n",
    "        stk=[]\n",
    "        flag=0\n",
    "        for i in path:\n",
    "            if(i==\"/\"):\n",
    "                if(flag==2):\n",
    "                    f=0\n",
    "                    for i in range(2):\n",
    "                        if(stk[-1][i]!=\".\"):\n",
    "                            f=1\n",
    "                    if(f==0):\n",
    "                        stk.pop()\n",
    "                        if(stk):\n",
    "                            stk.pop()\n",
    "                elif(flag==1):\n",
    "                    if(stk[-1][0]==\".\"):\n",
    "                        stk.pop()\n",
    "                flag=0\n",
    "            else:\n",
    "                if(flag==0):\n",
    "                    stk.append(i)\n",
    "                    flag=1\n",
    "                elif(flag>0):\n",
    "                    val=stk.pop()\n",
    "                    val+=i\n",
    "                    flag+=1\n",
    "                    stk.append(val)\n",
    "        ret=\"\"\n",
    "        if(stk and stk[-1]==\".\"):\n",
    "            stk.pop()\n",
    "        if(stk and stk[-1]==\"..\"):\n",
    "            stk.pop()\n",
    "            if(stk):\n",
    "                stk.pop()\n",
    "        for i in stk:\n",
    "            ret+=\"/\"\n",
    "            ret+=i\n",
    "        if(not ret):\n",
    "            return(\"/\")\n",
    "        return(ret)"
   ]
  },
  {
   "cell_type": "code",
   "execution_count": 8,
   "metadata": {},
   "outputs": [
    {
     "data": {
      "text/plain": [
       "'/home'"
      ]
     },
     "execution_count": 8,
     "metadata": {},
     "output_type": "execute_result"
    }
   ],
   "source": [
    "Solution().simplifyPath(\"/home/.\")"
   ]
  },
  {
   "cell_type": "code",
   "execution_count": null,
   "metadata": {},
   "outputs": [],
   "source": []
  }
 ],
 "metadata": {
  "interpreter": {
   "hash": "11ad92808b9e536a1bda76e6f18576c204b1bdc67c9013f7331a2b858d211f20"
  },
  "kernelspec": {
   "display_name": "Python 3.9.6 64-bit",
   "language": "python",
   "name": "python3"
  },
  "language_info": {
   "codemirror_mode": {
    "name": "ipython",
    "version": 3
   },
   "file_extension": ".py",
   "mimetype": "text/x-python",
   "name": "python",
   "nbconvert_exporter": "python",
   "pygments_lexer": "ipython3",
   "version": "3.9.6"
  },
  "orig_nbformat": 4
 },
 "nbformat": 4,
 "nbformat_minor": 2
}
