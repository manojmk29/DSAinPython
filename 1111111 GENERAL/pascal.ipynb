{
 "cells": [
  {
   "cell_type": "code",
   "execution_count": 5,
   "metadata": {},
   "outputs": [],
   "source": [
    "class Solution:\n",
    "    def generate(self, numRows: int):\n",
    "        ret = [[1]]\n",
    "        for k in range(numRows-1):\n",
    "            cur = 0\n",
    "            arr = []\n",
    "            for i in ret[-1]:                     \n",
    "                arr.append(i+cur)\n",
    "                cur = i\n",
    "            arr.append(1)\n",
    "            ret.append(arr)\n",
    "        return(ret)\n"
   ]
  },
  {
   "cell_type": "code",
   "execution_count": 6,
   "metadata": {},
   "outputs": [
    {
     "data": {
      "text/plain": [
       "[[1], [1, 1], [1, 2, 1], [1, 3, 3, 1], [1, 4, 6, 4, 1]]"
      ]
     },
     "execution_count": 6,
     "metadata": {},
     "output_type": "execute_result"
    }
   ],
   "source": [
    "Solution().generate(5)"
   ]
  },
  {
   "cell_type": "code",
   "execution_count": 7,
   "metadata": {},
   "outputs": [],
   "source": [
    "# 31. Next Permutation"
   ]
  },
  {
   "cell_type": "code",
   "execution_count": 16,
   "metadata": {},
   "outputs": [],
   "source": [
    "class Solution:\n",
    "    def nextPermutation(self, nums):\n",
    "        \"\"\"\n",
    "        Do not return anything, modify nums in-place instead.\n",
    "        \"\"\"\n",
    "        mark = [0]\n",
    "        ret = []\n",
    "        n = len(nums)\n",
    "        flag = [0 for i in range(n)]\n",
    "        def helper(arr):\n",
    "            a=0\n",
    "            if(mark[0]<2):\n",
    "                for i in range(n):\n",
    "                    if(not flag[i]):\n",
    "                        a=1\n",
    "                        flag[i]=1\n",
    "                        helper(arr+[nums[i]])\n",
    "                        flag[i]=0\n",
    "                if a==0:\n",
    "                    mark[0]+=1\n",
    "                    if mark[0]==2:\n",
    "                        ret.extend(arr)\n",
    "        helper([])\n",
    "        return ret"
   ]
  },
  {
   "cell_type": "code",
   "execution_count": 17,
   "metadata": {},
   "outputs": [
    {
     "data": {
      "text/plain": [
       "[1, 3, 2]"
      ]
     },
     "execution_count": 17,
     "metadata": {},
     "output_type": "execute_result"
    }
   ],
   "source": [
    "Solution().nextPermutation([1,2,3])"
   ]
  },
  {
   "cell_type": "code",
   "execution_count": 12,
   "metadata": {},
   "outputs": [
    {
     "data": {
      "text/plain": [
       "[1, 2, 3, [3, 4, 5]]"
      ]
     },
     "execution_count": 12,
     "metadata": {},
     "output_type": "execute_result"
    }
   ],
   "source": [
    "a=[1,2,3]\n",
    "a.append([3,4,5])\n",
    "a"
   ]
  },
  {
   "cell_type": "code",
   "execution_count": 10,
   "metadata": {},
   "outputs": [
    {
     "data": {
      "text/plain": [
       "[1, 2, 3, [3, 4, 5], 4, 5, 6]"
      ]
     },
     "execution_count": 10,
     "metadata": {},
     "output_type": "execute_result"
    }
   ],
   "source": [
    "a.extend([4,5,6])\n",
    "a"
   ]
  },
  {
   "cell_type": "code",
   "execution_count": 20,
   "metadata": {},
   "outputs": [
    {
     "name": "stdout",
     "output_type": "stream",
     "text": [
      "456.132 PATTERN.IPYNB\n"
     ]
    }
   ],
   "source": [
    "a=5\n",
    "if(a==1 or 2 or 5):\n",
    "    print(\"456.132 PATTERN.IPYNB\")"
   ]
  },
  {
   "cell_type": "code",
   "execution_count": 29,
   "metadata": {},
   "outputs": [
    {
     "data": {
      "text/plain": [
       "1"
      ]
     },
     "execution_count": 29,
     "metadata": {},
     "output_type": "execute_result"
    }
   ],
   "source": [
    "18//10"
   ]
  },
  {
   "cell_type": "code",
   "execution_count": 30,
   "metadata": {},
   "outputs": [],
   "source": [
    "a=[1,2,3]"
   ]
  },
  {
   "cell_type": "code",
   "execution_count": 31,
   "metadata": {},
   "outputs": [
    {
     "data": {
      "text/plain": [
       "[3, 2, 1]"
      ]
     },
     "execution_count": 31,
     "metadata": {},
     "output_type": "execute_result"
    }
   ],
   "source": [
    "a[::-1]"
   ]
  },
  {
   "cell_type": "code",
   "execution_count": 32,
   "metadata": {},
   "outputs": [
    {
     "data": {
      "text/plain": [
       "0"
      ]
     },
     "execution_count": 32,
     "metadata": {},
     "output_type": "execute_result"
    }
   ],
   "source": [
    "for i in range(5,-1,-1):\n",
    "    a=5\n",
    "i"
   ]
  },
  {
   "cell_type": "code",
   "execution_count": 40,
   "metadata": {},
   "outputs": [
    {
     "data": {
      "text/plain": [
       "[1, 2, 3]"
      ]
     },
     "execution_count": 40,
     "metadata": {},
     "output_type": "execute_result"
    }
   ],
   "source": [
    "nums=[3,2,1]\n",
    "def rev(s,e):\n",
    "    for i in range((e-s+1)//2):\n",
    "        nums[s+i],nums[e-i] = nums[e-i],nums[s+i]\n",
    "rev(0,2)\n",
    "nums"
   ]
  },
  {
   "cell_type": "code",
   "execution_count": 44,
   "metadata": {},
   "outputs": [
    {
     "data": {
      "text/plain": [
       "[3, 1, 2]"
      ]
     },
     "execution_count": 44,
     "metadata": {},
     "output_type": "execute_result"
    }
   ],
   "source": [
    "class Solution:\n",
    "    def nextPermutation(self, nums):\n",
    "        n = len(nums)\n",
    "        flag = True\n",
    "        def rev(s,e):\n",
    "            for i in range((e-s+1)//2):\n",
    "                nums[s+i],nums[e-i] = nums[e-i],nums[s+i]\n",
    "        for i in range(n-2,-1,-1):\n",
    "            if(nums[i]<nums[i+1]):\n",
    "                flag = False\n",
    "                break\n",
    "        if flag:\n",
    "            rev(0,n-1)   \n",
    "            return     \n",
    "        for j in range(n-1,i,-1):\n",
    "            if(nums[i]<nums[j]):\n",
    "                nums[i],nums[j]=nums[j],nums[i]\n",
    "                break\n",
    "        rev(i+1,n-1)\n",
    "        return(nums)\n",
    "\n",
    "\n",
    "\n",
    "Solution().nextPermutation([1,3,2])"
   ]
  },
  {
   "cell_type": "code",
   "execution_count": 63,
   "metadata": {},
   "outputs": [
    {
     "name": "stdout",
     "output_type": "stream",
     "text": [
      "9\n",
      "8\n",
      "7\n",
      "6\n",
      "5\n",
      "4\n",
      "3\n",
      "2\n",
      "1\n",
      "0\n"
     ]
    }
   ],
   "source": [
    "arr = [0,1,2,3,4,5,6,7,8,9]\n",
    "n = len(arr)\n",
    "# for i in range(n):\n",
    "#     print(arr[i])\n",
    "\n",
    "# for i in arr:\n",
    "#     print(i)\n",
    "\n",
    "# for i in range(n-1,0,-1):\n",
    "#     print(arr[i])\n",
    "i=n-1\n",
    "while(i>=0):\n",
    "    print(arr[i])\n",
    "    i-=1\n"
   ]
  },
  {
   "cell_type": "code",
   "execution_count": 57,
   "metadata": {},
   "outputs": [],
   "source": [
    "mat=[[1,2,3,4],[5,6,7,8],[9,10,11,12]]"
   ]
  },
  {
   "cell_type": "code",
   "execution_count": 58,
   "metadata": {},
   "outputs": [],
   "source": [
    "r = len(mat)\n",
    "c = len(mat)"
   ]
  },
  {
   "cell_type": "code",
   "execution_count": 60,
   "metadata": {},
   "outputs": [
    {
     "data": {
      "text/plain": [
       "3"
      ]
     },
     "execution_count": 60,
     "metadata": {},
     "output_type": "execute_result"
    }
   ],
   "source": []
  },
  {
   "cell_type": "code",
   "execution_count": 8,
   "metadata": {},
   "outputs": [
    {
     "data": {
      "text/plain": [
       "12"
      ]
     },
     "execution_count": 8,
     "metadata": {},
     "output_type": "execute_result"
    }
   ],
   "source": [
    "38//3"
   ]
  },
  {
   "cell_type": "code",
   "execution_count": 11,
   "metadata": {},
   "outputs": [
    {
     "data": {
      "text/plain": [
       "[1]"
      ]
     },
     "execution_count": 11,
     "metadata": {},
     "output_type": "execute_result"
    }
   ],
   "source": [
    "class Solution:\n",
    "    def majorityElement(self, nums):\n",
    "        n = len(nums)\n",
    "        cand1 = cnt1 = cand2  = cnt2 = 0\n",
    "        for i in nums:\n",
    "            if cand1 == i:\n",
    "                cnt1+=1\n",
    "            elif cand2 == i:\n",
    "                cnt2+=1\n",
    "            elif cnt1 == 0:\n",
    "                cand1 = i\n",
    "                cnt1 += 1\n",
    "            elif cnt2 == 0:\n",
    "                cand2 = i\n",
    "                cnt2 += 1\n",
    "            else:\n",
    "                cnt2-=1\n",
    "                cnt1-=1\n",
    "        \n",
    "        ret = []\n",
    "        cnt1 = cnt2 = 0\n",
    "        for i in nums:\n",
    "            if i==cand1:\n",
    "                cnt1+=1\n",
    "            elif i==cand2:\n",
    "                cnt2+=1\n",
    "        if(cnt1>(n//3)):\n",
    "            ret.append(cand1)\n",
    "        if(cnt2>(n//3)):\n",
    "            ret.append(cand2)\n",
    "        return ret\n",
    "    \n",
    "Solution().majorityElement([1,1,1,1,1,1,2,3,4,5,6,7,8,9,10])"
   ]
  },
  {
   "cell_type": "code",
   "execution_count": 4,
   "metadata": {},
   "outputs": [
    {
     "data": {
      "text/plain": [
       "[0, 2, 3, 5]"
      ]
     },
     "execution_count": 4,
     "metadata": {},
     "output_type": "execute_result"
    }
   ],
   "source": [
    "class Solution:\n",
    "    def subsetSums(self, arr, N):\n",
    "        ret = []\n",
    "        def helper(ind,tot):\n",
    "            if(ind==N):\n",
    "                ret.append(tot)\n",
    "                return\n",
    "            helper(ind+1,tot)\n",
    "            helper(ind+1,tot+arr[ind])\n",
    "        helper(0,0)\n",
    "        return sorted(ret)\n",
    "\n",
    "Solution().subsetSums([2,3],2)"
   ]
  },
  {
   "cell_type": "code",
   "execution_count": 5,
   "metadata": {},
   "outputs": [
    {
     "ename": "TypeError",
     "evalue": "unhashable type: 'list'",
     "output_type": "error",
     "traceback": [
      "\u001b[0;31m---------------------------------------------------------------------------\u001b[0m",
      "\u001b[0;31mTypeError\u001b[0m                                 Traceback (most recent call last)",
      "Cell \u001b[0;32mIn[5], line 2\u001b[0m\n\u001b[1;32m      1\u001b[0m arr\u001b[39m=\u001b[39m [[\u001b[39m1\u001b[39m,\u001b[39m2\u001b[39m,\u001b[39m3\u001b[39m],[\u001b[39m4\u001b[39m,\u001b[39m5\u001b[39m,\u001b[39m6\u001b[39m]]\n\u001b[0;32m----> 2\u001b[0m \u001b[39mset\u001b[39;49m(arr)\n",
      "\u001b[0;31mTypeError\u001b[0m: unhashable type: 'list'"
     ]
    }
   ],
   "source": [
    "arr= [[1,2,3],[4,5,6]]\n",
    "set(arr)"
   ]
  },
  {
   "cell_type": "code",
   "execution_count": 15,
   "metadata": {},
   "outputs": [
    {
     "data": {
      "text/plain": [
       "[[], [1], [2], [1, 2], [3], [1, 3], [2, 3], [1, 2, 3]]"
      ]
     },
     "execution_count": 15,
     "metadata": {},
     "output_type": "execute_result"
    }
   ],
   "source": [
    "def subsets(arr):\n",
    "    ret=[[]]\n",
    "    for i in arr:\n",
    "        temp=[]\n",
    "        for j in ret:\n",
    "            temp.append(j+[i])\n",
    "        ret+=temp\n",
    "    return ret\n",
    "subsets([1,2,3])"
   ]
  },
  {
   "cell_type": "code",
   "execution_count": 21,
   "metadata": {},
   "outputs": [
    {
     "data": {
      "text/plain": [
       "[[2, 2, 3], [2, 2, 3], [2, 2, 3], [2, 2, 3], [7], [7]]"
      ]
     },
     "execution_count": 21,
     "metadata": {},
     "output_type": "execute_result"
    }
   ],
   "source": [
    "class Solution:\n",
    "    def combinationSum(self, cand, tar):\n",
    "        cand.sort()\n",
    "        n = len(cand)\n",
    "        ret = []\n",
    "        def helper(ind,arr,temp):\n",
    "            if temp == 0:\n",
    "                ret.append(arr)\n",
    "                return\n",
    "            if ind == n or temp<0:\n",
    "                return \n",
    "            helper(ind,arr+[cand[ind]],temp-cand[ind])\n",
    "            helper(ind+1,arr+[cand[ind]],temp-cand[ind])\n",
    "            helper(ind+1,arr,temp)\n",
    "        helper(0,[],tar)\n",
    "        return ret\n",
    "    \n",
    "Solution().combinationSum([2,3,6,7],7)"
   ]
  },
  {
   "cell_type": "code",
   "execution_count": null,
   "metadata": {},
   "outputs": [],
   "source": []
  }
 ],
 "metadata": {
  "kernelspec": {
   "display_name": "Python 3",
   "language": "python",
   "name": "python3"
  },
  "language_info": {
   "codemirror_mode": {
    "name": "ipython",
    "version": 3
   },
   "file_extension": ".py",
   "mimetype": "text/x-python",
   "name": "python",
   "nbconvert_exporter": "python",
   "pygments_lexer": "ipython3",
   "version": "3.11.1"
  },
  "orig_nbformat": 4,
  "vscode": {
   "interpreter": {
    "hash": "aee8b7b246df8f9039afb4144a1f6fd8d2ca17a180786b69acc140d282b71a49"
   }
  }
 },
 "nbformat": 4,
 "nbformat_minor": 2
}
