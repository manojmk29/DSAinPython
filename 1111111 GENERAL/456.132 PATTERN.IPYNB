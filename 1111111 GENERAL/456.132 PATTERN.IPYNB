{
 "cells": [
  {
   "cell_type": "code",
   "execution_count": 10,
   "metadata": {},
   "outputs": [],
   "source": [
    "class Solution:\n",
    "    def find132pattern(self,nums):\n",
    "        stk=[]\n",
    "        mint=nums[0]\n",
    "        for i in nums[1:]:\n",
    "            while(stk and stk[-1][0]<=i):\n",
    "                stk.pop()\n",
    "            if stk and stk[-1][0]>i and stk[-1][1]<i:\n",
    "                return(True)\n",
    "            stk.append([i,mint])\n",
    "            mint=min(mint,i)\n",
    "        return False"
   ]
  },
  {
   "cell_type": "code",
   "execution_count": 13,
   "metadata": {},
   "outputs": [
    {
     "data": {
      "text/plain": [
       "True"
      ]
     },
     "execution_count": 13,
     "metadata": {},
     "output_type": "execute_result"
    }
   ],
   "source": [
    "Solution().find132pattern([1,0,1,2,1])"
   ]
  },
  {
   "cell_type": "code",
   "execution_count": 12,
   "metadata": {},
   "outputs": [],
   "source": [
    "class Solution:\n",
    "    def find132pattern(self,nums):\n",
    "        n=len(nums)\n",
    "        mint=nums[0]\n",
    "        for j in range(1,n-1):\n",
    "            if(mint<nums[j]):\n",
    "                for k in range(j+1,n):\n",
    "                    if(nums[k]<nums[j] and nums[k]>mint):\n",
    "                        return(True)\n",
    "            mint=min(mint,nums[j])\n",
    "        return(False)"
   ]
  },
  {
   "cell_type": "code",
   "execution_count": null,
   "metadata": {},
   "outputs": [],
   "source": [
    "class Solution:\n",
    "    def find132pattern(self,nums):\n",
    "        n=len(nums)\n",
    "        hmap={}\n",
    "        mint=None\n",
    "        maxt=None\n",
    "        for i in nums:\n",
    "            for val in hmap:\n",
    "                if(val<i and hmap[val]>i):\n",
    "                    return(True)\n",
    "            if(mint is None):\n",
    "                mint=i\n",
    "            else:\n",
    "                if(maxt is None):\n",
    "                    if(i<=mint):\n",
    "                        mint=i\n",
    "                    else:\n",
    "                        maxt=i\n",
    "                        hmap[mint]=maxt\n",
    "                else:\n",
    "                    if(i>maxt):\n",
    "                        hmap[mint]=maxt\n",
    "            if(maxt is not None and i<mint):\n",
    "                mint=i\n",
    "                maxt=None\n",
    "        return(False)"
   ]
  },
  {
   "cell_type": "code",
   "execution_count": 8,
   "metadata": {},
   "outputs": [],
   "source": [
    "class Solution:\n",
    "    def find132pattern(self,nums):\n",
    "        n=len(nums)\n",
    "        mint=nums[0]\n",
    "        for j in range(n-1):\n",
    "            if(nums[j]<mint):\n",
    "                mint=nums[j]\n",
    "                continue\n",
    "            for k in range(j+1,n):\n",
    "                jval=nums[j]\n",
    "                kval=nums[k]\n",
    "                a=3\n",
    "                if(nums[j]>nums[k] and nums[k]>mint):\n",
    "                    return(True)\n",
    "        return(False)"
   ]
  },
  {
   "cell_type": "code",
   "execution_count": 9,
   "metadata": {},
   "outputs": [
    {
     "data": {
      "text/plain": [
       "True"
      ]
     },
     "execution_count": 9,
     "metadata": {},
     "output_type": "execute_result"
    }
   ],
   "source": [
    "Solution().find132pattern([1,0,1,2,1])"
   ]
  },
  {
   "cell_type": "code",
   "execution_count": null,
   "metadata": {},
   "outputs": [],
   "source": []
  }
 ],
 "metadata": {
  "interpreter": {
   "hash": "11ad92808b9e536a1bda76e6f18576c204b1bdc67c9013f7331a2b858d211f20"
  },
  "kernelspec": {
   "display_name": "Python 3.9.6 64-bit",
   "language": "python",
   "name": "python3"
  },
  "language_info": {
   "codemirror_mode": {
    "name": "ipython",
    "version": 3
   },
   "file_extension": ".py",
   "mimetype": "text/x-python",
   "name": "python",
   "nbconvert_exporter": "python",
   "pygments_lexer": "ipython3",
   "version": "3.9.6"
  },
  "orig_nbformat": 4
 },
 "nbformat": 4,
 "nbformat_minor": 2
}
