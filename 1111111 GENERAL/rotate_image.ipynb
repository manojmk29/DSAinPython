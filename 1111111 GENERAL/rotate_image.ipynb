{
 "cells": [
  {
   "cell_type": "code",
   "execution_count": 2,
   "metadata": {},
   "outputs": [
    {
     "name": "stdout",
     "output_type": "stream",
     "text": [
      "3\n"
     ]
    }
   ],
   "source": [
    "mat = [[1,2,3],[4,5,6]]\n",
    "print(len(mat[0]))"
   ]
  },
  {
   "cell_type": "code",
   "execution_count": 3,
   "metadata": {},
   "outputs": [
    {
     "data": {
      "text/plain": [
       "2"
      ]
     },
     "execution_count": 3,
     "metadata": {},
     "output_type": "execute_result"
    }
   ],
   "source": [
    "mat[0][1]"
   ]
  },
  {
   "cell_type": "code",
   "execution_count": 51,
   "metadata": {},
   "outputs": [],
   "source": [
    "class Solution:\n",
    "    def kthSmallest(self, root, k):\n",
    "        self.ret = None\n",
    "        def inorder(node,tot):\n",
    "                if node==None:\n",
    "                    return 0    \n",
    "                if self.ret:\n",
    "                    return 0\n",
    "                left = right = 0\n",
    "                left = inorder(node.left,0)\n",
    "                cur = left + 1 + tot\n",
    "                if cur == k and not self.ret:\n",
    "                    self.ret = node.val \n",
    "                    return 0\n",
    "                if not self.ret:\n",
    "                    right = inorder(node.right,cur)\n",
    "                return left+right+1\n",
    "        a = inorder(root,0)\n",
    "        return self.ret"
   ]
  },
  {
   "cell_type": "code",
   "execution_count": 42,
   "metadata": {},
   "outputs": [],
   "source": [
    "class node:\n",
    "    def __init__(self,val) -> None:\n",
    "        self.val = val \n",
    "        self.right = None \n",
    "        self.left = None\n",
    "\n",
    "a= node(5)\n",
    "b = a.left = node(3)\n",
    "c = b.left = node(2)\n",
    "d = c.left = node(1)\n",
    "e = b.right = node(4)\n",
    "f = a.right = node(6)"
   ]
  },
  {
   "cell_type": "code",
   "execution_count": 52,
   "metadata": {},
   "outputs": [],
   "source": [
    "class node:\n",
    "    def __init__(self,val) -> None:\n",
    "        self.val = val \n",
    "        self.right = None \n",
    "        self.left = None\n",
    "\n",
    "b = node(3)\n",
    "c = b.left = node(1)\n",
    "d = c.right = node(2)\n",
    "e = b.right = node(4)"
   ]
  },
  {
   "cell_type": "code",
   "execution_count": 54,
   "metadata": {},
   "outputs": [
    {
     "data": {
      "text/plain": [
       "3"
      ]
     },
     "execution_count": 54,
     "metadata": {},
     "output_type": "execute_result"
    }
   ],
   "source": [
    "Solution().kthSmallest(b,1)"
   ]
  },
  {
   "cell_type": "code",
   "execution_count": 21,
   "metadata": {},
   "outputs": [
    {
     "ename": "NameError",
     "evalue": "name 'null' is not defined",
     "output_type": "error",
     "traceback": [
      "\u001b[0;31m---------------------------------------------------------------------------\u001b[0m",
      "\u001b[0;31mNameError\u001b[0m                                 Traceback (most recent call last)",
      "\u001b[1;32m/Users/apple/coding/DSAinPython/1111111 GENERAL/rotate_image.ipynb Cell 6\u001b[0m line \u001b[0;36m1\n\u001b[1;32m     <a href='vscode-notebook-cell:/Users/apple/coding/DSAinPython/1111111%20GENERAL/rotate_image.ipynb#W5sZmlsZQ%3D%3D?line=12'>13</a>\u001b[0m     node\u001b[39m.\u001b[39mright \u001b[39m=\u001b[39m array_to_bst(array_nums[mid_num\u001b[39m+\u001b[39m\u001b[39m1\u001b[39m:])\n\u001b[1;32m     <a href='vscode-notebook-cell:/Users/apple/coding/DSAinPython/1111111%20GENERAL/rotate_image.ipynb#W5sZmlsZQ%3D%3D?line=13'>14</a>\u001b[0m     \u001b[39mreturn\u001b[39;00m node\n\u001b[0;32m---> <a href='vscode-notebook-cell:/Users/apple/coding/DSAinPython/1111111%20GENERAL/rotate_image.ipynb#W5sZmlsZQ%3D%3D?line=15'>16</a>\u001b[0m aa \u001b[39m=\u001b[39m array_to_bst([\u001b[39m45\u001b[39m,\u001b[39m30\u001b[39m,\u001b[39m46\u001b[39m,\u001b[39m10\u001b[39m,\u001b[39m36\u001b[39m,null,\u001b[39m49\u001b[39m,\u001b[39m8\u001b[39m,\u001b[39m24\u001b[39m,\u001b[39m34\u001b[39m,\u001b[39m42\u001b[39m,\u001b[39m48\u001b[39m,null,\u001b[39m4\u001b[39m,\u001b[39m9\u001b[39m,\u001b[39m14\u001b[39m,\u001b[39m25\u001b[39m,\u001b[39m31\u001b[39m,\u001b[39m35\u001b[39m,\u001b[39m41\u001b[39m,\u001b[39m43\u001b[39m,\u001b[39m47\u001b[39m,null,\u001b[39m0\u001b[39m,\u001b[39m6\u001b[39m,null,null,\u001b[39m11\u001b[39m,\u001b[39m20\u001b[39m,null,\u001b[39m28\u001b[39m,null,\u001b[39m33\u001b[39m,null,null,\u001b[39m37\u001b[39m,null,null,\u001b[39m44\u001b[39m,null,null,null,\u001b[39m1\u001b[39m,\u001b[39m5\u001b[39m,\u001b[39m7\u001b[39m,null,\u001b[39m12\u001b[39m,\u001b[39m19\u001b[39m,\u001b[39m21\u001b[39m,\u001b[39m26\u001b[39m,\u001b[39m29\u001b[39m,\u001b[39m32\u001b[39m,null,null,\u001b[39m38\u001b[39m,null,null,null,\u001b[39m3\u001b[39m,null,null,null,null,null,\u001b[39m13\u001b[39m,\u001b[39m18\u001b[39m,null,null,\u001b[39m22\u001b[39m,null,\u001b[39m27\u001b[39m,null,null,null,null,null,\u001b[39m39\u001b[39m,\u001b[39m2\u001b[39m,null,null,null,\u001b[39m15\u001b[39m,null,null,\u001b[39m23\u001b[39m,null,null,null,\u001b[39m40\u001b[39m,null,null,null,\u001b[39m16\u001b[39m,null,null,null,null,null,\u001b[39m17\u001b[39m])\n\u001b[1;32m     <a href='vscode-notebook-cell:/Users/apple/coding/DSAinPython/1111111%20GENERAL/rotate_image.ipynb#W5sZmlsZQ%3D%3D?line=16'>17</a>\u001b[0m aa\n",
      "\u001b[0;31mNameError\u001b[0m: name 'null' is not defined"
     ]
    }
   ],
   "source": [
    "\n",
    "        \n",
    "\n",
    "def array_to_bst(array_nums):\n",
    "    if not array_nums:\n",
    "        return None\n",
    "    mid_num = len(array_nums)//2\n",
    "    node = TreeNode(array_nums[mid_num])\n",
    "    node.left = array_to_bst(array_nums[:mid_num])\n",
    "    node.right = array_to_bst(array_nums[mid_num+1:])\n",
    "    return node\n",
    "\n",
    "aa = array_to_bst([45,30,46,10,36,null,49,8,24,34,42,48,null,4,9,14,25,31,35,41,43,47,null,0,6,null,null,11,20,null,28,\"null\",33,null,null,37,null,null,44,null,null,null,1,5,7,null,12,19,21,26,29,32,null,null,38,null,null,null,3,null,null,null,null,null,13,18,null,null,22,null,27,null,null,null,null,null,39,2,null,null,null,15,null,null,23,null,null,null,40,null,null,null,16,null,null,null,null,null,17])\n",
    "aa"
   ]
  },
  {
   "cell_type": "code",
   "execution_count": 25,
   "metadata": {},
   "outputs": [
    {
     "ename": "TypeError",
     "evalue": "'<' not supported between instances of 'NoneType' and 'int'",
     "output_type": "error",
     "traceback": [
      "\u001b[0;31m---------------------------------------------------------------------------\u001b[0m",
      "\u001b[0;31mTypeError\u001b[0m                                 Traceback (most recent call last)",
      "\u001b[1;32m/Users/apple/coding/DSAinPython/1111111 GENERAL/rotate_image.ipynb Cell 7\u001b[0m line \u001b[0;36m1\n\u001b[1;32m     <a href='vscode-notebook-cell:/Users/apple/coding/DSAinPython/1111111%20GENERAL/rotate_image.ipynb#W6sZmlsZQ%3D%3D?line=16'>17</a>\u001b[0m root \u001b[39m=\u001b[39m \u001b[39mNone\u001b[39;00m\n\u001b[1;32m     <a href='vscode-notebook-cell:/Users/apple/coding/DSAinPython/1111111%20GENERAL/rotate_image.ipynb#W6sZmlsZQ%3D%3D?line=17'>18</a>\u001b[0m \u001b[39mfor\u001b[39;00m i \u001b[39min\u001b[39;00m aaa:\n\u001b[0;32m---> <a href='vscode-notebook-cell:/Users/apple/coding/DSAinPython/1111111%20GENERAL/rotate_image.ipynb#W6sZmlsZQ%3D%3D?line=18'>19</a>\u001b[0m     root \u001b[39m=\u001b[39m insertBST(root,i)\n",
      "\u001b[1;32m/Users/apple/coding/DSAinPython/1111111 GENERAL/rotate_image.ipynb Cell 7\u001b[0m line \u001b[0;36m1\n\u001b[1;32m      <a href='vscode-notebook-cell:/Users/apple/coding/DSAinPython/1111111%20GENERAL/rotate_image.ipynb#W6sZmlsZQ%3D%3D?line=7'>8</a>\u001b[0m \u001b[39mif\u001b[39;00m(root\u001b[39m==\u001b[39m\u001b[39mNone\u001b[39;00m):\n\u001b[1;32m      <a href='vscode-notebook-cell:/Users/apple/coding/DSAinPython/1111111%20GENERAL/rotate_image.ipynb#W6sZmlsZQ%3D%3D?line=8'>9</a>\u001b[0m \t\u001b[39mreturn\u001b[39;00m node(val)\n\u001b[0;32m---> <a href='vscode-notebook-cell:/Users/apple/coding/DSAinPython/1111111%20GENERAL/rotate_image.ipynb#W6sZmlsZQ%3D%3D?line=9'>10</a>\u001b[0m \u001b[39mif\u001b[39;00m(val\u001b[39m<\u001b[39;49mroot\u001b[39m.\u001b[39;49mval):\n\u001b[1;32m     <a href='vscode-notebook-cell:/Users/apple/coding/DSAinPython/1111111%20GENERAL/rotate_image.ipynb#W6sZmlsZQ%3D%3D?line=10'>11</a>\u001b[0m \troot\u001b[39m.\u001b[39mleft\u001b[39m=\u001b[39minsertBST(root\u001b[39m.\u001b[39mleft,val)\n\u001b[1;32m     <a href='vscode-notebook-cell:/Users/apple/coding/DSAinPython/1111111%20GENERAL/rotate_image.ipynb#W6sZmlsZQ%3D%3D?line=11'>12</a>\u001b[0m \u001b[39melse\u001b[39;00m:\n",
      "\u001b[0;31mTypeError\u001b[0m: '<' not supported between instances of 'NoneType' and 'int'"
     ]
    }
   ],
   "source": [
    "class node():\n",
    "    def __init__(self, val):\n",
    "        self.val = val\n",
    "        self.left = None\n",
    "        self.right = None\n",
    "        \n",
    "def insertBST(root,val):\n",
    "\tif(root==None):\n",
    "\t\treturn node(val)\n",
    "\tif(val<root.val):\n",
    "\t\troot.left=insertBST(root.left,val)\n",
    "\telse:\n",
    "\t\troot.right=insertBST(root.right,val)\n",
    "\treturn root\n",
    "\n",
    "aaa = [45,30,46,10,36,None,49,8,24,34,42,48,None,4,9,14,25,31,35,41,43,47,None,0,6,None,None,11,20,None,28,None,33,None,None,37,None,None,44,None,None,None,1,5,7,None,12,19,21,26,29,32,None,None,38,None,None,None,3,None,None,None,None,None,13,18,None,None,22,None,27,None,None,None,None,None,39,2,None,None,None,15,None,None,23,None,None,None,40,None,None,None,16,None,None,None,None,None,17]\n",
    "root = None\n",
    "for i in aaa:\n",
    "    root = insertBST(root,i)\n",
    "\n",
    "    "
   ]
  },
  {
   "cell_type": "code",
   "execution_count": 29,
   "metadata": {},
   "outputs": [
    {
     "name": "stdout",
     "output_type": "stream",
     "text": [
      "[9, 1, 2]\n"
     ]
    },
    {
     "data": {
      "text/plain": [
       "[None, 1, 2]"
      ]
     },
     "execution_count": 29,
     "metadata": {},
     "output_type": "execute_result"
    }
   ],
   "source": [
    "class node():\n",
    "    def __init__(self, val):\n",
    "        self.val = val\n",
    "        self.left = None\n",
    "        self.right = None\n",
    "\n",
    "\n",
    "# def changeToNode(arr):\n",
    "    \n",
    "    \n",
    "    \n",
    "    "
   ]
  },
  {
   "cell_type": "code",
   "execution_count": 35,
   "metadata": {},
   "outputs": [
    {
     "ename": "NameError",
     "evalue": "name 'ax' is not defined",
     "output_type": "error",
     "traceback": [
      "\u001b[0;31m---------------------------------------------------------------------------\u001b[0m",
      "\u001b[0;31mNameError\u001b[0m                                 Traceback (most recent call last)",
      "\u001b[1;32m/Users/apple/coding/DSAinPython/1111111 GENERAL/rotate_image.ipynb Cell 9\u001b[0m line \u001b[0;36m5\n\u001b[1;32m      <a href='vscode-notebook-cell:/Users/apple/coding/DSAinPython/1111111%20GENERAL/rotate_image.ipynb#X11sZmlsZQ%3D%3D?line=2'>3</a>\u001b[0m     bx\u001b[39m=\u001b[39m\u001b[39m2\u001b[39m\n\u001b[1;32m      <a href='vscode-notebook-cell:/Users/apple/coding/DSAinPython/1111111%20GENERAL/rotate_image.ipynb#X11sZmlsZQ%3D%3D?line=3'>4</a>\u001b[0m     \u001b[39mprint\u001b[39m(arr)\n\u001b[0;32m----> <a href='vscode-notebook-cell:/Users/apple/coding/DSAinPython/1111111%20GENERAL/rotate_image.ipynb#X11sZmlsZQ%3D%3D?line=4'>5</a>\u001b[0m func([ax,ax,bx,bx,\u001b[39m4\u001b[39m])\n",
      "\u001b[0;31mNameError\u001b[0m: name 'ax' is not defined"
     ]
    }
   ],
   "source": [
    "def func(arr):\n",
    "    ax=1\n",
    "    bx=2\n",
    "    print(arr)\n",
    "func([ax,ax,bx,bx,4])\n"
   ]
  },
  {
   "cell_type": "code",
   "execution_count": 34,
   "metadata": {},
   "outputs": [
    {
     "ename": "NameError",
     "evalue": "name 'ax' is not defined",
     "output_type": "error",
     "traceback": [
      "\u001b[0;31m---------------------------------------------------------------------------\u001b[0m",
      "\u001b[0;31mNameError\u001b[0m                                 Traceback (most recent call last)",
      "\u001b[1;32m/Users/apple/coding/DSAinPython/1111111 GENERAL/rotate_image.ipynb Cell 10\u001b[0m line \u001b[0;36m1\n\u001b[0;32m----> <a href='vscode-notebook-cell:/Users/apple/coding/DSAinPython/1111111%20GENERAL/rotate_image.ipynb#X12sZmlsZQ%3D%3D?line=0'>1</a>\u001b[0m func([ax,ax,bx,bx,\u001b[39m4\u001b[39m])\n",
      "\u001b[0;31mNameError\u001b[0m: name 'ax' is not defined"
     ]
    }
   ],
   "source": []
  },
  {
   "cell_type": "code",
   "execution_count": 38,
   "metadata": {},
   "outputs": [
    {
     "ename": "NameError",
     "evalue": "name 'nulll' is not defined",
     "output_type": "error",
     "traceback": [
      "\u001b[0;31m---------------------------------------------------------------------------\u001b[0m",
      "\u001b[0;31mNameError\u001b[0m                                 Traceback (most recent call last)",
      "\u001b[1;32m/Users/apple/coding/DSAinPython/1111111 GENERAL/rotate_image.ipynb Cell 11\u001b[0m line \u001b[0;36m3\n\u001b[1;32m      <a href='vscode-notebook-cell:/Users/apple/coding/DSAinPython/1111111%20GENERAL/rotate_image.ipynb#X13sZmlsZQ%3D%3D?line=0'>1</a>\u001b[0m \u001b[39mdef\u001b[39;00m \u001b[39mfunc\u001b[39m (arr):\n\u001b[1;32m      <a href='vscode-notebook-cell:/Users/apple/coding/DSAinPython/1111111%20GENERAL/rotate_image.ipynb#X13sZmlsZQ%3D%3D?line=1'>2</a>\u001b[0m     \u001b[39mreturn\u001b[39;00m ([\u001b[39mNone\u001b[39;00m \u001b[39mif\u001b[39;00m i\u001b[39m==\u001b[39mnulll \u001b[39melse\u001b[39;00m i \u001b[39mfor\u001b[39;00m i \u001b[39min\u001b[39;00m arr])\n\u001b[0;32m----> <a href='vscode-notebook-cell:/Users/apple/coding/DSAinPython/1111111%20GENERAL/rotate_image.ipynb#X13sZmlsZQ%3D%3D?line=2'>3</a>\u001b[0m func([nulll,\u001b[39m1\u001b[39m,\u001b[39m2\u001b[39m])\n",
      "\u001b[0;31mNameError\u001b[0m: name 'nulll' is not defined"
     ]
    }
   ],
   "source": []
  },
  {
   "cell_type": "code",
   "execution_count": null,
   "metadata": {},
   "outputs": [],
   "source": []
  },
  {
   "cell_type": "code",
   "execution_count": 56,
   "metadata": {},
   "outputs": [
    {
     "name": "stdout",
     "output_type": "stream",
     "text": [
      "6 4 6 2 5 1 6 3 6 "
     ]
    }
   ],
   "source": [
    "class TreeNode:\n",
    "    \tdef __init__(self, x):\n",
    "            self.val = x\n",
    "            self.left = None\n",
    "            self.right = None\n",
    "\n",
    "def buildTree(nums):\n",
    "\tif not nums:\n",
    "\t\treturn None\n",
    "\troot = TreeNode(nums[0])\n",
    "\tq = [root]\n",
    "\ti = 1\n",
    "\twhile i < len(nums):\n",
    "\t\tcurr = q.pop(0)\n",
    "\t\tif i < len(nums):\n",
    "\t\t\tcurr.left = TreeNode(nums[i])\n",
    "\t\t\tq.append(curr.left)\n",
    "\t\t\ti += 1\n",
    "\t\tif i < len(nums):\n",
    "\t\t\tcurr.right = TreeNode(nums[i])\n",
    "\t\t\tq.append(curr.right)\n",
    "\t\t\ti += 1\n",
    "\treturn root\n",
    "\n",
    "def printTree(root):\n",
    "\tif not root:\n",
    "\t\treturn\n",
    "\tprintTree(root.left)\n",
    "\tprint(root.val, end=\" \")\n",
    "\tprintTree(root.right)\n",
    "\n",
    "nums = [1, 2, 3, 4, 5, 6, 6, 6, 6]\n",
    "root = buildTree(nums)\n",
    "printTree(root)\n"
   ]
  },
  {
   "cell_type": "code",
   "execution_count": null,
   "metadata": {},
   "outputs": [],
   "source": [
    "a=1\n",
    "while a is not None:"
   ]
  }
 ],
 "metadata": {
  "kernelspec": {
   "display_name": "Python 3",
   "language": "python",
   "name": "python3"
  },
  "language_info": {
   "codemirror_mode": {
    "name": "ipython",
    "version": 3
   },
   "file_extension": ".py",
   "mimetype": "text/x-python",
   "name": "python",
   "nbconvert_exporter": "python",
   "pygments_lexer": "ipython3",
   "version": "3.11.1"
  }
 },
 "nbformat": 4,
 "nbformat_minor": 2
}
