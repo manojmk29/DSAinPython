{
 "cells": [
  {
   "cell_type": "code",
   "execution_count": 7,
   "metadata": {},
   "outputs": [
    {
     "data": {
      "text/plain": [
       "3"
      ]
     },
     "execution_count": 7,
     "metadata": {},
     "output_type": "execute_result"
    }
   ],
   "source": [
    "def NthRoot(n, m):\n",
    "    def findVal(val):\n",
    "        ret=1\n",
    "        for i in range(n):\n",
    "            ret*=val\n",
    "        return ret\n",
    "    l=1\n",
    "    r=m//n\n",
    "    while(l<=r):\n",
    "        mid=(l+r)//2\n",
    "        midval=findVal(mid)\n",
    "        if(midval==m):\n",
    "            return mid \n",
    "        elif(midval<m):\n",
    "            l=mid+1\n",
    "        else:\n",
    "            r=mid-1\n",
    "    return -1\n",
    "NthRoot(3,27)"
   ]
  },
  {
   "cell_type": "code",
   "execution_count": 8,
   "metadata": {},
   "outputs": [
    {
     "ename": "TypeError",
     "evalue": "pow() missing required argument 'base' (pos 1)",
     "output_type": "error",
     "traceback": [
      "\u001b[0;31m---------------------------------------------------------------------------\u001b[0m",
      "\u001b[0;31mTypeError\u001b[0m                                 Traceback (most recent call last)",
      "\u001b[1;32m/Users/apple/coding/DSAinPython/1111111 GENERAL/nthroot.ipynb Cell 2\u001b[0m line \u001b[0;36m1\n\u001b[0;32m----> <a href='vscode-notebook-cell:/Users/apple/coding/DSAinPython/1111111%20GENERAL/nthroot.ipynb#W1sZmlsZQ%3D%3D?line=0'>1</a>\u001b[0m a\u001b[39m=\u001b[39m\u001b[39mpow\u001b[39;49m()\n",
      "\u001b[0;31mTypeError\u001b[0m: pow() missing required argument 'base' (pos 1)"
     ]
    }
   ],
   "source": [
    "a=pow()"
   ]
  },
  {
   "cell_type": "code",
   "execution_count": 12,
   "metadata": {},
   "outputs": [
    {
     "data": {
      "text/plain": [
       "(0.04, 6.4e-05)"
      ]
     },
     "execution_count": 12,
     "metadata": {},
     "output_type": "execute_result"
    }
   ],
   "source": [
    "a=pow(5,-2)\n",
    "b=pow(5,-6)\n",
    "a,b"
   ]
  },
  {
   "cell_type": "code",
   "execution_count": 10,
   "metadata": {},
   "outputs": [
    {
     "data": {
      "text/plain": [
       "15625"
      ]
     },
     "execution_count": 10,
     "metadata": {},
     "output_type": "execute_result"
    }
   ],
   "source": [
    "a*a"
   ]
  },
  {
   "cell_type": "code",
   "execution_count": 14,
   "metadata": {},
   "outputs": [
    {
     "data": {
      "text/plain": [
       "0.04"
      ]
     },
     "execution_count": 14,
     "metadata": {},
     "output_type": "execute_result"
    }
   ],
   "source": [
    "1/25"
   ]
  },
  {
   "cell_type": "code",
   "execution_count": 15,
   "metadata": {},
   "outputs": [
    {
     "data": {
      "text/plain": [
       "-15"
      ]
     },
     "execution_count": 15,
     "metadata": {},
     "output_type": "execute_result"
    }
   ],
   "source": [
    "-5*3"
   ]
  },
  {
   "cell_type": "code",
   "execution_count": 18,
   "metadata": {},
   "outputs": [
    {
     "data": {
      "text/plain": [
       "9765625"
      ]
     },
     "execution_count": 18,
     "metadata": {},
     "output_type": "execute_result"
    }
   ],
   "source": [
    "a=pow(5,10)\n",
    "a"
   ]
  },
  {
   "cell_type": "code",
   "execution_count": 20,
   "metadata": {},
   "outputs": [
    {
     "data": {
      "text/plain": [
       "3125"
      ]
     },
     "execution_count": 20,
     "metadata": {},
     "output_type": "execute_result"
    }
   ],
   "source": [
    "b=pow(5,5)\n",
    "b"
   ]
  },
  {
   "cell_type": "code",
   "execution_count": 21,
   "metadata": {},
   "outputs": [
    {
     "data": {
      "text/plain": [
       "True"
      ]
     },
     "execution_count": 21,
     "metadata": {},
     "output_type": "execute_result"
    }
   ],
   "source": [
    "b*b==a"
   ]
  },
  {
   "cell_type": "code",
   "execution_count": 23,
   "metadata": {},
   "outputs": [
    {
     "data": {
      "text/plain": [
       "True"
      ]
     },
     "execution_count": 23,
     "metadata": {},
     "output_type": "execute_result"
    }
   ],
   "source": [
    "pow(5,10)==pow(25,5)"
   ]
  },
  {
   "cell_type": "code",
   "execution_count": 24,
   "metadata": {},
   "outputs": [
    {
     "data": {
      "text/plain": [
       "9765625"
      ]
     },
     "execution_count": 24,
     "metadata": {},
     "output_type": "execute_result"
    }
   ],
   "source": [
    "a=5*5*5*5*5*5*5*5*5*5\n",
    "a"
   ]
  },
  {
   "cell_type": "code",
   "execution_count": 25,
   "metadata": {},
   "outputs": [
    {
     "data": {
      "text/plain": [
       "True"
      ]
     },
     "execution_count": 25,
     "metadata": {},
     "output_type": "execute_result"
    }
   ],
   "source": [
    "a=float(\"-inf\")\n",
    "a<0"
   ]
  },
  {
   "cell_type": "code",
   "execution_count": 33,
   "metadata": {},
   "outputs": [
    {
     "data": {
      "text/plain": [
       "22"
      ]
     },
     "execution_count": 33,
     "metadata": {},
     "output_type": "execute_result"
    }
   ],
   "source": [
    "def median(matrix: [[int]], m: int, n: int) -> int:\n",
    "    # Write your code here.\n",
    "    def findsmall(row,tar):\n",
    "        l=0\n",
    "        r=n-1\n",
    "        while(l<=r):\n",
    "            mid=(l+r)//2\n",
    "            val=matrix[row][mid]\n",
    "            if(val<=tar):\n",
    "                l=mid+1\n",
    "            else:\n",
    "                r=mid-1\n",
    "        return l\n",
    "    mv=(m*n)//2\n",
    "    l=float(\"inf\")\n",
    "    r=float(\"-inf\")\n",
    "    for i in range(m):\n",
    "        l=min(l,matrix[i][0])\n",
    "    for i in range(m):\n",
    "        r=max(r,matrix[i][n-1])\n",
    "    while(l<=r):\n",
    "        mid=(l+r)//2\n",
    "        val=0\n",
    "        for i in range(m):\n",
    "            val+=findsmall(i,mid)\n",
    "        if(val<=mv):\n",
    "            l=mid+1\n",
    "        else:\n",
    "            r=mid-1\n",
    "    return l\n",
    "\n",
    "median(mat,5,5)"
   ]
  },
  {
   "cell_type": "code",
   "execution_count": 28,
   "metadata": {},
   "outputs": [],
   "source": [
    "\n"
   ]
  },
  {
   "cell_type": "code",
   "execution_count": 54,
   "metadata": {},
   "outputs": [],
   "source": [
    "def findsmall(arr,tar):\n",
    "        n=len(arr)\n",
    "        l=0\n",
    "        r=n-1\n",
    "        while(l<=r):\n",
    "            mid=(l+r)//2\n",
    "            val=arr[mid]\n",
    "            if(val<tar):\n",
    "                l=mid+1\n",
    "            else:\n",
    "                r=mid-1\n",
    "        return l"
   ]
  },
  {
   "cell_type": "code",
   "execution_count": 53,
   "metadata": {},
   "outputs": [
    {
     "data": {
      "text/plain": [
       "0"
      ]
     },
     "execution_count": 53,
     "metadata": {},
     "output_type": "execute_result"
    }
   ],
   "source": [
    "findsmall([3,3,3],3)"
   ]
  },
  {
   "cell_type": "code",
   "execution_count": 58,
   "metadata": {},
   "outputs": [],
   "source": [
    "def median(matrix: [[int]], m: int, n: int) -> int:\n",
    "    # Write your code here.\n",
    "    def findsmall(row,tar):\n",
    "        l=0\n",
    "        r=n-1\n",
    "        while(l<=r):\n",
    "            mid=(l+r)//2\n",
    "            val=matrix[row][mid]\n",
    "            if(val<=tar):\n",
    "                l=mid+1\n",
    "            else:\n",
    "                r=mid-1\n",
    "        return l\n",
    "    mv=(m*n)//2\n",
    "    l=float(\"inf\")\n",
    "    r=float(\"-inf\")\n",
    "    for i in range(m):\n",
    "        l=min(l,matrix[i][0])\n",
    "    for i in range(m):\n",
    "        r=max(r,matrix[i][n-1])\n",
    "    while(l<r):\n",
    "        mid=(l+r)//2\n",
    "        val=0\n",
    "        for i in range(m):\n",
    "            val+=findsmall(i,mid)\n",
    "        if(val>mv):\n",
    "            r=mid-1\n",
    "        else:\n",
    "            l=mid\n",
    "    return l"
   ]
  },
  {
   "cell_type": "code",
   "execution_count": 59,
   "metadata": {},
   "outputs": [
    {
     "data": {
      "text/plain": [
       "9"
      ]
     },
     "execution_count": 59,
     "metadata": {},
     "output_type": "execute_result"
    }
   ],
   "source": [
    "mat = [[1 ,5, 7, 9, 11 ]\n",
    ",[2, 3, 4, 8, 9 ]\n",
    ",[4 ,11 ,14 ,19, 20] \n",
    ",[6 ,10 ,22 ,99 ,100] \n",
    ",[7 ,15 ,17 ,24 ,28 ]]\n",
    "m=n=5\n",
    "median(mat,m,n)"
   ]
  },
  {
   "cell_type": "code",
   "execution_count": 46,
   "metadata": {},
   "outputs": [
    {
     "name": "stdout",
     "output_type": "stream",
     "text": [
      "Value greater than target  4  is 7 ---- 4\n",
      "Value lesser than target  0  is -1 ---- 8\n"
     ]
    }
   ],
   "source": [
    "arr=[1,1,2,2,2,3,3,4,4,4,4,4,5,5,5,6,7,7,7,7,7,8]\n",
    "n=len(arr)\n",
    "tar=4\n",
    "l=0\n",
    "r=n-1\n",
    "\n",
    "while(l<=r):\n",
    "    m=(l+r)//2\n",
    "    val=arr[m]\n",
    "    if(val<tar):\n",
    "        l=m+1\n",
    "    else:\n",
    "        r=m-1\n",
    "print(\"Value greater than target \",tar,\" is\",l,\"----\",arr[l])\n",
    "\n",
    "\n",
    "tar=0\n",
    "l=0\n",
    "r=n-1\n",
    "while(l<=r):\n",
    "    m=(l+r)//2\n",
    "    val=arr[m]\n",
    "    if(val>=tar):\n",
    "        r=m-1\n",
    "    else:\n",
    "        l=m+1\n",
    "print(\"Value lesser than target \",tar,\" is\",r,\"----\",arr[r])"
   ]
  },
  {
   "cell_type": "code",
   "execution_count": 65,
   "metadata": {},
   "outputs": [],
   "source": [
    "a=1e-2+2"
   ]
  },
  {
   "cell_type": "code",
   "execution_count": 66,
   "metadata": {},
   "outputs": [
    {
     "data": {
      "text/plain": [
       "2.01"
      ]
     },
     "execution_count": 66,
     "metadata": {},
     "output_type": "execute_result"
    }
   ],
   "source": [
    "a"
   ]
  },
  {
   "cell_type": "code",
   "execution_count": 67,
   "metadata": {},
   "outputs": [
    {
     "name": "stdout",
     "output_type": "stream",
     "text": [
      "e\n"
     ]
    }
   ],
   "source": [
    "a = \"Hello, World!\"\n",
    "print(a[1])"
   ]
  },
  {
   "cell_type": "code",
   "execution_count": 69,
   "metadata": {},
   "outputs": [
    {
     "name": "stdout",
     "output_type": "stream",
     "text": [
      "Hello, Worl\n"
     ]
    }
   ],
   "source": [
    "b = \"Hello, World!\"\n",
    "print(b[:-2])"
   ]
  },
  {
   "cell_type": "code",
   "execution_count": 70,
   "metadata": {},
   "outputs": [
    {
     "data": {
      "text/plain": [
       "'mani'"
      ]
     },
     "execution_count": 70,
     "metadata": {},
     "output_type": "execute_result"
    }
   ],
   "source": [
    "a=\"manI\"\n",
    "a.lower()"
   ]
  },
  {
   "cell_type": "code",
   "execution_count": 71,
   "metadata": {},
   "outputs": [
    {
     "data": {
      "text/plain": [
       "'MANI'"
      ]
     },
     "execution_count": 71,
     "metadata": {},
     "output_type": "execute_result"
    }
   ],
   "source": [
    "a.upper()"
   ]
  },
  {
   "cell_type": "code",
   "execution_count": 76,
   "metadata": {},
   "outputs": [
    {
     "data": {
      "text/plain": [
       "'asd fv  edc'"
      ]
     },
     "execution_count": 76,
     "metadata": {},
     "output_type": "execute_result"
    }
   ],
   "source": [
    "a=\"    asd fv  edc        \" \n",
    "a.strip()"
   ]
  },
  {
   "cell_type": "code",
   "execution_count": 77,
   "metadata": {},
   "outputs": [
    {
     "data": {
      "text/plain": [
       "['ok', 'lk', 'kn']"
      ]
     },
     "execution_count": 77,
     "metadata": {},
     "output_type": "execute_result"
    }
   ],
   "source": [
    "a=\"ok,lk,kn\"\n",
    "arr=a.split(\",\")\n",
    "arr"
   ]
  },
  {
   "cell_type": "code",
   "execution_count": 78,
   "metadata": {},
   "outputs": [
    {
     "data": {
      "text/plain": [
       "['w', 'e', 'c']"
      ]
     },
     "execution_count": 78,
     "metadata": {},
     "output_type": "execute_result"
    }
   ],
   "source": [
    "a=\"wec\"\n",
    "arr=list(a)\n",
    "arr"
   ]
  },
  {
   "cell_type": "code",
   "execution_count": 80,
   "metadata": {},
   "outputs": [
    {
     "name": "stdout",
     "output_type": "stream",
     "text": [
      "I want 3 pieces of item 567 for 49.95 dollars.\n"
     ]
    }
   ],
   "source": [
    "quantity = 3\n",
    "itemno = 567\n",
    "price = 49.95\n",
    "myorder = \"I want {} pieces of item {} for {} dollars.\"\n",
    "print(myorder.format(quantity, itemno, price))"
   ]
  },
  {
   "cell_type": "code",
   "execution_count": 81,
   "metadata": {},
   "outputs": [
    {
     "name": "stdout",
     "output_type": "stream",
     "text": [
      "1-2-3\n"
     ]
    }
   ],
   "source": [
    "print(\"{}-{}-{}\".format(1,2,3))"
   ]
  },
  {
   "cell_type": "code",
   "execution_count": 87,
   "metadata": {},
   "outputs": [
    {
     "name": "stdout",
     "output_type": "stream",
     "text": [
      "1.23\n"
     ]
    }
   ],
   "source": [
    "a=1.23456\n",
    "print(\"%.2f\"%a)"
   ]
  },
  {
   "cell_type": "code",
   "execution_count": 90,
   "metadata": {},
   "outputs": [
    {
     "name": "stdout",
     "output_type": "stream",
     "text": [
      "1.235\n"
     ]
    }
   ],
   "source": [
    "print(\"{0:.3f}\".format(a))"
   ]
  },
  {
   "cell_type": "code",
   "execution_count": 102,
   "metadata": {},
   "outputs": [
    {
     "data": {
      "text/plain": [
       "0"
      ]
     },
     "execution_count": 102,
     "metadata": {},
     "output_type": "execute_result"
    }
   ],
   "source": [
    "a=64\n",
    "a=0.9\n",
    "int(a)"
   ]
  },
  {
   "cell_type": "code",
   "execution_count": 105,
   "metadata": {},
   "outputs": [
    {
     "data": {
      "text/plain": [
       "128"
      ]
     },
     "execution_count": 105,
     "metadata": {},
     "output_type": "execute_result"
    }
   ],
   "source": []
  },
  {
   "cell_type": "code",
   "execution_count": 107,
   "metadata": {},
   "outputs": [
    {
     "name": "stdout",
     "output_type": "stream",
     "text": [
      "0\n",
      "1\n"
     ]
    }
   ],
   "source": [
    "a=0\n",
    "b=1\n",
    "print(a&b)\n",
    "print(a|b)"
   ]
  },
  {
   "cell_type": "code",
   "execution_count": 120,
   "metadata": {},
   "outputs": [
    {
     "data": {
      "text/plain": [
       "7"
      ]
     },
     "execution_count": 120,
     "metadata": {},
     "output_type": "execute_result"
    }
   ],
   "source": [
    "a=15\n",
    "a>>1"
   ]
  },
  {
   "cell_type": "code",
   "execution_count": 125,
   "metadata": {},
   "outputs": [
    {
     "ename": "TypeError",
     "evalue": "'set' object is not subscriptable",
     "output_type": "error",
     "traceback": [
      "\u001b[0;31m---------------------------------------------------------------------------\u001b[0m",
      "\u001b[0;31mTypeError\u001b[0m                                 Traceback (most recent call last)",
      "\u001b[1;32m/Users/apple/coding/DSAinPython/1111111 GENERAL/nthroot.ipynb Cell 37\u001b[0m line \u001b[0;36m2\n\u001b[1;32m      <a href='vscode-notebook-cell:/Users/apple/coding/DSAinPython/1111111%20GENERAL/nthroot.ipynb#X51sZmlsZQ%3D%3D?line=0'>1</a>\u001b[0m a\u001b[39m=\u001b[39m{\u001b[39m1\u001b[39m,\u001b[39m1\u001b[39m,\u001b[39m2\u001b[39m,\u001b[39m3\u001b[39m}\n\u001b[0;32m----> <a href='vscode-notebook-cell:/Users/apple/coding/DSAinPython/1111111%20GENERAL/nthroot.ipynb#X51sZmlsZQ%3D%3D?line=1'>2</a>\u001b[0m a[\u001b[39m0\u001b[39;49m]\n",
      "\u001b[0;31mTypeError\u001b[0m: 'set' object is not subscriptable"
     ]
    }
   ],
   "source": [
    "a={1,1,2,3}"
   ]
  },
  {
   "cell_type": "code",
   "execution_count": 127,
   "metadata": {},
   "outputs": [
    {
     "name": "stdout",
     "output_type": "stream",
     "text": [
      "Go and have fun with 1\n"
     ]
    }
   ],
   "source": [
    "a=1\n",
    "print(\"Go and have fun with {}\".format(a))"
   ]
  },
  {
   "cell_type": "code",
   "execution_count": 208,
   "metadata": {},
   "outputs": [],
   "source": [
    "class fun:\n",
    "    a=0\n",
    "    def __init__(self,b=0):\n",
    "        self.b=b\n",
    "        fun.a+=1\n",
    "    def __init__(self,m=0,n=0):\n",
    "        self.m=m\n",
    "        self.n=n\n",
    "        fun.a+=1\n",
    "    def pri(self):\n",
    "        print(\"a--- \",fun.a)\n",
    "        print(\"b--- \",self.b)\n",
    "x=fun(8)\n",
    "y=fun()"
   ]
  },
  {
   "cell_type": "code",
   "execution_count": 209,
   "metadata": {},
   "outputs": [
    {
     "ename": "AttributeError",
     "evalue": "'fun' object has no attribute 'b'",
     "output_type": "error",
     "traceback": [
      "\u001b[0;31m---------------------------------------------------------------------------\u001b[0m",
      "\u001b[0;31mAttributeError\u001b[0m                            Traceback (most recent call last)",
      "\u001b[1;32m/Users/apple/coding/DSAinPython/1111111 GENERAL/nthroot.ipynb Cell 40\u001b[0m line \u001b[0;36m1\n\u001b[0;32m----> <a href='vscode-notebook-cell:/Users/apple/coding/DSAinPython/1111111%20GENERAL/nthroot.ipynb#X64sZmlsZQ%3D%3D?line=0'>1</a>\u001b[0m x\u001b[39m.\u001b[39;49mb\n",
      "\u001b[0;31mAttributeError\u001b[0m: 'fun' object has no attribute 'b'"
     ]
    }
   ],
   "source": [
    "x.b"
   ]
  },
  {
   "cell_type": "code",
   "execution_count": 203,
   "metadata": {},
   "outputs": [],
   "source": [
    "fun.a+=7\n",
    "y.a+=8"
   ]
  },
  {
   "cell_type": "code",
   "execution_count": 191,
   "metadata": {},
   "outputs": [
    {
     "data": {
      "text/plain": [
       "10"
      ]
     },
     "execution_count": 191,
     "metadata": {},
     "output_type": "execute_result"
    }
   ],
   "source": [
    "fun.a"
   ]
  },
  {
   "cell_type": "code",
   "execution_count": 206,
   "metadata": {},
   "outputs": [
    {
     "data": {
      "text/plain": [
       "17"
      ]
     },
     "execution_count": 206,
     "metadata": {},
     "output_type": "execute_result"
    }
   ],
   "source": [
    "y.a"
   ]
  },
  {
   "cell_type": "code",
   "execution_count": 163,
   "metadata": {},
   "outputs": [
    {
     "name": "stdout",
     "output_type": "stream",
     "text": [
      "1\n"
     ]
    }
   ],
   "source": [
    "a=1\n",
    "print(a)\n",
    "del a \n"
   ]
  },
  {
   "cell_type": "code",
   "execution_count": 181,
   "metadata": {},
   "outputs": [
    {
     "name": "stdout",
     "output_type": "stream",
     "text": [
      "1 --- 2\n",
      "3 --- 4\n",
      "5 --- 6\n"
     ]
    }
   ],
   "source": [
    "a={1:2,3:4,5:6}\n",
    "for i in a:\n",
    "    print(i,\"---\",a[i])"
   ]
  },
  {
   "cell_type": "code",
   "execution_count": 176,
   "metadata": {},
   "outputs": [
    {
     "data": {
      "text/plain": [
       "{3: 4}"
      ]
     },
     "execution_count": 176,
     "metadata": {},
     "output_type": "execute_result"
    }
   ],
   "source": [
    "a"
   ]
  },
  {
   "cell_type": "code",
   "execution_count": null,
   "metadata": {},
   "outputs": [],
   "source": [
    "class Person(object):\n",
    "     \n",
    "    # __init__ is known as the constructor\n",
    "    def __init__(self, name, idnumber):\n",
    "        self.name = name\n",
    "        self.idnumber = idnumber\n",
    " \n",
    "    def display(self):\n",
    "        print(self.name)\n",
    "        print(self.idnumber)\n",
    " \n",
    "# child class\n",
    "class Employee(Person):\n",
    "    def __init__(self, name, idnumber, salary, post):\n",
    "        self.salary = salary\n",
    "        self.post = post\n",
    " \n",
    "        # invoking the __init__ of the parent class\n",
    "        Person.__init__(self, name, idnumber)\n",
    " \n",
    "# creation of an object variable or an instance\n",
    "a = Employee('Rahul', 886012, 200000, \"Intern\")\n",
    " \n",
    "# calling a function of the class Person using its instance\n",
    "a.display()"
   ]
  },
  {
   "cell_type": "code",
   "execution_count": 250,
   "metadata": {},
   "outputs": [
    {
     "name": "stdout",
     "output_type": "stream",
     "text": [
      "22222222222\n",
      "9\n",
      "33333333333\n"
     ]
    }
   ],
   "source": [
    "class Doctor():\n",
    "    ttt=9\n",
    "    def __init__(self):\n",
    "        self.xx=2\n",
    "        print(\"22222222222\")\n",
    "\n",
    "class Employee(Doctor):\n",
    "    def __init__(self):\n",
    "        # Doctor().__init__()\n",
    "        Doctor.__init__(self)\n",
    "        print(Doctor.ttt)\n",
    "        print(\"33333333333\")\n",
    "\n",
    "\n",
    " \n",
    "d = Employee()\n",
    "# d.xx"
   ]
  },
  {
   "cell_type": "code",
   "execution_count": null,
   "metadata": {},
   "outputs": [],
   "source": []
  }
 ],
 "metadata": {
  "kernelspec": {
   "display_name": "Python 3",
   "language": "python",
   "name": "python3"
  },
  "language_info": {
   "codemirror_mode": {
    "name": "ipython",
    "version": 3
   },
   "file_extension": ".py",
   "mimetype": "text/x-python",
   "name": "python",
   "nbconvert_exporter": "python",
   "pygments_lexer": "ipython3",
   "version": "3.11.1"
  }
 },
 "nbformat": 4,
 "nbformat_minor": 2
}
