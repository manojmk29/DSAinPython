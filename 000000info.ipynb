{
 "cells": [
  {
   "cell_type": "markdown",
   "metadata": {},
   "source": [
    "ord= value to ascii (should be in the string)\n",
    "\n",
    "\n",
    "chr = ascii to value"
   ]
  },
  {
   "cell_type": "code",
   "execution_count": 1,
   "metadata": {},
   "outputs": [
    {
     "name": "stdout",
     "output_type": "stream",
     "text": [
      "49\n",
      "a\n"
     ]
    }
   ],
   "source": [
    "print(ord(\"1\"))\n",
    "print(chr(97))"
   ]
  },
  {
   "cell_type": "code",
   "execution_count": 1,
   "metadata": {},
   "outputs": [
    {
     "data": {
      "text/plain": [
       "97"
      ]
     },
     "execution_count": 1,
     "metadata": {},
     "output_type": "execute_result"
    }
   ],
   "source": [
    "ord(\"a\")"
   ]
  },
  {
   "cell_type": "code",
   "execution_count": 3,
   "metadata": {},
   "outputs": [
    {
     "name": "stdout",
     "output_type": "stream",
     "text": [
      "Pattern found at index 2\n"
     ]
    }
   ],
   "source": [
    "# Following program is the python implementation of\n",
    "# Rabin Karp Algorithm given in CLRS book\n",
    "\n",
    "# d is the number of characters in the input alphabet\n",
    "mul = 256\n",
    "\n",
    "# pat -> pattern\n",
    "# txt -> text\n",
    "# q -> A prime number\n",
    "\n",
    "def search(text, match):\n",
    "\tml = len(match)\n",
    "\ttl = len(text)\n",
    "\tph = 0 # hash value for pattern\n",
    "\tth = 0 # hash value for txt\n",
    "\trem = 1\n",
    "\t# The value of h would be \"pow(d, M-1)%q\"\n",
    "\tfor i in range(ml-1):\n",
    "\t\trem = (rem*mul)\n",
    "\n",
    "\t# Calculate the hash value of pattern and first window\n",
    "\t# of text\n",
    "\tfor i in range(ml):\n",
    "\t\tph = (mul*ml + ord(match[i]))\n",
    "\t\ttl = (mul*tl + ord(text[i]))\n",
    "\n",
    "\t# Slide the pattern over text one by one\n",
    "\tfor i in range(tl-ml+1):\n",
    "\t\t# Check the hash values of current window of text and\n",
    "\t\t# pattern if the hash values match then only check\n",
    "\t\t# for characters on by one\n",
    "\t\tif tl==ml:\n",
    "\t\t\t# Check for characters one by one\n",
    "\t\t\tfor j in range(ml):\n",
    "\t\t\t\tif txt[i+j] != pat[j]:\n",
    "\t\t\t\t\tbreak\n",
    "\t\t\t\telse: j+=1\n",
    "\n",
    "\t\t\t# if p == t and pat[0...M-1] = txt[i, i+1, ...i+M-1]\n",
    "\t\t\tif j==ml:\n",
    "\t\t\t\tprint (\"Pattern found at index \" + str(i))\n",
    "\n",
    "\t\t# Calculate hash value for next window of text: Remove\n",
    "\t\t# leading digit, add trailing digit\n",
    "\t\tif i < tl-ml:\n",
    "\t\t\ttl = (mul*(tl-ord(txt[i])*h) + ord(txt[i+ml]))\n",
    "\n",
    "\t\t\t# We might get negative values of t, converting it to\n",
    "\t\t\t# positive\n",
    "\t\t\t# if t < 0:\n",
    "\t\t\t# \tt = t+q\n",
    "\n",
    "# Driver Code\n",
    "txt = \"GEEKS FOR GEEKS\"\n",
    "pat = \"GEEK\"\n",
    "\n",
    "# A prime number\n",
    "# Function Call\n",
    "search(\"cdd\",\"abcdd\")\n",
    "\n",
    "# This code is contributed by Bhavya Jain\n"
   ]
  },
  {
   "cell_type": "code",
   "execution_count": null,
   "metadata": {},
   "outputs": [],
   "source": []
  }
 ],
 "metadata": {
  "interpreter": {
   "hash": "11ad92808b9e536a1bda76e6f18576c204b1bdc67c9013f7331a2b858d211f20"
  },
  "kernelspec": {
   "display_name": "Python 3.9.6 64-bit",
   "language": "python",
   "name": "python3"
  },
  "language_info": {
   "codemirror_mode": {
    "name": "ipython",
    "version": 3
   },
   "file_extension": ".py",
   "mimetype": "text/x-python",
   "name": "python",
   "nbconvert_exporter": "python",
   "pygments_lexer": "ipython3",
   "version": "3.9.6"
  },
  "orig_nbformat": 4
 },
 "nbformat": 4,
 "nbformat_minor": 2
}
