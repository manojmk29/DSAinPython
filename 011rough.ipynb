{
 "cells": [
  {
   "cell_type": "code",
   "execution_count": 1,
   "metadata": {},
   "outputs": [],
   "source": [
    "a=[None for i in range(9)]"
   ]
  },
  {
   "cell_type": "code",
   "execution_count": 6,
   "metadata": {},
   "outputs": [],
   "source": [
    "def mk(func):\n",
    "    print(\"inside\")\n",
    "    def inn(*args):\n",
    "        func(*args)\n",
    "        print(\"after\")\n",
    "    return(inn())"
   ]
  },
  {
   "cell_type": "code",
   "execution_count": 13,
   "metadata": {},
   "outputs": [
    {
     "name": "stdout",
     "output_type": "stream",
     "text": [
      "1\n",
      "arg1: Geeks\n",
      "arg2: for\n",
      "arg3: Geeks\n"
     ]
    }
   ],
   "source": [
    "def dd(g):\n",
    "    print(g)\n",
    "ac=(\"1\")\n",
    "dd(*ac)\n",
    "\n",
    "\n",
    "def myFun(arg1, arg2, arg3):\n",
    "    print(\"arg1:\", arg1)\n",
    "    print(\"arg2:\", arg2)\n",
    "    print(\"arg3:\", arg3)\n",
    "     \n",
    "# Now we can use *args or **kwargs to\n",
    "# pass arguments to this function :\n",
    "args = (\"Geeks\", \"for\", \"Geeks\")\n",
    "myFun(*args)"
   ]
  },
  {
   "cell_type": "code",
   "execution_count": 4,
   "metadata": {},
   "outputs": [
    {
     "data": {
      "text/plain": [
       "['DDRDRR', 'DRDDRR']"
      ]
     },
     "execution_count": 4,
     "metadata": {},
     "output_type": "execute_result"
    }
   ],
   "source": [
    "#User function Template for python3\n",
    "\n",
    "class Solution:\n",
    "    def findPath(self, m, nt):\n",
    "        # code here\n",
    "        n=len(m[0])\n",
    "        marked=[[0 for i in range(n)]for i in range(n)]\n",
    "        ret=[]\n",
    "        def helper(i,j,mark,path):\n",
    "            if(i>=n or j>=n):\n",
    "                return\n",
    "            if(i<0 or j<0):\n",
    "                return\n",
    "            if(mark[i][j]==1):\n",
    "                return\n",
    "            if(m[i][j]==0):\n",
    "                return\n",
    "            if(i==n-1 and j==n-1):\n",
    "                ret.append(path)\n",
    "                return\n",
    "            mark[i][j]=1\n",
    "            helper(i+1,j,mark,path+\"D\")\n",
    "            helper(i-1,j,mark,path+\"U\")\n",
    "            helper(i,j+1,mark,path+\"R\")\n",
    "            helper(i,j-1,mark,path+\"L\")\n",
    "            mark[i][j]=0\n",
    "        helper(0,0,marked,\"\")\n",
    "        return(ret)\n",
    "o=Solution()\n",
    "o.findPath([[1,0,0,0],[1,1,0,1],[1,1,0,0],[0,1,1,1]],4)"
   ]
  },
  {
   "cell_type": "markdown",
   "metadata": {},
   "source": [
    "2%3"
   ]
  },
  {
   "cell_type": "code",
   "execution_count": 5,
   "metadata": {},
   "outputs": [
    {
     "data": {
      "text/plain": [
       "dict"
      ]
     },
     "execution_count": 5,
     "metadata": {},
     "output_type": "execute_result"
    }
   ],
   "source": [
    "def myFun(**kwargs):\n",
    "    return(type(kwargs))\n",
    "    for key, value in kwargs.items():\n",
    "        print (\"%s == %s\" %(key, value))\n",
    " \n",
    "# Driver code\n",
    "myFun(first ='Geeks', mid ='for', last='Geeks')   "
   ]
  },
  {
   "cell_type": "code",
   "execution_count": 36,
   "metadata": {},
   "outputs": [
    {
     "name": "stdout",
     "output_type": "stream",
     "text": [
      "[(3, 1, 40), (4, 1, 30), (1, 4, 20), (2, 1, 10)]\n",
      "60\n"
     ]
    }
   ],
   "source": [
    "Jobs=[(1,4,20),(2,1,10),(3,1,40),(4,1,30)]\n",
    "second=lambda x:x[2]\n",
    "Jobs.sort(key=second,reverse=True)\n",
    "print(Jobs)\n",
    "hmap={}\n",
    "for i in Jobs:\n",
    "    profit=i[2]\n",
    "    val=i[1]\n",
    "    while(val>0):\n",
    "        if(val not in hmap):\n",
    "            hmap[val]=profit\n",
    "        else:\n",
    "            val-=1\n",
    "profit=0\n",
    "for i in hmap:\n",
    "    profit+=hmap[i]\n",
    "print(profit)"
   ]
  },
  {
   "cell_type": "code",
   "execution_count": 34,
   "metadata": {},
   "outputs": [
    {
     "data": {
      "text/plain": [
       "2"
      ]
     },
     "execution_count": 34,
     "metadata": {},
     "output_type": "execute_result"
    }
   ],
   "source": [
    "Jobs=[(4,1,25),(5,1,15),(1,2,100),(2,1,19),(3,2,27)]\n",
    "maxt=0\n",
    "for i in range(len(Jobs)):\n",
    "    maxt=max(maxt,Jobs[i][1])\n",
    "maxt"
   ]
  },
  {
   "cell_type": "code",
   "execution_count": 1,
   "metadata": {},
   "outputs": [
    {
     "name": "stdout",
     "output_type": "stream",
     "text": [
      "True\n"
     ]
    }
   ],
   "source": [
    "wordDict={\"cats\",\"dog\",\"sand\",\"and\",\"cat\"}\n",
    "s=\"catsandog\"\n",
    "def helper(word):\n",
    "            if(len(word)==0):\n",
    "                return(True)\n",
    "            for i in range(1,len(word)+1):\n",
    "                if(word[0:i] in wordDict):\n",
    "                    if(helper(word[i:])==True):\n",
    "                        return(True)\n",
    "            return(False)\n",
    "ans=helper(s)\n",
    "ans=True\n",
    "print(ans)"
   ]
  },
  {
   "cell_type": "code",
   "execution_count": 2,
   "metadata": {},
   "outputs": [
    {
     "name": "stdout",
     "output_type": "stream",
     "text": [
      "0\n",
      "1\n",
      "2\n",
      "3\n"
     ]
    }
   ],
   "source": [
    "for i in range(4):\n",
    "    print(i)\n",
    "    i=7"
   ]
  },
  {
   "cell_type": "code",
   "execution_count": null,
   "metadata": {},
   "outputs": [],
   "source": []
  }
 ],
 "metadata": {
  "interpreter": {
   "hash": "11ad92808b9e536a1bda76e6f18576c204b1bdc67c9013f7331a2b858d211f20"
  },
  "kernelspec": {
   "display_name": "Python 3.9.6 64-bit",
   "language": "python",
   "name": "python3"
  },
  "language_info": {
   "codemirror_mode": {
    "name": "ipython",
    "version": 3
   },
   "file_extension": ".py",
   "mimetype": "text/x-python",
   "name": "python",
   "nbconvert_exporter": "python",
   "pygments_lexer": "ipython3",
   "version": "3.9.6"
  },
  "orig_nbformat": 4
 },
 "nbformat": 4,
 "nbformat_minor": 2
}
