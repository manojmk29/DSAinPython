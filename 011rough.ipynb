{
 "cells": [
  {
   "cell_type": "code",
   "execution_count": 1,
   "metadata": {},
   "outputs": [],
   "source": [
    "a=[None for i in range(9)]"
   ]
  },
  {
   "cell_type": "code",
   "execution_count": 8,
   "metadata": {},
   "outputs": [
    {
     "data": {
      "text/plain": [
       "0"
      ]
     },
     "execution_count": 8,
     "metadata": {},
     "output_type": "execute_result"
    }
   ],
   "source": [
    "a=0\n",
    "b=a*-1\n",
    "b"
   ]
  },
  {
   "cell_type": "code",
   "execution_count": 9,
   "metadata": {},
   "outputs": [],
   "source": [
    "import heapq"
   ]
  },
  {
   "cell_type": "code",
   "execution_count": 4,
   "metadata": {},
   "outputs": [
    {
     "data": {
      "text/plain": [
       "['DDRDRR', 'DRDDRR']"
      ]
     },
     "execution_count": 4,
     "metadata": {},
     "output_type": "execute_result"
    }
   ],
   "source": [
    "#User function Template for python3\n",
    "\n",
    "class Solution:\n",
    "    def findPath(self, m, nt):\n",
    "        # code here\n",
    "        n=len(m[0])\n",
    "        marked=[[0 for i in range(n)]for i in range(n)]\n",
    "        ret=[]\n",
    "        def helper(i,j,mark,path):\n",
    "            if(i>=n or j>=n):\n",
    "                return\n",
    "            if(i<0 or j<0):\n",
    "                return\n",
    "            if(mark[i][j]==1):\n",
    "                return\n",
    "            if(m[i][j]==0):\n",
    "                return\n",
    "            if(i==n-1 and j==n-1):\n",
    "                ret.append(path)\n",
    "                return\n",
    "            mark[i][j]=1\n",
    "            helper(i+1,j,mark,path+\"D\")\n",
    "            helper(i-1,j,mark,path+\"U\")\n",
    "            helper(i,j+1,mark,path+\"R\")\n",
    "            helper(i,j-1,mark,path+\"L\")\n",
    "            mark[i][j]=0\n",
    "        helper(0,0,marked,\"\")\n",
    "        return(ret)\n",
    "o=Solution()\n",
    "o.findPath([[1,0,0,0],[1,1,0,1],[1,1,0,0],[0,1,1,1]],4)"
   ]
  },
  {
   "cell_type": "markdown",
   "metadata": {},
   "source": [
    "2%3"
   ]
  },
  {
   "cell_type": "code",
   "execution_count": 1,
   "metadata": {},
   "outputs": [
    {
     "ename": "NameError",
     "evalue": "name 'a' is not defined",
     "output_type": "error",
     "traceback": [
      "\u001b[1;31m---------------------------------------------------------------------------\u001b[0m",
      "\u001b[1;31mNameError\u001b[0m                                 Traceback (most recent call last)",
      "\u001b[1;32m~\\AppData\\Local\\Temp/ipykernel_10504/604034991.py\u001b[0m in \u001b[0;36m<module>\u001b[1;34m\u001b[0m\n\u001b[1;32m----> 1\u001b[1;33m \u001b[0ma\u001b[0m \u001b[1;32mis\u001b[0m \u001b[1;32mNone\u001b[0m\u001b[1;33m\u001b[0m\u001b[1;33m\u001b[0m\u001b[0m\n\u001b[0m",
      "\u001b[1;31mNameError\u001b[0m: name 'a' is not defined"
     ]
    }
   ],
   "source": [
    "a is None"
   ]
  },
  {
   "cell_type": "code",
   "execution_count": 36,
   "metadata": {},
   "outputs": [
    {
     "name": "stdout",
     "output_type": "stream",
     "text": [
      "[(3, 1, 40), (4, 1, 30), (1, 4, 20), (2, 1, 10)]\n",
      "60\n"
     ]
    }
   ],
   "source": [
    "Jobs=[(1,4,20),(2,1,10),(3,1,40),(4,1,30)]\n",
    "second=lambda x:x[2]\n",
    "Jobs.sort(key=second,reverse=True)\n",
    "print(Jobs)\n",
    "hmap={}\n",
    "for i in Jobs:\n",
    "    profit=i[2]\n",
    "    val=i[1]\n",
    "    while(val>0):\n",
    "        if(val not in hmap):\n",
    "            hmap[val]=profit\n",
    "        else:\n",
    "            val-=1\n",
    "profit=0\n",
    "for i in hmap:\n",
    "    profit+=hmap[i]\n",
    "print(profit)"
   ]
  },
  {
   "cell_type": "code",
   "execution_count": 34,
   "metadata": {},
   "outputs": [
    {
     "data": {
      "text/plain": [
       "2"
      ]
     },
     "execution_count": 34,
     "metadata": {},
     "output_type": "execute_result"
    }
   ],
   "source": [
    "Jobs=[(4,1,25),(5,1,15),(1,2,100),(2,1,19),(3,2,27)]\n",
    "maxt=0\n",
    "for i in range(len(Jobs)):\n",
    "    maxt=max(maxt,Jobs[i][1])\n",
    "maxt"
   ]
  },
  {
   "cell_type": "code",
   "execution_count": 1,
   "metadata": {},
   "outputs": [
    {
     "name": "stdout",
     "output_type": "stream",
     "text": [
      "True\n"
     ]
    }
   ],
   "source": [
    "wordDict={\"cats\",\"dog\",\"sand\",\"and\",\"cat\"}\n",
    "s=\"catsandog\"\n",
    "def helper(word):\n",
    "            if(len(word)==0):\n",
    "                return(True)\n",
    "            for i in range(1,len(word)+1):\n",
    "                if(word[0:i] in wordDict):\n",
    "                    if(helper(word[i:])==True):\n",
    "                        return(True)\n",
    "            return(False)\n",
    "ans=helper(s)\n",
    "ans=True\n",
    "print(ans)"
   ]
  },
  {
   "cell_type": "code",
   "execution_count": null,
   "metadata": {},
   "outputs": [],
   "source": []
  }
 ],
 "metadata": {
  "interpreter": {
   "hash": "11ad92808b9e536a1bda76e6f18576c204b1bdc67c9013f7331a2b858d211f20"
  },
  "kernelspec": {
   "display_name": "Python 3.9.6 64-bit",
   "language": "python",
   "name": "python3"
  },
  "language_info": {
   "codemirror_mode": {
    "name": "ipython",
    "version": 3
   },
   "file_extension": ".py",
   "mimetype": "text/x-python",
   "name": "python",
   "nbconvert_exporter": "python",
   "pygments_lexer": "ipython3",
   "version": "3.9.6"
  },
  "orig_nbformat": 4
 },
 "nbformat": 4,
 "nbformat_minor": 2
}
