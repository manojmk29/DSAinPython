{
 "cells": [
  {
   "cell_type": "code",
   "execution_count": null,
   "metadata": {},
   "outputs": [],
   "source": [
    "class Solution(object):\n",
    "    def maxProfit(self, prices):\n",
    "        \"\"\"\n",
    "        :type prices: List[int]\n",
    "        :rtype: int\n",
    "        \"\"\"\n",
    "        l=r=0\n",
    "        n=len(prices)\n",
    "        ret=0\n",
    "        for i in range(1,n+1):\n",
    "            if(i<n):\n",
    "                val=prices[i]\n",
    "                if(val<prices[r]):\n",
    "                    ret+=(prices[r]-prices[l])\n",
    "                    l=r=i\n",
    "                else:\n",
    "                    r=i\n",
    "            else:\n",
    "                ret+=(prices[r]-prices[l])\n",
    "        return(ret)\n",
    "        \n",
    "                "
   ]
  },
  {
   "cell_type": "code",
   "execution_count": 13,
   "metadata": {},
   "outputs": [
    {
     "data": {
      "text/plain": [
       "[[1, 1, 1], [1, 1, 1], [1, 1, 1], [1, 1, 1]]"
      ]
     },
     "execution_count": 13,
     "metadata": {},
     "output_type": "execute_result"
    }
   ],
   "source": [
    "a=[[1 for i in range(3)] for i in range(4)]\n",
    "a"
   ]
  },
  {
   "cell_type": "code",
   "execution_count": 14,
   "metadata": {},
   "outputs": [],
   "source": [
    "a[0][1]=9"
   ]
  },
  {
   "cell_type": "code",
   "execution_count": 1,
   "metadata": {},
   "outputs": [
    {
     "data": {
      "text/plain": [
       "-1"
      ]
     },
     "execution_count": 1,
     "metadata": {},
     "output_type": "execute_result"
    }
   ],
   "source": [
    "-5//5"
   ]
  },
  {
   "cell_type": "code",
   "execution_count": 21,
   "metadata": {},
   "outputs": [
    {
     "data": {
      "text/plain": [
       "[1, 2, 3, 4, 5, 6, 7]"
      ]
     },
     "execution_count": 21,
     "metadata": {},
     "output_type": "execute_result"
    }
   ],
   "source": [
    "a=[1,2,3,4,5,6,7,8]\n",
    "a[0:-1]"
   ]
  },
  {
   "cell_type": "code",
   "execution_count": 22,
   "metadata": {},
   "outputs": [
    {
     "data": {
      "text/plain": [
       "0"
      ]
     },
     "execution_count": 22,
     "metadata": {},
     "output_type": "execute_result"
    }
   ],
   "source": [
    "from collections import *\n",
    "a=defaultdict(int)\n",
    "a[0]"
   ]
  },
  {
   "cell_type": "code",
   "execution_count": 23,
   "metadata": {},
   "outputs": [
    {
     "name": "stdout",
     "output_type": "stream",
     "text": [
      "\n"
     ]
    }
   ],
   "source": [
    "a=input()\n",
    "print(a)"
   ]
  },
  {
   "cell_type": "code",
   "execution_count": 24,
   "metadata": {},
   "outputs": [
    {
     "name": "stdout",
     "output_type": "stream",
     "text": [
      "2\n"
     ]
    }
   ],
   "source": [
    "q=0\n",
    "n=10\n",
    "div=5\n",
    "while(n>=div):\n",
    "    n-=div\n",
    "    q+=1\n",
    "print(q)"
   ]
  },
  {
   "cell_type": "code",
   "execution_count": 40,
   "metadata": {},
   "outputs": [
    {
     "name": "stdout",
     "output_type": "stream",
     "text": [
      "YES\n",
      "YES\n"
     ]
    }
   ],
   "source": [
    "a=2\n",
    "while(a):\n",
    "    a-=1\n",
    "    x=\"hello\"\n",
    "    y=\"helloooooo\" \n",
    "    xmap={} \n",
    "    for i in x: \n",
    "        if i not in xmap: \n",
    "            xmap[i]=1 \n",
    "        else: \n",
    "            xmap[i]+=1 \n",
    "    ymap={} \n",
    "    for i in y: \n",
    "        if i not in ymap: \n",
    "            ymap[i]=1 \n",
    "        else: \n",
    "            ymap[i]+=1 \n",
    "    xn=len(xmap) \n",
    "    yn=len(ymap) \n",
    "    aaa=\"\"\n",
    "    dd=\"8\"\n",
    "    for i in x:\n",
    "        if i!=dd:\n",
    "            aaa+=i\n",
    "            dd=i\n",
    "    bbb=\"\"\n",
    "    dd=\"8\"\n",
    "    for i in y:\n",
    "        if i!=dd:\n",
    "            bbb+=i\n",
    "            dd=i\n",
    "    flag=1\n",
    "    if(aaa!=bbb):\n",
    "        print(\"NO\")\n",
    "        flag=0\n",
    "        continue \n",
    "    if(xn!=yn): \n",
    "        print(\"NO\") \n",
    "        flag=0 \n",
    "        continue \n",
    "    for i in xmap:\n",
    "        if i not in ymap: \n",
    "            print(\"NO\") \n",
    "            flag=0 \n",
    "            break \n",
    "        if(xmap[i]>ymap[i]): \n",
    "            flag=0 \n",
    "            print(\"NO\") \n",
    "            break \n",
    "    if(flag==1): \n",
    "        print(\"YES\")  "
   ]
  },
  {
   "cell_type": "code",
   "execution_count": 37,
   "metadata": {},
   "outputs": [
    {
     "name": "stdout",
     "output_type": "stream",
     "text": [
      "0\n"
     ]
    }
   ],
   "source": [
    "a,b=12,14\n",
    "ind=1 \n",
    "si=1 \n",
    "if(a<0): \n",
    "    si*=-1 \n",
    "if(b<0): \n",
    "    si*=-1 \n",
    "a=abs(a) \n",
    "b=abs(b) \n",
    "while((b*ind)<=a): \n",
    "    ind+=1 \n",
    "print(si*(ind-1)) \n"
   ]
  },
  {
   "cell_type": "code",
   "execution_count": null,
   "metadata": {},
   "outputs": [],
   "source": []
  }
 ],
 "metadata": {
  "interpreter": {
   "hash": "11ad92808b9e536a1bda76e6f18576c204b1bdc67c9013f7331a2b858d211f20"
  },
  "kernelspec": {
   "display_name": "Python 3.9.6 64-bit",
   "language": "python",
   "name": "python3"
  },
  "language_info": {
   "codemirror_mode": {
    "name": "ipython",
    "version": 3
   },
   "file_extension": ".py",
   "mimetype": "text/x-python",
   "name": "python",
   "nbconvert_exporter": "python",
   "pygments_lexer": "ipython3",
   "version": "3.9.6"
  },
  "orig_nbformat": 4
 },
 "nbformat": 4,
 "nbformat_minor": 2
}
