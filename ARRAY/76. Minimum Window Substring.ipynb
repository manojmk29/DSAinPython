{
 "cells": [
  {
   "cell_type": "code",
   "execution_count": 15,
   "metadata": {},
   "outputs": [
    {
     "data": {
      "text/plain": [
       "'BANC'"
      ]
     },
     "execution_count": 15,
     "metadata": {},
     "output_type": "execute_result"
    }
   ],
   "source": [
    "import collections\n",
    "def minWindow(s,t):\n",
    "        check=collections.defaultdict(int)\n",
    "        for i in t:\n",
    "            check[i]+=1\n",
    "        need=len(check)\n",
    "        l=0\n",
    "        le=len(s)\n",
    "        mint=float(\"inf\")\n",
    "        have=0\n",
    "        ret=[-1,-1]\n",
    "        temp=collections.defaultdict(int)\n",
    "        for r,val in enumerate(s):\n",
    "            if(val in check):\n",
    "                temp[val]+=1\n",
    "            if(val in check and temp[val]==check[val]):\n",
    "                have+=1\n",
    "            while(have==need):\n",
    "                lr=r-l+1\n",
    "                if(lr<mint):\n",
    "                    mint=lr\n",
    "                    ret=[l,r]\n",
    "                val=s[l]\n",
    "                if(val in check):\n",
    "                    temp[val]-=1\n",
    "                if(val in check and temp[val]<check[val]):\n",
    "                    have-=1\n",
    "                l+=1\n",
    "        l,r=ret\n",
    "        return(s[l:r+1] if(mint!=float(\"inf\")) else \"\")\n",
    "minWindow(\"ADOBECODEBANC\",\"ABC\")"
   ]
  },
  {
   "cell_type": "code",
   "execution_count": 16,
   "metadata": {},
   "outputs": [
    {
     "data": {
      "text/plain": [
       "Counter({1: 5, 2: 2, 3: 1, 4: 2})"
      ]
     },
     "execution_count": 16,
     "metadata": {},
     "output_type": "execute_result"
    }
   ],
   "source": [
    "from collections import *\n",
    "a=[1,2,3,4,4,1,1,1,1,2]\n",
    "b=Counter(a)"
   ]
  },
  {
   "cell_type": "code",
   "execution_count": 27,
   "metadata": {},
   "outputs": [
    {
     "name": "stdout",
     "output_type": "stream",
     "text": [
      "1 5\n",
      "2 2\n",
      "3 1\n",
      "4 2\n"
     ]
    }
   ],
   "source": [
    "for i,j in b.items():\n",
    "    print(i,j)"
   ]
  },
  {
   "cell_type": "code",
   "execution_count": null,
   "metadata": {},
   "outputs": [],
   "source": []
  },
  {
   "cell_type": "code",
   "execution_count": null,
   "metadata": {},
   "outputs": [],
   "source": []
  }
 ],
 "metadata": {
  "interpreter": {
   "hash": "11ad92808b9e536a1bda76e6f18576c204b1bdc67c9013f7331a2b858d211f20"
  },
  "kernelspec": {
   "display_name": "Python 3.9.6 64-bit",
   "language": "python",
   "name": "python3"
  },
  "language_info": {
   "codemirror_mode": {
    "name": "ipython",
    "version": 3
   },
   "file_extension": ".py",
   "mimetype": "text/x-python",
   "name": "python",
   "nbconvert_exporter": "python",
   "pygments_lexer": "ipython3",
   "version": "3.9.6"
  },
  "orig_nbformat": 4
 },
 "nbformat": 4,
 "nbformat_minor": 2
}
