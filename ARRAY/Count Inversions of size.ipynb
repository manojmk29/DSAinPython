{
 "cells": [
  {
   "cell_type": "code",
   "execution_count": 5,
   "metadata": {},
   "outputs": [
    {
     "name": "stdout",
     "output_type": "stream",
     "text": [
      "4\n"
     ]
    }
   ],
   "source": [
    "arr=[8,4,2,1]\n",
    "n=len(arr)\n",
    "ret=0\n",
    "for i in range(n-2):\n",
    "    a=arr[i]\n",
    "    for j in range(i+1,n-1):\n",
    "        b=arr[j]\n",
    "        if(a>b):\n",
    "            for k in range(j+1,n):\n",
    "                c=arr[k]\n",
    "                if(b>c):\n",
    "                    ret+=1\n",
    "print(ret)\n"
   ]
  },
  {
   "cell_type": "code",
   "execution_count": 9,
   "metadata": {},
   "outputs": [
    {
     "name": "stdout",
     "output_type": "stream",
     "text": [
      "0\n"
     ]
    }
   ],
   "source": [
    "arr=[2,4,1,3,5]\n",
    "n=len(arr)\n",
    "ret=0\n",
    "hmap={}\n",
    "for i in range(n-2):\n",
    "    a=arr[i]\n",
    "    for j in range(i+1,n-1):\n",
    "        b=arr[j]\n",
    "        if(a>b):\n",
    "            hmap[j]=b\n",
    "for ind,val in hmap.items():\n",
    "    for k in range(ind+1,n):\n",
    "        c=arr[k]\n",
    "        if(val>c):\n",
    "            ret+=1\n",
    "print(ret)\n"
   ]
  },
  {
   "cell_type": "code",
   "execution_count": 4,
   "metadata": {},
   "outputs": [
    {
     "data": {
      "text/plain": [
       "True"
      ]
     },
     "execution_count": 4,
     "metadata": {},
     "output_type": "execute_result"
    }
   ],
   "source": [
    "b=(i for i in range(1,4))\n",
    "any(b)"
   ]
  },
  {
   "cell_type": "code",
   "execution_count": 29,
   "metadata": {},
   "outputs": [
    {
     "data": {
      "text/plain": [
       "[4, 2]"
      ]
     },
     "execution_count": 29,
     "metadata": {},
     "output_type": "execute_result"
    }
   ],
   "source": [
    "arr=[1,2,3,4,5]\n",
    "arr[3::-2]"
   ]
  },
  {
   "cell_type": "code",
   "execution_count": 8,
   "metadata": {},
   "outputs": [
    {
     "data": {
      "text/plain": [
       "45"
      ]
     },
     "execution_count": 8,
     "metadata": {},
     "output_type": "execute_result"
    }
   ],
   "source": [
    "from functools import cache,lru_cache\n",
    "@lru_cache\n",
    "def func(a):\n",
    "    if(a<10):\n",
    "        return(a+func(a+1))\n",
    "    return(0)\n",
    "func(1)"
   ]
  },
  {
   "cell_type": "code",
   "execution_count": null,
   "metadata": {},
   "outputs": [],
   "source": [
    "# f h i s\n",
    "# f h s i \n",
    "# f i h s\n",
    "# f i s h "
   ]
  },
  {
   "cell_type": "code",
   "execution_count": null,
   "metadata": {},
   "outputs": [],
   "source": [
    "# a g m n o\n",
    "\n",
    "# 5+4+2+"
   ]
  },
  {
   "cell_type": "code",
   "execution_count": null,
   "metadata": {},
   "outputs": [],
   "source": [
    "\"\"\"\n",
    "G O O G L E\n",
    "2 5 5 2 3 1\n",
    "\n",
    "\n",
    "1/4! 3/3! 3/1!   \n",
    "\n",
    "\n",
    "abersu\n",
    "\n",
    "abusre 24\n",
    "\n",
    "aebrsu 49\n",
    "\n",
    "aeusrb \n",
    "\"\"\""
   ]
  }
 ],
 "metadata": {
  "interpreter": {
   "hash": "11ad92808b9e536a1bda76e6f18576c204b1bdc67c9013f7331a2b858d211f20"
  },
  "kernelspec": {
   "display_name": "Python 3.9.6 64-bit",
   "language": "python",
   "name": "python3"
  },
  "language_info": {
   "codemirror_mode": {
    "name": "ipython",
    "version": 3
   },
   "file_extension": ".py",
   "mimetype": "text/x-python",
   "name": "python",
   "nbconvert_exporter": "python",
   "pygments_lexer": "ipython3",
   "version": "3.9.6"
  },
  "orig_nbformat": 4
 },
 "nbformat": 4,
 "nbformat_minor": 2
}
