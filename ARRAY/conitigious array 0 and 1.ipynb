{
 "cells": [
  {
   "cell_type": "code",
   "execution_count": null,
   "metadata": {},
   "outputs": [],
   "source": [
    "def findMaxLength(nums):\n",
    "        \"\"\"\n",
    "        :type nums: List[int]\n",
    "        :rtype: int\n",
    "        \"\"\"\n",
    "        hmap={}\n",
    "        hmap[-1]=(0,0,0)\n",
    "        ret=0\n",
    "        for i in range(len(nums)):\n",
    "            if(nums[i]==0):\n",
    "                hmap[i]=(hmap[i-1][0],(hmap[i-1][1])+1,hmap[i-1][2])\n",
    "            else:\n",
    "                hmap[i]=(hmap[i-1][0]+nums[i],hmap[i-1][1],(hmap[i-1][2])+1)\n",
    "                "
   ]
  },
  {
   "cell_type": "code",
   "execution_count": 6,
   "metadata": {},
   "outputs": [
    {
     "data": {
      "text/plain": [
       "{-1: (0, 0, 0),\n",
       " 0: (1, 0, 1),\n",
       " 1: (1, 1, 1),\n",
       " 2: (1, 2, 1),\n",
       " 3: (1, 3, 1),\n",
       " 4: (2, 3, 2),\n",
       " 5: (3, 3, 3),\n",
       " 6: (4, 3, 4),\n",
       " 7: (5, 3, 5)}"
      ]
     },
     "execution_count": 6,
     "metadata": {},
     "output_type": "execute_result"
    }
   ],
   "source": [
    "hmap={}\n",
    "nums=[1,0,0,0,1,1,1,1]\n",
    "hmap[-1]=(0,0,0)\n",
    "ret=0\n",
    "for i in range(len(nums)):\n",
    "    if(nums[i]==0):\n",
    "        hmap[i]=(hmap[i-1][0],(hmap[i-1][1])+1,hmap[i-1][2])\n",
    "    else:\n",
    "        hmap[i]=(hmap[i-1][0]+nums[i],hmap[i-1][1],(hmap[i-1][2])+1)\n",
    "i=-1\n",
    "j=len(nums)-1\n",
    "ret=0\n",
    "while(i<j):\n",
    "    if(hmap[j][1]-hmap[i][1]==hmap[j][2]-hmap[i][2]):\n",
    "        ret=max(ret,j-i)\n",
    "    else:\n",
    "        j+=1\n",
    "    \n",
    "    \n",
    "\n",
    "hmap"
   ]
  },
  {
   "cell_type": "code",
   "execution_count": 9,
   "metadata": {},
   "outputs": [
    {
     "data": {
      "text/plain": [
       "{-1: (0, 0, 0),\n",
       " 0: (0, 1, 0),\n",
       " 1: (0, 2, 0),\n",
       " 2: (0, 3, 0),\n",
       " 3: (0, 4, 0),\n",
       " 4: (1, 4, 1),\n",
       " 5: (2, 4, 2),\n",
       " 6: (3, 4, 3)}"
      ]
     },
     "execution_count": 9,
     "metadata": {},
     "output_type": "execute_result"
    }
   ],
   "source": [
    "hmap={}\n",
    "# nums=[0,0,0,1,1,1,1]\n",
    "nums=[0,0,0,0,1,1,1]\n",
    "hmap[-1]=(0,0,0)\n",
    "ret=0\n",
    "for i in range(len(nums)):\n",
    "    if(nums[i]==0):\n",
    "        hmap[i]=(hmap[i-1][0],(hmap[i-1][1])+1,hmap[i-1][2])\n",
    "    else:\n",
    "        hmap[i]=(hmap[i-1][0]+nums[i],hmap[i-1][1],(hmap[i-1][2])+1)\n",
    "hmap"
   ]
  },
  {
   "cell_type": "code",
   "execution_count": null,
   "metadata": {},
   "outputs": [],
   "source": []
  }
 ],
 "metadata": {
  "interpreter": {
   "hash": "11ad92808b9e536a1bda76e6f18576c204b1bdc67c9013f7331a2b858d211f20"
  },
  "kernelspec": {
   "display_name": "Python 3.9.6 64-bit",
   "language": "python",
   "name": "python3"
  },
  "language_info": {
   "codemirror_mode": {
    "name": "ipython",
    "version": 3
   },
   "file_extension": ".py",
   "mimetype": "text/x-python",
   "name": "python",
   "nbconvert_exporter": "python",
   "pygments_lexer": "ipython3",
   "version": "3.9.6"
  },
  "orig_nbformat": 4
 },
 "nbformat": 4,
 "nbformat_minor": 2
}
