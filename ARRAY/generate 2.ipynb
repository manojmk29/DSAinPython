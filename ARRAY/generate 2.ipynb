{
 "cells": [
  {
   "cell_type": "code",
   "execution_count": null,
   "metadata": {},
   "outputs": [],
   "source": [
    "def generate(numRows):\n",
    "        \"\"\"\n",
    "        :type numRows: int\n",
    "        :rtype: List[List[int]]\n",
    "        \"\"\"\n",
    "        #solution 3\n",
    "        \n",
    "        ret=[[1]]\n",
    "        for i in range(1,numRows):\n",
    "            ret+=[list(map(lambda a,b:a+b,[0]+ret[i-1],ret[i-1]+[0]))]\n",
    "        return ret\n",
    "    \n",
    "        #solution 2\n",
    "        \n",
    "#         ret=[[1]]\n",
    "#         for i in range(1,numRows):\n",
    "#             temp1=[0]+ret[-1]\n",
    "#             temp2=ret[-1]+[0]\n",
    "#             a=[]\n",
    "#             for j in range(len(temp1)):\n",
    "#                 a+=[temp1[j]+temp2[j]]\n",
    "#             ret+=[a]\n",
    "#         return ret\n",
    "                \n",
    "        #soultion 1\n",
    "        \n",
    "#         ret=[None]*numRows\n",
    "#         for i in range(numRows):\n",
    "#             ret[i]=[None]*(i+1)\n",
    "#             ret[i][0]=ret[i][i]=1\n",
    "#             for j in range(1,i):\n",
    "#                 ret[i][j]=ret[i-1][j-1]+ret[i-1][j]\n",
    "#         return ret"
   ]
  }
 ],
 "metadata": {
  "language_info": {
   "name": "python"
  },
  "orig_nbformat": 4
 },
 "nbformat": 4,
 "nbformat_minor": 2
}
