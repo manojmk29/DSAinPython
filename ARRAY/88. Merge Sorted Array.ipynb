{
 "cells": [
  {
   "cell_type": "code",
   "execution_count": 4,
   "metadata": {},
   "outputs": [],
   "source": [
    "class Solution:\n",
    "    def merge(self, nums1, m: int, nums2, n):\n",
    "        \"\"\"\n",
    "        Do not return anything, modify nums1 in-place instead.\n",
    "        \"\"\"\n",
    "        k=m+n\n",
    "        while(k):\n",
    "            if(not m):\n",
    "                nums1[m-1]=nums2[n-1]\n",
    "                n-=1\n",
    "                k-=1\n",
    "            elif(not n):\n",
    "                nums1[m-1]=nums1[m-1]\n",
    "                k-=1\n",
    "                m-=1\n",
    "            else:\n",
    "                if(nums1[m-1]>nums2[n-1]):\n",
    "                    nums1[k-1]=nums1[m-1]\n",
    "                    m-=1\n",
    "                    k-=1\n",
    "                else:\n",
    "                    nums1[k-1]=nums2[n-1] \n",
    "                    n-=1\n",
    "                    k-=1\n",
    "        "
   ]
  },
  {
   "cell_type": "code",
   "execution_count": null,
   "metadata": {},
   "outputs": [],
   "source": [
    "Solution().merge()"
   ]
  }
 ],
 "metadata": {
  "interpreter": {
   "hash": "e26b106e6146fa3417b08aa501d422914abd065c08ced2fc57ef114abeab93c7"
  },
  "kernelspec": {
   "display_name": "Python 3.9.6 64-bit",
   "language": "python",
   "name": "python3"
  },
  "language_info": {
   "codemirror_mode": {
    "name": "ipython",
    "version": 3
   },
   "file_extension": ".py",
   "mimetype": "text/x-python",
   "name": "python",
   "nbconvert_exporter": "python",
   "pygments_lexer": "ipython3",
   "version": "3.9.6"
  },
  "orig_nbformat": 4
 },
 "nbformat": 4,
 "nbformat_minor": 2
}
