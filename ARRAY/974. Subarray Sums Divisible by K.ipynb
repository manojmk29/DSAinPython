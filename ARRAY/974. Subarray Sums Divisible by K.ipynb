{
 "cells": [
  {
   "cell_type": "code",
   "execution_count": 2,
   "metadata": {},
   "outputs": [],
   "source": [
    "# T L E \n",
    "class Solution(object):\n",
    "    def subarraysDivByK(self, nums, k):\n",
    "        \"\"\"\n",
    "        :type nums: List[int]\n",
    "        :type k: int\n",
    "        :rtype: int\n",
    "        \"\"\"\n",
    "        ret=0\n",
    "        for i in range(len(nums)):\n",
    "            tot=0\n",
    "            for j in range(i,len(nums)):\n",
    "                tot+=nums[j]\n",
    "                if(tot%k==0):\n",
    "                    ret+=1\n",
    "        return(ret)"
   ]
  },
  {
   "cell_type": "code",
   "execution_count": 11,
   "metadata": {},
   "outputs": [
    {
     "name": "stdout",
     "output_type": "stream",
     "text": [
      "[4, 9, 9, 7, 4, 5]\n",
      "[5, 5, 3, 0, 1]\n",
      "[0, -2, -5, -4]\n",
      "[-2, -5, -4]\n",
      "[-3, -2]\n",
      "[1]\n"
     ]
    }
   ],
   "source": [
    "nums = [4,5,0,-2,-3,1]\n",
    "k = 5\n",
    "ret=[]\n",
    "c=0\n",
    "for i in range(len(nums)):\n",
    "    tot=0\n",
    "    ret=[]\n",
    "    c+=1\n",
    "    for j in range(i,len(nums)):\n",
    "        tot+=nums[j]\n",
    "        ret.append(tot)\n",
    "    print(ret)"
   ]
  },
  {
   "cell_type": "code",
   "execution_count": 17,
   "metadata": {},
   "outputs": [],
   "source": [
    "import collections\n",
    "def subarraysDivByK(A, K):\n",
    "        preSums = collections.defaultdict(int)\n",
    "        preSums[0]=1\n",
    "        s = 0\n",
    "        res = 0\n",
    "        for x in A:\n",
    "            s = (s + x) % K\n",
    "            res += preSums[s]\n",
    "            preSums[s] = preSums[s] + 1\n",
    "        return res"
   ]
  },
  {
   "cell_type": "code",
   "execution_count": 19,
   "metadata": {},
   "outputs": [
    {
     "data": {
      "text/plain": [
       "7"
      ]
     },
     "execution_count": 19,
     "metadata": {},
     "output_type": "execute_result"
    }
   ],
   "source": [
    "subarraysDivByK([4,5,0,-2,-3,1],5)"
   ]
  },
  {
   "cell_type": "code",
   "execution_count": 35,
   "metadata": {},
   "outputs": [
    {
     "data": {
      "text/plain": [
       "[0, 1, 1, 2, 1, 2]"
      ]
     },
     "execution_count": 35,
     "metadata": {},
     "output_type": "execute_result"
    }
   ],
   "source": [
    "n=5\n",
    "ret=[0]\n",
    "ptr=0\n",
    "flag=2\n",
    "for i in range(n):\n",
    "    val=ret[ptr]\n",
    "    if(flag==1):\n",
    "        ret.append(val)\n",
    "        flag+=1\n",
    "    elif(flag==2 or flag==3):\n",
    "        ret.append(val+1)\n",
    "        flag+=1\n",
    "    elif(flag==4):\n",
    "        ret.append(val+2)\n",
    "        ptr+=1\n",
    "        flag=1\n",
    "ret"
   ]
  },
  {
   "cell_type": "code",
   "execution_count": 1,
   "metadata": {},
   "outputs": [
    {
     "data": {
      "text/plain": [
       "1"
      ]
     },
     "execution_count": 1,
     "metadata": {},
     "output_type": "execute_result"
    }
   ],
   "source": [
    "1%3"
   ]
  },
  {
   "cell_type": "code",
   "execution_count": null,
   "metadata": {},
   "outputs": [],
   "source": []
  }
 ],
 "metadata": {
  "interpreter": {
   "hash": "11ad92808b9e536a1bda76e6f18576c204b1bdc67c9013f7331a2b858d211f20"
  },
  "kernelspec": {
   "display_name": "Python 3.9.6 64-bit",
   "language": "python",
   "name": "python3"
  },
  "language_info": {
   "codemirror_mode": {
    "name": "ipython",
    "version": 3
   },
   "file_extension": ".py",
   "mimetype": "text/x-python",
   "name": "python",
   "nbconvert_exporter": "python",
   "pygments_lexer": "ipython3",
   "version": "3.9.6"
  },
  "orig_nbformat": 4
 },
 "nbformat": 4,
 "nbformat_minor": 2
}
