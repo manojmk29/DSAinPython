{
 "cells": [
  {
   "cell_type": "code",
   "execution_count": 11,
   "metadata": {},
   "outputs": [],
   "source": [
    "import collections\n",
    "def longestSubstring(s,k):\n",
    "        \"\"\"\n",
    "        :type s: str\n",
    "        :type k: int\n",
    "        :rtype: int\n",
    "        \"\"\"\n",
    "        le=len(s)\n",
    "        def helper(b,e):\n",
    "            if(b<0 or e>=le):\n",
    "                return(0)\n",
    "            hmap=collections.defaultdict(int)\n",
    "            se={}\n",
    "            for i in range(b,e+1):\n",
    "                hmap[s[i]]+=1\n",
    "                if s[i] not in se:\n",
    "                    se[s[i]]=[i,i]\n",
    "                else:\n",
    "                    se[s[i]][1]=i\n",
    "            l=float(\"inf\")\n",
    "            r=-l\n",
    "            for i in hmap:\n",
    "                if(hmap[i]<k):\n",
    "                    l=min(l,se[i][0])\n",
    "                    r=max(r,se[i][1])\n",
    "            if(l==float(\"inf\")):\n",
    "                return(e-b+1)\n",
    "            else:\n",
    "                return(max(helper(b,l-1),helper(r+1,e)))\n",
    "        return(helper(0,le-1))"
   ]
  },
  {
   "cell_type": "code",
   "execution_count": 12,
   "metadata": {},
   "outputs": [
    {
     "data": {
      "text/plain": [
       "3"
      ]
     },
     "execution_count": 12,
     "metadata": {},
     "output_type": "execute_result"
    }
   ],
   "source": [
    "longestSubstring(\"aaabb\",3)"
   ]
  },
  {
   "cell_type": "code",
   "execution_count": 2,
   "metadata": {},
   "outputs": [
    {
     "data": {
      "text/plain": [
       "{1, 2, 3, 4}"
      ]
     },
     "execution_count": 2,
     "metadata": {},
     "output_type": "execute_result"
    }
   ],
   "source": [
    "a=[1,1,1,2,2,3,3,3,4]\n",
    "t=set(a)\n",
    "t"
   ]
  },
  {
   "cell_type": "code",
   "execution_count": 3,
   "metadata": {},
   "outputs": [
    {
     "data": {
      "text/plain": [
       "{'a', 'j', 'm', 'n', 'o'}"
      ]
     },
     "execution_count": 3,
     "metadata": {},
     "output_type": "execute_result"
    }
   ],
   "source": [
    "a=\"manoj\"\n",
    "t=set(a)\n",
    "t"
   ]
  },
  {
   "cell_type": "code",
   "execution_count": null,
   "metadata": {},
   "outputs": [],
   "source": []
  }
 ],
 "metadata": {
  "interpreter": {
   "hash": "11ad92808b9e536a1bda76e6f18576c204b1bdc67c9013f7331a2b858d211f20"
  },
  "kernelspec": {
   "display_name": "Python 3.9.6 64-bit",
   "language": "python",
   "name": "python3"
  },
  "language_info": {
   "codemirror_mode": {
    "name": "ipython",
    "version": 3
   },
   "file_extension": ".py",
   "mimetype": "text/x-python",
   "name": "python",
   "nbconvert_exporter": "python",
   "pygments_lexer": "ipython3",
   "version": "3.9.6"
  },
  "orig_nbformat": 4
 },
 "nbformat": 4,
 "nbformat_minor": 2
}
