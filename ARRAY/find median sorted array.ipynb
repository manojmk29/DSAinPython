{
 "cells": [
  {
   "cell_type": "code",
   "execution_count": null,
   "metadata": {},
   "outputs": [],
   "source": [
    "class Solution(object):\n",
    "    def findMedianSortedArrays(self, nums1, nums2):\n",
    "        \"\"\"\n",
    "        :type nums1: List[int]\n",
    "        :type nums2: List[int]\n",
    "        :rtype: float\n",
    "        \"\"\"\n",
    "        tot_len=len(nums1)+len(nums2)\n",
    "        odd=1\n",
    "        if(tot_len%2==0):\n",
    "            odd=0\n",
    "        arr=[]\n",
    "        i=0\n",
    "        j=0\n",
    "        while(i<len(nums1) and j<len(nums2)):\n",
    "            if(nums1[i]<nums2[j]):\n",
    "                arr.append(nums1[i])\n",
    "                i+=1\n",
    "            else:\n",
    "                arr.append(nums2[j])\n",
    "                j+=1\n",
    "        while(i<len(nums1)):\n",
    "            arr.append(nums1[i])\n",
    "            i+=1\n",
    "        while( j<len(nums2)):\n",
    "            arr.append(nums2[j])\n",
    "            j+=1\n",
    "        if(odd==1):\n",
    "            return(arr[tot_len//2])\n",
    "        else:\n",
    "            tt=(tot_len)//2\n",
    "            tot=arr[tt]+arr[tt-1]\n",
    "            return(float(tot)/2)"
   ]
  },
  {
   "cell_type": "code",
   "execution_count": null,
   "metadata": {},
   "outputs": [],
   "source": []
  }
 ],
 "metadata": {
  "language_info": {
   "name": "python"
  },
  "orig_nbformat": 4
 },
 "nbformat": 4,
 "nbformat_minor": 2
}
