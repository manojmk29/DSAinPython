{
 "cells": [
  {
   "cell_type": "code",
   "execution_count": null,
   "metadata": {},
   "outputs": [],
   "source": [
    "class Solution(object):\n",
    "    def permute(self, nums):\n",
    "        \"\"\"\n",
    "        :type nums: List[int]\n",
    "        :rtype: List[List[int]]\n",
    "        \"\"\"\n",
    "        ret=[]\n",
    "        n=len(nums)\n",
    "        def helper(nums,path):\n",
    "            if(len(path)==n):\n",
    "                ret.append(path[:])\n",
    "                return\n",
    "            for i in nums:\n",
    "                temp=[ik for ik in nums if(ik!=i)]\n",
    "                helper(temp,path+[i])\n",
    "        helper(nums,[])\n",
    "        return(ret)"
   ]
  },
  {
   "cell_type": "code",
   "execution_count": null,
   "metadata": {},
   "outputs": [],
   "source": []
  }
 ],
 "metadata": {
  "language_info": {
   "name": "python"
  },
  "orig_nbformat": 4
 },
 "nbformat": 4,
 "nbformat_minor": 2
}
