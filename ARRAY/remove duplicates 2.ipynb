{
 "cells": [
  {
   "cell_type": "code",
   "execution_count": 1,
   "metadata": {},
   "outputs": [],
   "source": [
    "class Solution(object):\n",
    "    def removeDuplicates(self, nums):\n",
    "        val=nums[0]\n",
    "        cnt=0\n",
    "        ptr=0\n",
    "        l=len(nums)\n",
    "        k=0\n",
    "        for i in range(l):\n",
    "            if(val==nums[i]):\n",
    "                cnt+=1\n",
    "            else:\n",
    "                val=nums[i]\n",
    "                cnt=1\n",
    "            if(cnt<=2):\n",
    "                nums[ptr],nums[i]=nums[i],nums[ptr]\n",
    "                ptr+=1\n",
    "        return(ptr)"
   ]
  },
  {
   "cell_type": "code",
   "execution_count": null,
   "metadata": {},
   "outputs": [],
   "source": []
  }
 ],
 "metadata": {
  "interpreter": {
   "hash": "11ad92808b9e536a1bda76e6f18576c204b1bdc67c9013f7331a2b858d211f20"
  },
  "kernelspec": {
   "display_name": "Python 3.9.6 64-bit",
   "language": "python",
   "name": "python3"
  },
  "language_info": {
   "codemirror_mode": {
    "name": "ipython",
    "version": 3
   },
   "file_extension": ".py",
   "mimetype": "text/x-python",
   "name": "python",
   "nbconvert_exporter": "python",
   "pygments_lexer": "ipython3",
   "version": "3.9.6"
  },
  "orig_nbformat": 4
 },
 "nbformat": 4,
 "nbformat_minor": 2
}
