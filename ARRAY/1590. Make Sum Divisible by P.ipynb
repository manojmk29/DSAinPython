{
 "cells": [
  {
   "cell_type": "code",
   "execution_count": 15,
   "metadata": {},
   "outputs": [],
   "source": [
    "class Solution(object):\n",
    "    def minSubarray(self, nums, p):\n",
    "        tot=sum(nums)\n",
    "        n=len(nums)\n",
    "        if(tot%p==0):\n",
    "            return(0)\n",
    "        ret=float(\"inf\")\n",
    "        prev=0\n",
    "        need=tot%p\n",
    "        hmap={0:-1}\n",
    "        for ind,val in enumerate(nums):\n",
    "            prev+=val\n",
    "            prev%=p\n",
    "            if(prev-need in hmap):\n",
    "                dist=ind-hmap[prev-need]\n",
    "                if(dist!=n):\n",
    "                    ret=min(ret,dist)\n",
    "            hmap[prev]=ind\n",
    "        return(ret if(ret!=float(\"inf\")) else -1)       "
   ]
  },
  {
   "cell_type": "code",
   "execution_count": 17,
   "metadata": {},
   "outputs": [
    {
     "data": {
      "text/plain": [
       "4"
      ]
     },
     "execution_count": 17,
     "metadata": {},
     "output_type": "execute_result"
    }
   ],
   "source": [
    "Solution().minSubarray([26,19,11,14,18,4,7,1,30,23,19,8,10,6,26,3],26)"
   ]
  },
  {
   "cell_type": "code",
   "execution_count": 4,
   "metadata": {},
   "outputs": [
    {
     "data": {
      "text/plain": [
       "225"
      ]
     },
     "execution_count": 4,
     "metadata": {},
     "output_type": "execute_result"
    }
   ],
   "source": [
    "sum([26,19,11,14,18,4,7,1,30,23,19,8,10,6,26,3])"
   ]
  },
  {
   "cell_type": "code",
   "execution_count": 21,
   "metadata": {},
   "outputs": [
    {
     "name": "stdout",
     "output_type": "stream",
     "text": [
      "{0: -1, 26: 14, 19: 10, 11: 2, 14: 3, 18: 4, 4: 5, 7: 6, 1: 7, 30: 8, 23: 9, 8: 11, 10: 12, 6: 13, 3: 15}\n",
      "[0, 19, 4, 18, 10, 14, 21, 22, 0, 23, 16, 24, 8, 14, 14, 17]\n"
     ]
    }
   ],
   "source": [
    "a=[26,19,11,14,18,4,7,1,30,23,19,8,10,6,26,3]\n",
    "prev=0\n",
    "b=[]\n",
    "need=17\n",
    "hmap={0:-1}\n",
    "for ind,i in enumerate(a):\n",
    "    prev+=i\n",
    "    prev%=26\n",
    "    hmap[i]=ind\n",
    "    b.append(prev)\n",
    "print(hmap)\n",
    "print(b)\n"
   ]
  },
  {
   "cell_type": "code",
   "execution_count": 29,
   "metadata": {},
   "outputs": [
    {
     "name": "stdout",
     "output_type": "stream",
     "text": [
      "0 --- 0\n",
      "-1 --- 4\n",
      "-2 --- 3\n",
      "-3 --- 2\n",
      "-4 --- 1\n",
      "-5 --- 0\n",
      "-6 --- 4\n",
      "-7 --- 3\n",
      "-8 --- 2\n",
      "-9 --- 1\n",
      "-10 --- 0\n",
      "-11 --- 4\n",
      "-12 --- 3\n",
      "-13 --- 2\n",
      "-14 --- 1\n",
      "-15 --- 0\n",
      "-16 --- 4\n",
      "-17 --- 3\n",
      "-18 --- 2\n",
      "-19 --- 1\n"
     ]
    }
   ],
   "source": [
    "for i in range(20):\n",
    "    print(-i,\"---\",-i%5)"
   ]
  },
  {
   "cell_type": "code",
   "execution_count": 31,
   "metadata": {},
   "outputs": [
    {
     "data": {
      "text/plain": [
       "-2"
      ]
     },
     "execution_count": 31,
     "metadata": {},
     "output_type": "execute_result"
    }
   ],
   "source": [
    "-10//5"
   ]
  },
  {
   "cell_type": "code",
   "execution_count": 14,
   "metadata": {},
   "outputs": [
    {
     "name": "stdout",
     "output_type": "stream",
     "text": [
      "2\n",
      "1\n",
      "2\n",
      "0\n",
      "3\n"
     ]
    }
   ],
   "source": [
    "arr=[6,3,17,2,3]\n",
    "prev=0\n",
    "for i in arr:\n",
    "    prev+=i\n",
    "    print(prev%4)"
   ]
  },
  {
   "cell_type": "code",
   "execution_count": 9,
   "metadata": {},
   "outputs": [
    {
     "data": {
      "text/plain": [
       "4"
      ]
     },
     "execution_count": 9,
     "metadata": {},
     "output_type": "execute_result"
    }
   ],
   "source": [
    "((5%4)+(3%4))"
   ]
  },
  {
   "cell_type": "code",
   "execution_count": 8,
   "metadata": {},
   "outputs": [
    {
     "data": {
      "text/plain": [
       "3"
      ]
     },
     "execution_count": 8,
     "metadata": {},
     "output_type": "execute_result"
    }
   ],
   "source": [
    "-17%5"
   ]
  },
  {
   "cell_type": "code",
   "execution_count": null,
   "metadata": {},
   "outputs": [],
   "source": []
  }
 ],
 "metadata": {
  "interpreter": {
   "hash": "11ad92808b9e536a1bda76e6f18576c204b1bdc67c9013f7331a2b858d211f20"
  },
  "kernelspec": {
   "display_name": "Python 3.9.6 64-bit",
   "language": "python",
   "name": "python3"
  },
  "language_info": {
   "codemirror_mode": {
    "name": "ipython",
    "version": 3
   },
   "file_extension": ".py",
   "mimetype": "text/x-python",
   "name": "python",
   "nbconvert_exporter": "python",
   "pygments_lexer": "ipython3",
   "version": "3.9.6"
  },
  "orig_nbformat": 4
 },
 "nbformat": 4,
 "nbformat_minor": 2
}
