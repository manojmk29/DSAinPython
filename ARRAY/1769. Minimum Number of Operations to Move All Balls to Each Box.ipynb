{
 "cells": [
  {
   "cell_type": "code",
   "execution_count": 9,
   "metadata": {},
   "outputs": [],
   "source": [
    "class Solution:\n",
    "    def minOperations(self, boxes: str):\n",
    "        ret=[]\n",
    "        n=len(boxes)\n",
    "        for i in range(n):\n",
    "            if(boxes[i]==\"1\"):\n",
    "                ret.append(i)\n",
    "        ar=[]\n",
    "        for i in range(n):\n",
    "            val=0\n",
    "            for j in ret:\n",
    "                val+=abs(i-j)\n",
    "            ar.append(val)\n",
    "        return(ar)\n",
    "        "
   ]
  },
  {
   "cell_type": "code",
   "execution_count": 11,
   "metadata": {},
   "outputs": [
    {
     "data": {
      "text/plain": [
       "[1, 1, 3]"
      ]
     },
     "execution_count": 11,
     "metadata": {},
     "output_type": "execute_result"
    }
   ],
   "source": [
    "Solution().minOperations(\"001011\")"
   ]
  },
  {
   "cell_type": "code",
   "execution_count": 29,
   "metadata": {},
   "outputs": [],
   "source": [
    "class Solution:\n",
    "    def minOperations(self, boxes: str):\n",
    "        n=len(boxes)\n",
    "        ret=[0 for i in range(n)]\n",
    "        one=0\n",
    "        val=0\n",
    "        for i in range(n):\n",
    "            val+=one\n",
    "            ret[i]=val\n",
    "            one+=(boxes[i]==\"1\")\n",
    "        one=0\n",
    "        val=0\n",
    "        for i in range(n-1,-1,-1):\n",
    "            val+=one\n",
    "            ret[i]+=val\n",
    "            one+=(boxes[i]==\"1\")\n",
    "        return(ret)"
   ]
  },
  {
   "cell_type": "code",
   "execution_count": 30,
   "metadata": {},
   "outputs": [
    {
     "data": {
      "text/plain": [
       "[11, 8, 5, 4, 3, 4]"
      ]
     },
     "execution_count": 30,
     "metadata": {},
     "output_type": "execute_result"
    }
   ],
   "source": [
    "Solution().minOperations(\"001011\")"
   ]
  },
  {
   "cell_type": "code",
   "execution_count": 18,
   "metadata": {},
   "outputs": [],
   "source": [
    "a=[1]\n",
    "s=1\n",
    "s+=(a[0]==1)"
   ]
  },
  {
   "cell_type": "code",
   "execution_count": 19,
   "metadata": {},
   "outputs": [
    {
     "data": {
      "text/plain": [
       "2"
      ]
     },
     "execution_count": 19,
     "metadata": {},
     "output_type": "execute_result"
    }
   ],
   "source": [
    "s"
   ]
  },
  {
   "cell_type": "code",
   "execution_count": null,
   "metadata": {},
   "outputs": [],
   "source": []
  }
 ],
 "metadata": {
  "interpreter": {
   "hash": "11ad92808b9e536a1bda76e6f18576c204b1bdc67c9013f7331a2b858d211f20"
  },
  "kernelspec": {
   "display_name": "Python 3.9.6 64-bit",
   "language": "python",
   "name": "python3"
  },
  "language_info": {
   "codemirror_mode": {
    "name": "ipython",
    "version": 3
   },
   "file_extension": ".py",
   "mimetype": "text/x-python",
   "name": "python",
   "nbconvert_exporter": "python",
   "pygments_lexer": "ipython3",
   "version": "3.9.6"
  },
  "orig_nbformat": 4
 },
 "nbformat": 4,
 "nbformat_minor": 2
}
