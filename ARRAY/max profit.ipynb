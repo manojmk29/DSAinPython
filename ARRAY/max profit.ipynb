{
 "cells": [
  {
   "cell_type": "code",
   "execution_count": null,
   "metadata": {},
   "outputs": [],
   "source": [
    "def maxProfit(self, prices):\n",
    "        \"\"\"\n",
    "        :type prices: List[int]\n",
    "        :rtype: int\n",
    "        \"\"\"\n",
    "        #method 1 o(n^2) time limit exceeded\n",
    "        \n",
    "        # max_sum=0\n",
    "        # for i in range(0,len(prices)-1):\n",
    "        #     for j in range(i+1,len(prices)):\n",
    "        #         max_sum=max(max_sum,(prices[j]-prices[i]))\n",
    "        # return max_sum\n",
    "        \n",
    "        #method 2 o(n)\n",
    "        \n",
    "        min_value=prices[0]\n",
    "        max_value=0\n",
    "        for i in range(1,len(prices)):\n",
    "            max_value=max(max_value,(prices[i]-min_value))\n",
    "            min_value=min(min_value,prices[i])\n",
    "        return max_value\n",
    "\n",
    "         #method 3\n",
    "         \n",
    "        l=0\n",
    "        r=1\n",
    "        max_val=0\n",
    "        while(r<len(prices)):\n",
    "            if(prices[l]<prices[r]):\n",
    "                max_val=max(max_val,(prices[r]-prices[l]))\n",
    "            else:\n",
    "                l=r\n",
    "            r+=1\n",
    "        return max_val\n",
    "            "
   ]
  },
  {
   "cell_type": "code",
   "execution_count": null,
   "metadata": {},
   "outputs": [],
   "source": []
  }
 ],
 "metadata": {
  "language_info": {
   "name": "python"
  },
  "orig_nbformat": 4
 },
 "nbformat": 4,
 "nbformat_minor": 2
}
