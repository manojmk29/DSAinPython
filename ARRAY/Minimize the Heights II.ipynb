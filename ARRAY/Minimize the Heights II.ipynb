{
 "cells": [
  {
   "cell_type": "code",
   "execution_count": null,
   "metadata": {},
   "outputs": [],
   "source": [
    "1,2,2,2,3,3,4,6,7,10\n",
    "0,0,0,0,0,0,0,1,2,5\n",
    "6,7,7,7,8,8,9,11,12,15\n",
    "\n",
    "6,7,7,7,8,8,9,11,2,5"
   ]
  },
  {
   "cell_type": "code",
   "execution_count": null,
   "metadata": {},
   "outputs": [],
   "source": [
    "class Solution:\n",
    "    def getMinDiff(self, arr, n, k):\n",
    "        mint=min(arr)\n",
    "        maxt=max(arr)\n",
    "        mint+=k\n",
    "        if(maxt<k):\n",
    "            maxt+=k\n",
    "        else:\n",
    "            maxt-=k\n",
    "            "
   ]
  },
  {
   "cell_type": "code",
   "execution_count": 1,
   "metadata": {},
   "outputs": [],
   "source": [
    "class Solution:\n",
    "    def getMinDiff(self, arr, n, k):\n",
    "        # code here\n",
    "        arr.sort()\n",
    "        l=0\n",
    "        r=n-1\n",
    "        ret=-float(\"inf\")\n",
    "        left=float(\"inf\")\n",
    "        right=-float(\"inf\")\n",
    "        ret=-float(\"inf\")\n",
    "        while(l<r):\n",
    "            left=arr[l]\n",
    "            right=arr[r]\n",
    "            diff=float(\"inf\")\n",
    "            for i in [-k,k]:\n",
    "                for j in [-k,k]:\n",
    "                    if(i+left>=0 and j+right>=0):\n",
    "                        diff=min(diff,abs(i+left-j-right))\n",
    "            ret=max(ret,diff)\n",
    "            l+=1\n",
    "            r-=1\n",
    "        return(ret)"
   ]
  },
  {
   "cell_type": "code",
   "execution_count": 3,
   "metadata": {},
   "outputs": [
    {
     "data": {
      "text/plain": [
       "5"
      ]
     },
     "execution_count": 3,
     "metadata": {},
     "output_type": "execute_result"
    }
   ],
   "source": [
    "Solution().getMinDiff([2,6,3,4,7,2,10,3,2,1],10,5)"
   ]
  },
  {
   "cell_type": "code",
   "execution_count": null,
   "metadata": {},
   "outputs": [],
   "source": []
  }
 ],
 "metadata": {
  "interpreter": {
   "hash": "e26b106e6146fa3417b08aa501d422914abd065c08ced2fc57ef114abeab93c7"
  },
  "kernelspec": {
   "display_name": "Python 3.9.6 64-bit",
   "language": "python",
   "name": "python3"
  },
  "language_info": {
   "codemirror_mode": {
    "name": "ipython",
    "version": 3
   },
   "file_extension": ".py",
   "mimetype": "text/x-python",
   "name": "python",
   "nbconvert_exporter": "python",
   "pygments_lexer": "ipython3",
   "version": "3.9.6"
  },
  "orig_nbformat": 4
 },
 "nbformat": 4,
 "nbformat_minor": 2
}
