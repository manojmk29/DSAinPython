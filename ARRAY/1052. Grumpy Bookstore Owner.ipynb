{
 "cells": [
  {
   "cell_type": "code",
   "execution_count": 7,
   "metadata": {},
   "outputs": [
    {
     "data": {
      "text/plain": [
       "22"
      ]
     },
     "execution_count": 7,
     "metadata": {},
     "output_type": "execute_result"
    }
   ],
   "source": [
    "class Solution(object):\n",
    "    def maxSatisfied(self, customers, grumpy, minutes):\n",
    "        \"\"\"\n",
    "        :type customers: List[int]\n",
    "        :type grumpy: List[int]\n",
    "        :type minutes: int\n",
    "        :rtype: int\n",
    "        \"\"\"\n",
    "        le=len(customers)\n",
    "        tot=0\n",
    "        for i in range(le):\n",
    "            if(not grumpy[i]):\n",
    "                tot+=customers[i]\n",
    "        ret=tot\n",
    "        l=0\n",
    "        for i in range(minutes):\n",
    "            if(grumpy[i]):\n",
    "                tot+=customers[i]\n",
    "            ret=max(ret,tot)\n",
    "        for i in range(minutes,le):\n",
    "            tot-=grumpy[l]\n",
    "            l+=1\n",
    "            if(grumpy[i]):\n",
    "                tot+=customers[i]\n",
    "            ret=max(ret,tot)\n",
    "        return(ret)\n",
    "a=Solution()\n",
    "a.maxSatisfied([2,6,6,9],[0,0,1,1],1)"
   ]
  },
  {
   "cell_type": "code",
   "execution_count": 20,
   "metadata": {},
   "outputs": [
    {
     "data": {
      "text/plain": [
       "(1, 1, 2, 2, 3, 3, 4, 4, 1)"
      ]
     },
     "execution_count": 20,
     "metadata": {},
     "output_type": "execute_result"
    }
   ],
   "source": [
    "(1,1)+(2,2)+(3,3,4,4,1)"
   ]
  },
  {
   "cell_type": "code",
   "execution_count": null,
   "metadata": {},
   "outputs": [],
   "source": []
  }
 ],
 "metadata": {
  "interpreter": {
   "hash": "11ad92808b9e536a1bda76e6f18576c204b1bdc67c9013f7331a2b858d211f20"
  },
  "kernelspec": {
   "display_name": "Python 3.9.6 64-bit",
   "language": "python",
   "name": "python3"
  },
  "language_info": {
   "codemirror_mode": {
    "name": "ipython",
    "version": 3
   },
   "file_extension": ".py",
   "mimetype": "text/x-python",
   "name": "python",
   "nbconvert_exporter": "python",
   "pygments_lexer": "ipython3",
   "version": "3.9.6"
  },
  "orig_nbformat": 4
 },
 "nbformat": 4,
 "nbformat_minor": 2
}
