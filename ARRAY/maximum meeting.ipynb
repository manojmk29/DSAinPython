{
 "cells": [
  {
   "cell_type": "code",
   "execution_count": null,
   "metadata": {},
   "outputs": [],
   "source": [
    "class Solution:\n",
    "    #Function to find the maximum number of meetings that can\n",
    "    #be performed in a meeting room.\n",
    "    def maximumMeetings(self,n,start,end):\n",
    "        # code here\n",
    "        dict=[]\n",
    "        for i in range(n):\n",
    "            dict.append((end[i],start[i]))\n",
    "        dict.sort()\n",
    "        l=-1\n",
    "        c=0\n",
    "        for i in range(n):\n",
    "            if(dict[i][1]>l):\n",
    "                c+=1\n",
    "                l=dict[i][0]\n",
    "        return(c)\n",
    "a=Solution()\n",
    "n=6\n",
    "start=[1,3,0,5,8,5]\n",
    "end=[2,4,6,7,9,9]\n",
    "print(a.maximumMeetings(n,start,end))"
   ]
  }
 ],
 "metadata": {
  "language_info": {
   "name": "python"
  },
  "orig_nbformat": 4
 },
 "nbformat": 4,
 "nbformat_minor": 2
}
