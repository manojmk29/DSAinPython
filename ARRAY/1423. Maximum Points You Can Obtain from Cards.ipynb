{
 "cells": [
  {
   "cell_type": "code",
   "execution_count": 1,
   "metadata": {},
   "outputs": [],
   "source": [
    "class Solution(object):\n",
    "    def maxScore(self, cardPoints, k):\n",
    "        \"\"\"\n",
    "        :type cardPoints: List[int]\n",
    "        :type k: int\n",
    "        :rtype: int\n",
    "        \"\"\"\n",
    "        n=len(cardPoints)\n",
    "        def helper(l,r,tot,ptr):\n",
    "            if(l<0 or l>=n or r<0 or r>=n or ptr<=0):\n",
    "                return(tot)\n",
    "            return(max(helper(l+1,r,tot+cardPoints[l],ptr-1),helper(l,r-1,tot+cardPoints[r],ptr-1)))\n",
    "        return(helper(0,n-1,0,k))"
   ]
  },
  {
   "cell_type": "code",
   "execution_count": 2,
   "metadata": {},
   "outputs": [
    {
     "data": {
      "text/plain": [
       "367"
      ]
     },
     "execution_count": 2,
     "metadata": {},
     "output_type": "execute_result"
    }
   ],
   "source": [
    "a=[11,49,100,20,86,29,72]\n",
    "k=4\n",
    "sum(a)"
   ]
  },
  {
   "cell_type": "code",
   "execution_count": 3,
   "metadata": {},
   "outputs": [],
   "source": [
    "class Solution(object):\n",
    "    def maxScore(self, cardPoints, k):\n",
    "        \"\"\"\n",
    "        :type cardPoints: List[int]\n",
    "        :type k: int\n",
    "        :rtype: int\n",
    "        \"\"\"\n",
    "        n=len(cardPoints)\n",
    "        tot=sum(cardPoints)\n",
    "        temp=0\n",
    "        for i in range(n-k):\n",
    "            temp+=cardPoints[i]\n",
    "        l=0\n",
    "        val=temp\n",
    "        for i in range(n-k,n):\n",
    "            val-=cardPoints[l]\n",
    "            val+=cardPoints[i]\n",
    "            l+=1\n",
    "            temp=min(val,temp)\n",
    "        return(tot-temp)"
   ]
  },
  {
   "cell_type": "code",
   "execution_count": 5,
   "metadata": {},
   "outputs": [
    {
     "data": {
      "text/plain": [
       "16"
      ]
     },
     "execution_count": 5,
     "metadata": {},
     "output_type": "execute_result"
    }
   ],
   "source": [
    "Solution().maxScore([1,2,3,4,5,6,1],3)"
   ]
  },
  {
   "cell_type": "code",
   "execution_count": 6,
   "metadata": {},
   "outputs": [
    {
     "data": {
      "text/plain": [
       "4"
      ]
     },
     "execution_count": 6,
     "metadata": {},
     "output_type": "execute_result"
    }
   ],
   "source": []
  },
  {
   "cell_type": "code",
   "execution_count": null,
   "metadata": {},
   "outputs": [],
   "source": []
  }
 ],
 "metadata": {
  "interpreter": {
   "hash": "11ad92808b9e536a1bda76e6f18576c204b1bdc67c9013f7331a2b858d211f20"
  },
  "kernelspec": {
   "display_name": "Python 3.9.6 64-bit",
   "language": "python",
   "name": "python3"
  },
  "language_info": {
   "codemirror_mode": {
    "name": "ipython",
    "version": 3
   },
   "file_extension": ".py",
   "mimetype": "text/x-python",
   "name": "python",
   "nbconvert_exporter": "python",
   "pygments_lexer": "ipython3",
   "version": "3.9.6"
  },
  "orig_nbformat": 4
 },
 "nbformat": 4,
 "nbformat_minor": 2
}
