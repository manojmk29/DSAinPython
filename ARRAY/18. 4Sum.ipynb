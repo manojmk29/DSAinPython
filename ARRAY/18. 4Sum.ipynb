{
 "cells": [
  {
   "cell_type": "code",
   "execution_count": 5,
   "metadata": {},
   "outputs": [],
   "source": [
    "class Solution:\n",
    "    def fourSum(self, nums, target: int):\n",
    "        nums.sort()\n",
    "        ret=[]\n",
    "        n=len(nums)\n",
    "        if(n<4):\n",
    "            return([])\n",
    "        if(n==4):\n",
    "            return [nums] if sum(nums)==target else []\n",
    "        p=0\n",
    "        while(p<n-3):\n",
    "            q=p+1\n",
    "            while(q<n-2):\n",
    "                tot=nums[p]+nums[q]\n",
    "                r=q+1\n",
    "                s=n-1\n",
    "                while(r<s):\n",
    "                    val=tot+nums[r]+nums[s]\n",
    "                    if(val>target):\n",
    "                        s-=1\n",
    "                    elif(val<target):\n",
    "                        r+=1\n",
    "                    else:\n",
    "                        ret.append([nums[p],nums[q],nums[r],nums[s]])\n",
    "                        rval=nums[r]\n",
    "                        while(r<n and nums[r]==rval):\n",
    "                            r+=1\n",
    "                        sval=nums[s]\n",
    "                        while(s>=0 and nums[s]==sval):\n",
    "                            s-=1\n",
    "                qval=nums[q]\n",
    "                while(q<n and nums[q]==qval):\n",
    "                    q+=1\n",
    "            pval=nums[p]\n",
    "            while(p<n and nums[p]==pval):\n",
    "                p+=1\n",
    "        return(ret) "
   ]
  },
  {
   "cell_type": "code",
   "execution_count": 6,
   "metadata": {},
   "outputs": [
    {
     "data": {
      "text/plain": [
       "[[-5, -4, -3, 1]]"
      ]
     },
     "execution_count": 6,
     "metadata": {},
     "output_type": "execute_result"
    }
   ],
   "source": [
    "Solution().fourSum([1,-2,-5,-4,-3,3,3,5],-11)"
   ]
  },
  {
   "cell_type": "code",
   "execution_count": null,
   "metadata": {},
   "outputs": [],
   "source": []
  }
 ],
 "metadata": {
  "interpreter": {
   "hash": "e26b106e6146fa3417b08aa501d422914abd065c08ced2fc57ef114abeab93c7"
  },
  "kernelspec": {
   "display_name": "Python 3.9.6 64-bit",
   "language": "python",
   "name": "python3"
  },
  "language_info": {
   "codemirror_mode": {
    "name": "ipython",
    "version": 3
   },
   "file_extension": ".py",
   "mimetype": "text/x-python",
   "name": "python",
   "nbconvert_exporter": "python",
   "pygments_lexer": "ipython3",
   "version": "3.9.6"
  },
  "orig_nbformat": 4
 },
 "nbformat": 4,
 "nbformat_minor": 2
}
