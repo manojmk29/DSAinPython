{
 "cells": [
  {
   "cell_type": "code",
   "execution_count": null,
   "metadata": {},
   "outputs": [],
   "source": [
    "class Solution:    \n",
    "    #Function to find the minimum number of platforms required at the\n",
    "    #railway station such that no train waits.\n",
    "    def minimumPlatform(self,n,arr,dep):\n",
    "        t=[]\n",
    "        for i in range(n):\n",
    "            t.append((arr[i],dep[i]))\n",
    "        c=1\n",
    "        mint=t[0][1]\n",
    "        for i in range(1,n):\n",
    "            val=t[i][0]\n",
    "            if(val<mint):\n",
    "                c+=1\n",
    "                mint=min(mint,t[i][1])\n",
    "            else:\n",
    "                mint=t[i][1]\n",
    "        return(c)\n",
    "a=Solution()\n",
    "arr=[900,940,950,1100,1500,1800]\n",
    "dep=[910,1200,1120,1130,1900,2000]\n",
    "n=6\n",
    "aa=a.minimumPlatform(n,arr,dep)\n",
    "print(aa)"
   ]
  }
 ],
 "metadata": {
  "language_info": {
   "name": "python"
  },
  "orig_nbformat": 4
 },
 "nbformat": 4,
 "nbformat_minor": 2
}
