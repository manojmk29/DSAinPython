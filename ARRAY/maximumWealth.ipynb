{
 "cells": [
  {
   "cell_type": "code",
   "execution_count": null,
   "metadata": {},
   "outputs": [],
   "source": [
    "class Solution(object):\n",
    "    def maximumWealth(self, accounts):\n",
    "        \"\"\"\n",
    "        :type accounts: List[List[int]]\n",
    "        :rtype: int\n",
    "        \"\"\"\n",
    "        r=len(accounts)\n",
    "        c=len(accounts[0])\n",
    "        ret=0\n",
    "        for i in range(r):\n",
    "            w=0\n",
    "            for j in range(c):\n",
    "                w+=accounts[i][j]\n",
    "            ret=max(ret,w)\n",
    "        return(ret)\n",
    "            "
   ]
  },
  {
   "cell_type": "code",
   "execution_count": null,
   "metadata": {},
   "outputs": [],
   "source": []
  }
 ],
 "metadata": {
  "language_info": {
   "name": "python"
  },
  "orig_nbformat": 4
 },
 "nbformat": 4,
 "nbformat_minor": 2
}
