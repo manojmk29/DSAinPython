{
 "cells": [
  {
   "cell_type": "code",
   "execution_count": null,
   "metadata": {},
   "outputs": [],
   "source": [
    "class Solution(object):\n",
    "    def countPoints(self, points, queries):\n",
    "        \"\"\"\n",
    "        :type points: List[List[int]]\n",
    "        :type queries: List[List[int]]\n",
    "        :rtype: List[int]\n",
    "        \"\"\"\n",
    "        ret=[]\n",
    "        for i in queries:\n",
    "            l=i[0]+i[2]\n",
    "            r=i[1]+i[2]\n",
    "            out=0\n",
    "            for j in points:\n",
    "                dist=sqrt(pow(i[0]-j[0],2)+pow(i[1]-j[1],2))\n",
    "                if(dist<=i[2]):\n",
    "                    out+=1\n",
    "            ret.append(out)\n",
    "        return(ret)\n",
    "            "
   ]
  },
  {
   "cell_type": "code",
   "execution_count": null,
   "metadata": {},
   "outputs": [],
   "source": [
    "\"\"\"\n",
    "euclidean distance \n",
    "\n",
    "(x1,y1) (x2,y2) = sqrt ( pow((x1-x2),2) + pow((y1-y2),2))\n",
    "\n",
    "\n",
    "manhattan distance\n",
    "\n",
    "(x1,y1) (x2,y2) =  (abs(x1-x2) + abs(y1-y2))\n",
    "\"\"\""
   ]
  },
  {
   "cell_type": "code",
   "execution_count": 1,
   "metadata": {},
   "outputs": [
    {
     "data": {
      "text/plain": [
       "2"
      ]
     },
     "execution_count": 1,
     "metadata": {},
     "output_type": "execute_result"
    }
   ],
   "source": [
    "abs(-2)"
   ]
  },
  {
   "cell_type": "code",
   "execution_count": null,
   "metadata": {},
   "outputs": [],
   "source": []
  }
 ],
 "metadata": {
  "interpreter": {
   "hash": "11ad92808b9e536a1bda76e6f18576c204b1bdc67c9013f7331a2b858d211f20"
  },
  "kernelspec": {
   "display_name": "Python 3.9.6 64-bit",
   "language": "python",
   "name": "python3"
  },
  "language_info": {
   "codemirror_mode": {
    "name": "ipython",
    "version": 3
   },
   "file_extension": ".py",
   "mimetype": "text/x-python",
   "name": "python",
   "nbconvert_exporter": "python",
   "pygments_lexer": "ipython3",
   "version": "3.9.6"
  },
  "orig_nbformat": 4
 },
 "nbformat": 4,
 "nbformat_minor": 2
}
