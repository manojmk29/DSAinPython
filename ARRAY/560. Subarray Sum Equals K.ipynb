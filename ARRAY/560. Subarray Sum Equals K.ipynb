{
 "cells": [
  {
   "cell_type": "code",
   "execution_count": 2,
   "metadata": {},
   "outputs": [],
   "source": [
    "class Solution(object):\n",
    "    def subarraySum(self, nums, k):\n",
    "        \"\"\"\n",
    "        :type nums: List[int]\n",
    "        :type k: int\n",
    "        :rtype: int\n",
    "        \"\"\"        \n",
    "        count=0\n",
    "        for i in range(len(nums)):\n",
    "            for j in range(i+1,len(nums)+1):\n",
    "                if(sum(nums[i:j])==k):\n",
    "                    count+=1\n",
    "        return(count)"
   ]
  },
  {
   "cell_type": "code",
   "execution_count": 3,
   "metadata": {},
   "outputs": [],
   "source": [
    "class Solution(object):\n",
    "    def subarraySum(self, nums, k):\n",
    "        \"\"\"\n",
    "        :type nums: List[int]\n",
    "        :type k: int\n",
    "        :rtype: int\n",
    "        \"\"\"        \n",
    "        dic={}\n",
    "        total=0\n",
    "        count=0\n",
    "        dic[0]=1\n",
    "        for i in range(len(nums)):\n",
    "            total+=nums[i]\n",
    "            if((total-k) in dic):\n",
    "                count+=dic[total-k]\n",
    "            if(total in dic):\n",
    "                dic[total]+=1\n",
    "            else:\n",
    "                dic[total]=1\n",
    "        return(count)"
   ]
  },
  {
   "cell_type": "code",
   "execution_count": 11,
   "metadata": {},
   "outputs": [
    {
     "data": {
      "text/plain": [
       "3"
      ]
     },
     "execution_count": 11,
     "metadata": {},
     "output_type": "execute_result"
    }
   ],
   "source": [
    "def func(arr,kk):\n",
    "    n=len(arr)\n",
    "    ret=0\n",
    "    for i in range(n):\n",
    "        for j in range(i+1,n):\n",
    "            tot=0\n",
    "            for k in range(i,j+1):\n",
    "                tot+=arr[k]\n",
    "                if(tot==kk):\n",
    "                    ret+=1\n",
    "    return(ret)\n",
    "arr=[1,1,1]\n",
    "k=2\n",
    "func(arr,k)"
   ]
  },
  {
   "cell_type": "code",
   "execution_count": 14,
   "metadata": {},
   "outputs": [
    {
     "data": {
      "text/plain": [
       "[1, 3, 6]"
      ]
     },
     "execution_count": 14,
     "metadata": {},
     "output_type": "execute_result"
    }
   ],
   "source": [
    "def func(arr,kk):\n",
    "    n=len(arr)\n",
    "    ret=0\n",
    "    prev=0\n",
    "    temp=[]\n",
    "    for i in arr:\n",
    "        prev+=i\n",
    "        temp.append(prev)\n",
    "    return(temp)\n",
    "arr=[1,2,3]\n",
    "k=3\n",
    "func(arr,k)"
   ]
  }
 ],
 "metadata": {
  "interpreter": {
   "hash": "11ad92808b9e536a1bda76e6f18576c204b1bdc67c9013f7331a2b858d211f20"
  },
  "kernelspec": {
   "display_name": "Python 3.9.6 64-bit",
   "language": "python",
   "name": "python3"
  },
  "language_info": {
   "codemirror_mode": {
    "name": "ipython",
    "version": 3
   },
   "file_extension": ".py",
   "mimetype": "text/x-python",
   "name": "python",
   "nbconvert_exporter": "python",
   "pygments_lexer": "ipython3",
   "version": "3.9.6"
  },
  "orig_nbformat": 4
 },
 "nbformat": 4,
 "nbformat_minor": 2
}
