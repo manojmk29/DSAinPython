{
 "cells": [
  {
   "cell_type": "code",
   "execution_count": 14,
   "metadata": {},
   "outputs": [],
   "source": [
    "class Solution:\n",
    "    def sortedSquares(self, arr):\n",
    "        n=br=len(arr)\n",
    "        for i in range(len(arr)):\n",
    "            if(br==len(arr) and arr[i]>=0):\n",
    "                br=i\n",
    "            arr[i]=arr[i]*arr[i]\n",
    "        pos=[]\n",
    "        neg=[]\n",
    "        ret=[]\n",
    "        for i in range(br,n):\n",
    "            pos.append(arr[i])\n",
    "        for i in range(br):\n",
    "            neg.append(arr[i])\n",
    "        neg=neg[::-1]\n",
    "        nn=len(neg)\n",
    "        np=len(pos)\n",
    "        i=j=0\n",
    "        while(i<nn and j<np):\n",
    "            if(neg[i]>pos[j]):\n",
    "                ret.append(pos[j])\n",
    "                j+=1\n",
    "            else:\n",
    "                ret.append(neg[i])\n",
    "                i+=1\n",
    "        while(i<nn):\n",
    "            ret.append(neg[i])\n",
    "            i+=1\n",
    "        while(j<np):\n",
    "            ret.append(pos[j])\n",
    "            j+=1\n",
    "        return(ret)\n",
    "            "
   ]
  },
  {
   "cell_type": "code",
   "execution_count": 15,
   "metadata": {},
   "outputs": [
    {
     "data": {
      "text/plain": [
       "[0, 1, 9, 16, 100]"
      ]
     },
     "execution_count": 15,
     "metadata": {},
     "output_type": "execute_result"
    }
   ],
   "source": [
    "nums = [-4,-1,0,3,10]\n",
    "Solution().sortedSquares(nums)"
   ]
  },
  {
   "cell_type": "code",
   "execution_count": null,
   "metadata": {},
   "outputs": [],
   "source": []
  }
 ],
 "metadata": {
  "interpreter": {
   "hash": "e26b106e6146fa3417b08aa501d422914abd065c08ced2fc57ef114abeab93c7"
  },
  "kernelspec": {
   "display_name": "Python 3.9.6 64-bit",
   "language": "python",
   "name": "python3"
  },
  "language_info": {
   "codemirror_mode": {
    "name": "ipython",
    "version": 3
   },
   "file_extension": ".py",
   "mimetype": "text/x-python",
   "name": "python",
   "nbconvert_exporter": "python",
   "pygments_lexer": "ipython3",
   "version": "3.9.6"
  },
  "orig_nbformat": 4
 },
 "nbformat": 4,
 "nbformat_minor": 2
}
