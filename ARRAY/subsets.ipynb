{
 "cells": [
  {
   "cell_type": "code",
   "execution_count": null,
   "metadata": {},
   "outputs": [],
   "source": [
    "nums=[1,2,3]\n",
    "ans=[]\n",
    "first=[]\n",
    "n=len(nums)\n",
    "def helper(pos,arr,ans):\n",
    "    if(pos==n):\n",
    "        ans+=[arr]\n",
    "        return\n",
    "    arr+=[nums[pos]]\n",
    "    helper(pos+1,arr,ans)\n",
    "    arr.pop()\n",
    "    helper(pos+1,arr,ans)\n",
    "helper(0,first,ans)\n",
    "print(ans)"
   ]
  },
  {
   "cell_type": "code",
   "execution_count": null,
   "metadata": {},
   "outputs": [],
   "source": [
    "class Solution():\n",
    "    def subsets(self,nums):\n",
    "        \"\"\"\n",
    "        :type nums: List[int]\n",
    "        :rtype: List[List[int]]\n",
    "        \"\"\"\n",
    "        ans=[]\n",
    "        first=[]\n",
    "        n=len(nums)\n",
    "        def helper(pos,arr):\n",
    "            if(pos==n):\n",
    "                ans.append(arr[:])\n",
    "                return\n",
    "            helper(pos+1,arr[:])\n",
    "            arr+=[nums[pos]]\n",
    "            helper(pos+1,arr[:])\n",
    "        helper(0,first)\n",
    "        return(ans)\n",
    "o=Solution()\n",
    "print(o.subsets([1,2,3]))"
   ]
  },
  {
   "cell_type": "code",
   "execution_count": null,
   "metadata": {},
   "outputs": [],
   "source": [
    "def subsets(nums,res=[[]],pos=0):\n",
    "        \"\"\"\n",
    "        :type nums: List[int]\n",
    "        :rtype: List[List[int]]\n",
    "        \"\"\"\n",
    "        if(pos<len(nums)):\n",
    "            num=nums[pos]\n",
    "            arr=[]\n",
    "            for i in res:\n",
    "                arr.append(i+[num])\n",
    "            res+=arr\n",
    "            return(subsets(nums,res,pos+1))\n",
    "        else:\n",
    "            return(res)\n",
    "print(subsets([0]))"
   ]
  },
  {
   "cell_type": "code",
   "execution_count": null,
   "metadata": {},
   "outputs": [],
   "source": []
  }
 ],
 "metadata": {
  "language_info": {
   "name": "python"
  },
  "orig_nbformat": 4
 },
 "nbformat": 4,
 "nbformat_minor": 2
}
