{
 "cells": [
  {
   "cell_type": "code",
   "execution_count": null,
   "metadata": {},
   "outputs": [],
   "source": [
    "nums=[1,2,3]\n",
    "ans=[]\n",
    "first=[]\n",
    "n=len(nums)\n",
    "def helper(pos,arr,ans):\n",
    "    if(pos==n):\n",
    "        ans+=[arr]\n",
    "        return\n",
    "    arr+=[nums[pos]]\n",
    "    helper(pos+1,arr,ans)\n",
    "    arr.pop()\n",
    "    helper(pos+1,arr,ans)\n",
    "helper(0,first,ans)\n",
    "print(ans)"
   ]
  },
  {
   "cell_type": "code",
   "execution_count": null,
   "metadata": {},
   "outputs": [],
   "source": [
    "class Solution():\n",
    "    def subsets(self,nums):\n",
    "        \"\"\"\n",
    "        :type nums: List[int]\n",
    "        :rtype: List[List[int]]\n",
    "        \"\"\"\n",
    "        ans=[]\n",
    "        first=[]\n",
    "        n=len(nums)\n",
    "        def helper(pos,arr):\n",
    "            if(pos==n):\n",
    "                ans.append(arr[:])\n",
    "                return\n",
    "            helper(pos+1,arr[:])\n",
    "            arr+=[nums[pos]]\n",
    "            helper(pos+1,arr[:])\n",
    "        helper(0,first)\n",
    "        return(ans)\n",
    "o=Solution()\n",
    "print(o.subsets([1,2,3]))"
   ]
  },
  {
   "cell_type": "code",
   "execution_count": null,
   "metadata": {},
   "outputs": [],
   "source": [
    "def subsets(nums,res=[[]],pos=0):\n",
    "        \"\"\"\n",
    "        :type nums: List[int]\n",
    "        :rtype: List[List[int]]\n",
    "        \"\"\"\n",
    "        if(pos<len(nums)):\n",
    "            num=nums[pos]\n",
    "            arr=[]\n",
    "            for i in res:\n",
    "                arr.append(i+[num])\n",
    "            res+=arr\n",
    "            return(subsets(nums,res,pos+1))\n",
    "        else:\n",
    "            return(res)\n",
    "print(subsets([0]))"
   ]
  },
  {
   "cell_type": "code",
   "execution_count": 5,
   "metadata": {},
   "outputs": [],
   "source": [
    "from bisect import *"
   ]
  },
  {
   "cell_type": "code",
   "execution_count": 16,
   "metadata": {},
   "outputs": [],
   "source": [
    "li = [1, 3, 4, 4, 4, 6, 7]"
   ]
  },
  {
   "cell_type": "code",
   "execution_count": 23,
   "metadata": {},
   "outputs": [
    {
     "data": {
      "text/plain": [
       "5"
      ]
     },
     "execution_count": 23,
     "metadata": {},
     "output_type": "execute_result"
    }
   ],
   "source": [
    "bisect_left(li,5)"
   ]
  },
  {
   "cell_type": "code",
   "execution_count": 31,
   "metadata": {},
   "outputs": [
    {
     "name": "stdout",
     "output_type": "stream",
     "text": [
      "6\n"
     ]
    }
   ],
   "source": [
    "inp=4623\n",
    "l=[2000,1000,500,100,50,20,10,5,2,1]\n",
    "ret=0\n",
    "t=0\n",
    "while(inp>0):\n",
    "    if(inp>=l[t]):\n",
    "        val=(inp//l[t])\n",
    "        ret+=val\n",
    "        inp-=(val*l[t])\n",
    "        t+=1\n",
    "    else:\n",
    "        t+=1\n",
    "print(ret)\n"
   ]
  },
  {
   "cell_type": "code",
   "execution_count": null,
   "metadata": {},
   "outputs": [],
   "source": []
  }
 ],
 "metadata": {
  "interpreter": {
   "hash": "11ad92808b9e536a1bda76e6f18576c204b1bdc67c9013f7331a2b858d211f20"
  },
  "kernelspec": {
   "display_name": "Python 3.9.6 64-bit",
   "language": "python",
   "name": "python3"
  },
  "language_info": {
   "codemirror_mode": {
    "name": "ipython",
    "version": 3
   },
   "file_extension": ".py",
   "mimetype": "text/x-python",
   "name": "python",
   "nbconvert_exporter": "python",
   "pygments_lexer": "ipython3",
   "version": "3.9.6"
  },
  "orig_nbformat": 4
 },
 "nbformat": 4,
 "nbformat_minor": 2
}
