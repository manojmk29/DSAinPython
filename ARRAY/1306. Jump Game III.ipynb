{
 "cells": [
  {
   "cell_type": "code",
   "execution_count": null,
   "metadata": {},
   "outputs": [],
   "source": [
    "class Solution(object):\n",
    "    def canReach(self, arr, start):\n",
    "        \"\"\"\n",
    "        :type arr: List[int]\n",
    "        :type start: int\n",
    "        :rtype: bool\n",
    "        \"\"\"\n",
    "        n=len(arr)\n",
    "        f=[0 for i in range(len(arr))]\n",
    "        def helper(start):\n",
    "            if(start>n-1 or start<0 or f[start]==1):\n",
    "                return(False)\n",
    "            if(arr[start]==0):\n",
    "                return(True)\n",
    "            f[start]=1\n",
    "            return(helper(start+arr[start]) or helper(start-arr[start]))\n",
    "        return(helper(start))\n",
    "        \n",
    "            \n",
    "        "
   ]
  }
 ],
 "metadata": {
  "language_info": {
   "name": "python"
  },
  "orig_nbformat": 4
 },
 "nbformat": 4,
 "nbformat_minor": 2
}
