{
 "cells": [
  {
   "cell_type": "code",
   "execution_count": 10,
   "metadata": {},
   "outputs": [],
   "source": [
    "import collections\n",
    "a=collections.defaultdict(dict)\n",
    "a[1]={1:2,3:4,5:6}"
   ]
  },
  {
   "cell_type": "code",
   "execution_count": 35,
   "metadata": {},
   "outputs": [
    {
     "data": {
      "text/plain": [
       "['alice,50,100,beijing', 'alice,20,800,mtv']"
      ]
     },
     "execution_count": 35,
     "metadata": {},
     "output_type": "execute_result"
    }
   ],
   "source": [
    "class Solution(object):\n",
    "    def invalidTransactions(self, transactions):\n",
    "        \"\"\"\n",
    "        :type transactions: List[str]\n",
    "        :rtype: List[str]\n",
    "        \"\"\"\n",
    "        n=len(transactions)\n",
    "        name=[]\n",
    "        time=[]\n",
    "        amount=[]\n",
    "        place=[]\n",
    "        for i in range(n):\n",
    "            arr=transactions[i].split(\",\")\n",
    "            name.append(arr[0])\n",
    "            time.append(arr[1])\n",
    "            amount.append(arr[2])\n",
    "            place.append(arr[3])\n",
    "        ret=[]\n",
    "        ind=set()\n",
    "        for i in range(n):\n",
    "            if(int(amount[i])>=1000 and i not in ind):\n",
    "                ret.append(\",\".join([name[i],time[i],amount[i],place[i]]))\n",
    "                ind.add(i)\n",
    "            for j in range(n):\n",
    "                if(j!=i):\n",
    "                    if(name[i]==name[j] and place[i]!=place[j] and int(time[j])<=int(time[i])+60 and int(time[j])>=int(time[i])-60):\n",
    "                        if j not in ind:\n",
    "                            ret.append(\",\".join([name[j],time[j],amount[j],place[j]]))\n",
    "                            ind.add(j)\n",
    "                        if(i not in ind):\n",
    "                            ret.append(\",\".join([name[i],time[i],amount[i],place[i]]))\n",
    "                            ind.add(i)\n",
    "        return(ret)\n",
    "a=Solution()\n",
    "tr=[\"alice,20,800,mtv\",\"alice,50,100,beijing\"]\n",
    "a.invalidTransactions(tr)"
   ]
  },
  {
   "cell_type": "code",
   "execution_count": 21,
   "metadata": {},
   "outputs": [
    {
     "data": {
      "text/plain": [
       "['alice', 'alice']"
      ]
     },
     "execution_count": 21,
     "metadata": {},
     "output_type": "execute_result"
    }
   ],
   "source": [
    "transactions=[\"alice,20,800,mtv\",\"alice,50,100,beijing\"]\n",
    "n=len(transactions)\n",
    "name=[]\n",
    "time=[]\n",
    "amount=[]\n",
    "place=[]\n",
    "for i in range(n):\n",
    "    arr=transactions[i].split(\",\")\n",
    "    name.append(arr[0])\n",
    "    time.append(arr[1])\n",
    "    amount.append(arr[2])\n",
    "    place.append(arr[3])\n"
   ]
  },
  {
   "cell_type": "code",
   "execution_count": 43,
   "metadata": {},
   "outputs": [
    {
     "data": {
      "text/plain": [
       "['alice,20,80,mtv', 'manoj,50,1,beijing', 'alice,50,100,beijing']"
      ]
     },
     "execution_count": 43,
     "metadata": {},
     "output_type": "execute_result"
    }
   ],
   "source": [
    "tr=[\"alice,20,80,mtv\",\"alice,50,100,beijing\",\"manoj,50,1,beijing\"]\n",
    "a=lambda x: (int(x.split(\",\")[1]),)\n",
    "tr.sort(key=a)\n",
    "tr"
   ]
  },
  {
   "cell_type": "code",
   "execution_count": 58,
   "metadata": {},
   "outputs": [
    {
     "name": "stdout",
     "output_type": "stream",
     "text": [
      "2\n"
     ]
    }
   ],
   "source": [
    "tr=[1,2]\n",
    "for i in range(1,2):\n",
    "    print(tr[i])"
   ]
  },
  {
   "cell_type": "code",
   "execution_count": 55,
   "metadata": {},
   "outputs": [
    {
     "name": "stdout",
     "output_type": "stream",
     "text": [
      "alice 20 800 mtv\n",
      "alice 50 100 beijing\n"
     ]
    }
   ],
   "source": [
    "s = [\"alice,20,800,mtv\",\"alice,50,100,beijing\"]\n",
    "for i in s:\n",
    "    g(*i.split(\",\"))"
   ]
  },
  {
   "cell_type": "code",
   "execution_count": 52,
   "metadata": {},
   "outputs": [],
   "source": [
    "def g(a,b,c,d):\n",
    "    print(a,b,c,d)"
   ]
  },
  {
   "cell_type": "code",
   "execution_count": 57,
   "metadata": {},
   "outputs": [
    {
     "name": "stdout",
     "output_type": "stream",
     "text": [
      "1 2 3 4\n"
     ]
    }
   ],
   "source": [
    "g(*[1,2,3,4])"
   ]
  },
  {
   "cell_type": "code",
   "execution_count": 5,
   "metadata": {},
   "outputs": [
    {
     "data": {
      "text/plain": [
       "{1: 2, 3: 4, 6: 7}"
      ]
     },
     "execution_count": 5,
     "metadata": {},
     "output_type": "execute_result"
    }
   ],
   "source": [
    "a={}\n",
    "a[1]=2\n",
    "a[3]=4\n",
    "a[6]=7\n",
    "a"
   ]
  },
  {
   "cell_type": "code",
   "execution_count": 12,
   "metadata": {},
   "outputs": [],
   "source": [
    "a[9][10]=99"
   ]
  },
  {
   "cell_type": "code",
   "execution_count": 14,
   "metadata": {},
   "outputs": [
    {
     "data": {
      "text/plain": [
       "99"
      ]
     },
     "execution_count": 14,
     "metadata": {},
     "output_type": "execute_result"
    }
   ],
   "source": [
    "a[9][10]"
   ]
  },
  {
   "cell_type": "code",
   "execution_count": 44,
   "metadata": {},
   "outputs": [
    {
     "ename": "SyntaxError",
     "evalue": "starred assignment target must be in a list or tuple (Temp/ipykernel_21140/1530136433.py, line 2)",
     "output_type": "error",
     "traceback": [
      "\u001b[1;36m  File \u001b[1;32m\"C:\\Users\\manoj\\AppData\\Local\\Temp/ipykernel_21140/1530136433.py\"\u001b[1;36m, line \u001b[1;32m2\u001b[0m\n\u001b[1;33m    *a=1,2,3\u001b[0m\n\u001b[1;37m    ^\u001b[0m\n\u001b[1;31mSyntaxError\u001b[0m\u001b[1;31m:\u001b[0m starred assignment target must be in a list or tuple\n"
     ]
    }
   ],
   "source": [
    "a=[1,2,3]\n",
    "*a=1,2,3"
   ]
  },
  {
   "cell_type": "code",
   "execution_count": 46,
   "metadata": {},
   "outputs": [
    {
     "data": {
      "text/plain": [
       "tuple"
      ]
     },
     "execution_count": 46,
     "metadata": {},
     "output_type": "execute_result"
    }
   ],
   "source": [
    "def a(*r):\n",
    "    return(r)\n",
    "ff=a(1,2,3,4)\n",
    "type(ff)"
   ]
  },
  {
   "cell_type": "code",
   "execution_count": null,
   "metadata": {},
   "outputs": [],
   "source": []
  }
 ],
 "metadata": {
  "interpreter": {
   "hash": "11ad92808b9e536a1bda76e6f18576c204b1bdc67c9013f7331a2b858d211f20"
  },
  "kernelspec": {
   "display_name": "Python 3.9.6 64-bit",
   "language": "python",
   "name": "python3"
  },
  "language_info": {
   "codemirror_mode": {
    "name": "ipython",
    "version": 3
   },
   "file_extension": ".py",
   "mimetype": "text/x-python",
   "name": "python",
   "nbconvert_exporter": "python",
   "pygments_lexer": "ipython3",
   "version": "3.9.6"
  },
  "orig_nbformat": 4
 },
 "nbformat": 4,
 "nbformat_minor": 2
}
