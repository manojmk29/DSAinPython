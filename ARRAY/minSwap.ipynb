{
 "cells": [
  {
   "cell_type": "code",
   "execution_count": 29,
   "metadata": {},
   "outputs": [],
   "source": [
    "def minSwap (arr, n, k) : \n",
    "    #Complete the function\n",
    "    temp=[0]\n",
    "    cur=0\n",
    "    for i in arr:\n",
    "        if i <=k:\n",
    "            cur+=1\n",
    "        temp.append(cur)\n",
    "    end=n-cur\n",
    "    ret=cur\n",
    "    for i in range(end+1):\n",
    "        val=temp[i+cur]-temp[i]\n",
    "        val=cur-val\n",
    "        ret=min(ret,val)\n",
    "    return(ret)"
   ]
  },
  {
   "cell_type": "code",
   "execution_count": 30,
   "metadata": {},
   "outputs": [
    {
     "data": {
      "text/plain": [
       "0"
      ]
     },
     "execution_count": 30,
     "metadata": {},
     "output_type": "execute_result"
    }
   ],
   "source": [
    "minSwap([19,9],2,18)"
   ]
  },
  {
   "cell_type": "code",
   "execution_count": 31,
   "metadata": {},
   "outputs": [
    {
     "data": {
      "text/plain": [
       "0"
      ]
     },
     "execution_count": 31,
     "metadata": {},
     "output_type": "execute_result"
    }
   ],
   "source": [
    "minSwap([18,5,1,11,16,10],6,1)"
   ]
  },
  {
   "cell_type": "code",
   "execution_count": 33,
   "metadata": {},
   "outputs": [],
   "source": [
    "def minSwap (arr, n, k) : \n",
    "    #Complete the function\n",
    "    cur=0\n",
    "    for i in arr:\n",
    "        if i <=k:\n",
    "            cur+=1\n",
    "    ret=cur\n",
    "    temp=0\n",
    "    l=0\n",
    "    for i in range(cur):\n",
    "        if arr[i] <=k:\n",
    "            temp+=1\n",
    "    val=cur-temp\n",
    "    ret=min(ret,val)\n",
    "    for i in range(cur,n):\n",
    "        if(arr[l]<=k):\n",
    "            temp-=1\n",
    "        l+=1\n",
    "        if(arr[i]<=k):\n",
    "            temp+=1\n",
    "        val=cur-temp\n",
    "        ret=min(ret,val)\n",
    "    return(ret)"
   ]
  },
  {
   "cell_type": "code",
   "execution_count": 35,
   "metadata": {},
   "outputs": [
    {
     "data": {
      "text/plain": [
       "0"
      ]
     },
     "execution_count": 35,
     "metadata": {},
     "output_type": "execute_result"
    }
   ],
   "source": [
    "minSwap([10,12,20,20,5,19,19,12,1,20,1],11,1)"
   ]
  },
  {
   "cell_type": "code",
   "execution_count": null,
   "metadata": {},
   "outputs": [],
   "source": []
  }
 ],
 "metadata": {
  "interpreter": {
   "hash": "e26b106e6146fa3417b08aa501d422914abd065c08ced2fc57ef114abeab93c7"
  },
  "kernelspec": {
   "display_name": "Python 3.9.6 64-bit",
   "language": "python",
   "name": "python3"
  },
  "language_info": {
   "codemirror_mode": {
    "name": "ipython",
    "version": 3
   },
   "file_extension": ".py",
   "mimetype": "text/x-python",
   "name": "python",
   "nbconvert_exporter": "python",
   "pygments_lexer": "ipython3",
   "version": "3.9.6"
  },
  "orig_nbformat": 4
 },
 "nbformat": 4,
 "nbformat_minor": 2
}
