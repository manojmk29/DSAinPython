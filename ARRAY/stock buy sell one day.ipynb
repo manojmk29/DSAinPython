{
 "cells": [
  {
   "cell_type": "code",
   "execution_count": null,
   "metadata": {},
   "outputs": [],
   "source": [
    "class Solution(object):\n",
    "    def maxProfit(self, prices):\n",
    "        \"\"\"\n",
    "        :type prices: List[int]\n",
    "        :rtype: int\n",
    "        \"\"\"\n",
    "        mint=prices[0]\n",
    "        ret=0\n",
    "        for i in range(1,len(prices)):\n",
    "            curr=prices[i]\n",
    "            ret=max(ret,curr-mint)\n",
    "            mint=min(curr,mint)\n",
    "        return(ret)"
   ]
  },
  {
   "cell_type": "code",
   "execution_count": null,
   "metadata": {},
   "outputs": [],
   "source": [
    "def maxProfit(self, prices):\n",
    "        \"\"\"\n",
    "        :type prices: List[int]\n",
    "        :rtype: int\n",
    "        \"\"\"\n",
    "        # method 1 o(n^2) time limit exceeded\n",
    "        \n",
    "        max_sum=0\n",
    "        for i in range(0,len(prices)-1):\n",
    "            for j in range(i+1,len(prices)):\n",
    "                max_sum=max(max_sum,(prices[j]-prices[i]))\n",
    "        return max_sum"
   ]
  },
  {
   "cell_type": "code",
   "execution_count": null,
   "metadata": {},
   "outputs": [],
   "source": [
    "class Solution(object):\n",
    "    def maxProfit(self, prices):\n",
    "        l=0\n",
    "        r=1\n",
    "        max_val=0\n",
    "        while(r<len(prices)):\n",
    "            if(prices[l]<prices[r]):\n",
    "                max_val=max(max_val,(prices[r]-prices[l]))\n",
    "            else:\n",
    "                l=r\n",
    "            r+=1\n",
    "        return max_val"
   ]
  },
  {
   "cell_type": "code",
   "execution_count": null,
   "metadata": {},
   "outputs": [],
   "source": []
  }
 ],
 "metadata": {
  "language_info": {
   "name": "python"
  },
  "orig_nbformat": 4
 },
 "nbformat": 4,
 "nbformat_minor": 2
}
