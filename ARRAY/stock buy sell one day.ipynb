{
 "cells": [
  {
   "cell_type": "code",
   "execution_count": 2,
   "metadata": {},
   "outputs": [
    {
     "data": {
      "text/plain": [
       "2"
      ]
     },
     "execution_count": 2,
     "metadata": {},
     "output_type": "execute_result"
    }
   ],
   "source": [
    "class Solution(object):\n",
    "    def maxProfit(self, prices):\n",
    "        \"\"\"\n",
    "        :type prices: List[int]\n",
    "        :rtype: int\n",
    "        \"\"\"\n",
    "        mint=prices[0]\n",
    "        ret=0\n",
    "        for i in range(1,len(prices)):\n",
    "            curr=prices[i]\n",
    "            ret=max(ret,curr-mint)\n",
    "            mint=min(curr,mint)\n",
    "        return(ret)\n",
    "Solution().maxProfit([1,2,3])"
   ]
  },
  {
   "cell_type": "code",
   "execution_count": null,
   "metadata": {},
   "outputs": [],
   "source": [
    "def maxProfit(self, prices):\n",
    "        \"\"\"\n",
    "        :type prices: List[int]\n",
    "        :rtype: int\n",
    "        \"\"\"\n",
    "        # method 1 o(n^2) time limit exceeded\n",
    "        \n",
    "        max_sum=0\n",
    "        for i in range(0,len(prices)-1):\n",
    "            for j in range(i+1,len(prices)):\n",
    "                max_sum=max(max_sum,(prices[j]-prices[i]))\n",
    "        return max_sum"
   ]
  },
  {
   "cell_type": "code",
   "execution_count": null,
   "metadata": {},
   "outputs": [],
   "source": [
    "class Solution(object):\n",
    "    def maxProfit(self, prices):\n",
    "        l=0\n",
    "        r=1\n",
    "        max_val=0\n",
    "        while(r<len(prices)):\n",
    "            if(prices[l]<prices[r]):\n",
    "                max_val=max(max_val,(prices[r]-prices[l]))\n",
    "            else:\n",
    "                l=r\n",
    "            r+=1\n",
    "        return max_val"
   ]
  },
  {
   "cell_type": "code",
   "execution_count": null,
   "metadata": {},
   "outputs": [],
   "source": [
    "arr=[7,1,5,3,6,4]\n",
    "l=0\n",
    "n=len(arr)\n",
    "ret=0\n",
    "for i in range(1,n):\n",
    "    if(arr[l]<arr[i]):\n",
    "        ret=max(ret,arr[i]-arr[l])\n",
    "    else:\n",
    "        l=i\n",
    "print(ret)"
   ]
  },
  {
   "cell_type": "code",
   "execution_count": 3,
   "metadata": {},
   "outputs": [
    {
     "name": "stdout",
     "output_type": "stream",
     "text": [
      "[1]\n",
      "[1, 2]\n",
      "[1, 2, 3]\n",
      "[1, 2, 3, 4]\n",
      "[1, 2, 3, 4, 5]\n",
      "[2]\n",
      "[2, 3]\n",
      "[2, 3, 4]\n",
      "[2, 3, 4, 5]\n",
      "[3]\n",
      "[3, 4]\n",
      "[3, 4, 5]\n",
      "[4]\n",
      "[4, 5]\n",
      "[5]\n"
     ]
    }
   ],
   "source": [
    "def subarray(arr):\n",
    "    n=len(arr)\n",
    "    for i in range(0,n):\n",
    "        for j in range(i+1,n+1):\n",
    "            print(arr[i:j])\n",
    "arr=[1,2,3,4,5]\n",
    "subarray(arr)"
   ]
  },
  {
   "cell_type": "code",
   "execution_count": null,
   "metadata": {},
   "outputs": [],
   "source": []
  }
 ],
 "metadata": {
  "interpreter": {
   "hash": "11ad92808b9e536a1bda76e6f18576c204b1bdc67c9013f7331a2b858d211f20"
  },
  "kernelspec": {
   "display_name": "Python 3.9.6 64-bit",
   "language": "python",
   "name": "python3"
  },
  "language_info": {
   "codemirror_mode": {
    "name": "ipython",
    "version": 3
   },
   "file_extension": ".py",
   "mimetype": "text/x-python",
   "name": "python",
   "nbconvert_exporter": "python",
   "pygments_lexer": "ipython3",
   "version": "3.9.6"
  },
  "orig_nbformat": 4
 },
 "nbformat": 4,
 "nbformat_minor": 2
}
