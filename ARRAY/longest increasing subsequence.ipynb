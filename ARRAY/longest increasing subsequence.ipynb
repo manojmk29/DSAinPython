{
 "cells": [
  {
   "cell_type": "code",
   "execution_count": 1,
   "metadata": {},
   "outputs": [],
   "source": [
    "class Solution(object):\n",
    "    def lengthOfLIS(self, nums):\n",
    "        \"\"\"\n",
    "        :type nums: List[int]\n",
    "        :rtype: int\n",
    "        \"\"\"\n",
    "        l=len(nums)\n",
    "        arr=[1]*len(nums)\n",
    "        for i in range(l-2,-1,-1):\n",
    "            for j in range(i+1,l):\n",
    "                if(nums[i]<nums[j]):\n",
    "                    arr[i]=max(arr[i],1+arr[j])\n",
    "        return(max(arr))\n",
    "        \n",
    "        \n",
    "        \n",
    "        \n",
    "        #TLE\n",
    "        \n",
    "        # self.ret=1\n",
    "        # mint=-float(\"inf\")\n",
    "        # def helper(ind,mint,count):\n",
    "        #     self.ret=max(self.ret,count)\n",
    "        #     if(ind==len(nums)):\n",
    "        #         return\n",
    "        #     val=nums[ind]\n",
    "        #     helper(ind+1,mint,count)\n",
    "        #     if(val>mint):\n",
    "        #         mint=max(mint,val)\n",
    "        #         helper(ind+1,mint,count+1)\n",
    "        #     else:\n",
    "        #         return\n",
    "        # helper(0,mint,0)\n",
    "        # return(self.ret)"
   ]
  },
  {
   "cell_type": "code",
   "execution_count": null,
   "metadata": {},
   "outputs": [],
   "source": []
  }
 ],
 "metadata": {
  "interpreter": {
   "hash": "11ad92808b9e536a1bda76e6f18576c204b1bdc67c9013f7331a2b858d211f20"
  },
  "kernelspec": {
   "display_name": "Python 3.9.6 64-bit",
   "language": "python",
   "name": "python3"
  },
  "language_info": {
   "codemirror_mode": {
    "name": "ipython",
    "version": 3
   },
   "file_extension": ".py",
   "mimetype": "text/x-python",
   "name": "python",
   "nbconvert_exporter": "python",
   "pygments_lexer": "ipython3",
   "version": "3.9.6"
  },
  "orig_nbformat": 4
 },
 "nbformat": 4,
 "nbformat_minor": 2
}
