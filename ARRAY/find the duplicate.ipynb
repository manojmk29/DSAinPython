{
 "cells": [
  {
   "cell_type": "code",
   "execution_count": null,
   "metadata": {},
   "outputs": [],
   "source": [
    "class Solution:\n",
    "    def findDuplicate(self, nums: List[int]) -> int:\n",
    "        for num in nums:\n",
    "            cur = abs(num)\n",
    "            if nums[cur] < 0:\n",
    "                duplicate = cur\n",
    "                break\n",
    "            nums[cur] = -nums[cur]\n",
    "\n",
    "        # Restore numbers\n",
    "        for i in range(len(nums)):\n",
    "            nums[i] = abs(nums[i])\n",
    "\n",
    "        return duplicate"
   ]
  },
  {
   "cell_type": "code",
   "execution_count": 8,
   "metadata": {},
   "outputs": [],
   "source": [
    "class Solution:\n",
    "    def findDuplicate(self, nums):\n",
    "        # 'low' and 'high' represent the range of values of the target\n",
    "        low = 1\n",
    "        high = len(nums) - 1\n",
    "        \n",
    "        while low <= high:\n",
    "            cur = (low + high) // 2\n",
    "            count = 0\n",
    "\n",
    "            # Count how many numbers are less than or equal to 'cur'\n",
    "            count = sum(num <= cur for num in nums)\n",
    "            if count > cur:\n",
    "                duplicate = cur\n",
    "                high = cur - 1\n",
    "            else:\n",
    "                low = cur + 1\n",
    "                \n",
    "        return duplicate"
   ]
  },
  {
   "cell_type": "code",
   "execution_count": 15,
   "metadata": {},
   "outputs": [],
   "source": [
    "def ff():\n",
    "    return(1)\n",
    "a=ff()"
   ]
  },
  {
   "cell_type": "code",
   "execution_count": 19,
   "metadata": {},
   "outputs": [
    {
     "data": {
      "text/plain": [
       "True"
      ]
     },
     "execution_count": 19,
     "metadata": {},
     "output_type": "execute_result"
    }
   ],
   "source": [
    "a!=None"
   ]
  },
  {
   "cell_type": "code",
   "execution_count": 20,
   "metadata": {},
   "outputs": [
    {
     "data": {
      "text/plain": [
       "97"
      ]
     },
     "execution_count": 20,
     "metadata": {},
     "output_type": "execute_result"
    }
   ],
   "source": [
    "ord(\"a\")"
   ]
  },
  {
   "cell_type": "code",
   "execution_count": null,
   "metadata": {},
   "outputs": [],
   "source": []
  }
 ],
 "metadata": {
  "interpreter": {
   "hash": "11ad92808b9e536a1bda76e6f18576c204b1bdc67c9013f7331a2b858d211f20"
  },
  "kernelspec": {
   "display_name": "Python 3.9.6 64-bit",
   "language": "python",
   "name": "python3"
  },
  "language_info": {
   "codemirror_mode": {
    "name": "ipython",
    "version": 3
   },
   "file_extension": ".py",
   "mimetype": "text/x-python",
   "name": "python",
   "nbconvert_exporter": "python",
   "pygments_lexer": "ipython3",
   "version": "3.9.6"
  },
  "orig_nbformat": 4
 },
 "nbformat": 4,
 "nbformat_minor": 2
}
