{
 "cells": [
  {
   "cell_type": "code",
   "execution_count": null,
   "metadata": {},
   "outputs": [],
   "source": [
    "def maxSubArray(nums):\n",
    "        \"\"\"\n",
    "        :type nums: List[int]\n",
    "        :rtype: int\n",
    "        \"\"\"\n",
    "        # kandane's algorithm\n",
    "        curr_max=nums[0]\n",
    "        global_max=nums[0]\n",
    "        for i in range(1,len(nums)):\n",
    "            curr_max=max(nums[i],curr_max+nums[i])\n",
    "            global_max=max(global_max,curr_max)\n",
    "        return global_max\n",
    "        \n",
    "        \n",
    "        \n",
    "#         max_so_far =nums[0]\n",
    "#         curr_max = nums[0]\n",
    "     \n",
    "#         for i in range(1,len(nums)):\n",
    "#             curr_max = max(nums[i], curr_max + nums[i])\n",
    "#             max_so_far = max(max_so_far,curr_max)\n",
    "         \n",
    "#         return max_so_far\n",
    "        \n",
    "        #method 1 o(n^2)\n",
    "        \n",
    "        # total=nums[0]\n",
    "        # for i in range(0,len(nums)):\n",
    "        #     t=0\n",
    "        #     for j in range(i,len(nums)):\n",
    "        #         t+=nums[j]\n",
    "        #         total=max(t,total)\n",
    "        # return total"
   ]
  }
 ],
 "metadata": {
  "language_info": {
   "name": "python"
  },
  "orig_nbformat": 4
 },
 "nbformat": 4,
 "nbformat_minor": 2
}
