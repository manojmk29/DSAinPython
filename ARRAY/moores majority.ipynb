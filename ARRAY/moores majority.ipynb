{
 "cells": [
  {
   "cell_type": "code",
   "execution_count": null,
   "metadata": {},
   "outputs": [],
   "source": [
    "def moores_majaority(nums):\n",
    "    count1=0\n",
    "    element1=-1\n",
    "    count2=0\n",
    "    element2=-1\n",
    "    for i in nums:\n",
    "        if(count1==0):\n",
    "            element1=i\n",
    "        if(i==element1):\n",
    "            count1+=1\n",
    "        else:\n",
    "            count1-=1\n",
    "    return(element1)\n",
    "\n",
    "\n",
    "def moores_majaority(nums):\n",
    "    count=0\n",
    "    element=-1\n",
    "    for i in nums:\n",
    "        if(count==0):\n",
    "            element=i\n",
    "        if(i==element):\n",
    "            count+=1\n",
    "        else:\n",
    "            count-=1\n",
    "    return(element)\n",
    "    \n",
    "    \n",
    "nums=[1,1,1,1,2,2,2,2,3,4]\n",
    "print(moores_majaority(nums))"
   ]
  },
  {
   "cell_type": "code",
   "execution_count": null,
   "metadata": {},
   "outputs": [],
   "source": []
  }
 ],
 "metadata": {
  "language_info": {
   "name": "python"
  },
  "orig_nbformat": 4
 },
 "nbformat": 4,
 "nbformat_minor": 2
}
