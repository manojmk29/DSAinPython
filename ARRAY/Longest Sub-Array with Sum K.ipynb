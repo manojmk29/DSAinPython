{
 "cells": [
  {
   "cell_type": "code",
   "execution_count": 2,
   "metadata": {},
   "outputs": [
    {
     "name": "stdout",
     "output_type": "stream",
     "text": [
      "hmap= {-1: 0, 0: 10, 1: 15, 2: 17, 3: 24, 4: 25, 5: 34}\n"
     ]
    }
   ],
   "source": [
    "arr=[10, 5, 2, 7, 1, 9]\n",
    "k=15\n",
    "#output =15\n",
    "ret=0\n",
    "hmap={}\n",
    "hmap[-1]=0\n",
    "for ind,val in enumerate(arr):\n",
    "    hmap[ind]=hmap[ind-1]+arr[ind]\n",
    "print(\"hmap=\",hmap)"
   ]
  },
  {
   "cell_type": "code",
   "execution_count": 15,
   "metadata": {},
   "outputs": [],
   "source": [
    "class Solution:\n",
    "    def lenOfLongSubarr (self, A, N, K) : \n",
    "        #Complete the function\n",
    "        ret=0\n",
    "        dif=K\n",
    "        hmap={}\n",
    "        hmap[0]=0\n",
    "        tot=0\n",
    "        for ind,var in enumerate(A,1):\n",
    "            tot+=var\n",
    "            if(tot==dif):\n",
    "                ret=max(ret,ind)\n",
    "            if(tot-dif in hmap):\n",
    "                ret=max(ret,ind-hmap[tot-dif])\n",
    "            if(tot not in hmap):\n",
    "                hmap[tot]=ind\n",
    "        return(ret)\n"
   ]
  },
  {
   "cell_type": "code",
   "execution_count": 16,
   "metadata": {},
   "outputs": [
    {
     "data": {
      "text/plain": [
       "0"
      ]
     },
     "execution_count": 16,
     "metadata": {},
     "output_type": "execute_result"
    }
   ],
   "source": [
    "ob=Solution()\n",
    "ob.lenOfLongSubarr([-7,-11,-3,-7,4,15,-13,18,-10,-10],10,23)"
   ]
  },
  {
   "cell_type": "code",
   "execution_count": 17,
   "metadata": {},
   "outputs": [
    {
     "data": {
      "text/plain": [
       "[1, 'a']"
      ]
     },
     "execution_count": 17,
     "metadata": {},
     "output_type": "execute_result"
    }
   ],
   "source": [
    "a=[1]\n",
    "a.append(\"a\")\n",
    "a"
   ]
  },
  {
   "cell_type": "code",
   "execution_count": null,
   "metadata": {},
   "outputs": [],
   "source": []
  }
 ],
 "metadata": {
  "interpreter": {
   "hash": "11ad92808b9e536a1bda76e6f18576c204b1bdc67c9013f7331a2b858d211f20"
  },
  "kernelspec": {
   "display_name": "Python 3.9.6 64-bit",
   "language": "python",
   "name": "python3"
  },
  "language_info": {
   "codemirror_mode": {
    "name": "ipython",
    "version": 3
   },
   "file_extension": ".py",
   "mimetype": "text/x-python",
   "name": "python",
   "nbconvert_exporter": "python",
   "pygments_lexer": "ipython3",
   "version": "3.9.6"
  },
  "orig_nbformat": 4
 },
 "nbformat": 4,
 "nbformat_minor": 2
}
