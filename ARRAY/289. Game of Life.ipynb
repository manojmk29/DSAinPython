{
 "cells": [
  {
   "cell_type": "code",
   "execution_count": 1,
   "metadata": {},
   "outputs": [],
   "source": [
    "class Solution(object):\n",
    "    def gameOfLife(self, board):\n",
    "        m=len(board)\n",
    "        n=len(board[0])\n",
    "        flag=[[0 for i in range(n)]for i in range(m)]\n",
    "        for i in range(m):\n",
    "            for j in range(n):\n",
    "                cnt=0\n",
    "                for x in(-1,0,1):\n",
    "                    for y in(-1,-0,1):\n",
    "                        if((0<=i+x<=m-1) and (0<=j+y<=n-1)):\n",
    "                            cnt+=board[i+x][j+y] \n",
    "                cnt-=board[i][j]\n",
    "                flag[i][j]=cnt\n",
    "        for i in range(m):\n",
    "            for j in range(n):\n",
    "                val=board[i][j]\n",
    "                if(val==1):\n",
    "                    if(flag[i][j]<2):\n",
    "                        board[i][j]=0\n",
    "                    elif(flag[i][j]>3):\n",
    "                        board[i][j]=0\n",
    "                elif(flag[i][j]==3):\n",
    "                    board[i][j]=1\n",
    "            "
   ]
  },
  {
   "cell_type": "code",
   "execution_count": 2,
   "metadata": {},
   "outputs": [],
   "source": [
    "class Solution(object):\n",
    "    def gameOfLife(self, board):\n",
    "        m=len(board)\n",
    "        n=len(board[0])\n",
    "        for i in range(m):\n",
    "            for j in range(n):\n",
    "                cnt=0\n",
    "                for x in(-1,0,1):\n",
    "                    for y in(-1,-0,1):\n",
    "                        if((0<=i+x<=m-1) and (0<=j+y<=n-1)):\n",
    "                                cnt+=board[i+x][j+y]%2\n",
    "                cnt-=board[i][j]\n",
    "                if(board[i][j]==1):\n",
    "                    if(cnt<2 or cnt>3):\n",
    "                        board[i][j]=3\n",
    "                elif(cnt==3):\n",
    "                    board[i][j]=2\n",
    "        for i in range(m):\n",
    "            for j in range(n):\n",
    "                if(board[i][j]==3):\n",
    "                    board[i][j]=0\n",
    "                elif(board[i][j]==2):\n",
    "                    board[i][j]=1\n",
    "            "
   ]
  },
  {
   "cell_type": "code",
   "execution_count": null,
   "metadata": {},
   "outputs": [],
   "source": []
  }
 ],
 "metadata": {
  "interpreter": {
   "hash": "11ad92808b9e536a1bda76e6f18576c204b1bdc67c9013f7331a2b858d211f20"
  },
  "kernelspec": {
   "display_name": "Python 3.9.6 64-bit",
   "language": "python",
   "name": "python3"
  },
  "language_info": {
   "codemirror_mode": {
    "name": "ipython",
    "version": 3
   },
   "file_extension": ".py",
   "mimetype": "text/x-python",
   "name": "python",
   "nbconvert_exporter": "python",
   "pygments_lexer": "ipython3",
   "version": "3.9.6"
  },
  "orig_nbformat": 4
 },
 "nbformat": 4,
 "nbformat_minor": 2
}
