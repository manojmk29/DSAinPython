{
 "cells": [
  {
   "cell_type": "code",
   "execution_count": 7,
   "metadata": {},
   "outputs": [],
   "source": [
    "class Solution:\n",
    "    def rotate(self, matrix) -> None:\n",
    "        \"\"\"\n",
    "        Do not return anything, modify matrix in-place instead.\n",
    "        \"\"\"\n",
    "        \"\"\"\n",
    "        00 01 02\n",
    "        10 11 12\n",
    "        20 21 22\n",
    "        \n",
    "        00 10 20\n",
    "        01 11 21\n",
    "        02 12 22\n",
    "        \"\"\"\n",
    "        \n",
    "        m=len(matrix)\n",
    "        for i in range(m):\n",
    "            for j in range(m):\n",
    "                if(i<j):\n",
    "                    matrix[i][j],matrix[j][i]=matrix[j][i],matrix[i][j]\n",
    "        for i in range(m-1//2):\n",
    "            for j in range(m//2):\n",
    "                matrix[i][j],matrix[i][m-j-1]=matrix[i][m-j-1],matrix[i][j]\n",
    "        print(matrix)\n",
    "                \n",
    "                \n",
    "        "
   ]
  },
  {
   "cell_type": "code",
   "execution_count": 8,
   "metadata": {},
   "outputs": [
    {
     "name": "stdout",
     "output_type": "stream",
     "text": [
      "[[7, 4, 1], [8, 5, 2], [9, 6, 3]]\n"
     ]
    }
   ],
   "source": [
    "Solution().rotate([[1,2,3],[4,5,6],[7,8,9]])"
   ]
  },
  {
   "cell_type": "code",
   "execution_count": null,
   "metadata": {},
   "outputs": [],
   "source": [
    "123\n",
    "456\n",
    "789\n",
    "\n",
    "147\n",
    "258\n",
    "369"
   ]
  }
 ],
 "metadata": {
  "interpreter": {
   "hash": "e26b106e6146fa3417b08aa501d422914abd065c08ced2fc57ef114abeab93c7"
  },
  "kernelspec": {
   "display_name": "Python 3.9.6 64-bit",
   "language": "python",
   "name": "python3"
  },
  "language_info": {
   "codemirror_mode": {
    "name": "ipython",
    "version": 3
   },
   "file_extension": ".py",
   "mimetype": "text/x-python",
   "name": "python",
   "nbconvert_exporter": "python",
   "pygments_lexer": "ipython3",
   "version": "3.9.6"
  },
  "orig_nbformat": 4
 },
 "nbformat": 4,
 "nbformat_minor": 2
}
