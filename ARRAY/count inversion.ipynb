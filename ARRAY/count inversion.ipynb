{
 "cells": [
  {
   "cell_type": "code",
   "execution_count": 9,
   "metadata": {},
   "outputs": [],
   "source": [
    "class Solution:\n",
    "    #User function Template for python3\n",
    "    \n",
    "    # arr[]: Input Array\n",
    "    # N : Size of the Array arr[]\n",
    "    #Function to count inversions in the array.\n",
    "    def inversionCount(self, arr, n):\n",
    "        # Your Code Here\n",
    "        def merge(l,m,r):\n",
    "            left=[arr[i] for i in range(l,m+1)]\n",
    "            right=[arr[i] for i in range(m+1,r+1)]\n",
    "            nl=len(left)\n",
    "            nr=len(right)\n",
    "            f=r-l+1\n",
    "            ret=0\n",
    "            temp=[]\n",
    "            i=j=0\n",
    "            while(i<nl and j<nr):\n",
    "                if(right[j]<left[i]):\n",
    "                    ret+=(nl-i)\n",
    "                    temp.append(right[j])\n",
    "                    j+=1\n",
    "                else:\n",
    "                    temp.append(left[i])\n",
    "                    i+=1\n",
    "            while(i<nl):\n",
    "                temp.append(left[i])\n",
    "                i+=1\n",
    "            while(j<nr):\n",
    "                temp.append(right[j])\n",
    "                j+=1\n",
    "            for i in range(f):\n",
    "                arr[l+i]=temp[i]\n",
    "            return(ret)\n",
    "        def mergesort(l,r):\n",
    "            ans=0\n",
    "            if(l<r):\n",
    "                m=(l+r)//2\n",
    "                ans=0\n",
    "                ans+=mergesort(l,m)\n",
    "                ans+=mergesort(m+1,r)\n",
    "                ans+=merge(l,m,r)\n",
    "            return(ans)\n",
    "        l=0\n",
    "        r=n-1\n",
    "        return(mergesort(l,r))"
   ]
  },
  {
   "cell_type": "code",
   "execution_count": 10,
   "metadata": {},
   "outputs": [
    {
     "data": {
      "text/plain": [
       "3"
      ]
     },
     "execution_count": 10,
     "metadata": {},
     "output_type": "execute_result"
    }
   ],
   "source": [
    "Solution().inversionCount([2, 4, 1, 3, 5],5)"
   ]
  },
  {
   "cell_type": "code",
   "execution_count": null,
   "metadata": {},
   "outputs": [],
   "source": []
  }
 ],
 "metadata": {
  "interpreter": {
   "hash": "e26b106e6146fa3417b08aa501d422914abd065c08ced2fc57ef114abeab93c7"
  },
  "kernelspec": {
   "display_name": "Python 3.9.6 64-bit",
   "language": "python",
   "name": "python3"
  },
  "language_info": {
   "codemirror_mode": {
    "name": "ipython",
    "version": 3
   },
   "file_extension": ".py",
   "mimetype": "text/x-python",
   "name": "python",
   "nbconvert_exporter": "python",
   "pygments_lexer": "ipython3",
   "version": "3.9.6"
  },
  "orig_nbformat": 4
 },
 "nbformat": 4,
 "nbformat_minor": 2
}
