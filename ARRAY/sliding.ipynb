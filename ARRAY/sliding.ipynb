{
 "cells": [
  {
   "cell_type": "code",
   "execution_count": null,
   "metadata": {},
   "outputs": [],
   "source": [
    "class Solution(object):\n",
    "    def maxSlidingWindow(self, nums, k):\n",
    "        \"\"\"\n",
    "        :type nums: List[int]\n",
    "        :type k: int\n",
    "        :rtype: List[int]\n",
    "        \"\"\"\n",
    "        ret=[]\n",
    "        start=0\n",
    "        end=k\n",
    "        while(end<=len(nums)):\n",
    "            temp=nums[start]\n",
    "            for i in range(start+1,end):\n",
    "                temp=max(temp,nums[i])\n",
    "            start+=1\n",
    "            end+=1\n",
    "            ret.append(temp)\n",
    "        return(ret)"
   ]
  },
  {
   "cell_type": "code",
   "execution_count": null,
   "metadata": {},
   "outputs": [],
   "source": []
  }
 ],
 "metadata": {
  "language_info": {
   "name": "python"
  },
  "orig_nbformat": 4
 },
 "nbformat": 4,
 "nbformat_minor": 2
}
