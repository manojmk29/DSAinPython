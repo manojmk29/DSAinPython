{
 "cells": [
  {
   "cell_type": "code",
   "execution_count": null,
   "metadata": {},
   "outputs": [],
   "source": [
    "class Solution(object):\n",
    "    def trap(self, height):\n",
    "        \"\"\"\n",
    "        :type height: List[int]\n",
    "        :rtype: int\n",
    "        \"\"\"\n",
    "        i=0\n",
    "        ret=0\n",
    "        while(i<len(height)):\n",
    "            j=i+1\n",
    "            maxi=j\n",
    "            maxsumt=0\n",
    "            maxcount=0\n",
    "            sumt=0\n",
    "            count=0\n",
    "            while(j<len(height)):\n",
    "                if(height[j]>=height[i]):\n",
    "                    maxi=j\n",
    "                    maxsumt=sumt\n",
    "                    maxcount=count\n",
    "                    break\n",
    "                if(height[j]>height[maxi]):\n",
    "                    maxi=j\n",
    "                    maxsumt=sumt\n",
    "                    maxcount=count\n",
    "                sumt+=height[j]\n",
    "                count+=1\n",
    "                j+=1\n",
    "            if((count==0)):\n",
    "                i+=1\n",
    "            else:\n",
    "                mint=min(height[i],height[maxi])\n",
    "                val=(maxcount*mint)-maxsumt\n",
    "                ret+=val  \n",
    "                i=maxi\n",
    "        return(ret)\n",
    "o=Solution()\n",
    "print(o.trap([4,2,3]))"
   ]
  }
 ],
 "metadata": {
  "language_info": {
   "name": "python"
  },
  "orig_nbformat": 4
 },
 "nbformat": 4,
 "nbformat_minor": 2
}
