{
 "cells": [
  {
   "cell_type": "code",
   "execution_count": 33,
   "metadata": {},
   "outputs": [],
   "source": [
    "def ArrayChallenge(strArr):\n",
    "    s=strArr\n",
    "    ar=[]\n",
    "    for i in s:\n",
    "        a,b=i.split(\"-\")\n",
    "        x=int(a[:2]+a[3:5])\n",
    "        if((a[5:7]==\"PM\" and a[:2]!=\"12\")):\n",
    "            x+=1200\n",
    "        y=int(b[:2]+b[3:5])\n",
    "        if((b[5:7]==\"PM\" and b[:2]!=\"12\") or (b[5:7]==\"AM\" and b[:2]==\"12\")):\n",
    "            y+=1200\n",
    "        ar.append([x,y])\n",
    "        f=0\n",
    "        if (a[5:7]==\"AM\" and a[:2]==\"12\"):\n",
    "            f=1\n",
    "            x=int(a[3:5])\n",
    "        if f:\n",
    "            ar.append([x,y])\n",
    "    ar.sort()\n",
    "    print(ar)"
   ]
  },
  {
   "cell_type": "code",
   "execution_count": 34,
   "metadata": {},
   "outputs": [
    {
     "name": "stdout",
     "output_type": "stream",
     "text": [
      "[[0, 200], [1030, 1200], [1200, 200], [1215, 1400]]\n"
     ]
    }
   ],
   "source": [
    "inp=[\"12:15PM-02:00PM\",\"12:00AM-02:00AM\",\"10:30AM-12:00PM\"]\n",
    "ArrayChallenge(inp)"
   ]
  },
  {
   "cell_type": "code",
   "execution_count": 16,
   "metadata": {},
   "outputs": [
    {
     "name": "stdout",
     "output_type": "stream",
     "text": [
      "a== 2410 b== 2430\n"
     ]
    }
   ],
   "source": [
    "i=\"12:10AM-12:30PM\"\n",
    "\n",
    "print(\"a==\",x,\"b==\",y)"
   ]
  },
  {
   "cell_type": "code",
   "execution_count": 7,
   "metadata": {},
   "outputs": [
    {
     "data": {
      "text/plain": [
       "256"
      ]
     },
     "execution_count": 7,
     "metadata": {},
     "output_type": "execute_result"
    }
   ],
   "source": [
    "int(\"00256\")"
   ]
  },
  {
   "cell_type": "code",
   "execution_count": 35,
   "metadata": {},
   "outputs": [],
   "source": [
    "import collections\n",
    "def GraphChallenge(s):\n",
    "    hmap=collections.defaultdict(list)\n",
    "    fmap=collections.defaultdict(int)\n",
    "    for i in s:\n",
    "        a,b=i.split(\"-\")\n",
    "        hmap[a].append(b)\n",
    "        hmap[b].append(a)\n",
    "        fmap[a]=0\n",
    "        fmap[b]=0\n",
    "    ret=1\n",
    "    for i in fmap:\n",
    "        if fmap[i]==0:\n",
    "            fmap[i]=1\n",
    "            stk=[i]\n",
    "            cur=0\n",
    "            while(stk):\n",
    "                cur+=1\n",
    "                temp=[]\n",
    "                for j in stk:\n",
    "                    for k in hmap[j]:\n",
    "                        if fmap[k]==0:\n",
    "                            fmap[k]=1\n",
    "                            temp.append(k)\n",
    "                stk=temp\n",
    "            ret=max(cur,ret)\n",
    "    return ret\n",
    "        \n"
   ]
  },
  {
   "cell_type": "code",
   "execution_count": 1,
   "metadata": {},
   "outputs": [],
   "source": [
    "import collections\n",
    "def GraphChallenge(s):\n",
    "    hmap=collections.defaultdict(list)\n",
    "    fmap=collections.defaultdict(int)\n",
    "    for i in s:\n",
    "        a,b=i.split(\"-\")\n",
    "        hmap[a].append(b)\n",
    "        hmap[b].append(a)\n",
    "        fmap[a]=0\n",
    "        fmap[b]=0\n",
    "    ret=[1]\n",
    "    def dfs(cur,par):\n",
    "        fmap[cur]=1\n",
    "        t=[0,0]\n",
    "        for i in hmap[cur]:\n",
    "            v=0\n",
    "            if i!=par:\n",
    "                v=1+dfs(i,cur)\n",
    "            t[0]=max(t[0],t[1])\n",
    "            t[1]=max(t[1],v)\n",
    "        ret[0]=max(ret[0],t[0]+t[1])\n",
    "        return max(t[0],t[1])\n",
    "    for i in fmap:\n",
    "        if fmap[i]==0:\n",
    "            dfs(i,\"0\")\n",
    "    return ret[0]\n",
    "        \n"
   ]
  },
  {
   "cell_type": "code",
   "execution_count": 3,
   "metadata": {},
   "outputs": [
    {
     "data": {
      "text/plain": [
       "3"
      ]
     },
     "execution_count": 3,
     "metadata": {},
     "output_type": "execute_result"
    }
   ],
   "source": [
    "a=[\"b-e\",\"b-c\",\"c-d\",\"a-b\",\"e-f\"]\n",
    "b=[\"b-a\",\"c-e\",\"b-c\",\"d-c\"]\n",
    "GraphChallenge(b)"
   ]
  },
  {
   "cell_type": "code",
   "execution_count": null,
   "metadata": {},
   "outputs": [],
   "source": [
    "def ClosestEnemyII(array):\n",
    "    enemies = []\n",
    "    for i, row in enumerate(array):\n",
    "        for j, col in enumerate(list(row)):\n",
    "            if col == '1': px, py = (i, j)\n",
    "            if col == '2': enemies.append((i, j))\n",
    "    moves = []\n",
    "    for x, y in enemies:\n",
    "        no_wrap = abs(px - x) + abs(py - y)\n",
    "        col_wrap, row_wrap = abs(px - x) + abs(py - (y - len(array))), abs(px - (x - len(array))) + abs(py-y)\n",
    "        moves.append(min(no_wrap, col_wrap, row_wrap))\n",
    "    return min(moves) if moves else 0"
   ]
  },
  {
   "cell_type": "code",
   "execution_count": null,
   "metadata": {},
   "outputs": [],
   "source": [
    "def foo(param):\n",
    "    #converting to matrix\n",
    "    mat=[]\n",
    "    for i in param:\n",
    "        a=list(i)\n",
    "        mat.append(a)\n",
    "    "
   ]
  }
 ],
 "metadata": {
  "kernelspec": {
   "display_name": "Python 3.9.6 64-bit",
   "language": "python",
   "name": "python3"
  },
  "language_info": {
   "codemirror_mode": {
    "name": "ipython",
    "version": 3
   },
   "file_extension": ".py",
   "mimetype": "text/x-python",
   "name": "python",
   "nbconvert_exporter": "python",
   "pygments_lexer": "ipython3",
   "version": "3.9.6"
  },
  "orig_nbformat": 4,
  "vscode": {
   "interpreter": {
    "hash": "e26b106e6146fa3417b08aa501d422914abd065c08ced2fc57ef114abeab93c7"
   }
  }
 },
 "nbformat": 4,
 "nbformat_minor": 2
}
