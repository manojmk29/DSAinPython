{
 "cells": [
  {
   "cell_type": "code",
   "execution_count": null,
   "metadata": {},
   "outputs": [],
   "source": [
    "class Solution(object):\n",
    "    def longestOnes(self, nums, k):\n",
    "        \"\"\"\n",
    "        :type nums: List[int]\n",
    "        :type k: int\n",
    "        :rtype: int\n",
    "        \"\"\"\n",
    "        one=zero=0\n",
    "        ret=0\n",
    "        start=0\n",
    "        for ind,i in enumerate(nums):\n",
    "            if i==0:\n",
    "                zero+=1\n",
    "            else:\n",
    "                one+=1\n",
    "            while(zero>k):\n",
    "                if nums[start]==1:\n",
    "                    one-=1\n",
    "                else:\n",
    "                    zero-=1\n",
    "                start+=1\n",
    "            ret=max(ret,ind-start+1)\n",
    "        return(ret)"
   ]
  },
  {
   "cell_type": "code",
   "execution_count": 1,
   "metadata": {},
   "outputs": [
    {
     "data": {
      "text/plain": [
       "4"
      ]
     },
     "execution_count": 1,
     "metadata": {},
     "output_type": "execute_result"
    }
   ],
   "source": [
    "import collections\n",
    "class Solution(object):\n",
    "    def longestSubstring(self, s, k):\n",
    "        \"\"\"\n",
    "        :type s: str\n",
    "        :type k: int\n",
    "        :rtype: int\n",
    "        \"\"\"\n",
    "        check=collections.defaultdict(int)\n",
    "        l=r=0\n",
    "        le=len(s)\n",
    "        ret=-float(\"inf\")\n",
    "        cnt=0\n",
    "        while(r<le):\n",
    "            val=s[r]\n",
    "            check[val]+=1\n",
    "            if(check[val]==k):\n",
    "                cnt+=1\n",
    "            cle=len(check)\n",
    "            while(cle==cnt):\n",
    "                rle=r-l+1\n",
    "                ret=max(ret,rle)\n",
    "                gal=s[l]\n",
    "                check[gal]-=1\n",
    "                if(check[gal]<k):\n",
    "                    cnt-=1\n",
    "                if(check[gal]<=0):\n",
    "                    check.pop(gal)\n",
    "                l+=1\n",
    "            r+=1\n",
    "        return(ret)\n",
    "obj=Solution()\n",
    "inp=\"ababbc\"\n",
    "k=2\n",
    "obj.longestSubstring(inp,k)"
   ]
  }
 ],
 "metadata": {
  "interpreter": {
   "hash": "11ad92808b9e536a1bda76e6f18576c204b1bdc67c9013f7331a2b858d211f20"
  },
  "kernelspec": {
   "display_name": "Python 3.9.6 64-bit",
   "language": "python",
   "name": "python3"
  },
  "language_info": {
   "codemirror_mode": {
    "name": "ipython",
    "version": 3
   },
   "file_extension": ".py",
   "mimetype": "text/x-python",
   "name": "python",
   "nbconvert_exporter": "python",
   "pygments_lexer": "ipython3",
   "version": "3.9.6"
  },
  "orig_nbformat": 4
 },
 "nbformat": 4,
 "nbformat_minor": 2
}
