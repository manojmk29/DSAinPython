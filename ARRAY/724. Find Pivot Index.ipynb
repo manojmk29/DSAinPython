{
 "cells": [
  {
   "cell_type": "code",
   "execution_count": 6,
   "metadata": {},
   "outputs": [],
   "source": [
    "class Solution(object):\n",
    "    def pivotIndex(self, nums):\n",
    "        \"\"\"\n",
    "        :type nums: List[int]\n",
    "        :rtype: int\n",
    "        \"\"\"\n",
    "        first=[0]\n",
    "        for i in range(len(nums)-1):\n",
    "            first.append(first[-1]+nums[i])\n",
    "        second=[0]\n",
    "        for i in range(len(nums)-1,0,-1):\n",
    "            second.append(second[-1]+nums[i])\n",
    "        second=second[::-1]\n",
    "        for i in range(len(nums)):\n",
    "            if(first[i]==second[i]):\n",
    "                return(i)\n",
    "        return(-1)\n",
    "            "
   ]
  },
  {
   "cell_type": "code",
   "execution_count": null,
   "metadata": {},
   "outputs": [],
   "source": [
    "class Solution(object):\n",
    "    def pivotIndex(self, nums):\n",
    "        \"\"\"\n",
    "        :type nums: List[int]\n",
    "        :rtype: int\n",
    "        \"\"\"\n",
    "        tot=sum(nums)\n",
    "        cur=0\n",
    "        for i,j in enumerate(nums):\n",
    "            if(cur==tot-j-cur):\n",
    "                return(i)\n",
    "            cur+=j\n",
    "        return(-1)"
   ]
  }
 ],
 "metadata": {
  "interpreter": {
   "hash": "11ad92808b9e536a1bda76e6f18576c204b1bdc67c9013f7331a2b858d211f20"
  },
  "kernelspec": {
   "display_name": "Python 3.9.6 64-bit",
   "language": "python",
   "name": "python3"
  },
  "language_info": {
   "codemirror_mode": {
    "name": "ipython",
    "version": 3
   },
   "file_extension": ".py",
   "mimetype": "text/x-python",
   "name": "python",
   "nbconvert_exporter": "python",
   "pygments_lexer": "ipython3",
   "version": "3.9.6"
  },
  "orig_nbformat": 4
 },
 "nbformat": 4,
 "nbformat_minor": 2
}
