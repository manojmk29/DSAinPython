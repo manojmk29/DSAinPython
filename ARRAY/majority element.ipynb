{
 "cells": [
  {
   "cell_type": "code",
   "execution_count": null,
   "metadata": {},
   "outputs": [],
   "source": [
    "def majorityElement(nums,n):\n",
    "    sz = n;\n",
    "    num1 = -1\n",
    "    num2 = -1\n",
    "    count1 = 0\n",
    "    count2 = 0\n",
    "    for i in range(sz):\n",
    "        if (nums[i] == num1):\n",
    "            count1+=1\n",
    "        elif (nums[i] == num2):\n",
    "            count2+=1\n",
    "        elif (count1 == 0):\n",
    "            num1 = nums[i];\n",
    "            count1 = 1;\n",
    "        elif (count2 == 0):\n",
    "            num2 = nums[i];\n",
    "            count2 = 1;\n",
    "        else:\n",
    "            count1-=1\n",
    "            count2-=1\n",
    "    ans=[]\n",
    "    count1 = count2 = 0;\n",
    "    for i in range(sz):\n",
    "        if (nums[i] == num1):\n",
    "            count1+=1\n",
    "        elif (nums[i] == num2):\n",
    "            count2+=1\n",
    "    if (count1 > sz / 3):\n",
    "        ans.append(num1);\n",
    "    if (count2 > sz / 3):\n",
    "        ans.append(num2);\n",
    "    return ans\n",
    "arr=[1,2,3,1,1,4,5,5,1,5,6]\n",
    "print(majorityElement(arr,len(arr)))"
   ]
  }
 ],
 "metadata": {
  "language_info": {
   "name": "python"
  },
  "orig_nbformat": 4
 },
 "nbformat": 4,
 "nbformat_minor": 2
}
