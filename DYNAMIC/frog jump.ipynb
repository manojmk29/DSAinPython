{
 "cells": [
  {
   "cell_type": "code",
   "execution_count": 21,
   "metadata": {},
   "outputs": [
    {
     "data": {
      "text/plain": [
       "20"
      ]
     },
     "execution_count": 21,
     "metadata": {},
     "output_type": "execute_result"
    }
   ],
   "source": [
    "def frogjump(arr):\n",
    "    n=len(arr)\n",
    "    if(n==1):\n",
    "        return(0)\n",
    "    def helper(p,tot):\n",
    "        if(p==n-1):\n",
    "            return(tot)\n",
    "        if(p>n-1):\n",
    "            return(float(\"inf\"))\n",
    "        l=r=float(\"inf\")\n",
    "        if(p+1<=n-1):\n",
    "            l=helper(p+1,tot+abs(arr[p]-arr[p+1]))\n",
    "        if(p+2<=n-1):\n",
    "            r=helper(p+2,tot+abs(arr[p]-arr[p+2]))\n",
    "        return(min(l,r))\n",
    "    return(helper(0,0))\n",
    "arr=[10,20,30,10]\n",
    "frogjump(arr)\n"
   ]
  },
  {
   "cell_type": "code",
   "execution_count": 17,
   "metadata": {},
   "outputs": [
    {
     "data": {
      "text/plain": [
       "40"
      ]
     },
     "execution_count": 17,
     "metadata": {},
     "output_type": "execute_result"
    }
   ],
   "source": [
    "def frogjump(arr):\n",
    "    n=len(arr)\n",
    "    if(n==1):\n",
    "        return(0)\n",
    "    hmap={}\n",
    "    def helper(p):\n",
    "        if(p==0):\n",
    "            return(0)\n",
    "        if(p<0):\n",
    "            return(float(\"inf\"))\n",
    "        if(p-1 not in hmap):\n",
    "            l=helper(p-1,tot+abs(arr[p]-arr[p-1]))\n",
    "        else:\n",
    "            l=hmap[p-1]\n",
    "        if(p-2 not in hmap):\n",
    "            r=helper(p-2,tot+abs(arr[p]-arr[p-2]))\n",
    "        else:\n",
    "            r=hmap[p-2]\n",
    "        hmap[p]=min(l,r)\n",
    "        return(hmap[p])\n",
    "    return(helper(n-1,0))\n",
    "arr=[10,20,30,10]\n",
    "frogjump(arr)\n"
   ]
  },
  {
   "cell_type": "code",
   "execution_count": 27,
   "metadata": {},
   "outputs": [
    {
     "data": {
      "text/plain": [
       "0"
      ]
     },
     "execution_count": 27,
     "metadata": {},
     "output_type": "execute_result"
    }
   ],
   "source": [
    "def frogjump(arr):\n",
    "    n=len(arr)\n",
    "    if(n==1):\n",
    "        return(0)\n",
    "    hmap={}\n",
    "    hmap[0]=0\n",
    "    def helper(p):\n",
    "        if(p==0):\n",
    "            return(0)\n",
    "        if(p<0):\n",
    "            return(float(\"inf\"))\n",
    "        if(p-1 not in hmap):\n",
    "            l=helper(p-1)+abs(arr[p-1]-arr[p])\n",
    "        else:\n",
    "            l=hmap[p-1]+abs(arr[p-1]-arr[p])\n",
    "        if(p-2 not in hmap):\n",
    "            r=helper(p-2)+abs(arr[p-2]-arr[p])\n",
    "        else:\n",
    "            r=hmap[p-2]+abs(arr[p-2]-arr[p])\n",
    "        hmap[p]=min(l,r)\n",
    "        return(hmap[p])\n",
    "    return(helper(n-1))\n",
    "arr=[10]\n",
    "frogjump(arr)\n"
   ]
  },
  {
   "cell_type": "code",
   "execution_count": 28,
   "metadata": {},
   "outputs": [],
   "source": [
    "# T A B U L A T I O N"
   ]
  },
  {
   "cell_type": "code",
   "execution_count": 33,
   "metadata": {},
   "outputs": [],
   "source": [
    "def frogjump(arr):\n",
    "    dp=[0 for i in range(len(arr))]\n",
    "    for i in range(1,len(arr)):\n",
    "        l=dp[i-1]+abs(arr[i]-arr[i-1])\n",
    "        r=float(\"inf\")\n",
    "        if(i>1):\n",
    "            r=dp[i-2]+abs(arr[i]-arr[i-2])\n",
    "        dp[i]=min(l,r)\n",
    "    return(dp[len(arr)-1])"
   ]
  },
  {
   "cell_type": "code",
   "execution_count": 32,
   "metadata": {},
   "outputs": [
    {
     "data": {
      "text/plain": [
       "20"
      ]
     },
     "execution_count": 32,
     "metadata": {},
     "output_type": "execute_result"
    }
   ],
   "source": [
    "arr=[10,20,30,10]\n",
    "frogjump(arr)"
   ]
  }
 ],
 "metadata": {
  "interpreter": {
   "hash": "11ad92808b9e536a1bda76e6f18576c204b1bdc67c9013f7331a2b858d211f20"
  },
  "kernelspec": {
   "display_name": "Python 3.9.6 64-bit",
   "language": "python",
   "name": "python3"
  },
  "language_info": {
   "codemirror_mode": {
    "name": "ipython",
    "version": 3
   },
   "file_extension": ".py",
   "mimetype": "text/x-python",
   "name": "python",
   "nbconvert_exporter": "python",
   "pygments_lexer": "ipython3",
   "version": "3.9.6"
  },
  "orig_nbformat": 4
 },
 "nbformat": 4,
 "nbformat_minor": 2
}
