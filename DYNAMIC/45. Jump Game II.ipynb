{
 "cells": [
  {
   "cell_type": "code",
   "execution_count": null,
   "metadata": {},
   "outputs": [],
   "source": [
    "class Solution(object):\n",
    "    def jump(self, nums):\n",
    "        \"\"\"\n",
    "        :type nums: List[int]\n",
    "        :rtype: int\n",
    "        \"\"\"\n",
    "        n=len(nums)\n",
    "        dp=[-1 for i in range(n)]\n",
    "        dp[-1]=0\n",
    "        for i in range(n-2,-1,-1):\n",
    "            t=float(\"inf\")\n",
    "            for j in range(i+nums[i],i,-1):\n",
    "                if(j>=n-1):\n",
    "                    v=0\n",
    "                else:\n",
    "                    v=dp[j]\n",
    "                t=min(t,v+1)\n",
    "            dp[i]=t\n",
    "        return(dp[0])"
   ]
  },
  {
   "cell_type": "code",
   "execution_count": null,
   "metadata": {},
   "outputs": [],
   "source": [
    "class Solution(object):\n",
    "    def jump(self, nums):\n",
    "        \"\"\"\n",
    "        :type nums: List[int]\n",
    "        :rtype: int\n",
    "        \"\"\"\n",
    "        n=len(nums)\n",
    "        dp=[-1 for i in range(n)]\n",
    "        for i in range(n):\n",
    "            if(nums[i]==0):\n",
    "                dp[i]=float(\"inf\")\n",
    "        def helper(pos):\n",
    "            if(dp[pos]!=-1):\n",
    "                return(dp[pos])\n",
    "            v=nums[pos]+pos\n",
    "            dp[pos]=float(\"inf\")\n",
    "            for i in range(v,pos,-1):\n",
    "                if(i>=n-1):\n",
    "                    dp[pos]=1\n",
    "                    break\n",
    "                else:\n",
    "                    if(dp[i]==-1):\n",
    "                        helper(i)\n",
    "                    dp[pos]=min(dp[pos],1+dp[i])\n",
    "            return(dp[pos])\n",
    "        helper(0)\n",
    "        return(dp[0])\n",
    "                        "
   ]
  },
  {
   "cell_type": "code",
   "execution_count": null,
   "metadata": {},
   "outputs": [],
   "source": [
    "class Solution(object):\n",
    "    def jump(self, nums):\n",
    "        \"\"\"\n",
    "        :type nums: List[int]\n",
    "        :rtype: int\n",
    "        \"\"\"\n",
    "#         [2,3,1,1,4]\n",
    "        n=len(nums)\n",
    "        r=0\n",
    "        mxt=0\n",
    "        cnt=0\n",
    "        for i in range(0,n):\n",
    "            if(i>r):\n",
    "                r=mxt\n",
    "                cnt+=1\n",
    "            mxt=max(mxt,nums[i]+i)\n",
    "        return(cnt)"
   ]
  },
  {
   "cell_type": "code",
   "execution_count": null,
   "metadata": {},
   "outputs": [],
   "source": []
  }
 ],
 "metadata": {
  "language_info": {
   "name": "python"
  },
  "orig_nbformat": 4
 },
 "nbformat": 4,
 "nbformat_minor": 2
}
