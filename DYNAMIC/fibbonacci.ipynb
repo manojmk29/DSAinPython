{
 "cells": [
  {
   "cell_type": "code",
   "execution_count": 16,
   "metadata": {},
   "outputs": [
    {
     "data": {
      "text/plain": [
       "108788617463475645289761992289049744844995705477812699099751202749393926359816304226"
      ]
     },
     "execution_count": 16,
     "metadata": {},
     "output_type": "execute_result"
    }
   ],
   "source": [
    "hmap={}\n",
    "hmap[1]=0\n",
    "hmap[2]=1\n",
    "def fibbo(n):\n",
    "    if(n<3):\n",
    "        return(hmap[n])\n",
    "    if(n-1 not in hmap):\n",
    "        hmap[n-1]=fibbo(n-1)\n",
    "    if(n-2 not in hmap):\n",
    "        hmap[n-2]=fibbo(n-2)\n",
    "    return(hmap[n-1]+hmap[n-2])\n",
    "fibbo(400)"
   ]
  },
  {
   "cell_type": "code",
   "execution_count": 19,
   "metadata": {},
   "outputs": [
    {
     "name": "stdout",
     "output_type": "stream",
     "text": [
      "f\n",
      "f\n"
     ]
    }
   ],
   "source": [
    "for i in range(1,3):\n",
    "    print(\"f\")"
   ]
  },
  {
   "cell_type": "code",
   "execution_count": null,
   "metadata": {},
   "outputs": [],
   "source": []
  }
 ],
 "metadata": {
  "interpreter": {
   "hash": "11ad92808b9e536a1bda76e6f18576c204b1bdc67c9013f7331a2b858d211f20"
  },
  "kernelspec": {
   "display_name": "Python 3.9.6 64-bit",
   "language": "python",
   "name": "python3"
  },
  "language_info": {
   "codemirror_mode": {
    "name": "ipython",
    "version": 3
   },
   "file_extension": ".py",
   "mimetype": "text/x-python",
   "name": "python",
   "nbconvert_exporter": "python",
   "pygments_lexer": "ipython3",
   "version": "3.9.6"
  },
  "orig_nbformat": 4
 },
 "nbformat": 4,
 "nbformat_minor": 2
}
