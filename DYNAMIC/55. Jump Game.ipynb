{
 "cells": [
  {
   "cell_type": "code",
   "execution_count": null,
   "metadata": {},
   "outputs": [],
   "source": [
    "class Solution(object):\n",
    "    def canJump(self, nums):\n",
    "        \"\"\"\n",
    "        :type nums: List[int]\n",
    "        :rtype: bool\n",
    "        \"\"\"\n",
    "        n=len(nums)\n",
    "        tgt=n-1\n",
    "        temp=nums[0]\n",
    "        if(tgt==0):\n",
    "            return(True)\n",
    "        for i in range(tgt):\n",
    "            if(nums[i]==0 and temp<=i):\n",
    "                return(False)\n",
    "            temp=max(temp,i+nums[i])\n",
    "            if(temp>=tgt):\n",
    "                return(True)\n",
    "        return(False)"
   ]
  },
  {
   "cell_type": "code",
   "execution_count": null,
   "metadata": {},
   "outputs": [],
   "source": []
  }
 ],
 "metadata": {
  "language_info": {
   "name": "python"
  },
  "orig_nbformat": 4
 },
 "nbformat": 4,
 "nbformat_minor": 2
}
