{
 "cells": [
  {
   "cell_type": "code",
   "execution_count": 1,
   "metadata": {},
   "outputs": [],
   "source": [
    "#bt"
   ]
  },
  {
   "cell_type": "code",
   "execution_count": 8,
   "metadata": {},
   "outputs": [
    {
     "data": {
      "text/plain": [
       "110"
      ]
     },
     "execution_count": 8,
     "metadata": {},
     "output_type": "execute_result"
    }
   ],
   "source": [
    "def func(arr):\n",
    "    n=len(arr)\n",
    "    def helper(pos,tot):\n",
    "        if(pos>=n):\n",
    "            return(tot)\n",
    "        l=helper(pos+1,tot)\n",
    "        r=helper(pos+2,tot+arr[pos])\n",
    "        return(max(l,r))\n",
    "    return(helper(0,0))\n",
    "arr=[5, 5, 10, 100, 10, 5]\n",
    "func(arr)"
   ]
  },
  {
   "cell_type": "code",
   "execution_count": 1,
   "metadata": {},
   "outputs": [
    {
     "data": {
      "text/plain": [
       "110"
      ]
     },
     "execution_count": 1,
     "metadata": {},
     "output_type": "execute_result"
    }
   ],
   "source": [
    "def func(arr):\n",
    "    n=len(arr)\n",
    "    def helper(pos,tot):\n",
    "        if(pos>=n):\n",
    "            return(tot)\n",
    "        l=helper(pos+1,tot)\n",
    "        r=helper(pos+2,tot+arr[pos])\n",
    "        return(max(l,r))\n",
    "    return(helper(0,0))\n",
    "arr=[5, 5, 10, 100, 10, 5]\n",
    "func(arr)"
   ]
  },
  {
   "cell_type": "code",
   "execution_count": null,
   "metadata": {},
   "outputs": [],
   "source": [
    "\"\"\"\n",
    "\n",
    "[5, 5, 10, 100, 10, 5]\n",
    "\n",
    " 0  1   2   3    4  5\n",
    "\n",
    "0\n",
    "1 2\n",
    "2 3\n",
    "3 4\n",
    "4 5\n",
    "5 6\n",
    "6 7\n",
    "\"\"\""
   ]
  },
  {
   "cell_type": "code",
   "execution_count": 20,
   "metadata": {},
   "outputs": [],
   "source": [
    "# MEMOISATION"
   ]
  },
  {
   "cell_type": "code",
   "execution_count": 19,
   "metadata": {},
   "outputs": [
    {
     "data": {
      "text/plain": [
       "220"
      ]
     },
     "execution_count": 19,
     "metadata": {},
     "output_type": "execute_result"
    }
   ],
   "source": [
    "def func(arr):\n",
    "    n=len(arr)\n",
    "    hmap={}\n",
    "    def helper(pos,flag):\n",
    "        if(pos>=n):\n",
    "            hmap[pos]=0\n",
    "            return(0)\n",
    "        if(pos+1 not in hmap):\n",
    "            helper(pos+1)\n",
    "        if(pos+2 not in hmap):\n",
    "            helper(pos+2)\n",
    "        l=hmap[pos+1]\n",
    "        r=hmap[pos+2]+arr[pos]\n",
    "        hmap[pos]=max(l,r)\n",
    "        return(hmap[pos])\n",
    "    return(helper(0),False)\n",
    "arr=[5, 110, 10, 105, 10, 5]\n",
    "func(arr)"
   ]
  },
  {
   "cell_type": "code",
   "execution_count": 22,
   "metadata": {},
   "outputs": [],
   "source": [
    "# T A B U L A T I O N"
   ]
  },
  {
   "cell_type": "code",
   "execution_count": 4,
   "metadata": {},
   "outputs": [
    {
     "name": "stdout",
     "output_type": "stream",
     "text": [
      "110\n"
     ]
    }
   ],
   "source": [
    "arr=[5, 5, 10, 100, 10, 5]\n",
    "l=r=0\n",
    "for i in arr[1:]:\n",
    "    l,r=r,max(l+i,r)\n",
    "f=r\n",
    "l=r=0\n",
    "for i in arr[:-1]:\n",
    "    l,r=r,max(l+i,r)\n",
    "print(max(f,r))"
   ]
  },
  {
   "cell_type": "code",
   "execution_count": 2,
   "metadata": {},
   "outputs": [
    {
     "data": {
      "text/plain": [
       "[1, 2]"
      ]
     },
     "execution_count": 2,
     "metadata": {},
     "output_type": "execute_result"
    }
   ],
   "source": [
    "arr=[1,2,3]\n",
    "arr[:-1]"
   ]
  },
  {
   "cell_type": "code",
   "execution_count": null,
   "metadata": {},
   "outputs": [],
   "source": []
  },
  {
   "cell_type": "code",
   "execution_count": null,
   "metadata": {},
   "outputs": [],
   "source": []
  },
  {
   "cell_type": "code",
   "execution_count": null,
   "metadata": {},
   "outputs": [],
   "source": []
  },
  {
   "cell_type": "code",
   "execution_count": null,
   "metadata": {},
   "outputs": [],
   "source": []
  },
  {
   "cell_type": "code",
   "execution_count": null,
   "metadata": {},
   "outputs": [],
   "source": []
  }
 ],
 "metadata": {
  "interpreter": {
   "hash": "11ad92808b9e536a1bda76e6f18576c204b1bdc67c9013f7331a2b858d211f20"
  },
  "kernelspec": {
   "display_name": "Python 3.9.6 64-bit",
   "language": "python",
   "name": "python3"
  },
  "language_info": {
   "codemirror_mode": {
    "name": "ipython",
    "version": 3
   },
   "file_extension": ".py",
   "mimetype": "text/x-python",
   "name": "python",
   "nbconvert_exporter": "python",
   "pygments_lexer": "ipython3",
   "version": "3.9.6"
  },
  "orig_nbformat": 4
 },
 "nbformat": 4,
 "nbformat_minor": 2
}
