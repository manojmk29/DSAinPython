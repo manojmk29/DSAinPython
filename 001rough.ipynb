{
 "cells": [
  {
   "cell_type": "code",
   "execution_count": 31,
   "metadata": {},
   "outputs": [],
   "source": [
    "class Solution(object):\n",
    "    def combinationSum(self, candidates, target):\n",
    "        \"\"\"\n",
    "        :type candidates: List[int]\n",
    "        :type target: int\n",
    "        :rtype: List[List[int]]\n",
    "        \"\"\"\n",
    "        ans=[]\n",
    "        first=[]\n",
    "        candidates.sort()\n",
    "        self.backtrack(candidates,ans,target,first)\n",
    "        return(ans)\n",
    "    def backtrack(self,cand,ans,target,temp):\n",
    "        for i in cand:\n",
    "            temp+=[i]\n",
    "            if(sum(temp)==target):\n",
    "                ans.append(temp[:])\n",
    "            if(sum(temp)>target):\n",
    "                break\n",
    "            else:\n",
    "                self.backtrack(cand,ans,target,temp)\n",
    "x=Solution()\n",
    "arr=[2,3,6,7]\n",
    "target=7\n",
    "print(x.combinationSum(arr,target))"
   ]
  },
  {
   "cell_type": "code",
   "execution_count": 32,
   "metadata": {},
   "outputs": [
    {
     "name": "stdout",
     "output_type": "stream",
     "text": [
      "[]\n"
     ]
    }
   ],
   "source": [
    "x=Solution()\n",
    "arr=[2,3,6,7]\n",
    "target=7\n",
    "print(x.combinationSum(arr,target))\n",
    "# print(x.())\n",
    "# print(x.())\n",
    "# print(x.())"
   ]
  },
  {
   "cell_type": "code",
   "execution_count": 34,
   "metadata": {},
   "outputs": [
    {
     "data": {
      "text/plain": [
       "True"
      ]
     },
     "execution_count": 34,
     "metadata": {},
     "output_type": "execute_result"
    }
   ],
   "source": [
    "a=[[1,2],[3,4]]\n",
    "b=[[3,4],[1,2]]\n",
    "a.sort()==b.sort()"
   ]
  },
  {
   "cell_type": "markdown",
   "metadata": {},
   "source": [
    "extend([b]) will be a copy <br />\n",
    "extend(b) will be a deep copy<br />\n",
    "append(b[:]) will be a deep copy<br />\n",
    "append(list(b)) will be a deep copy<br />\n",
    "append(b) will be a copy<br />\n",
    "a.extend(b) will be equal to a+b"
   ]
  },
  {
   "cell_type": "code",
   "execution_count": 8,
   "metadata": {},
   "outputs": [
    {
     "data": {
      "text/plain": [
       "[[1, 2], [3, 4]]"
      ]
     },
     "execution_count": 8,
     "metadata": {},
     "output_type": "execute_result"
    }
   ],
   "source": [
    "a=[[1,2]]\n",
    "b=[3,4]\n",
    "a.append(b[:])\n",
    "b.append(5)\n",
    "a"
   ]
  },
  {
   "cell_type": "code",
   "execution_count": 11,
   "metadata": {},
   "outputs": [
    {
     "data": {
      "text/plain": [
       "[[1, 2], [3, 4]]"
      ]
     },
     "execution_count": 11,
     "metadata": {},
     "output_type": "execute_result"
    }
   ],
   "source": [
    "a=[[1,2]]\n",
    "b=[[3,4]]\n",
    "a.extend(b)\n",
    "a"
   ]
  },
  {
   "cell_type": "code",
   "execution_count": 3,
   "metadata": {},
   "outputs": [
    {
     "name": "stdout",
     "output_type": "stream",
     "text": [
      "0\n",
      "1\n",
      "2\n",
      "3\n"
     ]
    }
   ],
   "source": [
    "for i in range(5):\n",
    "    print(i)\n",
    "    if(i==3):\n",
    "        break"
   ]
  },
  {
   "cell_type": "code",
   "execution_count": 4,
   "metadata": {},
   "outputs": [],
   "source": [
    "from collections import defaultdict\n",
    "hmap=defaultdict(lambda :False)"
   ]
  },
  {
   "cell_type": "code",
   "execution_count": 6,
   "metadata": {},
   "outputs": [
    {
     "name": "stdout",
     "output_type": "stream",
     "text": [
      "[[999, 2], [3, 4], [5, 6]]\n",
      "[[999, 2], [3, 4], [5, 6]]\n"
     ]
    }
   ],
   "source": [
    "a=[[1,2],[3,4],[5,6]]\n",
    "b=a[:][:]\n",
    "b[0][0]=999\n",
    "print(a)\n",
    "print(b)"
   ]
  },
  {
   "cell_type": "code",
   "execution_count": 7,
   "metadata": {},
   "outputs": [
    {
     "data": {
      "text/plain": [
       "'3d'"
      ]
     },
     "execution_count": 7,
     "metadata": {},
     "output_type": "execute_result"
    }
   ],
   "source": [
    "a=\"3\"\n",
    "a+=\"d\"\n",
    "a"
   ]
  },
  {
   "cell_type": "code",
   "execution_count": 11,
   "metadata": {},
   "outputs": [
    {
     "data": {
      "text/plain": [
       "[[4, 4, 4], [4, 4, 4], [4, 4, 4], [4, 4, 4], [4, 4, 4]]"
      ]
     },
     "execution_count": 11,
     "metadata": {},
     "output_type": "execute_result"
    }
   ],
   "source": [
    "a=[[4]*3]*5\n",
    "a=a[:][:]\n",
    "a"
   ]
  },
  {
   "cell_type": "code",
   "execution_count": 12,
   "metadata": {},
   "outputs": [
    {
     "data": {
      "text/plain": [
       "[[4, 4, 3], [4, 4, 3], [4, 4, 3], [4, 4, 3], [4, 4, 3]]"
      ]
     },
     "execution_count": 12,
     "metadata": {},
     "output_type": "execute_result"
    }
   ],
   "source": [
    "a[2][2]=3\n",
    "a"
   ]
  },
  {
   "cell_type": "code",
   "execution_count": 15,
   "metadata": {},
   "outputs": [
    {
     "data": {
      "text/plain": [
       "2.5"
      ]
     },
     "execution_count": 15,
     "metadata": {},
     "output_type": "execute_result"
    }
   ],
   "source": [
    "class Solution(object):\n",
    "    def findMedianSortedArrays(self, nums1, nums2):\n",
    "        \"\"\"\n",
    "        :type nums1: List[int]\n",
    "        :type nums2: List[int]\n",
    "        :rtype: float\n",
    "        \"\"\"\n",
    "        tot_len=len(nums1)+len(nums2)\n",
    "        odd=1\n",
    "        if(tot_len%2==0):\n",
    "            odd=0\n",
    "        arr=[]\n",
    "        i=0\n",
    "        j=0\n",
    "        while(i<len(nums1) and j<len(nums2)):\n",
    "            if(nums1[i]<nums2[j]):\n",
    "                arr.append(nums1[i])\n",
    "                i+=1\n",
    "            else:\n",
    "                arr.append(nums2[j])\n",
    "                j+=1\n",
    "        while(i<len(nums1)):\n",
    "            arr.append(nums1[i])\n",
    "            i+=1\n",
    "        while( j<len(nums2)):\n",
    "            arr.append(nums2[j])\n",
    "            j+=1\n",
    "        if(odd==1):\n",
    "            return(arr[tot_len//2])\n",
    "        else:\n",
    "            tt=(tot_len)//2\n",
    "            return((arr[tt]+arr[tt-1])/2)\n",
    "obj=Solution()\n",
    "obj.findMedianSortedArrays([1,2],[3,4])"
   ]
  },
  {
   "cell_type": "code",
   "execution_count": 4,
   "metadata": {},
   "outputs": [
    {
     "data": {
      "text/plain": [
       "2"
      ]
     },
     "execution_count": 4,
     "metadata": {},
     "output_type": "execute_result"
    }
   ],
   "source": [
    "(2+3)//2"
   ]
  },
  {
   "cell_type": "code",
   "execution_count": 10,
   "metadata": {},
   "outputs": [],
   "source": [
    "class Solution:\n",
    "    \tdef NthRoot(self, n, m):\n",
    "            l=0\n",
    "            r=m\n",
    "            while(l+1<r):\n",
    "                mid=(l+r)//2\n",
    "                ans=1\n",
    "                for i in range(n-1):\n",
    "                    ans*=mid\n",
    "                if(ans==m):\n",
    "                    return(mid)\n",
    "                elif(ans>m):\n",
    "                    r=mid-1\n",
    "                else:\n",
    "                    l=mid\n",
    "            ans=1\n",
    "            for i in range(n-1):\n",
    "                ans*=r\n",
    "            if(ans<m):\n",
    "                return(r)\n",
    "            else:\n",
    "                return(l)"
   ]
  },
  {
   "cell_type": "code",
   "execution_count": 11,
   "metadata": {},
   "outputs": [
    {
     "data": {
      "text/plain": [
       "8"
      ]
     },
     "execution_count": 11,
     "metadata": {},
     "output_type": "execute_result"
    }
   ],
   "source": [
    "onj=Solution()\n",
    "onj.NthRoot(2,9)"
   ]
  },
  {
   "cell_type": "code",
   "execution_count": 21,
   "metadata": {},
   "outputs": [],
   "source": [
    "a=1\n",
    "y=[2]\n",
    "a,=y"
   ]
  },
  {
   "cell_type": "code",
   "execution_count": 13,
   "metadata": {},
   "outputs": [
    {
     "name": "stdout",
     "output_type": "stream",
     "text": [
      "9\n"
     ]
    }
   ],
   "source": [
    "ans=1\n",
    "mid=3\n",
    "n=2\n",
    "for i in range(n):\n",
    "    ans*=mid\n",
    "print(ans)"
   ]
  },
  {
   "cell_type": "code",
   "execution_count": 26,
   "metadata": {},
   "outputs": [
    {
     "data": {
      "text/plain": [
       "0.0024787521766663585"
      ]
     },
     "execution_count": 26,
     "metadata": {},
     "output_type": "execute_result"
    }
   ],
   "source": [
    "import math\n",
    "math.exp(-6)*1"
   ]
  },
  {
   "cell_type": "code",
   "execution_count": 20,
   "metadata": {},
   "outputs": [],
   "source": [
    "b=1e-6"
   ]
  },
  {
   "cell_type": "code",
   "execution_count": 29,
   "metadata": {},
   "outputs": [
    {
     "data": {
      "text/plain": [
       "0.25"
      ]
     },
     "execution_count": 29,
     "metadata": {},
     "output_type": "execute_result"
    }
   ],
   "source": [
    "pow(4,-1)"
   ]
  },
  {
   "cell_type": "code",
   "execution_count": 24,
   "metadata": {},
   "outputs": [
    {
     "data": {
      "text/plain": [
       "True"
      ]
     },
     "execution_count": 24,
     "metadata": {},
     "output_type": "execute_result"
    }
   ],
   "source": [
    "0.000001==b"
   ]
  },
  {
   "cell_type": "code",
   "execution_count": 27,
   "metadata": {},
   "outputs": [
    {
     "data": {
      "text/plain": [
       "1.3862943611198906"
      ]
     },
     "execution_count": 27,
     "metadata": {},
     "output_type": "execute_result"
    }
   ],
   "source": [
    "math.log(4)"
   ]
  },
  {
   "cell_type": "code",
   "execution_count": 30,
   "metadata": {},
   "outputs": [
    {
     "data": {
      "text/plain": [
       "[1, 2, 3]"
      ]
     },
     "execution_count": 30,
     "metadata": {},
     "output_type": "execute_result"
    }
   ],
   "source": [
    "a=[1,2,3]\n",
    "a+=[]\n",
    "a"
   ]
  },
  {
   "cell_type": "code",
   "execution_count": null,
   "metadata": {},
   "outputs": [],
   "source": []
  }
 ],
 "metadata": {
  "interpreter": {
   "hash": "11ad92808b9e536a1bda76e6f18576c204b1bdc67c9013f7331a2b858d211f20"
  },
  "kernelspec": {
   "display_name": "Python 3.9.6 64-bit",
   "language": "python",
   "name": "python3"
  },
  "language_info": {
   "codemirror_mode": {
    "name": "ipython",
    "version": 3
   },
   "file_extension": ".py",
   "mimetype": "text/x-python",
   "name": "python",
   "nbconvert_exporter": "python",
   "pygments_lexer": "ipython3",
   "version": "3.9.6"
  },
  "orig_nbformat": 4
 },
 "nbformat": 4,
 "nbformat_minor": 2
}
