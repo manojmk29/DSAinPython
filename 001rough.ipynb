{
 "cells": [
  {
   "cell_type": "code",
   "execution_count": 31,
   "metadata": {},
   "outputs": [],
   "source": [
    "class Solution(object):\n",
    "    def combinationSum(self, candidates, target):\n",
    "        \"\"\"\n",
    "        :type candidates: List[int]\n",
    "        :type target: int\n",
    "        :rtype: List[List[int]]\n",
    "        \"\"\"\n",
    "        ans=[]\n",
    "        first=[]\n",
    "        candidates.sort()\n",
    "        self.backtrack(candidates,ans,target,first)\n",
    "        return(ans)\n",
    "    def backtrack(self,cand,ans,target,temp):\n",
    "        for i in cand:\n",
    "            temp+=[i]\n",
    "            if(sum(temp)==target):\n",
    "                ans.append(temp[:])\n",
    "            if(sum(temp)>target):\n",
    "                break\n",
    "            else:\n",
    "                self.backtrack(cand,ans,target,temp)\n",
    "x=Solution()\n",
    "arr=[2,3,6,7]\n",
    "target=7\n",
    "print(x.combinationSum(arr,target))"
   ]
  },
  {
   "cell_type": "code",
   "execution_count": 32,
   "metadata": {},
   "outputs": [
    {
     "name": "stdout",
     "output_type": "stream",
     "text": [
      "[]\n"
     ]
    }
   ],
   "source": [
    "x=Solution()\n",
    "arr=[2,3,6,7]\n",
    "target=7\n",
    "print(x.combinationSum(arr,target))\n",
    "# print(x.())\n",
    "# print(x.())\n",
    "# print(x.())"
   ]
  },
  {
   "cell_type": "code",
   "execution_count": 34,
   "metadata": {},
   "outputs": [
    {
     "data": {
      "text/plain": [
       "True"
      ]
     },
     "execution_count": 34,
     "metadata": {},
     "output_type": "execute_result"
    }
   ],
   "source": [
    "a=[[1,2],[3,4]]\n",
    "b=[[3,4],[1,2]]\n",
    "a.sort()==b.sort()"
   ]
  },
  {
   "cell_type": "code",
   "execution_count": null,
   "metadata": {},
   "outputs": [],
   "source": []
  }
 ],
 "metadata": {
  "interpreter": {
   "hash": "11ad92808b9e536a1bda76e6f18576c204b1bdc67c9013f7331a2b858d211f20"
  },
  "kernelspec": {
   "display_name": "Python 3.9.6 64-bit",
   "language": "python",
   "name": "python3"
  },
  "language_info": {
   "codemirror_mode": {
    "name": "ipython",
    "version": 3
   },
   "file_extension": ".py",
   "mimetype": "text/x-python",
   "name": "python",
   "nbconvert_exporter": "python",
   "pygments_lexer": "ipython3",
   "version": "3.9.6"
  },
  "orig_nbformat": 4
 },
 "nbformat": 4,
 "nbformat_minor": 2
}
