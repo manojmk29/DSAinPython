{
 "cells": [
  {
   "cell_type": "code",
   "execution_count": 4,
   "metadata": {},
   "outputs": [],
   "source": [
    "class Solution:\n",
    "    def dailyTemperatures(self, temperatures):\n",
    "        n=len(temperatures)\n",
    "        ans=[0]*n\n",
    "        stk=[]\n",
    "        for i in range(n):\n",
    "            while(stk and temperatures[stk[-1]]<temperatures[i]):\n",
    "                popped=stk.pop()\n",
    "                ans[popped]=i-popped\n",
    "            stk.append(i)\n",
    "        return(ans)\n",
    "        "
   ]
  },
  {
   "cell_type": "code",
   "execution_count": 2,
   "metadata": {},
   "outputs": [],
   "source": [
    "class Solution:\n",
    "    def dailyTemperatures(self, temperatures):\n",
    "        stk=[]\n",
    "        ret=[]\n",
    "        hmap={}\n",
    "        n=len(temperatures)\n",
    "        for i in range(n-1,-1,-1):\n",
    "            cnt=1\n",
    "            cur=temperatures[i]\n",
    "            while(stk and stk[-1][1]<=cur):\n",
    "                cnt+=1\n",
    "                cnt+=hmap[stk[-1][0]]\n",
    "                stk.pop()\n",
    "            hmap[i]=cnt-1\n",
    "            cnt=cnt if(stk) else 0\n",
    "            ret.append(cnt)\n",
    "            stk.append((i,cur))\n",
    "        return(ret[::-1])"
   ]
  },
  {
   "cell_type": "code",
   "execution_count": 1,
   "metadata": {},
   "outputs": [
    {
     "data": {
      "text/plain": [
       "1"
      ]
     },
     "execution_count": 1,
     "metadata": {},
     "output_type": "execute_result"
    }
   ],
   "source": [
    "a=(1,2)\n",
    "a[0]"
   ]
  },
  {
   "cell_type": "code",
   "execution_count": null,
   "metadata": {},
   "outputs": [],
   "source": []
  }
 ],
 "metadata": {
  "interpreter": {
   "hash": "11ad92808b9e536a1bda76e6f18576c204b1bdc67c9013f7331a2b858d211f20"
  },
  "kernelspec": {
   "display_name": "Python 3.9.6 64-bit",
   "language": "python",
   "name": "python3"
  },
  "language_info": {
   "codemirror_mode": {
    "name": "ipython",
    "version": 3
   },
   "file_extension": ".py",
   "mimetype": "text/x-python",
   "name": "python",
   "nbconvert_exporter": "python",
   "pygments_lexer": "ipython3",
   "version": "3.9.6"
  },
  "orig_nbformat": 4
 },
 "nbformat": 4,
 "nbformat_minor": 2
}
