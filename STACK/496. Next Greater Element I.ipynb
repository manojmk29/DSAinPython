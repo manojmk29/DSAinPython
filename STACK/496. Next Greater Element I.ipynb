{
 "cells": [
  {
   "cell_type": "code",
   "execution_count": 2,
   "metadata": {},
   "outputs": [],
   "source": [
    "class Solution(object):\n",
    "    def nextGreaterElement(self, nums1, nums2):\n",
    "        \"\"\"\n",
    "        :type nums1: List[int]\n",
    "        :type nums2: List[int]\n",
    "        :rtype: List[int]\n",
    "        \"\"\"\n",
    "        #method 2 \n",
    "        \"\"\"\n",
    "        Here i am using monotonic stack for finding minimum elements from reverse order \n",
    "        tc-n\n",
    "        sc-n \n",
    "        \"\"\"\n",
    "        hmap={}\n",
    "        stack=[]\n",
    "        n1=len(nums1)\n",
    "        n2=len(nums2)\n",
    "        for i in range(n2-1,-1,-1):\n",
    "            val=nums2[i]\n",
    "            while(stack and val>stack[-1]):\n",
    "                stack.pop()\n",
    "            if(stack):\n",
    "                hmap[val]=stack[-1]\n",
    "            else:\n",
    "                hmap[val]=-1\n",
    "            stack.append(val)\n",
    "        ret=[]\n",
    "        for i in nums1:\n",
    "            if i not in hmap:\n",
    "                ret.append(-1)\n",
    "            else:\n",
    "                ret.append(hmap[i])\n",
    "        return(ret)"
   ]
  },
  {
   "cell_type": "code",
   "execution_count": 1,
   "metadata": {},
   "outputs": [],
   "source": [
    "class Solution(object):\n",
    "    def nextGreaterElement(self, nums1, nums2):\n",
    "        \"\"\"\n",
    "        :type nums1: List[int]\n",
    "        :type nums2: List[int]\n",
    "        :rtype: List[int]\n",
    "\n",
    "        i am using two loops and the time complexity is n*n\n",
    "        \"\"\"\n",
    "        \n",
    "        #method 1\n",
    "        \n",
    "        for i in range(len(nums1)):\n",
    "            x=nums1[i]\n",
    "            flag=0\n",
    "            maxi=-1\n",
    "            for j in range(len(nums2)):\n",
    "                if(nums2[j]==x):\n",
    "                    flag=1\n",
    "                if(flag==1):\n",
    "                    if(nums2[j]>x):\n",
    "                        maxi=nums2[j]\n",
    "                        break\n",
    "            nums1[i]=maxi    \n",
    "        return(nums1)"
   ]
  },
  {
   "cell_type": "code",
   "execution_count": null,
   "metadata": {},
   "outputs": [],
   "source": []
  }
 ],
 "metadata": {
  "interpreter": {
   "hash": "11ad92808b9e536a1bda76e6f18576c204b1bdc67c9013f7331a2b858d211f20"
  },
  "kernelspec": {
   "display_name": "Python 3.9.6 64-bit",
   "language": "python",
   "name": "python3"
  },
  "language_info": {
   "codemirror_mode": {
    "name": "ipython",
    "version": 3
   },
   "file_extension": ".py",
   "mimetype": "text/x-python",
   "name": "python",
   "nbconvert_exporter": "python",
   "pygments_lexer": "ipython3",
   "version": "3.9.6"
  },
  "orig_nbformat": 4
 },
 "nbformat": 4,
 "nbformat_minor": 2
}
