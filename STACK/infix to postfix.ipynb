{
 "cells": [
  {
   "cell_type": "code",
   "execution_count": 7,
   "metadata": {},
   "outputs": [
    {
     "data": {
      "text/plain": [
       "'abcd^e(+fgh+^i-'"
      ]
     },
     "execution_count": 7,
     "metadata": {},
     "output_type": "execute_result"
    }
   ],
   "source": [
    "class Solution:\n",
    "    \n",
    "    #Function to convert an infix expression to a postfix expression.\n",
    "    def InfixtoPostfix(self, inp):\n",
    "        ret=[]\n",
    "        val=[]\n",
    "        hset={\"+\":1,\"-\":1,\"/\":2,\"*\":2,\"^\":3}\n",
    "        for i in inp:\n",
    "            if i not in hset:\n",
    "                if i==\"(\":\n",
    "                    val.append(i)\n",
    "                elif i==\")\":\n",
    "                    while(val[-1]!=\"(\"):\n",
    "                        ret.append(val.pop())\n",
    "                    val.pop()\n",
    "                else:\n",
    "                    ret.append(i)\n",
    "            else:\n",
    "                while val and val[-1]!=\"(\" and hset[val[-1]]>=hset[i]:\n",
    "                    ret.append(val.pop())\n",
    "                val.append(i)\n",
    "        while val:\n",
    "            ret.append(val.pop())\n",
    "        return \"\".join(ret)"
   ]
  },
  {
   "cell_type": "code",
   "execution_count": null,
   "metadata": {},
   "outputs": [],
   "source": []
  }
 ],
 "metadata": {
  "kernelspec": {
   "display_name": "Python 3.9.6 64-bit",
   "language": "python",
   "name": "python3"
  },
  "language_info": {
   "codemirror_mode": {
    "name": "ipython",
    "version": 3
   },
   "file_extension": ".py",
   "mimetype": "text/x-python",
   "name": "python",
   "nbconvert_exporter": "python",
   "pygments_lexer": "ipython3",
   "version": "3.9.6"
  },
  "orig_nbformat": 4,
  "vscode": {
   "interpreter": {
    "hash": "e26b106e6146fa3417b08aa501d422914abd065c08ced2fc57ef114abeab93c7"
   }
  }
 },
 "nbformat": 4,
 "nbformat_minor": 2
}
