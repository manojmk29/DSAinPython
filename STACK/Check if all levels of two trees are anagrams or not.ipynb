{
 "cells": [
  {
   "cell_type": "code",
   "execution_count": 1,
   "metadata": {},
   "outputs": [
    {
     "ename": "ValueError",
     "evalue": "invalid literal for int() with base 10: ''",
     "output_type": "error",
     "traceback": [
      "\u001b[1;31m---------------------------------------------------------------------------\u001b[0m",
      "\u001b[1;31mValueError\u001b[0m                                Traceback (most recent call last)",
      "\u001b[1;32m~\\AppData\\Local\\Temp/ipykernel_5924/1153832000.py\u001b[0m in \u001b[0;36m<module>\u001b[1;34m\u001b[0m\n\u001b[0;32m    130\u001b[0m \u001b[1;33m\u001b[0m\u001b[0m\n\u001b[0;32m    131\u001b[0m \u001b[1;32mif\u001b[0m \u001b[0m__name__\u001b[0m\u001b[1;33m==\u001b[0m\u001b[1;34m\"__main__\"\u001b[0m\u001b[1;33m:\u001b[0m\u001b[1;33m\u001b[0m\u001b[1;33m\u001b[0m\u001b[0m\n\u001b[1;32m--> 132\u001b[1;33m     \u001b[0mt\u001b[0m \u001b[1;33m=\u001b[0m \u001b[0mint\u001b[0m\u001b[1;33m(\u001b[0m\u001b[0minput\u001b[0m\u001b[1;33m(\u001b[0m\u001b[1;33m)\u001b[0m\u001b[1;33m)\u001b[0m\u001b[1;33m\u001b[0m\u001b[1;33m\u001b[0m\u001b[0m\n\u001b[0m\u001b[0;32m    133\u001b[0m     \u001b[1;32mfor\u001b[0m \u001b[0m_\u001b[0m \u001b[1;32min\u001b[0m \u001b[0mrange\u001b[0m\u001b[1;33m(\u001b[0m\u001b[0mt\u001b[0m\u001b[1;33m)\u001b[0m\u001b[1;33m:\u001b[0m\u001b[1;33m\u001b[0m\u001b[1;33m\u001b[0m\u001b[0m\n\u001b[0;32m    134\u001b[0m \u001b[1;33m\u001b[0m\u001b[0m\n",
      "\u001b[1;31mValueError\u001b[0m: invalid literal for int() with base 10: ''"
     ]
    }
   ],
   "source": [
    "from typing import Optional\n",
    "from collections import deque\n",
    "\"\"\"\n",
    "\n",
    "definition of binary tree node.\n",
    "class Node:\n",
    "    def _init_(self,val):\n",
    "        self.data = val\n",
    "        self.left = None\n",
    "        self.right = None\n",
    "\"\"\"\n",
    "import collections\n",
    "class Solution:\n",
    "    def areAnagrams(self, node1 : Optional['Node'], node2 : Optional['Node']) -> bool:\n",
    "        dq=collections.deque([])\n",
    "        hmap={}\n",
    "        cnt=0\n",
    "        dq.append(node1)\n",
    "        while(dq):\n",
    "            n=len(dq)\n",
    "            wrd=\"\"\n",
    "            for i in range(n):\n",
    "                val=dq.popleft()\n",
    "                wrd+=str(val.data)\n",
    "                if(val.left):\n",
    "                    dq.append(val.left)\n",
    "                if(val.right):\n",
    "                    dq.append(val.right)\n",
    "            hmap[cnt]=wrd\n",
    "            cnt+=1\n",
    "        smap={}\n",
    "        cnt=0\n",
    "        dq=collections.deque([])\n",
    "        dq.append(node2)\n",
    "        while(dq):\n",
    "            n=len(dq)\n",
    "            wrd=\"\"\n",
    "            for i in range(n):\n",
    "                val=dq.popleft()\n",
    "                wrd+=str(val.data)\n",
    "                if(val.left):\n",
    "                    dq.append(val.left)\n",
    "                if(val.right):\n",
    "                    dq.append(val.right)\n",
    "            smap[cnt]=wrd\n",
    "            cnt+=1\n",
    "        for i in hmap:\n",
    "            if(i not in smap or sorted(smap[i])!=sorted(hmap[i])):\n",
    "                return(False)\n",
    "        return(True)\n",
    "            \n",
    "        \n",
    "        \n",
    "        \n",
    "#{ \n",
    "#  Driver Code Starts\n",
    "class Node:\n",
    "    def __init__(self,val):\n",
    "        self.data=val\n",
    "        self.right=None\n",
    "        self.left=None\n",
    "\n",
    "# Function to Build Tree\n",
    "def buildTree(s):\n",
    "    #Corner Case\n",
    "    if(len(s)==0 or s[0]==\"N\"):           \n",
    "        return None\n",
    "        \n",
    "    # Creating list of strings from input \n",
    "    # string after spliting by space\n",
    "    ip=list(map(str,s.split()))\n",
    "    \n",
    "    # Create the root of the tree\n",
    "    root=Node(int(ip[0]))                     \n",
    "    size=0\n",
    "    q=deque()\n",
    "    \n",
    "    # Push the root to the queue\n",
    "    q.append(root)                            \n",
    "    size=size+1 \n",
    "    \n",
    "    # Starting from the second element\n",
    "    i=1                                       \n",
    "    while(size>0 and i<len(ip)):\n",
    "        # Get and remove the front of the queue\n",
    "        currNode=q[0]\n",
    "        q.popleft()\n",
    "        size=size-1\n",
    "        \n",
    "        # Get the current node's value from the string\n",
    "        currVal=ip[i]\n",
    "        \n",
    "        # If the left child is not null\n",
    "        if(currVal!=\"N\"):\n",
    "            \n",
    "            # Create the left child for the current node\n",
    "            currNode.left=Node(int(currVal))\n",
    "            \n",
    "            # Push it to the queue\n",
    "            q.append(currNode.left)\n",
    "            size=size+1\n",
    "        # For the right child\n",
    "        i=i+1\n",
    "        if(i>=len(ip)):\n",
    "            break\n",
    "        currVal=ip[i]\n",
    "        \n",
    "        # If the right child is not null\n",
    "        if(currVal!=\"N\"):\n",
    "            \n",
    "            # Create the right child for the current node\n",
    "            currNode.right=Node(int(currVal))\n",
    "            \n",
    "            # Push it to the queue\n",
    "            q.append(currNode.right)\n",
    "            size=size+1\n",
    "        i=i+1\n",
    "    return root\n",
    "\n",
    "def inputTree():\n",
    "    treeString=input().strip()\n",
    "    root = buildTree(treeString)\n",
    "    return root\n",
    "def inorder(root):\n",
    "    if (root == None):\n",
    "       return\n",
    "    inorder(root.left);\n",
    "    print(root.data,end=\" \")\n",
    "    inorder(root.right)\n",
    "\n",
    "if __name__==\"__main__\":\n",
    "    t = int(input())\n",
    "    for _ in range(t):\n",
    "        \n",
    "        node1 = inputTree();\n",
    "        \n",
    "        \n",
    "        node2 = inputTree();\n",
    "        \n",
    "        obj = Solution()\n",
    "        res = obj.areAnagrams(node1, node2)\n",
    "        \n",
    "        result_val = 1 if res else 0\n",
    "        print(result_val)\n",
    "\n",
    "# } Driver Code Ends"
   ]
  },
  {
   "cell_type": "code",
   "execution_count": 8,
   "metadata": {},
   "outputs": [
    {
     "data": {
      "text/plain": [
       "'2'"
      ]
     },
     "execution_count": 8,
     "metadata": {},
     "output_type": "execute_result"
    }
   ],
   "source": [
    "str(2)"
   ]
  },
  {
   "cell_type": "code",
   "execution_count": 11,
   "metadata": {},
   "outputs": [
    {
     "data": {
      "text/plain": [
       "97"
      ]
     },
     "execution_count": 11,
     "metadata": {},
     "output_type": "execute_result"
    }
   ],
   "source": [
    "ord(\"a\")"
   ]
  },
  {
   "cell_type": "code",
   "execution_count": 12,
   "metadata": {},
   "outputs": [
    {
     "data": {
      "text/plain": [
       "'Z'"
      ]
     },
     "execution_count": 12,
     "metadata": {},
     "output_type": "execute_result"
    }
   ],
   "source": [
    "chr(90)"
   ]
  },
  {
   "cell_type": "code",
   "execution_count": null,
   "metadata": {},
   "outputs": [],
   "source": []
  }
 ],
 "metadata": {
  "interpreter": {
   "hash": "11ad92808b9e536a1bda76e6f18576c204b1bdc67c9013f7331a2b858d211f20"
  },
  "kernelspec": {
   "display_name": "Python 3.9.6 64-bit",
   "language": "python",
   "name": "python3"
  },
  "language_info": {
   "codemirror_mode": {
    "name": "ipython",
    "version": 3
   },
   "file_extension": ".py",
   "mimetype": "text/x-python",
   "name": "python",
   "nbconvert_exporter": "python",
   "pygments_lexer": "ipython3",
   "version": "3.9.6"
  },
  "orig_nbformat": 4
 },
 "nbformat": 4,
 "nbformat_minor": 2
}
