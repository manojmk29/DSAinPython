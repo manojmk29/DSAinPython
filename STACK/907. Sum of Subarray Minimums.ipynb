{
 "cells": [
  {
   "cell_type": "code",
   "execution_count": 8,
   "metadata": {},
   "outputs": [],
   "source": [
    "class Solution:\n",
    "    def sumSubarrayMins(self, arr):\n",
    "        tot=0\n",
    "        for i in range(len(arr)):\n",
    "            val=float(\"inf\")\n",
    "            for j in range(i,len(arr)):\n",
    "                val=min(val,arr[j])\n",
    "                tot+=val\n",
    "        return(tot%int(1e9+7))"
   ]
  },
  {
   "cell_type": "code",
   "execution_count": 24,
   "metadata": {},
   "outputs": [],
   "source": [
    "class Solution:\n",
    "    def sumSubarrayMins(self, arr):\n",
    "        n=len(arr)\n",
    "        mvv=max(arr)\n",
    "        def dp(ind,mv):\n",
    "            if(ind==n):\n",
    "                return(0)\n",
    "            tot=0\n",
    "            tot+=dp(ind+1,mvv)\n",
    "            mv=min(mv,arr[ind])\n",
    "            tot+=mv\n",
    "            tot+=dp(ind+1,mv)\n",
    "            return(tot)\n",
    "        return(dp(0,mvv))"
   ]
  },
  {
   "cell_type": "code",
   "execution_count": 25,
   "metadata": {},
   "outputs": [
    {
     "data": {
      "text/plain": [
       "743"
      ]
     },
     "execution_count": 25,
     "metadata": {},
     "output_type": "execute_result"
    }
   ],
   "source": [
    "Solution().sumSubarrayMins([11,81,94,43,3])"
   ]
  },
  {
   "cell_type": "code",
   "execution_count": 5,
   "metadata": {},
   "outputs": [
    {
     "data": {
      "text/plain": [
       "15.0"
      ]
     },
     "execution_count": 5,
     "metadata": {},
     "output_type": "execute_result"
    }
   ],
   "source": [
    "class Solution:\n",
    "    def sumSubarrayMins(self, arr: List[int]) -> int:\n",
    "        tot=0\n",
    "        cnt=0\n",
    "        val=float(\"inf\")\n",
    "        for i in range(len(arr)-1,-1,-1):\n",
    "            val=min(val,arr[i])\n",
    "            tot+=arr[i]\n",
    "            tot+=(cnt*val)\n",
    "            cnt+=1\n",
    "        return(tot)"
   ]
  },
  {
   "cell_type": "code",
   "execution_count": null,
   "metadata": {},
   "outputs": [],
   "source": []
  },
  {
   "cell_type": "code",
   "execution_count": 30,
   "metadata": {},
   "outputs": [
    {
     "name": "stdout",
     "output_type": "stream",
     "text": [
      "[11, 81, 94, 43, 3]\n",
      "[11]\n",
      "[11, 81]\n",
      "[11, 81, 94]\n",
      "[11, 81, 94, 43]\n",
      "[11, 81, 94, 43, 3]\n",
      "[81]\n",
      "[81, 94]\n",
      "[81, 94, 43]\n",
      "[81, 94, 43, 3]\n",
      "[94]\n",
      "[94, 43]\n",
      "[94, 43, 3]\n",
      "[43]\n",
      "[43, 3]\n",
      "[3]\n"
     ]
    }
   ],
   "source": [
    "arr=[11,81,94,43,3]\n",
    "print(arr)\n",
    "for i in range(len(arr)):\n",
    "    for j in range(i,len(arr)):\n",
    "        print(arr[i:j+1])"
   ]
  },
  {
   "cell_type": "code",
   "execution_count": null,
   "metadata": {},
   "outputs": [],
   "source": [
    "class Solution:\n",
    "    def sumSubarrayMins(self, arr):\n",
    "        stk=[]\n",
    "        for i in range(len(arr)):\n",
    "            "
   ]
  },
  {
   "cell_type": "code",
   "execution_count": 42,
   "metadata": {},
   "outputs": [],
   "source": [
    "class Solution:\n",
    "    def sumSubarrayMins(self, arr):\n",
    "        stk=[]\n",
    "        stk.append((arr[0],0))\n",
    "        n=len(arr)\n",
    "        tot=arr[0]*n\n",
    "        for i in range(1,len(arr)):\n",
    "            last=i\n",
    "            it=i\n",
    "            ggg=arr[i]\n",
    "            while(stk and stk[-1][0]>arr[i]):\n",
    "                val=stk.pop()\n",
    "                last=val[1]\n",
    "                ggg=val[0]\n",
    "                temp=((it-last)*()*ggg)\n",
    "                it=last\n",
    "            stk.append((arr[i],last))\n",
    "            if(ggg>arr[i]):\n",
    "                tot-=temp\n",
    "                temp=((i-last)*(n-i)*arr[i])\n",
    "                tot+=temp\n",
    "            temp=(n-i)*arr[i]\n",
    "            tot+=temp\n",
    "        return(tot)\n",
    "            "
   ]
  },
  {
   "cell_type": "code",
   "execution_count": 43,
   "metadata": {},
   "outputs": [
    {
     "data": {
      "text/plain": [
       "761"
      ]
     },
     "execution_count": 43,
     "metadata": {},
     "output_type": "execute_result"
    }
   ],
   "source": [
    "Solution().sumSubarrayMins([11,81,94,43,3])"
   ]
  },
  {
   "cell_type": "code",
   "execution_count": null,
   "metadata": {},
   "outputs": [],
   "source": []
  }
 ],
 "metadata": {
  "interpreter": {
   "hash": "11ad92808b9e536a1bda76e6f18576c204b1bdc67c9013f7331a2b858d211f20"
  },
  "kernelspec": {
   "display_name": "Python 3.9.6 64-bit",
   "language": "python",
   "name": "python3"
  },
  "language_info": {
   "codemirror_mode": {
    "name": "ipython",
    "version": 3
   },
   "file_extension": ".py",
   "mimetype": "text/x-python",
   "name": "python",
   "nbconvert_exporter": "python",
   "pygments_lexer": "ipython3",
   "version": "3.9.6"
  },
  "orig_nbformat": 4
 },
 "nbformat": 4,
 "nbformat_minor": 2
}
