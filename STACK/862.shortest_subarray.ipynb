{
 "cells": [
  {
   "cell_type": "code",
   "execution_count": 2,
   "metadata": {},
   "outputs": [],
   "source": [
    "import collections\n",
    "class Solution:\n",
    "    def shortestSubarray(self, nums, k):\n",
    "        arr = collections.deque()\n",
    "        ret = float(\"inf\")\n",
    "        tot = 0 \n",
    "        last = -1\n",
    "        for i in range(len(nums)):\n",
    "            tot += nums[i]\n",
    "            while(arr and arr[-1][0]>=tot):\n",
    "                arr.pop()\n",
    "                \n",
    "            arr.append([tot,i])\n",
    "            while(arr and ( tot - arr[0][0] ) >= k ):\n",
    "                last = arr[0][1]\n",
    "                arr.popleft()\n",
    "            if(tot>=k):\n",
    "                ret = min(ret,(i-last))\n",
    "        return -1 if(ret==float(\"inf\")) else ret "
   ]
  },
  {
   "cell_type": "code",
   "execution_count": 4,
   "metadata": {},
   "outputs": [],
   "source": [
    "Solution().shortestSubarray([-28,81,-20,28,-29],89)"
   ]
  },
  {
   "cell_type": "code",
   "execution_count": null,
   "metadata": {},
   "outputs": [],
   "source": []
  },
  {
   "cell_type": "code",
   "execution_count": null,
   "metadata": {},
   "outputs": [],
   "source": []
  }
 ],
 "metadata": {
  "kernelspec": {
   "display_name": "Python 3",
   "language": "python",
   "name": "python3"
  },
  "language_info": {
   "codemirror_mode": {
    "name": "ipython",
    "version": 3
   },
   "file_extension": ".py",
   "mimetype": "text/x-python",
   "name": "python",
   "nbconvert_exporter": "python",
   "pygments_lexer": "ipython3",
   "version": "3.11.1 (v3.11.1:a7a450f84a, Dec  6 2022, 15:24:06) [Clang 13.0.0 (clang-1300.0.29.30)]"
  },
  "orig_nbformat": 4,
  "vscode": {
   "interpreter": {
    "hash": "aee8b7b246df8f9039afb4144a1f6fd8d2ca17a180786b69acc140d282b71a49"
   }
  }
 },
 "nbformat": 4,
 "nbformat_minor": 2
}
