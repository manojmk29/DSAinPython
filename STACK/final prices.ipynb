{
 "cells": [
  {
   "cell_type": "code",
   "execution_count": null,
   "metadata": {},
   "outputs": [],
   "source": [
    "class Solution(object):\n",
    "    def finalPrices(self, prices):\n",
    "        \"\"\"\n",
    "        :type prices: List[int]\n",
    "        :rtype: List[int]\n",
    "        \"\"\"\n",
    "        ret=prices\n",
    "        stack=[]\n",
    "        stack.append((prices[0],0))\n",
    "        for i in range(1,len(prices)):\n",
    "            while(stack and stack[-1][0]>=prices[i]):\n",
    "                val=stack.pop()\n",
    "                ret[val[1]]=ret[val[1]]-prices[i]\n",
    "            stack.append((prices[i],i))\n",
    "        return(ret)\n",
    "    "
   ]
  }
 ],
 "metadata": {
  "language_info": {
   "name": "python"
  },
  "orig_nbformat": 4
 },
 "nbformat": 4,
 "nbformat_minor": 2
}
