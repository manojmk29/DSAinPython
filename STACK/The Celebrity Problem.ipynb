{
 "cells": [
  {
   "cell_type": "code",
   "execution_count": 10,
   "metadata": {},
   "outputs": [],
   "source": [
    "#a\n",
    "class Solution:\n",
    "    #Function to find if there is a celebrity in the party or not.\n",
    "    def celebrity(self, M, n):\n",
    "        # code here\n",
    "        # hmap=collections.defaultdict(list)\n",
    "        r=len(M)\n",
    "        c=len(M[0])\n",
    "        st=0\n",
    "        end=r-1\n",
    "        cand=-1\n",
    "        while(st<end):\n",
    "            if(M[end][st]):\n",
    "                end-=1\n",
    "            else:\n",
    "                st+=1\n",
    "        cand=st\n",
    "        if(cand==-1):\n",
    "            return(-1)\n",
    "        for i in range(c):\n",
    "            if(i!=cand):\n",
    "                if(M[cand][i] or M[i][cand]==0):\n",
    "                    return(-1)\n",
    "        return(cand)"
   ]
  },
  {
   "cell_type": "code",
   "execution_count": 8,
   "metadata": {},
   "outputs": [],
   "source": [
    "class Solution:\n",
    "    #Function to find if there is a celebrity in the party or not.\n",
    "    def celebrity(self, M, n):\n",
    "        # code here\n",
    "        r=len(M)\n",
    "        c=len(M[0])\n",
    "        arr=[]\n",
    "        for i in range(r):\n",
    "            flag=1\n",
    "            for j in range(c):\n",
    "                if(M[i][j]==1):\n",
    "                    flag=0\n",
    "            if(flag==1):\n",
    "                arr.append(i)\n",
    "        j=-1\n",
    "        for i in range(r):\n",
    "            flag=1\n",
    "            for j in arr:\n",
    "                if(i!=j and M[i][j]==0):\n",
    "                    flag=0\n",
    "            if(flag==1):\n",
    "                return(j)\n",
    "        return(-1)"
   ]
  },
  {
   "cell_type": "code",
   "execution_count": 9,
   "metadata": {},
   "outputs": [
    {
     "data": {
      "text/plain": [
       "-1"
      ]
     },
     "execution_count": 9,
     "metadata": {},
     "output_type": "execute_result"
    }
   ],
   "source": [
    "Solution().celebrity([[0,1,1,0],[0,0,0,1],[1,1,0,1],[1,1,1,0]],4)"
   ]
  },
  {
   "cell_type": "code",
   "execution_count": 2,
   "metadata": {},
   "outputs": [],
   "source": [
    "arr=[[0,1,1,0],[0,0,0,1],[1,1,0,1],[1,1,1,0]]"
   ]
  },
  {
   "cell_type": "code",
   "execution_count": 3,
   "metadata": {},
   "outputs": [
    {
     "data": {
      "text/plain": [
       "[[0, 1, 1, 0], [0, 0, 0, 1], [1, 1, 0, 1], [1, 1, 1, 0]]"
      ]
     },
     "execution_count": 3,
     "metadata": {},
     "output_type": "execute_result"
    }
   ],
   "source": [
    "[0,1,1,0]\n",
    "[0,0,0,1]\n",
    "[1,1,0,1]\n",
    "[1,1,1,0]"
   ]
  },
  {
   "cell_type": "code",
   "execution_count": 17,
   "metadata": {},
   "outputs": [
    {
     "data": {
      "text/plain": [
       "4"
      ]
     },
     "execution_count": 17,
     "metadata": {},
     "output_type": "execute_result"
    }
   ],
   "source": [
    "import math\n",
    "math.ceil(3.001)"
   ]
  },
  {
   "cell_type": "code",
   "execution_count": 20,
   "metadata": {},
   "outputs": [
    {
     "data": {
      "text/plain": [
       "2"
      ]
     },
     "execution_count": 20,
     "metadata": {},
     "output_type": "execute_result"
    }
   ],
   "source": [
    "4//2"
   ]
  },
  {
   "cell_type": "code",
   "execution_count": null,
   "metadata": {},
   "outputs": [],
   "source": []
  }
 ],
 "metadata": {
  "interpreter": {
   "hash": "11ad92808b9e536a1bda76e6f18576c204b1bdc67c9013f7331a2b858d211f20"
  },
  "kernelspec": {
   "display_name": "Python 3.9.6 64-bit",
   "language": "python",
   "name": "python3"
  },
  "language_info": {
   "codemirror_mode": {
    "name": "ipython",
    "version": 3
   },
   "file_extension": ".py",
   "mimetype": "text/x-python",
   "name": "python",
   "nbconvert_exporter": "python",
   "pygments_lexer": "ipython3",
   "version": "3.9.6"
  },
  "orig_nbformat": 4
 },
 "nbformat": 4,
 "nbformat_minor": 2
}
