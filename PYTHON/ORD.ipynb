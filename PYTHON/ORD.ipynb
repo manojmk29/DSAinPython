{
 "cells": [
  {
   "cell_type": "markdown",
   "metadata": {},
   "source": [
    "ord= value to ascii (should be in the string)\n",
    "\n",
    "\n",
    "chr = ascii to value"
   ]
  },
  {
   "cell_type": "code",
   "execution_count": 1,
   "metadata": {},
   "outputs": [
    {
     "name": "stdout",
     "output_type": "stream",
     "text": [
      "49\n",
      "a\n"
     ]
    }
   ],
   "source": [
    "print(ord(\"1\"))\n",
    "print(chr(97))"
   ]
  },
  {
   "cell_type": "code",
   "execution_count": 1,
   "metadata": {},
   "outputs": [
    {
     "data": {
      "text/plain": [
       "97"
      ]
     },
     "execution_count": 1,
     "metadata": {},
     "output_type": "execute_result"
    }
   ],
   "source": [
    "ord(\"a\")"
   ]
  },
  {
   "cell_type": "code",
   "execution_count": 3,
   "metadata": {},
   "outputs": [
    {
     "name": "stdout",
     "output_type": "stream",
     "text": [
      "Pattern found at index 2\n"
     ]
    }
   ],
   "source": [
    "# Following program is the python implementation of\n",
    "# Rabin Karp Algorithm given in CLRS book\n",
    "\n",
    "# d is the number of characters in the input alphabet\n",
    "mul = 256\n",
    "\n",
    "# pat -> pattern\n",
    "# txt -> text\n",
    "# q -> A prime number\n",
    "\n",
    "def search(text, match):\n",
    "\tml = len(match)\n",
    "\ttl = len(text)\n",
    "\tph = 0 # hash value for pattern\n",
    "\tth = 0 # hash value for txt\n",
    "\trem = 1\n",
    "\t# The value of h would be \"pow(d, M-1)%q\"\n",
    "\tfor i in range(ml-1):\n",
    "\t\trem = (rem*mul)\n",
    "\n",
    "\t# Calculate the hash value of pattern and first window\n",
    "\t# of text\n",
    "\tfor i in range(ml):\n",
    "\t\tph = (mul*ml + ord(match[i]))\n",
    "\t\ttl = (mul*tl + ord(text[i]))\n",
    "\n",
    "\t# Slide the pattern over text one by one\n",
    "\tfor i in range(tl-ml+1):\n",
    "\t\t# Check the hash values of current window of text and\n",
    "\t\t# pattern if the hash values match then only check\n",
    "\t\t# for characters on by one\n",
    "\t\tif tl==ml:\n",
    "\t\t\t# Check for characters one by one\n",
    "\t\t\tfor j in range(ml):\n",
    "\t\t\t\tif txt[i+j] != pat[j]:\n",
    "\t\t\t\t\tbreak\n",
    "\t\t\t\telse: j+=1\n",
    "\n",
    "\t\t\t# if p == t and pat[0...M-1] = txt[i, i+1, ...i+M-1]\n",
    "\t\t\tif j==ml:\n",
    "\t\t\t\tprint (\"Pattern found at index \" + str(i))\n",
    "\n",
    "\t\t# Calculate hash value for next window of text: Remove\n",
    "\t\t# leading digit, add trailing digit\n",
    "\t\tif i < tl-ml:\n",
    "\t\t\ttl = (mul*(tl-ord(txt[i])*h) + ord(txt[i+ml]))\n",
    "\n",
    "\t\t\t# We might get negative values of t, converting it to\n",
    "\t\t\t# positive\n",
    "\t\t\t# if t < 0:\n",
    "\t\t\t# \tt = t+q\n",
    "\n",
    "# Driver Code\n",
    "txt = \"GEEKS FOR GEEKS\"\n",
    "pat = \"GEEK\"\n",
    "\n",
    "# A prime number\n",
    "# Function Call\n",
    "search(\"cdd\",\"abcdd\")\n",
    "\n",
    "# This code is contributed by Bhavya Jain\n"
   ]
  },
  {
   "cell_type": "code",
   "execution_count": 3,
   "metadata": {},
   "outputs": [
    {
     "data": {
      "text/plain": [
       "[(1, 5), (2, 6), (3, 7), (0, 8)]"
      ]
     },
     "execution_count": 3,
     "metadata": {},
     "output_type": "execute_result"
    }
   ],
   "source": [
    "from itertools import zip_longest\n",
    "a=[1,2,3]\n",
    "b=[5,6,7,8]\n",
    "c=zip_longest(a,b,fillvalue=0)\n",
    "list(c)"
   ]
  },
  {
   "cell_type": "code",
   "execution_count": 5,
   "metadata": {},
   "outputs": [
    {
     "data": {
      "text/plain": [
       "5"
      ]
     },
     "execution_count": 5,
     "metadata": {},
     "output_type": "execute_result"
    }
   ],
   "source": [
    "aa=5\n",
    "def ff():\n",
    "    aa=7\n",
    "ff()\n",
    "aa"
   ]
  },
  {
   "cell_type": "code",
   "execution_count": 5,
   "metadata": {},
   "outputs": [
    {
     "data": {
      "text/plain": [
       "1"
      ]
     },
     "execution_count": 5,
     "metadata": {},
     "output_type": "execute_result"
    }
   ],
   "source": [
    "class d:\n",
    "    a=0\n",
    "    def ff(self):\n",
    "        self.a=1\n",
    "    def f(self):\n",
    "        self.a+=1\n",
    "o=d()\n",
    "# o.ff()\n",
    "o.f()\n",
    "o.a"
   ]
  },
  {
   "cell_type": "code",
   "execution_count": 8,
   "metadata": {},
   "outputs": [
    {
     "name": "stdout",
     "output_type": "stream",
     "text": [
      "a\n"
     ]
    }
   ],
   "source": [
    "a=[2]\n",
    "if(a):\n",
    "    print(\"a\")"
   ]
  },
  {
   "cell_type": "code",
   "execution_count": 11,
   "metadata": {},
   "outputs": [
    {
     "ename": "TypeError",
     "evalue": "'int' object is not iterable",
     "output_type": "error",
     "traceback": [
      "\u001b[1;31m---------------------------------------------------------------------------\u001b[0m",
      "\u001b[1;31mTypeError\u001b[0m                                 Traceback (most recent call last)",
      "\u001b[1;32m~\\AppData\\Local\\Temp/ipykernel_1856/2438986675.py\u001b[0m in \u001b[0;36m<module>\u001b[1;34m\u001b[0m\n\u001b[0;32m      1\u001b[0m \u001b[0ma\u001b[0m\u001b[1;33m=\u001b[0m\u001b[1;33m[\u001b[0m\u001b[1;33m]\u001b[0m\u001b[1;33m\u001b[0m\u001b[1;33m\u001b[0m\u001b[0m\n\u001b[1;32m----> 2\u001b[1;33m \u001b[0ma\u001b[0m\u001b[1;33m+=\u001b[0m\u001b[1;36m1\u001b[0m\u001b[1;33m\u001b[0m\u001b[1;33m\u001b[0m\u001b[0m\n\u001b[0m",
      "\u001b[1;31mTypeError\u001b[0m: 'int' object is not iterable"
     ]
    }
   ],
   "source": [
    "a=[]\n",
    "a+=1\n"
   ]
  },
  {
   "cell_type": "code",
   "execution_count": 17,
   "metadata": {},
   "outputs": [],
   "source": [
    "a=[1,2,3,4]\n",
    "b,c,d,e=a"
   ]
  },
  {
   "cell_type": "code",
   "execution_count": 21,
   "metadata": {},
   "outputs": [],
   "source": [
    "def a():\n",
    "    return 1,2,3"
   ]
  },
  {
   "cell_type": "code",
   "execution_count": 46,
   "metadata": {},
   "outputs": [
    {
     "name": "stdout",
     "output_type": "stream",
     "text": [
      "9\n",
      "aa=== 9\n",
      "self a=== 9\n",
      "dddd\n"
     ]
    },
    {
     "ename": "AttributeError",
     "evalue": "'d' object has no attribute '__aa'",
     "output_type": "error",
     "traceback": [
      "\u001b[1;31m---------------------------------------------------------------------------\u001b[0m",
      "\u001b[1;31mAttributeError\u001b[0m                            Traceback (most recent call last)",
      "\u001b[1;32m~\\AppData\\Local\\Temp/ipykernel_1856/2426342698.py\u001b[0m in \u001b[0;36m<module>\u001b[1;34m\u001b[0m\n\u001b[0;32m     19\u001b[0m \u001b[0ms\u001b[0m\u001b[1;33m=\u001b[0m\u001b[0md\u001b[0m\u001b[1;33m(\u001b[0m\u001b[1;33m)\u001b[0m\u001b[1;33m\u001b[0m\u001b[1;33m\u001b[0m\u001b[0m\n\u001b[0;32m     20\u001b[0m \u001b[0ms\u001b[0m\u001b[1;33m.\u001b[0m\u001b[0mpri\u001b[0m\u001b[1;33m(\u001b[0m\u001b[1;33m)\u001b[0m\u001b[1;33m\u001b[0m\u001b[1;33m\u001b[0m\u001b[0m\n\u001b[1;32m---> 21\u001b[1;33m \u001b[0ms\u001b[0m\u001b[1;33m.\u001b[0m\u001b[0m__aa\u001b[0m\u001b[1;33m(\u001b[0m\u001b[1;33m)\u001b[0m\u001b[1;33m\u001b[0m\u001b[1;33m\u001b[0m\u001b[0m\n\u001b[0m",
      "\u001b[1;31mAttributeError\u001b[0m: 'd' object has no attribute '__aa'"
     ]
    }
   ],
   "source": [
    "class d:\n",
    "    def __init__(self):\n",
    "        self.gg=9\n",
    "    a=6\n",
    "    def __init__(self):\n",
    "        self.a=2\n",
    "    def dd(self):\n",
    "        def gg():\n",
    "            self.a=9\n",
    "        gg()\n",
    "        print(a)\n",
    "    def pri(self):\n",
    "        self.dd()\n",
    "        print(\"aa===\",a)\n",
    "        print(\"self a===\",self.a)\n",
    "        self.__aaa()\n",
    "    def __aaa(self):\n",
    "        print(\"dddd\")\n",
    "s=d()\n",
    "s.pri()"
   ]
  },
  {
   "cell_type": "code",
   "execution_count": 25,
   "metadata": {},
   "outputs": [
    {
     "ename": "NameError",
     "evalue": "name 'b' is not defined",
     "output_type": "error",
     "traceback": [
      "\u001b[1;31m---------------------------------------------------------------------------\u001b[0m",
      "\u001b[1;31mNameError\u001b[0m                                 Traceback (most recent call last)",
      "\u001b[1;32m~\\AppData\\Local\\Temp/ipykernel_1856/1685013873.py\u001b[0m in \u001b[0;36m<module>\u001b[1;34m\u001b[0m\n\u001b[1;32m----> 1\u001b[1;33m \u001b[0mb\u001b[0m\u001b[1;33m\u001b[0m\u001b[1;33m\u001b[0m\u001b[0m\n\u001b[0m",
      "\u001b[1;31mNameError\u001b[0m: name 'b' is not defined"
     ]
    }
   ],
   "source": [
    "b"
   ]
  },
  {
   "cell_type": "code",
   "execution_count": null,
   "metadata": {},
   "outputs": [],
   "source": []
  }
 ],
 "metadata": {
  "interpreter": {
   "hash": "11ad92808b9e536a1bda76e6f18576c204b1bdc67c9013f7331a2b858d211f20"
  },
  "kernelspec": {
   "display_name": "Python 3.9.6 64-bit",
   "language": "python",
   "name": "python3"
  },
  "language_info": {
   "codemirror_mode": {
    "name": "ipython",
    "version": 3
   },
   "file_extension": ".py",
   "mimetype": "text/x-python",
   "name": "python",
   "nbconvert_exporter": "python",
   "pygments_lexer": "ipython3",
   "version": "3.9.6"
  },
  "orig_nbformat": 4
 },
 "nbformat": 4,
 "nbformat_minor": 2
}
