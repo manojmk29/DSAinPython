{
 "cells": [
  {
   "cell_type": "markdown",
   "metadata": {},
   "source": [
    "DEQUE"
   ]
  },
  {
   "cell_type": "code",
   "execution_count": 3,
   "metadata": {},
   "outputs": [],
   "source": [
    "from collections import deque"
   ]
  },
  {
   "cell_type": "code",
   "execution_count": 32,
   "metadata": {},
   "outputs": [
    {
     "name": "stdout",
     "output_type": "stream",
     "text": [
      "index== 0\n",
      "1\n",
      "[31, 21, 11, 1, 2, 3, 1, 2, 3, 7, 8, 9]\n",
      "[9, 8, 7, 3, 2, 1, 3, 2, 1, 11, 21, 31]\n",
      "[21, 31, 9, 8, 7, 3, 2, 1, 3, 2, 1, 11]\n",
      "[9, 8, 7, 3, 2, 1, 3, 2, 1, 11, 21, 31]\n"
     ]
    }
   ],
   "source": [
    "a=deque([])\n",
    "a.append(1)\n",
    "a.append(2)\n",
    "a.append(3)\n",
    "a.append(4)\n",
    "a.appendleft(0)\n",
    "a.pop()\n",
    "a.popleft()\n",
    "a.insert(0,-1)\n",
    "a.remove(-1)\n",
    "print(\"index==\",a.index(1))\n",
    "\n",
    "print(a.count(1))\n",
    "a.extend([1,2,3])\n",
    "a.extendleft([11,21,31])\n",
    "a+=[7,8,9]\n",
    "print(list(a))\n",
    "a.reverse()\n",
    "print(list(a))\n",
    "a.rotate(2)\n",
    "print(list(a))\n",
    "a.rotate(-2)\n",
    "print(list(a))"
   ]
  },
  {
   "cell_type": "code",
   "execution_count": 34,
   "metadata": {},
   "outputs": [
    {
     "name": "stdout",
     "output_type": "stream",
     "text": [
      "31\n"
     ]
    }
   ],
   "source": [
    "print(a.pop())"
   ]
  },
  {
   "cell_type": "code",
   "execution_count": null,
   "metadata": {},
   "outputs": [],
   "source": []
  }
 ],
 "metadata": {
  "interpreter": {
   "hash": "11ad92808b9e536a1bda76e6f18576c204b1bdc67c9013f7331a2b858d211f20"
  },
  "kernelspec": {
   "display_name": "Python 3.9.6 64-bit",
   "language": "python",
   "name": "python3"
  },
  "language_info": {
   "codemirror_mode": {
    "name": "ipython",
    "version": 3
   },
   "file_extension": ".py",
   "mimetype": "text/x-python",
   "name": "python",
   "nbconvert_exporter": "python",
   "pygments_lexer": "ipython3",
   "version": "3.9.6"
  },
  "orig_nbformat": 4
 },
 "nbformat": 4,
 "nbformat_minor": 2
}
