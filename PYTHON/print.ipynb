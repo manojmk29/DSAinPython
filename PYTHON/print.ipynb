{
 "cells": [
  {
   "cell_type": "code",
   "execution_count": 1,
   "metadata": {},
   "outputs": [
    {
     "name": "stdout",
     "output_type": "stream",
     "text": [
      "the value of a is 1 the value of b is 7\n"
     ]
    }
   ],
   "source": [
    "a=1\n",
    "b=7\n",
    "print(\"the value of a is\",a,\"the value of b is\",b)"
   ]
  },
  {
   "cell_type": "code",
   "execution_count": 4,
   "metadata": {},
   "outputs": [
    {
     "name": "stdout",
     "output_type": "stream",
     "text": [
      "the value of a is1the value of b is 7\n"
     ]
    }
   ],
   "source": [
    "a=1\n",
    "b=7\n",
    "print(\"the value of a is\"+str(a)+\"the value of b is \"+str(b))"
   ]
  },
  {
   "cell_type": "code",
   "execution_count": 7,
   "metadata": {},
   "outputs": [
    {
     "name": "stdout",
     "output_type": "stream",
     "text": [
      "the value of a is 1 the value of b is 2\n"
     ]
    }
   ],
   "source": [
    "a=1\n",
    "b=7\n",
    "print(\"the value of a is {x} the value of b is {y}\".format(x=1,y=2))"
   ]
  },
  {
   "cell_type": "code",
   "execution_count": 10,
   "metadata": {},
   "outputs": [
    {
     "name": "stdout",
     "output_type": "stream",
     "text": [
      "the value of a is 1 the value of b is 2\n"
     ]
    }
   ],
   "source": [
    "a=1\n",
    "b=7\n",
    "print(\"the value of a is {} the value of b is {}\".format(1,2))"
   ]
  },
  {
   "cell_type": "code",
   "execution_count": null,
   "metadata": {},
   "outputs": [],
   "source": []
  }
 ],
 "metadata": {
  "interpreter": {
   "hash": "11ad92808b9e536a1bda76e6f18576c204b1bdc67c9013f7331a2b858d211f20"
  },
  "kernelspec": {
   "display_name": "Python 3.9.6 64-bit",
   "language": "python",
   "name": "python3"
  },
  "language_info": {
   "codemirror_mode": {
    "name": "ipython",
    "version": 3
   },
   "file_extension": ".py",
   "mimetype": "text/x-python",
   "name": "python",
   "nbconvert_exporter": "python",
   "pygments_lexer": "ipython3",
   "version": "3.9.6"
  },
  "orig_nbformat": 4
 },
 "nbformat": 4,
 "nbformat_minor": 2
}
