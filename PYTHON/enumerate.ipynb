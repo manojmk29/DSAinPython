{
 "cells": [
  {
   "cell_type": "code",
   "execution_count": 3,
   "metadata": {},
   "outputs": [
    {
     "name": "stdout",
     "output_type": "stream",
     "text": [
      "0 --- 5\n",
      "1 --- 23\n",
      "2 --- 36\n",
      "3 --- 13\n",
      "4 --- 5\n",
      "5 --- 90\n"
     ]
    }
   ],
   "source": [
    "a=[5,23,36,13,5,90]\n",
    "for ind,val in enumerate(a,0):\n",
    "    print(ind,\"---\",val)"
   ]
  },
  {
   "cell_type": "code",
   "execution_count": 4,
   "metadata": {},
   "outputs": [
    {
     "name": "stdout",
     "output_type": "stream",
     "text": [
      "1 --- 5\n",
      "2 --- 23\n",
      "3 --- 36\n",
      "4 --- 13\n",
      "5 --- 5\n",
      "6 --- 90\n"
     ]
    }
   ],
   "source": [
    "a=[5,23,36,13,5,90]\n",
    "for ind,val in enumerate(a,1):\n",
    "    print(ind,\"---\",val)"
   ]
  },
  {
   "cell_type": "code",
   "execution_count": 5,
   "metadata": {},
   "outputs": [
    {
     "name": "stdout",
     "output_type": "stream",
     "text": [
      "100 --- 5\n",
      "101 --- 23\n",
      "102 --- 36\n",
      "103 --- 13\n",
      "104 --- 5\n",
      "105 --- 90\n"
     ]
    }
   ],
   "source": [
    "a=[5,23,36,13,5,90]\n",
    "for ind,val in enumerate(a,100):\n",
    "    print(ind,\"---\",val)"
   ]
  },
  {
   "cell_type": "code",
   "execution_count": null,
   "metadata": {},
   "outputs": [],
   "source": []
  }
 ],
 "metadata": {
  "interpreter": {
   "hash": "11ad92808b9e536a1bda76e6f18576c204b1bdc67c9013f7331a2b858d211f20"
  },
  "kernelspec": {
   "display_name": "Python 3.9.6 64-bit",
   "language": "python",
   "name": "python3"
  },
  "language_info": {
   "codemirror_mode": {
    "name": "ipython",
    "version": 3
   },
   "file_extension": ".py",
   "mimetype": "text/x-python",
   "name": "python",
   "nbconvert_exporter": "python",
   "pygments_lexer": "ipython3",
   "version": "3.9.6"
  },
  "orig_nbformat": 4
 },
 "nbformat": 4,
 "nbformat_minor": 2
}
