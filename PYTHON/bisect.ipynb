{
 "cells": [
  {
   "cell_type": "code",
   "execution_count": 12,
   "metadata": {},
   "outputs": [],
   "source": [
    "import bisect\n",
    "# bisect is used for binary search\n",
    "#but the array should be in sorted order"
   ]
  },
  {
   "cell_type": "code",
   "execution_count": 18,
   "metadata": {},
   "outputs": [],
   "source": [
    "arr=[1,2,5,6,8,9,9,9,9,10,16]\n"
   ]
  },
  {
   "cell_type": "code",
   "execution_count": 29,
   "metadata": {},
   "outputs": [
    {
     "data": {
      "text/plain": [
       "11"
      ]
     },
     "execution_count": 29,
     "metadata": {},
     "output_type": "execute_result"
    }
   ],
   "source": [
    "bisect.bisect(arr,9)\n",
    "# time complexity for bisect is log(n)\n",
    "#the right most index to insert so that the array remains sorted"
   ]
  },
  {
   "cell_type": "code",
   "execution_count": 21,
   "metadata": {},
   "outputs": [
    {
     "data": {
      "text/plain": [
       "9"
      ]
     },
     "execution_count": 21,
     "metadata": {},
     "output_type": "execute_result"
    }
   ],
   "source": [
    "bisect.bisect_right(arr,9)\n",
    "#the right most index to insert so that the array remains sorted"
   ]
  },
  {
   "cell_type": "code",
   "execution_count": 22,
   "metadata": {},
   "outputs": [
    {
     "data": {
      "text/plain": [
       "5"
      ]
     },
     "execution_count": 22,
     "metadata": {},
     "output_type": "execute_result"
    }
   ],
   "source": [
    "bisect.bisect_left(arr,9)\n",
    "#the right most index to insert so that the array remains sorted"
   ]
  },
  {
   "cell_type": "code",
   "execution_count": 32,
   "metadata": {},
   "outputs": [
    {
     "data": {
      "text/plain": [
       "True"
      ]
     },
     "execution_count": 32,
     "metadata": {},
     "output_type": "execute_result"
    }
   ],
   "source": [
    "\"\"\"\n",
    "4. insort(list, num, beg, end) :- \n",
    "This function returns the sorted list after inserting number in appropriate position,\n",
    " if the element is already present in the list, the element is inserted at the rightmost possible position. \n",
    " This function takes 4 arguments, list which has to be worked with, number to insert, starting position in list to consider, \n",
    " ending position which has to be considered.\n",
    "\n",
    "5. insort_left(list, num, beg, end) :- '\n",
    "This function returns the sorted list after inserting number in appropriate position, if the element is already present in the list, \n",
    "the element is inserted at the leftmost possible position. This function takes 4 arguments, list which has to be worked with, number \n",
    "to insert, starting position in list to consider, ending position which has to be considered.\n",
    "\n",
    "6. insort_right(list, num, beg, end) :-\n",
    " This function works similar to the “insort()” as mentioned above.\n",
    "\n",
    "\n",
    "\"\"\"\n",
    "True"
   ]
  },
  {
   "cell_type": "code",
   "execution_count": 25,
   "metadata": {},
   "outputs": [
    {
     "data": {
      "text/plain": [
       "[1, 2, 5, 6, 8, 9, 9, 9, 9, 9, 9, 10, 11, 16]"
      ]
     },
     "execution_count": 25,
     "metadata": {},
     "output_type": "execute_result"
    }
   ],
   "source": [
    "bisect.insort(arr,11)\n",
    "#enters value at rightmost\n",
    "# there are two other parameters beg , end - default value of beg is 0 and for end is n-1\n",
    "arr"
   ]
  },
  {
   "cell_type": "code",
   "execution_count": 27,
   "metadata": {},
   "outputs": [
    {
     "data": {
      "text/plain": [
       "[1, 2, 5, 6, 8, 9, 9, 9, 9, 9, 9, 10, 11, 12, 16]"
      ]
     },
     "execution_count": 27,
     "metadata": {},
     "output_type": "execute_result"
    }
   ],
   "source": [
    "bisect.insort_right(arr,12)\n",
    "#works same as insort\n",
    "# there are two other parameters beg , end - default value of beg is 0 and for end is n-1\n",
    "arr"
   ]
  },
  {
   "cell_type": "code",
   "execution_count": 28,
   "metadata": {},
   "outputs": [
    {
     "data": {
      "text/plain": [
       "[1, 2, 5, 6, 8, 9, 9, 9, 9, 9, 9, 10, 11, 12, 12, 16]"
      ]
     },
     "execution_count": 28,
     "metadata": {},
     "output_type": "execute_result"
    }
   ],
   "source": [
    "bisect.insort_left(arr,12)\n",
    "#works same as insort\n",
    "# there are two other parameters beg , end - default value of beg is 0 and for end is n-1\n",
    "arr\n",
    "#time complexity for insort is n"
   ]
  },
  {
   "cell_type": "code",
   "execution_count": 40,
   "metadata": {},
   "outputs": [],
   "source": [
    "nums=[1,2,4,7,9,11,50,100]"
   ]
  },
  {
   "cell_type": "code",
   "execution_count": 41,
   "metadata": {},
   "outputs": [],
   "source": [
    "#FIND WHETHER THE GIVEN NUMBER IS PRESENT IN NUMS"
   ]
  },
  {
   "cell_type": "code",
   "execution_count": 51,
   "metadata": {},
   "outputs": [
    {
     "name": "stdout",
     "output_type": "stream",
     "text": [
      "present\n"
     ]
    }
   ],
   "source": [
    "inp=50\n",
    "val=bisect.bisect(nums,inp)\n",
    "if(val==0 or nums[val-1]!=inp):\n",
    "    print(\"not present\")\n",
    "else:\n",
    "    print(\"present\")"
   ]
  },
  {
   "cell_type": "code",
   "execution_count": 9,
   "metadata": {},
   "outputs": [
    {
     "data": {
      "text/plain": [
       "0"
      ]
     },
     "execution_count": 9,
     "metadata": {},
     "output_type": "execute_result"
    }
   ],
   "source": [
    "from bisect import bisect_left,bisect_right,bisect\n",
    "arr=[0,2]\n",
    "bisect_left(arr,0)"
   ]
  },
  {
   "cell_type": "code",
   "execution_count": null,
   "metadata": {},
   "outputs": [],
   "source": []
  }
 ],
 "metadata": {
  "interpreter": {
   "hash": "e26b106e6146fa3417b08aa501d422914abd065c08ced2fc57ef114abeab93c7"
  },
  "kernelspec": {
   "display_name": "Python 3.9.6 64-bit",
   "language": "python",
   "name": "python3"
  },
  "language_info": {
   "codemirror_mode": {
    "name": "ipython",
    "version": 3
   },
   "file_extension": ".py",
   "mimetype": "text/x-python",
   "name": "python",
   "nbconvert_exporter": "python",
   "pygments_lexer": "ipython3",
   "version": "3.9.6"
  },
  "orig_nbformat": 4
 },
 "nbformat": 4,
 "nbformat_minor": 2
}
