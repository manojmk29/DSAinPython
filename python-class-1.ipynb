{
 "cells": [
  {
   "cell_type": "code",
   "execution_count": 31,
   "metadata": {},
   "outputs": [
    {
     "name": "stdout",
     "output_type": "stream",
     "text": [
      "name== manoj\n",
      "salary== 10000\n"
     ]
    }
   ],
   "source": [
    "class employee:\n",
    "    def __init__(self,name,salary):\n",
    "        self.name=name\n",
    "        self.salary=salary\n",
    "    def info(self):\n",
    "        print(\"name==\",self.name)\n",
    "        print(\"salary==\",self.salary)\n",
    "\n",
    "name1=\"manoj\"\n",
    "salary1=10000\n",
    "obj1=employee(name1,salary1)\n",
    "obj1.info()"
   ]
  },
  {
   "cell_type": "code",
   "execution_count": 33,
   "metadata": {},
   "outputs": [
    {
     "name": "stdout",
     "output_type": "stream",
     "text": [
      "name== manoj\n",
      "salary== 10000\n",
      "2\n",
      "2\n",
      "2\n",
      "total employees== 2\n"
     ]
    }
   ],
   "source": [
    "class employee:\n",
    "    emp=0\n",
    "    def __init__(self,name,salary):\n",
    "        self.name=name\n",
    "        self.salary=salary\n",
    "        employee.emp+=1\n",
    "    def info(self):\n",
    "        print(\"name==\",self.name)\n",
    "        print(\"salary==\",self.salary)\n",
    "    def totalemployees(self):\n",
    "        print(\"total employees==\",employee.emp)\n",
    "        \n",
    "name1=\"manoj\"\n",
    "salary1=10000\n",
    "name2=\"kumar\"\n",
    "salary2=20000\n",
    "obj1=employee(name1,salary1)\n",
    "obj2=employee(name2,salary2)\n",
    "obj1.info()\n",
    "print(obj1.emp)\n",
    "print(obj2.emp)\n",
    "print(employee.emp)\n",
    "obj2.totalemployees()\n",
    "        "
   ]
  },
  {
   "cell_type": "code",
   "execution_count": 46,
   "metadata": {},
   "outputs": [
    {
     "name": "stdout",
     "output_type": "stream",
     "text": [
      "name== manoj\n",
      "salary== 10000\n",
      "2\n",
      "2\n",
      "2\n",
      "7\n",
      "7\n",
      "7\n"
     ]
    }
   ],
   "source": [
    "class employee:\n",
    "    emp=0\n",
    "    def __init__(self,name,salary):\n",
    "        self.name=name\n",
    "        self.salary=salary\n",
    "        employee.emp+=1\n",
    "    def info(self):\n",
    "        print(\"name==\",self.name)\n",
    "        print(\"salary==\",self.salary)\n",
    "    # @classmethod\n",
    "    # def totalemployees(employee):\n",
    "    #     print(\"total employees==\",employee.emp)\n",
    "        \n",
    "name1=\"manoj\"\n",
    "salary1=10000\n",
    "name2=\"kumar\"\n",
    "salary2=20000\n",
    "obj1=employee(name1,salary1)\n",
    "obj2=employee(name2,salary2)\n",
    "obj1.info()\n",
    "print(obj1.emp)\n",
    "print(obj2.emp)\n",
    "print(employee.emp)\n",
    "employee.emp=7\n",
    "print(obj1.emp)\n",
    "print(obj2.emp)\n",
    "print(employee.emp)\n",
    "# obj2.totalemployees()\n",
    "        "
   ]
  },
  {
   "cell_type": "code",
   "execution_count": 43,
   "metadata": {},
   "outputs": [
    {
     "name": "stdout",
     "output_type": "stream",
     "text": [
      "Drink\n",
      "Coffee\n"
     ]
    }
   ],
   "source": [
    "class employee:\n",
    "    emp=0\n",
    "    def __init__(self,name,salary):\n",
    "        self.name=name\n",
    "        self.salary=salary\n",
    "        employee.emp+=1\n",
    "    def info(self):\n",
    "        print(\"name==\",self.name)\n",
    "        print(\"salary==\",self.salary)\n",
    "    # @classmethod\n",
    "    # def totalemployees(employee):\n",
    "    #     print(\"total employees==\",employee.emp)\n",
    "        \n",
    "name1=\"manoj\"\n",
    "salary1=10000\n",
    "name2=\"kumar\"\n",
    "salary2=20000\n",
    "obj1=employee(name1,salary1)\n",
    "obj2=employee(name2,salary2)\n",
    "obj1.info()\n",
    "print(obj1.emp)\n",
    "print(obj2.emp)\n",
    "print(employee.emp)\n",
    "employee.emp=7\n",
    "print(obj1.emp)\n",
    "print(obj2.emp)\n",
    "print(employee.emp)\n",
    "# obj2.totalemployees()\n",
    "        "
   ]
  },
  {
   "cell_type": "code",
   "execution_count": 55,
   "metadata": {},
   "outputs": [
    {
     "name": "stdout",
     "output_type": "stream",
     "text": [
      "name== manoj\n",
      "salary== 10000\n",
      "1\n",
      "1\n",
      "1\n",
      "7\n",
      "7\n",
      "7\n"
     ]
    }
   ],
   "source": [
    "class employee:\n",
    "    emp=0\n",
    "    def __init__(self,name,salary):\n",
    "        self.name=name\n",
    "        self.salary=salary\n",
    "        employee.emp=1\n",
    "    def info(self):\n",
    "        print(\"name==\",self.name)\n",
    "        print(\"salary==\",self.salary)\n",
    "    @classmethod\n",
    "    def totalemployees(employee):\n",
    "        print(\"total employees==\",employee.emp+self.salary)\n",
    "        \n",
    "name1=\"manoj\"\n",
    "salary1=10000\n",
    "name2=\"kumar\"\n",
    "salary2=20000\n",
    "obj1=employee(name1,salary1)\n",
    "obj2=employee(name2,salary2)\n",
    "obj1.info()\n",
    "obj2.id=9\n",
    "del obj2.id\n",
    "print(obj1.emp)\n",
    "print(obj2.emp)\n",
    "print(employee.emp)\n",
    "employee.emp=7\n",
    "print(obj1.emp)\n",
    "print(obj2.emp)\n",
    "print(employee.emp)\n",
    "# obj2.totalemployees()\n",
    "        "
   ]
  },
  {
   "cell_type": "code",
   "execution_count": 54,
   "metadata": {},
   "outputs": [
    {
     "ename": "AttributeError",
     "evalue": "'int' object has no attribute 'course'",
     "output_type": "error",
     "traceback": [
      "\u001b[1;31m---------------------------------------------------------------------------\u001b[0m",
      "\u001b[1;31mAttributeError\u001b[0m                            Traceback (most recent call last)",
      "\u001b[1;32m~\\AppData\\Local\\Temp/ipykernel_8004/2881090162.py\u001b[0m in \u001b[0;36m<module>\u001b[1;34m\u001b[0m\n\u001b[0;32m      7\u001b[0m \u001b[1;33m\u001b[0m\u001b[0m\n\u001b[0;32m      8\u001b[0m \u001b[1;31m# geeks.purchase = classmethod(geeks.purchase)\u001b[0m\u001b[1;33m\u001b[0m\u001b[1;33m\u001b[0m\u001b[1;33m\u001b[0m\u001b[0m\n\u001b[1;32m----> 9\u001b[1;33m \u001b[0mgeeks\u001b[0m\u001b[1;33m.\u001b[0m\u001b[0mpurchase\u001b[0m\u001b[1;33m(\u001b[0m\u001b[1;36m9\u001b[0m\u001b[1;33m)\u001b[0m\u001b[1;33m\u001b[0m\u001b[1;33m\u001b[0m\u001b[0m\n\u001b[0m",
      "\u001b[1;32m~\\AppData\\Local\\Temp/ipykernel_8004/2881090162.py\u001b[0m in \u001b[0;36mpurchase\u001b[1;34m(obj)\u001b[0m\n\u001b[0;32m      3\u001b[0m \u001b[1;33m\u001b[0m\u001b[0m\n\u001b[0;32m      4\u001b[0m     \u001b[1;32mdef\u001b[0m \u001b[0mpurchase\u001b[0m\u001b[1;33m(\u001b[0m\u001b[0mobj\u001b[0m\u001b[1;33m)\u001b[0m\u001b[1;33m:\u001b[0m\u001b[1;33m\u001b[0m\u001b[1;33m\u001b[0m\u001b[0m\n\u001b[1;32m----> 5\u001b[1;33m         \u001b[0mprint\u001b[0m\u001b[1;33m(\u001b[0m\u001b[1;34m\"Puchase course : \"\u001b[0m\u001b[1;33m,\u001b[0m \u001b[0mobj\u001b[0m\u001b[1;33m.\u001b[0m\u001b[0mcourse\u001b[0m\u001b[1;33m)\u001b[0m\u001b[1;33m\u001b[0m\u001b[1;33m\u001b[0m\u001b[0m\n\u001b[0m\u001b[0;32m      6\u001b[0m \u001b[1;33m\u001b[0m\u001b[0m\n\u001b[0;32m      7\u001b[0m \u001b[1;33m\u001b[0m\u001b[0m\n",
      "\u001b[1;31mAttributeError\u001b[0m: 'int' object has no attribute 'course'"
     ]
    }
   ],
   "source": [
    "class geeks:\n",
    "    course = 'DSA'\n",
    "  \n",
    "    def purchase(obj):\n",
    "        print(\"Puchase course : \", obj.course)\n",
    "geeks.purchase = classmethod(geeks.purchase)\n",
    "geeks.purchase()"
   ]
  },
  {
   "cell_type": "code",
   "execution_count": 56,
   "metadata": {},
   "outputs": [
    {
     "name": "stdout",
     "output_type": "stream",
     "text": [
      "21\n",
      "25\n",
      "True\n"
     ]
    }
   ],
   "source": [
    "# Python program to demonstrate\n",
    "# use of a class method and static method.\n",
    "from datetime import date\n",
    "\n",
    "class Person:\n",
    "\tdef __init__(self, name, age):\n",
    "\t\tself.name = name\n",
    "\t\tself.age = age\n",
    "\n",
    "\t# a class method to create a\n",
    "\t# Person object by birth year.\n",
    "\t@classmethod\n",
    "\tdef fromBirthYear(cls, name, year):\n",
    "\t\treturn cls(name, date.today().year - year)\n",
    "\n",
    "\t# a static method to check if a\n",
    "\t# Person is adult or not.\n",
    "\t@staticmethod\n",
    "\tdef isAdult(age):\n",
    "\t\treturn age > 18\n",
    "\n",
    "person1 = Person('mayank', 21)\n",
    "person2 = Person.fromBirthYear('mayank', 1996)\n",
    "\n",
    "print(person1.age)\n",
    "print(person2.age)\n",
    "\n",
    "# print the result\n",
    "print(Person.isAdult(22))\n"
   ]
  },
  {
   "cell_type": "code",
   "execution_count": 59,
   "metadata": {},
   "outputs": [
    {
     "name": "stdout",
     "output_type": "stream",
     "text": [
      "2205609271504 2205609271504 2205609271504\n",
      "Point destroyed\n"
     ]
    }
   ],
   "source": [
    "class Point:\n",
    "    def __init__( self, x=0, y=0):\n",
    "        self.x = x\n",
    "        self.y = y\n",
    "    def __del__(self):\n",
    "        class_name = self.__class__.__name__\n",
    "        print(class_name, \"destroyed\")\n",
    "pt1 = Point()\n",
    "pt2 = pt1\n",
    "pt3 = pt1\n",
    "print(id(pt1), id(pt2), id(pt3)) # prints the ids of the obejcts\n",
    "del pt1\n",
    "del pt2\n",
    "del pt3"
   ]
  },
  {
   "cell_type": "markdown",
   "metadata": {},
   "source": [
    "inheritance </br> class</br>"
   ]
  },
  {
   "cell_type": "code",
   "execution_count": 70,
   "metadata": {},
   "outputs": [
    {
     "name": "stdout",
     "output_type": "stream",
     "text": [
      "1\n",
      "2\n",
      "3\n",
      "6\n",
      "66\n",
      "6\n"
     ]
    }
   ],
   "source": [
    "class a:\n",
    "    xyz=6\n",
    "    def __init__(self):\n",
    "        self.x=1\n",
    "        self.y=2\n",
    "        self.z=3\n",
    "class b(a):\n",
    "    pass\n",
    "b1=b()\n",
    "a1=a()\n",
    "#instance object\n",
    "print(b1.x)\n",
    "print(b1.y)\n",
    "print(b1.z)\n",
    "\n",
    "#class object\n",
    "print(b1.xyz)\n",
    "\n",
    "b1.xyz=66\n",
    "print(b1.xyz)\n",
    "\n",
    "print(a1.xyz)"
   ]
  },
  {
   "cell_type": "code",
   "execution_count": 74,
   "metadata": {},
   "outputs": [
    {
     "name": "stdout",
     "output_type": "stream",
     "text": [
      "6\n",
      "7\n",
      "8\n",
      "9\n"
     ]
    }
   ],
   "source": [
    "class a:\n",
    "    xyz=6\n",
    "    def __init__(self,x,y,z):\n",
    "        self.x=x\n",
    "        self.y=y\n",
    "        self.z=z\n",
    "class b(a):\n",
    "    def __init__(self,x,y,z,n):\n",
    "        super().__init__(x,y,z)\n",
    "        self.n=n\n",
    "b1=b(6,7,8,9)\n",
    "#instance object\n",
    "print(b1.x)\n",
    "print(b1.y)\n",
    "print(b1.z)\n",
    "print(b1.n)"
   ]
  },
  {
   "cell_type": "code",
   "execution_count": 76,
   "metadata": {},
   "outputs": [
    {
     "name": "stdout",
     "output_type": "stream",
     "text": [
      "6\n",
      "7\n",
      "8\n",
      "9\n"
     ]
    }
   ],
   "source": [
    "class a:\n",
    "    xyz=6\n",
    "    def __init__(self,x,y,z):\n",
    "        self.x=x\n",
    "        self.y=y\n",
    "        self.z=z\n",
    "class b(a):\n",
    "    def __init__(self,x,y,z,n):\n",
    "        a.__init__(self,x,y,z)\n",
    "        self.n=n\n",
    "b1=b(6,7,8,9)\n",
    "#instance object\n",
    "print(b1.x)\n",
    "print(b1.y)\n",
    "print(b1.z)\n",
    "print(b1.n)"
   ]
  },
  {
   "cell_type": "code",
   "execution_count": 85,
   "metadata": {},
   "outputs": [
    {
     "name": "stdout",
     "output_type": "stream",
     "text": [
      "6\n",
      "7\n",
      "8\n",
      "11\n",
      "9\n",
      "10\n"
     ]
    }
   ],
   "source": [
    "\n",
    "class a:\n",
    "    xyz=6\n",
    "    def __init__(self,x,y,z):\n",
    "        self.x=x\n",
    "        self.y=y\n",
    "        self.z=z\n",
    "class c:\n",
    "    xyz=6\n",
    "    def __init__(self,xt,yt):\n",
    "        self.xt=xt\n",
    "        self.yt=yt\n",
    "class b(a,c):\n",
    "    def __init__(self,x,y,z,xt,yt,n):\n",
    "        super().__init__(x,y,z)\n",
    "        c.__init__(self,xt,yt)\n",
    "        self.n=n\n",
    "b1=b(6,7,8,9,10,11)\n",
    "#instance object\n",
    "print(b1.x)\n",
    "print(b1.y)\n",
    "print(b1.z)\n",
    "print(b1.n)\n",
    "print(b1.xt)\n",
    "print(b1.yt)"
   ]
  },
  {
   "cell_type": "code",
   "execution_count": 86,
   "metadata": {},
   "outputs": [
    {
     "data": {
      "text/plain": [
       "[[False, False, False, False],\n",
       " [False, False, False, False],\n",
       " [False, False, False, False],\n",
       " [False, False, False, False]]"
      ]
     },
     "execution_count": 86,
     "metadata": {},
     "output_type": "execute_result"
    }
   ],
   "source": [
    "n=4\n",
    "nt=[[False for i in range(n)] for i in range(n)]\n",
    "nt"
   ]
  },
  {
   "cell_type": "code",
   "execution_count": 98,
   "metadata": {},
   "outputs": [],
   "source": [
    "class Solution(object):\n",
    "    def solveNQueens(self, n):\n",
    "        \"\"\"\n",
    "        :type n: int\n",
    "        :rtype: List[List[str]]\n",
    "        \"\"\"\n",
    "        self.ret=[]\n",
    "        self.count=0\n",
    "        arr=[[False for i in range(n)] for i in range(n)]\n",
    "        self.traverse(n,arr[:],0)        \n",
    "        return(self.count)\n",
    "    def traverse(self,n,mat,pos):\n",
    "        if(pos==n):\n",
    "            self.count+=1\n",
    "            return\n",
    "        for i in range(n):\n",
    "            if(mat[pos][i]==False):\n",
    "                arr=mat[:]\n",
    "                arr[pos][i]=True\n",
    "                for x in range(n):\n",
    "                    arr[pos][x]=True\n",
    "                for y in range(n):\n",
    "                    arr[y][pos]=True\n",
    "                c=i\n",
    "                r=pos\n",
    "                while(r>0 and c>0):\n",
    "                    r-=1\n",
    "                    c-=1\n",
    "                    arr[r][c]=True\n",
    "                c=i\n",
    "                r=pos\n",
    "                while(r<n-1 and c<n-1):\n",
    "                    r+=1\n",
    "                    c+=1\n",
    "                    arr[r][c]=True\n",
    "                c=i\n",
    "                r=pos\n",
    "                while(r>0 and c<n-1):\n",
    "                    r-=1\n",
    "                    c+=1\n",
    "                    arr[r][c]=True\n",
    "                c=i\n",
    "                r=pos\n",
    "                while(r<n-1 and c>0):\n",
    "                    r+=1\n",
    "                    c-=1\n",
    "                    arr[r][c]=True\n",
    "                self.traverse(n,arr,pos+1)"
   ]
  },
  {
   "cell_type": "code",
   "execution_count": 99,
   "metadata": {},
   "outputs": [
    {
     "name": "stdout",
     "output_type": "stream",
     "text": [
      "0\n"
     ]
    }
   ],
   "source": [
    "obj=Solution()\n",
    "print(obj.solveNQueens(4))"
   ]
  },
  {
   "cell_type": "code",
   "execution_count": 93,
   "metadata": {},
   "outputs": [],
   "source": [
    "arr.append([4,5,6])"
   ]
  },
  {
   "cell_type": "code",
   "execution_count": 94,
   "metadata": {},
   "outputs": [
    {
     "data": {
      "text/plain": [
       "[[2, 3], [4, 4, 4]]"
      ]
     },
     "execution_count": 94,
     "metadata": {},
     "output_type": "execute_result"
    }
   ],
   "source": [
    "mat"
   ]
  },
  {
   "cell_type": "code",
   "execution_count": null,
   "metadata": {},
   "outputs": [],
   "source": []
  }
 ],
 "metadata": {
  "interpreter": {
   "hash": "11ad92808b9e536a1bda76e6f18576c204b1bdc67c9013f7331a2b858d211f20"
  },
  "kernelspec": {
   "display_name": "Python 3.9.6 64-bit",
   "language": "python",
   "name": "python3"
  },
  "language_info": {
   "codemirror_mode": {
    "name": "ipython",
    "version": 3
   },
   "file_extension": ".py",
   "mimetype": "text/x-python",
   "name": "python",
   "nbconvert_exporter": "python",
   "pygments_lexer": "ipython3",
   "version": "3.9.6"
  },
  "orig_nbformat": 4
 },
 "nbformat": 4,
 "nbformat_minor": 2
}
