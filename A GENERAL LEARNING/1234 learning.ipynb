{
 "cells": [
  {
   "cell_type": "code",
   "execution_count": null,
   "metadata": {},
   "outputs": [],
   "source": [
    "#python \n",
    "\n",
    "\"\"\"\n",
    "lambda\n",
    "Counter \n",
    "enumerate\n",
    "bisect\n",
    "map\n",
    "join\n",
    "abs\n",
    "bin\n",
    "math.inf\n",
    "float(\"inf\")\n",
    "defaultdict\n",
    "split\n",
    "\"\"\""
   ]
  },
  {
   "cell_type": "code",
   "execution_count": null,
   "metadata": {},
   "outputs": [],
   "source": [
    "#general\n",
    "\"\"\"\n",
    "if not getting answer check from first line !!!\n",
    "\n",
    "if you cant find solution try from reversing \n",
    "\n",
    "if it is sorted use binary search\n",
    "\n",
    "if you struck anywhere use hashmap\n",
    "\n",
    "first try your worst solution ,then you can see optimised solution the goal is not to solve the question to build problem solving skills.\n",
    "\n",
    "\n",
    "\"\"\""
   ]
  },
  {
   "cell_type": "markdown",
   "metadata": {},
   "source": []
  }
 ],
 "metadata": {
  "kernelspec": {
   "display_name": "Python 3.9.6 64-bit",
   "language": "python",
   "name": "python3"
  },
  "language_info": {
   "name": "python",
   "version": "3.9.6"
  },
  "orig_nbformat": 4,
  "vscode": {
   "interpreter": {
    "hash": "e26b106e6146fa3417b08aa501d422914abd065c08ced2fc57ef114abeab93c7"
   }
  }
 },
 "nbformat": 4,
 "nbformat_minor": 2
}
