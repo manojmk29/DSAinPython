{
 "cells": [
  {
   "cell_type": "code",
   "execution_count": null,
   "metadata": {},
   "outputs": [],
   "source": [
    "#python \n",
    "\n",
    "\"\"\"\n",
    "lambda\n",
    "Counter \n",
    "enumerate\n",
    "bisect\n",
    "map\n",
    "join\n",
    "abs\n",
    "bin\n",
    "math.inf\n",
    "float(\"inf\")\n",
    "defaultdict\n",
    "split\n",
    "\"\"\""
   ]
  },
  {
   "cell_type": "code",
   "execution_count": null,
   "metadata": {},
   "outputs": [],
   "source": [
    "#general\n",
    "\"\"\"\n",
    "if not getting answer check from first line !!!\n",
    "\n",
    "if you cant find solution try from reversing \n",
    "\n",
    "if it is sorted use binary search\n",
    "\n",
    "if you struck anywhere use hashmap\n",
    "\n",
    "first try your worst solution ,then you can see optimised solution the goal is not to solve the question to build problem solving skills.\n",
    "\n",
    "\n",
    "\"\"\""
   ]
  },
  {
   "cell_type": "markdown",
   "metadata": {},
   "source": []
  }
 ],
 "metadata": {
  "language_info": {
   "name": "python"
  },
  "orig_nbformat": 4
 },
 "nbformat": 4,
 "nbformat_minor": 2
}
