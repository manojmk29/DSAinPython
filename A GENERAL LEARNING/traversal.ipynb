{
 "cells": [
  {
   "cell_type": "code",
   "execution_count": 1,
   "metadata": {},
   "outputs": [],
   "source": [
    "class node:\n",
    "    def __init__(self,data,left=None,right=None):\n",
    "        self.data=data\n",
    "        if(left!=None):\n",
    "            self.left=left\n",
    "        else:\n",
    "            self.left=None\n",
    "        if(right!=None):\n",
    "            self.right=right\n",
    "        else:\n",
    "            self.right=None\n",
    "o1=node(1)\n",
    "o2=node(2)\n",
    "o3=node(3)\n",
    "o4=node(4)\n",
    "o5=node(5)\n",
    "o6=node(6)\n",
    "o7=node(7)\n",
    "o8=node(8)\n",
    "o2.left=o4\n",
    "o2.right=o5\n",
    "o3.left=o6\n",
    "o3.right=o7\n",
    "o1.left=o2\n",
    "o1.right=o3"
   ]
  },
  {
   "cell_type": "markdown",
   "metadata": {},
   "source": [
    "POST ORDER TRAVERSAL USING TWO STACK"
   ]
  },
  {
   "cell_type": "code",
   "execution_count": 2,
   "metadata": {},
   "outputs": [
    {
     "name": "stdout",
     "output_type": "stream",
     "text": [
      "[4, 5, 2, 6, 7, 3, 1]\n"
     ]
    }
   ],
   "source": [
    "def post_order(root):\n",
    "    stack1=[]\n",
    "    stack2=[]\n",
    "    ret=[]\n",
    "    if(root):\n",
    "        stack1.append(root)\n",
    "    while(stack1):\n",
    "        temp=stack1.pop()\n",
    "        stack2.append(temp.data)\n",
    "        if(temp.left):\n",
    "            stack1.append(temp.left)\n",
    "        if(temp.right):\n",
    "            stack1.append(temp.right)\n",
    "    while(stack2):\n",
    "        ret.append(stack2.pop())\n",
    "    print(ret)\n",
    "post_order(o1)\n",
    "\n"
   ]
  },
  {
   "cell_type": "markdown",
   "metadata": {},
   "source": [
    "POST ORDER USING ONE STACK"
   ]
  },
  {
   "cell_type": "code",
   "execution_count": 28,
   "metadata": {},
   "outputs": [
    {
     "data": {
      "text/plain": [
       "[4, 5, 2, 6, 7, 3, 1]"
      ]
     },
     "execution_count": 28,
     "metadata": {},
     "output_type": "execute_result"
    }
   ],
   "source": [
    "def postorder(root):\n",
    "    stack=[]\n",
    "    ret=[]\n",
    "    if(root):\n",
    "        stack.append(root)\n",
    "    while(stack):\n",
    "        root=stack[-1]\n",
    "        if(root.right):\n",
    "            stack.append(root.right)\n",
    "        if(root.left):\n",
    "            stack.append(root.left)\n",
    "        if(root.left==None and root.right==None):\n",
    "            temp=stack.pop()\n",
    "            ret.append(temp.data)\n",
    "            while(stack and (stack[-1].left==temp or stack[-1].right==temp)):\n",
    "                temp=stack.pop()\n",
    "                ret.append(temp.data)\n",
    "    return(ret)\n",
    "postorder(o1)"
   ]
  },
  {
   "cell_type": "code",
   "execution_count": 3,
   "metadata": {},
   "outputs": [
    {
     "name": "stdout",
     "output_type": "stream",
     "text": [
      "f\n"
     ]
    }
   ],
   "source": [
    "a=[1]\n",
    "if(a):\n",
    "    print(\"f\")"
   ]
  },
  {
   "cell_type": "code",
   "execution_count": null,
   "metadata": {},
   "outputs": [],
   "source": []
  }
 ],
 "metadata": {
  "kernelspec": {
   "display_name": "Python 3.9.6 64-bit",
   "language": "python",
   "name": "python3"
  },
  "language_info": {
   "codemirror_mode": {
    "name": "ipython",
    "version": 3
   },
   "file_extension": ".py",
   "mimetype": "text/x-python",
   "name": "python",
   "nbconvert_exporter": "python",
   "pygments_lexer": "ipython3",
   "version": "3.9.6"
  },
  "orig_nbformat": 4,
  "vscode": {
   "interpreter": {
    "hash": "e26b106e6146fa3417b08aa501d422914abd065c08ced2fc57ef114abeab93c7"
   }
  }
 },
 "nbformat": 4,
 "nbformat_minor": 2
}
