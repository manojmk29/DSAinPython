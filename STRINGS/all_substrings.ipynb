{
 "cells": [
  {
   "cell_type": "code",
   "execution_count": 3,
   "metadata": {},
   "outputs": [
    {
     "data": {
      "text/plain": [
       "['m',\n",
       " 'ma',\n",
       " 'man',\n",
       " 'mano',\n",
       " 'manoj',\n",
       " 'a',\n",
       " 'an',\n",
       " 'ano',\n",
       " 'anoj',\n",
       " 'n',\n",
       " 'no',\n",
       " 'noj',\n",
       " 'o',\n",
       " 'oj',\n",
       " 'j']"
      ]
     },
     "execution_count": 3,
     "metadata": {},
     "output_type": "execute_result"
    }
   ],
   "source": [
    "def all_substring(str):\n",
    "    ret=[]\n",
    "    for i in range(len(str)):\n",
    "        for j in range(i,len(str)):\n",
    "            strt=\"\"\n",
    "            for k in range(i,j+1):\n",
    "                strt+=str[k]\n",
    "            ret.append(strt)\n",
    "    return(ret)\n",
    "all_substring(\"manoj\")\n",
    "\n",
    "# time complexity o(n^3)/\n"
   ]
  },
  {
   "cell_type": "code",
   "execution_count": 5,
   "metadata": {},
   "outputs": [
    {
     "data": {
      "text/plain": [
       "['m',\n",
       " 'ma',\n",
       " 'man',\n",
       " 'mano',\n",
       " 'manoj',\n",
       " 'a',\n",
       " 'an',\n",
       " 'ano',\n",
       " 'anoj',\n",
       " 'n',\n",
       " 'no',\n",
       " 'noj',\n",
       " 'o',\n",
       " 'oj',\n",
       " 'j']"
      ]
     },
     "execution_count": 5,
     "metadata": {},
     "output_type": "execute_result"
    }
   ],
   "source": [
    "def all_substring(str):\n",
    "    ret=[]\n",
    "    for i in range(len(str)):\n",
    "        strt=\"\"\n",
    "        for j in range(i,len(str)):\n",
    "            strt+=str[j]\n",
    "            ret.append(strt)\n",
    "    return(ret)\n",
    "all_substring(\"manoj\")\n",
    "# time complexity o(n^2)"
   ]
  },
  {
   "cell_type": "code",
   "execution_count": null,
   "metadata": {},
   "outputs": [],
   "source": []
  }
 ],
 "metadata": {
  "interpreter": {
   "hash": "11ad92808b9e536a1bda76e6f18576c204b1bdc67c9013f7331a2b858d211f20"
  },
  "kernelspec": {
   "display_name": "Python 3.9.6 64-bit",
   "language": "python",
   "name": "python3"
  },
  "language_info": {
   "codemirror_mode": {
    "name": "ipython",
    "version": 3
   },
   "file_extension": ".py",
   "mimetype": "text/x-python",
   "name": "python",
   "nbconvert_exporter": "python",
   "pygments_lexer": "ipython3",
   "version": "3.9.6"
  },
  "orig_nbformat": 4
 },
 "nbformat": 4,
 "nbformat_minor": 2
}
