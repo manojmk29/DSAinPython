{
 "cells": [
  {
   "cell_type": "code",
   "execution_count": null,
   "metadata": {},
   "outputs": [],
   "source": [
    "class Solution(object):\n",
    "    def reverseVowels(self, s):\n",
    "        \"\"\"\n",
    "        :type s: str\n",
    "        :rtype: str\n",
    "        \"\"\"\n",
    "        # method 1\n",
    "        pos=[]\n",
    "        s=list(s)\n",
    "        vowel={\"a\",\"e\",\"i\",\"o\",\"u\",\"A\",\"E\",\"I\",\"O\",\"U\"}\n",
    "        for i in range(len(s)):\n",
    "            if s[i] in vowel:\n",
    "                pos.append(i)\n",
    "        pos_len=len(pos)\n",
    "        for i in range(pos_len//2):\n",
    "            s[pos[i]],s[pos[pos_len-1-i]]=s[pos[pos_len-1-i]],s[pos[i]]\n",
    "        return(\"\".join(s))"
   ]
  },
  {
   "cell_type": "code",
   "execution_count": 4,
   "metadata": {},
   "outputs": [
    {
     "name": "stdout",
     "output_type": "stream",
     "text": [
      "['i', 'g', 'l', 'o', 'e', 'a']\n"
     ]
    }
   ],
   "source": [
    "a=[\"a\",\"g\",\"l\",\"e\",\"o\",\"i\"]\n",
    "vowel={\"a\",\"e\",\"i\",\"o\",\"u\",\"A\",\"E\",\"I\",\"O\",\"U\"}\n",
    "i=0\n",
    "j=len(a)-1\n",
    "while(i<j):\n",
    "    if(a[i] not in vowel):\n",
    "        i+=1\n",
    "    if(a[j] not in vowel):\n",
    "        j-=1\n",
    "    if(a[i] in vowel and a[j] in vowel):\n",
    "        a[i],a[j]=a[j],a[i]\n",
    "        i+=1\n",
    "        j-=1\n",
    "print(a)"
   ]
  },
  {
   "cell_type": "code",
   "execution_count": 6,
   "metadata": {},
   "outputs": [
    {
     "data": {
      "text/plain": [
       "\"['i', 'g', 'l', 'o', 'e', 'a']\""
      ]
     },
     "execution_count": 6,
     "metadata": {},
     "output_type": "execute_result"
    }
   ],
   "source": [
    "str(a)"
   ]
  },
  {
   "cell_type": "code",
   "execution_count": null,
   "metadata": {},
   "outputs": [],
   "source": []
  }
 ],
 "metadata": {
  "interpreter": {
   "hash": "11ad92808b9e536a1bda76e6f18576c204b1bdc67c9013f7331a2b858d211f20"
  },
  "kernelspec": {
   "display_name": "Python 3.9.6 64-bit",
   "language": "python",
   "name": "python3"
  },
  "language_info": {
   "codemirror_mode": {
    "name": "ipython",
    "version": 3
   },
   "file_extension": ".py",
   "mimetype": "text/x-python",
   "name": "python",
   "nbconvert_exporter": "python",
   "pygments_lexer": "ipython3",
   "version": "3.9.6"
  },
  "orig_nbformat": 4
 },
 "nbformat": 4,
 "nbformat_minor": 2
}
