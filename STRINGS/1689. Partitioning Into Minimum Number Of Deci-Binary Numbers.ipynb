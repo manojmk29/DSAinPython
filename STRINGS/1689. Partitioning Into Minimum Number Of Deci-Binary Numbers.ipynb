{
 "cells": [
  {
   "cell_type": "code",
   "execution_count": 16,
   "metadata": {},
   "outputs": [],
   "source": [
    "class Solution(object):\n",
    "    def minPartitions(self, n):\n",
    "        \"\"\"\n",
    "        :type n: str\n",
    "        :rtype: int\n",
    "        \"\"\"\n",
    "        return(max(n))       "
   ]
  },
  {
   "cell_type": "code",
   "execution_count": 11,
   "metadata": {},
   "outputs": [
    {
     "data": {
      "text/plain": [
       "24"
      ]
     },
     "execution_count": 11,
     "metadata": {},
     "output_type": "execute_result"
    }
   ],
   "source": [
    "class Solution(object):\n",
    "    def minPartitions(self, n):\n",
    "        \"\"\"\n",
    "        :type n: str\n",
    "        :rtype: int\n",
    "        \"\"\"\n",
    "        t=1\n",
    "        l=[int(i) for i in n]\n",
    "        ret=0\n",
    "        while(t==1):\n",
    "            f=0\n",
    "            for i in range(len(l)):\n",
    "                if(l[i]>0):\n",
    "                    f=1\n",
    "                l[i]-=1\n",
    "            if(f==0):\n",
    "                return(ret)\n",
    "            else:\n",
    "                ret+=1\n",
    "                    \n",
    "                    \n",
    "            \n",
    "            "
   ]
  },
  {
   "cell_type": "code",
   "execution_count": null,
   "metadata": {},
   "outputs": [],
   "source": [
    "# W R O N G\n",
    "class Solution(object):\n",
    "    def minPartitions(self, n):\n",
    "        \"\"\"\n",
    "        :type n: str\n",
    "        :rtype: int\n",
    "        \"\"\"\n",
    "        k=1\n",
    "        while(int(bin(k)[2:])<int(n)):\n",
    "            k+=1\n",
    "        if(int(bin(k)[2:])==int(n)):\n",
    "            return(1)\n",
    "        k-=1\n",
    "        b=int(n)\n",
    "        ret=0\n",
    "        while(b):\n",
    "            if(b>=int(bin(k)[2:])):\n",
    "                ret+=1\n",
    "                b-=int(bin(k)[2:])\n",
    "            else:\n",
    "                k-=1\n",
    "        return(ret)\n",
    "        "
   ]
  },
  {
   "cell_type": "code",
   "execution_count": 15,
   "metadata": {},
   "outputs": [
    {
     "data": {
      "text/plain": [
       "['mano', 'j']"
      ]
     },
     "execution_count": 15,
     "metadata": {},
     "output_type": "execute_result"
    }
   ],
   "source": [
    "a=\"mano,j\"\n",
    "a.split(\",\")"
   ]
  },
  {
   "cell_type": "code",
   "execution_count": null,
   "metadata": {},
   "outputs": [],
   "source": [
    "# 393\n",
    "# 111\n",
    "# 111\n",
    "# 111\n",
    "# 010\n",
    "# 010\n",
    "# 010\n",
    "# 010\n",
    "# 010\n",
    "# 010"
   ]
  },
  {
   "cell_type": "code",
   "execution_count": null,
   "metadata": {},
   "outputs": [],
   "source": [
    "# 393\n",
    "# 111\n",
    "# 111\n",
    "# 111\n",
    "# 060\n",
    "# 11\n",
    "# 49\n",
    "# 11\n",
    "# 38\n",
    "# 11\n",
    "# 27\n",
    "# 11\n",
    "# 16\n",
    "# 11\n",
    "# 5\n",
    "# 1\n",
    "# 4\n",
    "# 1\n",
    "# 3\n",
    "# 1\n",
    "# 2\n",
    "# 1\n",
    "# 1\n",
    "# 0\n"
   ]
  }
 ],
 "metadata": {
  "interpreter": {
   "hash": "11ad92808b9e536a1bda76e6f18576c204b1bdc67c9013f7331a2b858d211f20"
  },
  "kernelspec": {
   "display_name": "Python 3.9.6 64-bit",
   "language": "python",
   "name": "python3"
  },
  "language_info": {
   "codemirror_mode": {
    "name": "ipython",
    "version": 3
   },
   "file_extension": ".py",
   "mimetype": "text/x-python",
   "name": "python",
   "nbconvert_exporter": "python",
   "pygments_lexer": "ipython3",
   "version": "3.9.6"
  },
  "orig_nbformat": 4
 },
 "nbformat": 4,
 "nbformat_minor": 2
}
