{
 "cells": [
  {
   "cell_type": "code",
   "execution_count": 10,
   "metadata": {},
   "outputs": [],
   "source": [
    "from collections import defaultdict\n",
    "class Solution:\n",
    "    def numberOfSubstrings(self, s: str) -> int:\n",
    "        n=len(s)\n",
    "        ret=0\n",
    "        l=0\n",
    "        hmap=defaultdict(int)\n",
    "        for i in range(n):\n",
    "            hmap[s[i]]+=1\n",
    "            hn=len(hmap)\n",
    "            if(hn==3):\n",
    "                ret+=1\n",
    "                val=n-i-1\n",
    "                ret+=val\n",
    "                while(len(hmap)==3):\n",
    "                    hmap[s[l]]-=1\n",
    "                    if(hmap[s[l]]==0):\n",
    "                        hmap.pop(s[l])\n",
    "                    l+=1\n",
    "        return(ret)"
   ]
  },
  {
   "cell_type": "code",
   "execution_count": 11,
   "metadata": {},
   "outputs": [
    {
     "data": {
      "text/plain": [
       "10"
      ]
     },
     "execution_count": 11,
     "metadata": {},
     "output_type": "execute_result"
    }
   ],
   "source": [
    "Solution().numberOfSubstrings(\"abcabc\")"
   ]
  },
  {
   "cell_type": "code",
   "execution_count": null,
   "metadata": {},
   "outputs": [],
   "source": []
  }
 ],
 "metadata": {
  "interpreter": {
   "hash": "e26b106e6146fa3417b08aa501d422914abd065c08ced2fc57ef114abeab93c7"
  },
  "kernelspec": {
   "display_name": "Python 3.9.6 64-bit",
   "language": "python",
   "name": "python3"
  },
  "language_info": {
   "codemirror_mode": {
    "name": "ipython",
    "version": 3
   },
   "file_extension": ".py",
   "mimetype": "text/x-python",
   "name": "python",
   "nbconvert_exporter": "python",
   "pygments_lexer": "ipython3",
   "version": "3.9.6"
  },
  "orig_nbformat": 4
 },
 "nbformat": 4,
 "nbformat_minor": 2
}
