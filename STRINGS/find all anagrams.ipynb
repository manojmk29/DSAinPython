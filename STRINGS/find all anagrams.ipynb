{
 "cells": [
  {
   "cell_type": "code",
   "execution_count": 1,
   "metadata": {},
   "outputs": [],
   "source": [
    "class Solution(object):\n",
    "    def findAnagrams(self, s, p):\n",
    "        \"\"\"\n",
    "        :type s: str\n",
    "        :type p: str\n",
    "        :rtype: List[int]\n",
    "        \"\"\"\n",
    "        plen=len(p)\n",
    "        slen=len(s)\n",
    "        if(plen>slen):\n",
    "            return([])\n",
    "        tot=1\n",
    "        for i in p:\n",
    "            tot*=ord(i)\n",
    "        count=0\n",
    "        stot=1\n",
    "        ind=0\n",
    "        ret=[]\n",
    "        for i in range(slen):\n",
    "            stot*=ord(s[i])\n",
    "            count+=1\n",
    "            if(count==plen):\n",
    "                if(stot==tot):\n",
    "                    ret.append(ind)\n",
    "                stot=(stot//ord(s[ind]))\n",
    "                ind+=1\n",
    "                count-=1\n",
    "        return(ret)"
   ]
  },
  {
   "cell_type": "code",
   "execution_count": 4,
   "metadata": {},
   "outputs": [],
   "source": [
    "o=Solution()\n",
    "o.findAnagrams(\"ab\",\"ba\")"
   ]
  },
  {
   "cell_type": "code",
   "execution_count": null,
   "metadata": {},
   "outputs": [],
   "source": []
  }
 ],
 "metadata": {
  "interpreter": {
   "hash": "11ad92808b9e536a1bda76e6f18576c204b1bdc67c9013f7331a2b858d211f20"
  },
  "kernelspec": {
   "display_name": "Python 3.9.6 64-bit",
   "language": "python",
   "name": "python3"
  },
  "language_info": {
   "codemirror_mode": {
    "name": "ipython",
    "version": 3
   },
   "file_extension": ".py",
   "mimetype": "text/x-python",
   "name": "python",
   "nbconvert_exporter": "python",
   "pygments_lexer": "ipython3",
   "version": "3.9.6"
  },
  "orig_nbformat": 4
 },
 "nbformat": 4,
 "nbformat_minor": 2
}
