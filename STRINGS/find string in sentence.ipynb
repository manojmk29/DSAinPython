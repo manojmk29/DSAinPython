{
 "cells": [
  {
   "cell_type": "code",
   "execution_count": 9,
   "metadata": {},
   "outputs": [
    {
     "name": "stdout",
     "output_type": "stream",
     "text": [
      "{'Welcome': 1, 'to': 1, 'USA': 1, 'usa': 1, 'awesome': 1, \"isn't\": 1, 'it': 1}\n"
     ]
    }
   ],
   "source": [
    "sent=\"Welcome to USA. usa awesome, isn't it?\"\n",
    "hmap={}\n",
    "word=\"\"\n",
    "delimiters={\",\",\" \",\".\",\"?\",\"!\"}\n",
    "for right in range(len(sent)):\n",
    "    if(sent[right] in delimiters):\n",
    "        if(word!=\"\"):\n",
    "            if(word not in hmap):\n",
    "                hmap[word]=1\n",
    "            else:\n",
    "                hmap[word]+=1\n",
    "        word=\"\"\n",
    "    else:\n",
    "        word+=sent[right]\n",
    "print(hmap)"
   ]
  },
  {
   "cell_type": "code",
   "execution_count": 25,
   "metadata": {},
   "outputs": [
    {
     "name": "stdout",
     "output_type": "stream",
     "text": [
      "<class 'collections.Counter'>\n",
      "a --- 2\n",
      "b --- 1\n",
      "c --- 2\n",
      "d --- 4\n",
      "g --- 3\n",
      "s --- 2\n",
      "o --- 3\n",
      "t --- 1\n",
      "h --- 1\n",
      "e --- 1\n",
      "f --- 1\n",
      "abc --- 1\n",
      "0\n"
     ]
    }
   ],
   "source": [
    "from collections import Counter\n",
    "a=\"abcdag sdcs dog dog the fo\"\n",
    "b=Counter(a)\n",
    "b.pop(\" \")\n",
    "print(type(b))\n",
    "b[\"abc\"]+=1\n",
    "for i in b:\n",
    "    print(i,\"---\",b[i])"
   ]
  },
  {
   "cell_type": "code",
   "execution_count": 11,
   "metadata": {},
   "outputs": [
    {
     "data": {
      "text/plain": [
       "Counter({1: 2, 2: 3, 3: 1, 4: 1, 5: 1})"
      ]
     },
     "execution_count": 11,
     "metadata": {},
     "output_type": "execute_result"
    }
   ],
   "source": [
    "from collections import Counter\n",
    "a=[1,1,2,2,2,3,4,5]\n",
    "b=Counter(a)\n",
    "b"
   ]
  },
  {
   "cell_type": "code",
   "execution_count": 6,
   "metadata": {},
   "outputs": [
    {
     "data": {
      "text/plain": [
       "{'welcome': 1,\n",
       " 'to': 1,\n",
       " 'usa.': 1,\n",
       " 'usa': 1,\n",
       " 'awesome,': 1,\n",
       " \"isn't\": 1,\n",
       " 'it?': 1}"
      ]
     },
     "execution_count": 6,
     "metadata": {},
     "output_type": "execute_result"
    }
   ],
   "source": [
    "str1 = \"Welcome to USA. usa awesome, isn't it?\"\n",
    "\n",
    "def word_Count(str1):\n",
    "    count = dict()\n",
    "    lower = str1.lower()\n",
    "    words = lower.split(\" \")\n",
    "    for word in words:\n",
    "        if word in count:\n",
    "            count[word]+=1\n",
    "        else:\n",
    "            count[word]=1\n",
    "    return(count)\n",
    "\n",
    "word_Count(str1)"
   ]
  },
  {
   "cell_type": "code",
   "execution_count": null,
   "metadata": {},
   "outputs": [],
   "source": []
  }
 ],
 "metadata": {
  "interpreter": {
   "hash": "11ad92808b9e536a1bda76e6f18576c204b1bdc67c9013f7331a2b858d211f20"
  },
  "kernelspec": {
   "display_name": "Python 3.9.6 64-bit",
   "language": "python",
   "name": "python3"
  },
  "language_info": {
   "codemirror_mode": {
    "name": "ipython",
    "version": 3
   },
   "file_extension": ".py",
   "mimetype": "text/x-python",
   "name": "python",
   "nbconvert_exporter": "python",
   "pygments_lexer": "ipython3",
   "version": "3.9.6"
  },
  "orig_nbformat": 4
 },
 "nbformat": 4,
 "nbformat_minor": 2
}
