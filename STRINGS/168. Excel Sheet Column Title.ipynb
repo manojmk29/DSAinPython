{
 "cells": [
  {
   "cell_type": "code",
   "execution_count": 2,
   "metadata": {},
   "outputs": [],
   "source": [
    "class Solution(object):\n",
    "    def convertToTitle(self, columnNumber):\n",
    "        \"\"\"\n",
    "        :type columnNumber: int\n",
    "        :rtype: str\n",
    "        \"\"\"\n",
    "        ret=\"\"\n",
    "        inp=columnNumber\n",
    "        while(inp):\n",
    "            v=inp%26\n",
    "            inp//=26\n",
    "            if(v==0):\n",
    "                inp-=1\n",
    "                ret=\"Z\"+ret\n",
    "            else:\n",
    "                ret=chr(v+64)+ret\n",
    "        return(ret)"
   ]
  },
  {
   "cell_type": "code",
   "execution_count": null,
   "metadata": {},
   "outputs": [],
   "source": [
    "def convertToTitle(columnNumber):\n",
    "    capitals = [chr(x) for x in range(ord('A'), ord('Z')+1)]\n",
    "    result = []\n",
    "    while columnNumber > 0:\n",
    "        result.append(capitals[(columnNumber-1)%26])\n",
    "        columnNumber = (columnNumber-1) // 26\n",
    "    result.reverse()\n",
    "    print(''.join(result))"
   ]
  }
 ],
 "metadata": {
  "interpreter": {
   "hash": "11ad92808b9e536a1bda76e6f18576c204b1bdc67c9013f7331a2b858d211f20"
  },
  "kernelspec": {
   "display_name": "Python 3.9.6 64-bit",
   "language": "python",
   "name": "python3"
  },
  "language_info": {
   "codemirror_mode": {
    "name": "ipython",
    "version": 3
   },
   "file_extension": ".py",
   "mimetype": "text/x-python",
   "name": "python",
   "nbconvert_exporter": "python",
   "pygments_lexer": "ipython3",
   "version": "3.9.6"
  },
  "orig_nbformat": 4
 },
 "nbformat": 4,
 "nbformat_minor": 2
}
