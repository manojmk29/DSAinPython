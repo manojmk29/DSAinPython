{
 "cells": [
  {
   "cell_type": "code",
   "execution_count": null,
   "metadata": {},
   "outputs": [],
   "source": [
    "def fourSum( nums, target):\n",
    "        \"\"\"\n",
    "        :type nums: List[int]\n",
    "        :type target: int\n",
    "        :rtype: List[List[int]]\n",
    "        \"\"\"\n",
    "        \n",
    "        #method 1 O(n^4)\n",
    "        # output=[]\n",
    "        # n=len(nums)\n",
    "        # nums.sort()\n",
    "        # for i in range(0,n-3):\n",
    "        #     for j in range(i+1,n-2):\n",
    "        #         for k in range(j+1,n-1):\n",
    "        #             for l in range(k+1,n):\n",
    "        #                 if(nums[i]+nums[j]+nums[k]+nums[l]==target):\n",
    "        #                     sample=[nums[i],nums[j],nums[k],nums[l]]\n",
    "        #                     if(sample not in output):\n",
    "        #                         output+=[sample]\n",
    "        #                     # output+=[[nums[i],nums[j],nums[k],nums[l]]]\n",
    "        # return(output)\n",
    "        #method 2\n",
    "        output=[]\n",
    "        n=len(nums)\n",
    "        nums.sort()\n",
    "        def binary_search(i,j,k,l,r,target,output):\n",
    "             while(l<=r):\n",
    "                m=(l+r)//2\n",
    "                if(nums[i]+nums[j]+nums[k]+nums[m]==target):\n",
    "                    output+=[[nums[i],nums[j],nums[k],nums[m]]]\n",
    "                    # if([nums[i],nums[j],nums[k],nums[m]] not in output):\n",
    "                    #     output+=[[nums[i],nums[j],nums[k],nums[m]]]\n",
    "                    #     break\n",
    "                elif(nums[i]+nums[j]+nums[k]+nums[m]>target):\n",
    "                    r=m-1\n",
    "                elif(nums[i]+nums[j]+nums[k]+nums[m]<target):\n",
    "                    l=m+1\n",
    "        for i in range(0,n-3):\n",
    "            for j in range(i+1,n-2):\n",
    "                for k in range(j+1,n-1):\n",
    "                        binary_search(i,j,k,k+1,n-1,target,output)\n",
    "        return(output)\n",
    "nums=[-5,5,4,-3,0,0,4,-2]\n",
    "tar=4\n",
    "print(fourSum(nums,tar))"
   ]
  }
 ],
 "metadata": {
  "language_info": {
   "name": "python"
  },
  "orig_nbformat": 4
 },
 "nbformat": 4,
 "nbformat_minor": 2
}
