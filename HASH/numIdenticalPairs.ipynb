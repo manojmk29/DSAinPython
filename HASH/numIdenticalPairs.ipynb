{
 "cells": [
  {
   "cell_type": "code",
   "execution_count": null,
   "metadata": {},
   "outputs": [],
   "source": [
    "class Solution(object):\n",
    "    def numIdenticalPairs(self, nums):\n",
    "        \"\"\"\n",
    "        :type nums: List[int]\n",
    "        :rtype: int\n",
    "        \"\"\"\n",
    "        n=len(nums)\n",
    "        hmap=defaultdict(int)\n",
    "        ret=0\n",
    "        for i in range(n):\n",
    "            ret+=hmap[nums[i]]\n",
    "            hmap[nums[i]]+=1\n",
    "        return(ret)\n",
    "            "
   ]
  }
 ],
 "metadata": {
  "language_info": {
   "name": "python"
  },
  "orig_nbformat": 4
 },
 "nbformat": 4,
 "nbformat_minor": 2
}
