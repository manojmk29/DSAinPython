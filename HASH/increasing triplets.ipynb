{
 "cells": [
  {
   "cell_type": "code",
   "execution_count": 1,
   "metadata": {},
   "outputs": [],
   "source": [
    "class Solution(object):\n",
    "    def increasingTriplet(self, nums):\n",
    "        \"\"\"\n",
    "        :type nums: List[int]\n",
    "        :rtype: bool\n",
    "        \"\"\"\n",
    "        count=0\n",
    "        hmax={}\n",
    "        l=len(nums)\n",
    "        if(l<3):\n",
    "            return(False)\n",
    "        hmax[l-1]=nums[l-1]\n",
    "        for i in range(l-2,-1,-1):\n",
    "            hmax[i]=max(nums[i],hmax[i+1])\n",
    "        hmax2={}\n",
    "        hmax2[0]=nums[0]\n",
    "        for i in range(1,l-1):\n",
    "            hmax2[i]=min(nums[i],hmax2[i-1])\n",
    "        curr=nums[0]\n",
    "        for i in range(1,l-1):\n",
    "            if(hmax[i]>nums[i] and hmax2[i]<nums[i]):\n",
    "                return(True)\n",
    "        return(False)"
   ]
  },
  {
   "cell_type": "code",
   "execution_count": null,
   "metadata": {},
   "outputs": [],
   "source": [
    "class Solution(object):\n",
    "    def increasingTriplet(self, nums):\n",
    "        \"\"\"\n",
    "        :type nums: List[int]\n",
    "        :rtype: bool\n",
    "        \"\"\"\n",
    "        l=len(nums)\n",
    "        if(l<3):\n",
    "            return(False)\n",
    "        first=second=float(\"inf\")\n",
    "        for i in range(0,l):\n",
    "            val=nums[i]\n",
    "            if(val<first):\n",
    "                first=val\n",
    "            if(val>first and val<second):\n",
    "                second=val\n",
    "            if(val>second):\n",
    "                return(True)\n",
    "        return(False)\n",
    "        "
   ]
  }
 ],
 "metadata": {
  "interpreter": {
   "hash": "11ad92808b9e536a1bda76e6f18576c204b1bdc67c9013f7331a2b858d211f20"
  },
  "kernelspec": {
   "display_name": "Python 3.9.6 64-bit",
   "language": "python",
   "name": "python3"
  },
  "language_info": {
   "codemirror_mode": {
    "name": "ipython",
    "version": 3
   },
   "file_extension": ".py",
   "mimetype": "text/x-python",
   "name": "python",
   "nbconvert_exporter": "python",
   "pygments_lexer": "ipython3",
   "version": "3.9.6"
  },
  "orig_nbformat": 4
 },
 "nbformat": 4,
 "nbformat_minor": 2
}
