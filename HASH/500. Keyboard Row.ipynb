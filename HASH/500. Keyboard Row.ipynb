{
 "cells": [
  {
   "cell_type": "code",
   "execution_count": 10,
   "metadata": {},
   "outputs": [],
   "source": [
    "class Solution:\n",
    "    def findWords(self, words):\n",
    "        hmap={}\n",
    "        for i in \"qwertyuiop\":\n",
    "            hmap[ord(i)]=0\n",
    "            hmap[ord(i)-32]=0\n",
    "        for i in \"asdfghjkl\":\n",
    "            hmap[ord(i)]=1\n",
    "            hmap[ord(i)-32]=1\n",
    "        for i in \"zxcvbnm\":\n",
    "            hmap[ord(i)]=2\n",
    "            hmap[ord(i)-32]=2\n",
    "        ret=[]\n",
    "        for wrd in words:\n",
    "            val=hmap[ord(wrd[0])]\n",
    "            flag=1\n",
    "            for i in range(len(wrd)):\n",
    "                if hmap[ord(wrd[i])]!=val:\n",
    "                    flag=0\n",
    "                    break\n",
    "            if flag:\n",
    "                ret.append(wrd)\n",
    "        return ret"
   ]
  },
  {
   "cell_type": "code",
   "execution_count": 11,
   "metadata": {},
   "outputs": [
    {
     "data": {
      "text/plain": [
       "['Alaska', 'Dad']"
      ]
     },
     "execution_count": 11,
     "metadata": {},
     "output_type": "execute_result"
    }
   ],
   "source": [
    "Solution().findWords([\"Hello\",\"Alaska\",\"Dad\",\"Peace\"])"
   ]
  },
  {
   "cell_type": "code",
   "execution_count": 17,
   "metadata": {},
   "outputs": [
    {
     "data": {
      "text/plain": [
       "True"
      ]
     },
     "execution_count": 17,
     "metadata": {},
     "output_type": "execute_result"
    }
   ],
   "source": [
    "\"a\".islower()"
   ]
  },
  {
   "cell_type": "code",
   "execution_count": null,
   "metadata": {},
   "outputs": [],
   "source": []
  }
 ],
 "metadata": {
  "kernelspec": {
   "display_name": "Python 3.9.6 64-bit",
   "language": "python",
   "name": "python3"
  },
  "language_info": {
   "codemirror_mode": {
    "name": "ipython",
    "version": 3
   },
   "file_extension": ".py",
   "mimetype": "text/x-python",
   "name": "python",
   "nbconvert_exporter": "python",
   "pygments_lexer": "ipython3",
   "version": "3.9.6"
  },
  "orig_nbformat": 4,
  "vscode": {
   "interpreter": {
    "hash": "e26b106e6146fa3417b08aa501d422914abd065c08ced2fc57ef114abeab93c7"
   }
  }
 },
 "nbformat": 4,
 "nbformat_minor": 2
}
