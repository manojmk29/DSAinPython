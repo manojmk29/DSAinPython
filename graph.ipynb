{
 "cells": [
  {
   "cell_type": "code",
   "execution_count": 70,
   "metadata": {},
   "outputs": [],
   "source": [
    "from collections import defaultdict\n",
    "class graph:\n",
    "    def __init__(self,gdict=None):\n",
    "        if(gdict is None):\n",
    "            gdict ={}\n",
    "        self.gdict = gdict\n",
    "    def printvertices(self):\n",
    "        return(list(self.gdict.keys()))\n",
    "    def findedges(self):\n",
    "            edges=[]\n",
    "            for vrtx in self.gdict.keys():\n",
    "                for nxtvertex in self.gdict[vrtx]:\n",
    "                    if((nxtvertex,vrtx) not in edges):\n",
    "                        edges.append((vrtx,nxtvertex))\n",
    "            return(edges)\n",
    "    def addvertex(self,v):\n",
    "        if(v not in self.gdict):\n",
    "            self.gdict[v]=[]\n",
    "    def addedge(self,t):\n",
    "        if t[0] not in self.gdict[t[1]]:\n",
    "            self.gdict[t[1]].append(t[0])\n",
    "        if t[1] not in self.gdict[t[0]]:\n",
    "            self.gdict[t[0]].append(t[1])\n",
    "    # def dfs(self,pos):\n",
    "    #     visit=set()\n",
    "    #     self.dfshelp(pos,visit)\n",
    "    #     print(visit)\n",
    "    def dfs(self):\n",
    "        visit=set()\n",
    "        for i in self.gdict:\n",
    "            if i not in visit:\n",
    "                self.dfshelp(i,visit)\n",
    "        print(visit)\n",
    "    def dfshelp(self,pos,visit=set()):\n",
    "        visit.add(pos)\n",
    "        for neighbor in self.gdict[pos]:\n",
    "            if(neighbor not in visit):\n",
    "                self.dfshelp(neighbor,visit)"
   ]
  },
  {
   "cell_type": "code",
   "execution_count": 72,
   "metadata": {},
   "outputs": [
    {
     "name": "stdout",
     "output_type": "stream",
     "text": [
      "{1, 2, 3, 4, 5}\n"
     ]
    }
   ],
   "source": [
    "g={\n",
    "    1:[2,3,1],\n",
    "    2:[1],\n",
    "    3:[1],\n",
    "    4:[3,5],\n",
    "    5:[4]\n",
    "}\n",
    "obj=graph(g)\n",
    "obj.dfs()"
   ]
  },
  {
   "cell_type": "code",
   "execution_count": null,
   "metadata": {},
   "outputs": [],
   "source": []
  },
  {
   "cell_type": "code",
   "execution_count": 7,
   "metadata": {},
   "outputs": [
    {
     "name": "stdout",
     "output_type": "stream",
     "text": [
      "1\n",
      "2\n",
      "3\n"
     ]
    }
   ],
   "source": [
    "g={\n",
    "    1:[1,2],\n",
    "    2:[1,3],\n",
    "    3:[]\n",
    "}\n",
    "obj=graph(g)\n",
    "obj.printvertices()"
   ]
  },
  {
   "cell_type": "code",
   "execution_count": 36,
   "metadata": {},
   "outputs": [
    {
     "data": {
      "text/plain": [
       "[1, 2, 3]"
      ]
     },
     "execution_count": 36,
     "metadata": {},
     "output_type": "execute_result"
    }
   ],
   "source": [
    "g={\n",
    "    1:[1,2],\n",
    "    2:[1,3],\n",
    "    3:[]\n",
    "}\n",
    "a=g.keys()\n",
    "list(a)\n",
    "\n"
   ]
  },
  {
   "cell_type": "code",
   "execution_count": null,
   "metadata": {},
   "outputs": [],
   "source": []
  }
 ],
 "metadata": {
  "interpreter": {
   "hash": "11ad92808b9e536a1bda76e6f18576c204b1bdc67c9013f7331a2b858d211f20"
  },
  "kernelspec": {
   "display_name": "Python 3.9.6 64-bit",
   "language": "python",
   "name": "python3"
  },
  "language_info": {
   "codemirror_mode": {
    "name": "ipython",
    "version": 3
   },
   "file_extension": ".py",
   "mimetype": "text/x-python",
   "name": "python",
   "nbconvert_exporter": "python",
   "pygments_lexer": "ipython3",
   "version": "3.9.6"
  },
  "orig_nbformat": 4
 },
 "nbformat": 4,
 "nbformat_minor": 2
}
