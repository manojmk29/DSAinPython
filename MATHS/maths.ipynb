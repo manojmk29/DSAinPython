{
 "cells": [
  {
   "cell_type": "code",
   "execution_count": null,
   "metadata": {},
   "outputs": [],
   "source": [
    "def pow(x,n):\n",
    "    if(n<0):\n",
    "        n*=-1\n",
    "        x=1/x\n",
    "    if(n==0):\n",
    "        return(1)\n",
    "    if(n==1):\n",
    "        return(x)\n",
    "    if(n%2==0):\n",
    "        return(pow(x*x,n//2))\n",
    "    else:\n",
    "        return((pow(x,n-1)*x))\n",
    "x=2\n",
    "n=-10\n",
    "print(pow(x,n))"
   ]
  },
  {
   "cell_type": "code",
   "execution_count": null,
   "metadata": {},
   "outputs": [],
   "source": []
  }
 ],
 "metadata": {
  "language_info": {
   "name": "python"
  },
  "orig_nbformat": 4
 },
 "nbformat": 4,
 "nbformat_minor": 2
}
