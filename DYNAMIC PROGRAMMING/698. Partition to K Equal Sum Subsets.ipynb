{
 "cells": [
  {
   "cell_type": "code",
   "execution_count": 8,
   "metadata": {},
   "outputs": [],
   "source": [
    "class Solution:\n",
    "    def canPartitionKSubsets(self,nums,k):\n",
    "        tot=sum(nums)\n",
    "        if tot % k != 0:\n",
    "            return False\n",
    "        need=tot//k\n",
    "        n=len(nums)\n",
    "        nums.sort(reverse=True)\n",
    "        arr=[need for i in range(k)]\n",
    "        for i in nums:\n",
    "            if i > need:\n",
    "                return False\n",
    "        def helper(ind):\n",
    "            if(ind==n):\n",
    "                return(True)\n",
    "            for i in range(k):\n",
    "                if(arr[i]>=nums[ind]):\n",
    "                    arr[i]-=nums[ind]\n",
    "                    if(helper(ind+1)):\n",
    "                        return(True)\n",
    "                    arr[i]+=nums[ind]\n",
    "            return(False)\n",
    "        return(helper(0))"
   ]
  },
  {
   "cell_type": "code",
   "execution_count": 9,
   "metadata": {},
   "outputs": [
    {
     "data": {
      "text/plain": [
       "False"
      ]
     },
     "execution_count": 9,
     "metadata": {},
     "output_type": "execute_result"
    }
   ],
   "source": [
    "Solution().canPartitionKSubsets([2,2,2,2,3,4,5],4)"
   ]
  },
  {
   "cell_type": "code",
   "execution_count": null,
   "metadata": {},
   "outputs": [],
   "source": []
  }
 ],
 "metadata": {
  "kernelspec": {
   "display_name": "Python 3.9.6 64-bit",
   "language": "python",
   "name": "python3"
  },
  "language_info": {
   "codemirror_mode": {
    "name": "ipython",
    "version": 3
   },
   "file_extension": ".py",
   "mimetype": "text/x-python",
   "name": "python",
   "nbconvert_exporter": "python",
   "pygments_lexer": "ipython3",
   "version": "3.9.6"
  },
  "orig_nbformat": 4,
  "vscode": {
   "interpreter": {
    "hash": "e26b106e6146fa3417b08aa501d422914abd065c08ced2fc57ef114abeab93c7"
   }
  }
 },
 "nbformat": 4,
 "nbformat_minor": 2
}
