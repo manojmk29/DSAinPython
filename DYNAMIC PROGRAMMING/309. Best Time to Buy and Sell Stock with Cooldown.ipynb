{
 "cells": [
  {
   "cell_type": "code",
   "execution_count": 2,
   "metadata": {},
   "outputs": [],
   "source": [
    "class Solution:\n",
    "    def maxProfit(self, prices):\n",
    "        n=len(prices)\n",
    "        mem=[-1 for i in range(n)]\n",
    "        def helper(pos):\n",
    "            if(pos>=n):\n",
    "                return(0)\n",
    "            if(mem[pos]!=-1):\n",
    "                return mem[pos]\n",
    "            val=0\n",
    "            for i in range(pos+1,n):\n",
    "                if(prices[i]>prices[pos]):\n",
    "                    val=max(val,prices[i]-prices[pos]+helper(i+2))\n",
    "            ret=max(helper(pos+1),val)\n",
    "            mem[pos]=ret\n",
    "            return(ret)\n",
    "        return(helper(0))"
   ]
  },
  {
   "cell_type": "code",
   "execution_count": 3,
   "metadata": {},
   "outputs": [],
   "source": [
    "class Solution:\n",
    "    def maxProfit(self, prices):\n",
    "        n=len(prices)\n",
    "        inh=-prices[0]\n",
    "        nos=0\n",
    "        sold=0\n",
    "        for i in range(1,n):\n",
    "            n_inh=max(inh,nos-prices[i])\n",
    "            n_nos=max(nos,sold)\n",
    "            n_sold=max(sold,inh+prices[i])\n",
    "            inh,nos,sold=n_inh,n_nos,n_sold\n",
    "        return(max(nos,sold))\n"
   ]
  },
  {
   "cell_type": "code",
   "execution_count": null,
   "metadata": {},
   "outputs": [],
   "source": []
  }
 ],
 "metadata": {
  "kernelspec": {
   "display_name": "Python 3.9.6 64-bit",
   "language": "python",
   "name": "python3"
  },
  "language_info": {
   "codemirror_mode": {
    "name": "ipython",
    "version": 3
   },
   "file_extension": ".py",
   "mimetype": "text/x-python",
   "name": "python",
   "nbconvert_exporter": "python",
   "pygments_lexer": "ipython3",
   "version": "3.9.6"
  },
  "orig_nbformat": 4,
  "vscode": {
   "interpreter": {
    "hash": "e26b106e6146fa3417b08aa501d422914abd065c08ced2fc57ef114abeab93c7"
   }
  }
 },
 "nbformat": 4,
 "nbformat_minor": 2
}
