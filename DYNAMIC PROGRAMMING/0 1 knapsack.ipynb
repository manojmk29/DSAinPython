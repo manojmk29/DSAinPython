{
 "cells": [
  {
   "cell_type": "code",
   "execution_count": 18,
   "metadata": {},
   "outputs": [
    {
     "data": {
      "text/plain": [
       "3"
      ]
     },
     "execution_count": 18,
     "metadata": {},
     "output_type": "execute_result"
    }
   ],
   "source": [
    "class Solution:\n",
    "    def knapSack(self,W, wt, val, n):\n",
    "        def helper(ind,w):\n",
    "            if(w==0):\n",
    "                return(0)\n",
    "            if(ind==0):\n",
    "                if(wt[0]<=w):\n",
    "                    return(val[0])\n",
    "                else:\n",
    "                    return(0)\n",
    "            take=-float(\"inf\")\n",
    "            notake=helper(ind-1,w)\n",
    "            if(wt[ind]<=w):\n",
    "                take=val[ind]+helper(ind-1,w-wt[ind])\n",
    "            return(max(take,notake))\n",
    "        return(helper(n-1,W))\n",
    "vl=[1,2,3]\n",
    "wt=[4,5,1]\n",
    "Solution().knapSack(4,wt,vl,3)"
   ]
  },
  {
   "cell_type": "code",
   "execution_count": 3,
   "metadata": {},
   "outputs": [
    {
     "data": {
      "text/plain": [
       "3"
      ]
     },
     "execution_count": 3,
     "metadata": {},
     "output_type": "execute_result"
    }
   ],
   "source": [
    "class Solution:\n",
    "    def knapSack(self,W, wt, val, n):\n",
    "        dp=[[-1 for i in range(W+1)]for i in range(n)]\n",
    "        def helper(ind,w):\n",
    "            if(dp[ind][w]!=-1):\n",
    "                return(dp[ind][w])\n",
    "            if(w==0):\n",
    "                dp[ind][w]=0\n",
    "                return(0)\n",
    "            if(ind==0):\n",
    "                if(wt[0]<=w):\n",
    "                    dp[ind][w]=val[0]\n",
    "                    return(val[0])\n",
    "                else:\n",
    "                    dp[ind][w]=0\n",
    "                    return(0)\n",
    "            take=-float(\"inf\")\n",
    "            notake=helper(ind-1,w)\n",
    "            if(wt[ind]<=w):\n",
    "                take=val[ind]+helper(ind-1,w-wt[ind])\n",
    "            dp[ind][w]=max(take,notake)\n",
    "            return(dp[ind][w])\n",
    "        return(helper(n-1,W))\n",
    "vl=[1,2,3]\n",
    "wt=[4,5,1]\n",
    "Solution().knapSack(4,wt,vl,3)"
   ]
  },
  {
   "cell_type": "code",
   "execution_count": 6,
   "metadata": {},
   "outputs": [
    {
     "data": {
      "text/plain": [
       "3"
      ]
     },
     "execution_count": 6,
     "metadata": {},
     "output_type": "execute_result"
    }
   ],
   "source": [
    "class Solution:\n",
    "    def knapSack(self,W, wt, val, n):\n",
    "        dp=[[-1 for i in range(W+1)]for i in range(n)]\n",
    "        def helper(ind,w):\n",
    "            if(dp[ind][w]!=-1):\n",
    "                return(dp[ind][w])\n",
    "            if(w==0):\n",
    "                dp[ind][w]=0\n",
    "                return(0)\n",
    "            if(ind==0):\n",
    "                if(wt[0]<=w):\n",
    "                    dp[ind][w]=val[0]\n",
    "                    return(val[0])\n",
    "                else:\n",
    "                    dp[ind][w]=0\n",
    "                    return(0)\n",
    "            take=-float(\"inf\")\n",
    "            notake=helper(ind-1,w)\n",
    "            if(wt[ind]<=w):\n",
    "                take=val[ind]+helper(ind-1,w-wt[ind])\n",
    "            dp[ind][w]=max(take,notake)\n",
    "            return(dp[ind][w])\n",
    "        return(helper(n-1,W))\n",
    "vl=[1,2,3]\n",
    "wt=[4,5,1]\n",
    "Solution().knapSack(4,wt,vl,3)"
   ]
  },
  {
   "cell_type": "code",
   "execution_count": null,
   "metadata": {},
   "outputs": [],
   "source": [
    "class Solution:\n",
    "    def knapSack(self,W, wt, val, n):\n",
    "        dp=[[0 for i in range(W+1)]for i in range(n)]\n",
    "        for i in range(wt[0],W+1):\n",
    "            dp[0][i]=val[0]\n",
    "        for ind in range(1,n-1):\n",
    "            for weit in range(0,W+1):\n",
    "                notTaken =dp[ind-1][weit];\n",
    "                taken = -float(\"inf\");\n",
    "                if(wt[ind] <= weit):\n",
    "                    taken = val[ind] + dp[ind-1][weit - wt[ind]]\n",
    "                dp[ind][weit] = max(notTaken, taken)\n",
    "        return(dp[n-1][W])\n",
    "vl=[1,2,3]\n",
    "wt=[4,5,1]\n",
    "Solution().knapSack(4,wt,vl,3)"
   ]
  },
  {
   "cell_type": "code",
   "execution_count": 10,
   "metadata": {},
   "outputs": [
    {
     "data": {
      "text/plain": [
       "3"
      ]
     },
     "execution_count": 10,
     "metadata": {},
     "output_type": "execute_result"
    }
   ],
   "source": [
    "class Solution:\n",
    "    def knapSack(self,W, wt, val, n):\n",
    "        dp=[[0 for i in range(W+1)]for i in range(n)]\n",
    "        for i in range(wt[0],W+1):\n",
    "            dp[0][i]=val[0]\n",
    "        for ind in range(1,n):\n",
    "            for weit in range(0,W+1):\n",
    "                notTaken =dp[ind-1][weit];\n",
    "                taken = -float(\"inf\");\n",
    "                if(wt[ind] <= weit):\n",
    "                    taken = val[ind] + dp[ind-1][weit - wt[ind]]\n",
    "                dp[ind][weit] = max(notTaken, taken)\n",
    "        if(n==1):\n",
    "            return(dp[0][W-1]);\n",
    "        else:\n",
    "            notTaken = 0 + dp[n-2][W];\n",
    "            taken = -float(\"inf\")\n",
    "            if(wt[n-1] <= W):\n",
    "                taken = val[n-1] + dp[n-2][W - wt[n-1]];\n",
    "                return max(taken,notTaken);\n",
    "vl=[1,2,3]\n",
    "wt=[4,5,1]\n",
    "Solution().knapSack(4,wt,vl,3)"
   ]
  },
  {
   "cell_type": "code",
   "execution_count": 17,
   "metadata": {},
   "outputs": [
    {
     "data": {
      "text/plain": [
       "3"
      ]
     },
     "execution_count": 17,
     "metadata": {},
     "output_type": "execute_result"
    }
   ],
   "source": [
    "class Solution:\n",
    "    def knapSack(self,W, wt, val, n):\n",
    "        dp=[0 for i in range(W+1)]\n",
    "        for i in range(wt[0],W+1):\n",
    "            dp[i]=val[0]\n",
    "        for ind in range(1,n):\n",
    "            next=[0 for i in range(W+1)]\n",
    "            for weit in range(0,W+1):\n",
    "                notTaken =dp[weit];\n",
    "                taken = -float(\"inf\");\n",
    "                if(wt[ind] <= weit):\n",
    "                    taken = val[ind] + dp[weit - wt[ind]]\n",
    "                next[weit] = max(notTaken, taken)\n",
    "            dp=next\n",
    "        return(dp[W])\n",
    "vl=[1,2,3]\n",
    "wt=[4,5,1]\n",
    "Solution().knapSack(4,wt,vl,3)"
   ]
  },
  {
   "cell_type": "code",
   "execution_count": null,
   "metadata": {},
   "outputs": [],
   "source": []
  }
 ],
 "metadata": {
  "interpreter": {
   "hash": "11ad92808b9e536a1bda76e6f18576c204b1bdc67c9013f7331a2b858d211f20"
  },
  "kernelspec": {
   "display_name": "Python 3.9.6 64-bit",
   "language": "python",
   "name": "python3"
  },
  "language_info": {
   "codemirror_mode": {
    "name": "ipython",
    "version": 3
   },
   "file_extension": ".py",
   "mimetype": "text/x-python",
   "name": "python",
   "nbconvert_exporter": "python",
   "pygments_lexer": "ipython3",
   "version": "3.9.6"
  },
  "orig_nbformat": 4
 },
 "nbformat": 4,
 "nbformat_minor": 2
}
