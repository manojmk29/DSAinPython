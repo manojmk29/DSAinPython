{
 "cells": [
  {
   "cell_type": "code",
   "execution_count": 9,
   "metadata": {},
   "outputs": [],
   "source": [
    "from functools import lru_cache\n",
    "class Solution:\n",
    "    def findTargetSumWays(self, nums, target: int) -> int:\n",
    "        \"\"\"\n",
    "        tot=sum(nums)\n",
    "        s1-s2=d\n",
    "        s2=tot-s1\n",
    "        s1-tot+s1=d\n",
    "        2s1-tot=d\n",
    "        2s1=tot+d\n",
    "        s1=tot+d//2\n",
    "        \"\"\"\n",
    "        tot=sum(nums)\n",
    "        tot+=target\n",
    "        if(tot%2!=0):\n",
    "            return(0)\n",
    "        tar=tot//2\n",
    "        @lru_cache(None)\n",
    "        def helper(ind,cur):\n",
    "            if(ind==0):\n",
    "                if(cur==0 or cur-nums[ind]==0):\n",
    "                    return(1+(nums[ind]==0))\n",
    "                else:\n",
    "                    return(0)\n",
    "            notake=helper(ind-1,cur)\n",
    "            take=0\n",
    "            if(cur>=0):\n",
    "                take=helper(ind-1,cur-nums[ind])\n",
    "            return(notake+take)\n",
    "        n=len(nums)\n",
    "        return(helper(n-1,tar))"
   ]
  },
  {
   "cell_type": "code",
   "execution_count": 12,
   "metadata": {},
   "outputs": [],
   "source": [
    "from functools import lru_cache\n",
    "class Solution:\n",
    "    def findTargetSumWays(self, nums, target: int) -> int:\n",
    "        \"\"\"\n",
    "        tot=sum(nums)\n",
    "        s1-s2=d\n",
    "        s2=tot-s1\n",
    "        s1-tot+s1=d\n",
    "        2s1-tot=d\n",
    "        2s1=tot+d\n",
    "        s1=tot+d//2\n",
    "        \"\"\"\n",
    "        tot=sum(nums)\n",
    "        tot+=target\n",
    "        if(tot%2!=0):\n",
    "            return(0)\n",
    "        tar=tot//2\n",
    "        n=len(nums)\n",
    "        dp=[[-1 for i in range(tar+1)]for i in range(n)]\n",
    "        def helper(ind,cur):\n",
    "            if(dp[ind][cur]!=-1):\n",
    "                return(dp[ind][cur])\n",
    "            if(ind==0):\n",
    "                if(cur==0 or cur-nums[ind]==0):\n",
    "                    dp[ind][cur]=1+(nums[ind]==0)\n",
    "                    return(1+(nums[ind]==0))\n",
    "                else:\n",
    "                    dp[ind][cur]=0\n",
    "                    return(0)\n",
    "            notake=helper(ind-1,cur)\n",
    "            take=0\n",
    "            if(cur>=0):\n",
    "                take=helper(ind-1,cur-nums[ind])\n",
    "            dp[ind][cur]=notake+take\n",
    "            return(notake+take)\n",
    "        n=len(nums)\n",
    "        return(helper(n-1,tar))"
   ]
  },
  {
   "cell_type": "code",
   "execution_count": 15,
   "metadata": {},
   "outputs": [
    {
     "data": {
      "text/plain": [
       "1"
      ]
     },
     "execution_count": 15,
     "metadata": {},
     "output_type": "execute_result"
    }
   ],
   "source": [
    "arr=[1000]\n",
    "tar=-1000\n",
    "Solution().findTargetSumWays(arr,tar)"
   ]
  },
  {
   "cell_type": "code",
   "execution_count": 22,
   "metadata": {},
   "outputs": [],
   "source": [
    "from functools import lru_cache\n",
    "class Solution:\n",
    "    def findTargetSumWays(self, nums, target: int) -> int:\n",
    "        \"\"\"\n",
    "        tot=sum(nums)\n",
    "        s1-s2=d\n",
    "        s2=tot-s1\n",
    "        s1-tot+s1=d\n",
    "        2s1-tot=d\n",
    "        2s1=tot+d\n",
    "        s1=tot+d//2\n",
    "        \"\"\"\n",
    "        tot=sum(nums)\n",
    "        tot+=target\n",
    "        if(tot%2!=0):\n",
    "            return(0)\n",
    "        tar=tot//2\n",
    "        tar=abs(tar)\n",
    "        n=len(nums)\n",
    "        dp=[[-1 for i in range(tar+1)]for i in range(n)]\n",
    "        for cur in range(tar+1):\n",
    "            if(cur==0 or cur-nums[0]==0):\n",
    "                dp[0][cur]=1+(nums[0]==0)\n",
    "            else:\n",
    "                dp[0][cur]=0\n",
    "        for ind in range(1,n):\n",
    "            for cur in range(tar+1):\n",
    "                notake=dp[ind-1][cur]\n",
    "                take=0\n",
    "                if(cur>=nums[ind]):\n",
    "                    take=dp[ind-1][cur-nums[ind]]\n",
    "                dp[ind][cur]=notake+take\n",
    "        return(dp[n-1][tar])"
   ]
  },
  {
   "cell_type": "code",
   "execution_count": 23,
   "metadata": {},
   "outputs": [
    {
     "data": {
      "text/plain": [
       "1"
      ]
     },
     "execution_count": 23,
     "metadata": {},
     "output_type": "execute_result"
    }
   ],
   "source": [
    "arr=[1000]\n",
    "tar=-1000\n",
    "Solution().findTargetSumWays(arr,tar)"
   ]
  },
  {
   "cell_type": "code",
   "execution_count": 21,
   "metadata": {},
   "outputs": [
    {
     "ename": "IndexError",
     "evalue": "list index out of range",
     "output_type": "error",
     "traceback": [
      "\u001b[1;31m---------------------------------------------------------------------------\u001b[0m",
      "\u001b[1;31mIndexError\u001b[0m                                Traceback (most recent call last)",
      "\u001b[1;32m~\\AppData\\Local\\Temp/ipykernel_10412/1727116886.py\u001b[0m in \u001b[0;36m<module>\u001b[1;34m\u001b[0m\n\u001b[1;32m----> 1\u001b[1;33m \u001b[0mSolution\u001b[0m\u001b[1;33m(\u001b[0m\u001b[1;33m)\u001b[0m\u001b[1;33m.\u001b[0m\u001b[0mfindTargetSumWays\u001b[0m\u001b[1;33m(\u001b[0m\u001b[1;33m[\u001b[0m\u001b[1;36m0\u001b[0m\u001b[1;33m,\u001b[0m\u001b[1;36m0\u001b[0m\u001b[1;33m,\u001b[0m\u001b[1;36m0\u001b[0m\u001b[1;33m,\u001b[0m\u001b[1;36m0\u001b[0m\u001b[1;33m,\u001b[0m\u001b[1;36m0\u001b[0m\u001b[1;33m,\u001b[0m\u001b[1;36m0\u001b[0m\u001b[1;33m,\u001b[0m\u001b[1;36m0\u001b[0m\u001b[1;33m,\u001b[0m\u001b[1;36m1000\u001b[0m\u001b[1;33m]\u001b[0m\u001b[1;33m,\u001b[0m\u001b[1;33m-\u001b[0m\u001b[1;36m1000\u001b[0m\u001b[1;33m)\u001b[0m\u001b[1;33m\u001b[0m\u001b[1;33m\u001b[0m\u001b[0m\n\u001b[0m",
      "\u001b[1;32m~\\AppData\\Local\\Temp/ipykernel_10412/3688468918.py\u001b[0m in \u001b[0;36mfindTargetSumWays\u001b[1;34m(self, nums, target)\u001b[0m\n\u001b[0;32m     29\u001b[0m                 \u001b[0mtake\u001b[0m\u001b[1;33m=\u001b[0m\u001b[1;36m0\u001b[0m\u001b[1;33m\u001b[0m\u001b[1;33m\u001b[0m\u001b[0m\n\u001b[0;32m     30\u001b[0m                 \u001b[1;32mif\u001b[0m\u001b[1;33m(\u001b[0m\u001b[0mcur\u001b[0m\u001b[1;33m>=\u001b[0m\u001b[1;36m0\u001b[0m\u001b[1;33m)\u001b[0m\u001b[1;33m:\u001b[0m\u001b[1;33m\u001b[0m\u001b[1;33m\u001b[0m\u001b[0m\n\u001b[1;32m---> 31\u001b[1;33m                     \u001b[0mtake\u001b[0m\u001b[1;33m=\u001b[0m\u001b[0mdp\u001b[0m\u001b[1;33m[\u001b[0m\u001b[0mind\u001b[0m\u001b[1;33m-\u001b[0m\u001b[1;36m1\u001b[0m\u001b[1;33m]\u001b[0m\u001b[1;33m[\u001b[0m\u001b[0mcur\u001b[0m\u001b[1;33m-\u001b[0m\u001b[0mnums\u001b[0m\u001b[1;33m[\u001b[0m\u001b[0mind\u001b[0m\u001b[1;33m]\u001b[0m\u001b[1;33m]\u001b[0m\u001b[1;33m\u001b[0m\u001b[1;33m\u001b[0m\u001b[0m\n\u001b[0m\u001b[0;32m     32\u001b[0m                 \u001b[0mdp\u001b[0m\u001b[1;33m[\u001b[0m\u001b[0mind\u001b[0m\u001b[1;33m]\u001b[0m\u001b[1;33m[\u001b[0m\u001b[0mcur\u001b[0m\u001b[1;33m]\u001b[0m\u001b[1;33m=\u001b[0m\u001b[0mnotake\u001b[0m\u001b[1;33m+\u001b[0m\u001b[0mtake\u001b[0m\u001b[1;33m\u001b[0m\u001b[1;33m\u001b[0m\u001b[0m\n\u001b[0;32m     33\u001b[0m         \u001b[1;32mreturn\u001b[0m\u001b[1;33m(\u001b[0m\u001b[0mdp\u001b[0m\u001b[1;33m[\u001b[0m\u001b[0mn\u001b[0m\u001b[1;33m-\u001b[0m\u001b[1;36m1\u001b[0m\u001b[1;33m]\u001b[0m\u001b[1;33m[\u001b[0m\u001b[0mtar\u001b[0m\u001b[1;33m]\u001b[0m\u001b[1;33m)\u001b[0m\u001b[1;33m\u001b[0m\u001b[1;33m\u001b[0m\u001b[0m\n",
      "\u001b[1;31mIndexError\u001b[0m: list index out of range"
     ]
    }
   ],
   "source": [
    "Solution().findTargetSumWays([0,0,0,0,0,0,0,1000],-1000)"
   ]
  },
  {
   "cell_type": "code",
   "execution_count": null,
   "metadata": {},
   "outputs": [],
   "source": []
  }
 ],
 "metadata": {
  "interpreter": {
   "hash": "11ad92808b9e536a1bda76e6f18576c204b1bdc67c9013f7331a2b858d211f20"
  },
  "kernelspec": {
   "display_name": "Python 3.9.6 64-bit",
   "language": "python",
   "name": "python3"
  },
  "language_info": {
   "codemirror_mode": {
    "name": "ipython",
    "version": 3
   },
   "file_extension": ".py",
   "mimetype": "text/x-python",
   "name": "python",
   "nbconvert_exporter": "python",
   "pygments_lexer": "ipython3",
   "version": "3.9.6"
  },
  "orig_nbformat": 4
 },
 "nbformat": 4,
 "nbformat_minor": 2
}
