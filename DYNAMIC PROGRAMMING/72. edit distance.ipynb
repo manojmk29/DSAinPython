{
 "cells": [
  {
   "cell_type": "code",
   "execution_count": 1,
   "metadata": {},
   "outputs": [],
   "source": [
    "class Solution:\n",
    "    def minDistance(self, word1: str, word2: str) :\n",
    "        m=len(word1)\n",
    "        n=len(word2)\n",
    "        arr=[i for i in range(n+1)]\n",
    "        for i in range(1,m+1):\n",
    "            new=[]\n",
    "            for j in range(0,n+1):\n",
    "                if(j==0):\n",
    "                    new.append(i)\n",
    "                else:\n",
    "                    if(word1[i-1]==word2[j-1]):\n",
    "                        new.append(arr[j-1])\n",
    "                    else:\n",
    "                        new.append(1+min(arr[j-1],arr[j],new[j-1]))\n",
    "            arr=new\n",
    "        return(arr[n])"
   ]
  },
  {
   "cell_type": "code",
   "execution_count": 2,
   "metadata": {},
   "outputs": [],
   "source": [
    "class Solution:\n",
    "    def minDistance(self, word1: str, word2: str) :\n",
    "        m=len(word1)\n",
    "        n=len(word2)\n",
    "        from functools import lru_cache\n",
    "        @lru_cache(None)\n",
    "        def helper(i,j):\n",
    "            if(i==0):\n",
    "                return(j)\n",
    "            if(j==0):\n",
    "                return(i)\n",
    "            if(word1[i-1]==word2[j-1]):\n",
    "                return(helper(i-1,j-1))\n",
    "            p=1+helper(i-1,j-1)\n",
    "            q=1+helper(i,j-1)\n",
    "            r=1+helper(i-1,j)\n",
    "            return(min(p,q,r))\n",
    "        return(helper(m,n))"
   ]
  },
  {
   "cell_type": "code",
   "execution_count": 3,
   "metadata": {},
   "outputs": [
    {
     "data": {
      "text/plain": [
       "8"
      ]
     },
     "execution_count": 3,
     "metadata": {},
     "output_type": "execute_result"
    }
   ],
   "source": [
    "Solution().minDistance(\"man\",\"cdsfdfsf\")"
   ]
  },
  {
   "cell_type": "code",
   "execution_count": 3,
   "metadata": {},
   "outputs": [
    {
     "data": {
      "text/plain": [
       "1"
      ]
     },
     "execution_count": 3,
     "metadata": {},
     "output_type": "execute_result"
    }
   ],
   "source": [
    "int(True)"
   ]
  },
  {
   "cell_type": "code",
   "execution_count": null,
   "metadata": {},
   "outputs": [],
   "source": []
  }
 ],
 "metadata": {
  "interpreter": {
   "hash": "11ad92808b9e536a1bda76e6f18576c204b1bdc67c9013f7331a2b858d211f20"
  },
  "kernelspec": {
   "display_name": "Python 3.9.6 64-bit",
   "language": "python",
   "name": "python3"
  },
  "language_info": {
   "codemirror_mode": {
    "name": "ipython",
    "version": 3
   },
   "file_extension": ".py",
   "mimetype": "text/x-python",
   "name": "python",
   "nbconvert_exporter": "python",
   "pygments_lexer": "ipython3",
   "version": "3.9.6"
  },
  "orig_nbformat": 4
 },
 "nbformat": 4,
 "nbformat_minor": 2
}
