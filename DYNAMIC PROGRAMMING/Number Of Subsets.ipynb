{
 "cells": [
  {
   "cell_type": "code",
   "execution_count": 23,
   "metadata": {},
   "outputs": [],
   "source": [
    "from typing import List\n",
    "def findWays(num: List[int], tar: int) -> int:\n",
    "    n=len(num)\n",
    "    dp=[[-1 for i in range(tar+1)]for j in range(n)]\n",
    "    def helper(ind,cur):\n",
    "        if(cur==tar):\n",
    "            return(1)\n",
    "        ret=0\n",
    "        for i in range(ind,n):\n",
    "            if(cur+num[i]<=tar):\n",
    "                if(dp[i]\n",
    "            \tret+=helper(i+1,cur+num[i])\n",
    "        return(ret)\n",
    "    return(helper(0,0))"
   ]
  },
  {
   "cell_type": "code",
   "execution_count": 24,
   "metadata": {},
   "outputs": [
    {
     "data": {
      "text/plain": [
       "3"
      ]
     },
     "execution_count": 24,
     "metadata": {},
     "output_type": "execute_result"
    }
   ],
   "source": [
    "findWays([1,2,2,3], 3)"
   ]
  },
  {
   "cell_type": "code",
   "execution_count": 20,
   "metadata": {},
   "outputs": [],
   "source": [
    "def g():\n",
    "    global r\n",
    "    r=9\n",
    "    def h(i):\n",
    "        if(i<5):\n",
    "            r+=1\n",
    "            h(i+1)\n",
    "    h(0)\n",
    "    return(r)"
   ]
  },
  {
   "cell_type": "code",
   "execution_count": 26,
   "metadata": {},
   "outputs": [
    {
     "data": {
      "text/plain": [
       "2"
      ]
     },
     "execution_count": 26,
     "metadata": {},
     "output_type": "execute_result"
    }
   ],
   "source": [
    "False+True+True"
   ]
  },
  {
   "cell_type": "code",
   "execution_count": 57,
   "metadata": {},
   "outputs": [],
   "source": [
    "from typing import List\n",
    "def findWays(num, tar):\n",
    "    n=len(num)\n",
    "    dp=[[-1 for i in range(tar+1)]for i in range(n)]\n",
    "    def helper(ind,cur):\n",
    "        if(cur==0):\n",
    "            return(1)\n",
    "        if(cur<0 or ind==n):\n",
    "            return(0)\n",
    "        if(dp[ind][cur]!=-1):\n",
    "            return(dp[ind][cur])\n",
    "        ret=0\n",
    "        ret+=helper(ind+1,cur-num[ind])\n",
    "        ret+=helper(ind+1,cur)\n",
    "        dp[ind][cur]=ret\n",
    "        return(ret)\n",
    "    return(helper(0,tar))"
   ]
  },
  {
   "cell_type": "code",
   "execution_count": 58,
   "metadata": {},
   "outputs": [
    {
     "data": {
      "text/plain": [
       "3"
      ]
     },
     "execution_count": 58,
     "metadata": {},
     "output_type": "execute_result"
    }
   ],
   "source": [
    "findWays([1,2,2,3],3)"
   ]
  },
  {
   "cell_type": "code",
   "execution_count": null,
   "metadata": {},
   "outputs": [],
   "source": []
  }
 ],
 "metadata": {
  "interpreter": {
   "hash": "11ad92808b9e536a1bda76e6f18576c204b1bdc67c9013f7331a2b858d211f20"
  },
  "kernelspec": {
   "display_name": "Python 3.9.6 64-bit",
   "language": "python",
   "name": "python3"
  },
  "language_info": {
   "codemirror_mode": {
    "name": "ipython",
    "version": 3
   },
   "file_extension": ".py",
   "mimetype": "text/x-python",
   "name": "python",
   "nbconvert_exporter": "python",
   "pygments_lexer": "ipython3",
   "version": "3.9.6"
  },
  "orig_nbformat": 4
 },
 "nbformat": 4,
 "nbformat_minor": 2
}
