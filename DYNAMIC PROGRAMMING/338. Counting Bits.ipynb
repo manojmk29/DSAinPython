{
 "cells": [
  {
   "cell_type": "code",
   "execution_count": 2,
   "metadata": {},
   "outputs": [],
   "source": [
    "class Solution(object):\n",
    "    def countBits(self, n):\n",
    "        \"\"\"\n",
    "        :type n: int\n",
    "        :rtype: List[int]\n",
    "        \"\"\"\n",
    "        ret=[0 for i in range(n+1)]\n",
    "        if(not n):\n",
    "            return(ret)\n",
    "        ret[1]=1\n",
    "        for i in range(2,n+1):\n",
    "            if(i&1==1):\n",
    "                ret[i]=ret[i//2]+1\n",
    "            else:\n",
    "                ret[i]=ret[i//2]\n",
    "        return(ret)"
   ]
  },
  {
   "cell_type": "code",
   "execution_count": null,
   "metadata": {},
   "outputs": [],
   "source": [
    "class Solution(object):\n",
    "    def countBits(self, n):\n",
    "        \"\"\"\n",
    "        :type n: int\n",
    "        :rtype: List[int]\n",
    "        \"\"\"\n",
    "        ret=[0]\n",
    "        ptr=0\n",
    "        flag=2\n",
    "        for i in range(n):\n",
    "            val=ret[ptr]\n",
    "            if(flag==1):\n",
    "                ret.append(val)\n",
    "                flag+=1\n",
    "            elif(flag==2 or flag==3):\n",
    "                ret.append(val+1)\n",
    "                flag+=1\n",
    "            elif(flag==4):\n",
    "                ret.append(val+2)\n",
    "                ptr+=1\n",
    "                flag=1\n",
    "        return(ret)"
   ]
  },
  {
   "cell_type": "code",
   "execution_count": 16,
   "metadata": {},
   "outputs": [
    {
     "data": {
      "text/plain": [
       "0"
      ]
     },
     "execution_count": 16,
     "metadata": {},
     "output_type": "execute_result"
    }
   ],
   "source": [
    "0\n",
    "1\n",
    "10\n",
    "100\n",
    "1000\n",
    "10000"
   ]
  },
  {
   "cell_type": "code",
   "execution_count": 23,
   "metadata": {},
   "outputs": [
    {
     "data": {
      "text/plain": [
       "50"
      ]
     },
     "execution_count": 23,
     "metadata": {},
     "output_type": "execute_result"
    }
   ],
   "source": [
    "3^49"
   ]
  },
  {
   "cell_type": "code",
   "execution_count": 28,
   "metadata": {},
   "outputs": [
    {
     "name": "stdout",
     "output_type": "stream",
     "text": [
      "0 --- 0\n",
      "1 --- 1\n",
      "2 --- 10\n",
      "3 --- 11\n",
      "4 --- 100\n",
      "5 --- 101\n",
      "6 --- 110\n",
      "7 --- 111\n",
      "8 --- 1000\n",
      "9 --- 1001\n",
      "10 --- 1010\n",
      "11 --- 1011\n",
      "12 --- 1100\n",
      "13 --- 1101\n",
      "14 --- 1110\n",
      "15 --- 1111\n",
      "16 --- 10000\n",
      "17 --- 10001\n",
      "18 --- 10010\n",
      "19 --- 10011\n",
      "20 --- 10100\n",
      "21 --- 10101\n",
      "22 --- 10110\n",
      "23 --- 10111\n",
      "24 --- 11000\n",
      "25 --- 11001\n",
      "26 --- 11010\n",
      "27 --- 11011\n",
      "28 --- 11100\n",
      "29 --- 11101\n",
      "30 --- 11110\n",
      "31 --- 11111\n",
      "32 --- 100000\n",
      "33 --- 100001\n",
      "34 --- 100010\n",
      "35 --- 100011\n",
      "36 --- 100100\n",
      "37 --- 100101\n",
      "38 --- 100110\n",
      "39 --- 100111\n",
      "40 --- 101000\n",
      "41 --- 101001\n",
      "42 --- 101010\n",
      "43 --- 101011\n",
      "44 --- 101100\n",
      "45 --- 101101\n",
      "46 --- 101110\n",
      "47 --- 101111\n",
      "48 --- 110000\n",
      "49 --- 110001\n"
     ]
    }
   ],
   "source": [
    "for i in range(50):\n",
    "    print(i,\"---\",bin(i)[2:])"
   ]
  },
  {
   "cell_type": "code",
   "execution_count": 25,
   "metadata": {},
   "outputs": [
    {
     "data": {
      "text/plain": [
       "'0b11'"
      ]
     },
     "execution_count": 25,
     "metadata": {},
     "output_type": "execute_result"
    }
   ],
   "source": [
    "bin(3)"
   ]
  },
  {
   "cell_type": "code",
   "execution_count": 16,
   "metadata": {},
   "outputs": [
    {
     "data": {
      "text/plain": [
       "32"
      ]
     },
     "execution_count": 16,
     "metadata": {},
     "output_type": "execute_result"
    }
   ],
   "source": [
    "131>>2"
   ]
  },
  {
   "cell_type": "code",
   "execution_count": 7,
   "metadata": {},
   "outputs": [
    {
     "data": {
      "text/plain": [
       "0"
      ]
     },
     "execution_count": 7,
     "metadata": {},
     "output_type": "execute_result"
    }
   ],
   "source": [
    "0%9999"
   ]
  },
  {
   "cell_type": "code",
   "execution_count": 18,
   "metadata": {},
   "outputs": [
    {
     "data": {
      "text/plain": [
       "True"
      ]
     },
     "execution_count": 18,
     "metadata": {},
     "output_type": "execute_result"
    }
   ],
   "source": [
    "abs(float(\"inf\")-99)>abs(-3+3)"
   ]
  },
  {
   "cell_type": "code",
   "execution_count": null,
   "metadata": {},
   "outputs": [],
   "source": []
  }
 ],
 "metadata": {
  "interpreter": {
   "hash": "11ad92808b9e536a1bda76e6f18576c204b1bdc67c9013f7331a2b858d211f20"
  },
  "kernelspec": {
   "display_name": "Python 3.9.6 64-bit",
   "language": "python",
   "name": "python3"
  },
  "language_info": {
   "codemirror_mode": {
    "name": "ipython",
    "version": 3
   },
   "file_extension": ".py",
   "mimetype": "text/x-python",
   "name": "python",
   "nbconvert_exporter": "python",
   "pygments_lexer": "ipython3",
   "version": "3.9.6"
  },
  "orig_nbformat": 4
 },
 "nbformat": 4,
 "nbformat_minor": 2
}
