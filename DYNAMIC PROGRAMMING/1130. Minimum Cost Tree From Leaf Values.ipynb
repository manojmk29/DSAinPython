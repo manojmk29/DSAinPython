{
 "cells": [
  {
   "cell_type": "code",
   "execution_count": 5,
   "metadata": {},
   "outputs": [
    {
     "ename": "SyntaxError",
     "evalue": "invalid syntax (Temp/ipykernel_29264/1642672881.py, line 10)",
     "output_type": "error",
     "traceback": [
      "\u001b[1;36m  File \u001b[1;32m\"C:\\Users\\manoj\\AppData\\Local\\Temp/ipykernel_29264/1642672881.py\"\u001b[1;36m, line \u001b[1;32m10\u001b[0m\n\u001b[1;33m    if(i==)\u001b[0m\n\u001b[1;37m          ^\u001b[0m\n\u001b[1;31mSyntaxError\u001b[0m\u001b[1;31m:\u001b[0m invalid syntax\n"
     ]
    }
   ],
   "source": [
    "class Solution: \n",
    "    def mctFromLeafValues(self, arr) -> int:      \n",
    "        n=len(arr)\n",
    "        dp=[[-1 for i in range(n)]for i in range(n)]\n",
    "        for i in range(n):\n",
    "            dp[i][i]=(i,0)\n",
    "        for i in range(n):\n",
    "            for j in range(n):\n",
    "                for k in range(i,j):\n",
    "                    if(i==)\n",
    "\n",
    "        def helper(l,r):\n",
    "            if(dp[l][r]!=-1):\n",
    "                return(dp[l][r])\n",
    "            if(l==r):\n",
    "                dp[l][r]=(arr[l],0)\n",
    "                return((arr[l],0))\n",
    "            ans=(0,float(\"inf\"))\n",
    "            for i in range(l,r):\n",
    "                left=helper(l,i)\n",
    "                right=helper(i+1,r)\n",
    "                cur_sum=left[0]*right[0]+left[1]+right[1]\n",
    "                cur_max=max(left[0],right[0])\n",
    "                if(ans[1]>cur_sum):\n",
    "                    ans=(cur_max,cur_sum)\n",
    "            dp[l][r]=ans\n",
    "            return(ans)\n",
    "        return(helper(0,n-1)[1])\n"
   ]
  },
  {
   "cell_type": "code",
   "execution_count": 3,
   "metadata": {},
   "outputs": [],
   "source": [
    "#A\n",
    "class Solution: \n",
    "    def mctFromLeafValues(self, arr) -> int:      \n",
    "        n=len(arr)\n",
    "        dp=[[-1 for i in range(n)]for i in range(n)]\n",
    "        def helper(l,r):\n",
    "            if(dp[l][r]!=-1):\n",
    "                return(dp[l][r])\n",
    "            if(l==r):\n",
    "                dp[l][r]=(arr[l],0)\n",
    "                return((arr[l],0))\n",
    "            ans=(0,float(\"inf\"))\n",
    "            for i in range(l,r):\n",
    "                left=helper(l,i)\n",
    "                right=helper(i+1,r)\n",
    "                cur_sum=left[0]*right[0]+left[1]+right[1]\n",
    "                cur_max=max(left[0],right[0])\n",
    "                if(ans[1]>cur_sum):\n",
    "                    ans=(cur_max,cur_sum)\n",
    "            dp[l][r]=ans\n",
    "            return(ans)\n",
    "        return(helper(0,n-1)[1])\n"
   ]
  },
  {
   "cell_type": "code",
   "execution_count": 1,
   "metadata": {},
   "outputs": [],
   "source": [
    "class Solution: \n",
    "    def mctFromLeafValues(self, arr) -> int:      \n",
    "        n=len(arr)\n",
    "        def helper(l,r):\n",
    "            if(l==r):\n",
    "                return((arr[l],0))\n",
    "            ans=(0,float(\"inf\"))\n",
    "            for i in range(l,r):\n",
    "                left=helper(l,i)\n",
    "                right=helper(i+1,r)\n",
    "                cur_sum=left[0]*right[0]+left[1]+right[1]\n",
    "                cur_max=max(left[0],right[0])\n",
    "                if(ans[1]>cur_sum):\n",
    "                    ans=(cur_max,cur_sum)\n",
    "            return(ans)\n",
    "        return(helper(0,n-1)[1])\n"
   ]
  },
  {
   "cell_type": "code",
   "execution_count": 2,
   "metadata": {},
   "outputs": [
    {
     "data": {
      "text/plain": [
       "44"
      ]
     },
     "execution_count": 2,
     "metadata": {},
     "output_type": "execute_result"
    }
   ],
   "source": [
    "Solution().mctFromLeafValues([4,11])"
   ]
  },
  {
   "cell_type": "code",
   "execution_count": null,
   "metadata": {},
   "outputs": [],
   "source": []
  },
  {
   "cell_type": "code",
   "execution_count": null,
   "metadata": {},
   "outputs": [],
   "source": []
  }
 ],
 "metadata": {
  "interpreter": {
   "hash": "11ad92808b9e536a1bda76e6f18576c204b1bdc67c9013f7331a2b858d211f20"
  },
  "kernelspec": {
   "display_name": "Python 3.9.6 64-bit",
   "language": "python",
   "name": "python3"
  },
  "language_info": {
   "codemirror_mode": {
    "name": "ipython",
    "version": 3
   },
   "file_extension": ".py",
   "mimetype": "text/x-python",
   "name": "python",
   "nbconvert_exporter": "python",
   "pygments_lexer": "ipython3",
   "version": "3.9.6"
  },
  "orig_nbformat": 4
 },
 "nbformat": 4,
 "nbformat_minor": 2
}
