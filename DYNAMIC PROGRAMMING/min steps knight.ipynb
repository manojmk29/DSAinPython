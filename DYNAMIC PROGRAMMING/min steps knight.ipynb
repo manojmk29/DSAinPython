{
 "cells": [
  {
   "cell_type": "code",
   "execution_count": 3,
   "metadata": {},
   "outputs": [
    {
     "ename": "TabError",
     "evalue": "inconsistent use of tabs and spaces in indentation (Temp/ipykernel_20784/1439347495.py, line 6)",
     "output_type": "error",
     "traceback": [
      "\u001b[1;36m  File \u001b[1;32m\"C:\\Users\\manoj\\AppData\\Local\\Temp/ipykernel_20784/1439347495.py\"\u001b[1;36m, line \u001b[1;32m6\u001b[0m\n\u001b[1;33m    if(r==tp[0] and c==tp[1]):\u001b[0m\n\u001b[1;37m                              ^\u001b[0m\n\u001b[1;31mTabError\u001b[0m\u001b[1;31m:\u001b[0m inconsistent use of tabs and spaces in indentation\n"
     ]
    }
   ],
   "source": [
    "class Solution:\n",
    "    def minStepToReachTarget(self, kp, tp, n):\n",
    "        def helper(r,c):\n",
    "            if(r>=n or c>=n or r<1 or c<1):\n",
    "\t            return(float(\"inf\"))\n",
    "            if(r==tp[0] and c==tp[1]):\n",
    "\t            return 0\n",
    "            # ret=float(\"inf\")\n",
    "\t        ret=min(ret,helper(r+2,c-1))\n",
    "\t        ret=min(ret,helper(r+2,c+1))\n",
    "\t        ret=min(ret,helper(r+1,c-2))\n",
    "\t        ret=min(ret,helper(r+1,c+2))\n",
    "\t        ret=min(ret,helper(r-1,c-2))\n",
    "\t        ret=min(ret,helper(r-1,c+2))\n",
    "\t        ret=min(ret,helper(r-2,c-1))\n",
    "\t        ret=min(ret,helper(r-2,c+1))\n",
    "\n",
    "\t        # return 1+cnt\n",
    "\t    # return helper(kp[0],kp[1])"
   ]
  },
  {
   "cell_type": "code",
   "execution_count": 10,
   "metadata": {},
   "outputs": [],
   "source": [
    "class Solution:\n",
    "    def minStepToReachTarget(self,kp,tp,n):\n",
    "        def helper(r,c):\n",
    "            if (r>n or c>n or r<1 or c<1):\n",
    "                return float(\"inf\")\n",
    "            if r==tp[0] and c==tp[1]:\n",
    "                return 0\n",
    "            ret=float(\"inf\")\n",
    "            for i in range(-1,1):\n",
    "                ret=min(ret,helper(r-2,c+i))\n",
    "                ret=min(ret,helper(r+2,c+i))\n",
    "            for i in (2,-2):\n",
    "                ret=min(ret,helper(r-1,c+i))\n",
    "                ret=min(ret,helper(r+1,c+i))\n",
    "            return 1+ret\n",
    "        return helper(kp[0],kp[1])"
   ]
  },
  {
   "cell_type": "code",
   "execution_count": null,
   "metadata": {},
   "outputs": [
    {
     "ename": "",
     "evalue": "",
     "output_type": "error",
     "traceback": [
      "\u001b[1;31mCanceled future for execute_request message before replies were done"
     ]
    },
    {
     "ename": "",
     "evalue": "",
     "output_type": "error",
     "traceback": [
      "The Kernel crashed while executing code in the the current cell or a previous cell. Please review the code in the cell(s) to identify a possible cause of the failure. Click <a href='https://aka.ms/vscodeJupyterKernelCrash'>here</a> for more info. View Jupyter <a href='command:jupyter.viewOutput'>log</a> for further details."
     ]
    }
   ],
   "source": [
    "Solution().minStepToReachTarget((4,5),(1,1),6)"
   ]
  },
  {
   "cell_type": "code",
   "execution_count": 1,
   "metadata": {},
   "outputs": [
    {
     "name": "stdout",
     "output_type": "stream",
     "text": [
      "i== 0 j== 5\n",
      "i== 1 j== 6\n",
      "i== 2 j== 7\n",
      "i== 3 j== 8\n"
     ]
    }
   ],
   "source": [
    "arr=[5,6,7,8]\n",
    "for i,j in enumerate(arr):\n",
    "    print(\"i==\",i,\"j==\",j)"
   ]
  },
  {
   "cell_type": "code",
   "execution_count": null,
   "metadata": {},
   "outputs": [],
   "source": [
    "# Python 3 implementation\n",
    "# to find the maximum sum\n",
    "# bitonic subarray\n",
    "\n",
    "# function to find the\n",
    "# maximum sum bitonic subarray\n",
    "def maxSumBitonicSubArr(arr, n):\n",
    "\t\n",
    "\t# 'msis[]' to store the maximum\n",
    "\t# sum increasing subarray up to\n",
    "\t# each index of 'arr' from the\n",
    "\t# beginning 'msds[]' to store\n",
    "\t# the maximum sum decreasing\n",
    "\t# subarray from each index of\n",
    "\t# 'arr' up to the end\n",
    "\tmsis = [None] * n\n",
    "\tmsds = [None] * n\n",
    "\t\n",
    "\t# to store the maximum\n",
    "\t# sum bitonic subarray\n",
    "\tmax_sum = 0\n",
    "\t\n",
    "\t# building up the maximum\n",
    "\t# sum increasing subarray\n",
    "\t# for each array index\n",
    "\tmsis[0] = arr[0]\n",
    "\tfor i in range(1, n):\n",
    "\t\tif (arr[i] > arr[i - 1]):\n",
    "\t\t\tmsis[i] = msis[i - 1] + arr[i]\n",
    "\t\telse:\n",
    "\t\t\tmsis[i] = arr[i]\n",
    "\t\n",
    "\t# building up the maximum\n",
    "\t# sum decreasing subarray\n",
    "\t# for each array index\n",
    "\tmsds[n - 1] = arr[n - 1]\n",
    "\tfor i in range(n - 2, -1, -1):\n",
    "\t\tif (arr[i] > arr[i + 1]):\n",
    "\t\t\tmsds[i] = msds[i + 1] + arr[i]\n",
    "\t\telse:\n",
    "\t\t\tmsds[i] = arr[i]\n",
    "\t\n",
    "\t# for each array index,\n",
    "\t# calculating the maximum\n",
    "\t# sum of bitonic subarray\n",
    "\t# of which it is a part of\n",
    "\tfor i in range(n):\n",
    "\t\t\n",
    "\t\t# if true , then update\n",
    "\t\t# 'max' bitonic subarray sum\n",
    "\t\tif (max_sum < (msis[i] +\n",
    "\t\t\t\t\tmsds[i] - arr[i])):\n",
    "\t\t\tmax_sum = (msis[i] +\n",
    "\t\t\t\t\tmsds[i] - arr[i])\n",
    "\t\n",
    "\t# required maximum sum\n",
    "\treturn max_sum\n",
    "\n",
    "# Driver Code\n",
    "arr = [5, 3, 9, 2, 7, 6, 4];\n",
    "n = len(arr)\n",
    "print(\"Maximum Sum = \"+\n",
    "\tstr(maxSumBitonicSubArr(arr, n)))\n",
    "\t\t\n",
    "# This code is contributed\n",
    "# by ChitraNayal\n"
   ]
  },
  {
   "cell_type": "markdown",
   "metadata": {},
   "source": []
  },
  {
   "cell_type": "code",
   "execution_count": 8,
   "metadata": {},
   "outputs": [
    {
     "data": {
      "text/plain": [
       "[10, 100]"
      ]
     },
     "execution_count": 8,
     "metadata": {},
     "output_type": "execute_result"
    }
   ],
   "source": [
    "def findEquivalentMagnitude(unit_nodes,unit_from,unit_to,unit_weight,x):\n",
    "    hmap={1:x}\n",
    "    ret=[0 for i in range(unit_nodes)]\n",
    "    ret[0]=x\n",
    "    n=len(unit_from)\n",
    "    for i in range(n):\n",
    "        if unit_from[i] in hmap:\n",
    "                hmap[unit_to[i]]=hmap[unit_from[i]] * unit_weight[i]\n",
    "                ret[unit_to[i]-1]=hmap[unit_to[i]]\n",
    "    return ret\n",
    "\n",
    "\n",
    "findEquivalentMagnitude(2,[1],[2],[10],10)\n",
    "        \n",
    "    "
   ]
  },
  {
   "cell_type": "code",
   "execution_count": 9,
   "metadata": {},
   "outputs": [
    {
     "data": {
      "text/plain": [
       "[1, 2, 4]"
      ]
     },
     "execution_count": 9,
     "metadata": {},
     "output_type": "execute_result"
    }
   ],
   "source": [
    "findEquivalentMagnitude(3,[1,2],[2,3],[2,2],1)"
   ]
  },
  {
   "cell_type": "code",
   "execution_count": null,
   "metadata": {},
   "outputs": [],
   "source": []
  }
 ],
 "metadata": {
  "kernelspec": {
   "display_name": "Python 3.9.6 64-bit",
   "language": "python",
   "name": "python3"
  },
  "language_info": {
   "codemirror_mode": {
    "name": "ipython",
    "version": 3
   },
   "file_extension": ".py",
   "mimetype": "text/x-python",
   "name": "python",
   "nbconvert_exporter": "python",
   "pygments_lexer": "ipython3",
   "version": "3.9.6"
  },
  "orig_nbformat": 4,
  "vscode": {
   "interpreter": {
    "hash": "e26b106e6146fa3417b08aa501d422914abd065c08ced2fc57ef114abeab93c7"
   }
  }
 },
 "nbformat": 4,
 "nbformat_minor": 2
}
