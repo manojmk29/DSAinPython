{
 "cells": [
  {
   "cell_type": "code",
   "execution_count": 12,
   "metadata": {},
   "outputs": [],
   "source": [
    "def unboundedKnapsack(n, w, profit, weight):\n",
    "    dp=[[-1 for i in range(w+1)]for _ in range(n)]\n",
    "    def helper(ind,tot):\n",
    "        if(ind==0):\n",
    "            if(tot%weight[0]==0):\n",
    "                return(profit[0]*tot//weight[0])\n",
    "            return(-float(\"inf\"))\n",
    "        if(dp[ind][tot]!=-1):\n",
    "            return(dp[ind][tot])\n",
    "        notake=helper(ind-1,tot)\n",
    "        take=-float(\"inf\")\n",
    "        if(weight[ind]<=tot):\n",
    "            take=profit[ind]+helper(ind,tot-weight[ind])\n",
    "        ret=max(notake,take)\n",
    "        dp[ind][tot]=ret\n",
    "        return(ret)\n",
    "    val=helper(n-1,w)\n",
    "    return(val if val!=-float(\"inf\") else 0)\n"
   ]
  },
  {
   "cell_type": "code",
   "execution_count": 16,
   "metadata": {},
   "outputs": [
    {
     "data": {
      "text/plain": [
       "17"
      ]
     },
     "execution_count": 16,
     "metadata": {},
     "output_type": "execute_result"
    }
   ],
   "source": [
    "unboundedKnapsack(4,15,[1,9,4,4],[4,7,9,4])\n",
    "# unboundedKnapsack(5,13,[7,9,1,3,10],[5,5,7,7,7])"
   ]
  },
  {
   "cell_type": "code",
   "execution_count": null,
   "metadata": {},
   "outputs": [],
   "source": [
    "def unboundedKnapsack(n, w, profit, weight):\n",
    "    dp=[[-1 for i in range(w+1)]for _ in range(n)]\n",
    "    def helper(ind,tot):\n",
    "        if(ind==0):\n",
    "            return(profit[0]*tot//weight[0])\n",
    "        if(dp[ind][tot]!=-1):\n",
    "            return(dp[ind][tot])\n",
    "        notake=helper(ind-1,tot)\n",
    "        take=-float(\"inf\")\n",
    "        if(weight[ind]<=tot):\n",
    "            take=profit[ind]+helper(ind,tot-weight[ind])\n",
    "        ret=max(notake,take)\n",
    "        dp[ind][tot]=ret\n",
    "        return(ret)\n",
    "    val=helper(n-1,w)\n",
    "    return(val if val!=-float(\"inf\") else 0)\n"
   ]
  }
 ],
 "metadata": {
  "interpreter": {
   "hash": "11ad92808b9e536a1bda76e6f18576c204b1bdc67c9013f7331a2b858d211f20"
  },
  "kernelspec": {
   "display_name": "Python 3.9.6 64-bit",
   "language": "python",
   "name": "python3"
  },
  "language_info": {
   "codemirror_mode": {
    "name": "ipython",
    "version": 3
   },
   "file_extension": ".py",
   "mimetype": "text/x-python",
   "name": "python",
   "nbconvert_exporter": "python",
   "pygments_lexer": "ipython3",
   "version": "3.9.6"
  },
  "orig_nbformat": 4
 },
 "nbformat": 4,
 "nbformat_minor": 2
}
