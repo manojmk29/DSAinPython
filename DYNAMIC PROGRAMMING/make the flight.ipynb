{
 "cells": [
  {
   "cell_type": "code",
   "execution_count": 1,
   "metadata": {},
   "outputs": [],
   "source": [
    "x,s,r,t,n=10,1,4,1,2\n",
    "ww=[[4,6,1],[6,9,2]]\n"
   ]
  },
  {
   "cell_type": "code",
   "execution_count": 5,
   "metadata": {},
   "outputs": [
    {
     "data": {
      "text/plain": [
       "5.0"
      ]
     },
     "execution_count": 5,
     "metadata": {},
     "output_type": "execute_result"
    }
   ],
   "source": [
    "tot=x\n",
    "for i in ww:\n",
    "    tot-=(i[1]-i[0])\n",
    "\n",
    "t=tot/s\n",
    "t"
   ]
  },
  {
   "cell_type": "code",
   "execution_count": 17,
   "metadata": {},
   "outputs": [],
   "source": [
    "def parse(inFile):\n",
    "    [X,S,R,t,N] = inFile.getInts()\n",
    "    return (X,S,R,t,[inFile.getInts() for k in range(N)])\n",
    "\n",
    "def solve(length,walkSpeed,runSpeed,time,walkways):\n",
    "    walkways = [[w,E-B] for [B,E,w] in walkways]\n",
    "    walkways += [[0,length-sum([z[1] for z in walkways])]]\n",
    "    walkways.sort()\n",
    "    timeTaken = 0\n",
    "    for [speed,length] in walkways:\n",
    "        runtime = float(length) / (runSpeed + speed)\n",
    "        if (runtime < time):\n",
    "            time -= runtime\n",
    "            timeTaken += runtime\n",
    "        else:\n",
    "            walktime = float(length - (runSpeed + speed) * time) / (walkSpeed + speed)\n",
    "            timeTaken += time + walktime\n",
    "            time = 0\n",
    "    return \"%.3f\" % timeTaken\n",
    " "
   ]
  },
  {
   "cell_type": "code",
   "execution_count": 22,
   "metadata": {},
   "outputs": [],
   "source": [
    "def parse(inFile):\n",
    "    [X,S,R,t,N] = inFile.getInts()\n",
    "    return (X,S,R,t,[inFile.getInts() for k in range(N)])\n",
    "\n",
    "def solve(length,walkSpeed,runSpeed,time,walkways):\n",
    "    walkways = [[w,E-B] for [B,E,w] in walkways]\n",
    "    walkways += [[0,length-sum([z[1] for z in walkways])]]\n",
    "    walkways.sort()\n",
    "    timeTaken = 0\n",
    "    for [speed,length] in walkways:\n",
    "        runtime = length / (runSpeed + speed)\n",
    "        if (runtime < time):\n",
    "            time -= runtime\n",
    "            timeTaken += runtime\n",
    "        else:\n",
    "            walktime = float(length - (runSpeed + speed) * time) / (walkSpeed + speed)\n",
    "            timeTaken += time + walktime\n",
    "            time = 0\n",
    "    return \"%.3f\" % timeTaken\n",
    " "
   ]
  },
  {
   "cell_type": "code",
   "execution_count": 41,
   "metadata": {},
   "outputs": [
    {
     "name": "stdout",
     "output_type": "stream",
     "text": [
      "4.000\n"
     ]
    }
   ],
   "source": [
    "length,walkSpeed,runSpeed,time,num_of_corridor=10,1,4,1,2\n",
    "walkways=[[4,6,1],[6,9,2]]\n",
    "walkways = [[w,E-B] for [B,E,w] in walkways]\n",
    "walkways += [[0,length-sum([z[1] for z in walkways])]]\n",
    "walkways.sort()\n",
    "timeTaken = 0\n",
    "for [speed,length] in walkways:\n",
    "    runtime = length / (runSpeed + speed)\n",
    "    if (runtime < time):\n",
    "        time -= runtime\n",
    "        timeTaken += runtime\n",
    "    else:\n",
    "        walktime = float(length - (runSpeed + speed) * time) / (walkSpeed + speed)\n",
    "        timeTaken += time + walktime\n",
    "        time = 0\n",
    "print(\"%.3f\" % timeTaken)"
   ]
  },
  {
   "cell_type": "code",
   "execution_count": null,
   "metadata": {},
   "outputs": [],
   "source": [
    "solve(12,1,2,4,[[6,12,1]])"
   ]
  },
  {
   "cell_type": "code",
   "execution_count": 27,
   "metadata": {},
   "outputs": [
    {
     "data": {
      "text/plain": [
       "'4.000'"
      ]
     },
     "execution_count": 27,
     "metadata": {},
     "output_type": "execute_result"
    }
   ],
   "source": [
    "solve(10,1,4,1,[[4,6,1],[6,9,2]])"
   ]
  },
  {
   "cell_type": "code",
   "execution_count": 15,
   "metadata": {},
   "outputs": [],
   "source": [
    "x=list(map(int,(input().split())))"
   ]
  },
  {
   "cell_type": "code",
   "execution_count": 16,
   "metadata": {},
   "outputs": [
    {
     "data": {
      "text/plain": [
       "[1, 2, 3]"
      ]
     },
     "execution_count": 16,
     "metadata": {},
     "output_type": "execute_result"
    }
   ],
   "source": [
    "x"
   ]
  },
  {
   "cell_type": "code",
   "execution_count": 11,
   "metadata": {},
   "outputs": [
    {
     "data": {
      "text/plain": [
       "1"
      ]
     },
     "execution_count": 11,
     "metadata": {},
     "output_type": "execute_result"
    }
   ],
   "source": [
    "a"
   ]
  },
  {
   "cell_type": "code",
   "execution_count": 28,
   "metadata": {},
   "outputs": [
    {
     "name": "stdout",
     "output_type": "stream",
     "text": [
      "99.123\n"
     ]
    }
   ],
   "source": [
    "total_time=99.12334324\n",
    "print(\"%.3f\" %tt)"
   ]
  },
  {
   "cell_type": "code",
   "execution_count": 40,
   "metadata": {},
   "outputs": [
    {
     "name": "stdout",
     "output_type": "stream",
     "text": [
      "15.333\n"
     ]
    }
   ],
   "source": [
    "len_of_corridor,walk_speed,run_speed,max_time,num_of_corridor=10,1,4,1,2\n",
    "\n",
    "corridors=[[4,6,1],[6,9,2]]\n",
    "\n",
    "\n",
    "corridor_distance=[]\n",
    "\n",
    "for corridor in corridors:\n",
    "    corridor_distance.append([corridor[2],corridor[1]-corridor[0]])\n",
    "\n",
    "no_corridor_distance=len_of_corridor\n",
    "tot_corridor_dist=0\n",
    "for corridor in corridor_distance:\n",
    "    tot_corridor_dist+=corridor[1]\n",
    "\n",
    "no_corridor_distance=len_of_corridor-tot_corridor_dist\n",
    "    \n",
    "corridor_distance.append([0,no_corridor_distance])\n",
    "corridor_distance.sort()\n",
    "\n",
    "total_time=0\n",
    "a=99\n",
    "for corridor in corridor_distance:\n",
    "    time_taken=corridor[1]/(run_speed+corridor[0])\n",
    "    if time_taken < max_time:\n",
    "        max_time-=time_taken\n",
    "        total_time+=time_taken\n",
    "    else:\n",
    "        cur_time_taken=(len_of_corridor-(run_speed+corridor[0]) * max_time)/(walk_speed+corridor[0])\n",
    "        total_time+=(max_time+cur_time_taken)\n",
    "        max_time=0\n",
    "        \n",
    "print(\"%.3f\"%total_time)"
   ]
  },
  {
   "cell_type": "code",
   "execution_count": null,
   "metadata": {},
   "outputs": [],
   "source": []
  },
  {
   "cell_type": "code",
   "execution_count": 51,
   "metadata": {},
   "outputs": [
    {
     "name": "stdout",
     "output_type": "stream",
     "text": [
      "4.000\n"
     ]
    }
   ],
   "source": [
    "length_of_corridor,walk_speed,run_speed,max_run_time,num_of_corridor=10,1,4,1,2\n",
    "corridors=[[4,6,1],[6,9,2]]\n",
    "corridors_distance=[]\n",
    "for corridor in corridors:\n",
    "    corridors_distance.append([corridor[2],corridor[1]-corridor[0]])\n",
    "tot_cor_dist=0\n",
    "for i in corridors_distance:\n",
    "    tot_cor_dist+=i[1]\n",
    "no_corridor_distance=length_of_corridor-tot_cor_dist\n",
    "corridors_distance.append([0,no_corridor_distance])\n",
    "corridors_distance.sort()\n",
    "timeTaken = 0\n",
    "for corridor in corridors_distance:\n",
    "    speed_of_corridor=corridor[0]\n",
    "    length_of_corridor=corridor[1]\n",
    "    runtime = length_of_corridor / (run_speed + speed_of_corridor)\n",
    "    if (runtime < max_run_time):\n",
    "        max_run_time -= runtime\n",
    "        timeTaken += runtime\n",
    "    else:\n",
    "        walktime = float(length_of_corridor - (run_speed + speed_of_corridor) * max_run_time) / (walk_speed + speed_of_corridor)\n",
    "        timeTaken += max_run_time + walktime\n",
    "        max_run_time = 0\n",
    "print(\"%.3f\" % timeTaken)"
   ]
  },
  {
   "cell_type": "code",
   "execution_count": null,
   "metadata": {},
   "outputs": [],
   "source": [
    "wedfwec\n",
    "\n",
    "length_of_corridor,walk_speed,run_speed,max_run_time,num_of_corridor=10,1,4,1,2\n",
    "corridors=[[4,6,1],[6,9,2]]\n",
    "corridors_distance=[]\n",
    "for corridor in corridors:\n",
    "    corridors_distance.append([corridor[2],corridor[1]-corridor[0]])\n",
    "# corridors_distance = [[w,E-B] for [B,E,w] in corridors]\n",
    "tot_cor_dist=0\n",
    "for i in corridors_distance:\n",
    "    tot_cor_dist+=i[1]\n",
    "no_corridor_distance=length_of_corridor-tot_cor_dist\n",
    "corridors_distance.append([0,no_corridor_distance])\n",
    "# corridors_distance += [[0,length_of_corridor-sum([z[1] for z in corridors_distance])]]\n",
    "corridors_distance.sort()\n",
    "timeTaken = 0\n",
    "for [speed,length] in corridors_distance:\n",
    "    runtime = length / (run_speed + speed)\n",
    "    if (runtime < max_run_time):\n",
    "        max_run_time -= runtime\n",
    "        timeTaken += runtime\n",
    "    else:\n",
    "        walktime = float(length - (run_speed + speed) * max_run_time) / (walk_speed + speed)\n",
    "        timeTaken += max_run_time + walktime\n",
    "        max_run_time = 0\n",
    "print(\"%.3f\" % timeTaken)"
   ]
  },
  {
   "cell_type": "code",
   "execution_count": null,
   "metadata": {},
   "outputs": [],
   "source": [
    "length_of_corridor,walk_speed,run_speed,max_run_time,num_of_corridor=10,1,4,1,2\n",
    "corridors=[[4,6,1],[6,9,2]]\n",
    "corridors_distance = [[w,E-B] for [B,E,w] in corridors]\n",
    "corridors_distance += [[0,length_of_corridor-sum([z[1] for z in corridors_distance])]]\n",
    "corridors_distance.sort()\n",
    "timeTaken = 0\n",
    "for [speed,length] in corridors_distance:\n",
    "    runtime = length / (run_speed + speed)\n",
    "    if (runtime < max_run_time):\n",
    "        max_run_time -= runtime\n",
    "        timeTaken += runtime\n",
    "    else:\n",
    "        walktime = float(length - (run_speed + speed) * max_run_time) / (walk_speed + speed)\n",
    "        timeTaken += max_run_time + walktime\n",
    "        max_run_time = 0\n",
    "print(\"%.3f\" % timeTaken)"
   ]
  }
 ],
 "metadata": {
  "kernelspec": {
   "display_name": "Python 3.9.6 64-bit",
   "language": "python",
   "name": "python3"
  },
  "language_info": {
   "codemirror_mode": {
    "name": "ipython",
    "version": 3
   },
   "file_extension": ".py",
   "mimetype": "text/x-python",
   "name": "python",
   "nbconvert_exporter": "python",
   "pygments_lexer": "ipython3",
   "version": "3.9.6"
  },
  "orig_nbformat": 4,
  "vscode": {
   "interpreter": {
    "hash": "e26b106e6146fa3417b08aa501d422914abd065c08ced2fc57ef114abeab93c7"
   }
  }
 },
 "nbformat": 4,
 "nbformat_minor": 2
}
