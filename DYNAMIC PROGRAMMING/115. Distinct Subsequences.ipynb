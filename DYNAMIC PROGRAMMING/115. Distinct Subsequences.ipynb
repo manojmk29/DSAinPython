{
 "cells": [
  {
   "cell_type": "code",
   "execution_count": null,
   "metadata": {},
   "outputs": [],
   "source": [
    "class Solution:\n",
    "    def numDistinct(self, s: str, t: str) -> int:\n",
    "        m=len(s)\n",
    "        n=len(t)\n",
    "        dp=[[0 for i in range(n+1)]for _ in range(m+1)]\n",
    "        for i in range(1,m+1):\n",
    "            for j in range(1,n+1):\n",
    "                nt=dp[i-1][j]\n",
    "                tt=0\n",
    "                if(s[i-1]==t[j-1]):\n",
    "                    if(j==1):\n",
    "                        tt=1\n",
    "                    else:\n",
    "                        tt=dp[i-1][j-1]\n",
    "                dp[i][j]=tt+nt\n",
    "        return(dp[m][n])"
   ]
  },
  {
   "cell_type": "code",
   "execution_count": null,
   "metadata": {},
   "outputs": [],
   "source": [
    "class Solution:\n",
    "    def numDistinct(self, s: str, t: str) -> int:\n",
    "        m=len(s)\n",
    "        n=len(t)\n",
    "        from functools import lru_cache\n",
    "        @lru_cache(None)\n",
    "        def helper(i,j):\n",
    "            if(i==0 or j==0):\n",
    "                return(0)\n",
    "            nt=helper(i-1,j)\n",
    "            tt=0\n",
    "            if(s[i-1]==t[j-1]):\n",
    "                if(j==1):\n",
    "                    tt=1\n",
    "                else:\n",
    "                    tt=helper(i-1,j-1)\n",
    "            return(nt+tt)\n",
    "        val=helper(m,n)\n",
    "        return(val)"
   ]
  }
 ],
 "metadata": {
  "language_info": {
   "name": "python"
  },
  "orig_nbformat": 4
 },
 "nbformat": 4,
 "nbformat_minor": 2
}
