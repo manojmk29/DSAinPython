{
 "cells": [
  {
   "cell_type": "code",
   "execution_count": 35,
   "metadata": {},
   "outputs": [
    {
     "data": {
      "text/plain": [
       "True"
      ]
     },
     "execution_count": 35,
     "metadata": {},
     "output_type": "execute_result"
    }
   ],
   "source": [
    "def subsetSumToK(n, k, arr):\n",
    "    dp=[[False for i in range(k+1)]for j in range(n)]\n",
    "    for i in range(n):\n",
    "        dp[i][0]=True\n",
    "    if(arr[0]<=k):\n",
    "        dp[0][arr[0]]=True\n",
    "    for ind in range(1,n):\n",
    "        for tot in range(1,k+1):\n",
    "            notake=dp[ind-1][tot]\n",
    "            take=False\n",
    "            if(arr[ind]<=tot):\n",
    "                take=dp[ind-1][tot-arr[ind]]\n",
    "            dp[ind][tot]=take or notake\n",
    "    return(dp[n-1][k])\n",
    "subsetSumToK(4,0,[1,2,3,4])"
   ]
  },
  {
   "cell_type": "code",
   "execution_count": 29,
   "metadata": {},
   "outputs": [
    {
     "data": {
      "text/plain": [
       "True"
      ]
     },
     "execution_count": 29,
     "metadata": {},
     "output_type": "execute_result"
    }
   ],
   "source": [
    "def subsetSumToK(n, k, arr):\n",
    "    dp=[[-1 for i in range(k+1)]for j in range(n)]\n",
    "    def helper(ind,tot):\n",
    "        if(tot<0):\n",
    "            return(False)\n",
    "        if(tot==0):\n",
    "            return(True)\n",
    "        if(ind==0):\n",
    "            return(tot==arr[0])\n",
    "        if(dp[ind][tot]==-1):\n",
    "            dp[ind][tot]=helper(ind-1,tot-arr[ind]) or helper(ind-1,tot)\n",
    "        return(dp[ind][tot])\n",
    "    return(helper(n-1,k))\n",
    "subsetSumToK(5,4,[2,3,1,6,7])"
   ]
  },
  {
   "cell_type": "code",
   "execution_count": null,
   "metadata": {},
   "outputs": [],
   "source": []
  },
  {
   "cell_type": "code",
   "execution_count": null,
   "metadata": {},
   "outputs": [],
   "source": [
    "def subsetSumToK(n, k, arr):\n",
    "    dp=[[0 for i in range(k+1)]for j in range(n)]\n",
    "    def helper(ind,tot):\n",
    "        if(ind==n or tot<0):\n",
    "            return(False)\n",
    "        if(tot-arr[ind]==0 or tot==0):\n",
    "            return(True)\n",
    "        if(dp[ind][tot]==-1):\n",
    "            dp[ind][tot]=helper(ind+1,tot-arr[ind]) or helper(ind+1,tot)\n",
    "        return(dp[ind][tot])\n",
    "    return(helper(0,k))"
   ]
  },
  {
   "cell_type": "code",
   "execution_count": null,
   "metadata": {},
   "outputs": [],
   "source": [
    "def subsetSumToK(n, k, arr):\n",
    "    def helper(ind,tot):\n",
    "        if(ind==n or tot<0):\n",
    "            return(False)\n",
    "        if(tot-arr[ind]==0 or tot==0):\n",
    "            return(True)\n",
    "        return(helper(ind+1,tot-arr[ind]) or helper(ind+1,tot))\n",
    "    return(helper(0,k))"
   ]
  },
  {
   "cell_type": "code",
   "execution_count": null,
   "metadata": {},
   "outputs": [],
   "source": [
    "subsetSumToK(4,19,[4,3,2,1])"
   ]
  },
  {
   "cell_type": "code",
   "execution_count": 59,
   "metadata": {},
   "outputs": [],
   "source": []
  },
  {
   "cell_type": "code",
   "execution_count": 62,
   "metadata": {},
   "outputs": [
    {
     "name": "stdout",
     "output_type": "stream",
     "text": [
      "[1]\n",
      "[1, 2]\n",
      "[1, 2, 3]\n",
      "[1, 2, 3, 4]\n",
      "[1, 2, 3, 4, 5]\n",
      "[2]\n",
      "[2, 3]\n",
      "[2, 3, 4]\n",
      "[2, 3, 4, 5]\n",
      "[3]\n",
      "[3, 4]\n",
      "[3, 4, 5]\n",
      "[4]\n",
      "[4, 5]\n",
      "[5]\n"
     ]
    }
   ],
   "source": [
    "#print all subsets\n",
    "arr=[1,2,3,4,5]\n",
    "n=len(arr)\n",
    "ret=0\n",
    "for i in range(n):\n",
    "    for j in range(i,n):\n",
    "        print(arr[i:j+1])"
   ]
  },
  {
   "cell_type": "code",
   "execution_count": 74,
   "metadata": {},
   "outputs": [
    {
     "data": {
      "text/plain": [
       "32"
      ]
     },
     "execution_count": 74,
     "metadata": {},
     "output_type": "execute_result"
    }
   ],
   "source": [
    "arr=[1,2,3,4,5]\n",
    "n=len(arr)\n",
    "ret=[]\n",
    "def f1(ind,sub):\n",
    "    ret.append(sub)\n",
    "    for i in range(ind,n):\n",
    "        f1(i+1,sub+[arr[i]])\n",
    "f1(0,[])\n",
    "len(ret)"
   ]
  },
  {
   "cell_type": "code",
   "execution_count": 73,
   "metadata": {},
   "outputs": [
    {
     "data": {
      "text/plain": [
       "32"
      ]
     },
     "execution_count": 73,
     "metadata": {},
     "output_type": "execute_result"
    }
   ],
   "source": [
    "ret=[]\n",
    "def f1(ind,sub):\n",
    "    if(ind==n):\n",
    "        ret.append(sub)\n",
    "        return\n",
    "    f1(ind+1,sub+[arr[ind]])\n",
    "    f1(ind+1,sub)\n",
    "f1(0,[])\n",
    "len(ret)"
   ]
  },
  {
   "cell_type": "code",
   "execution_count": 67,
   "metadata": {},
   "outputs": [
    {
     "name": "stdout",
     "output_type": "stream",
     "text": [
      "16\n"
     ]
    }
   ],
   "source": [
    "a=[[1, 2, 3, 4, 5],[1, 2, 3, 5],[1, 2, 4, 5],[1, 2, 5],[1, 3, 4, 5],[1, 3, 5],[1, 4, 5],[1, 5],[2, 3, 4, 5],[2, 3, 5],[2, 4, 5],[2, 5],[3, 4, 5],[3, 5],[4, 5],[5]]\n",
    "print(len(a))"
   ]
  },
  {
   "cell_type": "code",
   "execution_count": 68,
   "metadata": {},
   "outputs": [],
   "source": [
    "\n",
    "b=[[1, 2, 3, 4, 5],[1, 2, 3, 4],[1, 2, 3, 5],[1, 2, 3],[1, 2, 4, 5],[1, 2, 4],[1, 2, 5],[1, 2],[1, 3, 4, 5],[1, 3, 4],[1, 3, 5],[1, 3],[1, 4, 5],[1, 4],[1, 5],[1],[2, 3, 4, 5],[2, 3, 4],[2, 3, 5],[2, 3],[2, 4, 5],[2, 4],[2, 5],[2],[3, 4, 5],[3, 4],[3, 5],[3],[4, 5],[4],[5],[]]"
   ]
  },
  {
   "cell_type": "code",
   "execution_count": 69,
   "metadata": {},
   "outputs": [
    {
     "data": {
      "text/plain": [
       "16"
      ]
     },
     "execution_count": 69,
     "metadata": {},
     "output_type": "execute_result"
    }
   ],
   "source": [
    "len(a)"
   ]
  },
  {
   "cell_type": "code",
   "execution_count": 70,
   "metadata": {},
   "outputs": [
    {
     "data": {
      "text/plain": [
       "32"
      ]
     },
     "execution_count": 70,
     "metadata": {},
     "output_type": "execute_result"
    }
   ],
   "source": [
    "len(b)"
   ]
  },
  {
   "cell_type": "code",
   "execution_count": 1,
   "metadata": {},
   "outputs": [],
   "source": [
    "class Solution:\n",
    "    def cutRod(self, price, n):\n",
    "        def helper(ind,val):\n",
    "            if(ind==0):\n",
    "                return(val*price[ind])\n",
    "            notake=helper(ind-1,val)\n",
    "            take=-float(\"inf\")\n",
    "            if(ind<=val):\n",
    "                val=val-ind\n",
    "                take=price[ind]+helper(ind,val)\n",
    "            return(max(take,notake))\n",
    "        return(helper(n-1,n))"
   ]
  },
  {
   "cell_type": "code",
   "execution_count": 2,
   "metadata": {},
   "outputs": [
    {
     "data": {
      "text/plain": [
       "36"
      ]
     },
     "execution_count": 2,
     "metadata": {},
     "output_type": "execute_result"
    }
   ],
   "source": [
    "Solution().cutRod([17,18],2)"
   ]
  },
  {
   "cell_type": "code",
   "execution_count": 5,
   "metadata": {},
   "outputs": [
    {
     "name": "stdout",
     "output_type": "stream",
     "text": [
      "aa\n"
     ]
    }
   ],
   "source": [
    "a=3\n",
    "b=5\n",
    "if(a+2>=b):\n",
    "    print(\"aa\")"
   ]
  },
  {
   "cell_type": "code",
   "execution_count": null,
   "metadata": {},
   "outputs": [],
   "source": []
  }
 ],
 "metadata": {
  "interpreter": {
   "hash": "11ad92808b9e536a1bda76e6f18576c204b1bdc67c9013f7331a2b858d211f20"
  },
  "kernelspec": {
   "display_name": "Python 3.9.6 64-bit",
   "language": "python",
   "name": "python3"
  },
  "language_info": {
   "codemirror_mode": {
    "name": "ipython",
    "version": 3
   },
   "file_extension": ".py",
   "mimetype": "text/x-python",
   "name": "python",
   "nbconvert_exporter": "python",
   "pygments_lexer": "ipython3",
   "version": "3.9.6"
  },
  "orig_nbformat": 4
 },
 "nbformat": 4,
 "nbformat_minor": 2
}
