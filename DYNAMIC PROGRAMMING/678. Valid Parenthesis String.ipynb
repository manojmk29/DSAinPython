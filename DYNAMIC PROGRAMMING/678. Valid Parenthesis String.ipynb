{
 "cells": [
  {
   "cell_type": "code",
   "execution_count": null,
   "metadata": {},
   "outputs": [],
   "source": []
  },
  {
   "cell_type": "code",
   "execution_count": 30,
   "metadata": {},
   "outputs": [],
   "source": [
    "from functools import lru_cache\n",
    "class Solution:\n",
    "    def checkValidString(self, s: str) -> bool:\n",
    "        arr=list(s)\n",
    "        def check(ar):\n",
    "            st=[]\n",
    "            for i in ar:\n",
    "                if(i==\"(\"):\n",
    "                    st.append(i)\n",
    "                elif(i==\")\"):\n",
    "                    if(st and st[-1]==\"(\"):\n",
    "                        st.pop()\n",
    "                    else:\n",
    "                        return(False)\n",
    "            if(st):\n",
    "                return(False)\n",
    "            return(True)\n",
    "        index=[]\n",
    "        for i in range(len(arr)):\n",
    "            if(arr[i]==\"*\"):\n",
    "                index.append(i)\n",
    "        if(not index):\n",
    "            return(check(arr))\n",
    "        tar=index[-1] \n",
    "        @lru_cache(None)\n",
    "        def dp(i):\n",
    "            ind=index[i]\n",
    "            if(ind==tar):\n",
    "                arr[ind]=\"(\"\n",
    "                a=check(arr)\n",
    "                if(a):\n",
    "                    return(True)\n",
    "                arr[ind]=\")\"\n",
    "                b=check(arr)\n",
    "                if(b):\n",
    "                    return(True)\n",
    "                arr[ind]=\"*\"\n",
    "                c=check(arr)\n",
    "                if(c):\n",
    "                    return(True)\n",
    "                return(False)\n",
    "            else:\n",
    "                arr[ind]=\"(\"\n",
    "                x=dp(i+1)\n",
    "                if(x):\n",
    "                    return(True)\n",
    "                arr[ind]=\")\"\n",
    "                y=dp(i+1)\n",
    "                if(y):\n",
    "                    return(True)\n",
    "                arr[ind]=\"*\"\n",
    "                z=dp(i+1)\n",
    "                if(z):\n",
    "                    return(True)\n",
    "                return(False)\n",
    "        return(dp(0))"
   ]
  },
  {
   "cell_type": "code",
   "execution_count": 39,
   "metadata": {},
   "outputs": [],
   "source": [
    "from functools import lru_cache\n",
    "class Solution:\n",
    "    def checkValidString(self, s: str) -> bool:\n",
    "        arr=list(s)\n",
    "        def check(ar):\n",
    "            st=[]\n",
    "            for i in ar:\n",
    "                if(i==\"(\"):\n",
    "                    st.append(i)\n",
    "                elif(i==\")\"):\n",
    "                    if(st and st[-1]==\"(\"):\n",
    "                        st.pop()\n",
    "                    else:\n",
    "                        return(False)\n",
    "            if(st):\n",
    "                return(False)\n",
    "            return(True)\n",
    "        index=[]\n",
    "        for i in range(len(arr)):\n",
    "            if(arr[i]==\"*\"):\n",
    "                index.append(i)\n",
    "        if(not index):\n",
    "            return(check(arr))\n",
    "        n=len(index)\n",
    "        def dp(i):\n",
    "            if(i==n):\n",
    "                return(check(arr[:]))   \n",
    "            ind=index[i]\n",
    "            arr[ind]=\"(\"\n",
    "            x=dp(i+1)\n",
    "            if(x):\n",
    "                return(True)\n",
    "            arr[ind]=\")\"\n",
    "            y=dp(i+1)\n",
    "            if(y):\n",
    "                return(True)\n",
    "            arr[ind]=\"*\"\n",
    "            z=dp(i+1)\n",
    "            if(z):\n",
    "                return(True)\n",
    "            return(False)\n",
    "        return(dp(0))"
   ]
  },
  {
   "cell_type": "code",
   "execution_count": 64,
   "metadata": {},
   "outputs": [],
   "source": [
    "from functools import lru_cache\n",
    "class Solution:\n",
    "    def checkValidString(self, s: str) -> bool:\n",
    "        arr=list(s)\n",
    "        def check(ar):\n",
    "            st=[]\n",
    "            for i in ar:\n",
    "                if(i==\"(\"):\n",
    "                    st.append(i)\n",
    "                elif(i==\")\"):\n",
    "                    if(st and st[-1]==\"(\"):\n",
    "                        st.pop()\n",
    "                    else:\n",
    "                        return(False)\n",
    "            if(st):\n",
    "                return(False)\n",
    "            return(True)\n",
    "\n",
    "        index=[]\n",
    "\n",
    "        for i in range(len(arr)):\n",
    "            if(arr[i]==\"*\"):\n",
    "                index.append(i)\n",
    "\n",
    "        if(not index):\n",
    "            return(check(arr))\n",
    "        n=len(index)\n",
    "        dpt=[[-1 for i in range(3)]for j in range(n+1)]\n",
    "        def dp(i,c):\n",
    "            if(dpt[i][c]!=-1):\n",
    "                return(dpt[i][c])\n",
    "            if(i==n):\n",
    "                return(check(arr))   \n",
    "            ind=index[i]\n",
    "            if(c==0):\n",
    "                arr[ind]=\"(\"\n",
    "                if(i<n-1):\n",
    "                    x=dp(i+1,0) or dp(i+1,1) or dp(i+1,2)\n",
    "                else:\n",
    "                    x=dp(i+1,0)\n",
    "                if(x):\n",
    "                    dpt[i][c]=True\n",
    "                    return(True)\n",
    "            elif(c==1):\n",
    "                arr[ind]=\")\"\n",
    "                if(i<n-1):\n",
    "                    x=dp(i+1,0) or dp(i+1,1) or dp(i+1,2)\n",
    "                else:\n",
    "                    x=dp(i+1,0)\n",
    "                if(x):\n",
    "                    dpt[i][c]=True\n",
    "                    return(True)\n",
    "            elif(c==2):\n",
    "                arr[ind]=\"*\"\n",
    "                if(i<n-1):\n",
    "                    x=dp(i+1,0) or dp(i+1,1) or dp(i+1,2)\n",
    "                else:\n",
    "                    x=dp(i+1,0)\n",
    "                if(x):\n",
    "                    dpt[i][c]=True\n",
    "                    return(True)\n",
    "            dpt[i][c]=False\n",
    "            return(False)\n",
    "        return(dp(0,0) or dp(0,1) or dp(0,2))"
   ]
  },
  {
   "cell_type": "code",
   "execution_count": 65,
   "metadata": {},
   "outputs": [
    {
     "data": {
      "text/plain": [
       "True"
      ]
     },
     "execution_count": 65,
     "metadata": {},
     "output_type": "execute_result"
    }
   ],
   "source": [
    "Solution().checkValidString(\"(*)\")"
   ]
  },
  {
   "cell_type": "code",
   "execution_count": 20,
   "metadata": {},
   "outputs": [
    {
     "data": {
      "text/plain": [
       "False"
      ]
     },
     "execution_count": 20,
     "metadata": {},
     "output_type": "execute_result"
    }
   ],
   "source": [
    "def check(ar):\n",
    "            v=[0 for i in range(len(ar))]\n",
    "            st=[]\n",
    "            for i in ar:\n",
    "                if(i==\"(\"):\n",
    "                    st.append(i)\n",
    "                elif(i==\")\"):\n",
    "                    if(st and st[-1]==\"(\"):\n",
    "                        st.pop()\n",
    "                    else:\n",
    "                        \n",
    "                        return(False)\n",
    "            if(st):\n",
    "                return(False)\n",
    "            return(True)\n",
    "\n",
    "check(\"((((()(()()()*()(((((*)()*(**(())))))(())()())(((())())())))))))(((((())*)))()))(()((*()*(*)))(*)()\")"
   ]
  },
  {
   "cell_type": "code",
   "execution_count": null,
   "metadata": {},
   "outputs": [],
   "source": [
    "check(\"((((()(()()()*()(((((*)()*(**(())))))(())()())(((())())())))))))(((((())*)))()))(()((*()*(*)))(*)()\")"
   ]
  }
 ],
 "metadata": {
  "interpreter": {
   "hash": "11ad92808b9e536a1bda76e6f18576c204b1bdc67c9013f7331a2b858d211f20"
  },
  "kernelspec": {
   "display_name": "Python 3.9.6 64-bit",
   "language": "python",
   "name": "python3"
  },
  "language_info": {
   "codemirror_mode": {
    "name": "ipython",
    "version": 3
   },
   "file_extension": ".py",
   "mimetype": "text/x-python",
   "name": "python",
   "nbconvert_exporter": "python",
   "pygments_lexer": "ipython3",
   "version": "3.9.6"
  },
  "orig_nbformat": 4
 },
 "nbformat": 4,
 "nbformat_minor": 2
}
