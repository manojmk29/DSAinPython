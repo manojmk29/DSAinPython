{
 "cells": [
  {
   "cell_type": "code",
   "execution_count": 1,
   "metadata": {},
   "outputs": [],
   "source": [
    "class Solution:\n",
    "    def longestPalindrome(self, s: str) -> str:\n",
    "        n=len(s)\n",
    "        t=s[::-1]\n",
    "        maxt=0\n",
    "        ind=None\n",
    "        dp=[[0 for i in range(n)]for i in range(n)]\n",
    "        for i in range(n):\n",
    "            for j in range(n):\n",
    "                if(s[i]==t[j]):\n",
    "                    dp[i][j]+=1\n",
    "                    if i>0 and j>0:\n",
    "                        dp[i][j]+=dp[i-1][j-1]\n",
    "                    if(s[i-(dp[i][j]-1)]==s[i]):\n",
    "                        if(maxt<dp[i][j]):\n",
    "                            maxt=dp[i][j]\n",
    "                            ind=i\n",
    "        return s[ind-(maxt-1):ind+1]"
   ]
  },
  {
   "cell_type": "code",
   "execution_count": 2,
   "metadata": {},
   "outputs": [
    {
     "data": {
      "text/plain": [
       "'bab'"
      ]
     },
     "execution_count": 2,
     "metadata": {},
     "output_type": "execute_result"
    }
   ],
   "source": [
    "Solution().longestPalindrome(\"babad\")"
   ]
  },
  {
   "cell_type": "code",
   "execution_count": 3,
   "metadata": {},
   "outputs": [],
   "source": [
    "class Solution:\n",
    "    def permute(self, nums):\n",
    "        n=len(nums)\n",
    "        flag=[-1 for i in range(n)]\n",
    "        ret=[]\n",
    "        def helper(ind,arr):\n",
    "            if ind==n:\n",
    "                ret.append(arr)\n",
    "                return\n",
    "            for i in range(n):\n",
    "                if flag[i]==-1:\n",
    "                    flag[i]=1\n",
    "                    helper(ind+1,arr+[nums[i]])\n",
    "                    flag[i]=-1\n",
    "        helper(0,[])\n",
    "        return ret"
   ]
  },
  {
   "cell_type": "code",
   "execution_count": 4,
   "metadata": {},
   "outputs": [
    {
     "data": {
      "text/plain": [
       "[[1, 2, 3], [1, 3, 2], [2, 1, 3], [2, 3, 1], [3, 1, 2], [3, 2, 1]]"
      ]
     },
     "execution_count": 4,
     "metadata": {},
     "output_type": "execute_result"
    }
   ],
   "source": [
    "Solution().permute([1,2,3])"
   ]
  },
  {
   "cell_type": "code",
   "execution_count": 5,
   "metadata": {},
   "outputs": [
    {
     "data": {
      "text/plain": [
       "'88'"
      ]
     },
     "execution_count": 5,
     "metadata": {},
     "output_type": "execute_result"
    }
   ],
   "source": [
    "str(88)"
   ]
  },
  {
   "cell_type": "code",
   "execution_count": 14,
   "metadata": {},
   "outputs": [],
   "source": [
    "class Solution:\n",
    "    def nextGreaterElement(self, nn: int) -> int:\n",
    "        a=str(nn)\n",
    "        a=list(a)\n",
    "        n=len(a)\n",
    "        val=n-1\n",
    "        i=n-2\n",
    "        while(i>=0):\n",
    "            if a[i]<a[i+1]:\n",
    "                break\n",
    "            i-=1\n",
    "        if i==-1:\n",
    "            return -1\n",
    "        for j in range(n-1,i,-1):\n",
    "            if(a[j]>a[i]):\n",
    "                a[j],a[i]=a[i],a[j]\n",
    "                break\n",
    "        a=a[:i+1]+a[i+1:][::-1]\n",
    "        val=\"\".join(a)\n",
    "        if int(val)>=2147483647:\n",
    "            return -1\n",
    "        return val"
   ]
  },
  {
   "cell_type": "code",
   "execution_count": 15,
   "metadata": {},
   "outputs": [
    {
     "data": {
      "text/plain": [
       "'31'"
      ]
     },
     "execution_count": 15,
     "metadata": {},
     "output_type": "execute_result"
    }
   ],
   "source": [
    "Solution().nextGreaterElement(13)"
   ]
  },
  {
   "cell_type": "code",
   "execution_count": 16,
   "metadata": {},
   "outputs": [],
   "source": [
    "class Solution:\n",
    "    def closestToZero (self,arr, n):\n",
    "        # your code here\n",
    "        arr.sort()\n",
    "        l=0\n",
    "        r=n-1\n",
    "        ret=float(\"inf\")\n",
    "        while(l<r):\n",
    "            temp=arr[l]+arr[r]\n",
    "            if(abs(temp)<abs(ret)):\n",
    "                ret=temp\n",
    "            if(abs(temp)>0):\n",
    "                r-=1\n",
    "            elif(abs(temp)<0):\n",
    "                l+=1\n",
    "            else:\n",
    "                return 0\n",
    "        return ret"
   ]
  },
  {
   "cell_type": "code",
   "execution_count": 19,
   "metadata": {},
   "outputs": [
    {
     "data": {
      "text/plain": [
       "-74"
      ]
     },
     "execution_count": 19,
     "metadata": {},
     "output_type": "execute_result"
    }
   ],
   "source": [
    "Solution().closestToZero([-66,-60,-8],3)"
   ]
  },
  {
   "cell_type": "code",
   "execution_count": null,
   "metadata": {},
   "outputs": [],
   "source": [
    "n=379\n",
    "s=25175 87392 19430 29131 54447 25860 25541 26676 -3918 59550 40850 87009 17461 3191 74595 38514 44649 -9386 55197 10200 16799 61622 56301 63098 48307 71552 34252 50386 77721 15071 48318 12892 12458 1465 75745 623 37325 11281 37299 67130 80831 11866 87856 32009 25058 -3837 80524 79707 -3222 69438 23625 47299 41056 89926 20393 23080 -4809 88367 83466 82912 13433 65502 29521 35892 76967 15261 46515 48010 36542 17531 48857 51090 63120 46708 16817 21895 52871 7336 35319 83371 86774 68944 40666 61547 -7417 -5224 18344 -2226 -6862 11806 -9319 16571 87308 30203 86185 -2013 79186 66417 79719 25724 -6056 38571 10531 67064 -4726 37348 22676 81868 78406 67995 -1049 -1107 46935 73339 -5843 49518 78115 22502 57292 4970 44308 81695 55264 65333 45615 51444 -2963 34797 27857 86757 -5762 55523 35323 14769 56304 64320 85840 88980 79905 74241 66970 88856 6851 47622 -4092 11009 7135 7740 43511 -1856 22711 21536 13557 87975 20586 69172 73136 27623 13964 10988 48097 18202 76511 -6584 66694 42810 -8547 62529 65507 81358 70487 42473 80209 87339 90 9834 32065 40948 27575 85576 49092 60286 17107 -3634 81978 71415 75539 65109 9033 23220 9815 -9152 75145 -3679 -5736 51834 72854 -4283 48080 48356 10792 52284 24546 996 73340 34637 20831 15400 85585 82128 10971 68394 52409 61800 74761 68104 66932 84017 43208 9683 17232 86745 10531 2372 16784 38517 87928 23355 44234 69725 81711 88748 32005 39975 23461 15340 84612 54292 64463 3909 70137 9151 6020 32541 4669 14498 34362 81601 8510 11288 1279 59465 8028 21810 71837 34812 70327 -6522 68167 48278 73203 83596 47021 15203 33566 80483 64266 51895 68492 38724 89526 48625 81597 29263 14883 -3739 77484 82968 87863 19711 4251 22859 89176 46001 54670 -5274 -9191 58714 -1796 -7307 40710 81407 10006 -2274 30328 77294 11926 28311 62906 14136 752 86149 -3522 -7656 25408 21361 -1394 12887 38046 20186 42598 52297 53045 65492 8294 41432 70218 32825 10142 2139 59240 60852 -6459 2964 -7705 57591 -9747 14222 -4103 86882 62080 6649 83026 68558 8994 18429 23636 41322 65038 71683 71508 17632 57697 34548 16841 75991 85981 -2946 42533 29840 9193 35491 687 36456 48455 2982 27765 48708 50926 33662 45585 23001 50312 62329 25276 -6977 -9247 58913 44345 65792 40591 25848 17141 8283 70396 67704 17992 -9911 74758"
   ]
  }
 ],
 "metadata": {
  "kernelspec": {
   "display_name": "Python 3.9.6 64-bit",
   "language": "python",
   "name": "python3"
  },
  "language_info": {
   "codemirror_mode": {
    "name": "ipython",
    "version": 3
   },
   "file_extension": ".py",
   "mimetype": "text/x-python",
   "name": "python",
   "nbconvert_exporter": "python",
   "pygments_lexer": "ipython3",
   "version": "3.9.6"
  },
  "orig_nbformat": 4,
  "vscode": {
   "interpreter": {
    "hash": "e26b106e6146fa3417b08aa501d422914abd065c08ced2fc57ef114abeab93c7"
   }
  }
 },
 "nbformat": 4,
 "nbformat_minor": 2
}
