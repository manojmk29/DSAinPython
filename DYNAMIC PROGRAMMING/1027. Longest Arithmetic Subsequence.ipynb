{
 "cells": [
  {
   "cell_type": "code",
   "execution_count": 8,
   "metadata": {},
   "outputs": [],
   "source": [
    "from collections import defaultdict\n",
    "class Solution:\n",
    "    def longestArithSeqLength(self, nums) -> int:\n",
    "        dp=defaultdict(int)\n",
    "        n=len(nums)\n",
    "        dpp=[[0 for i in range(n)]for i in range(n)]\n",
    "        for i in range(n):\n",
    "            for j in range(i+1,n):\n",
    "                val=nums[i]-nums[j]\n",
    "                dpp[i][j]=val\n",
    "                dp[val]+=1\n",
    "        maxt=-1\n",
    "        val=8\n",
    "        print(dpp)\n",
    "        for i in dp:\n",
    "            if(dp[i]>maxt):\n",
    "                maxt=dp[i]\n",
    "                val=i\n",
    "        print(\"val===\",val)\n",
    "        return(maxt+1)\n",
    "        "
   ]
  },
  {
   "cell_type": "code",
   "execution_count": 9,
   "metadata": {},
   "outputs": [
    {
     "name": "stdout",
     "output_type": "stream",
     "text": [
      "[[0, 63, 66, 40, 31, 5, 15, 38], [0, 0, 3, -23, -32, -58, -48, -25], [0, 0, 0, -26, -35, -61, -51, -28], [0, 0, 0, 0, -9, -35, -25, -2], [0, 0, 0, 0, 0, -26, -16, 7], [0, 0, 0, 0, 0, 0, 10, 33], [0, 0, 0, 0, 0, 0, 0, 23], [0, 0, 0, 0, 0, 0, 0, 0]]\n",
      "val=== -25\n"
     ]
    },
    {
     "data": {
      "text/plain": [
       "3"
      ]
     },
     "execution_count": 9,
     "metadata": {},
     "output_type": "execute_result"
    }
   ],
   "source": [
    "Solution().longestArithSeqLength([83,20,17,43,52,78,68,45])"
   ]
  },
  {
   "cell_type": "code",
   "execution_count": null,
   "metadata": {},
   "outputs": [],
   "source": [
    "\"\"\"\n",
    "[0, 63, 66, 40, 31, 5, 15, 38]\n",
    "[0, 0, 3, -23, -32, -58, -48, -25]\n",
    "[0, 0, 0, -26, -35, -61, -51, -28]\n",
    "[0, 0, 0, 0, -9, -35, -25, -2]\n",
    "[0, 0, 0, 0, 0, -26, -16, 7]\n",
    "[0, 0, 0, 0, 0, 0, 10, 33]\n",
    "[0, 0, 0, 0, 0, 0, 0, 23]\n",
    "[0, 0, 0, 0, 0, 0, 0, 0]]\n",
    "\"\"\""
   ]
  }
 ],
 "metadata": {
  "interpreter": {
   "hash": "11ad92808b9e536a1bda76e6f18576c204b1bdc67c9013f7331a2b858d211f20"
  },
  "kernelspec": {
   "display_name": "Python 3.9.6 64-bit",
   "language": "python",
   "name": "python3"
  },
  "language_info": {
   "codemirror_mode": {
    "name": "ipython",
    "version": 3
   },
   "file_extension": ".py",
   "mimetype": "text/x-python",
   "name": "python",
   "nbconvert_exporter": "python",
   "pygments_lexer": "ipython3",
   "version": "3.9.6"
  },
  "orig_nbformat": 4
 },
 "nbformat": 4,
 "nbformat_minor": 2
}
