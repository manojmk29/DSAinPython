{
 "cells": [
  {
   "cell_type": "code",
   "execution_count": null,
   "metadata": {},
   "outputs": [],
   "source": [
    "class Solution:\n",
    "    def editDistance(self, s, t):\n",
    "        # Code here\n",
    "        dp=[[0 for i in range(len(t)+1)] for i in range(len(s)+1)]\n",
    "        r=0\n",
    "        j=0\n",
    "        for i in range(len(dp[0])):\n",
    "            dp[r][i]=j\n",
    "            j+=1\n",
    "        j=0\n",
    "        for i in range(len(dp)):\n",
    "            dp[i][r]=j\n",
    "            j+=1\n",
    "        for i in range(1,len(s)+1):\n",
    "            for j in range(1,len(t)+1):\n",
    "                if(s[i-1]==t[j-1]):\n",
    "                    dp[i][j]=dp[i-1][j-1]\n",
    "                else:\n",
    "                    dp[i][j]=1+min(dp[i-1][j-1],dp[i-1][j],dp[i][j-1])\n",
    "        return(dp[len(s)][len(t)])\n",
    "#{ \n",
    "#  Driver Code Starts\n",
    "if __name__ == '__main__':\n",
    "    T=int(input())\n",
    "    for i in range(T):\n",
    "        s, t = input().split()\n",
    "        ob = Solution();\n",
    "        ans = ob.editDistance(s, t)\n",
    "        print(ans)\n",
    "# } Driver Code Ends"
   ]
  }
 ],
 "metadata": {
  "language_info": {
   "name": "python"
  },
  "orig_nbformat": 4
 },
 "nbformat": 4,
 "nbformat_minor": 2
}
