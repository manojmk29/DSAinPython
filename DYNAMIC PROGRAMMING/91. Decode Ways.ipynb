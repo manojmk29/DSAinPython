{
 "cells": [
  {
   "cell_type": "code",
   "execution_count": 5,
   "metadata": {},
   "outputs": [],
   "source": [
    "#a\n",
    "from functools import lru_cache\n",
    "class Solution:\n",
    "    def numDecodings(self, s: str) -> int:\n",
    "        n=len(s)\n",
    "        dp=[-1 for i in range(n+1)]\n",
    "        dp[n]=1\n",
    "        for ind in range(n-1,-1,-1):\n",
    "            if(s[ind]==\"0\"):\n",
    "                dp[ind]=0\n",
    "            else:\n",
    "                tot=0\n",
    "                tot+=dp[ind+1]\n",
    "                if(ind+1<n):\n",
    "                    if(s[ind]==\"1\" or ( s[ind]==\"2\" and s[ind+1]<\"7\")):\n",
    "                        tot+=dp[ind+2]\n",
    "                dp[ind]=tot\n",
    "        return(dp[0])"
   ]
  },
  {
   "cell_type": "code",
   "execution_count": 4,
   "metadata": {},
   "outputs": [],
   "source": [
    "#a\n",
    "from functools import lru_cache\n",
    "class Solution:\n",
    "    def numDecodings(self, s: str) -> int:\n",
    "        n=len(s)\n",
    "        dp=[-1 for i in range(n+1)]\n",
    "        dp[n]=1\n",
    "        def helper(ind):\n",
    "            if(dp[ind]!=-1):\n",
    "                return(dp[ind])\n",
    "            if(s[ind]==\"0\"):\n",
    "                dp[ind]=0\n",
    "                return(0)\n",
    "            tot=0\n",
    "            tot+=helper(ind+1)\n",
    "            if(ind+1<n):\n",
    "                if(s[ind]==\"1\" or ( s[ind]==\"2\" and s[ind+1]<\"7\")):\n",
    "                    tot+=helper(ind+2)\n",
    "            dp[ind]=tot\n",
    "            return(tot)\n",
    "        return(helper(0))"
   ]
  },
  {
   "cell_type": "code",
   "execution_count": 9,
   "metadata": {},
   "outputs": [],
   "source": [
    "class Solution:\n",
    "    def numDecodings(self, s: str) -> int:\n",
    "        n=len(s)\n",
    "        def helper(ind,c):\n",
    "            if(n-1==ind):\n",
    "                if(c==1):\n",
    "                    if(s[ind-1]==\"0\"):\n",
    "                        return(0)\n",
    "                    if(s[ind-1]==\"2\" and s[ind]<\"7\"):\n",
    "                        return(1)\n",
    "                    if(s[ind-1]<\"2\"):\n",
    "                        return(1)\n",
    "                    return(0)\n",
    "                elif(c==0):\n",
    "                    if(s[ind]==\"0\"):\n",
    "                        return(0)\n",
    "                    else:\n",
    "                        return(1)\n",
    "            if(s[ind]==\"0\" and c==0):\n",
    "                return(0)\n",
    "            tot=0\n",
    "            if(s[ind]==\"0\" or s[ind]>\"2\"):\n",
    "                tot+=helper(ind+1,0)\n",
    "            else:\n",
    "                tot+=helper(ind+1,0)\n",
    "                tot+=helper(ind+1,1)\n",
    "            return(tot)\n",
    "        return(helper(0,0))"
   ]
  },
  {
   "cell_type": "code",
   "execution_count": 11,
   "metadata": {},
   "outputs": [
    {
     "data": {
      "text/plain": [
       "4"
      ]
     },
     "execution_count": 11,
     "metadata": {},
     "output_type": "execute_result"
    }
   ],
   "source": [
    "Solution().numDecodings(\"226\")"
   ]
  },
  {
   "cell_type": "code",
   "execution_count": 17,
   "metadata": {},
   "outputs": [],
   "source": [
    "from functools import lru_cache\n",
    "class Solution:\n",
    "    def numDecodings(self, s: str) -> int:\n",
    "        n=len(s)\n",
    "        @lru_cache\n",
    "        def helper(ind,c):\n",
    "            if(n-1==ind):\n",
    "                if(c==1):\n",
    "                    if(s[ind-1]==\"0\"):\n",
    "                        return(0)\n",
    "                    if(s[ind-1]==\"2\" and s[ind]<\"7\"):\n",
    "                        return(1)\n",
    "                    if(s[ind-1]<\"2\"):\n",
    "                        return(1)\n",
    "                    return(0)\n",
    "                elif(c==0):\n",
    "                    if(s[ind]==\"0\"):\n",
    "                        return(0)\n",
    "                    else:\n",
    "                        return(1)\n",
    "            if(c==1):\n",
    "                if(s[ind-1]==\"0\"):\n",
    "                    return(0)\n",
    "                if(s[ind-1]==\"2\" and s[ind]>\"6\"):\n",
    "                    return(0)\n",
    "            if(s[ind]==\"0\" and c==0):\n",
    "                return(0)\n",
    "            tot=0\n",
    "            if(s[ind]==\"0\" or s[ind]>\"2\"):\n",
    "                tot+=helper(ind+1,0)\n",
    "            else:\n",
    "                tot+=helper(ind+1,0)\n",
    "                if(c!=1):\n",
    "                    tot+=helper(ind+1,1)\n",
    "            return(tot)\n",
    "        return(helper(0,0))"
   ]
  },
  {
   "cell_type": "code",
   "execution_count": 3,
   "metadata": {},
   "outputs": [
    {
     "data": {
      "text/plain": [
       "3"
      ]
     },
     "execution_count": 3,
     "metadata": {},
     "output_type": "execute_result"
    }
   ],
   "source": [
    "Solution().numDecodings(\"1201234\")"
   ]
  },
  {
   "cell_type": "code",
   "execution_count": 1,
   "metadata": {},
   "outputs": [],
   "source": [
    "from functools import lru_cache\n",
    "class Solution:\n",
    "    @lru_cache(None)\n",
    "    def numDecodings(self, s: str) -> int:\n",
    "        n=len(s)\n",
    "        def helper(ind):\n",
    "            if(ind==n):\n",
    "                return(1)\n",
    "            if(s[ind]==\"0\"):\n",
    "                return(0)\n",
    "            tot=0\n",
    "            tot+=helper(ind+1)\n",
    "            if(ind+1 < n):\n",
    "                if(s[ind]==\"1\" or (s[ind]==\"2\" and s[ind+1]<\"7\")):\n",
    "                    tot+=helper(ind+2)\n",
    "            return(tot)\n",
    "        return(helper(0))"
   ]
  },
  {
   "cell_type": "code",
   "execution_count": 1,
   "metadata": {},
   "outputs": [
    {
     "data": {
      "text/plain": [
       "[1, 2, 3]"
      ]
     },
     "execution_count": 1,
     "metadata": {},
     "output_type": "execute_result"
    }
   ],
   "source": [
    "a=[1,2,3]\n",
    "b=a.copy()\n",
    "b"
   ]
  },
  {
   "cell_type": "code",
   "execution_count": 3,
   "metadata": {},
   "outputs": [
    {
     "data": {
      "text/plain": [
       "[1, 99, 3]"
      ]
     },
     "execution_count": 3,
     "metadata": {},
     "output_type": "execute_result"
    }
   ],
   "source": [
    "b[1]=99\n",
    "b"
   ]
  },
  {
   "cell_type": "code",
   "execution_count": null,
   "metadata": {},
   "outputs": [],
   "source": []
  }
 ],
 "metadata": {
  "interpreter": {
   "hash": "11ad92808b9e536a1bda76e6f18576c204b1bdc67c9013f7331a2b858d211f20"
  },
  "kernelspec": {
   "display_name": "Python 3.9.6 64-bit",
   "language": "python",
   "name": "python3"
  },
  "language_info": {
   "codemirror_mode": {
    "name": "ipython",
    "version": 3
   },
   "file_extension": ".py",
   "mimetype": "text/x-python",
   "name": "python",
   "nbconvert_exporter": "python",
   "pygments_lexer": "ipython3",
   "version": "3.9.6"
  },
  "orig_nbformat": 4
 },
 "nbformat": 4,
 "nbformat_minor": 2
}
