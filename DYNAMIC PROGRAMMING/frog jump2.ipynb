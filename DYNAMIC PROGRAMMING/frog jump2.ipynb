{
 "cells": [
  {
   "cell_type": "code",
   "execution_count": null,
   "metadata": {},
   "outputs": [],
   "source": []
  },
  {
   "cell_type": "code",
   "execution_count": 4,
   "metadata": {},
   "outputs": [
    {
     "data": {
      "text/plain": [
       "5"
      ]
     },
     "execution_count": 4,
     "metadata": {},
     "output_type": "execute_result"
    }
   ],
   "source": [
    "def frog_jump(dist,pow):\n",
    "    dp=[-1 for i in range(dist)]\n",
    "    def helper(ind):\n",
    "        if ind==dist:\n",
    "            return 1\n",
    "        if dp[ind]!=-1:\n",
    "            return dp[ind] \n",
    "        ret=0\n",
    "        for i in range(1,pow+1):\n",
    "            ret+=helper(ind+i)\n",
    "            if ind+i==dist:\n",
    "                break\n",
    "        dp[ind]=ret\n",
    "        return ret\n",
    "    return helper(0)\n",
    "frog_jump(4,2)"
   ]
  },
  {
   "cell_type": "code",
   "execution_count": null,
   "metadata": {},
   "outputs": [],
   "source": [
    "from functools import lru_cache\n",
    "def frog_jump(dist,pow):\n",
    "    @lru_cache()\n",
    "    def helper(ind):\n",
    "        if ind==dist:\n",
    "            return 1 \n",
    "        ret=0\n",
    "        for i in range(1,pow+1):\n",
    "            ret+=helper(ind+i)\n",
    "            if ind+i==dist:\n",
    "                break\n",
    "        return ret\n",
    "    return helper(0)\n",
    "frog_jump(4,2)"
   ]
  },
  {
   "cell_type": "code",
   "execution_count": null,
   "metadata": {},
   "outputs": [],
   "source": []
  }
 ],
 "metadata": {
  "kernelspec": {
   "display_name": "Python 3.9.6 64-bit",
   "language": "python",
   "name": "python3"
  },
  "language_info": {
   "codemirror_mode": {
    "name": "ipython",
    "version": 3
   },
   "file_extension": ".py",
   "mimetype": "text/x-python",
   "name": "python",
   "nbconvert_exporter": "python",
   "pygments_lexer": "ipython3",
   "version": "3.9.6"
  },
  "orig_nbformat": 4,
  "vscode": {
   "interpreter": {
    "hash": "e26b106e6146fa3417b08aa501d422914abd065c08ced2fc57ef114abeab93c7"
   }
  }
 },
 "nbformat": 4,
 "nbformat_minor": 2
}
