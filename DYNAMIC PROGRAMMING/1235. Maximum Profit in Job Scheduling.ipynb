{
 "cells": [
  {
   "cell_type": "code",
   "execution_count": 4,
   "metadata": {},
   "outputs": [
    {
     "data": {
      "text/plain": [
       "[(1, 2), (1, 3), (1, 3), (2, 4), (3, 2), (3, 5), (5, 7)]"
      ]
     },
     "execution_count": 4,
     "metadata": {},
     "output_type": "execute_result"
    }
   ],
   "source": [
    "arr=[(1,3),(2,4),(5,7),(1,2),(3,5),(3,2),(1,3)]\n",
    "arr.sort(key=lambda x:(x[0],x[1]))\n",
    "arr"
   ]
  },
  {
   "cell_type": "code",
   "execution_count": 7,
   "metadata": {},
   "outputs": [
    {
     "data": {
      "text/plain": [
       "[(1, 2, 30),\n",
       " (1, 3, 20),\n",
       " (1, 3, 50),\n",
       " (2, 4, 25),\n",
       " (3, 2, 20),\n",
       " (3, 5, 40),\n",
       " (5, 7, 10)]"
      ]
     },
     "execution_count": 7,
     "metadata": {},
     "output_type": "execute_result"
    }
   ],
   "source": [
    "arr=[(1,3,50),(2,4,25),(5,7,10),(1,2,30),(3,5,40),(3,2,20),(1,3,20)]\n",
    "arr.sort()\n",
    "arr"
   ]
  },
  {
   "cell_type": "code",
   "execution_count": 8,
   "metadata": {},
   "outputs": [
    {
     "data": {
      "text/plain": [
       "[(1, 2, 30),\n",
       " (1, 3, 50),\n",
       " (1, 3, 20),\n",
       " (2, 4, 25),\n",
       " (3, 2, 20),\n",
       " (3, 5, 40),\n",
       " (5, 7, 10)]"
      ]
     },
     "execution_count": 8,
     "metadata": {},
     "output_type": "execute_result"
    }
   ],
   "source": [
    "arr=[(1,3,50),(2,4,25),(5,7,10),(1,2,30),(3,5,40),(3,2,20),(1,3,20)]\n",
    "arr.sort(key=lambda x:(x[0],x[1]))\n",
    "arr"
   ]
  },
  {
   "cell_type": "code",
   "execution_count": 17,
   "metadata": {},
   "outputs": [
    {
     "name": "stdout",
     "output_type": "stream",
     "text": [
      "(1, 5, 8)\n",
      "(2, 4, 7)\n",
      "(3, 6, 9)\n"
     ]
    }
   ],
   "source": [
    "a=[2,1,3]\n",
    "b=[4,5,6]\n",
    "c=[7,8,9]\n",
    "d=zip(a,b,c)\n",
    "d=sorted(d,key=lambda x:x[0])\n",
    "for i in d:\n",
    "    print(i)"
   ]
  },
  {
   "cell_type": "code",
   "execution_count": null,
   "metadata": {},
   "outputs": [],
   "source": []
  }
 ],
 "metadata": {
  "interpreter": {
   "hash": "e26b106e6146fa3417b08aa501d422914abd065c08ced2fc57ef114abeab93c7"
  },
  "kernelspec": {
   "display_name": "Python 3.9.6 64-bit",
   "language": "python",
   "name": "python3"
  },
  "language_info": {
   "codemirror_mode": {
    "name": "ipython",
    "version": 3
   },
   "file_extension": ".py",
   "mimetype": "text/x-python",
   "name": "python",
   "nbconvert_exporter": "python",
   "pygments_lexer": "ipython3",
   "version": "3.9.6"
  },
  "orig_nbformat": 4
 },
 "nbformat": 4,
 "nbformat_minor": 2
}
