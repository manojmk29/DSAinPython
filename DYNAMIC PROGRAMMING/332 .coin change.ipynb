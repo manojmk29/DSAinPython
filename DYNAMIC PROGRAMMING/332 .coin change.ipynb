{
 "cells": [
  {
   "cell_type": "code",
   "execution_count": 53,
   "metadata": {},
   "outputs": [],
   "source": [
    "class Solution:\n",
    "    def coinChange(self, coins, amount: int) -> int:\n",
    "        dp=[-1 for i in range(amount+1)]\n",
    "        dp[0]=0\n",
    "        def helper(tot):\n",
    "            if(dp[tot]!=-1):\n",
    "                return(dp[tot])\n",
    "            if(tot==0):\n",
    "                return(0)\n",
    "            if(tot<0):\n",
    "                return(float(\"inf\"))\n",
    "            ret=float(\"inf\")\n",
    "            for i in coins:\n",
    "                if(i<=tot):\n",
    "                    ret=min(ret,1+helper(tot-i))\n",
    "            dp[tot]=ret\n",
    "            return(ret)\n",
    "        val=helper(amount)\n",
    "        return(val if val!=float(\"inf\") else -1)"
   ]
  },
  {
   "cell_type": "code",
   "execution_count": 29,
   "metadata": {},
   "outputs": [
    {
     "ename": "IndexError",
     "evalue": "list index out of range",
     "output_type": "error",
     "traceback": [
      "\u001b[1;31m---------------------------------------------------------------------------\u001b[0m",
      "\u001b[1;31mIndexError\u001b[0m                                Traceback (most recent call last)",
      "\u001b[1;32m~\\AppData\\Local\\Temp/ipykernel_8884/590003977.py\u001b[0m in \u001b[0;36m<module>\u001b[1;34m\u001b[0m\n\u001b[1;32m----> 1\u001b[1;33m \u001b[0mSolution\u001b[0m\u001b[1;33m(\u001b[0m\u001b[1;33m)\u001b[0m\u001b[1;33m.\u001b[0m\u001b[0mcoinChange\u001b[0m\u001b[1;33m(\u001b[0m\u001b[1;33m[\u001b[0m\u001b[1;36m1\u001b[0m\u001b[1;33m,\u001b[0m\u001b[1;36m2\u001b[0m\u001b[1;33m,\u001b[0m\u001b[1;36m5\u001b[0m\u001b[1;33m]\u001b[0m\u001b[1;33m,\u001b[0m\u001b[1;36m11\u001b[0m\u001b[1;33m)\u001b[0m\u001b[1;33m\u001b[0m\u001b[1;33m\u001b[0m\u001b[0m\n\u001b[0m",
      "\u001b[1;32m~\\AppData\\Local\\Temp/ipykernel_8884/2115448693.py\u001b[0m in \u001b[0;36mcoinChange\u001b[1;34m(self, coins, amount)\u001b[0m\n\u001b[0;32m     18\u001b[0m                     \u001b[0mtake\u001b[0m\u001b[1;33m=\u001b[0m\u001b[1;36m1\u001b[0m\u001b[1;33m+\u001b[0m\u001b[0mdp\u001b[0m\u001b[1;33m[\u001b[0m\u001b[0mind\u001b[0m\u001b[1;33m]\u001b[0m\u001b[1;33m[\u001b[0m\u001b[0mval\u001b[0m\u001b[1;33m-\u001b[0m\u001b[0mcoins\u001b[0m\u001b[1;33m[\u001b[0m\u001b[0mind\u001b[0m\u001b[1;33m]\u001b[0m\u001b[1;33m]\u001b[0m\u001b[1;33m\u001b[0m\u001b[1;33m\u001b[0m\u001b[0m\n\u001b[0;32m     19\u001b[0m                 \u001b[0mdp\u001b[0m\u001b[1;33m[\u001b[0m\u001b[0mind\u001b[0m\u001b[1;33m]\u001b[0m\u001b[1;33m[\u001b[0m\u001b[0mval\u001b[0m\u001b[1;33m]\u001b[0m\u001b[1;33m=\u001b[0m\u001b[0mmin\u001b[0m\u001b[1;33m(\u001b[0m\u001b[0mtake\u001b[0m\u001b[1;33m,\u001b[0m\u001b[0mnotake\u001b[0m\u001b[1;33m)\u001b[0m\u001b[1;33m\u001b[0m\u001b[1;33m\u001b[0m\u001b[0m\n\u001b[1;32m---> 20\u001b[1;33m         \u001b[0mval\u001b[0m\u001b[1;33m=\u001b[0m\u001b[0mdp\u001b[0m\u001b[1;33m[\u001b[0m\u001b[0mlen\u001b[0m\u001b[1;33m(\u001b[0m\u001b[0mcoins\u001b[0m\u001b[1;33m)\u001b[0m\u001b[1;33m-\u001b[0m\u001b[1;36m1\u001b[0m\u001b[1;33m]\u001b[0m\u001b[1;33m[\u001b[0m\u001b[0mamount\u001b[0m\u001b[1;33m+\u001b[0m\u001b[1;36m1\u001b[0m\u001b[1;33m]\u001b[0m\u001b[1;33m\u001b[0m\u001b[1;33m\u001b[0m\u001b[0m\n\u001b[0m\u001b[0;32m     21\u001b[0m         \u001b[1;32mreturn\u001b[0m\u001b[1;33m(\u001b[0m\u001b[0mval\u001b[0m \u001b[1;32mif\u001b[0m \u001b[0mval\u001b[0m\u001b[1;33m!=\u001b[0m\u001b[0mfloat\u001b[0m\u001b[1;33m(\u001b[0m\u001b[1;34m\"inf\"\u001b[0m\u001b[1;33m)\u001b[0m \u001b[1;32melse\u001b[0m \u001b[1;33m-\u001b[0m\u001b[1;36m1\u001b[0m\u001b[1;33m)\u001b[0m\u001b[1;33m\u001b[0m\u001b[1;33m\u001b[0m\u001b[0m\n",
      "\u001b[1;31mIndexError\u001b[0m: list index out of range"
     ]
    }
   ],
   "source": [
    "Solution().coinChange([1,2,5],11)"
   ]
  },
  {
   "cell_type": "code",
   "execution_count": 12,
   "metadata": {},
   "outputs": [
    {
     "data": {
      "text/plain": [
       "1e+33"
      ]
     },
     "execution_count": 12,
     "metadata": {},
     "output_type": "execute_result"
    }
   ],
   "source": [
    "\"\"\"\n",
    "Here we are using memo technique.\n",
    "\n",
    "\"\"\"\n",
    "class Solution:\n",
    "    def coinChange(self, coins, amount: int) -> int:\n",
    "        dp=[[-1 for i in range(amount+1)]for _ in range(len(coins))]\n",
    "        def helper(ind,tot):\n",
    "            if(ind==0):\n",
    "                if(tot%coins[0]==0):\n",
    "                    return(tot//coins[0])\n",
    "                else:\n",
    "                    return(float(\"inf\"))\n",
    "            if(dp[ind][tot]!=-1):\n",
    "                return(dp[ind][tot])\n",
    "            notake=helper(ind-1,tot)\n",
    "            take=float(\"inf\")\n",
    "            if(coins[ind]<=tot):\n",
    "                take=1+helper(ind,tot-coins[ind])\n",
    "            ret=min(notake,take)\n",
    "            dp[ind][tot]=ret\n",
    "            return(ret)\n",
    "        val=helper(len(coins)-1,amount)\n",
    "        return(val if val!=float(\"inf\") else -1)"
   ]
  },
  {
   "cell_type": "code",
   "execution_count": 37,
   "metadata": {},
   "outputs": [],
   "source": [
    "\"\"\"\n",
    "Here we are using memo technique.\n",
    "\n",
    "\"\"\"\n",
    "class Solution:\n",
    "    def coinChange(self, coins, amount: int) -> int:\n",
    "        n=len(coins)\n",
    "        dp=[[0 for i in range(amount+1)]for _ in range(n)]\n",
    "        for i in range(1,amount+1):\n",
    "            if(i%coins[0]==0):\n",
    "                dp[0][i]=i//coins[0]\n",
    "            else:\n",
    "                dp[0][i]=float(\"inf\")\n",
    "        for ind in range(1,len(coins)):\n",
    "            for val in range(1,amount+1):\n",
    "                notake=dp[ind-1][val]\n",
    "                take=float(\"inf\")\n",
    "                if(coins[ind]<=val):\n",
    "                    take=1+dp[ind][val-coins[ind]]\n",
    "                dp[ind][val]=min(take,notake)\n",
    "        print(dp)\n",
    "        val=dp[n-1][amount]\n",
    "        return(val if val!=float(\"inf\") else -1)"
   ]
  },
  {
   "cell_type": "code",
   "execution_count": 38,
   "metadata": {},
   "outputs": [
    {
     "name": "stdout",
     "output_type": "stream",
     "text": [
      "[[0, 1, 2, 3, 4, 5, 6, 7, 8, 9, 10, 11], [0, 1, 1, 2, 2, 3, 3, 4, 4, 5, 5, 6], [0, 1, 1, 2, 2, 1, 2, 2, 3, 3, 2, 3]]\n"
     ]
    },
    {
     "data": {
      "text/plain": [
       "3"
      ]
     },
     "execution_count": 38,
     "metadata": {},
     "output_type": "execute_result"
    }
   ],
   "source": [
    "Solution().coinChange([1,2,5],11)"
   ]
  },
  {
   "cell_type": "code",
   "execution_count": 22,
   "metadata": {},
   "outputs": [
    {
     "data": {
      "text/plain": [
       "inf"
      ]
     },
     "execution_count": 22,
     "metadata": {},
     "output_type": "execute_result"
    }
   ],
   "source": []
  },
  {
   "cell_type": "code",
   "execution_count": null,
   "metadata": {},
   "outputs": [],
   "source": []
  }
 ],
 "metadata": {
  "interpreter": {
   "hash": "11ad92808b9e536a1bda76e6f18576c204b1bdc67c9013f7331a2b858d211f20"
  },
  "kernelspec": {
   "display_name": "Python 3.9.6 64-bit",
   "language": "python",
   "name": "python3"
  },
  "language_info": {
   "codemirror_mode": {
    "name": "ipython",
    "version": 3
   },
   "file_extension": ".py",
   "mimetype": "text/x-python",
   "name": "python",
   "nbconvert_exporter": "python",
   "pygments_lexer": "ipython3",
   "version": "3.9.6"
  },
  "orig_nbformat": 4
 },
 "nbformat": 4,
 "nbformat_minor": 2
}
