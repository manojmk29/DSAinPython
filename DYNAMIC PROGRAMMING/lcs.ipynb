{
 "cells": [
  {
   "cell_type": "code",
   "execution_count": 3,
   "metadata": {},
   "outputs": [],
   "source": [
    "class Solution:\n",
    "    def longestCommonSubsequence(self, text1: str, text2: str) -> int:\n",
    "        m=len(text1)\n",
    "        n=len(text2)\n",
    "        dp=[[0 for i in range(n)]for i in range(m)]\n",
    "        dp[0][0]=int(text2[0]==text1[0])\n",
    "        for i in range(1,m):\n",
    "            if(text2[0]==text1[i]):\n",
    "                dp[i][0]=1\n",
    "            else:\n",
    "                dp[i][0]=dp[i-1][0]\n",
    "        for i in range(1,n):\n",
    "            if(text1[0]==text2[i]):\n",
    "                dp[0][i]=1\n",
    "            else:\n",
    "                dp[0][i]=dp[0][i-1]\n",
    "        for i in range(1,m):\n",
    "            for j in range(1,n):\n",
    "                if(text1[i]==text2[j]):\n",
    "                    dp[i][j]=1+dp[i-1][j-1]\n",
    "                else:\n",
    "                    dp[i][j]=max(dp[i-1][j],dp[i][j-1])\n",
    "        print(dp)\n",
    "        return(dp[m-1][n-1])"
   ]
  },
  {
   "cell_type": "code",
   "execution_count": 9,
   "metadata": {},
   "outputs": [],
   "source": [
    "class Solution:\n",
    "    def longestCommonSubsequence(self, text1: str, text2: str) -> int:\n",
    "        m=len(text1)\n",
    "        n=len(text2)\n",
    "        dp=[[0 for i in range(n)]for i in range(m)]\n",
    "        dp[0][0]=int(text2[0]==text1[0])\n",
    "        for i in range(1,m):\n",
    "            if(text2[0]==text1[i]):\n",
    "                dp[i][0]=1\n",
    "            else:\n",
    "                dp[i][0]=dp[i-1][0]\n",
    "        for i in range(1,n):\n",
    "            if(text1[0]==text2[i]):\n",
    "                dp[0][i]=1\n",
    "            else:\n",
    "                dp[0][i]=dp[0][i-1]\n",
    "        for i in range(1,m):\n",
    "            for j in range(1,n):\n",
    "                if(text1[i]==text2[j]):\n",
    "                    dp[i][j]=1+dp[i-1][j-1]\n",
    "                else:\n",
    "                    dp[i][j]=max(dp[i-1][j],dp[i][j-1])\n",
    "        print(dp)\n",
    "        return(dp[m-1][n-1])"
   ]
  },
  {
   "cell_type": "code",
   "execution_count": 25,
   "metadata": {},
   "outputs": [
    {
     "name": "stdout",
     "output_type": "stream",
     "text": [
      "\n",
      "0\n"
     ]
    }
   ],
   "source": [
    "Solution().longestCommonSubsequence(\"ab\",\"xyz\")"
   ]
  },
  {
   "cell_type": "code",
   "execution_count": 13,
   "metadata": {},
   "outputs": [],
   "source": [
    "# PRINITNG LONGEST COMMON SUBSEQUENCE"
   ]
  },
  {
   "cell_type": "code",
   "execution_count": 24,
   "metadata": {},
   "outputs": [],
   "source": [
    "class Solution:\n",
    "    def longestCommonSubsequence(self, text1: str, text2: str) -> int:\n",
    "        m=len(text1)\n",
    "        n=len(text2)\n",
    "        dp=[[0 for i in range(n+1)]for i in range(m+1)]\n",
    "        for i in range(1,m+1):\n",
    "            for j in range(1,n+1):\n",
    "                if(text1[i-1]==text2[j-1]):\n",
    "                    dp[i][j]=1+dp[i-1][j-1]\n",
    "                else:\n",
    "                    dp[i][j]=max(dp[i-1][j],dp[i][j-1])\n",
    "        ret=\"\"\n",
    "        i=m\n",
    "        j=n\n",
    "        while(i>0 or j>0):\n",
    "            if(text1[i-1]==text2[j-1]):\n",
    "                ret=text1[i-1]+ret\n",
    "            l=dp[i-1][j]\n",
    "            r=dp[i][j-1]\n",
    "            d=dp[i-1][j-1]\n",
    "            val=max(l,r,d)\n",
    "            if(val==d):\n",
    "                i-=1\n",
    "                j-=1\n",
    "            else:\n",
    "                if(l>r):\n",
    "                    i-=1\n",
    "                else:\n",
    "                    j-=1\n",
    "        print(ret)\n",
    "        print(len(ret))"
   ]
  },
  {
   "cell_type": "code",
   "execution_count": 11,
   "metadata": {},
   "outputs": [],
   "source": [
    "class Solution:\n",
    "    def longestCommonSubsequence(self, text1: str, text2: str) -> int:\n",
    "        m=len(text1)\n",
    "        n=len(text2)\n",
    "        dp=[[0 for i in range(n+1)]for i in range(m+1)]\n",
    "        for i in range(1,m+1):\n",
    "            for j in range(1,n+1):\n",
    "                if(text1[i-1]==text2[j-1]):\n",
    "                    dp[i][j]=1+dp[i-1][j-1]\n",
    "                else:\n",
    "                    dp[i][j]=max(dp[i-1][j],dp[i][j-1])\n",
    "        print(dp)\n",
    "        return(dp[m][n])"
   ]
  },
  {
   "cell_type": "code",
   "execution_count": 11,
   "metadata": {},
   "outputs": [],
   "source": [
    "class Solution:\n",
    "    def longestCommonSubsequence(self, text1: str, text2: str) -> int:\n",
    "        m=len(text1)\n",
    "        n=len(text2)\n",
    "        prev=[0 for i in range(n+1)]\n",
    "        for i in range(1,m+1):\n",
    "            cur=[0 for i in range(n+1)]\n",
    "            for j in range(1,n+1):\n",
    "                if(text1[i-1]==text2[j-1]):\n",
    "                    cur[j]=1+prev[j-1]\n",
    "                else:\n",
    "                    cur[j]=max(prev[j],cur[j-1])\n",
    "            prev=cur\n",
    "        return(prev[n])"
   ]
  },
  {
   "cell_type": "code",
   "execution_count": 12,
   "metadata": {},
   "outputs": [
    {
     "data": {
      "text/plain": [
       "5"
      ]
     },
     "execution_count": 12,
     "metadata": {},
     "output_type": "execute_result"
    }
   ],
   "source": [
    "Solution().longestCommonSubsequence(\"abcba\",\"abcbcba\")"
   ]
  },
  {
   "cell_type": "code",
   "execution_count": null,
   "metadata": {},
   "outputs": [],
   "source": [
    "class Solution {\n",
    "public:\n",
    "    int longestCommonSubsequence(string s1, string s2) {    \n",
    "    int n=s1.size();\n",
    "    int m=s2.size();\n",
    "    vector<int> prev(m+1,0), cur(m+1,0);\n",
    "    // Base Case is covered as we have initialized the prev and cur to 0.\n",
    "    for(int ind1=1;ind1<=n;ind1++){\n",
    "        for(int ind2=1;ind2<=m;ind2++){\n",
    "            if(s1[ind1-1]==s2[ind2-1])\n",
    "                cur[ind2] = 1 + prev[ind2-1];\n",
    "            else\n",
    "                cur[ind2] = 0 + max(prev[ind2],cur[ind2-1]);\n",
    "        }\n",
    "        prev= cur;\n",
    "    }\n",
    "    return prev[m];\n",
    "        \n",
    "    }\n",
    "};"
   ]
  },
  {
   "cell_type": "code",
   "execution_count": 13,
   "metadata": {},
   "outputs": [],
   "source": [
    "a=[1,2,3]\n",
    "b=a\n",
    "b[2]=99"
   ]
  },
  {
   "cell_type": "code",
   "execution_count": 16,
   "metadata": {},
   "outputs": [],
   "source": [
    "a=b=[1,2,3]"
   ]
  },
  {
   "cell_type": "code",
   "execution_count": 17,
   "metadata": {},
   "outputs": [],
   "source": [
    "a[2]=99"
   ]
  },
  {
   "cell_type": "code",
   "execution_count": 1,
   "metadata": {},
   "outputs": [],
   "source": [
    "a=[1,2,3]\n",
    "b=a\n",
    "b[2]=99"
   ]
  },
  {
   "cell_type": "code",
   "execution_count": 2,
   "metadata": {},
   "outputs": [
    {
     "data": {
      "text/plain": [
       "[1, 2, 99]"
      ]
     },
     "execution_count": 2,
     "metadata": {},
     "output_type": "execute_result"
    }
   ],
   "source": [
    "b"
   ]
  },
  {
   "cell_type": "code",
   "execution_count": 3,
   "metadata": {},
   "outputs": [
    {
     "data": {
      "text/plain": [
       "[1, 2, 99]"
      ]
     },
     "execution_count": 3,
     "metadata": {},
     "output_type": "execute_result"
    }
   ],
   "source": [
    "a"
   ]
  },
  {
   "cell_type": "code",
   "execution_count": 4,
   "metadata": {},
   "outputs": [
    {
     "data": {
      "text/plain": [
       "2.0115835511754865"
      ]
     },
     "execution_count": 4,
     "metadata": {},
     "output_type": "execute_result"
    }
   ],
   "source": [
    "from math import log\n",
    "log(702,26)"
   ]
  },
  {
   "cell_type": "code",
   "execution_count": 9,
   "metadata": {},
   "outputs": [
    {
     "data": {
      "text/plain": [
       "676"
      ]
     },
     "execution_count": 9,
     "metadata": {},
     "output_type": "execute_result"
    }
   ],
   "source": [
    "26**2"
   ]
  },
  {
   "cell_type": "code",
   "execution_count": 5,
   "metadata": {},
   "outputs": [
    {
     "name": "stdout",
     "output_type": "stream",
     "text": [
      "[1, 2, 99] [1, 2, 99]\n"
     ]
    }
   ],
   "source": [
    "a=[1,2,3]\n",
    "b=a\n",
    "b[2]=99\n",
    "print(a,b)"
   ]
  },
  {
   "cell_type": "code",
   "execution_count": 7,
   "metadata": {},
   "outputs": [],
   "source": [
    "a=[1,2,3]\n",
    "import copy\n",
    "b=copy.deepcopy(a)"
   ]
  },
  {
   "cell_type": "code",
   "execution_count": 20,
   "metadata": {},
   "outputs": [
    {
     "data": {
      "text/plain": [
       "[6, 7, 8]"
      ]
     },
     "execution_count": 20,
     "metadata": {},
     "output_type": "execute_result"
    }
   ],
   "source": [
    "def func(x):\n",
    "    return(x+5)\n",
    "a=[1,2,3]\n",
    "b=list(map(func,a))\n",
    "b"
   ]
  },
  {
   "cell_type": "code",
   "execution_count": 16,
   "metadata": {},
   "outputs": [
    {
     "name": "stdout",
     "output_type": "stream",
     "text": [
      "1\n",
      "2\n",
      "3\n"
     ]
    }
   ],
   "source": [
    "for i in b:\n",
    "    print(i)"
   ]
  },
  {
   "cell_type": "code",
   "execution_count": 22,
   "metadata": {},
   "outputs": [
    {
     "name": "stdout",
     "output_type": "stream",
     "text": [
      "(1, 5)\n",
      "(2, 6)\n",
      "(3, 7)\n",
      "(4, 8)\n"
     ]
    }
   ],
   "source": [
    "a=[1,2,3,4]\n",
    "b=[5,6,7,8]\n",
    "c=zip(a,b)\n",
    "for i in c:\n",
    "    print(i)"
   ]
  },
  {
   "cell_type": "code",
   "execution_count": 25,
   "metadata": {},
   "outputs": [
    {
     "data": {
      "text/plain": [
       "{('e', 'a'), ('g', 'd'), ('x', 'a')}"
      ]
     },
     "execution_count": 25,
     "metadata": {},
     "output_type": "execute_result"
    }
   ],
   "source": [
    "a=\"eggx\"\n",
    "b=\"adda\"\n",
    "c=set(zip(a,b))\n",
    "c"
   ]
  },
  {
   "cell_type": "code",
   "execution_count": 10,
   "metadata": {},
   "outputs": [
    {
     "data": {
      "text/plain": [
       "676"
      ]
     },
     "execution_count": 10,
     "metadata": {},
     "output_type": "execute_result"
    }
   ],
   "source": [
    "26*26"
   ]
  },
  {
   "cell_type": "code",
   "execution_count": 11,
   "metadata": {},
   "outputs": [
    {
     "data": {
      "text/plain": [
       "0"
      ]
     },
     "execution_count": 11,
     "metadata": {},
     "output_type": "execute_result"
    }
   ],
   "source": [
    "728%26"
   ]
  },
  {
   "cell_type": "code",
   "execution_count": 13,
   "metadata": {},
   "outputs": [
    {
     "data": {
      "text/plain": [
       "26"
      ]
     },
     "execution_count": 13,
     "metadata": {},
     "output_type": "execute_result"
    }
   ],
   "source": [
    "702%(26*26)"
   ]
  },
  {
   "cell_type": "code",
   "execution_count": 15,
   "metadata": {},
   "outputs": [
    {
     "data": {
      "text/plain": [
       "'A'"
      ]
     },
     "execution_count": 15,
     "metadata": {},
     "output_type": "execute_result"
    }
   ],
   "source": [
    "chr(65)"
   ]
  },
  {
   "cell_type": "code",
   "execution_count": 24,
   "metadata": {},
   "outputs": [],
   "source": [
    "class Solution:\n",
    "    def convertToTitle(self, cn: int):\n",
    "        ret=\"\"\n",
    "        t=26\n",
    "        while(cn):\n",
    "            v=cn%26\n",
    "            if v==0:\n",
    "                ret=\"Z\"+ret\n",
    "            else:\n",
    "                ret=chr(64+v)+ret\n",
    "            cn//=26\n",
    "            if cn==1:\n",
    "                break\n",
    "        return ret"
   ]
  },
  {
   "cell_type": "code",
   "execution_count": 27,
   "metadata": {},
   "outputs": [
    {
     "data": {
      "text/plain": [
       "'ZY'"
      ]
     },
     "execution_count": 27,
     "metadata": {},
     "output_type": "execute_result"
    }
   ],
   "source": [
    "Solution().convertToTitle(701)"
   ]
  },
  {
   "cell_type": "code",
   "execution_count": 52,
   "metadata": {},
   "outputs": [],
   "source": [
    "class Solution:\n",
    "    def convertToTitle(self, cn: int):\n",
    "        ret=\"\"\n",
    "        t=26\n",
    "        while(cn):\n",
    "            v=cn%t\n",
    "            if cn==26:\n",
    "                ret=\"Z\"+ret\n",
    "                break\n",
    "            if v==0:\n",
    "                cn-=1\n",
    "                ret=\"Z\"+ret\n",
    "            else:\n",
    "                ret=chr(64+v)+ret\n",
    "            cn//=26\n",
    "        return ret\n"
   ]
  },
  {
   "cell_type": "code",
   "execution_count": 53,
   "metadata": {},
   "outputs": [
    {
     "data": {
      "text/plain": [
       "'D'"
      ]
     },
     "execution_count": 53,
     "metadata": {},
     "output_type": "execute_result"
    }
   ],
   "source": [
    "Solution().convertToTitle(4)"
   ]
  },
  {
   "cell_type": "code",
   "execution_count": 38,
   "metadata": {},
   "outputs": [
    {
     "data": {
      "text/plain": [
       "'@'"
      ]
     },
     "execution_count": 38,
     "metadata": {},
     "output_type": "execute_result"
    }
   ],
   "source": [
    "chr(64)"
   ]
  }
 ],
 "metadata": {
  "kernelspec": {
   "display_name": "Python 3.9.6 64-bit",
   "language": "python",
   "name": "python3"
  },
  "language_info": {
   "codemirror_mode": {
    "name": "ipython",
    "version": 3
   },
   "file_extension": ".py",
   "mimetype": "text/x-python",
   "name": "python",
   "nbconvert_exporter": "python",
   "pygments_lexer": "ipython3",
   "version": "3.9.6"
  },
  "orig_nbformat": 4,
  "vscode": {
   "interpreter": {
    "hash": "e26b106e6146fa3417b08aa501d422914abd065c08ced2fc57ef114abeab93c7"
   }
  }
 },
 "nbformat": 4,
 "nbformat_minor": 2
}
