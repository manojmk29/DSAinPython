{
 "cells": [
  {
   "cell_type": "code",
   "execution_count": 1,
   "metadata": {},
   "outputs": [],
   "source": [
    "class Solution:\n",
    "    def longestCommonSubsequence(self, text1: str, text2: str) -> int:\n",
    "        m=len(text1)\n",
    "        n=len(text2)\n",
    "        dp=[[0 for i in range(n)]for i in range(m)]\n",
    "        dp[0][0]=int(text2[0]==text1[0])\n",
    "        for i in range(1,m):\n",
    "            if(text2[0]==text1[i]):\n",
    "                dp[i][0]=1\n",
    "            else:\n",
    "                dp[i][0]=dp[i-1][0]\n",
    "        for i in range(1,n):\n",
    "            if(text1[0]==text2[i]):\n",
    "                dp[0][i]=1\n",
    "            else:\n",
    "                dp[0][i]=dp[0][i-1]\n",
    "        for i in range(1,m):\n",
    "            for j in range(1,n):\n",
    "                if(text1[i]==text2[j]):\n",
    "                    dp[i][j]=1+dp[i-1][j-1]\n",
    "                else:\n",
    "                    dp[i][j]=max(dp[i-1][j],dp[i][j-1])\n",
    "        return(dp[m-1][n-1])"
   ]
  },
  {
   "cell_type": "code",
   "execution_count": 10,
   "metadata": {},
   "outputs": [],
   "source": [
    "class Solution:\n",
    "    def longestCommonSubsequence(self, text1: str, text2: str) -> int:\n",
    "        m=len(text1)\n",
    "        n=len(text2)\n",
    "        dp=[[0 for i in range(n)]for i in range(m)]\n",
    "        dp[0][0]=int(text2[0]==text1[0])\n",
    "        for i in range(1,m):\n",
    "            if(text2[0]==text1[i]):\n",
    "                dp[i][0]=1\n",
    "            else:\n",
    "                dp[i][0]=dp[i-1][0]\n",
    "        for i in range(1,n):\n",
    "            if(text1[0]==text2[i]):\n",
    "                dp[0][i]=1\n",
    "            else:\n",
    "                dp[0][i]=dp[0][i-1]\n",
    "        for i in range(1,m):\n",
    "            for j in range(1,n):\n",
    "                if(text1[i]==text2[j]):\n",
    "                    dp[i][j]=1+dp[i-1][j-1]\n",
    "                else:\n",
    "                    dp[i][j]=max(dp[i-1][j],dp[i][j-1])\n",
    "        return(dp[m-1][n-1])"
   ]
  },
  {
   "cell_type": "code",
   "execution_count": 11,
   "metadata": {},
   "outputs": [
    {
     "data": {
      "text/plain": [
       "3"
      ]
     },
     "execution_count": 11,
     "metadata": {},
     "output_type": "execute_result"
    }
   ],
   "source": [
    "Solution().longestCommonSubsequence(\"abcde\",\"ace\")"
   ]
  },
  {
   "cell_type": "code",
   "execution_count": 11,
   "metadata": {},
   "outputs": [],
   "source": [
    "class Solution:\n",
    "    def longestCommonSubsequence(self, text1: str, text2: str) -> int:\n",
    "        m=len(text1)\n",
    "        n=len(text2)\n",
    "        prev=[0 for i in range(n+1)]\n",
    "        for i in range(1,m+1):\n",
    "            cur=[0 for i in range(n+1)]\n",
    "            for j in range(1,n+1):\n",
    "                if(text1[i-1]==text2[j-1]):\n",
    "                    cur[j]=1+prev[j-1]\n",
    "                else:\n",
    "                    cur[j]=max(prev[j],cur[j-1])\n",
    "            prev=cur\n",
    "        return(prev[n])"
   ]
  },
  {
   "cell_type": "code",
   "execution_count": 12,
   "metadata": {},
   "outputs": [
    {
     "data": {
      "text/plain": [
       "5"
      ]
     },
     "execution_count": 12,
     "metadata": {},
     "output_type": "execute_result"
    }
   ],
   "source": [
    "Solution().longestCommonSubsequence(\"abcba\",\"abcbcba\")"
   ]
  },
  {
   "cell_type": "code",
   "execution_count": null,
   "metadata": {},
   "outputs": [],
   "source": [
    "# class Solution {\n",
    "# public:\n",
    "#     int longestCommonSubsequence(string s1, string s2) {    \n",
    "#     int n=s1.size();\n",
    "#     int m=s2.size();\n",
    "#     vector<int> prev(m+1,0), cur(m+1,0);\n",
    "#     // Base Case is covered as we have initialized the prev and cur to 0.\n",
    "#     for(int ind1=1;ind1<=n;ind1++){\n",
    "#         for(int ind2=1;ind2<=m;ind2++){\n",
    "#             if(s1[ind1-1]==s2[ind2-1])\n",
    "#                 cur[ind2] = 1 + prev[ind2-1];\n",
    "#             else\n",
    "#                 cur[ind2] = 0 + max(prev[ind2],cur[ind2-1]);\n",
    "#         }\n",
    "#         prev= cur;\n",
    "#     }\n",
    "    \n",
    "#     return prev[m];\n",
    "        \n",
    "#     }\n",
    "# };"
   ]
  },
  {
   "cell_type": "code",
   "execution_count": 13,
   "metadata": {},
   "outputs": [],
   "source": [
    "a=[1,2,3]\n",
    "b=a\n",
    "b[2]=99"
   ]
  },
  {
   "cell_type": "code",
   "execution_count": 16,
   "metadata": {},
   "outputs": [],
   "source": [
    "a=b=[1,2,3]"
   ]
  },
  {
   "cell_type": "code",
   "execution_count": 17,
   "metadata": {},
   "outputs": [],
   "source": [
    "a[2]=99"
   ]
  },
  {
   "cell_type": "code",
   "execution_count": 18,
   "metadata": {},
   "outputs": [
    {
     "data": {
      "text/plain": [
       "[1, 2, 99]"
      ]
     },
     "execution_count": 18,
     "metadata": {},
     "output_type": "execute_result"
    }
   ],
   "source": [
    "a"
   ]
  },
  {
   "cell_type": "code",
   "execution_count": 19,
   "metadata": {},
   "outputs": [
    {
     "data": {
      "text/plain": [
       "[1, 2, 99]"
      ]
     },
     "execution_count": 19,
     "metadata": {},
     "output_type": "execute_result"
    }
   ],
   "source": [
    "b"
   ]
  },
  {
   "cell_type": "code",
   "execution_count": null,
   "metadata": {},
   "outputs": [],
   "source": []
  }
 ],
 "metadata": {
  "interpreter": {
   "hash": "11ad92808b9e536a1bda76e6f18576c204b1bdc67c9013f7331a2b858d211f20"
  },
  "kernelspec": {
   "display_name": "Python 3.9.6 64-bit",
   "language": "python",
   "name": "python3"
  },
  "language_info": {
   "codemirror_mode": {
    "name": "ipython",
    "version": 3
   },
   "file_extension": ".py",
   "mimetype": "text/x-python",
   "name": "python",
   "nbconvert_exporter": "python",
   "pygments_lexer": "ipython3",
   "version": "3.9.6"
  },
  "orig_nbformat": 4
 },
 "nbformat": 4,
 "nbformat_minor": 2
}
