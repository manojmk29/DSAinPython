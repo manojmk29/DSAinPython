{
 "cells": [
  {
   "cell_type": "code",
   "execution_count": 50,
   "metadata": {},
   "outputs": [],
   "source": [
    "class Solution:\n",
    "    def lengthOfLIS(self,nums):\n",
    "        n=len(nums)\n",
    "        def helper(ind,prev):\n",
    "            if(ind==n):\n",
    "                return(0)\n",
    "            notake=helper(ind+1,prev)\n",
    "            take=0\n",
    "            if(prev==-1 or nums[ind]>nums[prev]):\n",
    "                take=1+helper(ind+1,ind)\n",
    "            ret=max(take,notake)\n",
    "            return(ret)\n",
    "        return(helper(0,-1))\n"
   ]
  },
  {
   "cell_type": "code",
   "execution_count": 51,
   "metadata": {},
   "outputs": [
    {
     "data": {
      "text/plain": [
       "4"
      ]
     },
     "execution_count": 51,
     "metadata": {},
     "output_type": "execute_result"
    }
   ],
   "source": [
    "Solution().lengthOfLIS([10,9,2,5,3,7,101,18])"
   ]
  },
  {
   "cell_type": "code",
   "execution_count": 56,
   "metadata": {},
   "outputs": [],
   "source": [
    "class Solution:\n",
    "    def lengthOfLIS(self,nums):\n",
    "        n=len(nums)\n",
    "        dp=[[0 for i in range(n+1)]for i in range(n+1)]\n",
    "        for ind in range(n-1,-1,-1):\n",
    "            for prev in range(ind-1,-2,-1):\n",
    "                notake=dp[ind+1][prev+1]\n",
    "                take=0\n",
    "                if(prev==-1 or nums[ind]>nums[prev]):\n",
    "                    take=1+dp[ind+1][ind+1]\n",
    "                ret=max(take,notake)\n",
    "                dp[ind][prev+1]=ret\n",
    "        return(dp[0][0])"
   ]
  },
  {
   "cell_type": "code",
   "execution_count": 65,
   "metadata": {},
   "outputs": [
    {
     "data": {
      "text/plain": [
       "4"
      ]
     },
     "execution_count": 65,
     "metadata": {},
     "output_type": "execute_result"
    }
   ],
   "source": [
    "Solution().lengthOfLIS([10,9,2,5,3,7,101,18])"
   ]
  },
  {
   "cell_type": "code",
   "execution_count": 58,
   "metadata": {},
   "outputs": [],
   "source": [
    "class Solution:\n",
    "    def lengthOfLIS(self,nums):\n",
    "        n=len(nums)\n",
    "        dp=[0 for i in range(n+1)]\n",
    "        for ind in range(n-1,-1,-1):\n",
    "            temp=[0 for i in range(n+1)]\n",
    "            for prev in range(ind-1,-2,-1):\n",
    "                notake=dp[prev+1]\n",
    "                take=0\n",
    "                if(prev==-1 or nums[ind]>nums[prev]):\n",
    "                    take=1+dp[ind+1]\n",
    "                ret=max(take,notake)\n",
    "                temp[prev+1]=ret\n",
    "            dp=temp\n",
    "        return(dp[0])"
   ]
  },
  {
   "cell_type": "code",
   "execution_count": 62,
   "metadata": {},
   "outputs": [],
   "source": [
    "class Solution:\n",
    "    def lengthOfLIS(self,nums):\n",
    "        n=len(nums)\n",
    "        dp=[1 for i in range(n)]\n",
    "        for ind in range(1,n):\n",
    "            for prev in range(ind):\n",
    "                if(nums[prev]<nums[ind]):\n",
    "                    dp[ind]=max(dp[ind],dp[prev]+1)\n",
    "        ret=max(dp)\n",
    "        return(ret)\n",
    "                        "
   ]
  },
  {
   "cell_type": "code",
   "execution_count": 66,
   "metadata": {},
   "outputs": [],
   "source": [
    "#binary search\n",
    "import bisect\n",
    "class Solution:\n",
    "    def lengthOfLIS(self,nums):\n",
    "        arr=[]\n",
    "        n=len(nums)\n",
    "        for ind in range(n):\n",
    "            val=bisect.bisect_left(arr,nums[ind])\n",
    "            if(val==len(arr)):\n",
    "                arr.append(nums[ind])\n",
    "            else:\n",
    "                arr[val]=nums[ind]\n",
    "        return(len(arr))                   "
   ]
  },
  {
   "cell_type": "code",
   "execution_count": null,
   "metadata": {},
   "outputs": [],
   "source": []
  }
 ],
 "metadata": {
  "interpreter": {
   "hash": "e26b106e6146fa3417b08aa501d422914abd065c08ced2fc57ef114abeab93c7"
  },
  "kernelspec": {
   "display_name": "Python 3.9.6 64-bit",
   "language": "python",
   "name": "python3"
  },
  "language_info": {
   "codemirror_mode": {
    "name": "ipython",
    "version": 3
   },
   "file_extension": ".py",
   "mimetype": "text/x-python",
   "name": "python",
   "nbconvert_exporter": "python",
   "pygments_lexer": "ipython3",
   "version": "3.9.6"
  },
  "orig_nbformat": 4
 },
 "nbformat": 4,
 "nbformat_minor": 2
}
