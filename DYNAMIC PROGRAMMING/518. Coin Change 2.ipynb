{
 "cells": [
  {
   "cell_type": "code",
   "execution_count": 1,
   "metadata": {},
   "outputs": [],
   "source": [
    "\"\"\"\n",
    "Here we are using memo technique.\n",
    "\n",
    "\"\"\"\n",
    "from functools import lru_cache\n",
    "class Solution:\n",
    "    def change(self, amount: int, coins) -> int:\n",
    "        dp=[[-1 for i in range(amount+1)]for _ in range(len(coins))]\n",
    "        @lru_cache(None)\n",
    "        def helper(ind,tot):\n",
    "            if(ind==0):\n",
    "                if(tot%coins[0]==0):\n",
    "                    return(1)\n",
    "                else:\n",
    "                    return(0)\n",
    "            if(dp[ind][tot]!=-1):\n",
    "                return(dp[ind][tot])\n",
    "            notake=helper(ind-1,tot)\n",
    "            take=0\n",
    "            if(coins[ind]<=tot):\n",
    "                take=helper(ind,tot-coins[ind])\n",
    "            ret=notake+take\n",
    "            dp[ind][tot]=ret\n",
    "            return(ret)\n",
    "        val=helper(len(coins)-1,amount)\n",
    "        return(val)"
   ]
  },
  {
   "cell_type": "code",
   "execution_count": 5,
   "metadata": {},
   "outputs": [],
   "source": [
    "\"\"\"\n",
    "Here we are using memo technique.\n",
    "\n",
    "\"\"\"\n",
    "class Solution:\n",
    "    def change(self, amount: int, coins) -> int:\n",
    "        n=len(coins)\n",
    "        dp=[[0 for i in range(amount+1)]for i in range(n)]\n",
    "        for i in range(0,amount+1):\n",
    "            if(i%coins[0]==0):\n",
    "                dp[0][i]=1\n",
    "            else:\n",
    "                dp[0][i]=0\n",
    "        for ind in range(1,len(coins)):\n",
    "            for val in range(0,amount+1):\n",
    "                notake=dp[ind-1][val]\n",
    "                take=0\n",
    "                if(coins[ind]<=val):\n",
    "                    take=dp[ind][val-coins[ind]]\n",
    "                dp[ind][val]=take + notake\n",
    "        val=dp[n-1][amount]\n",
    "        return(val)"
   ]
  },
  {
   "cell_type": "code",
   "execution_count": 6,
   "metadata": {},
   "outputs": [
    {
     "data": {
      "text/plain": [
       "3"
      ]
     },
     "execution_count": 6,
     "metadata": {},
     "output_type": "execute_result"
    }
   ],
   "source": [
    "Solution().change(5,[1,2,5])"
   ]
  },
  {
   "cell_type": "code",
   "execution_count": null,
   "metadata": {},
   "outputs": [],
   "source": []
  }
 ],
 "metadata": {
  "interpreter": {
   "hash": "11ad92808b9e536a1bda76e6f18576c204b1bdc67c9013f7331a2b858d211f20"
  },
  "kernelspec": {
   "display_name": "Python 3.9.6 64-bit",
   "language": "python",
   "name": "python3"
  },
  "language_info": {
   "codemirror_mode": {
    "name": "ipython",
    "version": 3
   },
   "file_extension": ".py",
   "mimetype": "text/x-python",
   "name": "python",
   "nbconvert_exporter": "python",
   "pygments_lexer": "ipython3",
   "version": "3.9.6"
  },
  "orig_nbformat": 4
 },
 "nbformat": 4,
 "nbformat_minor": 2
}
