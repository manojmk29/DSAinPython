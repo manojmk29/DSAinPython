{
 "cells": [
  {
   "cell_type": "code",
   "execution_count": 29,
   "metadata": {},
   "outputs": [],
   "source": [
    "def maximumChocolates(r:int , c:int ,grid: list[list[int]]) -> int:\n",
    "    dp=[[[-1 for i in range(c)]for i in range(c)]for i in range(r)]\n",
    "    def helper(i1,j1,j2):\n",
    "        if(i1>=r or j1<0 or j1>=c or j2<0 or j2>=c):\n",
    "            return 0\n",
    "        if(dp[i1][j1][j2]!=-1):\n",
    "            return(dp[i1][j1][j2])\n",
    "        maxval=0\n",
    "        for i in range(-1,2):\n",
    "            for j in range(-1,2):\n",
    "                if(j1==j2):\n",
    "                    maxval=max(maxval,grid[i1][j1]+helper(i1+1,j1+i,j2+j))\n",
    "                else:\n",
    "                    maxval=max(maxval,grid[i1][j2]+grid[i1][j1]+helper(i1+1,j1+i,j2+j))\n",
    "        dp[i1][j1][j2]=maxval\n",
    "        return(maxval)\n",
    "    return(helper(0,0,c-1))    "
   ]
  },
  {
   "cell_type": "code",
   "execution_count": 10,
   "metadata": {},
   "outputs": [],
   "source": [
    "def maximumChocolates(r:int , c:int ,grid: list[list[int]]) -> int:\n",
    "    m=len(grid)\n",
    "    n=len(grid[0])\n",
    "    def helper(i1,j1,j2):\n",
    "        if(i1>=m or j1<0 or j1>=n or j2<0 or j2>=n):\n",
    "            return 0\n",
    "        maxval=0\n",
    "        for i in range(-1,2):\n",
    "            for j in range(-1,2):\n",
    "                if(j1==j2):\n",
    "                    maxval=max(maxval,grid[i1][j1]+helper(i1+1,j1+i,j2+j))\n",
    "                else:\n",
    "                    maxval=max(maxval,grid[i1][j2]+grid[i1][j1]+helper(i1+1,j1+i,j2+j))\n",
    "        return(maxval)\n",
    "    return(helper(0,0,n-1))    "
   ]
  },
  {
   "cell_type": "code",
   "execution_count": 30,
   "metadata": {},
   "outputs": [
    {
     "data": {
      "text/plain": [
       "21"
      ]
     },
     "execution_count": 30,
     "metadata": {},
     "output_type": "execute_result"
    }
   ],
   "source": [
    "arr=[[2, 3, 1, 2], [3, 4, 2, 2], [5, 6, 3, 5]]\n",
    "maximumChocolates(3,4,arr)"
   ]
  },
  {
   "cell_type": "code",
   "execution_count": 5,
   "metadata": {},
   "outputs": [
    {
     "data": {
      "text/plain": [
       "(3, 4, [[2, 3, 1, 2], [3, 4, 2, 2], [5, 6, 3, 5]])"
      ]
     },
     "execution_count": 5,
     "metadata": {},
     "output_type": "execute_result"
    }
   ],
   "source": [
    "arr=[[2, 3, 1, 2], [3, 4, 2, 2], [5, 6, 3, 5]]\n",
    "m=len(arr)\n",
    "n=len(arr[0])"
   ]
  },
  {
   "cell_type": "code",
   "execution_count": 6,
   "metadata": {},
   "outputs": [
    {
     "name": "stdout",
     "output_type": "stream",
     "text": [
      "-1 -1\n",
      "-1 0\n",
      "-1 1\n",
      "0 -1\n",
      "0 0\n",
      "0 1\n",
      "1 -1\n",
      "1 0\n",
      "1 1\n"
     ]
    }
   ],
   "source": [
    "for i in range(-1,2):\n",
    "    for j in range(-1,2):\n",
    "        print(i,j)"
   ]
  },
  {
   "cell_type": "code",
   "execution_count": 16,
   "metadata": {},
   "outputs": [
    {
     "data": {
      "text/plain": [
       "-1e+34"
      ]
     },
     "execution_count": 16,
     "metadata": {},
     "output_type": "execute_result"
    }
   ],
   "source": [
    "-1e34"
   ]
  },
  {
   "cell_type": "code",
   "execution_count": 17,
   "metadata": {},
   "outputs": [
    {
     "data": {
      "text/plain": [
       "[[[0, 5, 10], [0, 5, 10], [0, 5, 10]],\n",
       " [[0, 5, 10], [0, 5, 10], [0, 5, 10]],\n",
       " [[0, 5, 10], [0, 5, 10], [0, 5, 10]]]"
      ]
     },
     "execution_count": 17,
     "metadata": {},
     "output_type": "execute_result"
    }
   ],
   "source": [
    "a=[[[i*5 for i in range(3)]for i in range(3)]for i in range(3)]\n",
    "a"
   ]
  },
  {
   "cell_type": "code",
   "execution_count": 22,
   "metadata": {},
   "outputs": [
    {
     "name": "stdout",
     "output_type": "stream",
     "text": [
      "[[0, 5, 10], [0, 5, 10], [0, 5, 10]]\n",
      "[[0, 5, 10], [0, 5, 10], [0, 5, 10]]\n",
      "[[0, 5, 10], [0, 5, 10], [0, 5, 10]]\n"
     ]
    }
   ],
   "source": [
    "for i in range(3):\n",
    "    print(a[i])"
   ]
  },
  {
   "cell_type": "code",
   "execution_count": 24,
   "metadata": {},
   "outputs": [
    {
     "data": {
      "text/plain": [
       "(9, 9)"
      ]
     },
     "execution_count": 24,
     "metadata": {},
     "output_type": "execute_result"
    }
   ],
   "source": [
    "a=[1,2,4]\n",
    "b=a[0]=9\n",
    "b,a[0]"
   ]
  },
  {
   "cell_type": "code",
   "execution_count": 20,
   "metadata": {},
   "outputs": [
    {
     "name": "stdout",
     "output_type": "stream",
     "text": [
      "[0, 5, 10]\n",
      "[0, 5, 10]\n",
      "[0, 5, 10]\n",
      "[0, 5, 10]\n",
      "[0, 5, 10]\n",
      "[0, 5, 10]\n",
      "[0, 5, 10]\n",
      "[0, 5, 10]\n",
      "[0, 5, 10]\n"
     ]
    }
   ],
   "source": [
    "for i in range(3):\n",
    "    for j in range(3):\n",
    "        print(a[i][j])"
   ]
  }
 ],
 "metadata": {
  "interpreter": {
   "hash": "11ad92808b9e536a1bda76e6f18576c204b1bdc67c9013f7331a2b858d211f20"
  },
  "kernelspec": {
   "display_name": "Python 3.9.6 64-bit",
   "language": "python",
   "name": "python3"
  },
  "language_info": {
   "codemirror_mode": {
    "name": "ipython",
    "version": 3
   },
   "file_extension": ".py",
   "mimetype": "text/x-python",
   "name": "python",
   "nbconvert_exporter": "python",
   "pygments_lexer": "ipython3",
   "version": "3.9.6"
  },
  "orig_nbformat": 4
 },
 "nbformat": 4,
 "nbformat_minor": 2
}
