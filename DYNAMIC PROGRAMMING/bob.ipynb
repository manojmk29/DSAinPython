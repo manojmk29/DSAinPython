{
 "cells": [
  {
   "cell_type": "code",
   "execution_count": 7,
   "metadata": {},
   "outputs": [],
   "source": [
    "from functools import lru_cache\n",
    "def solution(n,k):\n",
    "    @lru_cache()\n",
    "    def helper(ind,j):\n",
    "        if ind>=n:\n",
    "            return 1\n",
    "        ret=0\n",
    "        for i in range(1,3):\n",
    "            ret+=helper(ind+i,j) \n",
    "            if ind+i>=n:\n",
    "                break\n",
    "        if j and ind+3<=n:\n",
    "            ret+=helper(ind+3,j-1)\n",
    "        return ret\n",
    "    return helper(0,k)"
   ]
  },
  {
   "cell_type": "code",
   "execution_count": 13,
   "metadata": {},
   "outputs": [
    {
     "data": {
      "text/plain": [
       "44"
      ]
     },
     "execution_count": 13,
     "metadata": {},
     "output_type": "execute_result"
    }
   ],
   "source": [
    "solution(7,3)"
   ]
  },
  {
   "cell_type": "code",
   "execution_count": 1,
   "metadata": {},
   "outputs": [
    {
     "data": {
      "text/plain": [
       "5"
      ]
     },
     "execution_count": 1,
     "metadata": {},
     "output_type": "execute_result"
    }
   ],
   "source": [
    "a=5\n",
    "a"
   ]
  },
  {
   "cell_type": "code",
   "execution_count": 16,
   "metadata": {},
   "outputs": [],
   "source": [
    "def solve(n,cur,des):\n",
    "    f=[[0,0] for i in range(n)]\n",
    "    t=-1\n",
    "    for i in range(n):\n",
    "        if cur[i]==-1:\n",
    "            t=i\n",
    "        f[i][0]=t\n",
    "    t=n\n",
    "    for i in range(n-1,-1,-1):\n",
    "        if cur[i]==-1:\n",
    "            t=i\n",
    "        f[i][1]=t\n",
    "    ret=0\n",
    "    hmap={}\n",
    "    for i in range(n):\n",
    "        val=cur[i]\n",
    "        if val!=-1 and val!=0:\n",
    "            hmap[val]=[i,0]\n",
    "    for i in range(n):\n",
    "        val=des[i]\n",
    "        if val!=-1 and val!=0:\n",
    "            hmap[val][1]=i\n",
    "    for i in hmap:\n",
    "        a=hmap[i][0]\n",
    "        b=hmap[i][1]\n",
    "        if a<b:\n",
    "            if f[a][1]>b and f[b][0]<a:\n",
    "                ret+=(b-a)\n",
    "            else:\n",
    "                return(-1)\n",
    "        elif a>b:\n",
    "            if f[a][0]<b and f[b][1]>a :\n",
    "                ret+=(a-b)\n",
    "            else:\n",
    "                return(-1)\n",
    "    return ret"
   ]
  },
  {
   "cell_type": "code",
   "execution_count": 18,
   "metadata": {},
   "outputs": [
    {
     "data": {
      "text/plain": [
       "2"
      ]
     },
     "execution_count": 18,
     "metadata": {},
     "output_type": "execute_result"
    }
   ],
   "source": [
    "solve(4,[0,1,2,0],[1,2,0,0])"
   ]
  },
  {
   "cell_type": "code",
   "execution_count": 19,
   "metadata": {},
   "outputs": [
    {
     "data": {
      "text/plain": [
       "1"
      ]
     },
     "execution_count": 19,
     "metadata": {},
     "output_type": "execute_result"
    }
   ],
   "source": [
    "solve(4,[-1,1,0,2],[-1,0,1,2])"
   ]
  },
  {
   "cell_type": "code",
   "execution_count": null,
   "metadata": {},
   "outputs": [],
   "source": []
  },
  {
   "cell_type": "code",
   "execution_count": null,
   "metadata": {},
   "outputs": [],
   "source": []
  },
  {
   "cell_type": "code",
   "execution_count": null,
   "metadata": {},
   "outputs": [],
   "source": []
  },
  {
   "cell_type": "code",
   "execution_count": 26,
   "metadata": {},
   "outputs": [],
   "source": [
    "def solve(n,m,arr):\n",
    "    hset=set()\n",
    "    mt=-float(\"inf\")\n",
    "    for t in arr:\n",
    "        for i in t:\n",
    "            mt=max(mt,i)\n",
    "            hset.add(i)\n",
    "    for i in range(1,mt+2):\n",
    "        if i not in hset:\n",
    "            imp=i\n",
    "            break\n",
    "    cnt=0\n",
    "    temp=[i for i in range(1,imp)]\n",
    "    for t in arr:\n",
    "        s=set(t)\n",
    "        for i in range(1,imp):\n",
    "            if i not in s:\n",
    "                cnt+=1\n",
    "    return cnt\n"
   ]
  },
  {
   "cell_type": "code",
   "execution_count": 28,
   "metadata": {},
   "outputs": [
    {
     "data": {
      "text/plain": [
       "6"
      ]
     },
     "execution_count": 28,
     "metadata": {},
     "output_type": "execute_result"
    }
   ],
   "source": [
    "solve(2,4,[[2,3,5,7],[1,4,5,6]])"
   ]
  },
  {
   "cell_type": "code",
   "execution_count": 6,
   "metadata": {},
   "outputs": [],
   "source": [
    "def solve(n,x,a):\n",
    "    def helper(ind,tot,cnt):\n",
    "        if ind==n:\n",
    "            for i in range(cnt,-cnt-1,-1):\n",
    "                val=tot+i\n",
    "                if (val%x==0):\n",
    "                    return(tot)\n",
    "            return(-float(\"inf\"))\n",
    "        l=helper(ind+1,tot+a[ind],cnt+1)\n",
    "        r=helper(ind+1,tot,cnt)\n",
    "        return max(l,r)\n",
    "    return(helper(0,0,0))       "
   ]
  },
  {
   "cell_type": "code",
   "execution_count": 7,
   "metadata": {},
   "outputs": [
    {
     "data": {
      "text/plain": [
       "21"
      ]
     },
     "execution_count": 7,
     "metadata": {},
     "output_type": "execute_result"
    }
   ],
   "source": [
    "solve(5,4,[4,8,6,2,1])"
   ]
  },
  {
   "cell_type": "code",
   "execution_count": null,
   "metadata": {},
   "outputs": [],
   "source": []
  },
  {
   "cell_type": "code",
   "execution_count": 1,
   "metadata": {},
   "outputs": [],
   "source": [
    "def count_triplets(n,a,b):\n",
    "    ret=[0 for i in range(b)]\n",
    "    a=sorted(a)\n",
    "    i=0\n",
    "    while(i<n-2):\n",
    "        j=i+1\n",
    "        while(j<n-1):\n",
    "            k=j+1\n",
    "            while(k<n):\n",
    "                tot=a[i]+a[j]+a[k]\n",
    "                u=tot%b\n",
    "                ret[u]+=1\n",
    "                while(k+1<n-1 and a[k]==a[k+1]):\n",
    "                    k+=1\n",
    "                k+=1\n",
    "            while(j+1<n-1 and a[j]==a[j+1]):\n",
    "                    j+=1\n",
    "            j+=1\n",
    "        while(i+1<n and a[i]==a[i+1]):\n",
    "            i+=1\n",
    "        i+=1\n",
    "    r=\"\"\n",
    "    for i in range(b):\n",
    "        r+=str(ret[i])\n",
    "    return(r)\n"
   ]
  },
  {
   "cell_type": "code",
   "execution_count": 2,
   "metadata": {},
   "outputs": [
    {
     "data": {
      "text/plain": [
       "'21000'"
      ]
     },
     "execution_count": 2,
     "metadata": {},
     "output_type": "execute_result"
    }
   ],
   "source": [
    "count_triplets(4,[4,8,9,8],5)"
   ]
  },
  {
   "cell_type": "code",
   "execution_count": null,
   "metadata": {},
   "outputs": [],
   "source": []
  }
 ],
 "metadata": {
  "kernelspec": {
   "display_name": "Python 3.8.8 ('base')",
   "language": "python",
   "name": "python3"
  },
  "language_info": {
   "codemirror_mode": {
    "name": "ipython",
    "version": 3
   },
   "file_extension": ".py",
   "mimetype": "text/x-python",
   "name": "python",
   "nbconvert_exporter": "python",
   "pygments_lexer": "ipython3",
   "version": "3.8.8"
  },
  "orig_nbformat": 4,
  "vscode": {
   "interpreter": {
    "hash": "d9cc69b5f664fa3eb3515eec0e05ee3f294adcdd5e8b7da54b1fda47448d6d50"
   }
  }
 },
 "nbformat": 4,
 "nbformat_minor": 2
}
