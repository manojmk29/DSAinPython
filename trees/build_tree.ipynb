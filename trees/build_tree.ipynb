{
 "cells": [
  {
   "cell_type": "code",
   "execution_count": 59,
   "metadata": {},
   "outputs": [],
   "source": [
    "class Node:\n",
    "    def __init__(self, val):\n",
    "        self.right = None\n",
    "        self.val = val\n",
    "        self.left = None"
   ]
  },
  {
   "cell_type": "code",
   "execution_count": 60,
   "metadata": {},
   "outputs": [],
   "source": [
    "from collections import deque\n",
    "def buildTree(s):\n",
    "    #Corner Case\n",
    "    if(len(s)==0 or s[0]==\"N\"):           \n",
    "        return None\n",
    "        \n",
    "    # Creating list of strings from input \n",
    "    # string after spliting by space\n",
    "    ip=list(map(str,s.split()))\n",
    "    \n",
    "    # Create the root of the tree\n",
    "    root=Node(int(ip[0]))                     \n",
    "    size=0\n",
    "    q=deque()\n",
    "    \n",
    "    # Push the root to the queue\n",
    "    q.append(root)                            \n",
    "    size=size+1 \n",
    "    \n",
    "    # Starting from the second element\n",
    "    i=1                                       \n",
    "    while(size>0 and i<len(ip)):\n",
    "        # Get and remove the front of the queue\n",
    "        currNode=q[0]\n",
    "        q.popleft()\n",
    "        size=size-1\n",
    "        \n",
    "        # Get the current node's value from the string\n",
    "        currVal=ip[i]\n",
    "        \n",
    "        # If the left child is not null\n",
    "        if(currVal!=\"N\"):\n",
    "            \n",
    "            # Create the left child for the current node\n",
    "            currNode.left=Node(int(currVal))\n",
    "            \n",
    "            # Push it to the queue\n",
    "            q.append(currNode.left)\n",
    "            size=size+1\n",
    "        # For the right child\n",
    "        i=i+1\n",
    "        if(i>=len(ip)):\n",
    "            break\n",
    "        currVal=ip[i]\n",
    "        \n",
    "        # If the right child is not null\n",
    "        if(currVal!=\"N\"):\n",
    "            \n",
    "            # Create the right child for the current node\n",
    "            currNode.right=Node(int(currVal))\n",
    "            \n",
    "            # Push it to the queue\n",
    "            q.append(currNode.right)\n",
    "            size=size+1\n",
    "        i=i+1\n",
    "    return root\n",
    "    "
   ]
  },
  {
   "cell_type": "code",
   "execution_count": 25,
   "metadata": {},
   "outputs": [
    {
     "data": {
      "text/plain": [
       "'4 8 N 6 1 9 N -5 4 N N N -3 N 10 '"
      ]
     },
     "execution_count": 25,
     "metadata": {},
     "output_type": "execute_result"
    }
   ],
   "source": [
    "def array_to_string(arr):\n",
    "    s=\"\"\n",
    "    for i in arr:\n",
    "        if(i==None):\n",
    "            s+=\"N \"\n",
    "        else:\n",
    "            s+=str(i)\n",
    "            s+=\" \"\n",
    "    return(s)\n",
    "null=None\n",
    "ret=array_to_string([4,8,null,6,1,9,null,-5,4,null,null,null,-3,null,10])\n",
    "ret"
   ]
  },
  {
   "cell_type": "code",
   "execution_count": 26,
   "metadata": {},
   "outputs": [],
   "source": [
    "# Definition for a binary tree node.\n",
    "class TreeNode(object):\n",
    "    def __init__(self, val=0, left=None, right=None):\n",
    "        self.data = val\n",
    "        self.left = left\n",
    "        self.right = right\n",
    "class Solution(object):\n",
    "    def maxSumBST(self, root):\n",
    "        \"\"\"\n",
    "        :type root: TreeNode\n",
    "        :rtype: int\n",
    "        \"\"\"\n",
    "        self.ret=0\n",
    "        def helper(root):\n",
    "            if (not root):\n",
    "                return(0,float(\"inf\"))    \n",
    "            left=helper(root.left)\n",
    "            right=helper(root.right)\n",
    "            if(not left or not right or left[1]>=root.val or right[1]<=root.val):\n",
    "                return(False)\n",
    "            tot=root.val+left[0]+right[0]\n",
    "            self.ret=max(self.ret,tot)\n",
    "            return(tot,max(left[1],right[1],root.val))\n",
    "        helper(root)\n",
    "        return(self.ret)"
   ]
  },
  {
   "cell_type": "code",
   "execution_count": null,
   "metadata": {},
   "outputs": [],
   "source": [
    "# Definition for a binary tree node.\n",
    "class TreeNode(object):\n",
    "    def __init__(self, val=0, left=None, right=None):\n",
    "        self.val = val\n",
    "        self.left = left\n",
    "        self.right = right\n",
    "class Solution(object):\n",
    "    def maxSumBST(self, root):\n",
    "        \"\"\"\n",
    "        :type root: TreeNode\n",
    "        :rtype: int\n",
    "        \"\"\"\n",
    "        self.ret=0\n",
    "        def helper(root):\n",
    "            if (not root):\n",
    "                return(0,float(\"inf\"))    \n",
    "            left=helper(root.left)\n",
    "            right=helper(root.right)\n",
    "            if(not left or not right or left[1]>=root.val or right[1]<=root.val):\n",
    "                return(False)\n",
    "            tot=root.val+left[0]+right[0]\n",
    "            self.ret=max(self.ret,tot)\n",
    "            return(tot,max(left[1],right[1],root.val))\n",
    "        helper(root)\n",
    "        return(self.ret)"
   ]
  },
  {
   "cell_type": "code",
   "execution_count": 79,
   "metadata": {},
   "outputs": [],
   "source": [
    "root=buildTree(\"1 2 3 N N 4 5\")"
   ]
  },
  {
   "cell_type": "code",
   "execution_count": 111,
   "metadata": {},
   "outputs": [],
   "source": [
    "# Definition for a binary tree node.\n",
    "# class TreeNode(object):\n",
    "#     def __init__(self, x):\n",
    "#         self.val = x\n",
    "#         self.left = None\n",
    "#         self.right = None\n",
    "import collections\n",
    "class Codec:\n",
    "\n",
    "    def serialize(self, root):\n",
    "        \"\"\"Encodes a tree to a single string.\n",
    "        \n",
    "        :type root: TreeNode\n",
    "        :rtype: str\n",
    "        \"\"\"\n",
    "        stack=collections.deque()\n",
    "        if(root):\n",
    "            stack.append(root)\n",
    "        ret=\"\"\n",
    "        cnt=0\n",
    "        ind=-1\n",
    "        col=0\n",
    "        flag=1\n",
    "        while(stack):\n",
    "            p=stack.popleft()\n",
    "            if(cnt==col):\n",
    "                if(flag==0):\n",
    "                    break\n",
    "                else:\n",
    "                    ind=ind+1\n",
    "                    col=pow(2,ind)\n",
    "                    cnt=0\n",
    "                    flag=0\n",
    "            cnt+=1\n",
    "            if(p.val!=1111):\n",
    "                ret+=\"{} \".format(p.val)\n",
    "            else:\n",
    "                ret+=\"N \"\n",
    "            if(p.left):\n",
    "                flag=1\n",
    "                stack.append(p.left)\n",
    "            else:\n",
    "                stack.append(TreeNode(1111))\n",
    "            if(p.right):\n",
    "                flag=1\n",
    "                stack.append(p.right)\n",
    "            else:\n",
    "                stack.append(TreeNode(1111))\n",
    "        return(ret)\n",
    "    def deserialize(self, data):\n",
    "        \"\"\"Decodes your encoded data to tree.\n",
    "        \n",
    "        :type data: str\n",
    "        :rtype: TreeNode\n",
    "        \"\"\"\n",
    "        ark=data.split()\n",
    "        n=len(ark)\n",
    "        if(n==0):\n",
    "            return(None)\n",
    "        arr=[]\n",
    "        i=0\n",
    "        while(i<n):\n",
    "            if(ark[i]!=\"N\"):\n",
    "                arr.append(TreeNode(int(ark[i])))\n",
    "            else:\n",
    "                arr.append(TreeNode(ark[i]))\n",
    "            i+=1\n",
    "        i=0\n",
    "        while(i<n):\n",
    "            l=(2*i)+1\n",
    "            r=(2*i)+2\n",
    "            if(l<n and ark[l]!=\"N\"):\n",
    "                arr[i].left=arr[l]\n",
    "            if(r<n and ark[r]!=\"N\"):\n",
    "                arr[i].right=arr[r]\n",
    "            i+=1\n",
    "        return(arr[0])\n",
    "            \n",
    "v=Codec()\n",
    "a=v.serialize(root)\n",
    "b=v.deserialize(a)"
   ]
  },
  {
   "cell_type": "code",
   "execution_count": 114,
   "metadata": {},
   "outputs": [
    {
     "data": {
      "text/plain": [
       "'1,2,x,x,3,4,x,x,5,x,x'"
      ]
     },
     "execution_count": 114,
     "metadata": {},
     "output_type": "execute_result"
    }
   ],
   "source": [
    "def serialize(root):\n",
    "        if not root: return 'x'\n",
    "        return ','.join([str(root.val), serialize(root.left),serialize(root.right)])\n",
    "serialize(root)"
   ]
  },
  {
   "cell_type": "code",
   "execution_count": 127,
   "metadata": {},
   "outputs": [
    {
     "data": {
      "text/plain": [
       "'manoj'"
      ]
     },
     "execution_count": 127,
     "metadata": {},
     "output_type": "execute_result"
    }
   ],
   "source": [
    "a=\"manoj fv fgrgb  df \"\n",
    "b=a.split()\n",
    "t=iter(b)\n",
    "next(t)"
   ]
  },
  {
   "cell_type": "code",
   "execution_count": 132,
   "metadata": {},
   "outputs": [
    {
     "data": {
      "text/plain": [
       "'m'"
      ]
     },
     "execution_count": 132,
     "metadata": {},
     "output_type": "execute_result"
    }
   ],
   "source": [
    "a=\"manoj\"\n",
    "b=iter(a)\n",
    "next(b)"
   ]
  },
  {
   "cell_type": "code",
   "execution_count": 138,
   "metadata": {},
   "outputs": [
    {
     "ename": "StopIteration",
     "evalue": "",
     "output_type": "error",
     "traceback": [
      "\u001b[1;31m---------------------------------------------------------------------------\u001b[0m",
      "\u001b[1;31mStopIteration\u001b[0m                             Traceback (most recent call last)",
      "\u001b[1;32m~\\AppData\\Local\\Temp/ipykernel_11448/973617480.py\u001b[0m in \u001b[0;36m<module>\u001b[1;34m\u001b[0m\n\u001b[1;32m----> 1\u001b[1;33m \u001b[0mnext\u001b[0m\u001b[1;33m(\u001b[0m\u001b[0mb\u001b[0m\u001b[1;33m)\u001b[0m\u001b[1;33m\u001b[0m\u001b[1;33m\u001b[0m\u001b[0m\n\u001b[0m",
      "\u001b[1;31mStopIteration\u001b[0m: "
     ]
    }
   ],
   "source": [
    "next(b)"
   ]
  },
  {
   "cell_type": "code",
   "execution_count": 135,
   "metadata": {},
   "outputs": [
    {
     "data": {
      "text/plain": [
       "['manoj']"
      ]
     },
     "execution_count": 135,
     "metadata": {},
     "output_type": "execute_result"
    }
   ],
   "source": [
    "a.split(\" \")"
   ]
  },
  {
   "cell_type": "code",
   "execution_count": 95,
   "metadata": {},
   "outputs": [
    {
     "data": {
      "text/plain": [
       "['1', '2', '3', 'N', 'N', '4', '5', '']"
      ]
     },
     "execution_count": 95,
     "metadata": {},
     "output_type": "execute_result"
    }
   ],
   "source": [
    "b"
   ]
  },
  {
   "cell_type": "code",
   "execution_count": 93,
   "metadata": {},
   "outputs": [
    {
     "data": {
      "text/plain": [
       "['1', '2', '3']"
      ]
     },
     "execution_count": 93,
     "metadata": {},
     "output_type": "execute_result"
    }
   ],
   "source": [
    "a=\"1 2 3 \"\n",
    "b=a.split()\n",
    "b"
   ]
  },
  {
   "cell_type": "code",
   "execution_count": 76,
   "metadata": {},
   "outputs": [
    {
     "data": {
      "text/plain": [
       "''"
      ]
     },
     "execution_count": 76,
     "metadata": {},
     "output_type": "execute_result"
    }
   ],
   "source": [
    "a=a[1:2]\n",
    "a"
   ]
  },
  {
   "cell_type": "code",
   "execution_count": 39,
   "metadata": {},
   "outputs": [],
   "source": [
    "class Node:\n",
    "    def __init__(self, val):\n",
    "        self.right = None\n",
    "        self.data = val\n",
    "        self.left = None"
   ]
  },
  {
   "cell_type": "code",
   "execution_count": 51,
   "metadata": {},
   "outputs": [
    {
     "data": {
      "text/plain": [
       "5"
      ]
     },
     "execution_count": 51,
     "metadata": {},
     "output_type": "execute_result"
    }
   ],
   "source": [
    "def floorInBST(root, X):\n",
    "    x=X\n",
    "    def helper(root,val):\n",
    "        if(not root):\n",
    "            return(val)\n",
    "        if(root.data<=x):\n",
    "            ret=max(val,root.data)\n",
    "            if(root.right and root.right.data<=x):\n",
    "                return(helper(root.right,ret))\n",
    "            else:\n",
    "                return(ret)\n",
    "        else:\n",
    "            if(root.left):\n",
    "            \treturn(helper(root.left,val)) \n",
    "            else:\n",
    "                return(val)\n",
    "    ret=helper(root,-1)\n",
    "    return(ret)\n",
    "floorInBST(root,7)"
   ]
  },
  {
   "cell_type": "code",
   "execution_count": 28,
   "metadata": {},
   "outputs": [],
   "source": [
    "a=False\n",
    "if(a):\n",
    "    print(\"mmm\")"
   ]
  },
  {
   "cell_type": "code",
   "execution_count": 29,
   "metadata": {},
   "outputs": [
    {
     "data": {
      "text/plain": [
       "4"
      ]
     },
     "execution_count": 29,
     "metadata": {},
     "output_type": "execute_result"
    }
   ],
   "source": [
    "root.val"
   ]
  },
  {
   "cell_type": "code",
   "execution_count": 57,
   "metadata": {},
   "outputs": [
    {
     "data": {
      "text/plain": [
       "16"
      ]
     },
     "execution_count": 57,
     "metadata": {},
     "output_type": "execute_result"
    }
   ],
   "source": [
    "x=17\n",
    "x & x-1"
   ]
  },
  {
   "cell_type": "code",
   "execution_count": null,
   "metadata": {},
   "outputs": [],
   "source": []
  }
 ],
 "metadata": {
  "interpreter": {
   "hash": "11ad92808b9e536a1bda76e6f18576c204b1bdc67c9013f7331a2b858d211f20"
  },
  "kernelspec": {
   "display_name": "Python 3.9.6 64-bit",
   "language": "python",
   "name": "python3"
  },
  "language_info": {
   "codemirror_mode": {
    "name": "ipython",
    "version": 3
   },
   "file_extension": ".py",
   "mimetype": "text/x-python",
   "name": "python",
   "nbconvert_exporter": "python",
   "pygments_lexer": "ipython3",
   "version": "3.9.6"
  },
  "orig_nbformat": 4
 },
 "nbformat": 4,
 "nbformat_minor": 2
}
