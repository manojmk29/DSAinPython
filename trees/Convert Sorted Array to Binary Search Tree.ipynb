{
 "cells": [
  {
   "cell_type": "code",
   "execution_count": null,
   "metadata": {},
   "outputs": [],
   "source": [
    "# Definition for a binary tree node.\n",
    "class TreeNode(object):\n",
    "    def __init__(self, val=0, left=None, right=None):\n",
    "        self.val = val\n",
    "        self.left = left\n",
    "        self.right = right\n",
    "class Solution(object):\n",
    "    def sortedArrayToBST(self, nums,l=0,r=float(\"inf\")):\n",
    "        \"\"\"\n",
    "        :type nums: List[int]\n",
    "        :rtype: TreeNode\n",
    "        \"\"\"\n",
    "        if(r<l):\n",
    "            return(None)\n",
    "        if(r==float(\"inf\")):\n",
    "            r=len(nums)-1\n",
    "        mid=(l+r)//2\n",
    "        node=TreeNode(nums[mid])\n",
    "        left=self.sortedArrayToBST(nums,l,mid-1)\n",
    "        right=self.sortedArrayToBST(nums,mid+1,r)\n",
    "        node.left=left\n",
    "        node.right=right\n",
    "        return(node)"
   ]
  },
  {
   "cell_type": "code",
   "execution_count": null,
   "metadata": {},
   "outputs": [],
   "source": []
  }
 ],
 "metadata": {
  "language_info": {
   "name": "python"
  },
  "orig_nbformat": 4
 },
 "nbformat": 4,
 "nbformat_minor": 2
}
