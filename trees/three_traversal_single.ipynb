{
 "cells": [
  {
   "cell_type": "code",
   "execution_count": 4,
   "metadata": {},
   "outputs": [],
   "source": [
    "class node:\n",
    "    def __init__(self,data,left=None,right=None):\n",
    "        self.data=data\n",
    "        if(left!=None):\n",
    "            self.left=left\n",
    "        else:\n",
    "            self.left=None\n",
    "        if(right!=None):\n",
    "            self.right=right\n",
    "        else:\n",
    "            self.right=None\n",
    "o1=node(1)\n",
    "o2=node(2)\n",
    "o3=node(3)\n",
    "o4=node(4)\n",
    "o5=node(5)\n",
    "o6=node(6)\n",
    "o7=node(7)\n",
    "o8=node(8)\n",
    "o9=node(9)\n",
    "o10=node(10)\n",
    "o11=node(11)\n",
    "o12=node(12)\n",
    "o13=node(13)\n",
    "o14=node(14)\n",
    "o15=node(15)\n",
    "o1.left=o2\n",
    "o1.right=o3\n",
    "o2.left=o4\n",
    "o2.right=o5\n",
    "o3.left=o6\n",
    "o3.right=o7\n",
    "o4.left=o8\n",
    "o4.right=o9\n",
    "o5.left=o10\n",
    "o5.right=o11\n",
    "o6.left=o12\n",
    "o6.right=o13\n",
    "o7.left=o14\n",
    "o7.right=o15"
   ]
  },
  {
   "cell_type": "code",
   "execution_count": 2,
   "metadata": {},
   "outputs": [],
   "source": [
    "#preorder    1 2 4 8 9 5 10 11 3 6 12 13 7 14 15\n",
    "#postorder   8 9 4 10 11 5 2 12 13 6 14 15 7 3 1\n",
    "#inorder     8 4 9 2 10 5 11 1 12 6 14 3 14 7 15\n",
    "\n",
    "pre in post\n",
    "left right pop"
   ]
  },
  {
   "cell_type": "code",
   "execution_count": 6,
   "metadata": {},
   "outputs": [
    {
     "data": {
      "text/plain": [
       "([8, 4, 9, 2, 10, 5, 11, 1, 12, 6, 13, 3, 14, 7, 15],\n",
       " [1, 2, 4, 8, 9, 5, 10, 11, 3, 6, 12, 13, 7, 14, 15],\n",
       " [8, 9, 4, 10, 11, 5, 2, 12, 13, 6, 14, 15, 7, 3, 1])"
      ]
     },
     "execution_count": 6,
     "metadata": {},
     "output_type": "execute_result"
    }
   ],
   "source": [
    "def three_traversal(root):\n",
    "    import collections\n",
    "    inorder=[]\n",
    "    post=[]\n",
    "    pre=[]\n",
    "    stack=collections.deque()\n",
    "    stack.append([root,1])\n",
    "    while(stack):\n",
    "        if(stack[-1][1]==1):\n",
    "            pre.append(stack[-1][0].data)\n",
    "            stack[-1][1]+=1\n",
    "            if(stack[-1][0].left):\n",
    "                stack.append([stack[-1][0].left,1])\n",
    "        if(stack[-1][1]==2):\n",
    "            inorder.append(stack[-1][0].data)\n",
    "            stack[-1][1]+=1\n",
    "            if(stack[-1][0].right):\n",
    "                stack.append([stack[-1][0].right,1])\n",
    "        if(stack[-1][1]==3):\n",
    "            post.append(stack[-1][0].data)\n",
    "            stack.pop()\n",
    "    return(inorder,pre,post)\n",
    "three_traversal(o1)\n"
   ]
  },
  {
   "cell_type": "code",
   "execution_count": null,
   "metadata": {},
   "outputs": [],
   "source": []
  }
 ],
 "metadata": {
  "interpreter": {
   "hash": "11ad92808b9e536a1bda76e6f18576c204b1bdc67c9013f7331a2b858d211f20"
  },
  "kernelspec": {
   "display_name": "Python 3.9.6 64-bit",
   "language": "python",
   "name": "python3"
  },
  "language_info": {
   "codemirror_mode": {
    "name": "ipython",
    "version": 3
   },
   "file_extension": ".py",
   "mimetype": "text/x-python",
   "name": "python",
   "nbconvert_exporter": "python",
   "pygments_lexer": "ipython3",
   "version": "3.9.6"
  },
  "orig_nbformat": 4
 },
 "nbformat": 4,
 "nbformat_minor": 2
}
