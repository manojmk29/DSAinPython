{
 "cells": [
  {
   "cell_type": "code",
   "execution_count": 18,
   "metadata": {},
   "outputs": [],
   "source": [
    "class node:\n",
    "    def __init__(self,data,left=None,right=None):\n",
    "        self.val=data\n",
    "        self.left=left\n",
    "        self.right=right\n",
    "ob=node(1)\n",
    "oc=node(2)\n",
    "od=node(2)\n",
    "ob.right=oc\n",
    "oc.left=od"
   ]
  },
  {
   "cell_type": "code",
   "execution_count": 27,
   "metadata": {},
   "outputs": [
    {
     "name": "stdout",
     "output_type": "stream",
     "text": [
      "[2]\n"
     ]
    }
   ],
   "source": [
    "from collections import *\n",
    "class Solution(object):\n",
    "    def findMode(self, root):\n",
    "        \"\"\"\n",
    "        :type root: TreeNode\n",
    "        :rtype: List[int]\n",
    "        \"\"\"\n",
    "        hmap=defaultdict(int)\n",
    "        def inorder(root,maxt):\n",
    "            if root:\n",
    "                left=inorder(root.left,maxt)\n",
    "                hmap[root.val]+=1\n",
    "                maxt=max(maxt,hmap[root.val])\n",
    "                maxt=max(maxt,left)\n",
    "                right=inorder(root.right,maxt)\n",
    "                maxt=max(left,right)\n",
    "                return(maxt)\n",
    "            else:\n",
    "                return(maxt)\n",
    "        maxt=inorder(root,1)\n",
    "        ret=[]\n",
    "        for i in hmap:\n",
    "            if hmap[i]==maxt:\n",
    "                ret.append(i)\n",
    "        return(ret)\n",
    "o=Solution()\n",
    "b=o.findMode(ob)\n",
    "print(b)"
   ]
  },
  {
   "cell_type": "code",
   "execution_count": null,
   "metadata": {},
   "outputs": [],
   "source": []
  }
 ],
 "metadata": {
  "interpreter": {
   "hash": "11ad92808b9e536a1bda76e6f18576c204b1bdc67c9013f7331a2b858d211f20"
  },
  "kernelspec": {
   "display_name": "Python 3.9.6 64-bit",
   "language": "python",
   "name": "python3"
  },
  "language_info": {
   "codemirror_mode": {
    "name": "ipython",
    "version": 3
   },
   "file_extension": ".py",
   "mimetype": "text/x-python",
   "name": "python",
   "nbconvert_exporter": "python",
   "pygments_lexer": "ipython3",
   "version": "3.9.6"
  },
  "orig_nbformat": 4
 },
 "nbformat": 4,
 "nbformat_minor": 2
}
