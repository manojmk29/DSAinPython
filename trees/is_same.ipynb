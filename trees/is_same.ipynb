{
 "cells": [
  {
   "cell_type": "code",
   "execution_count": null,
   "metadata": {},
   "outputs": [],
   "source": [
    "class Solution(object):\n",
    "    def isSameTree(self, p, q):\n",
    "        \"\"\"\n",
    "        :type p: TreeNode\n",
    "        :type q: TreeNode\n",
    "        :rtype: bool\n",
    "        \"\"\"\n",
    "        def comp(one,two):\n",
    "            if((one!=None and two==None) or (two!=None and one==None)):\n",
    "                return(False)\n",
    "            if(one==two==None):\n",
    "                return(True)\n",
    "            if((comp(one.left,two.left)==False) or (comp(one.right,two.right)==False) or (one.val!=two.val)):\n",
    "                return(False)\n",
    "            return(True)\n",
    "        return(comp(p,q))"
   ]
  },
  {
   "cell_type": "code",
   "execution_count": null,
   "metadata": {},
   "outputs": [],
   "source": [
    "class Solution(object):\n",
    "    def isSameTree(self, p, q):\n",
    "        \"\"\"\n",
    "        :type p: TreeNode\n",
    "        :type q: TreeNode\n",
    "        :rtype: bool\n",
    "        \"\"\"\n",
    "        one=p\n",
    "        two=q\n",
    "        if(one==None or two==None):\n",
    "                return(one==two)\n",
    "        return(self.isSameTree(one.left,two.left) and self.isSameTree(one.right,two.right) and (one.val==two.val))"
   ]
  },
  {
   "cell_type": "code",
   "execution_count": null,
   "metadata": {},
   "outputs": [],
   "source": []
  }
 ],
 "metadata": {
  "language_info": {
   "name": "python"
  },
  "orig_nbformat": 4
 },
 "nbformat": 4,
 "nbformat_minor": 2
}
