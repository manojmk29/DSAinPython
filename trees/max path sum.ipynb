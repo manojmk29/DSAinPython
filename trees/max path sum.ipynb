{
 "cells": [
  {
   "cell_type": "code",
   "execution_count": 3,
   "metadata": {},
   "outputs": [
    {
     "data": {
      "text/plain": [
       "True"
      ]
     },
     "execution_count": 3,
     "metadata": {},
     "output_type": "execute_result"
    }
   ],
   "source": [
    "import math\n",
    "a=float(\"inf\")\n",
    "b=math.inf\n",
    "a==b"
   ]
  },
  {
   "cell_type": "code",
   "execution_count": 4,
   "metadata": {},
   "outputs": [],
   "source": [
    "class Solution(object):\n",
    "    def maxPathSum(self, root):\n",
    "        \"\"\"\n",
    "        :type root: TreeNode\n",
    "        :rtype: int\n",
    "        \"\"\"\n",
    "        self.maxt=-float(\"inf\")\n",
    "        def helper(root):\n",
    "            if(not root):\n",
    "                return(0)\n",
    "            left=helper(root.left)\n",
    "            right=helper(root.right)\n",
    "            tot=root.val\n",
    "            temp=tot\n",
    "            if((tot+left)>tot):\n",
    "                tot+=left\n",
    "            if((tot+right)>tot):\n",
    "                tot+=right\n",
    "            self.maxt=max(self.maxt,tot)\n",
    "            return(max(temp,temp+left,temp+right))\n",
    "        helper(root)\n",
    "        return(self.maxt)"
   ]
  },
  {
   "cell_type": "code",
   "execution_count": null,
   "metadata": {},
   "outputs": [],
   "source": [
    "#STRIVER\n",
    "class Solution(object):\n",
    "    def maxPathSum(self, root):\n",
    "        \"\"\"\n",
    "        :type root: TreeNode\n",
    "        :rtype: int\n",
    "        \"\"\"\n",
    "        self.maxt=-float(\"inf\")\n",
    "        def helper(root):\n",
    "            if(not root):\n",
    "                return(0)\n",
    "            left=max(0,helper(root.left))\n",
    "            right=max(0,helper(root.right))\n",
    "            self.maxt=max(self.maxt,root.val+left+right)\n",
    "            return(max(+left,root.val+right))\n",
    "        helper(root)\n",
    "        return(self.maxt)"
   ]
  }
 ],
 "metadata": {
  "interpreter": {
   "hash": "11ad92808b9e536a1bda76e6f18576c204b1bdc67c9013f7331a2b858d211f20"
  },
  "kernelspec": {
   "display_name": "Python 3.9.6 64-bit",
   "language": "python",
   "name": "python3"
  },
  "language_info": {
   "codemirror_mode": {
    "name": "ipython",
    "version": 3
   },
   "file_extension": ".py",
   "mimetype": "text/x-python",
   "name": "python",
   "nbconvert_exporter": "python",
   "pygments_lexer": "ipython3",
   "version": "3.9.6"
  },
  "orig_nbformat": 4
 },
 "nbformat": 4,
 "nbformat_minor": 2
}
