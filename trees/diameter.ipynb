{
 "cells": [
  {
   "cell_type": "code",
   "execution_count": 2,
   "metadata": {},
   "outputs": [],
   "source": [
    "class node:\n",
    "    def __init__(self,data,left=None,right=None):\n",
    "        self.data=data\n",
    "        if(left!=None):\n",
    "            self.left=left\n",
    "        else:\n",
    "            self.left=None\n",
    "        if(right!=None):\n",
    "            self.right=right\n",
    "        else:\n",
    "            self.right=None\n",
    "o1=node(1)\n",
    "o2=node(2)\n",
    "o3=node(3)\n",
    "o4=node(4)\n",
    "o5=node(5)\n",
    "o6=node(6)\n",
    "o7=node(7)\n",
    "o8=node(8)\n",
    "o9=node(9)\n",
    "o10=node(10)\n",
    "o11=node(11)\n",
    "o12=node(12)\n",
    "o13=node(13)\n",
    "o14=node(14)\n",
    "o15=node(15)\n",
    "o1.left=o2\n",
    "o1.right=o3\n",
    "o2.left=o4\n",
    "o2.right=o5\n",
    "# o3.left=o6\n",
    "# o3.right=o7\n",
    "# o4.left=o8\n",
    "# o4.right=o9\n",
    "# o5.left=o10\n",
    "# o5.right=o11\n",
    "# o6.left=o12\n",
    "# o6.right=o13\n",
    "# o7.left=o14\n",
    "# o7.right=o15"
   ]
  },
  {
   "cell_type": "code",
   "execution_count": 5,
   "metadata": {},
   "outputs": [],
   "source": [
    "class Solution(object):\n",
    "    def diameterOfBinaryTree(self, root):\n",
    "        \"\"\"\n",
    "        :type root: TreeNode\n",
    "        :rtype: int\n",
    "        \"\"\"\n",
    "        self.maxt=0\n",
    "        def helper(root,l):\n",
    "            left = helper(root.left,l+1) if (root.left) else l\n",
    "            right = helper(root.right,l+1) if (root.right) else l\n",
    "            val=left+right-(2*l)\n",
    "            self.maxt=max(self.maxt,val)\n",
    "            return(max(left,right))   \n",
    "        helper(root,0)\n",
    "        return(self.maxt)"
   ]
  },
  {
   "cell_type": "code",
   "execution_count": 9,
   "metadata": {},
   "outputs": [
    {
     "data": {
      "text/plain": [
       "0"
      ]
     },
     "execution_count": 9,
     "metadata": {},
     "output_type": "execute_result"
    }
   ],
   "source": [
    "ob=Solution()\n",
    "ob.diameterOfBinaryTree(o1)"
   ]
  },
  {
   "cell_type": "code",
   "execution_count": 11,
   "metadata": {},
   "outputs": [],
   "source": [
    "class Solution(object):\n",
    "    def diameterOfBinaryTree(self, root):\n",
    "        \"\"\"\n",
    "        :type root: TreeNode\n",
    "        :rtype: int\n",
    "        \"\"\"\n",
    "        self.maxt=0\n",
    "        def helper(root):\n",
    "            if(root):\n",
    "                left=helper(root.left)\n",
    "                right=helper(root.right)\n",
    "                self.maxt=max(self.maxt,left+right)\n",
    "                return(1+max(left,right))\n",
    "            else:\n",
    "                return(0)   \n",
    "        helper(root)\n",
    "        return(self.maxt)"
   ]
  },
  {
   "cell_type": "code",
   "execution_count": 12,
   "metadata": {},
   "outputs": [
    {
     "data": {
      "text/plain": [
       "3"
      ]
     },
     "execution_count": 12,
     "metadata": {},
     "output_type": "execute_result"
    }
   ],
   "source": [
    "ob=Solution()\n",
    "ob.diameterOfBinaryTree(o1)"
   ]
  },
  {
   "cell_type": "code",
   "execution_count": 1,
   "metadata": {},
   "outputs": [],
   "source": [
    "class Solution:\n",
    "    def diameterOfBinaryTree(self,root):\n",
    "        self.a=0\n",
    "        def helper(root):\n",
    "            if not root:\n",
    "                return 0\n",
    "            ret=left=right=0\n",
    "            if root.left:\n",
    "                left=1+self.diameterOfBinaryTree(root.left)\n",
    "            if root.right:\n",
    "                right=1+self.diameterOfBinaryTree(root.right)\n",
    "            ret=max(left,right)\n",
    "            self.a=max(self.a,left+right)\n",
    "            return ret\n",
    "        helper(root)\n",
    "        return self.a"
   ]
  },
  {
   "cell_type": "code",
   "execution_count": 5,
   "metadata": {},
   "outputs": [
    {
     "data": {
      "text/plain": [
       "4"
      ]
     },
     "execution_count": 5,
     "metadata": {},
     "output_type": "execute_result"
    }
   ],
   "source": [
    "ob=Solution()\n",
    "ob.diameterOfBinaryTree(o1)"
   ]
  },
  {
   "cell_type": "code",
   "execution_count": null,
   "metadata": {},
   "outputs": [],
   "source": []
  },
  {
   "cell_type": "code",
   "execution_count": null,
   "metadata": {},
   "outputs": [],
   "source": []
  },
  {
   "cell_type": "code",
   "execution_count": 6,
   "metadata": {},
   "outputs": [
    {
     "name": "stdout",
     "output_type": "stream",
     "text": [
      "3\n"
     ]
    }
   ],
   "source": [
    "inp=\"918\"\n",
    "ret=0\n",
    "n=len(inp)\n",
    "for i in range(n):\n",
    "    for j in range(i+1,n+1):\n",
    "        if(int(inp[i:j])%9==0):\n",
    "            ret+=1\n",
    "print(ret)"
   ]
  },
  {
   "cell_type": "code",
   "execution_count": null,
   "metadata": {},
   "outputs": [],
   "source": []
  }
 ],
 "metadata": {
  "kernelspec": {
   "display_name": "Python 3.9.6 64-bit",
   "language": "python",
   "name": "python3"
  },
  "language_info": {
   "codemirror_mode": {
    "name": "ipython",
    "version": 3
   },
   "file_extension": ".py",
   "mimetype": "text/x-python",
   "name": "python",
   "nbconvert_exporter": "python",
   "pygments_lexer": "ipython3",
   "version": "3.9.6"
  },
  "orig_nbformat": 4,
  "vscode": {
   "interpreter": {
    "hash": "e26b106e6146fa3417b08aa501d422914abd065c08ced2fc57ef114abeab93c7"
   }
  }
 },
 "nbformat": 4,
 "nbformat_minor": 2
}
