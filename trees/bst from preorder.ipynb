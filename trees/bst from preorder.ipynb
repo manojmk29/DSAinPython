{
 "cells": [
  {
   "cell_type": "code",
   "execution_count": 28,
   "metadata": {},
   "outputs": [],
   "source": [
    "import collections\n",
    "class TreeNode(object):\n",
    "    def __init__(self, val=0, left=None, right=None):\n",
    "        self.val = val\n",
    "        self.left = left\n",
    "        self.right = right\n",
    "class Solution(object):\n",
    "    def bstFromPreorder(self, preorder):\n",
    "        \"\"\"\n",
    "        :type preorder: List[int]\n",
    "        :rtype: TreeNode\n",
    "        \"\"\"\n",
    "        stack=collections.deque()\n",
    "        root=TreeNode(preorder[0])\n",
    "        stack.append((root,preorder[0]))\n",
    "        i=1\n",
    "        while(i<len(preorder)):\n",
    "            val=preorder[i]\n",
    "            node=TreeNode(val)\n",
    "            if(val<stack[-1][0].val):\n",
    "                stack[-1][0].left=node\n",
    "                stack.append((node,val))\n",
    "                i+=1\n",
    "            else:\n",
    "                if(len(stack)==1):\n",
    "                    stack[-1][0].right=node\n",
    "                    stack.append((node,val))\n",
    "                    i+=1\n",
    "                else:\n",
    "                    if(val>stack[-2][0].val):\n",
    "                        stack.pop()\n",
    "                    else:\n",
    "                        if(stack[-1][0].right!=None):\n",
    "                            stack.pop()\n",
    "                        else:\n",
    "                            stack[-1][0].right=node\n",
    "                            stack.append((node,val))\n",
    "                        i+=1\n",
    "        return(root)"
   ]
  },
  {
   "cell_type": "code",
   "execution_count": 29,
   "metadata": {},
   "outputs": [
    {
     "data": {
      "text/plain": [
       "<__main__.TreeNode at 0x12ba0b637c0>"
      ]
     },
     "execution_count": 29,
     "metadata": {},
     "output_type": "execute_result"
    }
   ],
   "source": [
    "o=Solution()\n",
    "o.bstFromPreorder([8,5,1,7,10,12])"
   ]
  },
  {
   "cell_type": "code",
   "execution_count": null,
   "metadata": {},
   "outputs": [],
   "source": []
  }
 ],
 "metadata": {
  "interpreter": {
   "hash": "11ad92808b9e536a1bda76e6f18576c204b1bdc67c9013f7331a2b858d211f20"
  },
  "kernelspec": {
   "display_name": "Python 3.9.6 64-bit",
   "language": "python",
   "name": "python3"
  },
  "language_info": {
   "codemirror_mode": {
    "name": "ipython",
    "version": 3
   },
   "file_extension": ".py",
   "mimetype": "text/x-python",
   "name": "python",
   "nbconvert_exporter": "python",
   "pygments_lexer": "ipython3",
   "version": "3.9.6"
  },
  "orig_nbformat": 4
 },
 "nbformat": 4,
 "nbformat_minor": 2
}
