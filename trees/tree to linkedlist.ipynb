{
 "cells": [
  {
   "cell_type": "code",
   "execution_count": null,
   "metadata": {},
   "outputs": [],
   "source": [
    "class Solution(object):\n",
    "    def flatten(self, root):\n",
    "        \"\"\"\n",
    "        :type root: TreeNode\n",
    "        :rtype: None Do not return anything, modify root in-place instead.\n",
    "        \"\"\"\n",
    "        def preorder(root):\n",
    "            if(not root):\n",
    "                return(None)\n",
    "            if(root.left):\n",
    "                left=preorder(root.left)\n",
    "            else:\n",
    "                left=None\n",
    "            if(root.right):\n",
    "                right=preorder(root.right)\n",
    "            else:\n",
    "                right=None\n",
    "            front=root\n",
    "            back=root\n",
    "            front.left=None\n",
    "            back.left=None\n",
    "            if(left!=None):\n",
    "                back.right=left[0]\n",
    "                back=left[1]\n",
    "            if(right!=None):\n",
    "                back.right=right[0]\n",
    "                back=right[1]\n",
    "            back.right=None\n",
    "            return(front,back)\n",
    "        ret=preorder(root)\n",
    "        if(not ret):\n",
    "            return(ret)\n",
    "        else:\n",
    "            return(ret[0])"
   ]
  },
  {
   "cell_type": "code",
   "execution_count": null,
   "metadata": {},
   "outputs": [],
   "source": []
  }
 ],
 "metadata": {
  "language_info": {
   "name": "python"
  },
  "orig_nbformat": 4
 },
 "nbformat": 4,
 "nbformat_minor": 2
}
