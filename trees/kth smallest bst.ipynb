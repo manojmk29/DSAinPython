{
 "cells": [
  {
   "cell_type": "code",
   "execution_count": null,
   "metadata": {},
   "outputs": [],
   "source": [
    "class Solution(object):\n",
    "    def kthSmallest(self, root, k):\n",
    "        \"\"\"\n",
    "        :type root: TreeNode\n",
    "        :type k: int\n",
    "        :rtype: int\n",
    "        \"\"\"\n",
    "        self.cnt=0\n",
    "        def inorder(root):\n",
    "            if(root):\n",
    "                left=inorder(root.left)\n",
    "                if(left!=None):\n",
    "                    return(left)\n",
    "                self.cnt+=1\n",
    "                if(self.cnt==k):\n",
    "                    return(root.val)\n",
    "                right=inorder(root.right)\n",
    "                if(right!=None):\n",
    "                    return(right)\n",
    "            else:\n",
    "                return(None)\n",
    "        return(inorder(root))"
   ]
  },
  {
   "cell_type": "code",
   "execution_count": null,
   "metadata": {},
   "outputs": [],
   "source": []
  }
 ],
 "metadata": {
  "language_info": {
   "name": "python"
  },
  "orig_nbformat": 4
 },
 "nbformat": 4,
 "nbformat_minor": 2
}
