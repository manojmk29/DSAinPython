{
 "cells": [
  {
   "cell_type": "code",
   "execution_count": 10,
   "metadata": {},
   "outputs": [],
   "source": [
    "class node:\n",
    "    def __init__(self,val,left=None,right=None):\n",
    "        self.val=val\n",
    "        if(left!=None):\n",
    "            self.left=left\n",
    "        else:\n",
    "            self.left=None\n",
    "        if(right!=None):\n",
    "            self.right=right\n",
    "        else:\n",
    "            self.right=None\n",
    "o1=node(1)\n",
    "o2=node(2)\n",
    "o3=node(3)\n",
    "o4=node(4)\n",
    "o5=node(5)\n",
    "o6=node(6)\n",
    "o7=node(7)\n",
    "o8=node(8)\n",
    "o2.left=o4\n",
    "o2.right=o5\n",
    "o3.left=o6\n",
    "o3.right=o7\n",
    "o1.left=o2\n",
    "o1.right=o3"
   ]
  },
  {
   "cell_type": "code",
   "execution_count": 15,
   "metadata": {},
   "outputs": [
    {
     "data": {
      "text/plain": [
       "[4, 2, 5, 1, 6, 3, 7]"
      ]
     },
     "execution_count": 15,
     "metadata": {},
     "output_type": "execute_result"
    }
   ],
   "source": [
    "def morris_inorder(root):\n",
    "    ret=[]\n",
    "    while(root):\n",
    "        if(root.left==None):\n",
    "            ret.append(root.val)\n",
    "            root=root.right\n",
    "        else:\n",
    "            temp=root\n",
    "            next=temp.left\n",
    "            while(next.right and next.right!=temp):\n",
    "                next=next.right\n",
    "            if(next.right==None):\n",
    "                next.right=temp\n",
    "                root=temp.left\n",
    "            elif(next.right==temp):\n",
    "                next.right=None\n",
    "                ret.append(temp.val)\n",
    "                root=temp.right\n",
    "    return(ret)\n",
    "morris_inorder(o1)"
   ]
  },
  {
   "cell_type": "code",
   "execution_count": 16,
   "metadata": {},
   "outputs": [
    {
     "data": {
      "text/plain": [
       "[1, 2, 4, 5, 3, 6, 7]"
      ]
     },
     "execution_count": 16,
     "metadata": {},
     "output_type": "execute_result"
    }
   ],
   "source": [
    "def morris_preorder(root):\n",
    "    ret=[]\n",
    "    while(root):\n",
    "        if(root.left==None):\n",
    "            ret.append(root.val)\n",
    "            root=root.right\n",
    "        else:\n",
    "            temp=root\n",
    "            next=temp.left\n",
    "            while(next.right and next.right!=temp):\n",
    "                next=next.right\n",
    "            if(next.right==None):\n",
    "                ret.append(temp.val)\n",
    "                next.right=temp\n",
    "                root=temp.left\n",
    "            elif(next.right==temp):\n",
    "                next.right=None\n",
    "                root=temp.right\n",
    "    return(ret)\n",
    "morris_preorder(o1)"
   ]
  },
  {
   "cell_type": "code",
   "execution_count": null,
   "metadata": {},
   "outputs": [],
   "source": []
  }
 ],
 "metadata": {
  "interpreter": {
   "hash": "11ad92808b9e536a1bda76e6f18576c204b1bdc67c9013f7331a2b858d211f20"
  },
  "kernelspec": {
   "display_name": "Python 3.9.6 64-bit",
   "language": "python",
   "name": "python3"
  },
  "language_info": {
   "codemirror_mode": {
    "name": "ipython",
    "version": 3
   },
   "file_extension": ".py",
   "mimetype": "text/x-python",
   "name": "python",
   "nbconvert_exporter": "python",
   "pygments_lexer": "ipython3",
   "version": "3.9.6"
  },
  "orig_nbformat": 4
 },
 "nbformat": 4,
 "nbformat_minor": 2
}
