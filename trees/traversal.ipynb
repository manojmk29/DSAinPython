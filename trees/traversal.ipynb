{
 "cells": [
  {
   "cell_type": "code",
   "execution_count": 10,
   "metadata": {},
   "outputs": [
    {
     "name": "stdout",
     "output_type": "stream",
     "text": [
      "3 None None\n",
      "4 2 1\n"
     ]
    }
   ],
   "source": [
    "class node:\n",
    "    def __init__(self,data,left=None,right=None):\n",
    "        self.data=data\n",
    "        self.left=left\n",
    "        self.right=right\n",
    "ob=node(1)\n",
    "oc=node(2)\n",
    "od=node(3)\n",
    "print(od.data,od.left,od.right)\n",
    "oe=node(4,ob,oc)\n",
    "print(oe.data,oe.right.data,oe.left.data)"
   ]
  },
  {
   "cell_type": "code",
   "execution_count": 3,
   "metadata": {},
   "outputs": [
    {
     "name": "stdout",
     "output_type": "stream",
     "text": [
      "<__main__.node object at 0x000001D23F645D90>\n"
     ]
    }
   ],
   "source": [
    "class node:\n",
    "    def __init__(self,data,left=None,right=None):\n",
    "        self.data=data\n",
    "        if(left!=None):\n",
    "            self.left=left\n",
    "        else:\n",
    "            self.left=None\n",
    "        if(right!=None):\n",
    "            self.right=right\n",
    "        else:\n",
    "            self.right=None\n",
    "o1=node(1)\n",
    "o2=node(2)\n",
    "o3=node(3)\n",
    "o4=node(4)\n",
    "o5=node(5)\n",
    "o6=node(6)\n",
    "o7=node(7)\n",
    "o8=node(8)\n",
    "o2.left=o4\n",
    "o2.right=o5\n",
    "o3.left=o6\n",
    "o3.right=o7\n",
    "o1.left=o2\n",
    "o1.right=o3\n",
    "print(o1.left)"
   ]
  },
  {
   "cell_type": "markdown",
   "metadata": {},
   "source": [
    "INORDER TRAVERSAL USING ITERATION"
   ]
  },
  {
   "cell_type": "code",
   "execution_count": 20,
   "metadata": {},
   "outputs": [
    {
     "name": "stdout",
     "output_type": "stream",
     "text": [
      "[4, 2, 5, 1, 6, 3, 7]\n"
     ]
    }
   ],
   "source": [
    "import collections\n",
    "def inorder_traversal_iter(root):\n",
    "    stack=collections.deque()\n",
    "    stack.append(root)\n",
    "    root=root.left\n",
    "    ret=[]\n",
    "    while(stack or root):\n",
    "        if(root):\n",
    "            stack.append(root)\n",
    "            root=root.left\n",
    "        else:\n",
    "            temp=stack.pop()\n",
    "            ret.append(temp.data)\n",
    "            if(temp.right):\n",
    "                root=temp.right\n",
    "    print(ret)\n",
    "inorder_traversal_iter(o1)"
   ]
  },
  {
   "cell_type": "markdown",
   "metadata": {},
   "source": [
    "TRAVERSAL"
   ]
  },
  {
   "cell_type": "markdown",
   "metadata": {},
   "source": [
    "INORDER TRAVERSAL WITH STACK"
   ]
  },
  {
   "cell_type": "code",
   "execution_count": 17,
   "metadata": {},
   "outputs": [],
   "source": [
    "import collections as c\n",
    "ret=[]\n",
    "def inorder_stack(root):\n",
    "    stack=c.deque([])\n",
    "    while(True):\n",
    "        if(root):\n",
    "            stack.append(root)\n",
    "            root=root.left\n",
    "        elif(stack):\n",
    "            root=stack.pop()\n",
    "            ret.append(root.data)\n",
    "            root=root.right\n",
    "        else:\n",
    "            break\n",
    "    print(ret)"
   ]
  },
  {
   "cell_type": "markdown",
   "metadata": {},
   "source": [
    "INORDER TRAVERSAL WITH RECURSION"
   ]
  },
  {
   "cell_type": "code",
   "execution_count": 20,
   "metadata": {},
   "outputs": [
    {
     "name": "stdout",
     "output_type": "stream",
     "text": [
      "[4, 2, 5, 1, 6, 3, 7]\n"
     ]
    }
   ],
   "source": [
    "ret=[]\n",
    "def inorder_rec(root):\n",
    "    if(root):\n",
    "        inorder_rec(root.left)\n",
    "        ret.append(root.data)\n",
    "        inorder_rec(root.right)\n",
    "inorder_rec(o1)\n",
    "print(ret)"
   ]
  },
  {
   "cell_type": "markdown",
   "metadata": {},
   "source": [
    "POSTORDER USING RECURSION"
   ]
  },
  {
   "cell_type": "code",
   "execution_count": 21,
   "metadata": {},
   "outputs": [
    {
     "name": "stdout",
     "output_type": "stream",
     "text": [
      "[4, 5, 2, 6, 7, 3, 1]\n"
     ]
    }
   ],
   "source": [
    "rec=[]\n",
    "def post_rec(root):\n",
    "    if(root):\n",
    "        post_rec(root.left)\n",
    "        post_rec(root.right)\n",
    "        rec.append(root.data)\n",
    "post_rec(o1)\n",
    "print(rec)"
   ]
  },
  {
   "cell_type": "markdown",
   "metadata": {},
   "source": [
    "POST ORDER WITH ONE STACK"
   ]
  },
  {
   "cell_type": "code",
   "execution_count": 29,
   "metadata": {},
   "outputs": [
    {
     "name": "stdout",
     "output_type": "stream",
     "text": [
      "[4, 5, 2, 6, 7, 3, 1]\n"
     ]
    }
   ],
   "source": [
    "ret=[]\n",
    "def post_one_stack(root):\n",
    "    s1=[root]\n",
    "    s2=[]\n",
    "    while(s1):\n",
    "        popped=s1.pop()\n",
    "        if(popped.left):\n",
    "            s1.append(popped.left)\n",
    "        if(popped.right):\n",
    "            s1.append(popped.right)\n",
    "        s2.append(popped)\n",
    "    while(s2):\n",
    "        ret.append(s2.pop().data)\n",
    "    print(ret)\n",
    "post_one_stack(o1)\n"
   ]
  },
  {
   "cell_type": "markdown",
   "metadata": {},
   "source": [
    "PRE ORDER"
   ]
  },
  {
   "cell_type": "code",
   "execution_count": null,
   "metadata": {},
   "outputs": [],
   "source": [
    "rec=[]\n",
    "def pre_rec(root):\n",
    "    if(root):\n",
    "        rec.append(root.data)\n",
    "        post_rec(root.left)\n",
    "        post_rec(root.right)\n",
    "post_rec(o1)\n",
    "print(rec)"
   ]
  },
  {
   "cell_type": "markdown",
   "metadata": {},
   "source": [
    "PRE ORDER STACK"
   ]
  },
  {
   "cell_type": "code",
   "execution_count": 25,
   "metadata": {},
   "outputs": [
    {
     "name": "stdout",
     "output_type": "stream",
     "text": [
      "[1, 2, 4, 5, 3, 6, 7]\n"
     ]
    }
   ],
   "source": [
    "from collections import deque\n",
    "def pre_stack(root):\n",
    "    stack=deque([])\n",
    "    ret=[]\n",
    "    stack.append(root)\n",
    "    while(stack):\n",
    "        popped=stack.pop()\n",
    "        ret.append(popped.data)\n",
    "        if(popped.right):\n",
    "            stack.append(popped.right)\n",
    "        if(popped.left):\n",
    "            stack.append(popped.left)\n",
    "    print(ret)\n",
    "pre_stack(o1)\n",
    "\n",
    "        "
   ]
  },
  {
   "cell_type": "markdown",
   "metadata": {},
   "source": [
    "PRE ORDER USING STACK"
   ]
  },
  {
   "cell_type": "code",
   "execution_count": 22,
   "metadata": {},
   "outputs": [
    {
     "name": "stdout",
     "output_type": "stream",
     "text": [
      "[1, 2, 4, 5, 3, 6, 7]\n"
     ]
    }
   ],
   "source": [
    "def preorder(root):\n",
    "    stack=[]\n",
    "    ret=[]\n",
    "    if(root):\n",
    "        stack.append(root)\n",
    "    while(stack):\n",
    "        temp=stack.pop()\n",
    "        ret.append(temp.data)\n",
    "        if(temp.right):\n",
    "            stack.append(temp.right)\n",
    "        if(temp.left):\n",
    "            stack.append(temp.left)\n",
    "    print(ret)\n",
    "preorder(o1)"
   ]
  },
  {
   "cell_type": "code",
   "execution_count": null,
   "metadata": {},
   "outputs": [],
   "source": []
  }
 ],
 "metadata": {
  "interpreter": {
   "hash": "11ad92808b9e536a1bda76e6f18576c204b1bdc67c9013f7331a2b858d211f20"
  },
  "kernelspec": {
   "display_name": "Python 3.9.6 64-bit",
   "language": "python",
   "name": "python3"
  },
  "language_info": {
   "codemirror_mode": {
    "name": "ipython",
    "version": 3
   },
   "file_extension": ".py",
   "mimetype": "text/x-python",
   "name": "python",
   "nbconvert_exporter": "python",
   "pygments_lexer": "ipython3",
   "version": "3.9.6"
  },
  "orig_nbformat": 4
 },
 "nbformat": 4,
 "nbformat_minor": 2
}
