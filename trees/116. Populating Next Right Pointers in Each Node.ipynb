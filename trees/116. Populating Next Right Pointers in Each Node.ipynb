{
 "cells": [
  {
   "cell_type": "code",
   "execution_count": 2,
   "metadata": {},
   "outputs": [],
   "source": [
    "\n",
    "\n",
    "\"\"\"\n",
    "\n",
    "# Definition for a Node.\n",
    "\n",
    "class Node:\n",
    "    def __init__(self, val: int = 0, left: 'Node' = None, right: 'Node' = None, next: 'Node' = None):\n",
    "        self.val = val\n",
    "        self.left = left\n",
    "        self.right = right\n",
    "        self.next = next\n",
    "\n",
    "\"\"\"\n",
    "\n",
    "from collections import deque\n",
    "class Solution:\n",
    "    def connect(self, root):\n",
    "        stk=deque([])\n",
    "        if(root):\n",
    "            stk.append(root)\n",
    "        l=0\n",
    "        while(stk):\n",
    "            prev=None\n",
    "            n=len(stk)\n",
    "            while(n):\n",
    "                if(prev):\n",
    "                    prev.next=stk[0]\n",
    "                prev=stk.popleft()\n",
    "                if(prev.left):\n",
    "                    stk.append(prev.left)\n",
    "                if(prev.right):\n",
    "                    stk.append(prev.right)\n",
    "                n-=1\n",
    "        return(root)\n",
    "                \n",
    "        "
   ]
  },
  {
   "cell_type": "code",
   "execution_count": 3,
   "metadata": {},
   "outputs": [],
   "source": [
    "from collections import deque\n",
    "class Solution:\n",
    "    def connect(self, root):\n",
    "        def helper(node):\n",
    "            if(node):\n",
    "                if(node.left):\n",
    "                    node.left.next=node.right\n",
    "                    if(node.next):\n",
    "                        node.right.next=node.next.left\n",
    "                helper(node.left)\n",
    "                helper(node.right)\n",
    "            return(node)\n",
    "        return(helper(root))"
   ]
  },
  {
   "cell_type": "code",
   "execution_count": null,
   "metadata": {},
   "outputs": [],
   "source": [
    "from collections import deque\n",
    "class Solution:\n",
    "    def connect(self, root):\n",
    "        head=root\n",
    "        while(root):\n",
    "            cur,root=root,root.left\n",
    "            while(cur):\n",
    "                if(cur.left):\n",
    "                    cur.left.next=cur.right\n",
    "                    if(cur.next):\n",
    "                        cur.right.next=cur.next.left\n",
    "                else:\n",
    "                    break\n",
    "                cur=cur.next\n",
    "        return(head)\n",
    "        "
   ]
  }
 ],
 "metadata": {
  "interpreter": {
   "hash": "e26b106e6146fa3417b08aa501d422914abd065c08ced2fc57ef114abeab93c7"
  },
  "kernelspec": {
   "display_name": "Python 3.9.6 64-bit",
   "language": "python",
   "name": "python3"
  },
  "language_info": {
   "codemirror_mode": {
    "name": "ipython",
    "version": 3
   },
   "file_extension": ".py",
   "mimetype": "text/x-python",
   "name": "python",
   "nbconvert_exporter": "python",
   "pygments_lexer": "ipython3",
   "version": "3.9.6"
  },
  "orig_nbformat": 4
 },
 "nbformat": 4,
 "nbformat_minor": 2
}
