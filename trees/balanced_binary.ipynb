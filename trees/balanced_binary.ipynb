{
 "cells": [
  {
   "cell_type": "code",
   "execution_count": null,
   "metadata": {},
   "outputs": [],
   "source": [
    "class Solution(object):\n",
    "    def isBalanced(self, root):\n",
    "        \"\"\"\n",
    "        :type root: TreeNode\n",
    "        :rtype: bool\n",
    "        \"\"\"\n",
    "        def helper(root):\n",
    "            if(root==None):\n",
    "                return(0,True)\n",
    "            left=helper(root.left)\n",
    "            right=helper(root.right)\n",
    "            if(left[1]==False or right[1]==False):\n",
    "                return(0,False)\n",
    "            if(abs(left[0]-right[0])>1):\n",
    "                return(0,False)\n",
    "            return(max(left[0],right[0])+1,True)\n",
    "        return(helper(root)[1])"
   ]
  },
  {
   "cell_type": "code",
   "execution_count": 1,
   "metadata": {},
   "outputs": [],
   "source": [
    "class Solution(object):\n",
    "    def isBalanced(self, root,flag=0):\n",
    "        \"\"\"\n",
    "        :type root: TreeNode\n",
    "        :rtype: bool\n",
    "        \"\"\"\n",
    "        if(root==None):\n",
    "                return(0,True)\n",
    "        left=self.isBalanced(root.left,1)\n",
    "        right=self.isBalanced(root.right,1)\n",
    "        if(flag==0):\n",
    "            if(left[1]==False or right[1]==False):\n",
    "                return(False)\n",
    "            if(abs(left[0]-right[0])>1):\n",
    "                return(False)\n",
    "            return(True)\n",
    "        else:\n",
    "            if(left[1]==False or right[1]==False):\n",
    "                return(0,False)\n",
    "            if(abs(left[0]-right[0])>1):\n",
    "                return(0,False)\n",
    "            return(max(left[0],right[0])+1,True)"
   ]
  },
  {
   "cell_type": "code",
   "execution_count": 2,
   "metadata": {},
   "outputs": [],
   "source": [
    "class Solution(object):\n",
    "    def isBalanced(self, root,flag=0):\n",
    "        \"\"\"\n",
    "        :type root: TreeNode\n",
    "        :rtype: bool\n",
    "        \"\"\"\n",
    "        if(root==None):\n",
    "            if(flag==0):\n",
    "                return(True)\n",
    "            else:\n",
    "                return(0)\n",
    "        left=self.isBalanced(root.left,1)\n",
    "        right=self.isBalanced(root.right,1)\n",
    "        if(left==-1 or right==-1 or (abs(left-right)>1)):\n",
    "            if(flag==0):\n",
    "                return(False)\n",
    "            else:\n",
    "                return(-1)\n",
    "        if(flag==0):\n",
    "            return(True)\n",
    "        else:\n",
    "            return(max(left,right)+1)"
   ]
  },
  {
   "cell_type": "code",
   "execution_count": 3,
   "metadata": {},
   "outputs": [],
   "source": [
    "class Solution(object):\n",
    "    def isBalanced(self, root):\n",
    "        \"\"\"\n",
    "        :type root: TreeNode\n",
    "        :rtype: bool\n",
    "        \"\"\"\n",
    "        def helper(root):\n",
    "            if(root==None):\n",
    "                return(0)\n",
    "            left=helper(root.left)\n",
    "            right=helper(root.right)\n",
    "            if(left==-1 or right==-1 or (abs(left-right)>1)):\n",
    "                return(-1)\n",
    "            return(max(left,right)+1)\n",
    "        return(helper(root)!=-1)"
   ]
  },
  {
   "cell_type": "code",
   "execution_count": 4,
   "metadata": {},
   "outputs": [],
   "source": [
    "class Solution(object):\n",
    "    def isBalanced(self, root):\n",
    "        stack, node, last, depths = [], root, None, {}\n",
    "        while stack or node:\n",
    "            if node:\n",
    "                stack.append(node)\n",
    "                node = node.left\n",
    "            else:\n",
    "                node = stack[-1]\n",
    "                if not node.right or last == node.right:\n",
    "                    node = stack.pop()\n",
    "                    left, right  = depths.get(node.left, 0), depths.get(node.right, 0)\n",
    "                    if abs(left - right) > 1: return False\n",
    "                    depths[node] = 1 + max(left, right)\n",
    "                    last = node\n",
    "                    node = None\n",
    "                else:\n",
    "                    node = node.right\n",
    "        return True"
   ]
  },
  {
   "cell_type": "code",
   "execution_count": null,
   "metadata": {},
   "outputs": [],
   "source": []
  }
 ],
 "metadata": {
  "interpreter": {
   "hash": "11ad92808b9e536a1bda76e6f18576c204b1bdc67c9013f7331a2b858d211f20"
  },
  "kernelspec": {
   "display_name": "Python 3.9.6 64-bit",
   "language": "python",
   "name": "python3"
  },
  "language_info": {
   "codemirror_mode": {
    "name": "ipython",
    "version": 3
   },
   "file_extension": ".py",
   "mimetype": "text/x-python",
   "name": "python",
   "nbconvert_exporter": "python",
   "pygments_lexer": "ipython3",
   "version": "3.9.6"
  },
  "orig_nbformat": 4
 },
 "nbformat": 4,
 "nbformat_minor": 2
}
