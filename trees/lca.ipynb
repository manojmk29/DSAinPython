{
 "cells": [
  {
   "cell_type": "code",
   "execution_count": 1,
   "metadata": {},
   "outputs": [],
   "source": [
    "class Solution(object):\n",
    "    def lowestCommonAncestor(self, root, p, q):\n",
    "        \"\"\"\n",
    "        :type root: TreeNode\n",
    "        :type p: TreeNode\n",
    "        :type q: TreeNode\n",
    "        :rtype: TreeNode\n",
    "        \"\"\"\n",
    "        pval=p.val\n",
    "        qval=q.val\n",
    "        self.ret=None\n",
    "        def helper(root):\n",
    "            if(not root):\n",
    "                return(0,0)\n",
    "            l=helper(root.left)\n",
    "            r=helper(root.right)\n",
    "            lt=0\n",
    "            rt=0\n",
    "            if(l[0]==1 or r[0]==1 or root.val==pval):\n",
    "                lt=1\n",
    "            if(l[1]==1 or r[1]==1 or root.val==qval):\n",
    "                rt=1\n",
    "            if(lt and rt):\n",
    "                if(self.ret==None):\n",
    "                    self.ret=root\n",
    "            return(lt,rt)\n",
    "        helper(root)\n",
    "        return(self.ret)"
   ]
  },
  {
   "cell_type": "code",
   "execution_count": null,
   "metadata": {},
   "outputs": [],
   "source": [
    "def lowestCommonAncestor(self, root, p, q):\n",
    "        \"\"\"\n",
    "        :type root: TreeNode\n",
    "        :type p: TreeNode\n",
    "        :type q: TreeNode\n",
    "        :rtype: TreeNode\n",
    "        \"\"\"\n",
    "\t\t\t\t# If looking for me, return myself\n",
    "        if root == p or root == q:\n",
    "            return root\n",
    "        \n",
    "        left = right = None\n",
    "        # else look in left and right child\n",
    "        if root.left:\n",
    "            left = self.lowestCommonAncestor(root.left, p, q)\n",
    "        if root.right:\n",
    "            right = self.lowestCommonAncestor(root.right, p, q)\n",
    "\n",
    "        # if both children returned a node, means\n",
    "        # both p and q found so parent is LCA\n",
    "        if left and right:\n",
    "            return root\n",
    "        else:\n",
    "        # either one of the chidren returned a node, meaning either p or q found on left or right branch.\n",
    "        # Example: assuming 'p' found in left child, right child returned 'None'. This means 'q' is\n",
    "        # somewhere below node where 'p' was found we dont need to search all the way, \n",
    "        # because in such scenarios, node where 'p' found is LCA\n",
    "            return left or right"
   ]
  },
  {
   "cell_type": "code",
   "execution_count": null,
   "metadata": {},
   "outputs": [],
   "source": [
    "def lowestCommonAncestor(self, root, p, q):\n",
    "        if root==None or root == p or root == q:\n",
    "            return root\n",
    "        left = self.lowestCommonAncestor(root.left, p, q)\n",
    "        right = self.lowestCommonAncestor(root.right, p, q)\n",
    "        if left and right:\n",
    "            return root\n",
    "        else:\n",
    "            return left or right"
   ]
  },
  {
   "cell_type": "code",
   "execution_count": 12,
   "metadata": {},
   "outputs": [
    {
     "name": "stdout",
     "output_type": "stream",
     "text": [
      "None\n"
     ]
    }
   ],
   "source": [
    "def g():\n",
    "    a=None\n",
    "    b=None\n",
    "    return(a or b)\n",
    "print(g())"
   ]
  },
  {
   "cell_type": "code",
   "execution_count": null,
   "metadata": {},
   "outputs": [],
   "source": []
  }
 ],
 "metadata": {
  "interpreter": {
   "hash": "11ad92808b9e536a1bda76e6f18576c204b1bdc67c9013f7331a2b858d211f20"
  },
  "kernelspec": {
   "display_name": "Python 3.9.6 64-bit",
   "language": "python",
   "name": "python3"
  },
  "language_info": {
   "codemirror_mode": {
    "name": "ipython",
    "version": 3
   },
   "file_extension": ".py",
   "mimetype": "text/x-python",
   "name": "python",
   "nbconvert_exporter": "python",
   "pygments_lexer": "ipython3",
   "version": "3.9.6"
  },
  "orig_nbformat": 4
 },
 "nbformat": 4,
 "nbformat_minor": 2
}
