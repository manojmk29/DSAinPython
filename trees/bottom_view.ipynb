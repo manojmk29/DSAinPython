{
 "cells": [
  {
   "cell_type": "code",
   "execution_count": 23,
   "metadata": {},
   "outputs": [],
   "source": [
    "class node:\n",
    "    def __init__(self,data,left=None,right=None):\n",
    "        self.data=data\n",
    "        if(left!=None):\n",
    "            self.left=left\n",
    "        else:\n",
    "            self.left=None\n",
    "        if(right!=None):\n",
    "            self.right=right\n",
    "        else:\n",
    "            self.right=None\n",
    "o1=node(1)\n",
    "o2=node(2)\n",
    "o3=node(3)\n",
    "o4=node(4)\n",
    "o5=node(5)\n",
    "o6=node(6)\n",
    "o7=node(7)\n",
    "o1.left=o2\n",
    "o1.right=o3\n",
    "o2.left=o4\n",
    "o2.right=o5\n",
    "o3.left=o6\n",
    "o3.right=o7"
   ]
  },
  {
   "cell_type": "code",
   "execution_count": 25,
   "metadata": {},
   "outputs": [],
   "source": [
    "class node:\n",
    "    def __init__(self,data,left=None,right=None):\n",
    "        self.data=data\n",
    "        if(left!=None):\n",
    "            self.left=left\n",
    "        else:\n",
    "            self.left=None\n",
    "        if(right!=None):\n",
    "            self.right=right\n",
    "        else:\n",
    "            self.right=None\n",
    "o1=node(1)\n",
    "o2=node(2)\n",
    "o3=node(3)\n",
    "o4=node(4)\n",
    "o5=node(5)\n",
    "o6=node(6)\n",
    "o7=node(7)\n",
    "o8=node(8)\n",
    "o9=node(9)\n",
    "o10=node(10)\n",
    "o11=node(11)\n",
    "o12=node(12)\n",
    "o13=node(13)\n",
    "o14=node(14)\n",
    "o15=node(15)\n",
    "o1.left=o2\n",
    "o1.right=o3\n",
    "o2.left=o4\n",
    "o2.right=o5\n",
    "o3.left=o6\n",
    "o3.right=o7\n",
    "o4.left=o8\n",
    "o4.right=o9\n",
    "o5.left=o10\n",
    "o5.right=o11\n",
    "o6.left=o12\n",
    "o6.right=o13\n",
    "o7.left=o14\n",
    "o7.right=o15"
   ]
  },
  {
   "cell_type": "code",
   "execution_count": 28,
   "metadata": {},
   "outputs": [
    {
     "data": {
      "text/plain": [
       "[8, 4, 12, 6, 14, 7, 15]"
      ]
     },
     "execution_count": 28,
     "metadata": {},
     "output_type": "execute_result"
    }
   ],
   "source": [
    "import collections\n",
    "class Solution:\n",
    "    def bottomView(self, root):\n",
    "        hmap={}\n",
    "        stack=collections.deque()\n",
    "        self.mint=0\n",
    "        if(root):\n",
    "            stack.append((0,root))\n",
    "        while(stack):\n",
    "            temp=stack.popleft()\n",
    "            hmap[temp[0]]=temp[1].data\n",
    "            self.mint=min(self.mint,temp[0])\n",
    "            if(temp[1].left):\n",
    "                stack.append((temp[0]-1,temp[1].left))\n",
    "            if(temp[1].right):\n",
    "                stack.append((temp[0]+1,temp[1].right))\n",
    "        ret=[]\n",
    "        while(self.mint in hmap):\n",
    "            ret.append(hmap[self.mint])\n",
    "            self.mint+=1\n",
    "        return(ret)\n",
    "o=Solution()\n",
    "o.bottomView(o1)"
   ]
  },
  {
   "cell_type": "code",
   "execution_count": 35,
   "metadata": {},
   "outputs": [
    {
     "data": {
      "text/plain": [
       "[8, 4, 12, 6, 14, 7, 15]"
      ]
     },
     "execution_count": 35,
     "metadata": {},
     "output_type": "execute_result"
    }
   ],
   "source": [
    "class Solution:\n",
    "    def bottomView(self, root):\n",
    "        hmap={}\n",
    "        self.mint=0\n",
    "        def helper(level,row,root):\n",
    "            if(root):\n",
    "                helper(level+1,row-1,root.left)\n",
    "                helper(level+1,row+1,root.right)\n",
    "                self.mint=min(self.mint,row)\n",
    "                if(row in hmap):\n",
    "                    if(hmap[row][0]<=level):\n",
    "                        hmap[row]=(level,root)\n",
    "                else:\n",
    "                    hmap[row]=(level,root)\n",
    "        helper(0,0,root)\n",
    "        ret=[]\n",
    "        while(self.mint in hmap):\n",
    "            ret.append(hmap[self.mint][1].data)\n",
    "            self.mint+=1\n",
    "        return(ret)\n",
    "o=Solution()\n",
    "o.bottomView(o1)"
   ]
  },
  {
   "cell_type": "code",
   "execution_count": 26,
   "metadata": {},
   "outputs": [
    {
     "data": {
      "text/plain": [
       "[8, 4, 12, 6, 14, 7, 15]"
      ]
     },
     "execution_count": 26,
     "metadata": {},
     "output_type": "execute_result"
    }
   ],
   "source": [
    "class Solution:\n",
    "    def bottomView(self, root):\n",
    "        hmap={}\n",
    "        self.mint=0\n",
    "        def helper(level,row,root):\n",
    "            if(root):\n",
    "                self.mint=min(self.mint,row)\n",
    "                if(row in hmap):\n",
    "                    if(hmap[row][0]<=level):\n",
    "                        hmap[row]=(level,root)\n",
    "                else:\n",
    "                    hmap[row]=(level,root)                    \n",
    "                helper(level+1,row-1,root.left)\n",
    "                helper(level+1,row+1,root.right)\n",
    "        helper(0,0,root)\n",
    "        ret=[]\n",
    "        while(self.mint in hmap):\n",
    "            ret.append(hmap[self.mint][1].data)\n",
    "            self.mint+=1\n",
    "        return(ret)\n",
    "o=Solution()\n",
    "o.bottomView(o1)"
   ]
  },
  {
   "cell_type": "code",
   "execution_count": 10,
   "metadata": {},
   "outputs": [
    {
     "ename": "NodeNotFoundError",
     "evalue": "parent node missing at index 2",
     "output_type": "error",
     "traceback": [
      "\u001b[1;31m---------------------------------------------------------------------------\u001b[0m",
      "\u001b[1;31mNodeNotFoundError\u001b[0m                         Traceback (most recent call last)",
      "\u001b[1;32m~\\AppData\\Local\\Temp/ipykernel_58052/1386395189.py\u001b[0m in \u001b[0;36m<module>\u001b[1;34m\u001b[0m\n\u001b[0;32m      1\u001b[0m \u001b[1;32mfrom\u001b[0m \u001b[0mbinarytree\u001b[0m \u001b[1;32mimport\u001b[0m \u001b[0mtree\u001b[0m\u001b[1;33m,\u001b[0m \u001b[0mNode\u001b[0m\u001b[1;33m,\u001b[0m\u001b[0mbuild\u001b[0m\u001b[1;33m\u001b[0m\u001b[1;33m\u001b[0m\u001b[0m\n\u001b[0;32m      2\u001b[0m \u001b[0ma\u001b[0m\u001b[1;33m=\u001b[0m\u001b[1;33m[\u001b[0m\u001b[1;36m16\u001b[0m\u001b[1;33m,\u001b[0m\u001b[1;36m4\u001b[0m\u001b[1;33m,\u001b[0m\u001b[1;32mNone\u001b[0m\u001b[1;33m,\u001b[0m\u001b[1;36m17\u001b[0m\u001b[1;33m,\u001b[0m\u001b[1;36m11\u001b[0m\u001b[1;33m,\u001b[0m\u001b[1;32mNone\u001b[0m\u001b[1;33m,\u001b[0m\u001b[1;36m12\u001b[0m\u001b[1;33m,\u001b[0m\u001b[1;36m15\u001b[0m\u001b[1;33m,\u001b[0m\u001b[1;32mNone\u001b[0m\u001b[1;33m,\u001b[0m\u001b[1;36m10\u001b[0m\u001b[1;33m,\u001b[0m\u001b[1;36m3\u001b[0m\u001b[1;33m,\u001b[0m\u001b[1;32mNone\u001b[0m\u001b[1;33m,\u001b[0m\u001b[1;36m1\u001b[0m\u001b[1;33m,\u001b[0m\u001b[1;36m13\u001b[0m\u001b[1;33m,\u001b[0m\u001b[1;32mNone\u001b[0m\u001b[1;33m,\u001b[0m\u001b[1;36m14\u001b[0m\u001b[1;33m,\u001b[0m\u001b[1;36m8\u001b[0m\u001b[1;33m,\u001b[0m\u001b[1;32mNone\u001b[0m\u001b[1;33m,\u001b[0m\u001b[1;36m13\u001b[0m\u001b[1;33m,\u001b[0m\u001b[1;36m10\u001b[0m\u001b[1;33m,\u001b[0m\u001b[1;32mNone\u001b[0m\u001b[1;33m,\u001b[0m\u001b[1;36m14\u001b[0m\u001b[1;33m,\u001b[0m\u001b[1;36m11\u001b[0m\u001b[1;33m,\u001b[0m\u001b[1;32mNone\u001b[0m\u001b[1;33m,\u001b[0m\u001b[1;36m3\u001b[0m\u001b[1;33m,\u001b[0m\u001b[1;36m7\u001b[0m\u001b[1;33m,\u001b[0m\u001b[1;32mNone\u001b[0m\u001b[1;33m,\u001b[0m\u001b[1;36m9\u001b[0m\u001b[1;33m,\u001b[0m\u001b[1;36m15\u001b[0m\u001b[1;33m]\u001b[0m\u001b[1;33m\u001b[0m\u001b[1;33m\u001b[0m\u001b[0m\n\u001b[1;32m----> 3\u001b[1;33m \u001b[0mrooted\u001b[0m\u001b[1;33m=\u001b[0m\u001b[0mbuild\u001b[0m\u001b[1;33m(\u001b[0m\u001b[0ma\u001b[0m\u001b[1;33m)\u001b[0m\u001b[1;33m\u001b[0m\u001b[1;33m\u001b[0m\u001b[0m\n\u001b[0m\u001b[0;32m      4\u001b[0m \u001b[0mprint\u001b[0m\u001b[1;33m(\u001b[0m\u001b[0mrooted\u001b[0m\u001b[1;33m)\u001b[0m\u001b[1;33m\u001b[0m\u001b[1;33m\u001b[0m\u001b[0m\n",
      "\u001b[1;32m~\\AppData\\Local\\Programs\\Python\\Python39\\lib\\site-packages\\binarytree\\__init__.py\u001b[0m in \u001b[0;36mbuild\u001b[1;34m(values)\u001b[0m\n\u001b[0;32m   2130\u001b[0m             \u001b[0mparent\u001b[0m \u001b[1;33m=\u001b[0m \u001b[0mnodes\u001b[0m\u001b[1;33m[\u001b[0m\u001b[0mparent_index\u001b[0m\u001b[1;33m]\u001b[0m\u001b[1;33m\u001b[0m\u001b[1;33m\u001b[0m\u001b[0m\n\u001b[0;32m   2131\u001b[0m             \u001b[1;32mif\u001b[0m \u001b[0mparent\u001b[0m \u001b[1;32mis\u001b[0m \u001b[1;32mNone\u001b[0m\u001b[1;33m:\u001b[0m\u001b[1;33m\u001b[0m\u001b[1;33m\u001b[0m\u001b[0m\n\u001b[1;32m-> 2132\u001b[1;33m                 raise NodeNotFoundError(\n\u001b[0m\u001b[0;32m   2133\u001b[0m                     \u001b[1;34m\"parent node missing at index {}\"\u001b[0m\u001b[1;33m.\u001b[0m\u001b[0mformat\u001b[0m\u001b[1;33m(\u001b[0m\u001b[0mparent_index\u001b[0m\u001b[1;33m)\u001b[0m\u001b[1;33m\u001b[0m\u001b[1;33m\u001b[0m\u001b[0m\n\u001b[0;32m   2134\u001b[0m                 )\n",
      "\u001b[1;31mNodeNotFoundError\u001b[0m: parent node missing at index 2"
     ]
    }
   ],
   "source": [
    "from binarytree import tree, Node,build\n",
    "a=\"16 4 N 17 11 N 12 15 N 10 3 N 1 13 N 14 8 N 13 10 N 14 11 N 3 7 N 9 15\""
   ]
  },
  {
   "cell_type": "code",
   "execution_count": 11,
   "metadata": {},
   "outputs": [
    {
     "name": "stdout",
     "output_type": "stream",
     "text": [
      "\n",
      "        __7\n",
      "       /   \\\n",
      "    __3     2\n",
      "   /   \\     \\\n",
      "  6     9     1\n",
      " / \\\n",
      "5   8\n",
      "\n"
     ]
    }
   ],
   "source": [
    "values = [7, 3, 2, 6, 9, None, 1, 5, 8]\n",
    "root = build(values)\n",
    "print(root)"
   ]
  },
  {
   "cell_type": "code",
   "execution_count": 12,
   "metadata": {},
   "outputs": [],
   "source": [
    "import sys\n",
    "sys.setrecursionlimit(50000)\n",
    "#Contributed by Sudarshan Sharma\n",
    "from collections import deque\n",
    "from collections import defaultdict\n",
    "# Tree Node\n",
    "class Node:\n",
    "    def __init__(self, val):\n",
    "        self.right = None\n",
    "        self.data = val\n",
    "        self.left = None\n",
    "\n",
    "# Function to Build Tree   \n",
    "def buildTree(s):\n",
    "    #Corner Case\n",
    "    if(len(s)==0 or s[0]==\"N\"):           \n",
    "        return None\n",
    "        \n",
    "    # Creating list of strings from input \n",
    "    # string after spliting by space\n",
    "    ip=list(map(str,s.split()))\n",
    "    \n",
    "    # Create the root of the tree\n",
    "    root=Node(int(ip[0]))                     \n",
    "    size=0\n",
    "    q=deque()\n",
    "    \n",
    "    # Push the root to the queue\n",
    "    q.append(root)                            \n",
    "    size=size+1 \n",
    "    \n",
    "    # Starting from the second element\n",
    "    i=1                                       \n",
    "    while(size>0 and i<len(ip)):\n",
    "        # Get and remove the front of the queue\n",
    "        currNode=q[0]\n",
    "        q.popleft()\n",
    "        size=size-1\n",
    "        \n",
    "        # Get the current node's value from the string\n",
    "        currVal=ip[i]\n",
    "        \n",
    "        # If the left child is not null\n",
    "        if(currVal!=\"N\"):\n",
    "            \n",
    "            # Create the left child for the current node\n",
    "            currNode.left=Node(int(currVal))\n",
    "            \n",
    "            # Push it to the queue\n",
    "            q.append(currNode.left)\n",
    "            size=size+1\n",
    "        # For the right child\n",
    "        i=i+1\n",
    "        if(i>=len(ip)):\n",
    "            break\n",
    "        currVal=ip[i]\n",
    "        \n",
    "        # If the right child is not null\n",
    "        if(currVal!=\"N\"):\n",
    "            \n",
    "            # Create the right child for the current node\n",
    "            currNode.right=Node(int(currVal))\n",
    "            \n",
    "            # Push it to the queue\n",
    "            q.append(currNode.right)\n",
    "            size=size+1\n",
    "        i=i+1\n",
    "    return root\n",
    "s=\"16 4 N 17 11 N 12 15 N 10 3 N 1 13 N 14 8 N 13 10 N 14 11 N 3 7 N 9 15\"\n",
    "a=buildTree(s)\n",
    "# } Driver Code Ends"
   ]
  },
  {
   "cell_type": "code",
   "execution_count": 14,
   "metadata": {},
   "outputs": [
    {
     "data": {
      "text/plain": [
       "4"
      ]
     },
     "execution_count": 14,
     "metadata": {},
     "output_type": "execute_result"
    }
   ],
   "source": [
    "a.left.data"
   ]
  },
  {
   "cell_type": "code",
   "execution_count": 16,
   "metadata": {},
   "outputs": [
    {
     "name": "stdout",
     "output_type": "stream",
     "text": [
      "\n",
      "        1\n",
      "       /\n",
      "    __2\n",
      "   /\n",
      "  3\n",
      " / \\\n",
      "4   5\n",
      "\n"
     ]
    }
   ],
   "source": [
    "from binarytree import build, build2, Node\n",
    "root = Node(1)\n",
    "root.left = Node(2)\n",
    "root.left.left = Node(3)\n",
    "root.left.left.left = Node(4)\n",
    "root.left.left.right = Node(5)\n",
    "print(root)\n",
    "#\n",
    "#           1\n",
    "#          /\n",
    "#       __2\n",
    "#      /\n",
    "#     3\n",
    "#    / \\\n",
    "#   4   5"
   ]
  },
  {
   "cell_type": "code",
   "execution_count": null,
   "metadata": {},
   "outputs": [],
   "source": []
  },
  {
   "cell_type": "code",
   "execution_count": null,
   "metadata": {},
   "outputs": [],
   "source": []
  },
  {
   "cell_type": "code",
   "execution_count": null,
   "metadata": {},
   "outputs": [],
   "source": []
  },
  {
   "cell_type": "code",
   "execution_count": null,
   "metadata": {},
   "outputs": [],
   "source": []
  },
  {
   "cell_type": "code",
   "execution_count": null,
   "metadata": {},
   "outputs": [],
   "source": []
  },
  {
   "cell_type": "code",
   "execution_count": null,
   "metadata": {},
   "outputs": [],
   "source": []
  }
 ],
 "metadata": {
  "interpreter": {
   "hash": "11ad92808b9e536a1bda76e6f18576c204b1bdc67c9013f7331a2b858d211f20"
  },
  "kernelspec": {
   "display_name": "Python 3.9.6 64-bit",
   "language": "python",
   "name": "python3"
  },
  "language_info": {
   "codemirror_mode": {
    "name": "ipython",
    "version": 3
   },
   "file_extension": ".py",
   "mimetype": "text/x-python",
   "name": "python",
   "nbconvert_exporter": "python",
   "pygments_lexer": "ipython3",
   "version": "3.9.6"
  },
  "orig_nbformat": 4
 },
 "nbformat": 4,
 "nbformat_minor": 2
}
