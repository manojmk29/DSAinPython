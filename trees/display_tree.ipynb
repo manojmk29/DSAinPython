{
 "cells": [
  {
   "cell_type": "code",
   "execution_count": 2,
   "metadata": {},
   "outputs": [],
   "source": [
    "class Node:\n",
    "    def __init__(self, val):\n",
    "        self.right = None\n",
    "        self.val = val\n",
    "        self.left = None"
   ]
  },
  {
   "cell_type": "code",
   "execution_count": 3,
   "metadata": {},
   "outputs": [],
   "source": [
    "def print_tree(root, val=\"val\", left=\"left\", right=\"right\"):\n",
    "    def display(root, val=val, left=left, right=right):\n",
    "        \"\"\"Returns list of strings, width, height, and horizontal coordinate of the root.\"\"\"\n",
    "        # No child.\n",
    "        if getattr(root, right) is None and getattr(root, left) is None:\n",
    "            line = '%s' % getattr(root, val)\n",
    "            width = len(line)\n",
    "            height = 1\n",
    "            middle = width // 2\n",
    "            return [line], width, height, middle\n",
    "\n",
    "        # Only left child.\n",
    "        if getattr(root, right) is None:\n",
    "            lines, n, p, x = display(getattr(root, left))\n",
    "            s = '%s' % getattr(root, val)\n",
    "            u = len(s)\n",
    "            first_line = (x + 1) * ' ' + (n - x - 1) * '_' + s\n",
    "            second_line = x * ' ' + '/' + (n - x - 1 + u) * ' '\n",
    "            shifted_lines = [line + u * ' ' for line in lines]\n",
    "            return [first_line, second_line] + shifted_lines, n + u, p + 2, n + u // 2\n",
    "\n",
    "        # Only right child.\n",
    "        if getattr(root, left) is None:\n",
    "            lines, n, p, x = display(getattr(root, right))\n",
    "            s = '%s' % getattr(root, val)\n",
    "            u = len(s)\n",
    "            first_line = s + x * '_' + (n - x) * ' '\n",
    "            second_line = (u + x) * ' ' + '\\\\' + (n - x - 1) * ' '\n",
    "            shifted_lines = [u * ' ' + line for line in lines]\n",
    "            return [first_line, second_line] + shifted_lines, n + u, p + 2, u // 2\n",
    "\n",
    "        # Two children.\n",
    "        left, n, p, x = display(getattr(root, left))\n",
    "        right, m, q, y = display(getattr(root, right))\n",
    "        s = '%s' % getattr(root, val)\n",
    "        u = len(s)\n",
    "        first_line = (x + 1) * ' ' + (n - x - 1) * '_' + s + y * '_' + (m - y) * ' '\n",
    "        second_line = x * ' ' + '/' + (n - x - 1 + u + y) * ' ' + '\\\\' + (m - y - 1) * ' '\n",
    "        if p < q:\n",
    "            left += [n * ' '] * (q - p)\n",
    "        elif q < p:\n",
    "            right += [m * ' '] * (p - q)\n",
    "        zipped_lines = zip(left, right)\n",
    "        lines = [first_line, second_line] + [a + u * ' ' + b for a, b in zipped_lines]\n",
    "        return lines, n + m + u, max(p, q) + 2, n + u // 2\n",
    "\n",
    "    lines, *_ = display(root, val, left, right)\n",
    "    for line in lines:\n",
    "        print(line)"
   ]
  },
  {
   "cell_type": "code",
   "execution_count": 4,
   "metadata": {},
   "outputs": [],
   "source": [
    "from collections import deque\n",
    "def buildTree(s):\n",
    "    #Corner Case\n",
    "    if(len(s)==0 or s[0]==\"N\"):           \n",
    "        return None\n",
    "        \n",
    "    # Creating list of strings from input \n",
    "    # string after spliting by space\n",
    "    ip=list(map(str,s.split()))\n",
    "    \n",
    "    # Create the root of the tree\n",
    "    root=Node(int(ip[0]))                     \n",
    "    size=0\n",
    "    q=deque()\n",
    "    \n",
    "    # Push the root to the queue\n",
    "    q.append(root)                            \n",
    "    size=size+1 \n",
    "    \n",
    "    # Starting from the second element\n",
    "    i=1                                       \n",
    "    while(size>0 and i<len(ip)):\n",
    "        # Get and remove the front of the queue\n",
    "        currNode=q[0]\n",
    "        q.popleft()\n",
    "        size=size-1\n",
    "        \n",
    "        # Get the current node's value from the string\n",
    "        currVal=ip[i]\n",
    "        \n",
    "        # If the left child is not null\n",
    "        if(currVal!=\"N\"):\n",
    "            \n",
    "            # Create the left child for the current node\n",
    "            currNode.left=Node(int(currVal))\n",
    "            \n",
    "            # Push it to the queue\n",
    "            q.append(currNode.left)\n",
    "            size=size+1\n",
    "        # For the right child\n",
    "        i=i+1\n",
    "        if(i>=len(ip)):\n",
    "            break\n",
    "        currVal=ip[i]\n",
    "        \n",
    "        # If the right child is not null\n",
    "        if(currVal!=\"N\"):\n",
    "            \n",
    "            # Create the right child for the current node\n",
    "            currNode.right=Node(int(currVal))\n",
    "            \n",
    "            # Push it to the queue\n",
    "            q.append(currNode.right)\n",
    "            size=size+1\n",
    "        i=i+1\n",
    "    return root\n"
   ]
  },
  {
   "cell_type": "code",
   "execution_count": 11,
   "metadata": {},
   "outputs": [
    {
     "data": {
      "text/plain": [
       "'1 2 3 4 5 N 6 7 N N N N 8 '"
      ]
     },
     "execution_count": 11,
     "metadata": {},
     "output_type": "execute_result"
    }
   ],
   "source": [
    "null=None\n",
    "# LEET CODE\n",
    "def changearr(arr):\n",
    "    ret=\"\"\n",
    "    for i in arr:\n",
    "        if(i==None):\n",
    "            ret+=\"N \"\n",
    "        else:\n",
    "            ret+=str(i)\n",
    "            ret+=\" \"\n",
    "    return(ret)\n",
    "\n",
    "changearr([1,2,3,4,5,null,6,7,null,null,null,null,8])"
   ]
  },
  {
   "cell_type": "code",
   "execution_count": 12,
   "metadata": {},
   "outputs": [
    {
     "name": "stdout",
     "output_type": "stream",
     "text": [
      "   _1   \n",
      "  /  \\  \n",
      "  2  3  \n",
      " / \\  \\ \n",
      " 4 5  6 \n",
      "/      \\\n",
      "7      8\n"
     ]
    }
   ],
   "source": [
    "inp='1 2 3 4 5 N 6 7 N N N N 8 '\n",
    "r=buildTree(inp)\n",
    "print_tree(r)\n",
    "#\n",
    "# 9 10 15 14 14 7 13 3"
   ]
  },
  {
   "cell_type": "code",
   "execution_count": 6,
   "metadata": {},
   "outputs": [],
   "source": [
    "class node:\n",
    "    def __init__(self,val,left=None,right=None):\n",
    "        self.val=val\n",
    "        if(left!=None):\n",
    "            self.left=left\n",
    "        else:\n",
    "            self.left=None\n",
    "        if(right!=None):\n",
    "            self.right=right\n",
    "        else:\n",
    "            self.right=None\n",
    "o1=node(1)\n",
    "o2=node(2)\n",
    "o3=node(3)\n",
    "o4=node(4)\n",
    "o5=node(5)\n",
    "o6=node(6)\n",
    "o7=node(7)\n",
    "o8=node(8)\n",
    "o9=node(9)\n",
    "o10=node(10)\n",
    "o11=node(11)\n",
    "o12=node(12)\n",
    "o13=node(13)\n",
    "o14=node(14)\n",
    "o15=node(15)\n",
    "o1.left=o2\n",
    "o1.right=o3\n",
    "o2.left=o4\n",
    "o2.right=o5\n",
    "o3.left=o6\n",
    "o3.right=o7\n",
    "o4.left=o8\n",
    "o4.right=o9\n",
    "o5.left=o10\n",
    "o5.right=o11\n",
    "o6.left=o12\n",
    "o6.right=o13\n",
    "o7.left=o14\n",
    "o7.right=o15"
   ]
  },
  {
   "cell_type": "code",
   "execution_count": 7,
   "metadata": {},
   "outputs": [
    {
     "name": "stdout",
     "output_type": "stream",
     "text": [
      "    _____1_____      \n",
      "   /           \\     \n",
      "  _2__       __3__   \n",
      " /    \\     /     \\  \n",
      " 4    5_    6_    7_ \n",
      "/ \\  /  \\  /  \\  /  \\\n",
      "8 9 10 11 12 13 14 15\n"
     ]
    }
   ],
   "source": [
    "print_tree(o1)"
   ]
  },
  {
   "cell_type": "code",
   "execution_count": 8,
   "metadata": {},
   "outputs": [],
   "source": [
    "#preorder    1 2 4 8 9 5 10 11 3 6 12 13 7 14 15\n",
    "#postorder   8 9 4 10 11 5 2 12 13 6 14 15 7 3 1\n",
    "#inorder     8 4 9 2 10 5 11 1 12 6 14 3 14 7 15"
   ]
  }
 ],
 "metadata": {
  "interpreter": {
   "hash": "11ad92808b9e536a1bda76e6f18576c204b1bdc67c9013f7331a2b858d211f20"
  },
  "kernelspec": {
   "display_name": "Python 3.9.6 64-bit",
   "language": "python",
   "name": "python3"
  },
  "language_info": {
   "codemirror_mode": {
    "name": "ipython",
    "version": 3
   },
   "file_extension": ".py",
   "mimetype": "text/x-python",
   "name": "python",
   "nbconvert_exporter": "python",
   "pygments_lexer": "ipython3",
   "version": "3.9.6"
  },
  "orig_nbformat": 4
 },
 "nbformat": 4,
 "nbformat_minor": 2
}
