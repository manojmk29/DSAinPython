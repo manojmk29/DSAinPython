{
 "cells": [
  {
   "cell_type": "code",
   "execution_count": 22,
   "metadata": {},
   "outputs": [],
   "source": [
    "class Solution(object):\n",
    "    def zigzagLevelOrder(self, root):\n",
    "        \"\"\"\n",
    "        :type root: TreeNode\n",
    "        :rtype: List[List[int]]\n",
    "        \"\"\"\n",
    "        ### CAN USE SINGLE DEQUE ,BY USING LENGTH OF DEQUE\n",
    "        import collections\n",
    "        queue=collections.deque()\n",
    "        if(root):\n",
    "            queue.append(root)\n",
    "        ret=[]\n",
    "        flag=1\n",
    "        while(queue):\n",
    "            tq=collections.deque()\n",
    "            arr=[]\n",
    "            while(queue):\n",
    "                temp=queue.popleft()\n",
    "                if(temp.left):\n",
    "                    tq.append(temp.left)\n",
    "                if(temp.right):\n",
    "                    tq.append(temp.right)\n",
    "                arr.append(temp.val)\n",
    "            queue=tq\n",
    "            # if(flag==-1):\n",
    "            #     ret+=[arr]\n",
    "            # else:\n",
    "                # ret+=[arr[::-1]]\n",
    "            ret+=[arr[::flag]]\n",
    "            flag*=-1\n",
    "        return(ret)"
   ]
  },
  {
   "cell_type": "code",
   "execution_count": 21,
   "metadata": {},
   "outputs": [
    {
     "name": "stdout",
     "output_type": "stream",
     "text": [
      "[16, 15, 14, 13, 12, 11, 10, 9, 8, 7, 6, 5, 4, 3, 2, 1]\n",
      "[16, 14, 12, 10, 8, 6, 4, 2]\n",
      "[1, 2, 3, 4, 5, 6, 7, 8, 9, 10, 11, 12, 13, 14, 15, 16]\n",
      "[1, 3, 5, 7, 9, 11, 13, 15]\n"
     ]
    }
   ],
   "source": [
    "a=[1,2,3,4,5,6,7,8,9,10,11,12,13,14,15,16]\n",
    "print(a[::-1])\n",
    "print(a[::-2])\n",
    "print(a[::1])\n",
    "print(a[::2])"
   ]
  },
  {
   "cell_type": "code",
   "execution_count": null,
   "metadata": {},
   "outputs": [],
   "source": []
  }
 ],
 "metadata": {
  "interpreter": {
   "hash": "23eed823d04cb3619d1de292a5979353482047dfa3b97852dd7898885855d753"
  },
  "kernelspec": {
   "display_name": "Python 3.8.8 64-bit ('base': conda)",
   "language": "python",
   "name": "python3"
  },
  "language_info": {
   "codemirror_mode": {
    "name": "ipython",
    "version": 3
   },
   "file_extension": ".py",
   "mimetype": "text/x-python",
   "name": "python",
   "nbconvert_exporter": "python",
   "pygments_lexer": "ipython3",
   "version": "3.9.6"
  },
  "orig_nbformat": 4
 },
 "nbformat": 4,
 "nbformat_minor": 2
}
