{
 "cells": [
  {
   "cell_type": "code",
   "execution_count": 10,
   "metadata": {},
   "outputs": [],
   "source": [
    "class node:\n",
    "    def __init__(self,data,left=None,right=None):\n",
    "        self.data=data\n",
    "        self.left=left\n",
    "        self.right=right\n",
    "ob=node(1)\n",
    "oc=node(2)\n",
    "od=node(3)\n",
    "ob.left=oc\n",
    "ob.right=od"
   ]
  },
  {
   "cell_type": "code",
   "execution_count": 18,
   "metadata": {},
   "outputs": [
    {
     "data": {
      "text/plain": [
       "[1, 2, 3]"
      ]
     },
     "execution_count": 18,
     "metadata": {},
     "output_type": "execute_result"
    }
   ],
   "source": [
    "class Solution:\n",
    "    def printBoundaryView(self, root):\n",
    "        ret=[root.data]\n",
    "        def left(root):\n",
    "            temp=[]\n",
    "            while(root):\n",
    "                temp.append(root.data)\n",
    "                if(root.left):\n",
    "                    root=root.left\n",
    "                elif(root.right):\n",
    "                    root=root.right\n",
    "                else:\n",
    "                    root=None\n",
    "            if(temp):\n",
    "                temp.pop()\n",
    "            return(temp)\n",
    "        ret+=left(root.left)\n",
    "        def inorder(root):\n",
    "            if(root.left==None and root.right==None):\n",
    "                ret.append(root.data)\n",
    "            if(root.left):\n",
    "                inorder(root.left)\n",
    "            if(root.right):\n",
    "                inorder(root.right)\n",
    "        inorder(root)\n",
    "        def right(root):\n",
    "            temp=[]\n",
    "            while(root):\n",
    "                temp.append(root.data)\n",
    "                if(root.right):\n",
    "                    root=root.right\n",
    "                elif(root.left):\n",
    "                    root=root.left\n",
    "                else:\n",
    "                    root=None\n",
    "            if(temp):\n",
    "                temp.pop()\n",
    "            return(temp[::-1])\n",
    "        ret+=right(root.right)\n",
    "        return(ret)\n",
    "o=Solution()\n",
    "o.printBoundaryView(ob)"
   ]
  },
  {
   "cell_type": "code",
   "execution_count": null,
   "metadata": {},
   "outputs": [],
   "source": []
  },
  {
   "cell_type": "code",
   "execution_count": 1,
   "metadata": {},
   "outputs": [
    {
     "data": {
      "text/plain": [
       "[1, 2, 3]"
      ]
     },
     "execution_count": 1,
     "metadata": {},
     "output_type": "execute_result"
    }
   ],
   "source": [
    "ret=[1]\n",
    "t=[2,3]\n",
    "ret+=t\n",
    "ret"
   ]
  },
  {
   "cell_type": "code",
   "execution_count": 6,
   "metadata": {},
   "outputs": [],
   "source": [
    "a=set()\n",
    "b=[1,2,3]\n",
    "a.update(b)"
   ]
  },
  {
   "cell_type": "code",
   "execution_count": 7,
   "metadata": {},
   "outputs": [
    {
     "data": {
      "text/plain": [
       "{1, 2, 3}"
      ]
     },
     "execution_count": 7,
     "metadata": {},
     "output_type": "execute_result"
    }
   ],
   "source": [
    "a"
   ]
  },
  {
   "cell_type": "code",
   "execution_count": 17,
   "metadata": {},
   "outputs": [
    {
     "name": "stdout",
     "output_type": "stream",
     "text": [
      "ff\n"
     ]
    }
   ],
   "source": [
    "a=[1]\n",
    "if(a):\n",
    "    print(\"ff\")"
   ]
  },
  {
   "cell_type": "code",
   "execution_count": null,
   "metadata": {},
   "outputs": [],
   "source": []
  }
 ],
 "metadata": {
  "interpreter": {
   "hash": "11ad92808b9e536a1bda76e6f18576c204b1bdc67c9013f7331a2b858d211f20"
  },
  "kernelspec": {
   "display_name": "Python 3.9.6 64-bit",
   "language": "python",
   "name": "python3"
  },
  "language_info": {
   "codemirror_mode": {
    "name": "ipython",
    "version": 3
   },
   "file_extension": ".py",
   "mimetype": "text/x-python",
   "name": "python",
   "nbconvert_exporter": "python",
   "pygments_lexer": "ipython3",
   "version": "3.9.6"
  },
  "orig_nbformat": 4
 },
 "nbformat": 4,
 "nbformat_minor": 2
}
