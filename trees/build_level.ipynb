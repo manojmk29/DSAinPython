{
 "cells": [
  {
   "cell_type": "code",
   "execution_count": 2,
   "metadata": {},
   "outputs": [
    {
     "name": "stdout",
     "output_type": "stream",
     "text": [
      "3 5 1 6 2 0 8 None None 7 4 "
     ]
    }
   ],
   "source": [
    "\n",
    "# Python3 program to construct\n",
    "# a binary tree in level order.\n",
    " \n",
    "# Importing Queue for use in\n",
    "# Level Order Traversal\n",
    "from collections import deque\n",
    " \n",
    "# Node class for holding the Binary Tree\n",
    "class node:\n",
    "    def __init__(self, data = None):\n",
    "        self.data = data\n",
    "        self.left = None\n",
    "        self.right = None\n",
    " \n",
    "Q = deque()\n",
    " \n",
    "# Helper function helps us in adding data\n",
    "# to the tree in Level Order\n",
    "def insertValue(data, root):\n",
    "    newnode = node(data)\n",
    "    if Q:\n",
    "        temp = Q[0]\n",
    "    if root == None:\n",
    "        root = newnode\n",
    "         \n",
    "    # The left child of the current Node is\n",
    "    # used if it is available.\n",
    "    elif temp.left == None:\n",
    "        temp.left = newnode\n",
    "     \n",
    "    # The right child of the current Node is used\n",
    "    # if it is available. Since the left child of this\n",
    "    # node has already been used, the Node is popped\n",
    "    # from the queue after using its right child.\n",
    "    elif temp.right == None:\n",
    "        temp.right = newnode\n",
    "        atemp = Q.popleft()\n",
    "     \n",
    "    # Whenever a new Node is added to the tree,\n",
    "    # its address is pushed into the queue.\n",
    "    # So that its children Nodes can be used later.\n",
    "    Q.append(newnode)\n",
    "    return root\n",
    " \n",
    "# Function which calls add which is responsible\n",
    "# for adding elements one by one\n",
    "def createTree(a, root):\n",
    "    for i in range(len(a)):\n",
    "        root = insertValue(a[i], root)\n",
    "    return root\n",
    " \n",
    "# Function for printing level order traversal\n",
    "def levelOrder(root):\n",
    "    Q = deque()\n",
    "    Q.append(root)\n",
    "    while Q:\n",
    "        temp = Q.popleft()\n",
    "        print(temp.data, end = ' ')\n",
    "        if temp.left != None:\n",
    "            Q.append(temp.left)\n",
    "        if temp.right != None:\n",
    "            Q.append(temp.right)\n",
    " \n",
    "# Driver Code\n",
    "a = [3,5,1,6,2,0,8,None,None,7,4]\n",
    "root = None\n",
    "root = createTree(a, root)\n",
    "levelOrder(root)\n",
    " \n",
    "# This code is contributed by code_freak"
   ]
  },
  {
   "cell_type": "code",
   "execution_count": 3,
   "metadata": {},
   "outputs": [],
   "source": [
    "class node:\n",
    "    def __init__(self, val = None):\n",
    "        self.val = val\n",
    "        self.left = None\n",
    "        self.right = None\n",
    "o3=node(3)\n",
    "o5=node(5)\n",
    "o1=node(1)\n",
    "o6=node(6)\n",
    "o2=node(2)\n",
    "o0=node(0)\n",
    "o8=node(8)\n",
    "o7=node(7)\n",
    "o4=node(4)\n",
    "\n",
    "o3.left=o5\n",
    "o3.right=o1\n",
    "\n",
    "o1.left=o0\n",
    "o1.right=o8\n",
    "\n",
    "o5.left=o6\n",
    "o5.right=o2\n",
    "\n",
    "o2.left=o7\n",
    "o2.right=o4"
   ]
  },
  {
   "cell_type": "code",
   "execution_count": 17,
   "metadata": {},
   "outputs": [
    {
     "name": "stdout",
     "output_type": "stream",
     "text": [
      "5\n"
     ]
    }
   ],
   "source": [
    "class Solution(object):\n",
    "    def lowestCommonAncestor(self, root, p, q):\n",
    "        \"\"\"\n",
    "        :type root: TreeNode\n",
    "        :type p: TreeNode\n",
    "        :type q: TreeNode\n",
    "        :rtype: TreeNode\n",
    "        \"\"\"\n",
    "        pval=p.val\n",
    "        qval=q.val\n",
    "        self.ret=None\n",
    "        def helper(root):\n",
    "            if(root):\n",
    "                rootv=root.val\n",
    "            else:\n",
    "                rootv=\"None\"\n",
    "            if(not root):\n",
    "                return(0,0)\n",
    "            l=helper(root.left)\n",
    "            r=helper(root.right)\n",
    "            lt=0\n",
    "            rt=0\n",
    "            if(l[0]==1 or r[0]==1 or root.val==pval):\n",
    "                lt=1\n",
    "            if(l[1]==1 or r[1]==1 or root.val==qval):\n",
    "                rt=1\n",
    "            if(lt and rt):\n",
    "                if(self.ret==None):\n",
    "                    self.ret=root\n",
    "            return(lt,rt)\n",
    "        helper(root)\n",
    "        return(self.ret)\n",
    "ob=Solution()\n",
    "obb=ob.lowestCommonAncestor(o3,o5,o4)\n",
    "print(obb.val)"
   ]
  },
  {
   "cell_type": "code",
   "execution_count": 16,
   "metadata": {},
   "outputs": [
    {
     "name": "stdout",
     "output_type": "stream",
     "text": [
      "ff\n"
     ]
    }
   ],
   "source": [
    "a=1\n",
    "b=0\n",
    "if(a or b):\n",
    "    print(\"ff\")"
   ]
  },
  {
   "cell_type": "code",
   "execution_count": null,
   "metadata": {},
   "outputs": [],
   "source": []
  }
 ],
 "metadata": {
  "interpreter": {
   "hash": "11ad92808b9e536a1bda76e6f18576c204b1bdc67c9013f7331a2b858d211f20"
  },
  "kernelspec": {
   "display_name": "Python 3.9.6 64-bit",
   "language": "python",
   "name": "python3"
  },
  "language_info": {
   "codemirror_mode": {
    "name": "ipython",
    "version": 3
   },
   "file_extension": ".py",
   "mimetype": "text/x-python",
   "name": "python",
   "nbconvert_exporter": "python",
   "pygments_lexer": "ipython3",
   "version": "3.9.6"
  },
  "orig_nbformat": 4
 },
 "nbformat": 4,
 "nbformat_minor": 2
}
