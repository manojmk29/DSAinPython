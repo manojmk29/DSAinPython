{
 "cells": [
  {
   "cell_type": "code",
   "execution_count": 1,
   "metadata": {},
   "outputs": [],
   "source": [
    "def widthOfBinaryTree(self, root):\n",
    "        \"\"\"\n",
    "        :type root: TreeNode\n",
    "        :rtype: int\n",
    "        \"\"\"\n",
    "        if not(root):\n",
    "            return(0)\n",
    "        ret=1\n",
    "        stack=[]\n",
    "        stack.append((root,1))\n",
    "        c=1\n",
    "        while(stack):\n",
    "            ret=max(ret,(stack[-1][1]-stack[0][1]+1))\n",
    "            new=[]\n",
    "            for i in stack:\n",
    "                if(i[0].left):\n",
    "                    new.append((i[0].left,(i[1]*2)+1))\n",
    "                if(i[0].right):\n",
    "                    new.append((i[0].right,(i[1]*2)+2))\n",
    "                stack=new\n",
    "        return(ret)"
   ]
  },
  {
   "cell_type": "code",
   "execution_count": null,
   "metadata": {},
   "outputs": [],
   "source": []
  }
 ],
 "metadata": {
  "interpreter": {
   "hash": "11ad92808b9e536a1bda76e6f18576c204b1bdc67c9013f7331a2b858d211f20"
  },
  "kernelspec": {
   "display_name": "Python 3.9.6 64-bit",
   "language": "python",
   "name": "python3"
  },
  "language_info": {
   "codemirror_mode": {
    "name": "ipython",
    "version": 3
   },
   "file_extension": ".py",
   "mimetype": "text/x-python",
   "name": "python",
   "nbconvert_exporter": "python",
   "pygments_lexer": "ipython3",
   "version": "3.9.6"
  },
  "orig_nbformat": 4
 },
 "nbformat": 4,
 "nbformat_minor": 2
}
