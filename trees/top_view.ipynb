{
 "cells": [
  {
   "cell_type": "code",
   "execution_count": 1,
   "metadata": {},
   "outputs": [],
   "source": [
    "class node:\n",
    "    def __init__(self,data,left=None,right=None):\n",
    "        self.data=data\n",
    "        if(left!=None):\n",
    "            self.left=left\n",
    "        else:\n",
    "            self.left=None\n",
    "        if(right!=None):\n",
    "            self.right=right\n",
    "        else:\n",
    "            self.right=None\n",
    "o1=node(1)\n",
    "o2=node(2)\n",
    "o3=node(3)\n",
    "o4=node(4)\n",
    "o5=node(5)\n",
    "o6=node(6)\n",
    "o7=node(7)\n",
    "o8=node(8)\n",
    "o9=node(9)\n",
    "o10=node(10)\n",
    "o11=node(11)\n",
    "o12=node(12)\n",
    "o13=node(13)\n",
    "o14=node(14)\n",
    "o15=node(15)\n",
    "o1.left=o2\n",
    "o1.right=o3\n",
    "o2.left=o4\n",
    "o2.right=o5\n",
    "o3.left=o6\n",
    "o3.right=o7\n",
    "o4.left=o8\n",
    "o4.right=o9\n",
    "o5.left=o10\n",
    "o5.right=o11\n",
    "o6.left=o12\n",
    "o6.right=o13\n",
    "o7.left=o14\n",
    "o7.right=o15"
   ]
  },
  {
   "cell_type": "code",
   "execution_count": 4,
   "metadata": {},
   "outputs": [
    {
     "data": {
      "text/plain": [
       "[8, 4, 2, 1, 3, 7, 15]"
      ]
     },
     "execution_count": 4,
     "metadata": {},
     "output_type": "execute_result"
    }
   ],
   "source": [
    "class Solution:\n",
    "    def bottomView(self, root):\n",
    "        hmap={}\n",
    "        self.mint=0\n",
    "        def helper(level,row,root):\n",
    "            if(root):\n",
    "                self.mint=min(self.mint,row)\n",
    "                if(row in hmap):\n",
    "                    if(hmap[row][0]>level):\n",
    "                        hmap[row]=(level,root)\n",
    "                else:\n",
    "                    hmap[row]=(level,root)                    \n",
    "                helper(level+1,row-1,root.left)\n",
    "                helper(level+1,row+1,root.right)\n",
    "        helper(0,0,root)\n",
    "        ret=[]\n",
    "        while(self.mint in hmap):\n",
    "            ret.append(hmap[self.mint][1].data)\n",
    "            self.mint+=1\n",
    "        return(ret)\n",
    "o=Solution()\n",
    "o.bottomView(o1)"
   ]
  },
  {
   "cell_type": "code",
   "execution_count": null,
   "metadata": {},
   "outputs": [],
   "source": []
  }
 ],
 "metadata": {
  "interpreter": {
   "hash": "11ad92808b9e536a1bda76e6f18576c204b1bdc67c9013f7331a2b858d211f20"
  },
  "kernelspec": {
   "display_name": "Python 3.9.6 64-bit",
   "language": "python",
   "name": "python3"
  },
  "language_info": {
   "codemirror_mode": {
    "name": "ipython",
    "version": 3
   },
   "file_extension": ".py",
   "mimetype": "text/x-python",
   "name": "python",
   "nbconvert_exporter": "python",
   "pygments_lexer": "ipython3",
   "version": "3.9.6"
  },
  "orig_nbformat": 4
 },
 "nbformat": 4,
 "nbformat_minor": 2
}
