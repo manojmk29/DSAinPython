{
 "cells": [
  {
   "cell_type": "code",
   "execution_count": 1,
   "metadata": {},
   "outputs": [],
   "source": [
    "def levelOrder(root):\n",
    "    import collections\n",
    "    \"\"\"\n",
    "    :type root: TreeNode\n",
    "    :rtype: List[List[int]]\n",
    "    \"\"\"\n",
    "    queue=collections.deque()\n",
    "    if(root):\n",
    "        queue.append(root)\n",
    "    ret=[]\n",
    "    while(queue):\n",
    "        temp=collections.deque()\n",
    "        val=[]\n",
    "        while(queue):\n",
    "            i=queue.popleft()\n",
    "            val.append(i.val)\n",
    "            if(i.left):\n",
    "                temp.append(i.left)\n",
    "            if(i.right):\n",
    "                temp.append(i.right)\n",
    "        ret.append(val)\n",
    "        queue=temp\n",
    "    return(ret)"
   ]
  },
  {
   "cell_type": "code",
   "execution_count": null,
   "metadata": {},
   "outputs": [],
   "source": []
  }
 ],
 "metadata": {
  "interpreter": {
   "hash": "11ad92808b9e536a1bda76e6f18576c204b1bdc67c9013f7331a2b858d211f20"
  },
  "kernelspec": {
   "display_name": "Python 3.9.6 64-bit",
   "language": "python",
   "name": "python3"
  },
  "language_info": {
   "codemirror_mode": {
    "name": "ipython",
    "version": 3
   },
   "file_extension": ".py",
   "mimetype": "text/x-python",
   "name": "python",
   "nbconvert_exporter": "python",
   "pygments_lexer": "ipython3",
   "version": "3.9.6"
  },
  "orig_nbformat": 4
 },
 "nbformat": 4,
 "nbformat_minor": 2
}
