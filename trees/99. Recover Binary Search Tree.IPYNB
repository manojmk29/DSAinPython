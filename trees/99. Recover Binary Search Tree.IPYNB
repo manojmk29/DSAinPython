{
 "cells": [
  {
   "cell_type": "code",
   "execution_count": 20,
   "metadata": {},
   "outputs": [
    {
     "name": "stdout",
     "output_type": "stream",
     "text": [
      "999\n"
     ]
    }
   ],
   "source": [
    "class f:\n",
    "    def __init__(self,val=0):\n",
    "        self.val=val\n",
    "        self.next=None\n",
    "a=f(6)\n",
    "b=f(88)\n",
    "a.next=b\n",
    "v=a.next\n",
    "v.val=999\n",
    "print(b.val)"
   ]
  },
  {
   "cell_type": "code",
   "execution_count": null,
   "metadata": {},
   "outputs": [],
   "source": [
    "# Definition for a binary tree node.\n",
    "# class TreeNode:\n",
    "#     def __init__(self, val=0, left=None, right=None):\n",
    "#         self.val = val\n",
    "#         self.left = left\n",
    "#         self.right = right\n",
    "class Solution:\n",
    "    def recoverTree(self, root) -> None:\n",
    "        \"\"\"\n",
    "        Do not return anything, modify root in-place instead.\n",
    "        \"\"\"\n",
    "        self.first=None\n",
    "        self.second=None\n",
    "        self.prev=None\n",
    "        def helper(root):\n",
    "            if(not root):\n",
    "                return\n",
    "            val=root.val\n",
    "            helper(root.left)\n",
    "            if(self.prev and self.prev.val>val):\n",
    "                if(not self.first):\n",
    "                    self.first=self.prev\n",
    "                self.second=root\n",
    "            self.prev=root\n",
    "            helper(root.right)\n",
    "        helper(root)\n",
    "        self.first.val,self.second.val=self.second.val,self.first.val\n",
    "        return(root)"
   ]
  },
  {
   "cell_type": "code",
   "execution_count": 14,
   "metadata": {},
   "outputs": [],
   "source": [
    "ab=None\n",
    "b=None\n",
    "c=ab or b\n",
    "c"
   ]
  },
  {
   "cell_type": "code",
   "execution_count": 6,
   "metadata": {},
   "outputs": [],
   "source": [
    "def func():\n",
    "    return\n",
    "a=func()\n",
    "if(a):\n",
    "    print(\"dvdfv\")"
   ]
  },
  {
   "cell_type": "code",
   "execution_count": 7,
   "metadata": {},
   "outputs": [
    {
     "name": "stdout",
     "output_type": "stream",
     "text": [
      "dvdfv\n"
     ]
    }
   ],
   "source": [
    "def func():\n",
    "    return 1\n",
    "a=func()\n",
    "if(a):\n",
    "    print(\"dvdfv\")"
   ]
  }
 ],
 "metadata": {
  "interpreter": {
   "hash": "11ad92808b9e536a1bda76e6f18576c204b1bdc67c9013f7331a2b858d211f20"
  },
  "kernelspec": {
   "display_name": "Python 3.9.6 64-bit",
   "language": "python",
   "name": "python3"
  },
  "language_info": {
   "codemirror_mode": {
    "name": "ipython",
    "version": 3
   },
   "file_extension": ".py",
   "mimetype": "text/x-python",
   "name": "python",
   "nbconvert_exporter": "python",
   "pygments_lexer": "ipython3",
   "version": "3.9.6"
  },
  "orig_nbformat": 4
 },
 "nbformat": 4,
 "nbformat_minor": 2
}
