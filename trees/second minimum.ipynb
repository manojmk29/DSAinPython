{
 "cells": [
  {
   "cell_type": "code",
   "execution_count": null,
   "metadata": {},
   "outputs": [],
   "source": [
    "class Solution(object):\n",
    "    def findSecondMinimumValue(self, root):\n",
    "        \"\"\"\n",
    "        :type root: TreeNode\n",
    "        :rtype: int\n",
    "        \"\"\"\n",
    "        val=root.val\n",
    "        maxt=float(\"inf\")\n",
    "        mint=-float(\"inf\")\n",
    "        def helper(root):\n",
    "            if(not root):\n",
    "                return(maxt)\n",
    "            if(root.val>val):\n",
    "                return(root.val)\n",
    "            left=helper(root.left)\n",
    "            right=helper(root.right)\n",
    "            return(min(left,right))\n",
    "        ret=helper(root)\n",
    "        if(ret==maxt):\n",
    "            return(-1)\n",
    "        else:\n",
    "            return(ret)"
   ]
  }
 ],
 "metadata": {
  "language_info": {
   "name": "python"
  },
  "orig_nbformat": 4
 },
 "nbformat": 4,
 "nbformat_minor": 2
}
