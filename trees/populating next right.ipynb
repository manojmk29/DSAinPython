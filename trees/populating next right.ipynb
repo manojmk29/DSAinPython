{
 "cells": [
  {
   "cell_type": "code",
   "execution_count": null,
   "metadata": {},
   "outputs": [],
   "source": [
    "\"\"\"\n",
    "# Definition for a Node.\n",
    "class Node(object):\n",
    "    def __init__(self, val=0, left=None, right=None, next=None):\n",
    "        self.val = val\n",
    "        self.left = left\n",
    "        self.right = right\n",
    "        self.next = next\n",
    "\"\"\"\n",
    "import collections\n",
    "class Solution(object):\n",
    "    def connect(self, root):\n",
    "        \"\"\"\n",
    "        :type root: Node\n",
    "        :rtype: Node\n",
    "        \"\"\"\n",
    "        stack=collections.deque()\n",
    "        if(root):\n",
    "            stack.append(root)\n",
    "        while(stack):\n",
    "            prev=None\n",
    "            l=len(stack)\n",
    "            for i in range(l):\n",
    "                temp=stack.popleft()\n",
    "                if(prev==None):\n",
    "                    prev=temp\n",
    "                else:\n",
    "                    prev.next=temp\n",
    "                    prev=temp\n",
    "                if(prev.left):\n",
    "                    stack.append(prev.left)\n",
    "                if(prev.right):\n",
    "                    stack.append(prev.right)\n",
    "        return(root)"
   ]
  },
  {
   "cell_type": "code",
   "execution_count": null,
   "metadata": {},
   "outputs": [],
   "source": [
    "class Solution(object):\n",
    "    def connect(self, root):\n",
    "        \"\"\"\n",
    "        :type root: Node\n",
    "        :rtype: Node\n",
    "        \"\"\"\n",
    "        if(not root):\n",
    "                return(None)\n",
    "        if(root.left):\n",
    "            self.connect(root.left)\n",
    "            self.connect(root.right)\n",
    "            left=root.left\n",
    "            right=root.right\n",
    "            while(left):\n",
    "                left.next=right\n",
    "                left=left.right\n",
    "                right=right.left\n",
    "            return(root)\n",
    "# you are a dumb person"
   ]
  },
  {
   "cell_type": "code",
   "execution_count": null,
   "metadata": {},
   "outputs": [],
   "source": []
  }
 ],
 "metadata": {
  "language_info": {
   "name": "python"
  },
  "orig_nbformat": 4
 },
 "nbformat": 4,
 "nbformat_minor": 2
}
