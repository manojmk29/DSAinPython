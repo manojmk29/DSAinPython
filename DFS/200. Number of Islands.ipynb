{
 "cells": [
  {
   "cell_type": "code",
   "execution_count": 14,
   "metadata": {},
   "outputs": [
    {
     "data": {
      "text/plain": [
       "1"
      ]
     },
     "execution_count": 14,
     "metadata": {},
     "output_type": "execute_result"
    }
   ],
   "source": [
    "class Solution(object):\n",
    "    def numIslands(self, grid):\n",
    "        \"\"\"\n",
    "        :type grid: List[List[str]]\n",
    "        :rtype: int\n",
    "        \"\"\"\n",
    "        r=len(grid)\n",
    "        c=len(grid[0])\n",
    "        ret=0\n",
    "        def helper(k,l):\n",
    "            if(k>=r or k<0 or l>=c or l<0):\n",
    "                return\n",
    "            if(grid[k][l]==\"-1\" or grid[k][l]==\"0\"):\n",
    "                return\n",
    "            else:\n",
    "                grid[k][l]=\"-1\"\n",
    "                helper(k+1,l)\n",
    "                helper(k-1,l)\n",
    "                helper(k,l-1)\n",
    "                helper(k,l+1)\n",
    "        for i in range(r):\n",
    "            for j in range(c):\n",
    "                if(grid[i][j]==\"1\"):\n",
    "                    ret+=1\n",
    "                    helper(i,j)\n",
    "        return(ret)\n",
    "b=Solution()\n",
    "inp=[[\"1\",\"1\",\"1\"],[\"0\",\"1\",\"0\"],[\"1\",\"1\",\"1\"]]\n",
    "b.numIslands(inp)"
   ]
  },
  {
   "cell_type": "code",
   "execution_count": null,
   "metadata": {},
   "outputs": [],
   "source": [
    "1 1 1\n",
    "0 1 0\n",
    "1 1 1"
   ]
  },
  {
   "cell_type": "code",
   "execution_count": 16,
   "metadata": {},
   "outputs": [],
   "source": [
    "a=None\n",
    "if(a):\n",
    "    print(\"ooo\")"
   ]
  },
  {
   "cell_type": "code",
   "execution_count": null,
   "metadata": {},
   "outputs": [],
   "source": []
  }
 ],
 "metadata": {
  "interpreter": {
   "hash": "11ad92808b9e536a1bda76e6f18576c204b1bdc67c9013f7331a2b858d211f20"
  },
  "kernelspec": {
   "display_name": "Python 3.9.6 64-bit",
   "language": "python",
   "name": "python3"
  },
  "language_info": {
   "codemirror_mode": {
    "name": "ipython",
    "version": 3
   },
   "file_extension": ".py",
   "mimetype": "text/x-python",
   "name": "python",
   "nbconvert_exporter": "python",
   "pygments_lexer": "ipython3",
   "version": "3.9.6"
  },
  "orig_nbformat": 4
 },
 "nbformat": 4,
 "nbformat_minor": 2
}
