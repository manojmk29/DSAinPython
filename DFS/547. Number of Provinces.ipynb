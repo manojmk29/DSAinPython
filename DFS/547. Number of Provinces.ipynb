{
 "cells": [
  {
   "cell_type": "code",
   "execution_count": 9,
   "metadata": {},
   "outputs": [],
   "source": [
    "class Solution(object):\n",
    "    def findCircleNum(self, isConnected):\n",
    "        \"\"\"\n",
    "        :type isConnected: List[List[int]]\n",
    "        :rtype: int\n",
    "        \"\"\"\n",
    "        n=len(isConnected)\n",
    "        flag=[0]*n\n",
    "        def helper(ind):\n",
    "            if(flag[ind]!=-1):\n",
    "                flag[ind]=-1\n",
    "                for i in range(n):\n",
    "                    if(isConnected[ind][i]==1):\n",
    "                        helper(i)\n",
    "        ret=0\n",
    "        for i in range(n):\n",
    "            if(flag[i]==0):\n",
    "                ret+=1\n",
    "                helper(i)\n",
    "        return(ret)"
   ]
  },
  {
   "cell_type": "code",
   "execution_count": 10,
   "metadata": {},
   "outputs": [
    {
     "data": {
      "text/plain": [
       "3"
      ]
     },
     "execution_count": 10,
     "metadata": {},
     "output_type": "execute_result"
    }
   ],
   "source": [
    "arr=[[1,0,0],[0,1,0],[0,0,1]]\n",
    "Solution().findCircleNum(arr)"
   ]
  },
  {
   "cell_type": "code",
   "execution_count": null,
   "metadata": {},
   "outputs": [],
   "source": []
  }
 ],
 "metadata": {
  "interpreter": {
   "hash": "11ad92808b9e536a1bda76e6f18576c204b1bdc67c9013f7331a2b858d211f20"
  },
  "kernelspec": {
   "display_name": "Python 3.9.6 64-bit",
   "language": "python",
   "name": "python3"
  },
  "language_info": {
   "codemirror_mode": {
    "name": "ipython",
    "version": 3
   },
   "file_extension": ".py",
   "mimetype": "text/x-python",
   "name": "python",
   "nbconvert_exporter": "python",
   "pygments_lexer": "ipython3",
   "version": "3.9.6"
  },
  "orig_nbformat": 4
 },
 "nbformat": 4,
 "nbformat_minor": 2
}
