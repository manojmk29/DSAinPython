{
 "cells": [
  {
   "cell_type": "code",
   "execution_count": null,
   "metadata": {},
   "outputs": [],
   "source": [
    "[[0,1]\n",
    "[1,0]]"
   ]
  },
  {
   "cell_type": "code",
   "execution_count": null,
   "metadata": {},
   "outputs": [],
   "source": [
    "[0,1,0]\n",
    "[0,0,0]\n",
    "[0,0,1]\n",
    "\n"
   ]
  },
  {
   "cell_type": "code",
   "execution_count": 1,
   "metadata": {},
   "outputs": [
    {
     "data": {
      "text/plain": [
       "[1, 1, 1, 1, 1]"
      ]
     },
     "execution_count": 1,
     "metadata": {},
     "output_type": "execute_result"
    }
   ],
   "source": [
    "[1,1,1,1,1]\n",
    "[1,0,0,0,1]\n",
    "[1,0,1,0,1]\n",
    "[1,0,0,0,1]\n",
    "[1,1,1,1,1]"
   ]
  },
  {
   "cell_type": "code",
   "execution_count": 41,
   "metadata": {},
   "outputs": [],
   "source": [
    "class Solution:\n",
    "    def shortestBridge(self, A):\n",
    "        def dfs(i, j):\n",
    "            A[i][j] = -1\n",
    "            bfs.append((i, j))\n",
    "            for x, y in ((i - 1, j), (i + 1, j), (i, j - 1), (i, j + 1)):\n",
    "                if 0 <= x < n and 0 <= y < n and A[x][y] == 1:\n",
    "                    dfs(x, y)\n",
    "        def first():\n",
    "            for i in range(n):\n",
    "                for j in range(n):\n",
    "                    if A[i][j]:\n",
    "                        return i, j\n",
    "        n, step, bfs = len(A), 0, []\n",
    "        dfs(*first())\n",
    "        while bfs:\n",
    "            new = []\n",
    "            for i, j in bfs:\n",
    "                for x, y in ((i - 1, j), (i + 1, j), (i, j - 1), (i, j + 1)):\n",
    "                    if 0 <= x < n and 0 <= y < n:\n",
    "                        if A[x][y] == 1:\n",
    "                            return step\n",
    "                        elif not A[x][y]:\n",
    "                            A[x][y] = -1\n",
    "                            new.append((x, y))\n",
    "            step += 1\n",
    "            bfs = new"
   ]
  },
  {
   "cell_type": "code",
   "execution_count": 24,
   "metadata": {},
   "outputs": [],
   "source": [
    "class Solution(object):\n",
    "    def shortestBridge(self, grid):\n",
    "        n=len(grid)\n",
    "        stack=[]\n",
    "        def dfs(r,c):\n",
    "            if(r>=n or r<0 or c>=n or c<0 or grid[r][c]==0):\n",
    "                return\n",
    "            if(grid[r][c]==1):\n",
    "                grid[r][c]=2\n",
    "                stack.append((r,c))\n",
    "                dfs(r+1,c)\n",
    "                dfs(r-1,c)\n",
    "                dfs(r,c-1)\n",
    "                dfs(r,c+1)\n",
    "        aa=True\n",
    "        for i in range(n):\n",
    "            if(not aa):\n",
    "                break\n",
    "            for j in range(n):\n",
    "                if(grid[i][j]==1):\n",
    "                    dfs(i,j)\n",
    "                    aa=False\n",
    "                    break\n",
    "        ret=0\n",
    "        dir=[(0,1),(0,-1),(1,0),(-1,0)]\n",
    "        while(stack):\n",
    "            le=len(stack)\n",
    "            level=[]\n",
    "            while(le):\n",
    "                le-=1\n",
    "                r,c= stack.pop()\n",
    "                if(grid[r][c]==1):\n",
    "                    return(ret-1)\n",
    "                for k in dir:\n",
    "                    tr=r+k[0]\n",
    "                    tc=c+k[1]\n",
    "                    if(tr<n and tr>=0 and tc<n and tc>=0 and grid[tr][tc]!=3):\n",
    "                        level.append((tr,tc))\n",
    "                grid[r][c]=3\n",
    "            stack=level\n",
    "            ret+=1"
   ]
  },
  {
   "cell_type": "code",
   "execution_count": 25,
   "metadata": {},
   "outputs": [
    {
     "data": {
      "text/plain": [
       "1"
      ]
     },
     "execution_count": 25,
     "metadata": {},
     "output_type": "execute_result"
    }
   ],
   "source": [
    "arr=[[0,1],[1,0]]\n",
    "Solution().shortestBridge(arr)"
   ]
  },
  {
   "cell_type": "code",
   "execution_count": 43,
   "metadata": {},
   "outputs": [
    {
     "name": "stdout",
     "output_type": "stream",
     "text": [
      "6\n",
      "12\n",
      "18\n",
      "24\n",
      "30\n",
      "36\n",
      "42\n",
      "48\n",
      "54\n",
      "60\n",
      "66\n",
      "72\n",
      "78\n",
      "84\n",
      "90\n",
      "96\n",
      "102\n",
      "108\n",
      "114\n",
      "120\n"
     ]
    }
   ],
   "source": [
    "for i in range(1,21):\n",
    "    print(i*6)"
   ]
  },
  {
   "cell_type": "code",
   "execution_count": 34,
   "metadata": {},
   "outputs": [
    {
     "data": {
      "text/plain": [
       "2"
      ]
     },
     "execution_count": 34,
     "metadata": {},
     "output_type": "execute_result"
    }
   ],
   "source": [
    "sum([True,False,True])"
   ]
  },
  {
   "cell_type": "code",
   "execution_count": 15,
   "metadata": {},
   "outputs": [],
   "source": [
    "a=[(1,2)]\n",
    "m,n=a.pop()"
   ]
  },
  {
   "cell_type": "code",
   "execution_count": 18,
   "metadata": {},
   "outputs": [
    {
     "data": {
      "text/plain": [
       "[(1, 2), (5, 6)]"
      ]
     },
     "execution_count": 18,
     "metadata": {},
     "output_type": "execute_result"
    }
   ],
   "source": [
    "a=[(1,2)]\n",
    "a.append((5,6))\n",
    "a"
   ]
  },
  {
   "cell_type": "code",
   "execution_count": 40,
   "metadata": {},
   "outputs": [
    {
     "name": "stdout",
     "output_type": "stream",
     "text": [
      "1 2\n"
     ]
    }
   ],
   "source": [
    "def d():\n",
    "    return([1,2,3,4])\n",
    "def l(a,b,c,*d):\n",
    "    print(a,b)\n",
    "l(*d())"
   ]
  },
  {
   "cell_type": "code",
   "execution_count": null,
   "metadata": {},
   "outputs": [],
   "source": []
  },
  {
   "cell_type": "code",
   "execution_count": null,
   "metadata": {},
   "outputs": [],
   "source": []
  }
 ],
 "metadata": {
  "interpreter": {
   "hash": "11ad92808b9e536a1bda76e6f18576c204b1bdc67c9013f7331a2b858d211f20"
  },
  "kernelspec": {
   "display_name": "Python 3.9.6 64-bit",
   "language": "python",
   "name": "python3"
  },
  "language_info": {
   "codemirror_mode": {
    "name": "ipython",
    "version": 3
   },
   "file_extension": ".py",
   "mimetype": "text/x-python",
   "name": "python",
   "nbconvert_exporter": "python",
   "pygments_lexer": "ipython3",
   "version": "3.9.6"
  },
  "orig_nbformat": 4
 },
 "nbformat": 4,
 "nbformat_minor": 2
}
