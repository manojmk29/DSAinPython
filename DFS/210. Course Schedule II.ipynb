{
 "cells": [
  {
   "cell_type": "code",
   "execution_count": 24,
   "metadata": {},
   "outputs": [
    {
     "data": {
      "text/plain": [
       "[]"
      ]
     },
     "execution_count": 24,
     "metadata": {},
     "output_type": "execute_result"
    }
   ],
   "source": [
    "import collections\n",
    "def findOrder(self,numCourses,prerequisites):\n",
    "        hmap={}\n",
    "        for i in range(numCourses):\n",
    "            hmap[i]=[]\n",
    "        for ik in prerequisites:\n",
    "            hmap[ik[0]].append(ik[1])\n",
    "        flag=[-1]*numCourses\n",
    "        def helper(val,arr):\n",
    "            if(flag[val]==-1):\n",
    "                arr.append(val)\n",
    "                flag[val]=1\n",
    "                if(len(arr)==numCourses):\n",
    "                        return(arr)\n",
    "                for ij in hmap[val]:\n",
    "                    vals=helper(ij,arr)\n",
    "                    if(vals):\n",
    "                        return(vals)\n",
    "                flag[val]=-1\n",
    "                arr.pop()\n",
    "            return([])\n",
    "        for i in hmap:\n",
    "            value=helper(i,[])\n",
    "            if(value):\n",
    "                return(value[::-1])\n",
    "        return([])\n",
    "numCourses=4\n",
    "prerequisites=[[1,0],[2,0],[3,1],[3,2]]\n",
    "findOrder(1,numCourses,prerequisites)"
   ]
  },
  {
   "cell_type": "code",
   "execution_count": null,
   "metadata": {},
   "outputs": [],
   "source": []
  },
  {
   "cell_type": "code",
   "execution_count": null,
   "metadata": {},
   "outputs": [],
   "source": []
  }
 ],
 "metadata": {
  "interpreter": {
   "hash": "11ad92808b9e536a1bda76e6f18576c204b1bdc67c9013f7331a2b858d211f20"
  },
  "kernelspec": {
   "display_name": "Python 3.9.6 64-bit",
   "language": "python",
   "name": "python3"
  },
  "language_info": {
   "codemirror_mode": {
    "name": "ipython",
    "version": 3
   },
   "file_extension": ".py",
   "mimetype": "text/x-python",
   "name": "python",
   "nbconvert_exporter": "python",
   "pygments_lexer": "ipython3",
   "version": "3.9.6"
  },
  "orig_nbformat": 4
 },
 "nbformat": 4,
 "nbformat_minor": 2
}
