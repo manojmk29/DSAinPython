{
 "cells": [
  {
   "cell_type": "code",
   "execution_count": 1,
   "metadata": {},
   "outputs": [],
   "source": [
    "class Solution(object):\n",
    "    def exist(self, board, word):\n",
    "        \"\"\"\n",
    "        :type board: List[List[str]]\n",
    "        :type word: str\n",
    "        :rtype: bool\n",
    "        \"\"\"\n",
    "        le=len(word)\n",
    "        rl=len(board)\n",
    "        cl=len(board[0])\n",
    "        def helper(ind,r,c):\n",
    "            if(ind>=le):\n",
    "                return(True)\n",
    "            if(r<0 or r>=rl or c<0 or c>=cl or board[r][c]!=word[ind]):\n",
    "                return(False)\n",
    "            tmp=board[r][c]\n",
    "            board[r][c]=\"#\"\n",
    "            if(ind==le-1):\n",
    "                return(True)\n",
    "            for i in (1,-1):\n",
    "                if(helper(ind+1,r,c+i) or helper(ind+1,r+i,c)):\n",
    "                    return(True)\n",
    "            board[r][c]=tmp\n",
    "            return(False)\n",
    "        for i in range(rl):\n",
    "            for j in range(cl):\n",
    "                if(helper(0,i,j)==True):\n",
    "                    return(True)\n",
    "        return(False)"
   ]
  }
 ],
 "metadata": {
  "interpreter": {
   "hash": "11ad92808b9e536a1bda76e6f18576c204b1bdc67c9013f7331a2b858d211f20"
  },
  "kernelspec": {
   "display_name": "Python 3.9.6 64-bit",
   "language": "python",
   "name": "python3"
  },
  "language_info": {
   "codemirror_mode": {
    "name": "ipython",
    "version": 3
   },
   "file_extension": ".py",
   "mimetype": "text/x-python",
   "name": "python",
   "nbconvert_exporter": "python",
   "pygments_lexer": "ipython3",
   "version": "3.9.6"
  },
  "orig_nbformat": 4
 },
 "nbformat": 4,
 "nbformat_minor": 2
}
