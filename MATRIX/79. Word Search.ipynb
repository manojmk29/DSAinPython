{
 "cells": [
  {
   "cell_type": "code",
   "execution_count": 1,
   "metadata": {},
   "outputs": [],
   "source": [
    "class Solution(object):\n",
    "    def exist(self, board, word):\n",
    "        \"\"\"\n",
    "        :type board: List[List[str]]\n",
    "        :type word: str\n",
    "        :rtype: bool\n",
    "        \"\"\"\n",
    "        le=len(word)\n",
    "        rl=len(board)\n",
    "        cl=len(board[0])\n",
    "        def helper(ind,r,c):\n",
    "            if(ind>=le):\n",
    "                return(True)\n",
    "            if(r<0 or r>=rl or c<0 or c>=cl or board[r][c]!=word[ind]):\n",
    "                return(False)\n",
    "            tmp=board[r][c]\n",
    "            board[r][c]=\"#\"\n",
    "            if(ind==le-1):\n",
    "                return(True)\n",
    "            for i in (1,-1):\n",
    "                if(helper(ind+1,r,c+i) or helper(ind+1,r+i,c)):\n",
    "                    return(True)\n",
    "            board[r][c]=tmp\n",
    "            return(False)\n",
    "        for i in range(rl):\n",
    "            for j in range(cl):\n",
    "                if(helper(0,i,j)==True):\n",
    "                    return(True)\n",
    "        return(False)"
   ]
  },
  {
   "cell_type": "code",
   "execution_count": null,
   "metadata": {},
   "outputs": [],
   "source": [
    "Solution().exist()"
   ]
  },
  {
   "cell_type": "code",
   "execution_count": 6,
   "metadata": {},
   "outputs": [],
   "source": [
    "class Solution:\n",
    "    def containsDuplicate(self, nums) -> bool:\n",
    "        n=len(nums)\n",
    "        for i in range(n):\n",
    "            for j in range(i):\n",
    "                if nums[i]==nums[j]:\n",
    "                    return True\n",
    "        return False"
   ]
  },
  {
   "cell_type": "code",
   "execution_count": 8,
   "metadata": {},
   "outputs": [
    {
     "data": {
      "text/plain": [
       "False"
      ]
     },
     "execution_count": 8,
     "metadata": {},
     "output_type": "execute_result"
    }
   ],
   "source": [
    "Solution().containsDuplicate([1,2,3,4])"
   ]
  },
  {
   "cell_type": "code",
   "execution_count": null,
   "metadata": {},
   "outputs": [],
   "source": []
  }
 ],
 "metadata": {
  "kernelspec": {
   "display_name": "Python 3.9.6 64-bit",
   "language": "python",
   "name": "python3"
  },
  "language_info": {
   "codemirror_mode": {
    "name": "ipython",
    "version": 3
   },
   "file_extension": ".py",
   "mimetype": "text/x-python",
   "name": "python",
   "nbconvert_exporter": "python",
   "pygments_lexer": "ipython3",
   "version": "3.9.6"
  },
  "orig_nbformat": 4,
  "vscode": {
   "interpreter": {
    "hash": "e26b106e6146fa3417b08aa501d422914abd065c08ced2fc57ef114abeab93c7"
   }
  }
 },
 "nbformat": 4,
 "nbformat_minor": 2
}
