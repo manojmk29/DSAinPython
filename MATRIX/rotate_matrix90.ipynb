{
 "cells": [
  {
   "cell_type": "code",
   "execution_count": null,
   "metadata": {},
   "outputs": [],
   "source": [
    "class Solution(object):\n",
    "    def rotate(self, matrix):\n",
    "        \"\"\"\n",
    "        :type matrix: List[List[int]]\n",
    "        :rtype: None Do not return anything, modify matrix in-place instead.\n",
    "        \"\"\"\n",
    "        \n",
    "        # method 1\n",
    "        n=len(matrix[0])\n",
    "        for i in range(n):\n",
    "            for j in range(n):\n",
    "                if(i<j):\n",
    "                    matrix[i][j],matrix[j][i]=matrix[j][i],matrix[i][j]\n",
    "        for i in range(n):\n",
    "            for j in range(n//2):\n",
    "                matrix[i][j],matrix[i][n-j-1]=matrix[i][n-j-1],matrix[i][j]\n",
    "        return(matrix)"
   ]
  },
  {
   "cell_type": "code",
   "execution_count": null,
   "metadata": {},
   "outputs": [],
   "source": []
  }
 ],
 "metadata": {
  "language_info": {
   "name": "python"
  },
  "orig_nbformat": 4
 },
 "nbformat": 4,
 "nbformat_minor": 2
}
