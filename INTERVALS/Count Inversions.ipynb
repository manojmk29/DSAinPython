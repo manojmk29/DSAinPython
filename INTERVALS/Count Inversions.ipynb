{
 "cells": [
  {
   "cell_type": "code",
   "execution_count": 5,
   "metadata": {},
   "outputs": [],
   "source": [
    "def inversionCount(arr, n):\n",
    "        # Your Code Here\n",
    "        def merge(s,e):\n",
    "            if(s<e):\n",
    "                m=(s+e)//2\n",
    "                l=merge(s,m)\n",
    "                r=merge(m+1,e)\n",
    "                temp=[]\n",
    "                i=s\n",
    "                j=m+1\n",
    "                cnt=0\n",
    "                while(i<=m and j<=e):\n",
    "                    if(arr[i]<=arr[j]):\n",
    "                        temp.append(arr[i])\n",
    "                        i+=1\n",
    "                    else:\n",
    "                        cnt+=(m-i+1)\n",
    "                        temp.append(arr[j])\n",
    "                        j+=1\n",
    "                while(j<=e):\n",
    "                    temp.append(arr[j])\n",
    "                    j+=1\n",
    "                while(i<=m):\n",
    "                    temp.append(arr[i])\n",
    "                    i+=1\n",
    "                for i in range(len(temp)):\n",
    "                    arr[i+s]=temp[i]\n",
    "                return cnt+l+r\n",
    "            else:\n",
    "                return 0\n",
    "        return merge(0,n-1)"
   ]
  },
  {
   "cell_type": "code",
   "execution_count": 6,
   "metadata": {},
   "outputs": [
    {
     "data": {
      "text/plain": [
       "3"
      ]
     },
     "execution_count": 6,
     "metadata": {},
     "output_type": "execute_result"
    }
   ],
   "source": [
    "inversionCount([2,4,1,3,5],5)"
   ]
  },
  {
   "cell_type": "code",
   "execution_count": 1,
   "metadata": {},
   "outputs": [],
   "source": [
    "def differentArrays(n,arr,k):\n",
    "    hset=set()\n",
    "    for i in range(n):\n",
    "        arr[i]=int(arr[i])\n",
    "    def helper(ind,kv):\n",
    "        if kv==0:\n",
    "            hset.add(tuple(arr[:]))\n",
    "            return\n",
    "        helper(ind+1,kv)\n",
    "        for i in range(ind,n):\n",
    "            arr[i]=-arr[i]\n",
    "            helper(ind,kv-1)\n",
    "            arr[i]=-arr[i]\n",
    "    helper(0,k)\n",
    "    print(hset)\n",
    "    return len(hset)"
   ]
  },
  {
   "cell_type": "code",
   "execution_count": 2,
   "metadata": {},
   "outputs": [
    {
     "name": "stdout",
     "output_type": "stream",
     "text": [
      "{(1, 2, 1), (-1, 2, -1), (-1, -2, 1), (1, -2, -1)}\n"
     ]
    },
    {
     "data": {
      "text/plain": [
       "4"
      ]
     },
     "execution_count": 2,
     "metadata": {},
     "output_type": "execute_result"
    }
   ],
   "source": [
    "differentArrays(3,[1,2,1],2)"
   ]
  },
  {
   "cell_type": "code",
   "execution_count": null,
   "metadata": {},
   "outputs": [],
   "source": []
  }
 ],
 "metadata": {
  "kernelspec": {
   "display_name": "Python 3.9.6 64-bit",
   "language": "python",
   "name": "python3"
  },
  "language_info": {
   "codemirror_mode": {
    "name": "ipython",
    "version": 3
   },
   "file_extension": ".py",
   "mimetype": "text/x-python",
   "name": "python",
   "nbconvert_exporter": "python",
   "pygments_lexer": "ipython3",
   "version": "3.9.6"
  },
  "orig_nbformat": 4,
  "vscode": {
   "interpreter": {
    "hash": "e26b106e6146fa3417b08aa501d422914abd065c08ced2fc57ef114abeab93c7"
   }
  }
 },
 "nbformat": 4,
 "nbformat_minor": 2
}
