{
 "cells": [
  {
   "cell_type": "code",
   "execution_count": null,
   "metadata": {},
   "outputs": [],
   "source": [
    "class Solution(object):\n",
    "    def eraseOverlapIntervals(self, intervals):\n",
    "        \"\"\"\n",
    "        :type intervals: List[List[int]]\n",
    "        :rtype: int\n",
    "        \"\"\"\n",
    "        intervals.sort()\n",
    "        ret=0\n",
    "        lastIntervalEnd=intervals[0][1]\n",
    "        intervals=intervals[1:]\n",
    "        for interval in intervals:\n",
    "            if lastIntervalEnd > interval[0]:\n",
    "                lastIntervalEnd = min(lastIntervalEnd, interval[1])\n",
    "                ret+=1\n",
    "            else:\n",
    "                lastIntervalEnd = interval[1]   \n",
    "        return(ret)\n",
    "                \n",
    "#         for i in range(1,len(intervals)):\n",
    "#             if((intervals[i][0]==l) or (intervals[i][0]<r)):\n",
    "#                 ret+=1\n",
    "#                 r=min(r,intervals[i][1])\n",
    "#             # elif(intervals[i][0]<r):\n",
    "#             #     r=min(r,intervals[i][1])\n",
    "#             #     ret+=1\n",
    "#         return(ret)\n",
    "    "
   ]
  },
  {
   "cell_type": "code",
   "execution_count": null,
   "metadata": {},
   "outputs": [],
   "source": []
  }
 ],
 "metadata": {
  "language_info": {
   "name": "python"
  },
  "orig_nbformat": 4
 },
 "nbformat": 4,
 "nbformat_minor": 2
}
