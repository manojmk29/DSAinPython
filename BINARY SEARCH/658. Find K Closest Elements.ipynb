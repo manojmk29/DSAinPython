{
 "cells": [
  {
   "cell_type": "code",
   "execution_count": 19,
   "metadata": {},
   "outputs": [],
   "source": [
    "def findpos(arr,x):\n",
    "    n=len(arr)\n",
    "    l=0\n",
    "    r=n-1\n",
    "    m=(l+r)//2\n",
    "    while(l+1<r):\n",
    "        m=(l+r)//2\n",
    "        if(arr[m]==x):\n",
    "            return(m)\n",
    "        elif(arr[m]>x):\n",
    "            r=m\n",
    "        else:\n",
    "            l=m\n",
    "    if(abs(arr[r]-x)<abs(arr[l]-x)):\n",
    "        return(r)\n",
    "    else:\n",
    "        return(l)"
   ]
  },
  {
   "cell_type": "code",
   "execution_count": 20,
   "metadata": {},
   "outputs": [
    {
     "data": {
      "text/plain": [
       "3"
      ]
     },
     "execution_count": 20,
     "metadata": {},
     "output_type": "execute_result"
    }
   ],
   "source": [
    "findpos([1,1,1,10,10,10],9)\n"
   ]
  },
  {
   "cell_type": "code",
   "execution_count": 3,
   "metadata": {},
   "outputs": [],
   "source": [
    "class Solution:\n",
    "    def findClosestElements(self, arr, k: int, x: int) :\n",
    "        n=len(arr)\n",
    "        d=k\n",
    "        def findpos():\n",
    "            n=len(arr)\n",
    "            l=0\n",
    "            r=n-1\n",
    "            m=(l+r)//2\n",
    "            while(l+1<r):\n",
    "                m=(l+r)//2\n",
    "                if(arr[m]==x):\n",
    "                    return(m)\n",
    "                elif(arr[m]>x):\n",
    "                    r=m\n",
    "                else:\n",
    "                    l=m\n",
    "            if(abs(arr[r]-x)<abs(arr[l]-x)):\n",
    "                return(r)\n",
    "            else:\n",
    "                return(l)\n",
    "\n",
    "        mid=findpos() \n",
    "        k-=1\n",
    "        l=r=mid\n",
    "        while(k):\n",
    "            k-=1\n",
    "            if(l==0):\n",
    "                r+=1\n",
    "            elif(r==n-1):\n",
    "                l-=1\n",
    "            else:\n",
    "                if abs(x-arr[r+1])<abs(x-arr[l-1]):\n",
    "                    r+=1\n",
    "                else:\n",
    "                    l-=1\n",
    "        return(arr[l:l+d])  "
   ]
  },
  {
   "cell_type": "code",
   "execution_count": 4,
   "metadata": {},
   "outputs": [
    {
     "data": {
      "text/plain": [
       "[10]"
      ]
     },
     "execution_count": 4,
     "metadata": {},
     "output_type": "execute_result"
    }
   ],
   "source": [
    "Solution().findClosestElements([1,1,1,10,10,10],1,9)"
   ]
  },
  {
   "cell_type": "code",
   "execution_count": null,
   "metadata": {},
   "outputs": [],
   "source": []
  },
  {
   "cell_type": "code",
   "execution_count": null,
   "metadata": {},
   "outputs": [],
   "source": []
  }
 ],
 "metadata": {
  "kernelspec": {
   "display_name": "Python 3.9.6 64-bit",
   "language": "python",
   "name": "python3"
  },
  "language_info": {
   "codemirror_mode": {
    "name": "ipython",
    "version": 3
   },
   "file_extension": ".py",
   "mimetype": "text/x-python",
   "name": "python",
   "nbconvert_exporter": "python",
   "pygments_lexer": "ipython3",
   "version": "3.9.6"
  },
  "orig_nbformat": 4,
  "vscode": {
   "interpreter": {
    "hash": "e26b106e6146fa3417b08aa501d422914abd065c08ced2fc57ef114abeab93c7"
   }
  }
 },
 "nbformat": 4,
 "nbformat_minor": 2
}
