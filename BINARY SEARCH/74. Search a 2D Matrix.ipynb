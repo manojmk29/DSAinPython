{
 "cells": [
  {
   "cell_type": "code",
   "execution_count": 11,
   "metadata": {},
   "outputs": [],
   "source": [
    "class Solution:\n",
    "    def searchMatrix(self, matrix, tar: int) -> bool:\n",
    "        r=len(matrix)\n",
    "        c=len(matrix[0])\n",
    "        l=0\n",
    "        e=r-1\n",
    "        while(l<=e):\n",
    "            mid=(l+e)//2\n",
    "            val=matrix[mid][c-1]\n",
    "            if(val>tar):\n",
    "                e=mid-1\n",
    "            elif(val<tar):\n",
    "                l=mid+1\n",
    "            else:\n",
    "                return True\n",
    "        if (l == r):\n",
    "            return  False\n",
    "        s=0\n",
    "        e=c-1\n",
    "        while s<=e:\n",
    "            m=(s+e)//2\n",
    "            val=matrix[l][m]\n",
    "            if(val>tar):\n",
    "                e=m-1\n",
    "            elif(val<tar):\n",
    "                s=m+1\n",
    "            else:\n",
    "                return(True)\n",
    "        return(False)\n",
    "                "
   ]
  },
  {
   "cell_type": "code",
   "execution_count": 12,
   "metadata": {},
   "outputs": [
    {
     "data": {
      "text/plain": [
       "True"
      ]
     },
     "execution_count": 12,
     "metadata": {},
     "output_type": "execute_result"
    }
   ],
   "source": [
    "m= [[1,3,5,7],[10,11,16,20],[23,30,34,60]]\n",
    "t=3\n",
    "Solution().searchMatrix(m,t)"
   ]
  },
  {
   "cell_type": "code",
   "execution_count": 2,
   "metadata": {},
   "outputs": [
    {
     "data": {
      "text/plain": [
       "' i am not giving up because i am sanga'"
      ]
     },
     "execution_count": 2,
     "metadata": {},
     "output_type": "execute_result"
    }
   ],
   "source": [
    "\"\"\"\n",
    "i am the coder\n",
    "i am the nerd person\n",
    "i am odt confident person in the world\n",
    "i am always active\n",
    "i have more focus and concentration \n",
    "i can study 12 hrs a day\n",
    "i am a programmer\n",
    "i can build projects\n",
    "\"\"\""
   ]
  },
  {
   "cell_type": "code",
   "execution_count": null,
   "metadata": {},
   "outputs": [],
   "source": []
  }
 ],
 "metadata": {
  "interpreter": {
   "hash": "e26b106e6146fa3417b08aa501d422914abd065c08ced2fc57ef114abeab93c7"
  },
  "kernelspec": {
   "display_name": "Python 3.9.6 64-bit",
   "language": "python",
   "name": "python3"
  },
  "language_info": {
   "codemirror_mode": {
    "name": "ipython",
    "version": 3
   },
   "file_extension": ".py",
   "mimetype": "text/x-python",
   "name": "python",
   "nbconvert_exporter": "python",
   "pygments_lexer": "ipython3",
   "version": "3.9.6"
  },
  "orig_nbformat": 4
 },
 "nbformat": 4,
 "nbformat_minor": 2
}
