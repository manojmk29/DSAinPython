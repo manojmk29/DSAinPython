{
 "cells": [
  {
   "cell_type": "code",
   "execution_count": 28,
   "metadata": {},
   "outputs": [],
   "source": [
    "class Solution:\n",
    "    def search(self, arr, tar):\n",
    "        n=len(arr)\n",
    "        l=0\n",
    "        r=n-1\n",
    "        while(l<=r):\n",
    "            m=(l+r)//2\n",
    "            if arr[l]<=arr[r]:\n",
    "                if arr[m]==tar:\n",
    "                    return m\n",
    "                else:\n",
    "                    if arr[m]>tar:\n",
    "                        r=m-1\n",
    "                    else:\n",
    "                        l=m+1\n",
    "            else:\n",
    "                if arr[l]<=arr[m]:\n",
    "                    if tar>=arr[l] and tar<=arr[m]:\n",
    "                        if arr[m]==tar:\n",
    "                            return m\n",
    "                        r=m-1\n",
    "                    else:\n",
    "                        if arr[m]==tar:\n",
    "                            return m\n",
    "                        l=m+1\n",
    "                else:\n",
    "                    if tar>=arr[m] and tar<=arr[r]:\n",
    "                        if arr[m]==tar:\n",
    "                            return m\n",
    "                        l=m+1\n",
    "                    else:\n",
    "                        if arr[m]==tar:\n",
    "                            return m\n",
    "                        r=m-1\n",
    "        return -1"
   ]
  },
  {
   "cell_type": "code",
   "execution_count": 29,
   "metadata": {},
   "outputs": [
    {
     "data": {
      "text/plain": [
       "2"
      ]
     },
     "execution_count": 29,
     "metadata": {},
     "output_type": "execute_result"
    }
   ],
   "source": [
    "Solution().search([5,1,3],3)"
   ]
  },
  {
   "cell_type": "code",
   "execution_count": null,
   "metadata": {},
   "outputs": [],
   "source": []
  }
 ],
 "metadata": {
  "kernelspec": {
   "display_name": "Python 3.9.6 64-bit",
   "language": "python",
   "name": "python3"
  },
  "language_info": {
   "codemirror_mode": {
    "name": "ipython",
    "version": 3
   },
   "file_extension": ".py",
   "mimetype": "text/x-python",
   "name": "python",
   "nbconvert_exporter": "python",
   "pygments_lexer": "ipython3",
   "version": "3.9.6"
  },
  "orig_nbformat": 4,
  "vscode": {
   "interpreter": {
    "hash": "e26b106e6146fa3417b08aa501d422914abd065c08ced2fc57ef114abeab93c7"
   }
  }
 },
 "nbformat": 4,
 "nbformat_minor": 2
}
