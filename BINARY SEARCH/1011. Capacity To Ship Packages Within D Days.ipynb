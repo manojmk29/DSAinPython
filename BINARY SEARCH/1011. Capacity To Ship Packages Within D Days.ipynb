{
 "cells": [
  {
   "cell_type": "code",
   "execution_count": 11,
   "metadata": {},
   "outputs": [],
   "source": [
    "class Solution:\n",
    "    def shipWithinDays(self, weights, days: int) -> int:\n",
    "        n=len(weights)\n",
    "        def check(w):\n",
    "            d=1\n",
    "            cur=0\n",
    "            for i in range(n):\n",
    "                if(weights[i]>w):\n",
    "                    return(False)\n",
    "                if((cur+weights[i]) > w):\n",
    "                    d+=1\n",
    "                    cur=weights[i]\n",
    "                else:\n",
    "                    cur+=weights[i]\n",
    "            if d>days:\n",
    "                return False\n",
    "            return(True)\n",
    "        l=1\n",
    "        r=ret=sum(weights)\n",
    "        while(l<=r):\n",
    "            mid=(l+r)//2\n",
    "            if(check(mid)):\n",
    "                ret=mid\n",
    "                r=mid-1\n",
    "            else:\n",
    "                l=mid+1\n",
    "        return(ret)"
   ]
  },
  {
   "cell_type": "code",
   "execution_count": 12,
   "metadata": {},
   "outputs": [
    {
     "data": {
      "text/plain": [
       "3"
      ]
     },
     "execution_count": 12,
     "metadata": {},
     "output_type": "execute_result"
    }
   ],
   "source": [
    "Solution().shipWithinDays([1,2,3,1,1],4) "
   ]
  },
  {
   "cell_type": "code",
   "execution_count": null,
   "metadata": {},
   "outputs": [],
   "source": []
  }
 ],
 "metadata": {
  "interpreter": {
   "hash": "e26b106e6146fa3417b08aa501d422914abd065c08ced2fc57ef114abeab93c7"
  },
  "kernelspec": {
   "display_name": "Python 3.9.6 64-bit",
   "language": "python",
   "name": "python3"
  },
  "language_info": {
   "codemirror_mode": {
    "name": "ipython",
    "version": 3
   },
   "file_extension": ".py",
   "mimetype": "text/x-python",
   "name": "python",
   "nbconvert_exporter": "python",
   "pygments_lexer": "ipython3",
   "version": "3.9.6"
  },
  "orig_nbformat": 4
 },
 "nbformat": 4,
 "nbformat_minor": 2
}
