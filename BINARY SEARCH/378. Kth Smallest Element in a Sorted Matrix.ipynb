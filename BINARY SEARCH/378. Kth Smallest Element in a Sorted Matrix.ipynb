{
 "cells": [
  {
   "cell_type": "code",
   "execution_count": 5,
   "metadata": {},
   "outputs": [],
   "source": [
    "from heapq import *\n",
    "class Solution:  # 204 ms, faster than 54.32%\n",
    "    def kthSmallest(self, matrix, k: int) -> int:\n",
    "        m, n = len(matrix), len(matrix[0])  # For general, the matrix need not be a square\n",
    "        minHeap = []  # val, r, c\n",
    "        for r in range(min(k, m)):\n",
    "            heappush(minHeap, (matrix[r][0], r, 0))\n",
    "        ans = -1  # any dummy value\n",
    "        for i in range(k):\n",
    "            ans, r, c = heappop(minHeap)\n",
    "            if c+1 < n: heappush(minHeap, (matrix[r][c + 1], r, c + 1))\n",
    "        return ans"
   ]
  },
  {
   "cell_type": "code",
   "execution_count": 6,
   "metadata": {},
   "outputs": [],
   "source": [
    "mat=[[1,5,9],[10,11,13],[12,13,15]]"
   ]
  },
  {
   "cell_type": "code",
   "execution_count": 8,
   "metadata": {},
   "outputs": [],
   "source": [
    "Solution().kthSmallest(mat,8)"
   ]
  },
  {
   "cell_type": "code",
   "execution_count": 6,
   "metadata": {},
   "outputs": [],
   "source": [
    "import heapq\n",
    "class Solution:\n",
    "    def kthSmallest(self, mat , k: int) -> int:\n",
    "        arr=[]\n",
    "        n=len(mat)\n",
    "        if(k==1):\n",
    "            return(mat[0][0])\n",
    "        if(k==n*n):\n",
    "            return(mat[n-1][n-1])\n",
    "        for i in range(n):\n",
    "            for j in range(n):\n",
    "                if(len(arr)<k):\n",
    "                    heapq.heappush(arr,-mat[i][j])\n",
    "                else:\n",
    "                    if(arr[0]<-mat[i][j]):\n",
    "                        heapq.heappop(arr)\n",
    "                        heapq.heappush(arr,-mat[i][j])\n",
    "        return(-arr[0])\n",
    "        "
   ]
  },
  {
   "cell_type": "code",
   "execution_count": 7,
   "metadata": {},
   "outputs": [
    {
     "data": {
      "text/plain": [
       "13"
      ]
     },
     "execution_count": 7,
     "metadata": {},
     "output_type": "execute_result"
    }
   ],
   "source": [
    "matrix = [[1,5,9],[10,11,13],[12,13,15]]\n",
    "k = 8\n",
    "Solution().kthSmallest(matrix,k)"
   ]
  },
  {
   "cell_type": "code",
   "execution_count": 1,
   "metadata": {},
   "outputs": [],
   "source": [
    "def position(mat,val):\n",
    "    r=len(mat)\n",
    "    c=len(mat[0])\n",
    "    i=r-1\n",
    "    j=0\n",
    "    while(i>=0 and j<c):\n",
    "        t=mat[i][j]\n",
    "        if(t>val):\n",
    "            i-=1\n",
    "        else:\n",
    "            j+=1\n",
    "    return(i,j)"
   ]
  },
  {
   "cell_type": "code",
   "execution_count": 2,
   "metadata": {},
   "outputs": [
    {
     "data": {
      "text/plain": [
       "(0, 3)"
      ]
     },
     "execution_count": 2,
     "metadata": {},
     "output_type": "execute_result"
    }
   ],
   "source": [
    "m=[[1,5,9],[10,10,13],[12,13,15]]\n",
    "v=10\n",
    "position(m,v)"
   ]
  },
  {
   "cell_type": "code",
   "execution_count": null,
   "metadata": {},
   "outputs": [],
   "source": []
  }
 ],
 "metadata": {
  "interpreter": {
   "hash": "e26b106e6146fa3417b08aa501d422914abd065c08ced2fc57ef114abeab93c7"
  },
  "kernelspec": {
   "display_name": "Python 3.9.6 64-bit",
   "language": "python",
   "name": "python3"
  },
  "language_info": {
   "codemirror_mode": {
    "name": "ipython",
    "version": 3
   },
   "file_extension": ".py",
   "mimetype": "text/x-python",
   "name": "python",
   "nbconvert_exporter": "python",
   "pygments_lexer": "ipython3",
   "version": "3.9.6"
  },
  "orig_nbformat": 4
 },
 "nbformat": 4,
 "nbformat_minor": 2
}
