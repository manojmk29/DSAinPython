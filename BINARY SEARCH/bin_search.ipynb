{
 "cells": [
  {
   "cell_type": "code",
   "execution_count": null,
   "metadata": {},
   "outputs": [],
   "source": [
    "def search(arr,x):\n",
    "    l=0\n",
    "    r=len(arr)-1\n",
    "    while(l<=r):\n",
    "        m=(l+r)//2\n",
    "        if(arr[m]==x):\n",
    "            return(m)\n",
    "        if((arr[m]>x) and arr[l]<=x):\n",
    "            r=m-1\n",
    "        elif((arr[m]>x) and arr[l]>x):\n",
    "            l=m+1\n",
    "        elif((arr[m]<x) and arr[r]>=x):\n",
    "            l=m+1\n",
    "        elif((arr[m]<x) and arr[r]<x):\n",
    "            r=m-1\n",
    "    return(False)\n",
    "arr=[1,2,3,4,5,6]\n",
    "x=6\n",
    "print(search(arr,x))"
   ]
  }
 ],
 "metadata": {
  "language_info": {
   "name": "python"
  },
  "orig_nbformat": 4
 },
 "nbformat": 4,
 "nbformat_minor": 2
}
