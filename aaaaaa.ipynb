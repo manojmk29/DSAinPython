{
 "cells": [
  {
   "cell_type": "code",
   "execution_count": 1,
   "metadata": {},
   "outputs": [],
   "source": [
    "a=[None for i in range(9)]"
   ]
  },
  {
   "cell_type": "code",
   "execution_count": 8,
   "metadata": {},
   "outputs": [
    {
     "data": {
      "text/plain": [
       "0"
      ]
     },
     "execution_count": 8,
     "metadata": {},
     "output_type": "execute_result"
    }
   ],
   "source": [
    "a=0\n",
    "b=a*-1\n",
    "b"
   ]
  },
  {
   "cell_type": "code",
   "execution_count": 9,
   "metadata": {},
   "outputs": [],
   "source": [
    "import heapq"
   ]
  },
  {
   "cell_type": "code",
   "execution_count": 14,
   "metadata": {},
   "outputs": [],
   "source": [
    "arr=[]\n",
    "heapq.heappush(arr,-9)\n",
    "heapq.heappush(arr,-19)\n",
    "heapq.heappush(arr,-2)\n",
    "heapq.heappush(arr,-34)\n",
    "heapq.heappush(arr,-1)\n",
    "heapq.heappush(arr,-12)"
   ]
  },
  {
   "cell_type": "code",
   "execution_count": 22,
   "metadata": {},
   "outputs": [
    {
     "data": {
      "text/plain": [
       "[(1, 3), (2, 5), (5, 2)]"
      ]
     },
     "execution_count": 22,
     "metadata": {},
     "output_type": "execute_result"
    }
   ],
   "source": [
    "arr=[(5,2),(2,5),(1,3)]\n",
    "arr.sort(key=a)\n",
    "arr"
   ]
  },
  {
   "cell_type": "code",
   "execution_count": 36,
   "metadata": {},
   "outputs": [
    {
     "name": "stdout",
     "output_type": "stream",
     "text": [
      "[(3, 1, 40), (4, 1, 30), (1, 4, 20), (2, 1, 10)]\n",
      "60\n"
     ]
    }
   ],
   "source": [
    "Jobs=[(1,4,20),(2,1,10),(3,1,40),(4,1,30)]\n",
    "second=lambda x:x[2]\n",
    "Jobs.sort(key=second,reverse=True)\n",
    "print(Jobs)\n",
    "hmap={}\n",
    "for i in Jobs:\n",
    "    profit=i[2]\n",
    "    val=i[1]\n",
    "    while(val>0):\n",
    "        if(val not in hmap):\n",
    "            hmap[val]=profit\n",
    "            break\n",
    "        else:\n",
    "            val-=1\n",
    "profit=0\n",
    "for i in hmap:\n",
    "    profit+=hmap[i]\n",
    "print(profit)"
   ]
  },
  {
   "cell_type": "code",
   "execution_count": 34,
   "metadata": {},
   "outputs": [
    {
     "data": {
      "text/plain": [
       "2"
      ]
     },
     "execution_count": 34,
     "metadata": {},
     "output_type": "execute_result"
    }
   ],
   "source": [
    "Jobs=[(4,1,25),(5,1,15),(1,2,100),(2,1,19),(3,2,27)]\n",
    "maxt=0\n",
    "for i in range(len(Jobs)):\n",
    "    maxt=max(maxt,Jobs[i][1])\n",
    "maxt"
   ]
  },
  {
   "cell_type": "code",
   "execution_count": null,
   "metadata": {},
   "outputs": [],
   "source": []
  }
 ],
 "metadata": {
  "interpreter": {
   "hash": "11ad92808b9e536a1bda76e6f18576c204b1bdc67c9013f7331a2b858d211f20"
  },
  "kernelspec": {
   "display_name": "Python 3.9.6 64-bit",
   "language": "python",
   "name": "python3"
  },
  "language_info": {
   "codemirror_mode": {
    "name": "ipython",
    "version": 3
   },
   "file_extension": ".py",
   "mimetype": "text/x-python",
   "name": "python",
   "nbconvert_exporter": "python",
   "pygments_lexer": "ipython3",
   "version": "3.9.6"
  },
  "orig_nbformat": 4
 },
 "nbformat": 4,
 "nbformat_minor": 2
}
