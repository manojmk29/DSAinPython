{
 "cells": [
  {
   "cell_type": "code",
   "execution_count": 2,
   "metadata": {},
   "outputs": [],
   "source": [
    "from collections import deque\n",
    "class Solution:\n",
    "    def maxSlidingWindow(self, nums, k: int):\n",
    "        dq=deque()\n",
    "        ret=[]\n",
    "        n=len(nums)\n",
    "        for i in range(k):\n",
    "            while(dq and nums[dq[-1]]<=nums[i]):\n",
    "                dq.pop()\n",
    "            dq.append(i)\n",
    "        ret.append(nums[dq[0]])\n",
    "        for i in range(k,n):\n",
    "            while(dq and nums[dq[-1]]<=nums[i]):\n",
    "                dq.pop()\n",
    "            while(dq and dq[0]<=i-k):\n",
    "                dq.popleft()\n",
    "            dq.append(i)\n",
    "            ret.append(nums[dq[0]])\n",
    "        return ret\n",
    "            "
   ]
  },
  {
   "cell_type": "code",
   "execution_count": 13,
   "metadata": {},
   "outputs": [],
   "source": [
    "from collections import deque\n",
    "from heapq import heappop,heappush\n",
    "class Solution:\n",
    "    def maxSlidingWindow(self, nums,k):\n",
    "        hq=[]\n",
    "        n=len(nums)\n",
    "        ret=[]\n",
    "        for i in range(k-1):\n",
    "            heappush(hq,(-nums[i],i))\n",
    "        for i in range(k-1,n):\n",
    "            heappush(hq,(-nums[i],i))\n",
    "            while True:\n",
    "                pp=heappop(hq)\n",
    "                if pp[1]>=(i+1-k):\n",
    "                    ret.append(-pp[0])\n",
    "                    heappush(hq,pp)\n",
    "                    break\n",
    "        return ret\n",
    "                    "
   ]
  },
  {
   "cell_type": "code",
   "execution_count": 14,
   "metadata": {},
   "outputs": [
    {
     "data": {
      "text/plain": [
       "[1, -1]"
      ]
     },
     "execution_count": 14,
     "metadata": {},
     "output_type": "execute_result"
    }
   ],
   "source": [
    "Solution().maxSlidingWindow([1,-1],1)"
   ]
  },
  {
   "cell_type": "code",
   "execution_count": 19,
   "metadata": {},
   "outputs": [
    {
     "data": {
      "text/plain": [
       "True"
      ]
     },
     "execution_count": 19,
     "metadata": {},
     "output_type": "execute_result"
    }
   ],
   "source": [
    "\"sdfcsfcs\".islower()"
   ]
  },
  {
   "cell_type": "code",
   "execution_count": null,
   "metadata": {},
   "outputs": [],
   "source": []
  },
  {
   "cell_type": "code",
   "execution_count": null,
   "metadata": {},
   "outputs": [],
   "source": []
  },
  {
   "cell_type": "code",
   "execution_count": null,
   "metadata": {},
   "outputs": [],
   "source": []
  },
  {
   "cell_type": "code",
   "execution_count": null,
   "metadata": {},
   "outputs": [],
   "source": []
  },
  {
   "cell_type": "code",
   "execution_count": null,
   "metadata": {},
   "outputs": [],
   "source": []
  },
  {
   "cell_type": "code",
   "execution_count": null,
   "metadata": {},
   "outputs": [],
   "source": []
  }
 ],
 "metadata": {
  "kernelspec": {
   "display_name": "Python 3.9.6 64-bit",
   "language": "python",
   "name": "python3"
  },
  "language_info": {
   "codemirror_mode": {
    "name": "ipython",
    "version": 3
   },
   "file_extension": ".py",
   "mimetype": "text/x-python",
   "name": "python",
   "nbconvert_exporter": "python",
   "pygments_lexer": "ipython3",
   "version": "3.9.6"
  },
  "orig_nbformat": 4,
  "vscode": {
   "interpreter": {
    "hash": "e26b106e6146fa3417b08aa501d422914abd065c08ced2fc57ef114abeab93c7"
   }
  }
 },
 "nbformat": 4,
 "nbformat_minor": 2
}
