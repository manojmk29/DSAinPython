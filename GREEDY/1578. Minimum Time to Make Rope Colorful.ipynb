{
 "cells": [
  {
   "cell_type": "code",
   "execution_count": null,
   "metadata": {},
   "outputs": [],
   "source": [
    "class Solution(object):\n",
    "    def minCost(self, colors, neededTime):\n",
    "        \"\"\"\n",
    "        :type colors: str\n",
    "        :type neededTime: List[int]\n",
    "        :rtype: int\n",
    "        \"\"\"\n",
    "        prev=0\n",
    "        ret=0\n",
    "        n=len(colors)\n",
    "        for i in range(1,n):\n",
    "            if(colors[prev]==colors[i]):\n",
    "                if(neededTime[prev]<neededTime[i]):\n",
    "                    ret+=neededTime[prev]\n",
    "                    prev=i\n",
    "                else:\n",
    "                    ret+=neededTime[i]\n",
    "            else:\n",
    "                prev=i\n",
    "        return(ret)        "
   ]
  },
  {
   "cell_type": "code",
   "execution_count": 8,
   "metadata": {},
   "outputs": [
    {
     "name": "stdout",
     "output_type": "stream",
     "text": [
      "f== 1 b== 7\n"
     ]
    }
   ],
   "source": [
    "a=[1,2,3,4,5,6,7,8]\n",
    "n=len(a)\n",
    "f=0\n",
    "b=n-1\n",
    "tar=10\n",
    "while(f<b):\n",
    "    s=a[f]+a[b]\n",
    "\n",
    "    if(s==tar):\n",
    "        print(\"f==\",f,\"b==\",b)\n",
    "        break\n",
    "    elif(s>tar):\n",
    "        b-=1\n",
    "    else:\n",
    "        f+=1"
   ]
  },
  {
   "cell_type": "code",
   "execution_count": 12,
   "metadata": {},
   "outputs": [
    {
     "name": "stdout",
     "output_type": "stream",
     "text": [
      "10\n",
      "pp\n"
     ]
    }
   ],
   "source": [
    "a=10\n",
    "if(a==10):\n",
    "    print(\"10\")\n",
    "if(a%2==0):\n",
    "    print(\"pp\")\n",
    "else:\n",
    "    print(\"lll\")"
   ]
  },
  {
   "cell_type": "code",
   "execution_count": 14,
   "metadata": {},
   "outputs": [
    {
     "data": {
      "text/plain": [
       "False"
      ]
     },
     "execution_count": 14,
     "metadata": {},
     "output_type": "execute_result"
    }
   ],
   "source": [
    "\"1\">\"9\""
   ]
  },
  {
   "cell_type": "code",
   "execution_count": null,
   "metadata": {},
   "outputs": [],
   "source": []
  }
 ],
 "metadata": {
  "interpreter": {
   "hash": "11ad92808b9e536a1bda76e6f18576c204b1bdc67c9013f7331a2b858d211f20"
  },
  "kernelspec": {
   "display_name": "Python 3.9.6 64-bit",
   "language": "python",
   "name": "python3"
  },
  "language_info": {
   "codemirror_mode": {
    "name": "ipython",
    "version": 3
   },
   "file_extension": ".py",
   "mimetype": "text/x-python",
   "name": "python",
   "nbconvert_exporter": "python",
   "pygments_lexer": "ipython3",
   "version": "3.9.6"
  },
  "orig_nbformat": 4
 },
 "nbformat": 4,
 "nbformat_minor": 2
}
