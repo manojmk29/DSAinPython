{
 "cells": [
  {
   "cell_type": "code",
   "execution_count": null,
   "metadata": {},
   "outputs": [],
   "source": [
    "\"\"\"\n",
    "Any problem can be solved using dp. Solving using a greedy strategy is harder though, since you need to prove that greedy will work for that problem. There are some tell-tale signs of a problem where greedy may be applicable, but isn't immediately apparent. Example:\n",
    "\n",
    "Choice of an element depends only on its immediate neighbours (wiggle sort).\n",
    "Answer is monotonically non-decreasing or non-increasing (sorting). This is also applicable for LIS for example.\n",
    "Anything that requires lexicographically largest or smallest of something.\n",
    "Anything where processing the input in sorted order will help.\n",
    "Anything where processing the input in forward or reverse (as given) will help.\n",
    "Anything which requires you to track the minimum or maximum of something (think of sliding window problems).\n",
    "There's matroid theory which deal with greedy algorithms, but I don't really understand it. If someone does, I'll be super grateful to them to explain it to me in simple language!\n",
    "\n",
    "In general, try to see if for a problem, the solution doesn't depend on a lot of history about the solution itself, but the next part of the solution is somewhat independent from the rest of the solution. These are all indicative of the fact that a greedy strategy could be applicable.\n",
    "\"\"\""
   ]
  },
  {
   "cell_type": "code",
   "execution_count": null,
   "metadata": {},
   "outputs": [],
   "source": []
  }
 ],
 "metadata": {
  "language_info": {
   "name": "python"
  },
  "orig_nbformat": 4
 },
 "nbformat": 4,
 "nbformat_minor": 2
}
