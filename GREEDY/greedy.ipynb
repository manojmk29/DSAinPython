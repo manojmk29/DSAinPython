{
 "cells": [
  {
   "cell_type": "code",
   "execution_count": null,
   "metadata": {},
   "outputs": [],
   "source": [
    "def coinsum(arr,val):\n",
    "    arr.sort(reverse=True)\n",
    "    count=0\n",
    "    for i in range(len(arr)):\n",
    "        if(arr[i]<=val):\n",
    "            count+=val//arr[i]\n",
    "            val=val%arr[i]\n",
    "    return(count)\n",
    "arr=[10,5,50,1,2]\n",
    "v=123\n",
    "print(coinsum(arr,v))\n"
   ]
  }
 ],
 "metadata": {
  "language_info": {
   "name": "python"
  },
  "orig_nbformat": 4
 },
 "nbformat": 4,
 "nbformat_minor": 2
}
