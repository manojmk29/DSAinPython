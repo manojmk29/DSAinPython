{
 "cells": [
  {
   "cell_type": "code",
   "execution_count": 13,
   "metadata": {},
   "outputs": [],
   "source": [
    "# Definition for singly-linked list.\n",
    "# class ListNode(object):\n",
    "#     def __init__(self, val=0, next=None):\n",
    "#         self.val = val\n",
    "#         self.next = next\n",
    "class Solution(object):\n",
    "    def addTwoNumbers(self, l1, l2):\n",
    "        \"\"\"\n",
    "        :type l1: ListNode\n",
    "        :type l2: ListNode\n",
    "        :rtype: ListNode\n",
    "        \"\"\"\n",
    "        rem=0\n",
    "        ret=head=ListNode(0)\n",
    "        while(l1 or l2 or rem):\n",
    "            a= l1.val if l1 else 0\n",
    "            b= l2.val if l2 else 0\n",
    "            l1= l1.next if l1 else l1\n",
    "            l2= l2.next if l2 else l2\n",
    "            c=a+b+rem\n",
    "            if(c>9):\n",
    "                v=c%10\n",
    "                c=c//10\n",
    "                rem=c\n",
    "            else:\n",
    "                v=c\n",
    "                rem=0\n",
    "            node=ListNode(v)\n",
    "            ret.next=node\n",
    "            ret=node\n",
    "        return(head.next)\n"
   ]
  },
  {
   "cell_type": "code",
   "execution_count": 10,
   "metadata": {},
   "outputs": [
    {
     "name": "stdout",
     "output_type": "stream",
     "text": [
      "-- 7\n",
      "-- 0\n",
      "-- 8\n"
     ]
    }
   ],
   "source": [
    "# Definition for singly-linked list.\n",
    "class ListNode(object):\n",
    "    def __init__(self, val=0, next=None):\n",
    "        self.val = val\n",
    "        self.next = next\n",
    "class Solution(object):\n",
    "    def addTwoNumbers(self, l1, l2):\n",
    "        \"\"\"\n",
    "        :type l1: ListNode\n",
    "        :type l2: ListNode\n",
    "        :rtype: ListNode\n",
    "        \"\"\"\n",
    "        a=0\n",
    "        b=0\n",
    "        k=1\n",
    "        while(l1):\n",
    "            v=l1.val\n",
    "            v*=k\n",
    "            a+=v\n",
    "            l1=l1.next\n",
    "            k*=10\n",
    "        k=1\n",
    "        while(l2):\n",
    "            v=l2.val\n",
    "            v*=k\n",
    "            b+=v\n",
    "            l2=l2.next\n",
    "            k*=10\n",
    "        c=a+b\n",
    "        ret=head=ListNode(0)\n",
    "        while(c):\n",
    "            v=c%10\n",
    "            c//=10\n",
    "            node=ListNode(v)\n",
    "            ret.next=node\n",
    "            ret=node\n",
    "        return(head.next)   \n",
    "v=Solution()\n",
    "an=v.addTwoNumbers(a,d) \n",
    "while(an):\n",
    "    print(\"--\",an.val)\n",
    "    an=an.next"
   ]
  },
  {
   "cell_type": "code",
   "execution_count": 4,
   "metadata": {},
   "outputs": [],
   "source": [
    "a=ListNode(2)\n",
    "b=ListNode(4)\n",
    "c=ListNode(3)\n",
    "a.next=b\n",
    "b.next=c\n",
    "d=ListNode(5)\n",
    "e=ListNode(6)\n",
    "f=ListNode(4)\n",
    "d.next=e\n",
    "e.next=f"
   ]
  },
  {
   "cell_type": "code",
   "execution_count": null,
   "metadata": {},
   "outputs": [],
   "source": []
  }
 ],
 "metadata": {
  "interpreter": {
   "hash": "11ad92808b9e536a1bda76e6f18576c204b1bdc67c9013f7331a2b858d211f20"
  },
  "kernelspec": {
   "display_name": "Python 3.9.6 64-bit",
   "language": "python",
   "name": "python3"
  },
  "language_info": {
   "codemirror_mode": {
    "name": "ipython",
    "version": 3
   },
   "file_extension": ".py",
   "mimetype": "text/x-python",
   "name": "python",
   "nbconvert_exporter": "python",
   "pygments_lexer": "ipython3",
   "version": "3.9.6"
  },
  "orig_nbformat": 4
 },
 "nbformat": 4,
 "nbformat_minor": 2
}
