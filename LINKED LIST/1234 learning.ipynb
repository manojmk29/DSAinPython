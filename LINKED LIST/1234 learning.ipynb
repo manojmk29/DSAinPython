{
 "cells": [
  {
   "cell_type": "code",
   "execution_count": 1,
   "metadata": {},
   "outputs": [],
   "source": [
    "a={1:2,2:4,5:7,7:8}\n",
    "\n",
    "b=[]\n",
    "\n",
    "\n"
   ]
  },
  {
   "cell_type": "code",
   "execution_count": 3,
   "metadata": {},
   "outputs": [
    {
     "name": "stdout",
     "output_type": "stream",
     "text": [
      "1 --- 5\n",
      "2 --- 6\n"
     ]
    }
   ],
   "source": [
    "hmap={1:5,2:6}\n",
    "for i in hmap:\n",
    "    print(i,\"---\",hmap[i])"
   ]
  },
  {
   "cell_type": "code",
   "execution_count": 5,
   "metadata": {},
   "outputs": [
    {
     "name": "stdout",
     "output_type": "stream",
     "text": [
      "1 --- 5\n",
      "2 --- 6\n"
     ]
    }
   ],
   "source": [
    "for key,val in hmap.items():\n",
    "    print(key,\"---\",val)"
   ]
  },
  {
   "cell_type": "code",
   "execution_count": null,
   "metadata": {},
   "outputs": [],
   "source": [
    "arr=[2,3,4,7,6]\n",
    "tar=8\n",
    "hset=\n",
    "for i in "
   ]
  },
  {
   "cell_type": "code",
   "execution_count": 6,
   "metadata": {},
   "outputs": [],
   "source": [
    "hset={1,2,3,4}\n",
    "hmap={1:5,2:6}\n"
   ]
  },
  {
   "cell_type": "code",
   "execution_count": 12,
   "metadata": {},
   "outputs": [
    {
     "name": "stdout",
     "output_type": "stream",
     "text": [
      "4 2\n"
     ]
    }
   ],
   "source": [
    "arr=[1,2,3,4,5,6,7,8]\n",
    "hset={}\n",
    "tar=8\n",
    "n=len(arr)\n",
    "for i in range(n):\n",
    "    val=arr[i]\n",
    "    if tar-val in hset:\n",
    "        print(i,hset[tar-val])\n",
    "        break\n",
    "    hset[val]=i\n"
   ]
  },
  {
   "cell_type": "code",
   "execution_count": null,
   "metadata": {},
   "outputs": [],
   "source": []
  }
 ],
 "metadata": {
  "kernelspec": {
   "display_name": "Python 3.9.6 64-bit",
   "language": "python",
   "name": "python3"
  },
  "language_info": {
   "codemirror_mode": {
    "name": "ipython",
    "version": 3
   },
   "file_extension": ".py",
   "mimetype": "text/x-python",
   "name": "python",
   "nbconvert_exporter": "python",
   "pygments_lexer": "ipython3",
   "version": "3.9.6"
  },
  "orig_nbformat": 4,
  "vscode": {
   "interpreter": {
    "hash": "e26b106e6146fa3417b08aa501d422914abd065c08ced2fc57ef114abeab93c7"
   }
  }
 },
 "nbformat": 4,
 "nbformat_minor": 2
}
